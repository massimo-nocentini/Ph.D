{
 "cells": [
  {
   "cell_type": "markdown",
   "metadata": {},
   "source": [
    "# Some hints\n",
    "\n",
    "In what follows there are some hints about [substitutions] and useful facts. Some imports as usual:\n",
    "\n",
    "[substitutions]:http://docs.sympy.org/latest/tutorial/basic_operations.html#substitution"
   ]
  },
  {
   "cell_type": "code",
   "execution_count": 1,
   "metadata": {
    "collapsed": true
   },
   "outputs": [],
   "source": [
    "import sympy\n",
    "from sympy import *\n",
    "from sympy.abc import x, n, z, t\n",
    "\n",
    "init_printing() # for nice printing, a-la' TeX"
   ]
  },
  {
   "cell_type": "markdown",
   "metadata": {},
   "source": [
    "to build a recurrence in _math_ style:"
   ]
  },
  {
   "cell_type": "code",
   "execution_count": 2,
   "metadata": {
    "collapsed": false
   },
   "outputs": [
    {
     "data": {
      "image/png": "[encoded data removed]",
      "text/latex": [
       "$$a_{n + 1}$$"
      ],
      "text/plain": [
       "a[n + 1]"
      ]
     },
     "execution_count": 2,
     "metadata": {},
     "output_type": "execute_result"
    }
   ],
   "source": [
    "a = indexed.IndexedBase('a')\n",
    "a[n+1]"
   ]
  },
  {
   "cell_type": "markdown",
   "metadata": {},
   "source": [
    "to fill a recurrence in order to apply the Identity Principle:"
   ]
  },
  {
   "cell_type": "code",
   "execution_count": 70,
   "metadata": {
    "collapsed": false
   },
   "outputs": [
    {
     "data": {
      "image/png": "[encoded data removed]",
      "text/latex": [
       "$$\\left ( \\delta_{0 n}, \\quad 1, \\quad 0\\right )$$"
      ],
      "text/plain": [
       "⎛δ   , 1, 0⎞\n",
       "⎝ 0,n      ⎠"
      ]
     },
     "execution_count": 70,
     "metadata": {},
     "output_type": "execute_result"
    }
   ],
   "source": [
    "kd = KroneckerDelta(n,0)\n",
    "kd, kd.subs(n,0), kd.subs(n,3)"
   ]
  },
  {
   "cell_type": "markdown",
   "metadata": {},
   "source": [
    "to generate [permutations], provided by standard Python distribution. SymPy handles [permutations][perm-sympy] as first class objects.\n",
    "\n",
    "[permutations]:https://docs.python.org/3/library/itertools.html#itertools.permutations\n",
    "[perm-sympy]:http://docs.sympy.org/dev/modules/utilities/iterables.html#sympy.utilities.iterables.generate_bell"
   ]
  },
  {
   "cell_type": "code",
   "execution_count": 96,
   "metadata": {
    "collapsed": false
   },
   "outputs": [
    {
     "data": {
      "image/png": "[encoded data removed]",
      "text/latex": [
       "$$\\left [ \\left ( 0, \\quad 1, \\quad 2, \\quad 3, \\quad 4, \\quad 5, \\quad 6, \\quad 7, \\quad 8, \\quad 9\\right ), \\quad \\left ( 0, \\quad 1, \\quad 2, \\quad 3, \\quad 4, \\quad 5, \\quad 6, \\quad 7, \\quad 9, \\quad 8\\right ), \\quad \\left ( 0, \\quad 1, \\quad 2, \\quad 3, \\quad 4, \\quad 5, \\quad 6, \\quad 8, \\quad 7, \\quad 9\\right ), \\quad \\left ( 0, \\quad 1, \\quad 2, \\quad 3, \\quad 4, \\quad 5, \\quad 6, \\quad 8, \\quad 9, \\quad 7\\right ), \\quad \\left ( 0, \\quad 1, \\quad 2, \\quad 3, \\quad 4, \\quad 5, \\quad 6, \\quad 9, \\quad 7, \\quad 8\\right ), \\quad \\left ( 0, \\quad 1, \\quad 2, \\quad 3, \\quad 4, \\quad 5, \\quad 6, \\quad 9, \\quad 8, \\quad 7\\right ), \\quad \\left ( 0, \\quad 1, \\quad 2, \\quad 3, \\quad 4, \\quad 5, \\quad 7, \\quad 6, \\quad 8, \\quad 9\\right ), \\quad \\left ( 0, \\quad 1, \\quad 2, \\quad 3, \\quad 4, \\quad 5, \\quad 7, \\quad 6, \\quad 9, \\quad 8\\right ), \\quad \\left ( 0, \\quad 1, \\quad 2, \\quad 3, \\quad 4, \\quad 5, \\quad 7, \\quad 8, \\quad 6, \\quad 9\\right ), \\quad \\left ( 0, \\quad 1, \\quad 2, \\quad 3, \\quad 4, \\quad 5, \\quad 7, \\quad 8, \\quad 9, \\quad 6\\right )\\right ]$$"
      ],
      "text/plain": [
       "[(0, 1, 2, 3, 4, 5, 6, 7, 8, 9), (0, 1, 2, 3, 4, 5, 6, 7, 9, 8), (0, 1, 2, 3, \n",
       "4, 5, 6, 8, 7, 9), (0, 1, 2, 3, 4, 5, 6, 8, 9, 7), (0, 1, 2, 3, 4, 5, 6, 9, 7,\n",
       " 8), (0, 1, 2, 3, 4, 5, 6, 9, 8, 7), (0, 1, 2, 3, 4, 5, 7, 6, 8, 9), (0, 1, 2,\n",
       " 3, 4, 5, 7, 6, 9, 8), (0, 1, 2, 3, 4, 5, 7, 8, 6, 9), (0, 1, 2, 3, 4, 5, 7, 8\n",
       ", 9, 6)]"
      ]
     },
     "execution_count": 96,
     "metadata": {},
     "output_type": "execute_result"
    }
   ],
   "source": [
    "from itertools import permutations\n",
    "perms=permutations(range(10))\n",
    "[next(perms) for _ in range(10)]"
   ]
  },
  {
   "cell_type": "code",
   "execution_count": 77,
   "metadata": {
    "collapsed": false
   },
   "outputs": [
    {
     "name": "stdout",
     "output_type": "stream",
     "text": [
      "<class 'sympy.tensor.indexed.Indexed'> (a, n + 2)\n"
     ]
    },
    {
     "data": {
      "image/png": "[encoded data removed]",
      "text/latex": [
       "$$\\mathcal{C}{\\left (a_{n + 1} \\right )} - 4 a_{n} + a_{n - 1} = 2 a_{n} + 4$$"
      ],
      "text/plain": [
       "\\mathcal{C}(a[n + 1]) - 4⋅a[n] + a[n - 1] = 2⋅a[n] + 4"
      ]
     },
     "execution_count": 77,
     "metadata": {},
     "output_type": "execute_result"
    }
   ],
   "source": [
    "print(a[n+2].func,a[n+2].args)\n",
    "checks = Function('\\mathcal{C}')\n",
    "checks_recurrence = Eq(checks(a[n+1]) -4*a[n]+a[n-1], a[n]+a[n]+4)\n",
    "checks_recurrence"
   ]
  },
  {
   "cell_type": "code",
   "execution_count": 78,
   "metadata": {
    "collapsed": false
   },
   "outputs": [
    {
     "data": {
      "image/png": "[encoded data removed]",
      "text/latex": [
       "$$\\mathcal{C}{\\left (a_{n + 1} \\right )} + a_{n - 1} - 16 = 12$$"
      ],
      "text/plain": [
       "\\mathcal{C}(a[n + 1]) + a[n - 1] - 16 = 12"
      ]
     },
     "execution_count": 78,
     "metadata": {},
     "output_type": "execute_result"
    }
   ],
   "source": [
    "checks_recurrence.subs(a[n],4)"
   ]
  },
  {
   "cell_type": "code",
   "execution_count": 18,
   "metadata": {
    "collapsed": false
   },
   "outputs": [
    {
     "data": {
      "image/png": "[encoded data removed]",
      "text/latex": [
       "$$a_{n - 2}$$"
      ],
      "text/plain": [
       "a[n - 2]"
      ]
     },
     "execution_count": 18,
     "metadata": {},
     "output_type": "execute_result"
    }
   ],
   "source": [
    "a[n+1].subs(n+1,n-2)"
   ]
  },
  {
   "cell_type": "code",
   "execution_count": 82,
   "metadata": {
    "collapsed": false
   },
   "outputs": [
    {
     "data": {
      "image/png": "[encoded data removed]",
      "text/latex": [
       "$$\\left ( \\left [ 0, \\quad 1, \\quad \\frac{3}{2}, \\quad \\frac{11}{6}, \\quad \\frac{25}{12}, \\quad \\frac{137}{60}, \\quad \\frac{49}{20}, \\quad \\frac{363}{140}, \\quad \\frac{761}{280}, \\quad \\frac{7129}{2520}\\right ], \\quad \\sum_{k=1}^{n} \\frac{1}{k}, \\quad \\operatorname{harmonic}{\\left (n \\right )}, \\quad \\operatorname{harmonic}{\\left (n \\right )}\\right )$$"
      ],
      "text/plain": [
       "⎛                                                  n                          \n",
       "⎜                                                 ____                        \n",
       "⎜                                                 ╲                           \n",
       "⎜                                                  ╲   1                      \n",
       "⎜⎡                 25  137  49  363  761  7129⎤     ╲  ─                      \n",
       "⎜⎢0, 1, 3/2, 11/6, ──, ───, ──, ───, ───, ────⎥,    ╱  k, harmonic(n), harmoni\n",
       "⎜⎣                 12   60  20  140  280  2520⎦    ╱                          \n",
       "⎜                                                 ╱                           \n",
       "⎜                                                 ‾‾‾‾                        \n",
       "⎝                                                k = 1                        \n",
       "\n",
       "    ⎞\n",
       "    ⎟\n",
       "    ⎟\n",
       "    ⎟\n",
       "    ⎟\n",
       "c(n)⎟\n",
       "    ⎟\n",
       "    ⎟\n",
       "    ⎟\n",
       "    ⎠"
      ]
     },
     "execution_count": 82,
     "metadata": {},
     "output_type": "execute_result"
    }
   ],
   "source": [
    "H_as_sum = harmonic(n).rewrite(Sum)\n",
    "list(map(harmonic, range(10))), H_as_sum, harmonic(n), harmonic(n).doit().expand()"
   ]
  },
  {
   "cell_type": "markdown",
   "metadata": {},
   "source": [
    "take the [limit] should yield a constant, in particular the [EulerGamma] constant:\n",
    "\n",
    "[limit]:http://docs.sympy.org/dev/modules/mpmath/calculus/sums_limits.html#limit\n",
    "[EulerGamma]:http://docs.sympy.org/dev/modules/core.html?highlight=eulergamma#sympy.core.numbers.EulerGamma"
   ]
  },
  {
   "cell_type": "code",
   "execution_count": 103,
   "metadata": {
    "collapsed": false
   },
   "outputs": [
    {
     "data": {
      "image/png": "[encoded data removed]",
      "text/latex": [
       "$$\\gamma$$"
      ],
      "text/plain": [
       "EulerGamma"
      ]
     },
     "execution_count": 103,
     "metadata": {},
     "output_type": "execute_result"
    }
   ],
   "source": [
    "should_be_a_EulerGamma_const=(H_as_sum.doit() - log(n)).limit(n,oo)\n",
    "should_be_a_EulerGamma_const"
   ]
  },
  {
   "cell_type": "code",
   "execution_count": 69,
   "metadata": {
    "collapsed": false
   },
   "outputs": [
    {
     "data": {
      "text/plain": [
       "(0.577215664901533, sympy.core.numbers.EulerGamma)"
      ]
     },
     "execution_count": 69,
     "metadata": {},
     "output_type": "execute_result"
    }
   ],
   "source": [
    "should_be_a_EulerGamma_const.evalf(), type(should_be_a_EulerGamma_const)"
   ]
  },
  {
   "cell_type": "code",
   "execution_count": 100,
   "metadata": {
    "collapsed": false
   },
   "outputs": [
    {
     "data": {
      "text/plain": [
       "<__main__.G at 0x7fb533088160>"
      ]
     },
     "execution_count": 100,
     "metadata": {},
     "output_type": "execute_result"
    }
   ],
   "source": [
    "class G():\n",
    "    def __init__(self, seq): ...\n",
    "        \n",
    "G(n*IndexedBase('a')[n]).differentiate()"
   ]
  },
  {
   "cell_type": "code",
   "execution_count": 110,
   "metadata": {
    "collapsed": false
   },
   "outputs": [
    {
     "data": {
      "image/png": "[encoded data removed]",
      "text/latex": [
       "$$\\frac{1}{n} \\mathcal{G}{\\left (a_{n - 1} \\right )}$$"
      ],
      "text/plain": [
       "\\mathcal{G}(a[n - 1])\n",
       "─────────────────────\n",
       "          n          "
      ]
     },
     "execution_count": 110,
     "metadata": {},
     "output_type": "execute_result"
    }
   ],
   "source": [
    "G = Function('\\mathcal{G}');\n",
    "my_term=G(a[n])\n",
    "\n",
    "def differentiate(G_n_an):\n",
    "    # take apart G_n_an term\n",
    "    return G(a[n-1])/n\n",
    "\n",
    "differentiate(my_term)"
   ]
  },
  {
   "cell_type": "code",
   "execution_count": 121,
   "metadata": {
    "collapsed": false
   },
   "outputs": [
    {
     "data": {
      "image/png": "[encoded data removed]",
      "text/latex": [
       "$$\\left ( \\mathcal{C}{\\left (t \\right )} = \\frac{1}{- t + 1}, \\quad 1 + t + t^{2} + t^{3} + t^{4} + t^{5} + \\mathcal{O}\\left(t^{6}\\right)\\right )$$"
      ],
      "text/plain": [
       "⎛                   1              2    3    4    5    ⎛ 6⎞⎞\n",
       "⎜\\mathcal{C}(t) = ──────, 1 + t + t  + t  + t  + t  + O⎝t ⎠⎟\n",
       "⎝                 -t + 1                                   ⎠"
      ]
     },
     "execution_count": 121,
     "metadata": {},
     "output_type": "execute_result"
    }
   ],
   "source": [
    "mygf=Eq(Function('\\mathcal{C}')(t), 1/(1-t))\n",
    "mygf, mygf.rhs.series(t)"
   ]
  }
 ],
 "metadata": {
  "kernelspec": {
   "display_name": "Python 3",
   "language": "python",
   "name": "python3"
  },
  "language_info": {
   "codemirror_mode": {
    "name": "ipython",
    "version": 3
   },
   "file_extension": ".py",
   "mimetype": "text/x-python",
   "name": "python",
   "nbconvert_exporter": "python",
   "pygments_lexer": "ipython3",
   "version": "3.5.0"
  }
 },
 "nbformat": 4,
 "nbformat_minor": 0
}
