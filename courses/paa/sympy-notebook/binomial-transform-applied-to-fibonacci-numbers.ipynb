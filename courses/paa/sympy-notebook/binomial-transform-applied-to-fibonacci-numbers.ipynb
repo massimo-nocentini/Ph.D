{
 "cells": [
  {
   "cell_type": "markdown",
   "metadata": {},
   "source": [
    "# An application of Binomial transform\n",
    "\n",
    "In this notebook we apply the [Binomial transform][on-oeis] to the Fibonacci numbers in order to substain the main [notebook][recurrence-notebook] where these numbers are studied in depth.\n",
    "\n",
    "[on-oeis]:https://oeis.org/wiki/Binomial_transform\n",
    "[recurrence-notebook]:http://nbviewer.jupyter.org/github/massimo-nocentini/PhD/blob/master/courses/paa/sympy-notebook/recurrences-unfolding.ipynb?flush_cache=true"
   ]
  },
  {
   "cell_type": "code",
   "execution_count": 36,
   "metadata": {
    "collapsed": true
   },
   "outputs": [],
   "source": [
    "import sympy\n",
    "from sympy import *\n",
    "from sympy.abc import x, n, z, t, k\n",
    "    \n",
    "init_printing() # for nice printing, a-la' TeX"
   ]
  },
  {
   "cell_type": "code",
   "execution_count": 26,
   "metadata": {
    "collapsed": false
   },
   "outputs": [
    {
     "data": {
      "image/png": "[encoded data removed]",
      "text/latex": [
       "$$\\left[\\begin{matrix}1 & 0 & 0 & 0 & 0 & 0 & 0 & 0 & 0\\\\0 & 1 & 0 & 0 & 0 & 0 & 0 & 0 & 0\\\\1 & 1 & 1 & 0 & 0 & 0 & 0 & 0 & 0\\\\-1 & 0 & 1 & 1 & 0 & 0 & 0 & 0 & 0\\\\1 & 0 & 0 & 1 & 1 & 0 & 0 & 0 & 0\\\\-1 & 0 & 0 & 0 & 1 & 1 & 0 & 0 & 0\\\\1 & 0 & 0 & 0 & 0 & 1 & 1 & 0 & 0\\\\-1 & 0 & 0 & 0 & 0 & 0 & 1 & 1 & 0\\\\1 & 0 & 0 & 0 & 0 & 0 & 0 & 1 & 1\\end{matrix}\\right]$$"
      ],
      "text/plain": [
       "⎡1   0  0  0  0  0  0  0  0⎤\n",
       "⎢                          ⎥\n",
       "⎢0   1  0  0  0  0  0  0  0⎥\n",
       "⎢                          ⎥\n",
       "⎢1   1  1  0  0  0  0  0  0⎥\n",
       "⎢                          ⎥\n",
       "⎢-1  0  1  1  0  0  0  0  0⎥\n",
       "⎢                          ⎥\n",
       "⎢1   0  0  1  1  0  0  0  0⎥\n",
       "⎢                          ⎥\n",
       "⎢-1  0  0  0  1  1  0  0  0⎥\n",
       "⎢                          ⎥\n",
       "⎢1   0  0  0  0  1  1  0  0⎥\n",
       "⎢                          ⎥\n",
       "⎢-1  0  0  0  0  0  1  1  0⎥\n",
       "⎢                          ⎥\n",
       "⎣1   0  0  0  0  0  0  1  1⎦"
      ]
     },
     "execution_count": 26,
     "metadata": {},
     "output_type": "execute_result"
    }
   ],
   "source": [
    "transforming_matrix = Matrix([\n",
    "        [1,0,0,0,0,0,0,0,0],\n",
    "        [0,1,0,0,0,0,0,0,0],\n",
    "        [1,1,1,0,0,0,0,0,0],\n",
    "        [-1,0,1,1,0,0,0,0,0],\n",
    "        [1,0,0,1,1,0,0,0,0],\n",
    "        [-1,0,0,0,1,1,0,0,0],\n",
    "        [1,0,0,0,0,1,1,0,0],\n",
    "        [-1,0,0,0,0,0,1,1,0],\n",
    "        [1,0,0,0,0,0,0,1,1]])\n",
    "\n",
    "transforming_matrix"
   ]
  },
  {
   "cell_type": "code",
   "execution_count": 28,
   "metadata": {
    "collapsed": false
   },
   "outputs": [
    {
     "data": {
      "image/png": "[encoded data removed]",
      "text/latex": [
       "$$\\left[\\begin{matrix}1 & 0 & 0 & 0 & 0 & 0 & 0 & 0 & 0\\\\0 & 1 & 0 & 0 & 0 & 0 & 0 & 0 & 0\\\\-1 & -1 & 1 & 0 & 0 & 0 & 0 & 0 & 0\\\\2 & 1 & -1 & 1 & 0 & 0 & 0 & 0 & 0\\\\-3 & -1 & 1 & -1 & 1 & 0 & 0 & 0 & 0\\\\4 & 1 & -1 & 1 & -1 & 1 & 0 & 0 & 0\\\\-5 & -1 & 1 & -1 & 1 & -1 & 1 & 0 & 0\\\\6 & 1 & -1 & 1 & -1 & 1 & -1 & 1 & 0\\\\-7 & -1 & 1 & -1 & 1 & -1 & 1 & -1 & 1\\end{matrix}\\right]$$"
      ],
      "text/plain": [
       "⎡1   0   0   0   0   0   0   0   0⎤\n",
       "⎢                                 ⎥\n",
       "⎢0   1   0   0   0   0   0   0   0⎥\n",
       "⎢                                 ⎥\n",
       "⎢-1  -1  1   0   0   0   0   0   0⎥\n",
       "⎢                                 ⎥\n",
       "⎢2   1   -1  1   0   0   0   0   0⎥\n",
       "⎢                                 ⎥\n",
       "⎢-3  -1  1   -1  1   0   0   0   0⎥\n",
       "⎢                                 ⎥\n",
       "⎢4   1   -1  1   -1  1   0   0   0⎥\n",
       "⎢                                 ⎥\n",
       "⎢-5  -1  1   -1  1   -1  1   0   0⎥\n",
       "⎢                                 ⎥\n",
       "⎢6   1   -1  1   -1  1   -1  1   0⎥\n",
       "⎢                                 ⎥\n",
       "⎣-7  -1  1   -1  1   -1  1   -1  1⎦"
      ]
     },
     "execution_count": 28,
     "metadata": {},
     "output_type": "execute_result"
    }
   ],
   "source": [
    "transforming_matrix**(-1)"
   ]
  },
  {
   "cell_type": "code",
   "execution_count": 3,
   "metadata": {
    "collapsed": false
   },
   "outputs": [
    {
     "data": {
      "image/png": "[encoded data removed]",
      "text/latex": [
       "$$1 + t^{2} - t^{3} + t^{4} - t^{5} + t^{6} - t^{7} + t^{8} - t^{9} + \\mathcal{O}\\left(t^{10}\\right)$$"
      ],
      "text/plain": [
       "     2    3    4    5    6    7    8    9    ⎛ 10⎞\n",
       "1 + t  - t  + t  - t  + t  - t  + t  - t  + O⎝t  ⎠"
      ]
     },
     "execution_count": 3,
     "metadata": {},
     "output_type": "execute_result"
    }
   ],
   "source": [
    "def gf(t): return t + 1/(1+t)\n",
    "\n",
    "gf(t).series(n=10)"
   ]
  },
  {
   "cell_type": "code",
   "execution_count": 6,
   "metadata": {
    "collapsed": false
   },
   "outputs": [
    {
     "data": {
      "image/png": "[encoded data removed]",
      "text/latex": [
       "$$t^{2} + 2 t^{3} - t^{5} + t^{6} - t^{8} + t^{9} + \\mathcal{O}\\left(t^{10}\\right)$$"
      ],
      "text/plain": [
       " 2      3    5    6    8    9    ⎛ 10⎞\n",
       "t  + 2⋅t  - t  + t  - t  + t  + O⎝t  ⎠"
      ]
     },
     "execution_count": 6,
     "metadata": {},
     "output_type": "execute_result"
    }
   ],
   "source": [
    "def h(t): return t*(1+2*t+t**2)/(1+t+t**2)\n",
    "\n",
    "(gf(t)*h(t)**2).series(n=10)"
   ]
  },
  {
   "cell_type": "code",
   "execution_count": 7,
   "metadata": {
    "collapsed": false
   },
   "outputs": [
    {
     "data": {
      "image/png": "[encoded data removed]",
      "text/latex": [
       "$$\\left[\\begin{matrix}1 & 0 & 0 & 0 & 0 & 0 & 0 & 0 & 0\\\\1 & 1 & 0 & 0 & 0 & 0 & 0 & 0 & 0\\\\1 & 2 & 1 & 0 & 0 & 0 & 0 & 0 & 0\\\\1 & 3 & 3 & 1 & 0 & 0 & 0 & 0 & 0\\\\1 & 4 & 6 & 4 & 1 & 0 & 0 & 0 & 0\\\\1 & 5 & 10 & 10 & 5 & 1 & 0 & 0 & 0\\\\1 & 6 & 15 & 20 & 15 & 6 & 1 & 0 & 0\\\\1 & 7 & 21 & 35 & 35 & 21 & 7 & 1 & 0\\\\1 & 8 & 28 & 56 & 70 & 56 & 28 & 8 & 1\\end{matrix}\\right]$$"
      ],
      "text/plain": [
       "⎡1  0  0   0   0   0   0   0  0⎤\n",
       "⎢                              ⎥\n",
       "⎢1  1  0   0   0   0   0   0  0⎥\n",
       "⎢                              ⎥\n",
       "⎢1  2  1   0   0   0   0   0  0⎥\n",
       "⎢                              ⎥\n",
       "⎢1  3  3   1   0   0   0   0  0⎥\n",
       "⎢                              ⎥\n",
       "⎢1  4  6   4   1   0   0   0  0⎥\n",
       "⎢                              ⎥\n",
       "⎢1  5  10  10  5   1   0   0  0⎥\n",
       "⎢                              ⎥\n",
       "⎢1  6  15  20  15  6   1   0  0⎥\n",
       "⎢                              ⎥\n",
       "⎢1  7  21  35  35  21  7   1  0⎥\n",
       "⎢                              ⎥\n",
       "⎣1  8  28  56  70  56  28  8  1⎦"
      ]
     },
     "execution_count": 7,
     "metadata": {},
     "output_type": "execute_result"
    }
   ],
   "source": [
    "pascal_matrix = Matrix([\n",
    "        [1,0,0,0,0,0,0,0,0],\n",
    "        [1,1,0,0,0,0,0,0,0],\n",
    "        [1,2,1,0,0,0,0,0,0],\n",
    "        [1,3,3,1,0,0,0,0,0],\n",
    "        [1,4,6,4,1,0,0,0,0],\n",
    "        [1,5,10,10,5,1,0,0,0],\n",
    "        [1,6,15,20,15,6,1,0,0],\n",
    "        [1,7,21,35,35,21,7,1,0],\n",
    "        [1,8,28,56,70,56,28,8,1]])\n",
    "pascal_matrix"
   ]
  },
  {
   "cell_type": "code",
   "execution_count": 8,
   "metadata": {
    "collapsed": false
   },
   "outputs": [
    {
     "data": {
      "image/png": "[encoded data removed]",
      "text/latex": [
       "$$\\left[\\begin{matrix}1 & 0 & 0 & 0 & 0 & 0 & 0 & 0 & 0\\\\1 & 1 & 0 & 0 & 0 & 0 & 0 & 0 & 0\\\\2 & 3 & 1 & 0 & 0 & 0 & 0 & 0 & 0\\\\3 & 6 & 4 & 1 & 0 & 0 & 0 & 0 & 0\\\\4 & 10 & 10 & 5 & 1 & 0 & 0 & 0 & 0\\\\5 & 15 & 20 & 15 & 6 & 1 & 0 & 0 & 0\\\\6 & 21 & 35 & 35 & 21 & 7 & 1 & 0 & 0\\\\7 & 28 & 56 & 70 & 56 & 28 & 8 & 1 & 0\\\\8 & 36 & 84 & 126 & 126 & 84 & 36 & 9 & 1\\end{matrix}\\right]$$"
      ],
      "text/plain": [
       "⎡1  0   0    0    0   0   0   0  0⎤\n",
       "⎢                                 ⎥\n",
       "⎢1  1   0    0    0   0   0   0  0⎥\n",
       "⎢                                 ⎥\n",
       "⎢2  3   1    0    0   0   0   0  0⎥\n",
       "⎢                                 ⎥\n",
       "⎢3  6   4    1    0   0   0   0  0⎥\n",
       "⎢                                 ⎥\n",
       "⎢4  10  10   5    1   0   0   0  0⎥\n",
       "⎢                                 ⎥\n",
       "⎢5  15  20  15    6   1   0   0  0⎥\n",
       "⎢                                 ⎥\n",
       "⎢6  21  35  35   21   7   1   0  0⎥\n",
       "⎢                                 ⎥\n",
       "⎢7  28  56  70   56   28  8   1  0⎥\n",
       "⎢                                 ⎥\n",
       "⎣8  36  84  126  126  84  36  9  1⎦"
      ]
     },
     "execution_count": 8,
     "metadata": {},
     "output_type": "execute_result"
    }
   ],
   "source": [
    "pascal_matrix * transforming_matrix"
   ]
  },
  {
   "cell_type": "code",
   "execution_count": 9,
   "metadata": {
    "collapsed": false
   },
   "outputs": [
    {
     "data": {
      "image/png": "[encoded data removed]",
      "text/latex": [
       "$$\\left[\\begin{matrix}1 & 0 & 0 & 0 & 0 & 0 & 0 & 0 & 0\\\\1 & 1 & 0 & 0 & 0 & 0 & 0 & 0 & 0\\\\3 & 3 & 1 & 0 & 0 & 0 & 0 & 0 & 0\\\\1 & 5 & 4 & 1 & 0 & 0 & 0 & 0 & 0\\\\3 & 7 & 9 & 5 & 1 & 0 & 0 & 0 & 0\\\\1 & 9 & 16 & 14 & 6 & 1 & 0 & 0 & 0\\\\3 & 11 & 25 & 30 & 20 & 7 & 1 & 0 & 0\\\\1 & 13 & 36 & 55 & 50 & 27 & 8 & 1 & 0\\\\3 & 15 & 49 & 91 & 105 & 77 & 35 & 9 & 1\\end{matrix}\\right]$$"
      ],
      "text/plain": [
       "⎡1  0   0   0    0   0   0   0  0⎤\n",
       "⎢                                ⎥\n",
       "⎢1  1   0   0    0   0   0   0  0⎥\n",
       "⎢                                ⎥\n",
       "⎢3  3   1   0    0   0   0   0  0⎥\n",
       "⎢                                ⎥\n",
       "⎢1  5   4   1    0   0   0   0  0⎥\n",
       "⎢                                ⎥\n",
       "⎢3  7   9   5    1   0   0   0  0⎥\n",
       "⎢                                ⎥\n",
       "⎢1  9   16  14   6   1   0   0  0⎥\n",
       "⎢                                ⎥\n",
       "⎢3  11  25  30  20   7   1   0  0⎥\n",
       "⎢                                ⎥\n",
       "⎢1  13  36  55  50   27  8   1  0⎥\n",
       "⎢                                ⎥\n",
       "⎣3  15  49  91  105  77  35  9  1⎦"
      ]
     },
     "execution_count": 9,
     "metadata": {},
     "output_type": "execute_result"
    }
   ],
   "source": [
    "transforming_matrix * pascal_matrix"
   ]
  },
  {
   "cell_type": "code",
   "execution_count": 22,
   "metadata": {
    "collapsed": false
   },
   "outputs": [
    {
     "data": {
      "image/png": "[encoded data removed]",
      "text/latex": [
       "$$\\left ( \\left[\\begin{matrix}0\\\\1\\\\1\\\\2\\\\3\\\\5\\\\8\\\\13\\\\21\\end{matrix}\\right], \\quad \\left[\\begin{matrix}f_{0}\\\\f_{1}\\\\f_{2}\\\\f_{3}\\\\f_{4}\\\\f_{5}\\\\f_{6}\\\\f_{7}\\\\f_{8}\\end{matrix}\\right]\\right )$$"
      ],
      "text/plain": [
       "⎛⎡0 ⎤, ⎡f[0]⎤⎞\n",
       "⎜⎢  ⎥  ⎢    ⎥⎟\n",
       "⎜⎢1 ⎥  ⎢f[1]⎥⎟\n",
       "⎜⎢  ⎥  ⎢    ⎥⎟\n",
       "⎜⎢1 ⎥  ⎢f[2]⎥⎟\n",
       "⎜⎢  ⎥  ⎢    ⎥⎟\n",
       "⎜⎢2 ⎥  ⎢f[3]⎥⎟\n",
       "⎜⎢  ⎥  ⎢    ⎥⎟\n",
       "⎜⎢3 ⎥  ⎢f[4]⎥⎟\n",
       "⎜⎢  ⎥  ⎢    ⎥⎟\n",
       "⎜⎢5 ⎥  ⎢f[5]⎥⎟\n",
       "⎜⎢  ⎥  ⎢    ⎥⎟\n",
       "⎜⎢8 ⎥  ⎢f[6]⎥⎟\n",
       "⎜⎢  ⎥  ⎢    ⎥⎟\n",
       "⎜⎢13⎥  ⎢f[7]⎥⎟\n",
       "⎜⎢  ⎥  ⎢    ⎥⎟\n",
       "⎝⎣21⎦  ⎣f[8]⎦⎠"
      ]
     },
     "execution_count": 22,
     "metadata": {},
     "output_type": "execute_result"
    }
   ],
   "source": [
    "f = IndexedBase('f')\n",
    "\n",
    "fib_matrix = Matrix([fibonacci(i) for i in range(9)])\n",
    "fib_matrix_sym = Matrix([f[i] for i in range(9)])\n",
    "\n",
    "fib_matrix, fib_matrix_sym"
   ]
  },
  {
   "cell_type": "code",
   "execution_count": 32,
   "metadata": {
    "collapsed": false
   },
   "outputs": [
    {
     "data": {
      "image/png": "[encoded data removed]",
      "text/latex": [
       "$$\\left ( \\left[\\begin{matrix}0\\\\1\\\\2\\\\3\\\\5\\\\8\\\\13\\\\21\\\\34\\end{matrix}\\right], \\quad \\left[\\begin{matrix}f_{0}\\\\f_{1}\\\\f_{0} + f_{1} + f_{2}\\\\- f_{0} + f_{2} + f_{3}\\\\f_{0} + f_{3} + f_{4}\\\\- f_{0} + f_{4} + f_{5}\\\\f_{0} + f_{5} + f_{6}\\\\- f_{0} + f_{6} + f_{7}\\\\f_{0} + f_{7} + f_{8}\\end{matrix}\\right], \\quad \\left[\\begin{matrix}0\\\\f_{1}\\\\f_{1} + f_{2}\\\\f_{2} + f_{3}\\\\f_{3} + f_{4}\\\\f_{4} + f_{5}\\\\f_{5} + f_{6}\\\\f_{6} + f_{7}\\\\f_{7} + f_{8}\\end{matrix}\\right], \\quad \\left[\\begin{matrix}0\\\\f_{1}\\\\f_{3}\\\\f_{4}\\\\f_{5}\\\\f_{6}\\\\f_{7}\\\\f_{8}\\\\f_{9}\\end{matrix}\\right]\\right )$$"
      ],
      "text/plain": [
       "⎛⎡0 ⎤, ⎡       f[0]        ⎤, ⎡     0     ⎤, ⎡ 0  ⎤⎞\n",
       "⎜⎢  ⎥  ⎢                   ⎥  ⎢           ⎥  ⎢    ⎥⎟\n",
       "⎜⎢1 ⎥  ⎢       f[1]        ⎥  ⎢   f[1]    ⎥  ⎢f[1]⎥⎟\n",
       "⎜⎢  ⎥  ⎢                   ⎥  ⎢           ⎥  ⎢    ⎥⎟\n",
       "⎜⎢2 ⎥  ⎢f[0] + f[1] + f[2] ⎥  ⎢f[1] + f[2]⎥  ⎢f[3]⎥⎟\n",
       "⎜⎢  ⎥  ⎢                   ⎥  ⎢           ⎥  ⎢    ⎥⎟\n",
       "⎜⎢3 ⎥  ⎢-f[0] + f[2] + f[3]⎥  ⎢f[2] + f[3]⎥  ⎢f[4]⎥⎟\n",
       "⎜⎢  ⎥  ⎢                   ⎥  ⎢           ⎥  ⎢    ⎥⎟\n",
       "⎜⎢5 ⎥  ⎢f[0] + f[3] + f[4] ⎥  ⎢f[3] + f[4]⎥  ⎢f[5]⎥⎟\n",
       "⎜⎢  ⎥  ⎢                   ⎥  ⎢           ⎥  ⎢    ⎥⎟\n",
       "⎜⎢8 ⎥  ⎢-f[0] + f[4] + f[5]⎥  ⎢f[4] + f[5]⎥  ⎢f[6]⎥⎟\n",
       "⎜⎢  ⎥  ⎢                   ⎥  ⎢           ⎥  ⎢    ⎥⎟\n",
       "⎜⎢13⎥  ⎢f[0] + f[5] + f[6] ⎥  ⎢f[5] + f[6]⎥  ⎢f[7]⎥⎟\n",
       "⎜⎢  ⎥  ⎢                   ⎥  ⎢           ⎥  ⎢    ⎥⎟\n",
       "⎜⎢21⎥  ⎢-f[0] + f[6] + f[7]⎥  ⎢f[6] + f[7]⎥  ⎢f[8]⎥⎟\n",
       "⎜⎢  ⎥  ⎢                   ⎥  ⎢           ⎥  ⎢    ⎥⎟\n",
       "⎝⎣34⎦  ⎣f[0] + f[7] + f[8] ⎦  ⎣f[7] + f[8]⎦  ⎣f[9]⎦⎠"
      ]
     },
     "execution_count": 32,
     "metadata": {},
     "output_type": "execute_result"
    }
   ],
   "source": [
    "a = Wild('a')\n",
    "std_prod = transforming_matrix * fib_matrix\n",
    "sym_prod = transforming_matrix * fib_matrix_sym\n",
    "\n",
    "std_prod, sym_prod, sym_prod.subs({f[0]:0}), sym_prod.subs({f[0]:0}).replace(f[a]+f[a+1],f[a+2])"
   ]
  },
  {
   "cell_type": "code",
   "execution_count": 40,
   "metadata": {
    "collapsed": false
   },
   "outputs": [
    {
     "data": {
      "image/png": "[encoded data removed]",
      "text/latex": [
       "$$\\left ( \\left[\\begin{matrix}0\\\\1\\\\4\\\\12\\\\33\\\\88\\\\232\\\\609\\\\1596\\end{matrix}\\right], \\quad \\left[\\begin{matrix}f_{0}\\\\f_{0} + f_{1}\\\\2 f_{0} + 3 f_{1} + f_{2}\\\\3 f_{0} + 6 f_{1} + 4 f_{2} + f_{3}\\\\4 f_{0} + 10 f_{1} + 10 f_{2} + 5 f_{3} + f_{4}\\\\5 f_{0} + 15 f_{1} + 20 f_{2} + 15 f_{3} + 6 f_{4} + f_{5}\\\\6 f_{0} + 21 f_{1} + 35 f_{2} + 35 f_{3} + 21 f_{4} + 7 f_{5} + f_{6}\\\\7 f_{0} + 28 f_{1} + 56 f_{2} + 70 f_{3} + 56 f_{4} + 28 f_{5} + 8 f_{6} + f_{7}\\\\8 f_{0} + 36 f_{1} + 84 f_{2} + 126 f_{3} + 126 f_{4} + 84 f_{5} + 36 f_{6} + 9 f_{7} + f_{8}\\end{matrix}\\right]\\right )$$"
      ],
      "text/plain": [
       "⎛⎡ 0  ⎤, ⎡                                        f[0]                        \n",
       "⎜⎢    ⎥  ⎢                                                                    \n",
       "⎜⎢ 1  ⎥  ⎢                                    f[0] + f[1]                     \n",
       "⎜⎢    ⎥  ⎢                                                                    \n",
       "⎜⎢ 4  ⎥  ⎢                               2⋅f[0] + 3⋅f[1] + f[2]               \n",
       "⎜⎢    ⎥  ⎢                                                                    \n",
       "⎜⎢ 12 ⎥  ⎢                          3⋅f[0] + 6⋅f[1] + 4⋅f[2] + f[3]           \n",
       "⎜⎢    ⎥  ⎢                                                                    \n",
       "⎜⎢ 33 ⎥  ⎢                     4⋅f[0] + 10⋅f[1] + 10⋅f[2] + 5⋅f[3] + f[4]     \n",
       "⎜⎢    ⎥  ⎢                                                                    \n",
       "⎜⎢ 88 ⎥  ⎢                5⋅f[0] + 15⋅f[1] + 20⋅f[2] + 15⋅f[3] + 6⋅f[4] + f[5]\n",
       "⎜⎢    ⎥  ⎢                                                                    \n",
       "⎜⎢232 ⎥  ⎢           6⋅f[0] + 21⋅f[1] + 35⋅f[2] + 35⋅f[3] + 21⋅f[4] + 7⋅f[5] +\n",
       "⎜⎢    ⎥  ⎢                                                                    \n",
       "⎜⎢609 ⎥  ⎢      7⋅f[0] + 28⋅f[1] + 56⋅f[2] + 70⋅f[3] + 56⋅f[4] + 28⋅f[5] + 8⋅f\n",
       "⎜⎢    ⎥  ⎢                                                                    \n",
       "⎝⎣1596⎦  ⎣8⋅f[0] + 36⋅f[1] + 84⋅f[2] + 126⋅f[3] + 126⋅f[4] + 84⋅f[5] + 36⋅f[6]\n",
       "\n",
       "                ⎤⎞\n",
       "                ⎥⎟\n",
       "                ⎥⎟\n",
       "                ⎥⎟\n",
       "                ⎥⎟\n",
       "                ⎥⎟\n",
       "                ⎥⎟\n",
       "                ⎥⎟\n",
       "                ⎥⎟\n",
       "                ⎥⎟\n",
       "                ⎥⎟\n",
       "                ⎥⎟\n",
       " f[6]           ⎥⎟\n",
       "                ⎥⎟\n",
       "[6] + f[7]      ⎥⎟\n",
       "                ⎥⎟\n",
       " + 9⋅f[7] + f[8]⎦⎠"
      ]
     },
     "execution_count": 40,
     "metadata": {},
     "output_type": "execute_result"
    }
   ],
   "source": [
    "rhs=pascal_matrix * transforming_matrix * fib_matrix\n",
    "rhs_sym = pascal_matrix * sym_prod\n",
    "rhs, rhs_sym"
   ]
  },
  {
   "cell_type": "code",
   "execution_count": 41,
   "metadata": {
    "collapsed": false
   },
   "outputs": [
    {
     "data": {
      "image/png": "[encoded data removed]",
      "text/latex": [
       "$$\\left ( \\left[\\begin{matrix}0\\\\1\\\\4\\\\12\\\\33\\\\88\\\\232\\\\609\\\\1596\\end{matrix}\\right], \\quad \\left[\\begin{matrix}f_{1} - 1\\\\f_{3} - 1\\\\f_{5} - 1\\\\f_{7} - 1\\\\f_{9} - 1\\\\f_{11} - 1\\\\f_{13} - 1\\\\f_{15} - 1\\\\f_{17} - 1\\end{matrix}\\right]\\right )$$"
      ],
      "text/plain": [
       "⎛⎡ 0  ⎤, ⎡f[1] - 1 ⎤⎞\n",
       "⎜⎢    ⎥  ⎢         ⎥⎟\n",
       "⎜⎢ 1  ⎥  ⎢f[3] - 1 ⎥⎟\n",
       "⎜⎢    ⎥  ⎢         ⎥⎟\n",
       "⎜⎢ 4  ⎥  ⎢f[5] - 1 ⎥⎟\n",
       "⎜⎢    ⎥  ⎢         ⎥⎟\n",
       "⎜⎢ 12 ⎥  ⎢f[7] - 1 ⎥⎟\n",
       "⎜⎢    ⎥  ⎢         ⎥⎟\n",
       "⎜⎢ 33 ⎥  ⎢f[9] - 1 ⎥⎟\n",
       "⎜⎢    ⎥  ⎢         ⎥⎟\n",
       "⎜⎢ 88 ⎥  ⎢f[11] - 1⎥⎟\n",
       "⎜⎢    ⎥  ⎢         ⎥⎟\n",
       "⎜⎢232 ⎥  ⎢f[13] - 1⎥⎟\n",
       "⎜⎢    ⎥  ⎢         ⎥⎟\n",
       "⎜⎢609 ⎥  ⎢f[15] - 1⎥⎟\n",
       "⎜⎢    ⎥  ⎢         ⎥⎟\n",
       "⎝⎣1596⎦  ⎣f[17] - 1⎦⎠"
      ]
     },
     "execution_count": 41,
     "metadata": {},
     "output_type": "execute_result"
    }
   ],
   "source": [
    "a_range = range(1,18,2)\n",
    "lhs=Matrix([fibonacci(i) for i in a_range]) - Matrix([1 for i in range(9)])\n",
    "lhs_sym=Matrix([f[i] for i in a_range]) - Matrix([1 for i in range(9)])\n",
    "lhs, lhs_sym"
   ]
  },
  {
   "cell_type": "code",
   "execution_count": 42,
   "metadata": {
    "collapsed": false
   },
   "outputs": [
    {
     "data": {
      "image/png": "[encoded data removed]",
      "text/latex": [
       "$$\\mathrm{True}$$"
      ],
      "text/plain": [
       "True"
      ]
     },
     "execution_count": 42,
     "metadata": {},
     "output_type": "execute_result"
    }
   ],
   "source": [
    "Eq(lhs,rhs)"
   ]
  },
  {
   "cell_type": "code",
   "execution_count": 44,
   "metadata": {
    "collapsed": false
   },
   "outputs": [
    {
     "data": {
      "image/png": "[encoded data removed]",
      "text/latex": [
       "$$\\left[\\begin{matrix}f_{1} - 1\\\\f_{3} - 1\\\\f_{5} - 1\\\\f_{7} - 1\\\\f_{9} - 1\\\\f_{11} - 1\\\\f_{13} - 1\\\\f_{15} - 1\\\\f_{17} - 1\\end{matrix}\\right] = \\left[\\begin{matrix}f_{0}\\\\f_{0} + f_{1}\\\\2 f_{0} + 3 f_{1} + f_{2}\\\\3 f_{0} + 6 f_{1} + 4 f_{2} + f_{3}\\\\4 f_{0} + 10 f_{1} + 10 f_{2} + 5 f_{3} + f_{4}\\\\5 f_{0} + 15 f_{1} + 20 f_{2} + 15 f_{3} + 6 f_{4} + f_{5}\\\\6 f_{0} + 21 f_{1} + 35 f_{2} + 35 f_{3} + 21 f_{4} + 7 f_{5} + f_{6}\\\\7 f_{0} + 28 f_{1} + 56 f_{2} + 70 f_{3} + 56 f_{4} + 28 f_{5} + 8 f_{6} + f_{7}\\\\8 f_{0} + 36 f_{1} + 84 f_{2} + 126 f_{3} + 126 f_{4} + 84 f_{5} + 36 f_{6} + 9 f_{7} + f_{8}\\end{matrix}\\right]$$"
      ],
      "text/plain": [
       "⎡f[1] - 1 ⎤ = ⎡                                        f[0]                   \n",
       "⎢         ⎥   ⎢                                                               \n",
       "⎢f[3] - 1 ⎥   ⎢                                    f[0] + f[1]                \n",
       "⎢         ⎥   ⎢                                                               \n",
       "⎢f[5] - 1 ⎥   ⎢                               2⋅f[0] + 3⋅f[1] + f[2]          \n",
       "⎢         ⎥   ⎢                                                               \n",
       "⎢f[7] - 1 ⎥   ⎢                          3⋅f[0] + 6⋅f[1] + 4⋅f[2] + f[3]      \n",
       "⎢         ⎥   ⎢                                                               \n",
       "⎢f[9] - 1 ⎥   ⎢                     4⋅f[0] + 10⋅f[1] + 10⋅f[2] + 5⋅f[3] + f[4]\n",
       "⎢         ⎥   ⎢                                                               \n",
       "⎢f[11] - 1⎥   ⎢                5⋅f[0] + 15⋅f[1] + 20⋅f[2] + 15⋅f[3] + 6⋅f[4] +\n",
       "⎢         ⎥   ⎢                                                               \n",
       "⎢f[13] - 1⎥   ⎢           6⋅f[0] + 21⋅f[1] + 35⋅f[2] + 35⋅f[3] + 21⋅f[4] + 7⋅f\n",
       "⎢         ⎥   ⎢                                                               \n",
       "⎢f[15] - 1⎥   ⎢      7⋅f[0] + 28⋅f[1] + 56⋅f[2] + 70⋅f[3] + 56⋅f[4] + 28⋅f[5] \n",
       "⎢         ⎥   ⎢                                                               \n",
       "⎣f[17] - 1⎦   ⎣8⋅f[0] + 36⋅f[1] + 84⋅f[2] + 126⋅f[3] + 126⋅f[4] + 84⋅f[5] + 36\n",
       "\n",
       "                     ⎤\n",
       "                     ⎥\n",
       "                     ⎥\n",
       "                     ⎥\n",
       "                     ⎥\n",
       "                     ⎥\n",
       "                     ⎥\n",
       "                     ⎥\n",
       "                     ⎥\n",
       "                     ⎥\n",
       " f[5]                ⎥\n",
       "                     ⎥\n",
       "[5] + f[6]           ⎥\n",
       "                     ⎥\n",
       "+ 8⋅f[6] + f[7]      ⎥\n",
       "                     ⎥\n",
       "⋅f[6] + 9⋅f[7] + f[8]⎦"
      ]
     },
     "execution_count": 44,
     "metadata": {},
     "output_type": "execute_result"
    }
   ],
   "source": [
    "eq_sym = Eq(lhs_sym, rhs_sym)\n",
    "eq_sym"
   ]
  },
  {
   "cell_type": "code",
   "execution_count": 46,
   "metadata": {
    "collapsed": false
   },
   "outputs": [
    {
     "data": {
      "image/png": "[encoded data removed]",
      "text/latex": [
       "$$\\mathrm{True}$$"
      ],
      "text/plain": [
       "True"
      ]
     },
     "execution_count": 46,
     "metadata": {},
     "output_type": "execute_result"
    }
   ],
   "source": [
    "fibs = {f[i]:fibonacci(i) for i in range(18)}\n",
    "eq_sym.subs(fibs)"
   ]
  }
 ],
 "metadata": {
  "kernelspec": {
   "display_name": "Python 3",
   "language": "python",
   "name": "python3"
  },
  "language_info": {
   "codemirror_mode": {
    "name": "ipython",
    "version": 3
   },
   "file_extension": ".py",
   "mimetype": "text/x-python",
   "name": "python",
   "nbconvert_exporter": "python",
   "pygments_lexer": "ipython3",
   "version": "3.5.1"
  }
 },
 "nbformat": 4,
 "nbformat_minor": 0
}
