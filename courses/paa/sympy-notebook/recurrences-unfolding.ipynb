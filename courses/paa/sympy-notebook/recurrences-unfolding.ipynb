{
 "cells": [
  {
   "cell_type": "markdown",
   "metadata": {},
   "source": [
    "# Recurrences unfolding"
   ]
  },
  {
   "cell_type": "code",
   "execution_count": 1,
   "metadata": {
    "collapsed": true
   },
   "outputs": [],
   "source": [
    "import sys\n",
    "\n",
    "sys.setrecursionlimit(10000)"
   ]
  },
  {
   "cell_type": "code",
   "execution_count": 2,
   "metadata": {
    "collapsed": true
   },
   "outputs": [],
   "source": [
    "%run \"recurrences.py\""
   ]
  },
  {
   "cell_type": "markdown",
   "metadata": {},
   "source": [
    "---"
   ]
  },
  {
   "cell_type": "code",
   "execution_count": 3,
   "metadata": {
    "collapsed": true
   },
   "outputs": [],
   "source": [
    "import sympy\n",
    "from sympy import *\n",
    "from sympy.abc import x, n, z, t, k\n",
    "\n",
    "init_printing() # for nice printing, a-la' TeX"
   ]
  },
  {
   "cell_type": "markdown",
   "metadata": {},
   "source": [
    "## Quicksort's checks recurrence"
   ]
  },
  {
   "cell_type": "code",
   "execution_count": 10,
   "metadata": {
    "collapsed": false
   },
   "outputs": [
    {
     "data": {
      "image/png": "[encoded data removed]",
      "text/latex": [
       "$$\\frac{c_{n}}{n + 1} = \\frac{2}{n + 1} + \\frac{1}{n} c_{n - 1}$$"
      ],
      "text/plain": [
       " c[n]     2     c[n - 1]\n",
       "───── = ───── + ────────\n",
       "n + 1   n + 1      n    "
      ]
     },
     "execution_count": 10,
     "metadata": {},
     "output_type": "execute_result"
    }
   ],
   "source": [
    "c = IndexedBase('c')\n",
    "checks_recurrence = Eq(c[n]/(n+1), 2/(n+1) + c[n-1]/n)\n",
    "checks_recurrence"
   ]
  },
  {
   "cell_type": "code",
   "execution_count": 11,
   "metadata": {
    "collapsed": true
   },
   "outputs": [],
   "source": [
    "checks_recurrence_spec=dict(recurrence_eq=checks_recurrence, indexed=c, index=n, terms_cache={})"
   ]
  },
  {
   "cell_type": "code",
   "execution_count": 12,
   "metadata": {
    "collapsed": true
   },
   "outputs": [],
   "source": [
    "unfolded = do_unfolding_steps(checks_recurrence_spec, steps=0)"
   ]
  },
  {
   "cell_type": "code",
   "execution_count": 13,
   "metadata": {
    "collapsed": false
   },
   "outputs": [
    {
     "data": {
      "image/png": "[encoded data removed]",
      "text/latex": [
       "$$\\frac{c_{n}}{n + 1} = \\frac{2}{n + 1} + \\frac{1}{n} c_{n - 1}$$"
      ],
      "text/plain": [
       " c[n]     2     c[n - 1]\n",
       "───── = ───── + ────────\n",
       "n + 1   n + 1      n    "
      ]
     },
     "execution_count": 13,
     "metadata": {},
     "output_type": "execute_result"
    }
   ],
   "source": [
    "project_recurrence_spec(unfolded, recurrence_eq=True)"
   ]
  },
  {
   "cell_type": "code",
   "execution_count": 16,
   "metadata": {
    "collapsed": false
   },
   "outputs": [
    {
     "data": {
      "image/png": "[encoded data removed]",
      "text/latex": [
       "$$\\frac{c_{n}}{n + 1} = \\frac{2}{n - 3} + \\frac{c_{n - 5}}{n - 4} + \\frac{2}{n + 1} + \\frac{2}{n} + \\frac{2}{n - 1} + \\frac{2}{n - 2}$$"
      ],
      "text/plain": [
       " c[n]     2     c[n - 5]     2     2     2       2  \n",
       "───── = ───── + ──────── + ───── + ─ + ───── + ─────\n",
       "n + 1   n - 3    n - 4     n + 1   n   n - 1   n - 2"
      ]
     },
     "execution_count": 16,
     "metadata": {},
     "output_type": "execute_result"
    }
   ],
   "source": [
    "unfolded = do_unfolding_steps(checks_recurrence_spec,4)\n",
    "recurrence_eq = project_recurrence_spec(unfolded, recurrence_eq=True)\n",
    "recurrence_eq"
   ]
  },
  {
   "cell_type": "code",
   "execution_count": 17,
   "metadata": {
    "collapsed": false
   },
   "outputs": [
    {
     "data": {
      "image/png": "[encoded data removed]",
      "text/latex": [
       "$$\\frac{c_{5}}{6} = c_{0} + \\frac{29}{10}$$"
      ],
      "text/plain": [
       "c[5]          29\n",
       "──── = c[0] + ──\n",
       " 6            10"
      ]
     },
     "execution_count": 17,
     "metadata": {},
     "output_type": "execute_result"
    }
   ],
   "source": [
    "recurrence_eq.subs(n,5)"
   ]
  },
  {
   "cell_type": "code",
   "execution_count": 18,
   "metadata": {
    "collapsed": true
   },
   "outputs": [],
   "source": [
    "boundary_conditions = {c[0]:Integer(0)}\n",
    "\n",
    "checks_recurrence_spec=dict(recurrence_eq=checks_recurrence, indexed=c, index=n, \n",
    "                            terms_cache=boundary_conditions)\n",
    "\n",
    "unfolded = do_unfolding_steps(checks_recurrence_spec, steps=4)"
   ]
  },
  {
   "cell_type": "code",
   "execution_count": 19,
   "metadata": {
    "collapsed": true
   },
   "outputs": [],
   "source": [
    "instantiated_rec_spec = base_instantiation(unfolded)"
   ]
  },
  {
   "cell_type": "code",
   "execution_count": 20,
   "metadata": {
    "collapsed": false
   },
   "outputs": [
    {
     "data": {
      "image/png": "[encoded data removed]",
      "text/latex": [
       "$$\\left ( \\left \\{ c_{0} : 0, \\quad \\frac{c_{1}}{2} : c_{0} + 1, \\quad \\frac{c_{2}}{3} : \\frac{c_{1}}{2} + \\frac{2}{3}, \\quad \\frac{c_{3}}{4} : \\frac{c_{2}}{3} + \\frac{1}{2}, \\quad \\frac{c_{4}}{5} : \\frac{c_{3}}{4} + \\frac{2}{5}\\right \\}, \\quad \\frac{c_{5}}{6} = c_{0} + \\frac{29}{10}\\right )$$"
      ],
      "text/plain": [
       "⎛⎧         c[1]            c[2]  c[1]   2  c[3]  c[2]   1  c[4]  c[3]   2⎫  c[\n",
       "⎜⎨c[0]: 0, ────: c[0] + 1, ────: ──── + ─, ────: ──── + ─, ────: ──── + ─⎬, ──\n",
       "⎝⎩          2               3     2     3   4     3     2   5     4     5⎭   6\n",
       "\n",
       "5]          29⎞\n",
       "── = c[0] + ──⎟\n",
       "            10⎠"
      ]
     },
     "execution_count": 20,
     "metadata": {},
     "output_type": "execute_result"
    }
   ],
   "source": [
    "project_recurrence_spec(instantiated_rec_spec, recurrence_eq=True, terms_cache=True)"
   ]
  },
  {
   "cell_type": "code",
   "execution_count": 21,
   "metadata": {
    "collapsed": true
   },
   "outputs": [],
   "source": [
    "fully_instantiated_spec = repeated_instantiating(instantiated_rec_spec)"
   ]
  },
  {
   "cell_type": "code",
   "execution_count": 22,
   "metadata": {
    "collapsed": false
   },
   "outputs": [
    {
     "data": {
      "image/png": "[encoded data removed]",
      "text/latex": [
       "$$\\left ( \\left \\{ c_{0} : 0, \\quad \\frac{c_{1}}{2} : 1, \\quad \\frac{c_{2}}{3} : \\frac{5}{3}, \\quad \\frac{c_{3}}{4} : \\frac{13}{6}, \\quad \\frac{c_{4}}{5} : \\frac{77}{30}\\right \\}, \\quad \\frac{c_{5}}{6} = \\frac{29}{10}\\right )$$"
      ],
      "text/plain": [
       "⎛⎧         c[1]     c[2]       c[3]        c[4]  77⎫  c[5]   29⎞\n",
       "⎜⎨c[0]: 0, ────: 1, ────: 5/3, ────: 13/6, ────: ──⎬, ──── = ──⎟\n",
       "⎝⎩          2        3          4           5    30⎭   6     10⎠"
      ]
     },
     "execution_count": 22,
     "metadata": {},
     "output_type": "execute_result"
    }
   ],
   "source": [
    "project_recurrence_spec(fully_instantiated_spec, recurrence_eq=True, terms_cache=True)"
   ]
  },
  {
   "cell_type": "code",
   "execution_count": 23,
   "metadata": {
    "collapsed": false
   },
   "outputs": [
    {
     "data": {
      "text/latex": [
       "\\begin{array}{c}\\frac{c_{1}}{2} = c_{0} + 1\\\\\n",
       "\\frac{c_{2}}{3} = c_{0} + \\frac{5}{3}\\\\\n",
       "\\frac{c_{3}}{4} = c_{0} + \\frac{13}{6}\\\\\n",
       "\\frac{c_{4}}{5} = c_{0} + \\frac{77}{30}\\\\\n",
       "\\frac{c_{5}}{6} = c_{0} + \\frac{29}{10}\\\\\n",
       "\\frac{c_{6}}{7} = c_{0} + \\frac{223}{70}\\\\\n",
       "\\frac{c_{7}}{8} = c_{0} + \\frac{481}{140}\\\\\n",
       "\\frac{c_{8}}{9} = c_{0} + \\frac{4609}{1260}\\\\\n",
       "\\frac{c_{9}}{10} = c_{0} + \\frac{4861}{1260}\\\\\n",
       "\\frac{c_{10}}{11} = c_{0} + \\frac{55991}{13860}\\\\\\end{array}"
      ],
      "text/plain": [
       "<IPython.core.display.Latex object>"
      ]
     },
     "execution_count": 23,
     "metadata": {},
     "output_type": "execute_result"
    }
   ],
   "source": [
    "ipython_latex(checks_recurrence_spec, times_range=range(10))"
   ]
  },
  {
   "cell_type": "markdown",
   "metadata": {},
   "source": [
    "## Quicksort's swaps recurrence"
   ]
  },
  {
   "cell_type": "code",
   "execution_count": 24,
   "metadata": {
    "collapsed": false
   },
   "outputs": [
    {
     "data": {
      "image/png": "[encoded data removed]",
      "text/latex": [
       "$$\\frac{s_{n}}{n + 1} = \\frac{1}{n} s_{n - 1} + \\frac{2 n - 3}{6 n \\left(n + 1\\right)}$$"
      ],
      "text/plain": [
       " s[n]   s[n - 1]     2⋅n - 3  \n",
       "───── = ──────── + ───────────\n",
       "n + 1      n       6⋅n⋅(n + 1)"
      ]
     },
     "execution_count": 24,
     "metadata": {},
     "output_type": "execute_result"
    }
   ],
   "source": [
    "s = IndexedBase('s')\n",
    "swaps_recurrence = Eq(s[n]/(n+1),s[n-1]/n + (2*n-3)/(6*n*(n+1)))\n",
    "swaps_recurrence"
   ]
  },
  {
   "cell_type": "code",
   "execution_count": 25,
   "metadata": {
    "collapsed": true
   },
   "outputs": [],
   "source": [
    "swaps_recurrence_spec=dict(recurrence_eq=swaps_recurrence, indexed=s, index=n, terms_cache={})"
   ]
  },
  {
   "cell_type": "code",
   "execution_count": 26,
   "metadata": {
    "collapsed": false
   },
   "outputs": [
    {
     "data": {
      "image/png": "[encoded data removed]",
      "text/latex": [
       "$$\\frac{s_{n}}{n + 1} = \\frac{s_{n - 5}}{n - 4} + \\frac{2 n - 11}{6 \\left(n - 4\\right) \\left(n - 3\\right)} + \\frac{2 n - 9}{6 \\left(n - 3\\right) \\left(n - 2\\right)} + \\frac{2 n - 7}{6 \\left(n - 2\\right) \\left(n - 1\\right)} + \\frac{2 n - 5}{6 n \\left(n - 1\\right)} + \\frac{2 n - 3}{6 n \\left(n + 1\\right)}$$"
      ],
      "text/plain": [
       " s[n]   s[n - 5]        2⋅n - 11            2⋅n - 9             2⋅n - 7       \n",
       "───── = ──────── + ───────────────── + ───────────────── + ───────────────── +\n",
       "n + 1    n - 4     6⋅(n - 4)⋅(n - 3)   6⋅(n - 3)⋅(n - 2)   6⋅(n - 2)⋅(n - 1)  \n",
       "\n",
       "   2⋅n - 5       2⋅n - 3  \n",
       " ─────────── + ───────────\n",
       " 6⋅n⋅(n - 1)   6⋅n⋅(n + 1)"
      ]
     },
     "execution_count": 26,
     "metadata": {},
     "output_type": "execute_result"
    }
   ],
   "source": [
    "unfolded = do_unfolding_steps(swaps_recurrence_spec, 4)\n",
    "recurrence_eq = project_recurrence_spec(unfolded, recurrence_eq=True)\n",
    "recurrence_eq"
   ]
  },
  {
   "cell_type": "code",
   "execution_count": 27,
   "metadata": {
    "collapsed": false
   },
   "outputs": [
    {
     "data": {
      "image/png": "[encoded data removed]",
      "text/latex": [
       "$$\\frac{s_{10}}{11} = \\frac{s_{5}}{6} + \\frac{12647}{83160}$$"
      ],
      "text/plain": [
       "s[10]   s[5]   12647\n",
       "───── = ──── + ─────\n",
       "  11     6     83160"
      ]
     },
     "execution_count": 27,
     "metadata": {},
     "output_type": "execute_result"
    }
   ],
   "source": [
    "recurrence_eq.subs(n,10)"
   ]
  },
  {
   "cell_type": "code",
   "execution_count": 28,
   "metadata": {
    "collapsed": false
   },
   "outputs": [
    {
     "data": {
      "image/png": "[encoded data removed]",
      "text/latex": [
       "$$\\left ( \\left \\{ \\frac{s_{1}}{2} : s_{0} - \\frac{1}{12}, \\quad \\frac{s_{2}}{3} : \\frac{s_{1}}{2} + \\frac{1}{36}, \\quad \\frac{s_{3}}{4} : \\frac{s_{2}}{3} + \\frac{1}{24}, \\quad \\frac{s_{4}}{5} : \\frac{s_{3}}{4} + \\frac{1}{24}\\right \\}, \\quad \\frac{s_{5}}{6} = s_{0} + \\frac{1}{15}\\right )$$"
      ],
      "text/plain": [
       "⎛⎧s[1]               s[2]  s[1]   1   s[3]  s[2]   1   s[4]  s[3]   1 ⎫  s[5] \n",
       "⎜⎨────: s[0] - 1/12, ────: ──── + ──, ────: ──── + ──, ────: ──── + ──⎬, ──── \n",
       "⎝⎩ 2                  3     2     36   4     3     24   5     4     24⎭   6   \n",
       "\n",
       "             ⎞\n",
       "= s[0] + 1/15⎟\n",
       "             ⎠"
      ]
     },
     "execution_count": 28,
     "metadata": {},
     "output_type": "execute_result"
    }
   ],
   "source": [
    "project_recurrence_spec(base_instantiation(unfolded), recurrence_eq=True, terms_cache=True)"
   ]
  },
  {
   "cell_type": "markdown",
   "metadata": {},
   "source": [
    "### With boundary conditions"
   ]
  },
  {
   "cell_type": "code",
   "execution_count": 29,
   "metadata": {
    "collapsed": false
   },
   "outputs": [
    {
     "data": {
      "image/png": "[encoded data removed]",
      "text/latex": [
       "$$\\left ( \\left \\{ s_{0} : 0, \\quad \\frac{s_{1}}{2} : - \\frac{1}{12}, \\quad \\frac{s_{2}}{3} : - \\frac{1}{18}, \\quad \\frac{s_{3}}{4} : - \\frac{1}{72}, \\quad \\frac{s_{4}}{5} : \\frac{1}{36}, \\quad \\frac{s_{5}}{6} : \\frac{1}{15}, \\quad \\frac{s_{6}}{7} : \\frac{43}{420}, \\quad \\frac{s_{7}}{8} : \\frac{227}{1680}, \\quad \\frac{s_{8}}{9} : \\frac{1249}{7560}\\right \\}, \\quad \\frac{s_{9}}{10} = \\frac{1459}{7560}\\right )$$"
      ],
      "text/plain": [
       "⎛⎧         s[1]         s[2]         s[3]         s[4]        s[5]        s[6]\n",
       "⎜⎨s[0]: 0, ────: -1/12, ────: -1/18, ────: -1/72, ────: 1/36, ────: 1/15, ────\n",
       "⎝⎩          2            3            4            5           6           7  \n",
       "\n",
       "   43  s[7]  227   s[8]  1249⎫  s[9]   1459⎞\n",
       ": ───, ────: ────, ────: ────⎬, ──── = ────⎟\n",
       "  420   8    1680   9    7560⎭   10    7560⎠"
      ]
     },
     "execution_count": 29,
     "metadata": {},
     "output_type": "execute_result"
    }
   ],
   "source": [
    "swaps_recurrence_spec=dict(recurrence_eq=swaps_recurrence, indexed=s, index=n, terms_cache={s[0]:Integer(0)})\n",
    "unfolded = do_unfolding_steps(swaps_recurrence_spec, steps=8)\n",
    "instantiated_rec_spec = base_instantiation(unfolded)\n",
    "fully_instantiated_spec = repeated_instantiating(instantiated_rec_spec)\n",
    "project_recurrence_spec(fully_instantiated_spec, recurrence_eq=True, terms_cache=True)"
   ]
  },
  {
   "cell_type": "code",
   "execution_count": 30,
   "metadata": {
    "collapsed": false
   },
   "outputs": [
    {
     "data": {
      "text/latex": [
       "\\begin{array}{c}\\frac{s_{1}}{2} = s_{0} - \\frac{1}{12}\\\\\n",
       "\\frac{s_{2}}{3} = s_{0} - \\frac{1}{18}\\\\\n",
       "\\frac{s_{3}}{4} = s_{0} - \\frac{1}{72}\\\\\n",
       "\\frac{s_{4}}{5} = s_{0} + \\frac{1}{36}\\\\\n",
       "\\frac{s_{5}}{6} = s_{0} + \\frac{1}{15}\\\\\n",
       "\\frac{s_{6}}{7} = s_{0} + \\frac{43}{420}\\\\\n",
       "\\frac{s_{7}}{8} = s_{0} + \\frac{227}{1680}\\\\\n",
       "\\frac{s_{8}}{9} = s_{0} + \\frac{1249}{7560}\\\\\n",
       "\\frac{s_{9}}{10} = s_{0} + \\frac{1459}{7560}\\\\\n",
       "\\frac{s_{10}}{11} = s_{0} + \\frac{18191}{83160}\\\\\\end{array}"
      ],
      "text/plain": [
       "<IPython.core.display.Latex object>"
      ]
     },
     "execution_count": 30,
     "metadata": {},
     "output_type": "execute_result"
    }
   ],
   "source": [
    "ipython_latex(swaps_recurrence_spec, times_range=range(10))"
   ]
  },
  {
   "cell_type": "markdown",
   "metadata": {},
   "source": [
    "## Fibonacci recurrence\n",
    "\n",
    "A nice picture is [here][fibonacci-oeis].\n",
    "\n",
    "[fibonacci-oeis]:http://oeis.org/A000045/a000045.html"
   ]
  },
  {
   "cell_type": "markdown",
   "metadata": {},
   "source": [
    "### Backwards subscripts"
   ]
  },
  {
   "cell_type": "code",
   "execution_count": 4,
   "metadata": {
    "collapsed": false
   },
   "outputs": [
    {
     "data": {
      "image/png": "[encoded data removed]",
      "text/latex": [
       "$$f_{n} = f_{n - 2} + f_{n - 1}$$"
      ],
      "text/plain": [
       "f[n] = f[n - 2] + f[n - 1]"
      ]
     },
     "execution_count": 4,
     "metadata": {},
     "output_type": "execute_result"
    }
   ],
   "source": [
    "f = IndexedBase('f')\n",
    "fibonacci_recurrence = Eq(f[n],f[n-1]+f[n-2])\n",
    "fibonacci_recurrence"
   ]
  },
  {
   "cell_type": "code",
   "execution_count": 32,
   "metadata": {
    "collapsed": false
   },
   "outputs": [
    {
     "data": {
      "image/png": "[encoded data removed]",
      "text/latex": [
       "$$\\left. f_{n} = f_{n - 2} + f_{n - 1} \\right|_{\\substack{ f_{n - 1}=f_{n - 3} + f_{n - 2} }}$$"
      ],
      "text/plain": [
       "(f[n] = f[n - 2] + f[n - 1])│                            \n",
       "                            │f[n - 1]=f[n - 3] + f[n - 2]"
      ]
     },
     "execution_count": 32,
     "metadata": {},
     "output_type": "execute_result"
    }
   ],
   "source": [
    "n2_subs = Subs(fibonacci_recurrence, f[n-1], f[n-3]+f[n-2])\n",
    "n2_subs"
   ]
  },
  {
   "cell_type": "code",
   "execution_count": 33,
   "metadata": {
    "collapsed": false
   },
   "outputs": [
    {
     "data": {
      "image/png": "[encoded data removed]",
      "text/latex": [
       "$$\\left. \\left. f_{n} = f_{n - 2} + f_{n - 1} \\right|_{\\substack{ f_{n - 1}=f_{n - 3} + f_{n - 2} }} \\right|_{\\substack{ f_{n - 2}=f_{n - 4} + f_{n - 3} }}$$"
      ],
      "text/plain": [
       "⎛(f[n] = f[n - 2] + f[n - 1])│                            ⎞│                  \n",
       "⎝                            │f[n - 1]=f[n - 3] + f[n - 2]⎠│f[n - 2]=f[n - 4] \n",
       "\n",
       "          \n",
       "+ f[n - 3]"
      ]
     },
     "execution_count": 33,
     "metadata": {},
     "output_type": "execute_result"
    }
   ],
   "source": [
    "n1_subs = Subs(n2_subs, f[n-2], f[n-4]+f[n-3])\n",
    "n1_subs"
   ]
  },
  {
   "cell_type": "code",
   "execution_count": 34,
   "metadata": {
    "collapsed": false
   },
   "outputs": [
    {
     "data": {
      "image/png": "[encoded data removed]",
      "text/latex": [
       "$$f_{n} = 2 f_{n - 4} + 3 f_{n - 3}$$"
      ],
      "text/plain": [
       "f[n] = 2⋅f[n - 4] + 3⋅f[n - 3]"
      ]
     },
     "execution_count": 34,
     "metadata": {},
     "output_type": "execute_result"
    }
   ],
   "source": [
    "n1_subs.doit()"
   ]
  },
  {
   "cell_type": "code",
   "execution_count": 35,
   "metadata": {
    "collapsed": false
   },
   "outputs": [
    {
     "data": {
      "image/png": "[encoded data removed]",
      "text/latex": [
       "$$\\left ( \\left. f_{n} = f_{n - 2} + f_{n - 1} \\right|_{\\substack{ f_{n - 1}=f_{n - 3} + f_{n - 2}\\\\ f_{n - 2}=f_{n - 4} + f_{n - 3} }}, \\quad f_{n} = 2 f_{n - 4} + 3 f_{n - 3}\\right )$$"
      ],
      "text/plain": [
       "⎛(f[n] = f[n - 2] + f[n - 1])│                                                \n",
       "⎝                            │f[n - 1]=f[n - 3] + f[n - 2], f[n - 2]=f[n - 4] \n",
       "\n",
       "          , f[n] = 2⋅f[n - 4] + 3⋅f[n - 3]⎞\n",
       "+ f[n - 3]                                ⎠"
      ]
     },
     "execution_count": 35,
     "metadata": {},
     "output_type": "execute_result"
    }
   ],
   "source": [
    "n_subs = Subs(fibonacci_recurrence, [f[n-1],f[n-2]], [f[n-3]+f[n-2], f[n-4]+f[n-3]], simultaneous=True)\n",
    "n_subs, n_subs.doit()"
   ]
  },
  {
   "cell_type": "code",
   "execution_count": 36,
   "metadata": {
    "collapsed": false
   },
   "outputs": [
    {
     "data": {
      "image/png": "[encoded data removed]",
      "text/latex": [
       "$$\\left ( f_{n} = f_{n - 2} + f_{n - 1}, \\quad \\left ( f_{n - 1}, \\quad f_{n - 2}\\right ), \\quad \\left ( f_{n - 3} + f_{n - 2}, \\quad f_{n - 4} + f_{n - 3}\\right )\\right )$$"
      ],
      "text/plain": [
       "(f[n] = f[n - 2] + f[n - 1], (f[n - 1], f[n - 2]), (f[n - 3] + f[n - 2], f[n -\n",
       " 4] + f[n - 3]))"
      ]
     },
     "execution_count": 36,
     "metadata": {},
     "output_type": "execute_result"
    }
   ],
   "source": [
    "n_subs.expr, n_subs.variables, n_subs.point"
   ]
  },
  {
   "cell_type": "code",
   "execution_count": 37,
   "metadata": {
    "collapsed": false
   },
   "outputs": [
    {
     "data": {
      "image/png": "[encoded data removed]",
      "text/latex": [
       "$$\\left ( f_{n} = f_{n - 2} + f_{n - 1}, \\quad \\left ( f_{n - 1}, \\quad f_{n - 2}\\right ), \\quad \\left ( f_{n - 3} + f_{n - 2}, \\quad f_{n - 4} + f_{n - 3}\\right )\\right )$$"
      ],
      "text/plain": [
       "(f[n] = f[n - 2] + f[n - 1], (f[n - 1], f[n - 2]), (f[n - 3] + f[n - 2], f[n -\n",
       " 4] + f[n - 3]))"
      ]
     },
     "execution_count": 37,
     "metadata": {},
     "output_type": "execute_result"
    }
   ],
   "source": [
    "n_subs.args"
   ]
  },
  {
   "cell_type": "code",
   "execution_count": 38,
   "metadata": {
    "collapsed": true
   },
   "outputs": [],
   "source": [
    "def do_simultaneous_subs(subs_term):\n",
    "    expr_term, variables, points, *_ = subs_term.args\n",
    "    substitutions = {k:v for k,v in zip(variables, points)}\n",
    "    return expr_term.subs(substitutions, simultaneous=True)"
   ]
  },
  {
   "cell_type": "code",
   "execution_count": 39,
   "metadata": {
    "collapsed": false
   },
   "outputs": [
    {
     "data": {
      "image/png": "[encoded data removed]",
      "text/latex": [
       "$$f_{n} = f_{n - 4} + 2 f_{n - 3} + f_{n - 2}$$"
      ],
      "text/plain": [
       "f[n] = f[n - 4] + 2⋅f[n - 3] + f[n - 2]"
      ]
     },
     "execution_count": 39,
     "metadata": {},
     "output_type": "execute_result"
    }
   ],
   "source": [
    "do_simultaneous_subs(n_subs)"
   ]
  },
  {
   "cell_type": "code",
   "execution_count": 40,
   "metadata": {
    "collapsed": false
   },
   "outputs": [
    {
     "data": {
      "image/png": "[encoded data removed]",
      "text/latex": [
       "$$\\left. f_{n} = f_{n - 2} + f_{n - 1} \\right|_{\\substack{ f_{n - 1}=f_{n - 3} + f_{n - 2} }}$$"
      ],
      "text/plain": [
       "(f[n] = f[n - 2] + f[n - 1])│                            \n",
       "                            │f[n - 1]=f[n - 3] + f[n - 2]"
      ]
     },
     "execution_count": 40,
     "metadata": {},
     "output_type": "execute_result"
    }
   ],
   "source": [
    "n1_subs.expr"
   ]
  },
  {
   "cell_type": "code",
   "execution_count": 41,
   "metadata": {
    "collapsed": false
   },
   "outputs": [
    {
     "data": {
      "image/png": "[encoded data removed]",
      "text/latex": [
       "$$\\left ( \\left. \\left. f_{n} = f_{n - 2} + f_{n - 1} \\right|_{\\substack{ f_{n - 1}=f_{n - 3} + f_{n - 2} }} \\right|_{\\substack{ f_{n - 2}=f_{n - 4} + f_{n - 3} }}, \\quad \\left. f_{n} = f_{n - 4} + f_{n - 3} + f_{n - 1} \\right|_{\\substack{ f_{n - 1}=f_{n - 4} + 2 f_{n - 3} }}, \\quad \\left [ f_{n} = f_{n - 2} + f_{n - 1}, \\quad \\left ( f_{n - 1}\\right ), \\quad \\left ( f_{n - 3} + f_{n - 2}\\right ), \\quad \\left ( f_{n - 2}\\right ), \\quad \\left ( f_{n - 4} + f_{n - 3}\\right )\\right ]\\right )$$"
      ],
      "text/plain": [
       "⎛⎛(f[n] = f[n - 2] + f[n - 1])│                            ⎞│                 \n",
       "⎝⎝                            │f[n - 1]=f[n - 3] + f[n - 2]⎠│f[n - 2]=f[n - 4]\n",
       "\n",
       "           , (f[n] = f[n - 4] + f[n - 3] + f[n - 1])│                         \n",
       " + f[n - 3]                                         │f[n - 1]=f[n - 4] + 2⋅f[n\n",
       "\n",
       "     , [f[n] = f[n - 2] + f[n - 1], (f[n - 1],), (f[n - 3] + f[n - 2],), (f[n \n",
       " - 3]                                                                         \n",
       "\n",
       "- 2],), (f[n - 4] + f[n - 3],)]⎞\n",
       "                               ⎠"
      ]
     },
     "execution_count": 41,
     "metadata": {},
     "output_type": "execute_result"
    }
   ],
   "source": [
    "n1_subs, do_simultaneous_subs(n1_subs), flatten(n1_subs.args, cls=Subs)"
   ]
  },
  {
   "cell_type": "code",
   "execution_count": 42,
   "metadata": {
    "collapsed": false
   },
   "outputs": [
    {
     "data": {
      "image/png": "[encoded data removed]",
      "text/latex": [
       "$$\\left ( ITE(Mod(n, 2) == 1, n + 1, n), \\quad 4, \\quad 4\\right )$$"
      ],
      "text/plain": [
       "(ITE(Mod(n, 2) == 1, n + 1, n), 4, 4)"
      ]
     },
     "execution_count": 42,
     "metadata": {},
     "output_type": "execute_result"
    }
   ],
   "source": [
    "ite_term = ITE(Eq(Mod(n,2),1), n+1, n)\n",
    "my_lambda_subs = Lambda(n, ite_term)\n",
    "ite_term,ite_term.subs(n,3),my_lambda_subs(3)"
   ]
  },
  {
   "cell_type": "code",
   "execution_count": 43,
   "metadata": {
    "collapsed": false
   },
   "outputs": [
    {
     "data": {
      "image/png": "[encoded data removed]",
      "text/latex": [
       "$$f_{2 n + 1} = ITE(Mod(n, 2) == 1, Subs(f[n]**2 + f[n + 1]**2, (f[n],), (2,)), Subs(f[n]**2 + f[n + 1]**2, (f[n + 1],), (3,)))$$"
      ],
      "text/plain": [
       "f[2*n + 1] = ITE(Mod(n, 2) == 1, Subs(f[n]**2 + f[n + 1]**2, (f[n],), (2,)), S\n",
       "ubs(f[n]**2 + f[n + 1]**2, (f[n + 1],), (3,)))"
      ]
     },
     "execution_count": 43,
     "metadata": {},
     "output_type": "execute_result"
    }
   ],
   "source": [
    "power_fib = Eq(f[2*n+1],ITE(Eq(Mod(n,2),1), Subs(f[n]**2+f[n+1]**2, f[n], 2), Subs(f[n]**2+f[n+1]**2, f[n+1], 3)))\n",
    "power_fib"
   ]
  },
  {
   "cell_type": "code",
   "execution_count": 44,
   "metadata": {
    "collapsed": false
   },
   "outputs": [
    {
     "data": {
      "image/png": "[encoded data removed]",
      "text/latex": [
       "$$\\left ( f_{15} = \\left. \\left(f_{7}\\right)^{2} + \\left(f_{8}\\right)^{2} \\right|_{\\substack{ f_{7}=2 }}, \\quad \\left. \\left(f_{1}\\right)^{2} + \\left(f_{2}\\right)^{2} \\right|_{\\substack{ f_{1}=2 }}\\right )$$"
      ],
      "text/plain": [
       "⎛        ⎛    2       2⎞│        ⎛    2       2⎞│      ⎞\n",
       "⎝f[15] = ⎝f[7]  + f[8] ⎠│f[7]=2, ⎝f[1]  + f[2] ⎠│f[1]=2⎠"
      ]
     },
     "execution_count": 44,
     "metadata": {},
     "output_type": "execute_result"
    }
   ],
   "source": [
    "power_fib.subs({n:7}), power_fib.subs({n:(n-1)/2}).rhs.subs({n:3})"
   ]
  },
  {
   "cell_type": "code",
   "execution_count": 45,
   "metadata": {
    "collapsed": false
   },
   "outputs": [
    {
     "data": {
      "image/png": "[encoded data removed]",
      "text/latex": [
       "$$\\left ( \\frac{Dummy_{273}}{2} - \\frac{1}{2}, \\quad \\frac{n}{2} - \\frac{1}{2}\\right )$$"
      ],
      "text/plain": [
       "⎛Dummy₂₇₃   1  n   1⎞\n",
       "⎜──────── - ─, ─ - ─⎟\n",
       "⎝   2       2  2   2⎠"
      ]
     },
     "execution_count": 45,
     "metadata": {},
     "output_type": "execute_result"
    }
   ],
   "source": [
    "d = Dummy()\n",
    "sol = solve(Eq(2*n+1,d),n)[0]\n",
    "sol, sol.subs(d,n)"
   ]
  },
  {
   "cell_type": "code",
   "execution_count": 46,
   "metadata": {
    "collapsed": false
   },
   "outputs": [
    {
     "data": {
      "image/png": "[encoded data removed]",
      "text/latex": [
       "$$f_{n} = 2 f_{n - 4} + 3 f_{n - 3}$$"
      ],
      "text/plain": [
       "f[n] = 2⋅f[n - 4] + 3⋅f[n - 3]"
      ]
     },
     "execution_count": 46,
     "metadata": {},
     "output_type": "execute_result"
    }
   ],
   "source": [
    "n_subs.doit()"
   ]
  },
  {
   "cell_type": "code",
   "execution_count": 47,
   "metadata": {
    "collapsed": false
   },
   "outputs": [
    {
     "data": {
      "image/png": "[encoded data removed]",
      "text/latex": [
       "$$\\left ( f_{n} = f_{n - 2} + f_{n - 1}, \\quad \\left ( f_{n - 1}, \\quad f_{n - 2}\\right ), \\quad \\left ( f_{n - 3} + f_{n - 2}, \\quad f_{n - 4} + f_{n - 3}\\right )\\right )$$"
      ],
      "text/plain": [
       "(f[n] = f[n - 2] + f[n - 1], (f[n - 1], f[n - 2]), (f[n - 3] + f[n - 2], f[n -\n",
       " 4] + f[n - 3]))"
      ]
     },
     "execution_count": 47,
     "metadata": {},
     "output_type": "execute_result"
    }
   ],
   "source": [
    "n_subs.args"
   ]
  },
  {
   "cell_type": "code",
   "execution_count": 5,
   "metadata": {
    "collapsed": true
   },
   "outputs": [],
   "source": [
    "fibonacci_recurrence_spec=dict(recurrence_eq=fibonacci_recurrence, indexed=f, index=n, terms_cache={})"
   ]
  },
  {
   "cell_type": "code",
   "execution_count": 6,
   "metadata": {
    "collapsed": false
   },
   "outputs": [
    {
     "data": {
      "image/png": "[encoded data removed]",
      "text/latex": [
       "$$f_{n} = f_{n - 15} + 4 f_{n - 14} + 5 f_{n - 13} + 2 f_{n - 12} + f_{n - 11} + f_{n - 10} + 2 f_{n - 14} + 8 f_{n - 13} + 10 f_{n - 12} + 4 f_{n - 11} + 2 f_{n - 10} + 2 f_{n - 9} + f_{n - 13} + 4 f_{n - 12} + 5 f_{n - 11} + 2 f_{n - 10} + f_{n - 9} + f_{n - 8} + f_{n - 8} + 2 f_{n - 7} + f_{n - 6} + f_{n - 7} + 2 f_{n - 6} + f_{n - 5} + 2 f_{n - 15} + 8 f_{n - 14} + 10 f_{n - 13} + 4 f_{n - 12} + 2 f_{n - 11} + 2 f_{n - 10} + f_{n - 16} + 4 f_{n - 15} + 5 f_{n - 14} + 2 f_{n - 13} + f_{n - 12} + f_{n - 11} + f_{n - 14} + 4 f_{n - 13} + 5 f_{n - 12} + 2 f_{n - 11} + f_{n - 10} + f_{n - 9} + 2 f_{n - 14} + 8 f_{n - 13} + 10 f_{n - 12} + 4 f_{n - 11} + 2 f_{n - 10} + 2 f_{n - 9} + f_{n - 15} + 4 f_{n - 14} + 5 f_{n - 13} + 2 f_{n - 12} + f_{n - 11} + f_{n - 10} + f_{n - 13} + 4 f_{n - 12} + 5 f_{n - 11} + 2 f_{n - 10} + f_{n - 9} + f_{n - 8}$$"
      ],
      "text/plain": [
       "f[n] = f[n - 15] + 4⋅f[n - 14] + 5⋅f[n - 13] + 2⋅f[n - 12] + f[n - 11] + f[n -\n",
       " 10] + 2⋅f[n - 14] + 8⋅f[n - 13] + 10⋅f[n - 12] + 4⋅f[n - 11] + 2⋅f[n - 10] + \n",
       "2⋅f[n - 9] + f[n - 13] + 4⋅f[n - 12] + 5⋅f[n - 11] + 2⋅f[n - 10] + f[n - 9] + \n",
       "f[n - 8] + f[n - 8] + 2⋅f[n - 7] + f[n - 6] + f[n - 7] + 2⋅f[n - 6] + f[n - 5]\n",
       " + 2⋅f[n - 15] + 8⋅f[n - 14] + 10⋅f[n - 13] + 4⋅f[n - 12] + 2⋅f[n - 11] + 2⋅f[\n",
       "n - 10] + f[n - 16] + 4⋅f[n - 15] + 5⋅f[n - 14] + 2⋅f[n - 13] + f[n - 12] + f[\n",
       "n - 11] + f[n - 14] + 4⋅f[n - 13] + 5⋅f[n - 12] + 2⋅f[n - 11] + f[n - 10] + f[\n",
       "n - 9] + 2⋅f[n - 14] + 8⋅f[n - 13] + 10⋅f[n - 12] + 4⋅f[n - 11] + 2⋅f[n - 10] \n",
       "+ 2⋅f[n - 9] + f[n - 15] + 4⋅f[n - 14] + 5⋅f[n - 13] + 2⋅f[n - 12] + f[n - 11]\n",
       " + f[n - 10] + f[n - 13] + 4⋅f[n - 12] + 5⋅f[n - 11] + 2⋅f[n - 10] + f[n - 9] \n",
       "+ f[n - 8]"
      ]
     },
     "execution_count": 6,
     "metadata": {},
     "output_type": "execute_result"
    }
   ],
   "source": [
    "unfolded = do_unfolding_steps(fibonacci_recurrence_spec, 3, first_order=False)\n",
    "recurrence_eq = project_recurrence_spec(unfolded, recurrence_eq=True)\n",
    "recurrence_eq"
   ]
  },
  {
   "cell_type": "code",
   "execution_count": 7,
   "metadata": {
    "collapsed": false
   },
   "outputs": [
    {
     "data": {
      "image/png": "[encoded data removed]",
      "text/latex": [
       "$$f_{n} = f_{n - 16} + 8 f_{n - 15} + 26 f_{n - 14} + 44 f_{n - 13} + 42 f_{n - 12} + 25 f_{n - 11} + 13 f_{n - 10} + 7 f_{n - 9} + 3 f_{n - 8} + 3 f_{n - 7} + 3 f_{n - 6} + f_{n - 5}$$"
      ],
      "text/plain": [
       "f[n] = f[n - 16] + 8⋅f[n - 15] + 26⋅f[n - 14] + 44⋅f[n - 13] + 42⋅f[n - 12] + \n",
       "25⋅f[n - 11] + 13⋅f[n - 10] + 7⋅f[n - 9] + 3⋅f[n - 8] + 3⋅f[n - 7] + 3⋅f[n - 6\n",
       "] + f[n - 5]"
      ]
     },
     "execution_count": 7,
     "metadata": {},
     "output_type": "execute_result"
    }
   ],
   "source": [
    "factored_recurrence_eq = project_recurrence_spec(factor_rhs_unfolded_rec(unfolded), recurrence_eq=True)\n",
    "factored_recurrence_eq"
   ]
  },
  {
   "cell_type": "code",
   "execution_count": 8,
   "metadata": {
    "collapsed": false
   },
   "outputs": [
    {
     "data": {
      "image/png": "[encoded data removed]",
      "text/latex": [
       "$$f_{16} = f_{0} + 8 f_{1} + 26 f_{2} + 44 f_{3} + 42 f_{4} + 25 f_{5} + 13 f_{6} + 7 f_{7} + 3 f_{8} + 3 f_{9} + 3 f_{10} + f_{11}$$"
      ],
      "text/plain": [
       "f[16] = f[0] + 8⋅f[1] + 26⋅f[2] + 44⋅f[3] + 42⋅f[4] + 25⋅f[5] + 13⋅f[6] + 7⋅f[\n",
       "7] + 3⋅f[8] + 3⋅f[9] + 3⋅f[10] + f[11]"
      ]
     },
     "execution_count": 8,
     "metadata": {},
     "output_type": "execute_result"
    }
   ],
   "source": [
    "factored_recurrence_eq.subs(n, 16)"
   ]
  },
  {
   "cell_type": "code",
   "execution_count": 9,
   "metadata": {
    "collapsed": false
   },
   "outputs": [
    {
     "data": {
      "image/png": "[encoded data removed]",
      "text/latex": [
       "$$\\left ( \\left \\{ f_{8} : f_{0} + 4 f_{1} + 5 f_{2} + 2 f_{3} + f_{4} + f_{5}, \\quad f_{9} : f_{1} + 4 f_{2} + 5 f_{3} + 2 f_{4} + f_{5} + f_{6}, \\quad f_{10} : f_{2} + 4 f_{3} + 5 f_{4} + 2 f_{5} + f_{6} + f_{7}, \\quad f_{11} : f_{3} + 4 f_{4} + 5 f_{5} + 2 f_{6} + f_{7} + f_{8}, \\quad f_{12} : f_{8} + 2 f_{9} + f_{10}, \\quad f_{13} : f_{9} + 2 f_{10} + f_{11}, \\quad f_{14} : f_{12} + f_{13}, \\quad f_{15} : f_{13} + f_{14}\\right \\}, \\quad f_{16} = f_{0} + 8 f_{1} + 26 f_{2} + 44 f_{3} + 42 f_{4} + 25 f_{5} + 13 f_{6} + 7 f_{7} + 3 f_{8} + 3 f_{9} + 3 f_{10} + f_{11}\\right )$$"
      ],
      "text/plain": [
       "({f[8]: f[0] + 4⋅f[1] + 5⋅f[2] + 2⋅f[3] + f[4] + f[5], f[9]: f[1] + 4⋅f[2] + 5\n",
       "⋅f[3] + 2⋅f[4] + f[5] + f[6], f[10]: f[2] + 4⋅f[3] + 5⋅f[4] + 2⋅f[5] + f[6] + \n",
       "f[7], f[11]: f[3] + 4⋅f[4] + 5⋅f[5] + 2⋅f[6] + f[7] + f[8], f[12]: f[8] + 2⋅f[\n",
       "9] + f[10], f[13]: f[9] + 2⋅f[10] + f[11], f[14]: f[12] + f[13], f[15]: f[13] \n",
       "+ f[14]}, f[16] = f[0] + 8⋅f[1] + 26⋅f[2] + 44⋅f[3] + 42⋅f[4] + 25⋅f[5] + 13⋅f\n",
       "[6] + 7⋅f[7] + 3⋅f[8] + 3⋅f[9] + 3⋅f[10] + f[11])"
      ]
     },
     "execution_count": 9,
     "metadata": {},
     "output_type": "execute_result"
    }
   ],
   "source": [
    "project_recurrence_spec(base_instantiation(unfolded), recurrence_eq=True, terms_cache=True)"
   ]
  },
  {
   "cell_type": "code",
   "execution_count": 10,
   "metadata": {
    "collapsed": false
   },
   "outputs": [
    {
     "data": {
      "text/latex": [
       "\\begin{array}{c}f_{2} = f_{0} + f_{1}\\\\\n",
       "f_{4} = f_{0} + 2 f_{1} + f_{2}\\\\\n",
       "f_{8} = f_{0} + 4 f_{1} + 5 f_{2} + 2 f_{3} + f_{4} + f_{5}\\\\\n",
       "f_{16} = f_{0} + 8 f_{1} + 26 f_{2} + 44 f_{3} + 42 f_{4} + 25 f_{5} + 13 f_{6} + 7 f_{7} + 3 f_{8} + 3 f_{9} + 3 f_{10} + f_{11}\\\\\n",
       "f_{32} = f_{0} + 16 f_{1} + 116 f_{2} + 504 f_{3} + 1464 f_{4} + 3010 f_{5} + 4546 f_{6} + 5218 f_{7} + 4755 f_{8} + 3635 f_{9} + 2438 f_{10} + 1473 f_{11} + 863 f_{12} + 541 f_{13} + 333 f_{14} + 177 f_{15} + 88 f_{16} + 49 f_{17} + 37 f_{18} + 34 f_{19} + 28 f_{20} + 17 f_{21} + 8 f_{22} + 4 f_{23} + f_{24}\\\\\\end{array}"
      ],
      "text/plain": [
       "<IPython.core.display.Latex object>"
      ]
     },
     "execution_count": 10,
     "metadata": {},
     "output_type": "execute_result"
    }
   ],
   "source": [
    "ipython_latex(fibonacci_recurrence_spec, times_range=range(5), first_order=False)"
   ]
  },
  {
   "cell_type": "code",
   "execution_count": 11,
   "metadata": {
    "collapsed": false
   },
   "outputs": [
    {
     "data": {
      "image/png": "[encoded data removed]",
      "text/latex": [
       "$$\\left \\{ f_{n - 16} : f_{n - 32} + 8 f_{n - 31} + 26 f_{n - 30} + 44 f_{n - 29} + 42 f_{n - 28} + 25 f_{n - 27} + 13 f_{n - 26} + 7 f_{n - 25} + 3 f_{n - 24} + 3 f_{n - 23} + 3 f_{n - 22} + f_{n - 21}, \\quad f_{n - 15} : f_{n - 31} + 8 f_{n - 30} + 26 f_{n - 29} + 44 f_{n - 28} + 42 f_{n - 27} + 25 f_{n - 26} + 13 f_{n - 25} + 7 f_{n - 24} + 3 f_{n - 23} + 3 f_{n - 22} + 3 f_{n - 21} + f_{n - 20}, \\quad f_{n - 14} : f_{n - 30} + 8 f_{n - 29} + 26 f_{n - 28} + 44 f_{n - 27} + 42 f_{n - 26} + 25 f_{n - 25} + 13 f_{n - 24} + 7 f_{n - 23} + 3 f_{n - 22} + 3 f_{n - 21} + 3 f_{n - 20} + f_{n - 19}, \\quad f_{n - 13} : f_{n - 29} + 8 f_{n - 28} + 26 f_{n - 27} + 44 f_{n - 26} + 42 f_{n - 25} + 25 f_{n - 24} + 13 f_{n - 23} + 7 f_{n - 22} + 3 f_{n - 21} + 3 f_{n - 20} + 3 f_{n - 19} + f_{n - 18}, \\quad f_{n - 12} : f_{n - 28} + 8 f_{n - 27} + 26 f_{n - 26} + 44 f_{n - 25} + 42 f_{n - 24} + 25 f_{n - 23} + 13 f_{n - 22} + 7 f_{n - 21} + 3 f_{n - 20} + 3 f_{n - 19} + 3 f_{n - 18} + f_{n - 17}, \\quad f_{n - 11} : f_{n - 27} + 8 f_{n - 26} + 26 f_{n - 25} + 44 f_{n - 24} + 42 f_{n - 23} + 25 f_{n - 22} + 13 f_{n - 21} + 7 f_{n - 20} + 3 f_{n - 19} + 3 f_{n - 18} + 3 f_{n - 17} + f_{n - 16}, \\quad f_{n - 10} : f_{n - 26} + 8 f_{n - 25} + 26 f_{n - 24} + 44 f_{n - 23} + 42 f_{n - 22} + 25 f_{n - 21} + 13 f_{n - 20} + 7 f_{n - 19} + 3 f_{n - 18} + 3 f_{n - 17} + 3 f_{n - 16} + f_{n - 15}, \\quad f_{n - 9} : f_{n - 25} + 8 f_{n - 24} + 26 f_{n - 23} + 44 f_{n - 22} + 42 f_{n - 21} + 25 f_{n - 20} + 13 f_{n - 19} + 7 f_{n - 18} + 3 f_{n - 17} + 3 f_{n - 16} + 3 f_{n - 15} + f_{n - 14}, \\quad f_{n - 8} : f_{n - 16} + 4 f_{n - 15} + 5 f_{n - 14} + 2 f_{n - 13} + f_{n - 12} + f_{n - 11}, \\quad f_{n - 7} : f_{n - 15} + 4 f_{n - 14} + 5 f_{n - 13} + 2 f_{n - 12} + f_{n - 11} + f_{n - 10}, \\quad f_{n - 6} : f_{n - 14} + 4 f_{n - 13} + 5 f_{n - 12} + 2 f_{n - 11} + f_{n - 10} + f_{n - 9}, \\quad f_{n - 5} : f_{n - 13} + 4 f_{n - 12} + 5 f_{n - 11} + 2 f_{n - 10} + f_{n - 9} + f_{n - 8}, \\quad f_{n - 4} : f_{n - 8} + 2 f_{n - 7} + f_{n - 6}, \\quad f_{n - 3} : f_{n - 7} + 2 f_{n - 6} + f_{n - 5}, \\quad f_{n - 2} : f_{n - 4} + f_{n - 3}, \\quad f_{n - 1} : f_{n - 3} + f_{n - 2}\\right \\}$$"
      ],
      "text/plain": [
       "{f[n - 16]: f[n - 32] + 8⋅f[n - 31] + 26⋅f[n - 30] + 44⋅f[n - 29] + 42⋅f[n - 2\n",
       "8] + 25⋅f[n - 27] + 13⋅f[n - 26] + 7⋅f[n - 25] + 3⋅f[n - 24] + 3⋅f[n - 23] + 3\n",
       "⋅f[n - 22] + f[n - 21], f[n - 15]: f[n - 31] + 8⋅f[n - 30] + 26⋅f[n - 29] + 44\n",
       "⋅f[n - 28] + 42⋅f[n - 27] + 25⋅f[n - 26] + 13⋅f[n - 25] + 7⋅f[n - 24] + 3⋅f[n \n",
       "- 23] + 3⋅f[n - 22] + 3⋅f[n - 21] + f[n - 20], f[n - 14]: f[n - 30] + 8⋅f[n - \n",
       "29] + 26⋅f[n - 28] + 44⋅f[n - 27] + 42⋅f[n - 26] + 25⋅f[n - 25] + 13⋅f[n - 24]\n",
       " + 7⋅f[n - 23] + 3⋅f[n - 22] + 3⋅f[n - 21] + 3⋅f[n - 20] + f[n - 19], f[n - 13\n",
       "]: f[n - 29] + 8⋅f[n - 28] + 26⋅f[n - 27] + 44⋅f[n - 26] + 42⋅f[n - 25] + 25⋅f\n",
       "[n - 24] + 13⋅f[n - 23] + 7⋅f[n - 22] + 3⋅f[n - 21] + 3⋅f[n - 20] + 3⋅f[n - 19\n",
       "] + f[n - 18], f[n - 12]: f[n - 28] + 8⋅f[n - 27] + 26⋅f[n - 26] + 44⋅f[n - 25\n",
       "] + 42⋅f[n - 24] + 25⋅f[n - 23] + 13⋅f[n - 22] + 7⋅f[n - 21] + 3⋅f[n - 20] + 3\n",
       "⋅f[n - 19] + 3⋅f[n - 18] + f[n - 17], f[n - 11]: f[n - 27] + 8⋅f[n - 26] + 26⋅\n",
       "f[n - 25] + 44⋅f[n - 24] + 42⋅f[n - 23] + 25⋅f[n - 22] + 13⋅f[n - 21] + 7⋅f[n \n",
       "- 20] + 3⋅f[n - 19] + 3⋅f[n - 18] + 3⋅f[n - 17] + f[n - 16], f[n - 10]: f[n - \n",
       "26] + 8⋅f[n - 25] + 26⋅f[n - 24] + 44⋅f[n - 23] + 42⋅f[n - 22] + 25⋅f[n - 21] \n",
       "+ 13⋅f[n - 20] + 7⋅f[n - 19] + 3⋅f[n - 18] + 3⋅f[n - 17] + 3⋅f[n - 16] + f[n -\n",
       " 15], f[n - 9]: f[n - 25] + 8⋅f[n - 24] + 26⋅f[n - 23] + 44⋅f[n - 22] + 42⋅f[n\n",
       " - 21] + 25⋅f[n - 20] + 13⋅f[n - 19] + 7⋅f[n - 18] + 3⋅f[n - 17] + 3⋅f[n - 16]\n",
       " + 3⋅f[n - 15] + f[n - 14], f[n - 8]: f[n - 16] + 4⋅f[n - 15] + 5⋅f[n - 14] + \n",
       "2⋅f[n - 13] + f[n - 12] + f[n - 11], f[n - 7]: f[n - 15] + 4⋅f[n - 14] + 5⋅f[n\n",
       " - 13] + 2⋅f[n - 12] + f[n - 11] + f[n - 10], f[n - 6]: f[n - 14] + 4⋅f[n - 13\n",
       "] + 5⋅f[n - 12] + 2⋅f[n - 11] + f[n - 10] + f[n - 9], f[n - 5]: f[n - 13] + 4⋅\n",
       "f[n - 12] + 5⋅f[n - 11] + 2⋅f[n - 10] + f[n - 9] + f[n - 8], f[n - 4]: f[n - 8\n",
       "] + 2⋅f[n - 7] + f[n - 6], f[n - 3]: f[n - 7] + 2⋅f[n - 6] + f[n - 5], f[n - 2\n",
       "]: f[n - 4] + f[n - 3], f[n - 1]: f[n - 3] + f[n - 2]}"
      ]
     },
     "execution_count": 11,
     "metadata": {},
     "output_type": "execute_result"
    }
   ],
   "source": [
    "cached_terms = project_recurrence_spec(fibonacci_recurrence_spec, terms_cache=True)\n",
    "cached_terms"
   ]
  },
  {
   "cell_type": "code",
   "execution_count": 12,
   "metadata": {
    "collapsed": false
   },
   "outputs": [
    {
     "data": {
      "image/png": "[encoded data removed]",
      "text/latex": [
       "$$\\left \\{ f_{0} : 0, \\quad f_{1} : 1, \\quad f_{2} : 1, \\quad f_{3} : 2, \\quad f_{4} : 3, \\quad f_{5} : 5, \\quad f_{6} : 8, \\quad f_{7} : 13, \\quad f_{8} : 21, \\quad f_{9} : 34, \\quad f_{10} : 55, \\quad f_{11} : 89, \\quad f_{12} : 144, \\quad f_{13} : 233, \\quad f_{14} : 377, \\quad f_{15} : 610, \\quad f_{16} : 987, \\quad f_{17} : 1597, \\quad f_{18} : 2584, \\quad f_{19} : 4181, \\quad f_{20} : 6765, \\quad f_{21} : 10946, \\quad f_{22} : 17711, \\quad f_{23} : 28657, \\quad f_{24} : 46368, \\quad f_{25} : 75025, \\quad f_{26} : 121393, \\quad f_{27} : 196418, \\quad f_{28} : 317811, \\quad f_{29} : 514229, \\quad f_{30} : 832040, \\quad f_{31} : 1346269, \\quad f_{32} : 2178309, \\quad f_{33} : 3524578, \\quad f_{34} : 5702887, \\quad f_{35} : 9227465, \\quad f_{36} : 14930352, \\quad f_{37} : 24157817, \\quad f_{38} : 39088169, \\quad f_{39} : 63245986, \\quad f_{40} : 102334155, \\quad f_{41} : 165580141, \\quad f_{42} : 267914296, \\quad f_{43} : 433494437, \\quad f_{44} : 701408733, \\quad f_{45} : 1134903170, \\quad f_{46} : 1836311903, \\quad f_{47} : 2971215073, \\quad f_{48} : 4807526976, \\quad f_{49} : 7778742049, \\quad f_{50} : 12586269025\\right \\}$$"
      ],
      "text/plain": [
       "{f[0]: 0, f[1]: 1, f[2]: 1, f[3]: 2, f[4]: 3, f[5]: 5, f[6]: 8, f[7]: 13, f[8]\n",
       ": 21, f[9]: 34, f[10]: 55, f[11]: 89, f[12]: 144, f[13]: 233, f[14]: 377, f[15\n",
       "]: 610, f[16]: 987, f[17]: 1597, f[18]: 2584, f[19]: 4181, f[20]: 6765, f[21]:\n",
       " 10946, f[22]: 17711, f[23]: 28657, f[24]: 46368, f[25]: 75025, f[26]: 121393,\n",
       " f[27]: 196418, f[28]: 317811, f[29]: 514229, f[30]: 832040, f[31]: 1346269, f\n",
       "[32]: 2178309, f[33]: 3524578, f[34]: 5702887, f[35]: 9227465, f[36]: 14930352\n",
       ", f[37]: 24157817, f[38]: 39088169, f[39]: 63245986, f[40]: 102334155, f[41]: \n",
       "165580141, f[42]: 267914296, f[43]: 433494437, f[44]: 701408733, f[45]: 113490\n",
       "3170, f[46]: 1836311903, f[47]: 2971215073, f[48]: 4807526976, f[49]: 77787420\n",
       "49, f[50]: 12586269025}"
      ]
     },
     "execution_count": 12,
     "metadata": {},
     "output_type": "execute_result"
    }
   ],
   "source": [
    "fibs = {f[i]:fibonacci(i) for i in range(0,51)}\n",
    "fibs"
   ]
  },
  {
   "cell_type": "code",
   "execution_count": 13,
   "metadata": {
    "collapsed": false
   },
   "outputs": [
    {
     "data": {
      "image/png": "[encoded data removed]",
      "text/latex": [
       "$$f_{n - 5} = f_{n - 13} + 4 f_{n - 12} + 5 f_{n - 11} + 2 f_{n - 10} + f_{n - 9} + f_{n - 8}$$"
      ],
      "text/plain": [
       "f[n - 5] = f[n - 13] + 4⋅f[n - 12] + 5⋅f[n - 11] + 2⋅f[n - 10] + f[n - 9] + f[\n",
       "n - 8]"
      ]
     },
     "execution_count": 13,
     "metadata": {},
     "output_type": "execute_result"
    }
   ],
   "source": [
    "fib_term = f[n-5]\n",
    "fib_eq = Eq(fib_term,cached_terms[fib_term])\n",
    "fib_eq"
   ]
  },
  {
   "cell_type": "code",
   "execution_count": 14,
   "metadata": {
    "collapsed": false
   },
   "outputs": [
    {
     "data": {
      "image/png": "[encoded data removed]",
      "text/latex": [
       "$$f_{45} = f_{37} + 4 f_{38} + 5 f_{39} + 2 f_{40} + f_{41} + f_{42}$$"
      ],
      "text/plain": [
       "f[45] = f[37] + 4⋅f[38] + 5⋅f[39] + 2⋅f[40] + f[41] + f[42]"
      ]
     },
     "execution_count": 14,
     "metadata": {},
     "output_type": "execute_result"
    }
   ],
   "source": [
    "instantiated_eq = fib_eq.subs({n:50})\n",
    "instantiated_eq"
   ]
  },
  {
   "cell_type": "code",
   "execution_count": 15,
   "metadata": {
    "collapsed": false
   },
   "outputs": [
    {
     "data": {
      "image/png": "[encoded data removed]",
      "text/latex": [
       "$$\\mathrm{True}$$"
      ],
      "text/plain": [
       "True"
      ]
     },
     "execution_count": 15,
     "metadata": {},
     "output_type": "execute_result"
    }
   ],
   "source": [
    "instantiated_eq.subs(fibs)"
   ]
  },
  {
   "cell_type": "code",
   "execution_count": 16,
   "metadata": {
    "collapsed": false
   },
   "outputs": [
    {
     "data": {
      "image/png": "[encoded data removed]",
      "text/latex": [
       "$$f_{n} = f_{n - 8} + 4 f_{n - 7} + 6 f_{n - 6} + 4 f_{n - 5} + f_{n - 4}$$"
      ],
      "text/plain": [
       "f[n] = f[n - 8] + 4⋅f[n - 7] + 6⋅f[n - 6] + 4⋅f[n - 5] + f[n - 4]"
      ]
     },
     "execution_count": 16,
     "metadata": {},
     "output_type": "execute_result"
    }
   ],
   "source": [
    "maybe_fib = Eq(f[n],f[n-8]+4*f[n-7]+6*f[n-6]+4*f[n-5]+f[n-4])\n",
    "maybe_fib"
   ]
  },
  {
   "cell_type": "code",
   "execution_count": 19,
   "metadata": {
    "collapsed": false
   },
   "outputs": [
    {
     "data": {
      "image/png": "[encoded data removed]",
      "text/latex": [
       "$$f_{45} = f_{37} + 4 f_{38} + 6 f_{39} + 4 f_{40} + f_{41}$$"
      ],
      "text/plain": [
       "f[45] = f[37] + 4⋅f[38] + 6⋅f[39] + 4⋅f[40] + f[41]"
      ]
     },
     "execution_count": 19,
     "metadata": {},
     "output_type": "execute_result"
    }
   ],
   "source": [
    "maybe_fib_instantiated = maybe_fib.subs({n:45})\n",
    "maybe_fib_instantiated"
   ]
  },
  {
   "cell_type": "code",
   "execution_count": 20,
   "metadata": {
    "collapsed": false
   },
   "outputs": [
    {
     "data": {
      "image/png": "[encoded data removed]",
      "text/latex": [
       "$$\\mathrm{True}$$"
      ],
      "text/plain": [
       "True"
      ]
     },
     "execution_count": 20,
     "metadata": {},
     "output_type": "execute_result"
    }
   ],
   "source": [
    "maybe_fib_instantiated.subs(fibs)"
   ]
  },
  {
   "cell_type": "code",
   "execution_count": 21,
   "metadata": {
    "collapsed": false
   },
   "outputs": [
    {
     "data": {
      "image/png": "[encoded data removed]",
      "text/latex": [
       "$$f_{28} = f_{20} + 4 f_{21} + 6 f_{22} + 4 f_{23} + f_{24}$$"
      ],
      "text/plain": [
       "f[28] = f[20] + 4⋅f[21] + 6⋅f[22] + 4⋅f[23] + f[24]"
      ]
     },
     "execution_count": 21,
     "metadata": {},
     "output_type": "execute_result"
    }
   ],
   "source": [
    "maybe_fib_instantiated = maybe_fib.subs({n:28})\n",
    "maybe_fib_instantiated"
   ]
  },
  {
   "cell_type": "code",
   "execution_count": 22,
   "metadata": {
    "collapsed": false
   },
   "outputs": [
    {
     "data": {
      "image/png": "[encoded data removed]",
      "text/latex": [
       "$$\\mathrm{True}$$"
      ],
      "text/plain": [
       "True"
      ]
     },
     "execution_count": 22,
     "metadata": {},
     "output_type": "execute_result"
    }
   ],
   "source": [
    "maybe_fib_instantiated.subs(fibs)"
   ]
  },
  {
   "cell_type": "code",
   "execution_count": 23,
   "metadata": {
    "collapsed": false
   },
   "outputs": [
    {
     "data": {
      "image/png": "[encoded data removed]",
      "text/latex": [
       "$$f_{n} = f_{n - 16} + 8 f_{n - 15} + 28 f_{n - 14} + 56 f_{n - 13} + 70 f_{n - 12} + 56 f_{n - 11} + 28 f_{n - 10} + 8 f_{n - 9} + f_{n - 8}$$"
      ],
      "text/plain": [
       "f[n] = f[n - 16] + 8⋅f[n - 15] + 28⋅f[n - 14] + 56⋅f[n - 13] + 70⋅f[n - 12] + \n",
       "56⋅f[n - 11] + 28⋅f[n - 10] + 8⋅f[n - 9] + f[n - 8]"
      ]
     },
     "execution_count": 23,
     "metadata": {},
     "output_type": "execute_result"
    }
   ],
   "source": [
    "maybe_fib = Eq(f[n],f[n-16]+8*f[n-15]+28*f[n-14]+56*f[n-13]+70*f[n-12]+\n",
    "               f[n-8]+8*f[n-9]+28*f[n-10]+56*f[n-11])\n",
    "maybe_fib"
   ]
  },
  {
   "cell_type": "code",
   "execution_count": 24,
   "metadata": {
    "collapsed": false
   },
   "outputs": [
    {
     "data": {
      "image/png": "[encoded data removed]",
      "text/latex": [
       "$$f_{28} = f_{12} + 8 f_{13} + 28 f_{14} + 56 f_{15} + 70 f_{16} + 56 f_{17} + 28 f_{18} + 8 f_{19} + f_{20}$$"
      ],
      "text/plain": [
       "f[28] = f[12] + 8⋅f[13] + 28⋅f[14] + 56⋅f[15] + 70⋅f[16] + 56⋅f[17] + 28⋅f[18]\n",
       " + 8⋅f[19] + f[20]"
      ]
     },
     "execution_count": 24,
     "metadata": {},
     "output_type": "execute_result"
    }
   ],
   "source": [
    "maybe_fib_instantiated = maybe_fib.subs({n:28})\n",
    "maybe_fib_instantiated"
   ]
  },
  {
   "cell_type": "code",
   "execution_count": 25,
   "metadata": {
    "collapsed": false
   },
   "outputs": [
    {
     "data": {
      "image/png": "[encoded data removed]",
      "text/latex": [
       "$$\\mathrm{True}$$"
      ],
      "text/plain": [
       "True"
      ]
     },
     "execution_count": 25,
     "metadata": {},
     "output_type": "execute_result"
    }
   ],
   "source": [
    "maybe_fib_instantiated.subs(fibs)"
   ]
  },
  {
   "cell_type": "markdown",
   "metadata": {},
   "source": [
    "### An generalization attempt"
   ]
  },
  {
   "cell_type": "code",
   "execution_count": 26,
   "metadata": {
    "collapsed": true
   },
   "outputs": [],
   "source": [
    "%run \"sums.py\""
   ]
  },
  {
   "cell_type": "code",
   "execution_count": 27,
   "metadata": {
    "collapsed": true
   },
   "outputs": [],
   "source": [
    "def expand_sum_in_eq(eq_term):\n",
    "    lhs, rhs = eq_term.lhs, eq_term.rhs\n",
    "    return Eq(lhs, expand_Sum(rhs))"
   ]
  },
  {
   "cell_type": "code",
   "execution_count": 28,
   "metadata": {
    "collapsed": false
   },
   "outputs": [
    {
     "data": {
      "image/png": "[encoded data removed]",
      "text/latex": [
       "$$f_{n} = \\sum_{k=0}^{m} {\\binom{m}{k}} f_{k - 2 m + n}$$"
      ],
      "text/plain": [
       "         m                     \n",
       "        ____                   \n",
       "        ╲                      \n",
       "         ╲   ⎛m⎞               \n",
       "          ╲  ⎜ ⎟⋅f[k - 2*m + n]\n",
       "f[n] =    ╱  ⎝k⎠               \n",
       "         ╱                     \n",
       "        ╱                      \n",
       "        ‾‾‾‾                   \n",
       "       k = 0                   "
      ]
     },
     "execution_count": 28,
     "metadata": {},
     "output_type": "execute_result"
    }
   ],
   "source": [
    "m = symbols('m')\n",
    "thm = Eq(f[n], Sum(binomial(m,k)*f[n-2*m+k], (k,0,m)))\n",
    "thm"
   ]
  },
  {
   "cell_type": "code",
   "execution_count": 29,
   "metadata": {
    "collapsed": false
   },
   "outputs": [
    {
     "data": {
      "image/png": "[encoded data removed]",
      "text/latex": [
       "$$f_{n} = f_{n - 40} + 20 f_{n - 39} + 190 f_{n - 38} + 1140 f_{n - 37} + 4845 f_{n - 36} + 15504 f_{n - 35} + 38760 f_{n - 34} + 77520 f_{n - 33} + 125970 f_{n - 32} + 167960 f_{n - 31} + 184756 f_{n - 30} + 167960 f_{n - 29} + 125970 f_{n - 28} + 77520 f_{n - 27} + 38760 f_{n - 26} + 15504 f_{n - 25} + 4845 f_{n - 24} + 1140 f_{n - 23} + 190 f_{n - 22} + 20 f_{n - 21} + f_{n - 20}$$"
      ],
      "text/plain": [
       "f[n] = f[n - 40] + 20⋅f[n - 39] + 190⋅f[n - 38] + 1140⋅f[n - 37] + 4845⋅f[n - \n",
       "36] + 15504⋅f[n - 35] + 38760⋅f[n - 34] + 77520⋅f[n - 33] + 125970⋅f[n - 32] +\n",
       " 167960⋅f[n - 31] + 184756⋅f[n - 30] + 167960⋅f[n - 29] + 125970⋅f[n - 28] + 7\n",
       "7520⋅f[n - 27] + 38760⋅f[n - 26] + 15504⋅f[n - 25] + 4845⋅f[n - 24] + 1140⋅f[n\n",
       " - 23] + 190⋅f[n - 22] + 20⋅f[n - 21] + f[n - 20]"
      ]
     },
     "execution_count": 29,
     "metadata": {},
     "output_type": "execute_result"
    }
   ],
   "source": [
    "expanded_eq = expand_sum_in_eq(thm.subs({m:20}))\n",
    "expanded_eq"
   ]
  },
  {
   "cell_type": "code",
   "execution_count": 31,
   "metadata": {
    "collapsed": false
   },
   "outputs": [
    {
     "data": {
      "image/png": "[encoded data removed]",
      "text/latex": [
       "$$f_{40} = f_{0} + 20 f_{1} + 190 f_{2} + 1140 f_{3} + 4845 f_{4} + 15504 f_{5} + 38760 f_{6} + 77520 f_{7} + 125970 f_{8} + 167960 f_{9} + 184756 f_{10} + 167960 f_{11} + 125970 f_{12} + 77520 f_{13} + 38760 f_{14} + 15504 f_{15} + 4845 f_{16} + 1140 f_{17} + 190 f_{18} + 20 f_{19} + f_{20}$$"
      ],
      "text/plain": [
       "f[40] = f[0] + 20⋅f[1] + 190⋅f[2] + 1140⋅f[3] + 4845⋅f[4] + 15504⋅f[5] + 38760\n",
       "⋅f[6] + 77520⋅f[7] + 125970⋅f[8] + 167960⋅f[9] + 184756⋅f[10] + 167960⋅f[11] +\n",
       " 125970⋅f[12] + 77520⋅f[13] + 38760⋅f[14] + 15504⋅f[15] + 4845⋅f[16] + 1140⋅f[\n",
       "17] + 190⋅f[18] + 20⋅f[19] + f[20]"
      ]
     },
     "execution_count": 31,
     "metadata": {},
     "output_type": "execute_result"
    }
   ],
   "source": [
    "subsed = expanded_eq.subs(n, 40)\n",
    "subsed"
   ]
  },
  {
   "cell_type": "code",
   "execution_count": 32,
   "metadata": {
    "collapsed": false
   },
   "outputs": [
    {
     "data": {
      "image/png": "[encoded data removed]",
      "text/latex": [
       "$$\\mathrm{True}$$"
      ],
      "text/plain": [
       "True"
      ]
     },
     "execution_count": 32,
     "metadata": {},
     "output_type": "execute_result"
    }
   ],
   "source": [
    "subsed.subs(fibs)"
   ]
  },
  {
   "cell_type": "markdown",
   "metadata": {},
   "source": [
    "### Forward subscripts"
   ]
  },
  {
   "cell_type": "code",
   "execution_count": 33,
   "metadata": {
    "collapsed": false
   },
   "outputs": [
    {
     "data": {
      "image/png": "[encoded data removed]",
      "text/latex": [
       "$$f_{n + 2} = f_{n} + f_{n + 1}$$"
      ],
      "text/plain": [
       "f[n + 2] = f[n] + f[n + 1]"
      ]
     },
     "execution_count": 33,
     "metadata": {},
     "output_type": "execute_result"
    }
   ],
   "source": [
    "f = IndexedBase('f')\n",
    "fibonacci_recurrence = Eq(f[n+2],f[n+1]+f[n])\n",
    "fibonacci_recurrence"
   ]
  },
  {
   "cell_type": "code",
   "execution_count": 34,
   "metadata": {
    "collapsed": true
   },
   "outputs": [],
   "source": [
    "boundary_conditions = {f[0]:Integer(0), f[1]:Integer(1)}\n",
    "fibonacci_recurrence_spec=dict(recurrence_eq=fibonacci_recurrence, indexed=f, \n",
    "                               index=n, terms_cache=boundary_conditions)"
   ]
  },
  {
   "cell_type": "code",
   "execution_count": 35,
   "metadata": {
    "collapsed": true
   },
   "outputs": [],
   "source": [
    "unfolded = do_unfolding_steps(fibonacci_recurrence_spec, 5)"
   ]
  },
  {
   "cell_type": "code",
   "execution_count": 36,
   "metadata": {
    "collapsed": false
   },
   "outputs": [
    {
     "data": {
      "image/png": "[encoded data removed]",
      "text/latex": [
       "$$f_{n + 2} = f_{n - 9} + f_{n - 8} + f_{n - 8} + f_{n - 7} + f_{n - 8} + f_{n - 7} + f_{n - 7} + f_{n - 6} + f_{n - 8} + f_{n - 7} + f_{n - 7} + f_{n - 6} + f_{n - 7} + f_{n - 6} + f_{n - 6} + f_{n - 5} + f_{n - 10} + f_{n - 9} + f_{n - 9} + f_{n - 8} + f_{n - 9} + f_{n - 8} + f_{n - 8} + f_{n - 7} + f_{n - 9} + f_{n - 8} + f_{n - 8} + f_{n - 7} + f_{n - 8} + f_{n - 7} + f_{n - 7} + f_{n - 6} + f_{n - 7} + f_{n - 6} + f_{n - 6} + f_{n - 5} + f_{n - 6} + f_{n - 5} + f_{n - 5} + f_{n - 4} + f_{n - 8} + f_{n - 7} + f_{n - 7} + f_{n - 6} + f_{n - 7} + f_{n - 6} + f_{n - 6} + f_{n - 5} + f_{n - 9} + f_{n - 8} + f_{n - 8} + f_{n - 7} + f_{n - 8} + f_{n - 7} + f_{n - 7} + f_{n - 6} + f_{n - 8} + f_{n - 7} + f_{n - 7} + f_{n - 6} + f_{n - 7} + f_{n - 6} + f_{n - 6} + f_{n - 5}$$"
      ],
      "text/plain": [
       "f[n + 2] = f[n - 9] + f[n - 8] + f[n - 8] + f[n - 7] + f[n - 8] + f[n - 7] + f\n",
       "[n - 7] + f[n - 6] + f[n - 8] + f[n - 7] + f[n - 7] + f[n - 6] + f[n - 7] + f[\n",
       "n - 6] + f[n - 6] + f[n - 5] + f[n - 10] + f[n - 9] + f[n - 9] + f[n - 8] + f[\n",
       "n - 9] + f[n - 8] + f[n - 8] + f[n - 7] + f[n - 9] + f[n - 8] + f[n - 8] + f[n\n",
       " - 7] + f[n - 8] + f[n - 7] + f[n - 7] + f[n - 6] + f[n - 7] + f[n - 6] + f[n \n",
       "- 6] + f[n - 5] + f[n - 6] + f[n - 5] + f[n - 5] + f[n - 4] + f[n - 8] + f[n -\n",
       " 7] + f[n - 7] + f[n - 6] + f[n - 7] + f[n - 6] + f[n - 6] + f[n - 5] + f[n - \n",
       "9] + f[n - 8] + f[n - 8] + f[n - 7] + f[n - 8] + f[n - 7] + f[n - 7] + f[n - 6\n",
       "] + f[n - 8] + f[n - 7] + f[n - 7] + f[n - 6] + f[n - 7] + f[n - 6] + f[n - 6]\n",
       " + f[n - 5]"
      ]
     },
     "execution_count": 36,
     "metadata": {},
     "output_type": "execute_result"
    }
   ],
   "source": [
    "recurrence_eq = project_recurrence_spec(unfolded, recurrence_eq=True)\n",
    "recurrence_eq"
   ]
  },
  {
   "cell_type": "code",
   "execution_count": 37,
   "metadata": {
    "collapsed": false
   },
   "outputs": [
    {
     "data": {
      "image/png": "[encoded data removed]",
      "text/latex": [
       "$$f_{n + 2} = f_{n - 10} + 6 f_{n - 9} + 15 f_{n - 8} + 20 f_{n - 7} + 15 f_{n - 6} + 6 f_{n - 5} + f_{n - 4}$$"
      ],
      "text/plain": [
       "f[n + 2] = f[n - 10] + 6⋅f[n - 9] + 15⋅f[n - 8] + 20⋅f[n - 7] + 15⋅f[n - 6] + \n",
       "6⋅f[n - 5] + f[n - 4]"
      ]
     },
     "execution_count": 37,
     "metadata": {},
     "output_type": "execute_result"
    }
   ],
   "source": [
    "factored_recurrence_eq = project_recurrence_spec(factor_rhs_unfolded_rec(unfolded), recurrence_eq=True)\n",
    "factored_recurrence_eq"
   ]
  },
  {
   "cell_type": "code",
   "execution_count": 38,
   "metadata": {
    "collapsed": false
   },
   "outputs": [
    {
     "data": {
      "image/png": "[encoded data removed]",
      "text/latex": [
       "$$f_{12} = f_{0} + 6 f_{1} + 15 f_{2} + 20 f_{3} + 15 f_{4} + 6 f_{5} + f_{6}$$"
      ],
      "text/plain": [
       "f[12] = f[0] + 6⋅f[1] + 15⋅f[2] + 20⋅f[3] + 15⋅f[4] + 6⋅f[5] + f[6]"
      ]
     },
     "execution_count": 38,
     "metadata": {},
     "output_type": "execute_result"
    }
   ],
   "source": [
    "factored_recurrence_eq.subs(n,10)"
   ]
  },
  {
   "cell_type": "code",
   "execution_count": 39,
   "metadata": {
    "collapsed": false
   },
   "outputs": [],
   "source": [
    "instantiated_rec_spec = base_instantiation(unfolded)"
   ]
  },
  {
   "cell_type": "code",
   "execution_count": 40,
   "metadata": {
    "collapsed": false
   },
   "outputs": [
    {
     "data": {
      "image/png": "[encoded data removed]",
      "text/latex": [
       "$$\\left ( \\left \\{ f_{0} : 0, \\quad f_{1} : 1, \\quad f_{2} : f_{0} + f_{1}, \\quad f_{3} : f_{1} + f_{2}, \\quad f_{4} : f_{2} + f_{3}, \\quad f_{5} : f_{3} + f_{4}, \\quad f_{6} : f_{4} + f_{5}, \\quad f_{7} : f_{5} + f_{6}, \\quad f_{8} : f_{6} + f_{7}, \\quad f_{9} : f_{7} + f_{8}, \\quad f_{10} : f_{8} + f_{9}, \\quad f_{11} : f_{9} + f_{10}\\right \\}, \\quad f_{12} = f_{0} + 6 f_{1} + 15 f_{2} + 20 f_{3} + 15 f_{4} + 6 f_{5} + f_{6}\\right )$$"
      ],
      "text/plain": [
       "({f[0]: 0, f[1]: 1, f[2]: f[0] + f[1], f[3]: f[1] + f[2], f[4]: f[2] + f[3], f\n",
       "[5]: f[3] + f[4], f[6]: f[4] + f[5], f[7]: f[5] + f[6], f[8]: f[6] + f[7], f[9\n",
       "]: f[7] + f[8], f[10]: f[8] + f[9], f[11]: f[9] + f[10]}, f[12] = f[0] + 6⋅f[1\n",
       "] + 15⋅f[2] + 20⋅f[3] + 15⋅f[4] + 6⋅f[5] + f[6])"
      ]
     },
     "execution_count": 40,
     "metadata": {},
     "output_type": "execute_result"
    }
   ],
   "source": [
    "project_recurrence_spec(instantiated_rec_spec, recurrence_eq=True, terms_cache=True)"
   ]
  },
  {
   "cell_type": "code",
   "execution_count": 41,
   "metadata": {
    "collapsed": false
   },
   "outputs": [
    {
     "data": {
      "image/png": "[encoded data removed]",
      "text/latex": [
       "$$\\left ( \\left \\{ f_{0} : 0, \\quad f_{1} : 1, \\quad f_{2} : 1, \\quad f_{3} : 2, \\quad f_{4} : 3, \\quad f_{5} : 5, \\quad f_{6} : 8, \\quad f_{7} : 13, \\quad f_{8} : 21, \\quad f_{9} : 34, \\quad f_{10} : 55, \\quad f_{11} : 89\\right \\}, \\quad f_{12} = 144\\right )$$"
      ],
      "text/plain": [
       "({f[0]: 0, f[1]: 1, f[2]: 1, f[3]: 2, f[4]: 3, f[5]: 5, f[6]: 8, f[7]: 13, f[8\n",
       "]: 21, f[9]: 34, f[10]: 55, f[11]: 89}, f[12] = 144)"
      ]
     },
     "execution_count": 41,
     "metadata": {},
     "output_type": "execute_result"
    }
   ],
   "source": [
    "fully_instantiated_spec = repeated_instantiating(instantiated_rec_spec)\n",
    "project_recurrence_spec(fully_instantiated_spec, recurrence_eq=True, terms_cache=True)"
   ]
  },
  {
   "cell_type": "code",
   "execution_count": 42,
   "metadata": {
    "collapsed": false
   },
   "outputs": [
    {
     "data": {
      "text/latex": [
       "\\begin{array}{c}f_{2} = f_{0} + f_{1}\\\\\n",
       "f_{4} = f_{0} + 2 f_{1} + f_{2}\\\\\n",
       "f_{6} = f_{0} + 3 f_{1} + 3 f_{2} + f_{3}\\\\\n",
       "f_{8} = f_{0} + 4 f_{1} + 6 f_{2} + 4 f_{3} + f_{4}\\\\\n",
       "f_{10} = f_{0} + 5 f_{1} + 10 f_{2} + 10 f_{3} + 5 f_{4} + f_{5}\\\\\n",
       "f_{12} = f_{0} + 6 f_{1} + 15 f_{2} + 20 f_{3} + 15 f_{4} + 6 f_{5} + f_{6}\\\\\n",
       "f_{14} = f_{0} + 7 f_{1} + 21 f_{2} + 35 f_{3} + 35 f_{4} + 21 f_{5} + 7 f_{6} + f_{7}\\\\\n",
       "f_{16} = f_{0} + 8 f_{1} + 28 f_{2} + 56 f_{3} + 70 f_{4} + 56 f_{5} + 28 f_{6} + 8 f_{7} + f_{8}\\\\\n",
       "f_{18} = f_{0} + 9 f_{1} + 36 f_{2} + 84 f_{3} + 126 f_{4} + 126 f_{5} + 84 f_{6} + 36 f_{7} + 9 f_{8} + f_{9}\\\\\n",
       "f_{20} = f_{0} + 10 f_{1} + 45 f_{2} + 120 f_{3} + 210 f_{4} + 252 f_{5} + 210 f_{6} + 120 f_{7} + 45 f_{8} + 10 f_{9} + f_{10}\\\\\\end{array}"
      ],
      "text/plain": [
       "<IPython.core.display.Latex object>"
      ]
     },
     "execution_count": 42,
     "metadata": {},
     "output_type": "execute_result"
    }
   ],
   "source": [
    "ipython_latex(fibonacci_recurrence_spec, times_range=range(10))"
   ]
  },
  {
   "cell_type": "code",
   "execution_count": 43,
   "metadata": {
    "collapsed": false
   },
   "outputs": [
    {
     "data": {
      "image/png": "[encoded data removed]",
      "text/latex": [
       "$$\\left \\{ f_{0} : 0, \\quad f_{1} : 1, \\quad f_{n} : f_{n - 2} + f_{n - 1}, \\quad f_{n - 16} : f_{n - 18} + f_{n - 17}, \\quad f_{n - 15} : f_{n - 17} + f_{n - 16}, \\quad f_{n - 14} : f_{n - 16} + f_{n - 15}, \\quad f_{n - 13} : f_{n - 15} + f_{n - 14}, \\quad f_{n - 12} : f_{n - 14} + f_{n - 13}, \\quad f_{n - 11} : f_{n - 13} + f_{n - 12}, \\quad f_{n - 10} : f_{n - 12} + f_{n - 11}, \\quad f_{n - 9} : f_{n - 11} + f_{n - 10}, \\quad f_{n - 8} : f_{n - 10} + f_{n - 9}, \\quad f_{n - 7} : f_{n - 9} + f_{n - 8}, \\quad f_{n - 6} : f_{n - 8} + f_{n - 7}, \\quad f_{n - 5} : f_{n - 7} + f_{n - 6}, \\quad f_{n - 4} : f_{n - 6} + f_{n - 5}, \\quad f_{n - 3} : f_{n - 5} + f_{n - 4}, \\quad f_{n - 2} : f_{n - 4} + f_{n - 3}, \\quad f_{n - 1} : f_{n - 3} + f_{n - 2}, \\quad f_{n + 1} : f_{n} + f_{n - 1}\\right \\}$$"
      ],
      "text/plain": [
       "{f[0]: 0, f[1]: 1, f[n]: f[n - 2] + f[n - 1], f[n - 16]: f[n - 18] + f[n - 17]\n",
       ", f[n - 15]: f[n - 17] + f[n - 16], f[n - 14]: f[n - 16] + f[n - 15], f[n - 13\n",
       "]: f[n - 15] + f[n - 14], f[n - 12]: f[n - 14] + f[n - 13], f[n - 11]: f[n - 1\n",
       "3] + f[n - 12], f[n - 10]: f[n - 12] + f[n - 11], f[n - 9]: f[n - 11] + f[n - \n",
       "10], f[n - 8]: f[n - 10] + f[n - 9], f[n - 7]: f[n - 9] + f[n - 8], f[n - 6]: \n",
       "f[n - 8] + f[n - 7], f[n - 5]: f[n - 7] + f[n - 6], f[n - 4]: f[n - 6] + f[n -\n",
       " 5], f[n - 3]: f[n - 5] + f[n - 4], f[n - 2]: f[n - 4] + f[n - 3], f[n - 1]: f\n",
       "[n - 3] + f[n - 2], f[n + 1]: f[n] + f[n - 1]}"
      ]
     },
     "execution_count": 43,
     "metadata": {},
     "output_type": "execute_result"
    }
   ],
   "source": [
    "project_recurrence_spec(fibonacci_recurrence_spec, terms_cache=True)"
   ]
  },
  {
   "cell_type": "markdown",
   "metadata": {},
   "source": [
    "### Tribonacci numbers\n",
    "\n",
    "The following is an unfolding of [Tribonacci][tribonacci] numbers recurrence.\n",
    "\n",
    "[tribonacci]:http://oeis.org/A000073"
   ]
  },
  {
   "cell_type": "code",
   "execution_count": 32,
   "metadata": {
    "collapsed": false
   },
   "outputs": [
    {
     "data": {
      "image/png": "[encoded data removed]",
      "text/latex": [
       "$$f^{{(3)}}_{n + 3} = f^{{(3)}}_{n} + f^{{(3)}}_{n + 1} + f^{{(3)}}_{n + 2}$$"
      ],
      "text/plain": [
       "f^{(3)}[n + 3] = f^{(3)}[n] + f^{(3)}[n + 1] + f^{(3)}[n + 2]"
      ]
     },
     "execution_count": 32,
     "metadata": {},
     "output_type": "execute_result"
    }
   ],
   "source": [
    "f = IndexedBase('f^{(3)}')\n",
    "tribonacci_recurrence = Eq(f[n+3],f[n+2]+f[n+1]+f[n])\n",
    "tribonacci_recurrence"
   ]
  },
  {
   "cell_type": "code",
   "execution_count": 33,
   "metadata": {
    "collapsed": true
   },
   "outputs": [],
   "source": [
    "boundary_conditions = {f[0]:Integer(0), f[1]:Integer(0), f[2]:Integer(1)}\n",
    "\n",
    "tribonacci_recurrence_spec=dict(recurrence_eq=tribonacci_recurrence, indexed=f, \n",
    "                               index=n, terms_cache=boundary_conditions)"
   ]
  },
  {
   "cell_type": "code",
   "execution_count": 34,
   "metadata": {
    "collapsed": false
   },
   "outputs": [
    {
     "data": {
      "image/png": "[encoded data removed]",
      "text/latex": [
       "$$f^{{(3)}}_{n + 3} = f^{{(3)}}_{n - 13} + f^{{(3)}}_{n - 12} + f^{{(3)}}_{n - 11} + f^{{(3)}}_{n - 12} + f^{{(3)}}_{n - 11} + f^{{(3)}}_{n - 10} + f^{{(3)}}_{n - 11} + f^{{(3)}}_{n - 10} + f^{{(3)}}_{n - 9} + f^{{(3)}}_{n - 12} + f^{{(3)}}_{n - 11} + f^{{(3)}}_{n - 10} + f^{{(3)}}_{n - 11} + f^{{(3)}}_{n - 10} + f^{{(3)}}_{n - 9} + f^{{(3)}}_{n - 10} + f^{{(3)}}_{n - 9} + f^{{(3)}}_{n - 8} + f^{{(3)}}_{n - 11} + f^{{(3)}}_{n - 10} + f^{{(3)}}_{n - 9} + f^{{(3)}}_{n - 10} + f^{{(3)}}_{n - 9} + f^{{(3)}}_{n - 8} + f^{{(3)}}_{n - 9} + f^{{(3)}}_{n - 8} + f^{{(3)}}_{n - 7} + f^{{(3)}}_{n - 12} + f^{{(3)}}_{n - 11} + f^{{(3)}}_{n - 10} + f^{{(3)}}_{n - 11} + f^{{(3)}}_{n - 10} + f^{{(3)}}_{n - 9} + f^{{(3)}}_{n - 10} + f^{{(3)}}_{n - 9} + f^{{(3)}}_{n - 8} + f^{{(3)}}_{n - 11} + f^{{(3)}}_{n - 10} + f^{{(3)}}_{n - 9} + f^{{(3)}}_{n - 10} + f^{{(3)}}_{n - 9} + f^{{(3)}}_{n - 8} + f^{{(3)}}_{n - 9} + f^{{(3)}}_{n - 8} + f^{{(3)}}_{n - 7} + f^{{(3)}}_{n - 10} + f^{{(3)}}_{n - 9} + f^{{(3)}}_{n - 8} + f^{{(3)}}_{n - 9} + f^{{(3)}}_{n - 8} + f^{{(3)}}_{n - 7} + f^{{(3)}}_{n - 8} + f^{{(3)}}_{n - 7} + f^{{(3)}}_{n - 6} + f^{{(3)}}_{n - 11} + f^{{(3)}}_{n - 10} + f^{{(3)}}_{n - 9} + f^{{(3)}}_{n - 10} + f^{{(3)}}_{n - 9} + f^{{(3)}}_{n - 8} + f^{{(3)}}_{n - 9} + f^{{(3)}}_{n - 8} + f^{{(3)}}_{n - 7} + f^{{(3)}}_{n - 10} + f^{{(3)}}_{n - 9} + f^{{(3)}}_{n - 8} + f^{{(3)}}_{n - 9} + f^{{(3)}}_{n - 8} + f^{{(3)}}_{n - 7} + f^{{(3)}}_{n - 8} + f^{{(3)}}_{n - 7} + f^{{(3)}}_{n - 6} + f^{{(3)}}_{n - 9} + f^{{(3)}}_{n - 8} + f^{{(3)}}_{n - 7} + f^{{(3)}}_{n - 8} + f^{{(3)}}_{n - 7} + f^{{(3)}}_{n - 6} + f^{{(3)}}_{n - 7} + f^{{(3)}}_{n - 6} + f^{{(3)}}_{n - 5} + f^{{(3)}}_{n - 15} + f^{{(3)}}_{n - 14} + f^{{(3)}}_{n - 13} + f^{{(3)}}_{n - 14} + f^{{(3)}}_{n - 13} + f^{{(3)}}_{n - 12} + f^{{(3)}}_{n - 13} + f^{{(3)}}_{n - 12} + f^{{(3)}}_{n - 11} + f^{{(3)}}_{n - 14} + f^{{(3)}}_{n - 13} + f^{{(3)}}_{n - 12} + f^{{(3)}}_{n - 13} + f^{{(3)}}_{n - 12} + f^{{(3)}}_{n - 11} + f^{{(3)}}_{n - 12} + f^{{(3)}}_{n - 11} + f^{{(3)}}_{n - 10} + f^{{(3)}}_{n - 13} + f^{{(3)}}_{n - 12} + f^{{(3)}}_{n - 11} + f^{{(3)}}_{n - 12} + f^{{(3)}}_{n - 11} + f^{{(3)}}_{n - 10} + f^{{(3)}}_{n - 11} + f^{{(3)}}_{n - 10} + f^{{(3)}}_{n - 9} + f^{{(3)}}_{n - 14} + f^{{(3)}}_{n - 13} + f^{{(3)}}_{n - 12} + f^{{(3)}}_{n - 13} + f^{{(3)}}_{n - 12} + f^{{(3)}}_{n - 11} + f^{{(3)}}_{n - 12} + f^{{(3)}}_{n - 11} + f^{{(3)}}_{n - 10} + f^{{(3)}}_{n - 13} + f^{{(3)}}_{n - 12} + f^{{(3)}}_{n - 11} + f^{{(3)}}_{n - 12} + f^{{(3)}}_{n - 11} + f^{{(3)}}_{n - 10} + f^{{(3)}}_{n - 11} + f^{{(3)}}_{n - 10} + f^{{(3)}}_{n - 9} + f^{{(3)}}_{n - 12} + f^{{(3)}}_{n - 11} + f^{{(3)}}_{n - 10} + f^{{(3)}}_{n - 11} + f^{{(3)}}_{n - 10} + f^{{(3)}}_{n - 9} + f^{{(3)}}_{n - 10} + f^{{(3)}}_{n - 9} + f^{{(3)}}_{n - 8} + f^{{(3)}}_{n - 13} + f^{{(3)}}_{n - 12} + f^{{(3)}}_{n - 11} + f^{{(3)}}_{n - 12} + f^{{(3)}}_{n - 11} + f^{{(3)}}_{n - 10} + f^{{(3)}}_{n - 11} + f^{{(3)}}_{n - 10} + f^{{(3)}}_{n - 9} + f^{{(3)}}_{n - 12} + f^{{(3)}}_{n - 11} + f^{{(3)}}_{n - 10} + f^{{(3)}}_{n - 11} + f^{{(3)}}_{n - 10} + f^{{(3)}}_{n - 9} + f^{{(3)}}_{n - 10} + f^{{(3)}}_{n - 9} + f^{{(3)}}_{n - 8} + f^{{(3)}}_{n - 11} + f^{{(3)}}_{n - 10} + f^{{(3)}}_{n - 9} + f^{{(3)}}_{n - 10} + f^{{(3)}}_{n - 9} + f^{{(3)}}_{n - 8} + f^{{(3)}}_{n - 9} + f^{{(3)}}_{n - 8} + f^{{(3)}}_{n - 7} + f^{{(3)}}_{n - 14} + f^{{(3)}}_{n - 13} + f^{{(3)}}_{n - 12} + f^{{(3)}}_{n - 13} + f^{{(3)}}_{n - 12} + f^{{(3)}}_{n - 11} + f^{{(3)}}_{n - 12} + f^{{(3)}}_{n - 11} + f^{{(3)}}_{n - 10} + f^{{(3)}}_{n - 13} + f^{{(3)}}_{n - 12} + f^{{(3)}}_{n - 11} + f^{{(3)}}_{n - 12} + f^{{(3)}}_{n - 11} + f^{{(3)}}_{n - 10} + f^{{(3)}}_{n - 11} + f^{{(3)}}_{n - 10} + f^{{(3)}}_{n - 9} + f^{{(3)}}_{n - 12} + f^{{(3)}}_{n - 11} + f^{{(3)}}_{n - 10} + f^{{(3)}}_{n - 11} + f^{{(3)}}_{n - 10} + f^{{(3)}}_{n - 9} + f^{{(3)}}_{n - 10} + f^{{(3)}}_{n - 9} + f^{{(3)}}_{n - 8} + f^{{(3)}}_{n - 13} + f^{{(3)}}_{n - 12} + f^{{(3)}}_{n - 11} + f^{{(3)}}_{n - 12} + f^{{(3)}}_{n - 11} + f^{{(3)}}_{n - 10} + f^{{(3)}}_{n - 11} + f^{{(3)}}_{n - 10} + f^{{(3)}}_{n - 9} + f^{{(3)}}_{n - 12} + f^{{(3)}}_{n - 11} + f^{{(3)}}_{n - 10} + f^{{(3)}}_{n - 11} + f^{{(3)}}_{n - 10} + f^{{(3)}}_{n - 9} + f^{{(3)}}_{n - 10} + f^{{(3)}}_{n - 9} + f^{{(3)}}_{n - 8} + f^{{(3)}}_{n - 11} + f^{{(3)}}_{n - 10} + f^{{(3)}}_{n - 9} + f^{{(3)}}_{n - 10} + f^{{(3)}}_{n - 9} + f^{{(3)}}_{n - 8} + f^{{(3)}}_{n - 9} + f^{{(3)}}_{n - 8} + f^{{(3)}}_{n - 7} + f^{{(3)}}_{n - 12} + f^{{(3)}}_{n - 11} + f^{{(3)}}_{n - 10} + f^{{(3)}}_{n - 11} + f^{{(3)}}_{n - 10} + f^{{(3)}}_{n - 9} + f^{{(3)}}_{n - 10} + f^{{(3)}}_{n - 9} + f^{{(3)}}_{n - 8} + f^{{(3)}}_{n - 11} + f^{{(3)}}_{n - 10} + f^{{(3)}}_{n - 9} + f^{{(3)}}_{n - 10} + f^{{(3)}}_{n - 9} + f^{{(3)}}_{n - 8} + f^{{(3)}}_{n - 9} + f^{{(3)}}_{n - 8} + f^{{(3)}}_{n - 7} + f^{{(3)}}_{n - 10} + f^{{(3)}}_{n - 9} + f^{{(3)}}_{n - 8} + f^{{(3)}}_{n - 9} + f^{{(3)}}_{n - 8} + f^{{(3)}}_{n - 7} + f^{{(3)}}_{n - 8} + f^{{(3)}}_{n - 7} + f^{{(3)}}_{n - 6} + f^{{(3)}}_{n - 10} + f^{{(3)}}_{n - 9} + f^{{(3)}}_{n - 8} + f^{{(3)}}_{n - 9} + f^{{(3)}}_{n - 8} + f^{{(3)}}_{n - 7} + f^{{(3)}}_{n - 8} + f^{{(3)}}_{n - 7} + f^{{(3)}}_{n - 6} + f^{{(3)}}_{n - 9} + f^{{(3)}}_{n - 8} + f^{{(3)}}_{n - 7} + f^{{(3)}}_{n - 8} + f^{{(3)}}_{n - 7} + f^{{(3)}}_{n - 6} + f^{{(3)}}_{n - 7} + f^{{(3)}}_{n - 6} + f^{{(3)}}_{n - 5} + f^{{(3)}}_{n - 8} + f^{{(3)}}_{n - 7} + f^{{(3)}}_{n - 6} + f^{{(3)}}_{n - 7} + f^{{(3)}}_{n - 6} + f^{{(3)}}_{n - 5} + f^{{(3)}}_{n - 6} + f^{{(3)}}_{n - 5} + f^{{(3)}}_{n - 4} + f^{{(3)}}_{n - 12} + f^{{(3)}}_{n - 11} + f^{{(3)}}_{n - 10} + f^{{(3)}}_{n - 11} + f^{{(3)}}_{n - 10} + f^{{(3)}}_{n - 9} + f^{{(3)}}_{n - 10} + f^{{(3)}}_{n - 9} + f^{{(3)}}_{n - 8} + f^{{(3)}}_{n - 11} + f^{{(3)}}_{n - 10} + f^{{(3)}}_{n - 9} + f^{{(3)}}_{n - 10} + f^{{(3)}}_{n - 9} + f^{{(3)}}_{n - 8} + f^{{(3)}}_{n - 9} + f^{{(3)}}_{n - 8} + f^{{(3)}}_{n - 7} + f^{{(3)}}_{n - 10} + f^{{(3)}}_{n - 9} + f^{{(3)}}_{n - 8} + f^{{(3)}}_{n - 9} + f^{{(3)}}_{n - 8} + f^{{(3)}}_{n - 7} + f^{{(3)}}_{n - 8} + f^{{(3)}}_{n - 7} + f^{{(3)}}_{n - 6} + f^{{(3)}}_{n - 11} + f^{{(3)}}_{n - 10} + f^{{(3)}}_{n - 9} + f^{{(3)}}_{n - 10} + f^{{(3)}}_{n - 9} + f^{{(3)}}_{n - 8} + f^{{(3)}}_{n - 9} + f^{{(3)}}_{n - 8} + f^{{(3)}}_{n - 7} + f^{{(3)}}_{n - 10} + f^{{(3)}}_{n - 9} + f^{{(3)}}_{n - 8} + f^{{(3)}}_{n - 9} + f^{{(3)}}_{n - 8} + f^{{(3)}}_{n - 7} + f^{{(3)}}_{n - 8} + f^{{(3)}}_{n - 7} + f^{{(3)}}_{n - 6} + f^{{(3)}}_{n - 9} + f^{{(3)}}_{n - 8} + f^{{(3)}}_{n - 7} + f^{{(3)}}_{n - 8} + f^{{(3)}}_{n - 7} + f^{{(3)}}_{n - 6} + f^{{(3)}}_{n - 7} + f^{{(3)}}_{n - 6} + f^{{(3)}}_{n - 5} + f^{{(3)}}_{n - 13} + f^{{(3)}}_{n - 12} + f^{{(3)}}_{n - 11} + f^{{(3)}}_{n - 12} + f^{{(3)}}_{n - 11} + f^{{(3)}}_{n - 10} + f^{{(3)}}_{n - 11} + f^{{(3)}}_{n - 10} + f^{{(3)}}_{n - 9} + f^{{(3)}}_{n - 12} + f^{{(3)}}_{n - 11} + f^{{(3)}}_{n - 10} + f^{{(3)}}_{n - 11} + f^{{(3)}}_{n - 10} + f^{{(3)}}_{n - 9} + f^{{(3)}}_{n - 10} + f^{{(3)}}_{n - 9} + f^{{(3)}}_{n - 8} + f^{{(3)}}_{n - 11} + f^{{(3)}}_{n - 10} + f^{{(3)}}_{n - 9} + f^{{(3)}}_{n - 10} + f^{{(3)}}_{n - 9} + f^{{(3)}}_{n - 8} + f^{{(3)}}_{n - 9} + f^{{(3)}}_{n - 8} + f^{{(3)}}_{n - 7} + f^{{(3)}}_{n - 12} + f^{{(3)}}_{n - 11} + f^{{(3)}}_{n - 10} + f^{{(3)}}_{n - 11} + f^{{(3)}}_{n - 10} + f^{{(3)}}_{n - 9} + f^{{(3)}}_{n - 10} + f^{{(3)}}_{n - 9} + f^{{(3)}}_{n - 8} + f^{{(3)}}_{n - 11} + f^{{(3)}}_{n - 10} + f^{{(3)}}_{n - 9} + f^{{(3)}}_{n - 10} + f^{{(3)}}_{n - 9} + f^{{(3)}}_{n - 8} + f^{{(3)}}_{n - 9} + f^{{(3)}}_{n - 8} + f^{{(3)}}_{n - 7} + f^{{(3)}}_{n - 10} + f^{{(3)}}_{n - 9} + f^{{(3)}}_{n - 8} + f^{{(3)}}_{n - 9} + f^{{(3)}}_{n - 8} + f^{{(3)}}_{n - 7} + f^{{(3)}}_{n - 8} + f^{{(3)}}_{n - 7} + f^{{(3)}}_{n - 6} + f^{{(3)}}_{n - 11} + f^{{(3)}}_{n - 10} + f^{{(3)}}_{n - 9} + f^{{(3)}}_{n - 10} + f^{{(3)}}_{n - 9} + f^{{(3)}}_{n - 8} + f^{{(3)}}_{n - 9} + f^{{(3)}}_{n - 8} + f^{{(3)}}_{n - 7} + f^{{(3)}}_{n - 10} + f^{{(3)}}_{n - 9} + f^{{(3)}}_{n - 8} + f^{{(3)}}_{n - 9} + f^{{(3)}}_{n - 8} + f^{{(3)}}_{n - 7} + f^{{(3)}}_{n - 8} + f^{{(3)}}_{n - 7} + f^{{(3)}}_{n - 6} + f^{{(3)}}_{n - 9} + f^{{(3)}}_{n - 8} + f^{{(3)}}_{n - 7} + f^{{(3)}}_{n - 8} + f^{{(3)}}_{n - 7} + f^{{(3)}}_{n - 6} + f^{{(3)}}_{n - 7} + f^{{(3)}}_{n - 6} + f^{{(3)}}_{n - 5} + f^{{(3)}}_{n - 14} + f^{{(3)}}_{n - 13} + f^{{(3)}}_{n - 12} + f^{{(3)}}_{n - 13} + f^{{(3)}}_{n - 12} + f^{{(3)}}_{n - 11} + f^{{(3)}}_{n - 12} + f^{{(3)}}_{n - 11} + f^{{(3)}}_{n - 10} + f^{{(3)}}_{n - 13} + f^{{(3)}}_{n - 12} + f^{{(3)}}_{n - 11} + f^{{(3)}}_{n - 12} + f^{{(3)}}_{n - 11} + f^{{(3)}}_{n - 10} + f^{{(3)}}_{n - 11} + f^{{(3)}}_{n - 10} + f^{{(3)}}_{n - 9} + f^{{(3)}}_{n - 12} + f^{{(3)}}_{n - 11} + f^{{(3)}}_{n - 10} + f^{{(3)}}_{n - 11} + f^{{(3)}}_{n - 10} + f^{{(3)}}_{n - 9} + f^{{(3)}}_{n - 10} + f^{{(3)}}_{n - 9} + f^{{(3)}}_{n - 8} + f^{{(3)}}_{n - 13} + f^{{(3)}}_{n - 12} + f^{{(3)}}_{n - 11} + f^{{(3)}}_{n - 12} + f^{{(3)}}_{n - 11} + f^{{(3)}}_{n - 10} + f^{{(3)}}_{n - 11} + f^{{(3)}}_{n - 10} + f^{{(3)}}_{n - 9} + f^{{(3)}}_{n - 12} + f^{{(3)}}_{n - 11} + f^{{(3)}}_{n - 10} + f^{{(3)}}_{n - 11} + f^{{(3)}}_{n - 10} + f^{{(3)}}_{n - 9} + f^{{(3)}}_{n - 10} + f^{{(3)}}_{n - 9} + f^{{(3)}}_{n - 8} + f^{{(3)}}_{n - 11} + f^{{(3)}}_{n - 10} + f^{{(3)}}_{n - 9} + f^{{(3)}}_{n - 10} + f^{{(3)}}_{n - 9} + f^{{(3)}}_{n - 8} + f^{{(3)}}_{n - 9} + f^{{(3)}}_{n - 8} + f^{{(3)}}_{n - 7} + f^{{(3)}}_{n - 12} + f^{{(3)}}_{n - 11} + f^{{(3)}}_{n - 10} + f^{{(3)}}_{n - 11} + f^{{(3)}}_{n - 10} + f^{{(3)}}_{n - 9} + f^{{(3)}}_{n - 10} + f^{{(3)}}_{n - 9} + f^{{(3)}}_{n - 8} + f^{{(3)}}_{n - 11} + f^{{(3)}}_{n - 10} + f^{{(3)}}_{n - 9} + f^{{(3)}}_{n - 10} + f^{{(3)}}_{n - 9} + f^{{(3)}}_{n - 8} + f^{{(3)}}_{n - 9} + f^{{(3)}}_{n - 8} + f^{{(3)}}_{n - 7} + f^{{(3)}}_{n - 10} + f^{{(3)}}_{n - 9} + f^{{(3)}}_{n - 8} + f^{{(3)}}_{n - 9} + f^{{(3)}}_{n - 8} + f^{{(3)}}_{n - 7} + f^{{(3)}}_{n - 8} + f^{{(3)}}_{n - 7} + f^{{(3)}}_{n - 6} + f^{{(3)}}_{n - 10} + f^{{(3)}}_{n - 9} + f^{{(3)}}_{n - 8} + f^{{(3)}}_{n - 9} + f^{{(3)}}_{n - 8} + f^{{(3)}}_{n - 7} + f^{{(3)}}_{n - 8} + f^{{(3)}}_{n - 7} + f^{{(3)}}_{n - 6} + f^{{(3)}}_{n - 9} + f^{{(3)}}_{n - 8} + f^{{(3)}}_{n - 7} + f^{{(3)}}_{n - 8} + f^{{(3)}}_{n - 7} + f^{{(3)}}_{n - 6} + f^{{(3)}}_{n - 7} + f^{{(3)}}_{n - 6} + f^{{(3)}}_{n - 5} + f^{{(3)}}_{n - 8} + f^{{(3)}}_{n - 7} + f^{{(3)}}_{n - 6} + f^{{(3)}}_{n - 7} + f^{{(3)}}_{n - 6} + f^{{(3)}}_{n - 5} + f^{{(3)}}_{n - 6} + f^{{(3)}}_{n - 5} + f^{{(3)}}_{n - 4} + f^{{(3)}}_{n - 12} + f^{{(3)}}_{n - 11} + f^{{(3)}}_{n - 10} + f^{{(3)}}_{n - 11} + f^{{(3)}}_{n - 10} + f^{{(3)}}_{n - 9} + f^{{(3)}}_{n - 10} + f^{{(3)}}_{n - 9} + f^{{(3)}}_{n - 8} + f^{{(3)}}_{n - 11} + f^{{(3)}}_{n - 10} + f^{{(3)}}_{n - 9} + f^{{(3)}}_{n - 10} + f^{{(3)}}_{n - 9} + f^{{(3)}}_{n - 8} + f^{{(3)}}_{n - 9} + f^{{(3)}}_{n - 8} + f^{{(3)}}_{n - 7} + f^{{(3)}}_{n - 10} + f^{{(3)}}_{n - 9} + f^{{(3)}}_{n - 8} + f^{{(3)}}_{n - 9} + f^{{(3)}}_{n - 8} + f^{{(3)}}_{n - 7} + f^{{(3)}}_{n - 8} + f^{{(3)}}_{n - 7} + f^{{(3)}}_{n - 6} + f^{{(3)}}_{n - 11} + f^{{(3)}}_{n - 10} + f^{{(3)}}_{n - 9} + f^{{(3)}}_{n - 10} + f^{{(3)}}_{n - 9} + f^{{(3)}}_{n - 8} + f^{{(3)}}_{n - 9} + f^{{(3)}}_{n - 8} + f^{{(3)}}_{n - 7} + f^{{(3)}}_{n - 10} + f^{{(3)}}_{n - 9} + f^{{(3)}}_{n - 8} + f^{{(3)}}_{n - 9} + f^{{(3)}}_{n - 8} + f^{{(3)}}_{n - 7} + f^{{(3)}}_{n - 8} + f^{{(3)}}_{n - 7} + f^{{(3)}}_{n - 6} + f^{{(3)}}_{n - 9} + f^{{(3)}}_{n - 8} + f^{{(3)}}_{n - 7} + f^{{(3)}}_{n - 8} + f^{{(3)}}_{n - 7} + f^{{(3)}}_{n - 6} + f^{{(3)}}_{n - 7} + f^{{(3)}}_{n - 6} + f^{{(3)}}_{n - 5} + f^{{(3)}}_{n - 7} + f^{{(3)}}_{n - 6} + f^{{(3)}}_{n - 5} + f^{{(3)}}_{n - 6} + f^{{(3)}}_{n - 5} + f^{{(3)}}_{n - 4} + f^{{(3)}}_{n - 5} + f^{{(3)}}_{n - 4} + f^{{(3)}}_{n - 3} + f^{{(3)}}_{n - 9} + f^{{(3)}}_{n - 8} + f^{{(3)}}_{n - 7} + f^{{(3)}}_{n - 8} + f^{{(3)}}_{n - 7} + f^{{(3)}}_{n - 6} + f^{{(3)}}_{n - 7} + f^{{(3)}}_{n - 6} + f^{{(3)}}_{n - 5} + f^{{(3)}}_{n - 8} + f^{{(3)}}_{n - 7} + f^{{(3)}}_{n - 6} + f^{{(3)}}_{n - 7} + f^{{(3)}}_{n - 6} + f^{{(3)}}_{n - 5} + f^{{(3)}}_{n - 6} + f^{{(3)}}_{n - 5} + f^{{(3)}}_{n - 4} + f^{{(3)}}_{n - 10} + f^{{(3)}}_{n - 9} + f^{{(3)}}_{n - 8} + f^{{(3)}}_{n - 9} + f^{{(3)}}_{n - 8} + f^{{(3)}}_{n - 7} + f^{{(3)}}_{n - 8} + f^{{(3)}}_{n - 7} + f^{{(3)}}_{n - 6} + f^{{(3)}}_{n - 9} + f^{{(3)}}_{n - 8} + f^{{(3)}}_{n - 7} + f^{{(3)}}_{n - 8} + f^{{(3)}}_{n - 7} + f^{{(3)}}_{n - 6} + f^{{(3)}}_{n - 7} + f^{{(3)}}_{n - 6} + f^{{(3)}}_{n - 5} + f^{{(3)}}_{n - 8} + f^{{(3)}}_{n - 7} + f^{{(3)}}_{n - 6} + f^{{(3)}}_{n - 7} + f^{{(3)}}_{n - 6} + f^{{(3)}}_{n - 5} + f^{{(3)}}_{n - 6} + f^{{(3)}}_{n - 5} + f^{{(3)}}_{n - 4} + f^{{(3)}}_{n - 11} + f^{{(3)}}_{n - 10} + f^{{(3)}}_{n - 9} + f^{{(3)}}_{n - 10} + f^{{(3)}}_{n - 9} + f^{{(3)}}_{n - 8} + f^{{(3)}}_{n - 9} + f^{{(3)}}_{n - 8} + f^{{(3)}}_{n - 7} + f^{{(3)}}_{n - 10} + f^{{(3)}}_{n - 9} + f^{{(3)}}_{n - 8} + f^{{(3)}}_{n - 9} + f^{{(3)}}_{n - 8} + f^{{(3)}}_{n - 7} + f^{{(3)}}_{n - 8} + f^{{(3)}}_{n - 7} + f^{{(3)}}_{n - 6} + f^{{(3)}}_{n - 9} + f^{{(3)}}_{n - 8} + f^{{(3)}}_{n - 7} + f^{{(3)}}_{n - 8} + f^{{(3)}}_{n - 7} + f^{{(3)}}_{n - 6} + f^{{(3)}}_{n - 7} + f^{{(3)}}_{n - 6} + f^{{(3)}}_{n - 5} + f^{{(3)}}_{n - 13} + f^{{(3)}}_{n - 12} + f^{{(3)}}_{n - 11} + f^{{(3)}}_{n - 12} + f^{{(3)}}_{n - 11} + f^{{(3)}}_{n - 10} + f^{{(3)}}_{n - 11} + f^{{(3)}}_{n - 10} + f^{{(3)}}_{n - 9} + f^{{(3)}}_{n - 12} + f^{{(3)}}_{n - 11} + f^{{(3)}}_{n - 10} + f^{{(3)}}_{n - 11} + f^{{(3)}}_{n - 10} + f^{{(3)}}_{n - 9} + f^{{(3)}}_{n - 10} + f^{{(3)}}_{n - 9} + f^{{(3)}}_{n - 8} + f^{{(3)}}_{n - 11} + f^{{(3)}}_{n - 10} + f^{{(3)}}_{n - 9} + f^{{(3)}}_{n - 10} + f^{{(3)}}_{n - 9} + f^{{(3)}}_{n - 8} + f^{{(3)}}_{n - 9} + f^{{(3)}}_{n - 8} + f^{{(3)}}_{n - 7} + f^{{(3)}}_{n - 12} + f^{{(3)}}_{n - 11} + f^{{(3)}}_{n - 10} + f^{{(3)}}_{n - 11} + f^{{(3)}}_{n - 10} + f^{{(3)}}_{n - 9} + f^{{(3)}}_{n - 10} + f^{{(3)}}_{n - 9} + f^{{(3)}}_{n - 8} + f^{{(3)}}_{n - 11} + f^{{(3)}}_{n - 10} + f^{{(3)}}_{n - 9} + f^{{(3)}}_{n - 10} + f^{{(3)}}_{n - 9} + f^{{(3)}}_{n - 8} + f^{{(3)}}_{n - 9} + f^{{(3)}}_{n - 8} + f^{{(3)}}_{n - 7} + f^{{(3)}}_{n - 10} + f^{{(3)}}_{n - 9} + f^{{(3)}}_{n - 8} + f^{{(3)}}_{n - 9} + f^{{(3)}}_{n - 8} + f^{{(3)}}_{n - 7} + f^{{(3)}}_{n - 8} + f^{{(3)}}_{n - 7} + f^{{(3)}}_{n - 6} + f^{{(3)}}_{n - 11} + f^{{(3)}}_{n - 10} + f^{{(3)}}_{n - 9} + f^{{(3)}}_{n - 10} + f^{{(3)}}_{n - 9} + f^{{(3)}}_{n - 8} + f^{{(3)}}_{n - 9} + f^{{(3)}}_{n - 8} + f^{{(3)}}_{n - 7} + f^{{(3)}}_{n - 10} + f^{{(3)}}_{n - 9} + f^{{(3)}}_{n - 8} + f^{{(3)}}_{n - 9} + f^{{(3)}}_{n - 8} + f^{{(3)}}_{n - 7} + f^{{(3)}}_{n - 8} + f^{{(3)}}_{n - 7} + f^{{(3)}}_{n - 6} + f^{{(3)}}_{n - 9} + f^{{(3)}}_{n - 8} + f^{{(3)}}_{n - 7} + f^{{(3)}}_{n - 8} + f^{{(3)}}_{n - 7} + f^{{(3)}}_{n - 6} + f^{{(3)}}_{n - 7} + f^{{(3)}}_{n - 6} + f^{{(3)}}_{n - 5}$$"
      ],
      "text/plain": [
       "f^{(3)}[n + 3] = f^{(3)}[n - 13] + f^{(3)}[n - 12] + f^{(3)}[n - 11] + f^{(3)}\n",
       "[n - 12] + f^{(3)}[n - 11] + f^{(3)}[n - 10] + f^{(3)}[n - 11] + f^{(3)}[n - 1\n",
       "0] + f^{(3)}[n - 9] + f^{(3)}[n - 12] + f^{(3)}[n - 11] + f^{(3)}[n - 10] + f^\n",
       "{(3)}[n - 11] + f^{(3)}[n - 10] + f^{(3)}[n - 9] + f^{(3)}[n - 10] + f^{(3)}[n\n",
       " - 9] + f^{(3)}[n - 8] + f^{(3)}[n - 11] + f^{(3)}[n - 10] + f^{(3)}[n - 9] + \n",
       "f^{(3)}[n - 10] + f^{(3)}[n - 9] + f^{(3)}[n - 8] + f^{(3)}[n - 9] + f^{(3)}[n\n",
       " - 8] + f^{(3)}[n - 7] + f^{(3)}[n - 12] + f^{(3)}[n - 11] + f^{(3)}[n - 10] +\n",
       " f^{(3)}[n - 11] + f^{(3)}[n - 10] + f^{(3)}[n - 9] + f^{(3)}[n - 10] + f^{(3)\n",
       "}[n - 9] + f^{(3)}[n - 8] + f^{(3)}[n - 11] + f^{(3)}[n - 10] + f^{(3)}[n - 9]\n",
       " + f^{(3)}[n - 10] + f^{(3)}[n - 9] + f^{(3)}[n - 8] + f^{(3)}[n - 9] + f^{(3)\n",
       "}[n - 8] + f^{(3)}[n - 7] + f^{(3)}[n - 10] + f^{(3)}[n - 9] + f^{(3)}[n - 8] \n",
       "+ f^{(3)}[n - 9] + f^{(3)}[n - 8] + f^{(3)}[n - 7] + f^{(3)}[n - 8] + f^{(3)}[\n",
       "n - 7] + f^{(3)}[n - 6] + f^{(3)}[n - 11] + f^{(3)}[n - 10] + f^{(3)}[n - 9] +\n",
       " f^{(3)}[n - 10] + f^{(3)}[n - 9] + f^{(3)}[n - 8] + f^{(3)}[n - 9] + f^{(3)}[\n",
       "n - 8] + f^{(3)}[n - 7] + f^{(3)}[n - 10] + f^{(3)}[n - 9] + f^{(3)}[n - 8] + \n",
       "f^{(3)}[n - 9] + f^{(3)}[n - 8] + f^{(3)}[n - 7] + f^{(3)}[n - 8] + f^{(3)}[n \n",
       "- 7] + f^{(3)}[n - 6] + f^{(3)}[n - 9] + f^{(3)}[n - 8] + f^{(3)}[n - 7] + f^{\n",
       "(3)}[n - 8] + f^{(3)}[n - 7] + f^{(3)}[n - 6] + f^{(3)}[n - 7] + f^{(3)}[n - 6\n",
       "] + f^{(3)}[n - 5] + f^{(3)}[n - 15] + f^{(3)}[n - 14] + f^{(3)}[n - 13] + f^{\n",
       "(3)}[n - 14] + f^{(3)}[n - 13] + f^{(3)}[n - 12] + f^{(3)}[n - 13] + f^{(3)}[n\n",
       " - 12] + f^{(3)}[n - 11] + f^{(3)}[n - 14] + f^{(3)}[n - 13] + f^{(3)}[n - 12]\n",
       " + f^{(3)}[n - 13] + f^{(3)}[n - 12] + f^{(3)}[n - 11] + f^{(3)}[n - 12] + f^{\n",
       "(3)}[n - 11] + f^{(3)}[n - 10] + f^{(3)}[n - 13] + f^{(3)}[n - 12] + f^{(3)}[n\n",
       " - 11] + f^{(3)}[n - 12] + f^{(3)}[n - 11] + f^{(3)}[n - 10] + f^{(3)}[n - 11]\n",
       " + f^{(3)}[n - 10] + f^{(3)}[n - 9] + f^{(3)}[n - 14] + f^{(3)}[n - 13] + f^{(\n",
       "3)}[n - 12] + f^{(3)}[n - 13] + f^{(3)}[n - 12] + f^{(3)}[n - 11] + f^{(3)}[n \n",
       "- 12] + f^{(3)}[n - 11] + f^{(3)}[n - 10] + f^{(3)}[n - 13] + f^{(3)}[n - 12] \n",
       "+ f^{(3)}[n - 11] + f^{(3)}[n - 12] + f^{(3)}[n - 11] + f^{(3)}[n - 10] + f^{(\n",
       "3)}[n - 11] + f^{(3)}[n - 10] + f^{(3)}[n - 9] + f^{(3)}[n - 12] + f^{(3)}[n -\n",
       " 11] + f^{(3)}[n - 10] + f^{(3)}[n - 11] + f^{(3)}[n - 10] + f^{(3)}[n - 9] + \n",
       "f^{(3)}[n - 10] + f^{(3)}[n - 9] + f^{(3)}[n - 8] + f^{(3)}[n - 13] + f^{(3)}[\n",
       "n - 12] + f^{(3)}[n - 11] + f^{(3)}[n - 12] + f^{(3)}[n - 11] + f^{(3)}[n - 10\n",
       "] + f^{(3)}[n - 11] + f^{(3)}[n - 10] + f^{(3)}[n - 9] + f^{(3)}[n - 12] + f^{\n",
       "(3)}[n - 11] + f^{(3)}[n - 10] + f^{(3)}[n - 11] + f^{(3)}[n - 10] + f^{(3)}[n\n",
       " - 9] + f^{(3)}[n - 10] + f^{(3)}[n - 9] + f^{(3)}[n - 8] + f^{(3)}[n - 11] + \n",
       "f^{(3)}[n - 10] + f^{(3)}[n - 9] + f^{(3)}[n - 10] + f^{(3)}[n - 9] + f^{(3)}[\n",
       "n - 8] + f^{(3)}[n - 9] + f^{(3)}[n - 8] + f^{(3)}[n - 7] + f^{(3)}[n - 14] + \n",
       "f^{(3)}[n - 13] + f^{(3)}[n - 12] + f^{(3)}[n - 13] + f^{(3)}[n - 12] + f^{(3)\n",
       "}[n - 11] + f^{(3)}[n - 12] + f^{(3)}[n - 11] + f^{(3)}[n - 10] + f^{(3)}[n - \n",
       "13] + f^{(3)}[n - 12] + f^{(3)}[n - 11] + f^{(3)}[n - 12] + f^{(3)}[n - 11] + \n",
       "f^{(3)}[n - 10] + f^{(3)}[n - 11] + f^{(3)}[n - 10] + f^{(3)}[n - 9] + f^{(3)}\n",
       "[n - 12] + f^{(3)}[n - 11] + f^{(3)}[n - 10] + f^{(3)}[n - 11] + f^{(3)}[n - 1\n",
       "0] + f^{(3)}[n - 9] + f^{(3)}[n - 10] + f^{(3)}[n - 9] + f^{(3)}[n - 8] + f^{(\n",
       "3)}[n - 13] + f^{(3)}[n - 12] + f^{(3)}[n - 11] + f^{(3)}[n - 12] + f^{(3)}[n \n",
       "- 11] + f^{(3)}[n - 10] + f^{(3)}[n - 11] + f^{(3)}[n - 10] + f^{(3)}[n - 9] +\n",
       " f^{(3)}[n - 12] + f^{(3)}[n - 11] + f^{(3)}[n - 10] + f^{(3)}[n - 11] + f^{(3\n",
       ")}[n - 10] + f^{(3)}[n - 9] + f^{(3)}[n - 10] + f^{(3)}[n - 9] + f^{(3)}[n - 8\n",
       "] + f^{(3)}[n - 11] + f^{(3)}[n - 10] + f^{(3)}[n - 9] + f^{(3)}[n - 10] + f^{\n",
       "(3)}[n - 9] + f^{(3)}[n - 8] + f^{(3)}[n - 9] + f^{(3)}[n - 8] + f^{(3)}[n - 7\n",
       "] + f^{(3)}[n - 12] + f^{(3)}[n - 11] + f^{(3)}[n - 10] + f^{(3)}[n - 11] + f^\n",
       "{(3)}[n - 10] + f^{(3)}[n - 9] + f^{(3)}[n - 10] + f^{(3)}[n - 9] + f^{(3)}[n \n",
       "- 8] + f^{(3)}[n - 11] + f^{(3)}[n - 10] + f^{(3)}[n - 9] + f^{(3)}[n - 10] + \n",
       "f^{(3)}[n - 9] + f^{(3)}[n - 8] + f^{(3)}[n - 9] + f^{(3)}[n - 8] + f^{(3)}[n \n",
       "- 7] + f^{(3)}[n - 10] + f^{(3)}[n - 9] + f^{(3)}[n - 8] + f^{(3)}[n - 9] + f^\n",
       "{(3)}[n - 8] + f^{(3)}[n - 7] + f^{(3)}[n - 8] + f^{(3)}[n - 7] + f^{(3)}[n - \n",
       "6] + f^{(3)}[n - 10] + f^{(3)}[n - 9] + f^{(3)}[n - 8] + f^{(3)}[n - 9] + f^{(\n",
       "3)}[n - 8] + f^{(3)}[n - 7] + f^{(3)}[n - 8] + f^{(3)}[n - 7] + f^{(3)}[n - 6]\n",
       " + f^{(3)}[n - 9] + f^{(3)}[n - 8] + f^{(3)}[n - 7] + f^{(3)}[n - 8] + f^{(3)}\n",
       "[n - 7] + f^{(3)}[n - 6] + f^{(3)}[n - 7] + f^{(3)}[n - 6] + f^{(3)}[n - 5] + \n",
       "f^{(3)}[n - 8] + f^{(3)}[n - 7] + f^{(3)}[n - 6] + f^{(3)}[n - 7] + f^{(3)}[n \n",
       "- 6] + f^{(3)}[n - 5] + f^{(3)}[n - 6] + f^{(3)}[n - 5] + f^{(3)}[n - 4] + f^{\n",
       "(3)}[n - 12] + f^{(3)}[n - 11] + f^{(3)}[n - 10] + f^{(3)}[n - 11] + f^{(3)}[n\n",
       " - 10] + f^{(3)}[n - 9] + f^{(3)}[n - 10] + f^{(3)}[n - 9] + f^{(3)}[n - 8] + \n",
       "f^{(3)}[n - 11] + f^{(3)}[n - 10] + f^{(3)}[n - 9] + f^{(3)}[n - 10] + f^{(3)}\n",
       "[n - 9] + f^{(3)}[n - 8] + f^{(3)}[n - 9] + f^{(3)}[n - 8] + f^{(3)}[n - 7] + \n",
       "f^{(3)}[n - 10] + f^{(3)}[n - 9] + f^{(3)}[n - 8] + f^{(3)}[n - 9] + f^{(3)}[n\n",
       " - 8] + f^{(3)}[n - 7] + f^{(3)}[n - 8] + f^{(3)}[n - 7] + f^{(3)}[n - 6] + f^\n",
       "{(3)}[n - 11] + f^{(3)}[n - 10] + f^{(3)}[n - 9] + f^{(3)}[n - 10] + f^{(3)}[n\n",
       " - 9] + f^{(3)}[n - 8] + f^{(3)}[n - 9] + f^{(3)}[n - 8] + f^{(3)}[n - 7] + f^\n",
       "{(3)}[n - 10] + f^{(3)}[n - 9] + f^{(3)}[n - 8] + f^{(3)}[n - 9] + f^{(3)}[n -\n",
       " 8] + f^{(3)}[n - 7] + f^{(3)}[n - 8] + f^{(3)}[n - 7] + f^{(3)}[n - 6] + f^{(\n",
       "3)}[n - 9] + f^{(3)}[n - 8] + f^{(3)}[n - 7] + f^{(3)}[n - 8] + f^{(3)}[n - 7]\n",
       " + f^{(3)}[n - 6] + f^{(3)}[n - 7] + f^{(3)}[n - 6] + f^{(3)}[n - 5] + f^{(3)}\n",
       "[n - 13] + f^{(3)}[n - 12] + f^{(3)}[n - 11] + f^{(3)}[n - 12] + f^{(3)}[n - 1\n",
       "1] + f^{(3)}[n - 10] + f^{(3)}[n - 11] + f^{(3)}[n - 10] + f^{(3)}[n - 9] + f^\n",
       "{(3)}[n - 12] + f^{(3)}[n - 11] + f^{(3)}[n - 10] + f^{(3)}[n - 11] + f^{(3)}[\n",
       "n - 10] + f^{(3)}[n - 9] + f^{(3)}[n - 10] + f^{(3)}[n - 9] + f^{(3)}[n - 8] +\n",
       " f^{(3)}[n - 11] + f^{(3)}[n - 10] + f^{(3)}[n - 9] + f^{(3)}[n - 10] + f^{(3)\n",
       "}[n - 9] + f^{(3)}[n - 8] + f^{(3)}[n - 9] + f^{(3)}[n - 8] + f^{(3)}[n - 7] +\n",
       " f^{(3)}[n - 12] + f^{(3)}[n - 11] + f^{(3)}[n - 10] + f^{(3)}[n - 11] + f^{(3\n",
       ")}[n - 10] + f^{(3)}[n - 9] + f^{(3)}[n - 10] + f^{(3)}[n - 9] + f^{(3)}[n - 8\n",
       "] + f^{(3)}[n - 11] + f^{(3)}[n - 10] + f^{(3)}[n - 9] + f^{(3)}[n - 10] + f^{\n",
       "(3)}[n - 9] + f^{(3)}[n - 8] + f^{(3)}[n - 9] + f^{(3)}[n - 8] + f^{(3)}[n - 7\n",
       "] + f^{(3)}[n - 10] + f^{(3)}[n - 9] + f^{(3)}[n - 8] + f^{(3)}[n - 9] + f^{(3\n",
       ")}[n - 8] + f^{(3)}[n - 7] + f^{(3)}[n - 8] + f^{(3)}[n - 7] + f^{(3)}[n - 6] \n",
       "+ f^{(3)}[n - 11] + f^{(3)}[n - 10] + f^{(3)}[n - 9] + f^{(3)}[n - 10] + f^{(3\n",
       ")}[n - 9] + f^{(3)}[n - 8] + f^{(3)}[n - 9] + f^{(3)}[n - 8] + f^{(3)}[n - 7] \n",
       "+ f^{(3)}[n - 10] + f^{(3)}[n - 9] + f^{(3)}[n - 8] + f^{(3)}[n - 9] + f^{(3)}\n",
       "[n - 8] + f^{(3)}[n - 7] + f^{(3)}[n - 8] + f^{(3)}[n - 7] + f^{(3)}[n - 6] + \n",
       "f^{(3)}[n - 9] + f^{(3)}[n - 8] + f^{(3)}[n - 7] + f^{(3)}[n - 8] + f^{(3)}[n \n",
       "- 7] + f^{(3)}[n - 6] + f^{(3)}[n - 7] + f^{(3)}[n - 6] + f^{(3)}[n - 5] + f^{\n",
       "(3)}[n - 14] + f^{(3)}[n - 13] + f^{(3)}[n - 12] + f^{(3)}[n - 13] + f^{(3)}[n\n",
       " - 12] + f^{(3)}[n - 11] + f^{(3)}[n - 12] + f^{(3)}[n - 11] + f^{(3)}[n - 10]\n",
       " + f^{(3)}[n - 13] + f^{(3)}[n - 12] + f^{(3)}[n - 11] + f^{(3)}[n - 12] + f^{\n",
       "(3)}[n - 11] + f^{(3)}[n - 10] + f^{(3)}[n - 11] + f^{(3)}[n - 10] + f^{(3)}[n\n",
       " - 9] + f^{(3)}[n - 12] + f^{(3)}[n - 11] + f^{(3)}[n - 10] + f^{(3)}[n - 11] \n",
       "+ f^{(3)}[n - 10] + f^{(3)}[n - 9] + f^{(3)}[n - 10] + f^{(3)}[n - 9] + f^{(3)\n",
       "}[n - 8] + f^{(3)}[n - 13] + f^{(3)}[n - 12] + f^{(3)}[n - 11] + f^{(3)}[n - 1\n",
       "2] + f^{(3)}[n - 11] + f^{(3)}[n - 10] + f^{(3)}[n - 11] + f^{(3)}[n - 10] + f\n",
       "^{(3)}[n - 9] + f^{(3)}[n - 12] + f^{(3)}[n - 11] + f^{(3)}[n - 10] + f^{(3)}[\n",
       "n - 11] + f^{(3)}[n - 10] + f^{(3)}[n - 9] + f^{(3)}[n - 10] + f^{(3)}[n - 9] \n",
       "+ f^{(3)}[n - 8] + f^{(3)}[n - 11] + f^{(3)}[n - 10] + f^{(3)}[n - 9] + f^{(3)\n",
       "}[n - 10] + f^{(3)}[n - 9] + f^{(3)}[n - 8] + f^{(3)}[n - 9] + f^{(3)}[n - 8] \n",
       "+ f^{(3)}[n - 7] + f^{(3)}[n - 12] + f^{(3)}[n - 11] + f^{(3)}[n - 10] + f^{(3\n",
       ")}[n - 11] + f^{(3)}[n - 10] + f^{(3)}[n - 9] + f^{(3)}[n - 10] + f^{(3)}[n - \n",
       "9] + f^{(3)}[n - 8] + f^{(3)}[n - 11] + f^{(3)}[n - 10] + f^{(3)}[n - 9] + f^{\n",
       "(3)}[n - 10] + f^{(3)}[n - 9] + f^{(3)}[n - 8] + f^{(3)}[n - 9] + f^{(3)}[n - \n",
       "8] + f^{(3)}[n - 7] + f^{(3)}[n - 10] + f^{(3)}[n - 9] + f^{(3)}[n - 8] + f^{(\n",
       "3)}[n - 9] + f^{(3)}[n - 8] + f^{(3)}[n - 7] + f^{(3)}[n - 8] + f^{(3)}[n - 7]\n",
       " + f^{(3)}[n - 6] + f^{(3)}[n - 10] + f^{(3)}[n - 9] + f^{(3)}[n - 8] + f^{(3)\n",
       "}[n - 9] + f^{(3)}[n - 8] + f^{(3)}[n - 7] + f^{(3)}[n - 8] + f^{(3)}[n - 7] +\n",
       " f^{(3)}[n - 6] + f^{(3)}[n - 9] + f^{(3)}[n - 8] + f^{(3)}[n - 7] + f^{(3)}[n\n",
       " - 8] + f^{(3)}[n - 7] + f^{(3)}[n - 6] + f^{(3)}[n - 7] + f^{(3)}[n - 6] + f^\n",
       "{(3)}[n - 5] + f^{(3)}[n - 8] + f^{(3)}[n - 7] + f^{(3)}[n - 6] + f^{(3)}[n - \n",
       "7] + f^{(3)}[n - 6] + f^{(3)}[n - 5] + f^{(3)}[n - 6] + f^{(3)}[n - 5] + f^{(3\n",
       ")}[n - 4] + f^{(3)}[n - 12] + f^{(3)}[n - 11] + f^{(3)}[n - 10] + f^{(3)}[n - \n",
       "11] + f^{(3)}[n - 10] + f^{(3)}[n - 9] + f^{(3)}[n - 10] + f^{(3)}[n - 9] + f^\n",
       "{(3)}[n - 8] + f^{(3)}[n - 11] + f^{(3)}[n - 10] + f^{(3)}[n - 9] + f^{(3)}[n \n",
       "- 10] + f^{(3)}[n - 9] + f^{(3)}[n - 8] + f^{(3)}[n - 9] + f^{(3)}[n - 8] + f^\n",
       "{(3)}[n - 7] + f^{(3)}[n - 10] + f^{(3)}[n - 9] + f^{(3)}[n - 8] + f^{(3)}[n -\n",
       " 9] + f^{(3)}[n - 8] + f^{(3)}[n - 7] + f^{(3)}[n - 8] + f^{(3)}[n - 7] + f^{(\n",
       "3)}[n - 6] + f^{(3)}[n - 11] + f^{(3)}[n - 10] + f^{(3)}[n - 9] + f^{(3)}[n - \n",
       "10] + f^{(3)}[n - 9] + f^{(3)}[n - 8] + f^{(3)}[n - 9] + f^{(3)}[n - 8] + f^{(\n",
       "3)}[n - 7] + f^{(3)}[n - 10] + f^{(3)}[n - 9] + f^{(3)}[n - 8] + f^{(3)}[n - 9\n",
       "] + f^{(3)}[n - 8] + f^{(3)}[n - 7] + f^{(3)}[n - 8] + f^{(3)}[n - 7] + f^{(3)\n",
       "}[n - 6] + f^{(3)}[n - 9] + f^{(3)}[n - 8] + f^{(3)}[n - 7] + f^{(3)}[n - 8] +\n",
       " f^{(3)}[n - 7] + f^{(3)}[n - 6] + f^{(3)}[n - 7] + f^{(3)}[n - 6] + f^{(3)}[n\n",
       " - 5] + f^{(3)}[n - 7] + f^{(3)}[n - 6] + f^{(3)}[n - 5] + f^{(3)}[n - 6] + f^\n",
       "{(3)}[n - 5] + f^{(3)}[n - 4] + f^{(3)}[n - 5] + f^{(3)}[n - 4] + f^{(3)}[n - \n",
       "3] + f^{(3)}[n - 9] + f^{(3)}[n - 8] + f^{(3)}[n - 7] + f^{(3)}[n - 8] + f^{(3\n",
       ")}[n - 7] + f^{(3)}[n - 6] + f^{(3)}[n - 7] + f^{(3)}[n - 6] + f^{(3)}[n - 5] \n",
       "+ f^{(3)}[n - 8] + f^{(3)}[n - 7] + f^{(3)}[n - 6] + f^{(3)}[n - 7] + f^{(3)}[\n",
       "n - 6] + f^{(3)}[n - 5] + f^{(3)}[n - 6] + f^{(3)}[n - 5] + f^{(3)}[n - 4] + f\n",
       "^{(3)}[n - 10] + f^{(3)}[n - 9] + f^{(3)}[n - 8] + f^{(3)}[n - 9] + f^{(3)}[n \n",
       "- 8] + f^{(3)}[n - 7] + f^{(3)}[n - 8] + f^{(3)}[n - 7] + f^{(3)}[n - 6] + f^{\n",
       "(3)}[n - 9] + f^{(3)}[n - 8] + f^{(3)}[n - 7] + f^{(3)}[n - 8] + f^{(3)}[n - 7\n",
       "] + f^{(3)}[n - 6] + f^{(3)}[n - 7] + f^{(3)}[n - 6] + f^{(3)}[n - 5] + f^{(3)\n",
       "}[n - 8] + f^{(3)}[n - 7] + f^{(3)}[n - 6] + f^{(3)}[n - 7] + f^{(3)}[n - 6] +\n",
       " f^{(3)}[n - 5] + f^{(3)}[n - 6] + f^{(3)}[n - 5] + f^{(3)}[n - 4] + f^{(3)}[n\n",
       " - 11] + f^{(3)}[n - 10] + f^{(3)}[n - 9] + f^{(3)}[n - 10] + f^{(3)}[n - 9] +\n",
       " f^{(3)}[n - 8] + f^{(3)}[n - 9] + f^{(3)}[n - 8] + f^{(3)}[n - 7] + f^{(3)}[n\n",
       " - 10] + f^{(3)}[n - 9] + f^{(3)}[n - 8] + f^{(3)}[n - 9] + f^{(3)}[n - 8] + f\n",
       "^{(3)}[n - 7] + f^{(3)}[n - 8] + f^{(3)}[n - 7] + f^{(3)}[n - 6] + f^{(3)}[n -\n",
       " 9] + f^{(3)}[n - 8] + f^{(3)}[n - 7] + f^{(3)}[n - 8] + f^{(3)}[n - 7] + f^{(\n",
       "3)}[n - 6] + f^{(3)}[n - 7] + f^{(3)}[n - 6] + f^{(3)}[n - 5] + f^{(3)}[n - 13\n",
       "] + f^{(3)}[n - 12] + f^{(3)}[n - 11] + f^{(3)}[n - 12] + f^{(3)}[n - 11] + f^\n",
       "{(3)}[n - 10] + f^{(3)}[n - 11] + f^{(3)}[n - 10] + f^{(3)}[n - 9] + f^{(3)}[n\n",
       " - 12] + f^{(3)}[n - 11] + f^{(3)}[n - 10] + f^{(3)}[n - 11] + f^{(3)}[n - 10]\n",
       " + f^{(3)}[n - 9] + f^{(3)}[n - 10] + f^{(3)}[n - 9] + f^{(3)}[n - 8] + f^{(3)\n",
       "}[n - 11] + f^{(3)}[n - 10] + f^{(3)}[n - 9] + f^{(3)}[n - 10] + f^{(3)}[n - 9\n",
       "] + f^{(3)}[n - 8] + f^{(3)}[n - 9] + f^{(3)}[n - 8] + f^{(3)}[n - 7] + f^{(3)\n",
       "}[n - 12] + f^{(3)}[n - 11] + f^{(3)}[n - 10] + f^{(3)}[n - 11] + f^{(3)}[n - \n",
       "10] + f^{(3)}[n - 9] + f^{(3)}[n - 10] + f^{(3)}[n - 9] + f^{(3)}[n - 8] + f^{\n",
       "(3)}[n - 11] + f^{(3)}[n - 10] + f^{(3)}[n - 9] + f^{(3)}[n - 10] + f^{(3)}[n \n",
       "- 9] + f^{(3)}[n - 8] + f^{(3)}[n - 9] + f^{(3)}[n - 8] + f^{(3)}[n - 7] + f^{\n",
       "(3)}[n - 10] + f^{(3)}[n - 9] + f^{(3)}[n - 8] + f^{(3)}[n - 9] + f^{(3)}[n - \n",
       "8] + f^{(3)}[n - 7] + f^{(3)}[n - 8] + f^{(3)}[n - 7] + f^{(3)}[n - 6] + f^{(3\n",
       ")}[n - 11] + f^{(3)}[n - 10] + f^{(3)}[n - 9] + f^{(3)}[n - 10] + f^{(3)}[n - \n",
       "9] + f^{(3)}[n - 8] + f^{(3)}[n - 9] + f^{(3)}[n - 8] + f^{(3)}[n - 7] + f^{(3\n",
       ")}[n - 10] + f^{(3)}[n - 9] + f^{(3)}[n - 8] + f^{(3)}[n - 9] + f^{(3)}[n - 8]\n",
       " + f^{(3)}[n - 7] + f^{(3)}[n - 8] + f^{(3)}[n - 7] + f^{(3)}[n - 6] + f^{(3)}\n",
       "[n - 9] + f^{(3)}[n - 8] + f^{(3)}[n - 7] + f^{(3)}[n - 8] + f^{(3)}[n - 7] + \n",
       "f^{(3)}[n - 6] + f^{(3)}[n - 7] + f^{(3)}[n - 6] + f^{(3)}[n - 5]"
      ]
     },
     "execution_count": 34,
     "metadata": {},
     "output_type": "execute_result"
    }
   ],
   "source": [
    "unfolded = do_unfolding_steps(tribonacci_recurrence_spec, 5)\n",
    "recurrence_eq = project_recurrence_spec(unfolded, recurrence_eq=True)\n",
    "recurrence_eq"
   ]
  },
  {
   "cell_type": "code",
   "execution_count": 35,
   "metadata": {
    "collapsed": false
   },
   "outputs": [
    {
     "data": {
      "image/png": "[encoded data removed]",
      "text/latex": [
       "$$f^{{(3)}}_{n + 3} = f^{{(3)}}_{n - 15} + 6 f^{{(3)}}_{n - 14} + 21 f^{{(3)}}_{n - 13} + 50 f^{{(3)}}_{n - 12} + 90 f^{{(3)}}_{n - 11} + 126 f^{{(3)}}_{n - 10} + 141 f^{{(3)}}_{n - 9} + 126 f^{{(3)}}_{n - 8} + 90 f^{{(3)}}_{n - 7} + 50 f^{{(3)}}_{n - 6} + 21 f^{{(3)}}_{n - 5} + 6 f^{{(3)}}_{n - 4} + f^{{(3)}}_{n - 3}$$"
      ],
      "text/plain": [
       "f^{(3)}[n + 3] = f^{(3)}[n - 15] + 6⋅f^{(3)}[n - 14] + 21⋅f^{(3)}[n - 13] + 50\n",
       "⋅f^{(3)}[n - 12] + 90⋅f^{(3)}[n - 11] + 126⋅f^{(3)}[n - 10] + 141⋅f^{(3)}[n - \n",
       "9] + 126⋅f^{(3)}[n - 8] + 90⋅f^{(3)}[n - 7] + 50⋅f^{(3)}[n - 6] + 21⋅f^{(3)}[n\n",
       " - 5] + 6⋅f^{(3)}[n - 4] + f^{(3)}[n - 3]"
      ]
     },
     "execution_count": 35,
     "metadata": {},
     "output_type": "execute_result"
    }
   ],
   "source": [
    "factored_recurrence_eq = project_recurrence_spec(factor_rhs_unfolded_rec(unfolded), recurrence_eq=True)\n",
    "factored_recurrence_eq"
   ]
  },
  {
   "cell_type": "code",
   "execution_count": 36,
   "metadata": {
    "collapsed": true
   },
   "outputs": [],
   "source": [
    "instantiated_rec_spec = base_instantiation(unfolded)"
   ]
  },
  {
   "cell_type": "code",
   "execution_count": 37,
   "metadata": {
    "collapsed": false
   },
   "outputs": [
    {
     "data": {
      "image/png": "[encoded data removed]",
      "text/latex": [
       "$$\\left ( \\left \\{ f^{{(3)}}_{0} : 0, \\quad f^{{(3)}}_{1} : 0, \\quad f^{{(3)}}_{2} : 1, \\quad f^{{(3)}}_{3} : f^{{(3)}}_{0} + f^{{(3)}}_{1} + f^{{(3)}}_{2}, \\quad f^{{(3)}}_{4} : f^{{(3)}}_{1} + f^{{(3)}}_{2} + f^{{(3)}}_{3}, \\quad f^{{(3)}}_{5} : f^{{(3)}}_{2} + f^{{(3)}}_{3} + f^{{(3)}}_{4}, \\quad f^{{(3)}}_{6} : f^{{(3)}}_{3} + f^{{(3)}}_{4} + f^{{(3)}}_{5}, \\quad f^{{(3)}}_{7} : f^{{(3)}}_{4} + f^{{(3)}}_{5} + f^{{(3)}}_{6}, \\quad f^{{(3)}}_{8} : f^{{(3)}}_{5} + f^{{(3)}}_{6} + f^{{(3)}}_{7}, \\quad f^{{(3)}}_{9} : f^{{(3)}}_{6} + f^{{(3)}}_{7} + f^{{(3)}}_{8}, \\quad f^{{(3)}}_{10} : f^{{(3)}}_{7} + f^{{(3)}}_{8} + f^{{(3)}}_{9}, \\quad f^{{(3)}}_{11} : f^{{(3)}}_{8} + f^{{(3)}}_{9} + f^{{(3)}}_{10}, \\quad f^{{(3)}}_{12} : f^{{(3)}}_{9} + f^{{(3)}}_{10} + f^{{(3)}}_{11}, \\quad f^{{(3)}}_{13} : f^{{(3)}}_{10} + f^{{(3)}}_{11} + f^{{(3)}}_{12}, \\quad f^{{(3)}}_{14} : f^{{(3)}}_{11} + f^{{(3)}}_{12} + f^{{(3)}}_{13}, \\quad f^{{(3)}}_{15} : f^{{(3)}}_{12} + f^{{(3)}}_{13} + f^{{(3)}}_{14}, \\quad f^{{(3)}}_{16} : f^{{(3)}}_{13} + f^{{(3)}}_{14} + f^{{(3)}}_{15}, \\quad f^{{(3)}}_{17} : f^{{(3)}}_{14} + f^{{(3)}}_{15} + f^{{(3)}}_{16}\\right \\}, \\quad f^{{(3)}}_{18} = f^{{(3)}}_{0} + 6 f^{{(3)}}_{1} + 21 f^{{(3)}}_{2} + 50 f^{{(3)}}_{3} + 90 f^{{(3)}}_{4} + 126 f^{{(3)}}_{5} + 141 f^{{(3)}}_{6} + 126 f^{{(3)}}_{7} + 90 f^{{(3)}}_{8} + 50 f^{{(3)}}_{9} + 21 f^{{(3)}}_{10} + 6 f^{{(3)}}_{11} + f^{{(3)}}_{12}\\right )$$"
      ],
      "text/plain": [
       "({f^{(3)}[0]: 0, f^{(3)}[1]: 0, f^{(3)}[2]: 1, f^{(3)}[3]: f^{(3)}[0] + f^{(3)\n",
       "}[1] + f^{(3)}[2], f^{(3)}[4]: f^{(3)}[1] + f^{(3)}[2] + f^{(3)}[3], f^{(3)}[5\n",
       "]: f^{(3)}[2] + f^{(3)}[3] + f^{(3)}[4], f^{(3)}[6]: f^{(3)}[3] + f^{(3)}[4] +\n",
       " f^{(3)}[5], f^{(3)}[7]: f^{(3)}[4] + f^{(3)}[5] + f^{(3)}[6], f^{(3)}[8]: f^{\n",
       "(3)}[5] + f^{(3)}[6] + f^{(3)}[7], f^{(3)}[9]: f^{(3)}[6] + f^{(3)}[7] + f^{(3\n",
       ")}[8], f^{(3)}[10]: f^{(3)}[7] + f^{(3)}[8] + f^{(3)}[9], f^{(3)}[11]: f^{(3)}\n",
       "[8] + f^{(3)}[9] + f^{(3)}[10], f^{(3)}[12]: f^{(3)}[9] + f^{(3)}[10] + f^{(3)\n",
       "}[11], f^{(3)}[13]: f^{(3)}[10] + f^{(3)}[11] + f^{(3)}[12], f^{(3)}[14]: f^{(\n",
       "3)}[11] + f^{(3)}[12] + f^{(3)}[13], f^{(3)}[15]: f^{(3)}[12] + f^{(3)}[13] + \n",
       "f^{(3)}[14], f^{(3)}[16]: f^{(3)}[13] + f^{(3)}[14] + f^{(3)}[15], f^{(3)}[17]\n",
       ": f^{(3)}[14] + f^{(3)}[15] + f^{(3)}[16]}, f^{(3)}[18] = f^{(3)}[0] + 6⋅f^{(3\n",
       ")}[1] + 21⋅f^{(3)}[2] + 50⋅f^{(3)}[3] + 90⋅f^{(3)}[4] + 126⋅f^{(3)}[5] + 141⋅f\n",
       "^{(3)}[6] + 126⋅f^{(3)}[7] + 90⋅f^{(3)}[8] + 50⋅f^{(3)}[9] + 21⋅f^{(3)}[10] + \n",
       "6⋅f^{(3)}[11] + f^{(3)}[12])"
      ]
     },
     "execution_count": 37,
     "metadata": {},
     "output_type": "execute_result"
    }
   ],
   "source": [
    "project_recurrence_spec(instantiated_rec_spec, recurrence_eq=True, terms_cache=True)"
   ]
  },
  {
   "cell_type": "code",
   "execution_count": 38,
   "metadata": {
    "collapsed": false
   },
   "outputs": [
    {
     "data": {
      "image/png": "[encoded data removed]",
      "text/latex": [
       "$$\\left ( \\left \\{ f^{{(3)}}_{0} : 0, \\quad f^{{(3)}}_{1} : 0, \\quad f^{{(3)}}_{2} : 1, \\quad f^{{(3)}}_{3} : 1, \\quad f^{{(3)}}_{4} : 2, \\quad f^{{(3)}}_{5} : 4, \\quad f^{{(3)}}_{6} : 7, \\quad f^{{(3)}}_{7} : 13, \\quad f^{{(3)}}_{8} : 24, \\quad f^{{(3)}}_{9} : 44, \\quad f^{{(3)}}_{10} : 81, \\quad f^{{(3)}}_{11} : 149, \\quad f^{{(3)}}_{12} : 274, \\quad f^{{(3)}}_{13} : 504, \\quad f^{{(3)}}_{14} : 927, \\quad f^{{(3)}}_{15} : 1705, \\quad f^{{(3)}}_{16} : 3136, \\quad f^{{(3)}}_{17} : 5768\\right \\}, \\quad f^{{(3)}}_{18} = 10609\\right )$$"
      ],
      "text/plain": [
       "({f^{(3)}[0]: 0, f^{(3)}[1]: 0, f^{(3)}[2]: 1, f^{(3)}[3]: 1, f^{(3)}[4]: 2, f\n",
       "^{(3)}[5]: 4, f^{(3)}[6]: 7, f^{(3)}[7]: 13, f^{(3)}[8]: 24, f^{(3)}[9]: 44, f\n",
       "^{(3)}[10]: 81, f^{(3)}[11]: 149, f^{(3)}[12]: 274, f^{(3)}[13]: 504, f^{(3)}[\n",
       "14]: 927, f^{(3)}[15]: 1705, f^{(3)}[16]: 3136, f^{(3)}[17]: 5768}, f^{(3)}[18\n",
       "] = 10609)"
      ]
     },
     "execution_count": 38,
     "metadata": {},
     "output_type": "execute_result"
    }
   ],
   "source": [
    "fully_instantiated_spec = repeated_instantiating(instantiated_rec_spec)\n",
    "project_recurrence_spec(fully_instantiated_spec, recurrence_eq=True, terms_cache=True)"
   ]
  },
  {
   "cell_type": "code",
   "execution_count": 39,
   "metadata": {
    "collapsed": false
   },
   "outputs": [
    {
     "data": {
      "text/latex": [
       "\\begin{array}{c}f^{{(3)}}_{3} = f^{{(3)}}_{0} + f^{{(3)}}_{1} + f^{{(3)}}_{2}\\\\\n",
       "f^{{(3)}}_{6} = f^{{(3)}}_{0} + 2 f^{{(3)}}_{1} + 3 f^{{(3)}}_{2} + 2 f^{{(3)}}_{3} + f^{{(3)}}_{4}\\\\\n",
       "f^{{(3)}}_{9} = f^{{(3)}}_{0} + 3 f^{{(3)}}_{1} + 6 f^{{(3)}}_{2} + 7 f^{{(3)}}_{3} + 6 f^{{(3)}}_{4} + 3 f^{{(3)}}_{5} + f^{{(3)}}_{6}\\\\\n",
       "f^{{(3)}}_{12} = f^{{(3)}}_{0} + 4 f^{{(3)}}_{1} + 10 f^{{(3)}}_{2} + 16 f^{{(3)}}_{3} + 19 f^{{(3)}}_{4} + 16 f^{{(3)}}_{5} + 10 f^{{(3)}}_{6} + 4 f^{{(3)}}_{7} + f^{{(3)}}_{8}\\\\\n",
       "f^{{(3)}}_{15} = f^{{(3)}}_{0} + 5 f^{{(3)}}_{1} + 15 f^{{(3)}}_{2} + 30 f^{{(3)}}_{3} + 45 f^{{(3)}}_{4} + 51 f^{{(3)}}_{5} + 45 f^{{(3)}}_{6} + 30 f^{{(3)}}_{7} + 15 f^{{(3)}}_{8} + 5 f^{{(3)}}_{9} + f^{{(3)}}_{10}\\\\\n",
       "f^{{(3)}}_{18} = f^{{(3)}}_{0} + 6 f^{{(3)}}_{1} + 21 f^{{(3)}}_{2} + 50 f^{{(3)}}_{3} + 90 f^{{(3)}}_{4} + 126 f^{{(3)}}_{5} + 141 f^{{(3)}}_{6} + 126 f^{{(3)}}_{7} + 90 f^{{(3)}}_{8} + 50 f^{{(3)}}_{9} + 21 f^{{(3)}}_{10} + 6 f^{{(3)}}_{11} + f^{{(3)}}_{12}\\\\\n",
       "f^{{(3)}}_{21} = f^{{(3)}}_{0} + 7 f^{{(3)}}_{1} + 28 f^{{(3)}}_{2} + 77 f^{{(3)}}_{3} + 161 f^{{(3)}}_{4} + 266 f^{{(3)}}_{5} + 357 f^{{(3)}}_{6} + 393 f^{{(3)}}_{7} + 357 f^{{(3)}}_{8} + 266 f^{{(3)}}_{9} + 161 f^{{(3)}}_{10} + 77 f^{{(3)}}_{11} + 28 f^{{(3)}}_{12} + 7 f^{{(3)}}_{13} + f^{{(3)}}_{14}\\\\\\end{array}"
      ],
      "text/plain": [
       "<IPython.core.display.Latex object>"
      ]
     },
     "execution_count": 39,
     "metadata": {},
     "output_type": "execute_result"
    }
   ],
   "source": [
    "ipython_latex(tribonacci_recurrence_spec, times_range=range(7))"
   ]
  },
  {
   "cell_type": "markdown",
   "metadata": {},
   "source": [
    "the sequence lying on the middle in the above triangle is known as [A002426][oeis].\n",
    "\n",
    "[oeis]:http://oeis.org/A002426"
   ]
  },
  {
   "cell_type": "markdown",
   "metadata": {},
   "source": [
    "## Lucas numbers\n",
    "\n",
    "Know as [A000032][oeis].\n",
    "\n",
    "[oeis]:http://oeis.org/A000032"
   ]
  },
  {
   "cell_type": "code",
   "execution_count": 5,
   "metadata": {
    "collapsed": false
   },
   "outputs": [
    {
     "data": {
      "image/png": "[encoded data removed]",
      "text/latex": [
       "$$l_{n + 2} = l_{n} + l_{n + 1}$$"
      ],
      "text/plain": [
       "l[n + 2] = l[n] + l[n + 1]"
      ]
     },
     "execution_count": 5,
     "metadata": {},
     "output_type": "execute_result"
    }
   ],
   "source": [
    "l = IndexedBase('l')\n",
    "lucas_recurrence = Eq(l[n+2],l[n+1]+l[n])\n",
    "lucas_recurrence"
   ]
  },
  {
   "cell_type": "code",
   "execution_count": 6,
   "metadata": {
    "collapsed": true
   },
   "outputs": [],
   "source": [
    "boundary_conditions = {l[0]:Integer(2), l[1]:Integer(1)}\n",
    "lucas_recurrence_spec=dict(recurrence_eq=lucas_recurrence, indexed=l, \n",
    "                               index=n, terms_cache=boundary_conditions)"
   ]
  },
  {
   "cell_type": "code",
   "execution_count": 7,
   "metadata": {
    "collapsed": true
   },
   "outputs": [],
   "source": [
    "unfolded = do_unfolding_steps(lucas_recurrence_spec, 5)"
   ]
  },
  {
   "cell_type": "code",
   "execution_count": 8,
   "metadata": {
    "collapsed": false
   },
   "outputs": [
    {
     "data": {
      "image/png": "[encoded data removed]",
      "text/latex": [
       "$$l_{n + 2} = l_{n - 9} + l_{n - 8} + l_{n - 8} + l_{n - 7} + l_{n - 8} + l_{n - 7} + l_{n - 7} + l_{n - 6} + l_{n - 8} + l_{n - 7} + l_{n - 7} + l_{n - 6} + l_{n - 7} + l_{n - 6} + l_{n - 6} + l_{n - 5} + l_{n - 10} + l_{n - 9} + l_{n - 9} + l_{n - 8} + l_{n - 9} + l_{n - 8} + l_{n - 8} + l_{n - 7} + l_{n - 9} + l_{n - 8} + l_{n - 8} + l_{n - 7} + l_{n - 8} + l_{n - 7} + l_{n - 7} + l_{n - 6} + l_{n - 7} + l_{n - 6} + l_{n - 6} + l_{n - 5} + l_{n - 6} + l_{n - 5} + l_{n - 5} + l_{n - 4} + l_{n - 8} + l_{n - 7} + l_{n - 7} + l_{n - 6} + l_{n - 7} + l_{n - 6} + l_{n - 6} + l_{n - 5} + l_{n - 9} + l_{n - 8} + l_{n - 8} + l_{n - 7} + l_{n - 8} + l_{n - 7} + l_{n - 7} + l_{n - 6} + l_{n - 8} + l_{n - 7} + l_{n - 7} + l_{n - 6} + l_{n - 7} + l_{n - 6} + l_{n - 6} + l_{n - 5}$$"
      ],
      "text/plain": [
       "l[n + 2] = l[n - 9] + l[n - 8] + l[n - 8] + l[n - 7] + l[n - 8] + l[n - 7] + l\n",
       "[n - 7] + l[n - 6] + l[n - 8] + l[n - 7] + l[n - 7] + l[n - 6] + l[n - 7] + l[\n",
       "n - 6] + l[n - 6] + l[n - 5] + l[n - 10] + l[n - 9] + l[n - 9] + l[n - 8] + l[\n",
       "n - 9] + l[n - 8] + l[n - 8] + l[n - 7] + l[n - 9] + l[n - 8] + l[n - 8] + l[n\n",
       " - 7] + l[n - 8] + l[n - 7] + l[n - 7] + l[n - 6] + l[n - 7] + l[n - 6] + l[n \n",
       "- 6] + l[n - 5] + l[n - 6] + l[n - 5] + l[n - 5] + l[n - 4] + l[n - 8] + l[n -\n",
       " 7] + l[n - 7] + l[n - 6] + l[n - 7] + l[n - 6] + l[n - 6] + l[n - 5] + l[n - \n",
       "9] + l[n - 8] + l[n - 8] + l[n - 7] + l[n - 8] + l[n - 7] + l[n - 7] + l[n - 6\n",
       "] + l[n - 8] + l[n - 7] + l[n - 7] + l[n - 6] + l[n - 7] + l[n - 6] + l[n - 6]\n",
       " + l[n - 5]"
      ]
     },
     "execution_count": 8,
     "metadata": {},
     "output_type": "execute_result"
    }
   ],
   "source": [
    "recurrence_eq = project_recurrence_spec(unfolded, recurrence_eq=True)\n",
    "recurrence_eq"
   ]
  },
  {
   "cell_type": "code",
   "execution_count": 9,
   "metadata": {
    "collapsed": false
   },
   "outputs": [
    {
     "data": {
      "image/png": "[encoded data removed]",
      "text/latex": [
       "$$l_{n + 2} = l_{n - 10} + 6 l_{n - 9} + 15 l_{n - 8} + 20 l_{n - 7} + 15 l_{n - 6} + 6 l_{n - 5} + l_{n - 4}$$"
      ],
      "text/plain": [
       "l[n + 2] = l[n - 10] + 6⋅l[n - 9] + 15⋅l[n - 8] + 20⋅l[n - 7] + 15⋅l[n - 6] + \n",
       "6⋅l[n - 5] + l[n - 4]"
      ]
     },
     "execution_count": 9,
     "metadata": {},
     "output_type": "execute_result"
    }
   ],
   "source": [
    "factored_recurrence_eq = project_recurrence_spec(factor_rhs_unfolded_rec(unfolded), recurrence_eq=True)\n",
    "factored_recurrence_eq"
   ]
  },
  {
   "cell_type": "code",
   "execution_count": 10,
   "metadata": {
    "collapsed": false
   },
   "outputs": [
    {
     "data": {
      "image/png": "[encoded data removed]",
      "text/latex": [
       "$$l_{12} = l_{0} + 6 l_{1} + 15 l_{2} + 20 l_{3} + 15 l_{4} + 6 l_{5} + l_{6}$$"
      ],
      "text/plain": [
       "l[12] = l[0] + 6⋅l[1] + 15⋅l[2] + 20⋅l[3] + 15⋅l[4] + 6⋅l[5] + l[6]"
      ]
     },
     "execution_count": 10,
     "metadata": {},
     "output_type": "execute_result"
    }
   ],
   "source": [
    "factored_recurrence_eq.subs(n,10)"
   ]
  },
  {
   "cell_type": "code",
   "execution_count": 11,
   "metadata": {
    "collapsed": true
   },
   "outputs": [],
   "source": [
    "instantiated_rec_spec = base_instantiation(unfolded)"
   ]
  },
  {
   "cell_type": "code",
   "execution_count": 12,
   "metadata": {
    "collapsed": false
   },
   "outputs": [
    {
     "data": {
      "image/png": "[encoded data removed]",
      "text/latex": [
       "$$\\left ( l_{12} = l_{0} + 6 l_{1} + 15 l_{2} + 20 l_{3} + 15 l_{4} + 6 l_{5} + l_{6}, \\quad \\left \\{ l_{0} : 2, \\quad l_{1} : 1, \\quad l_{2} : l_{0} + l_{1}, \\quad l_{3} : l_{1} + l_{2}, \\quad l_{4} : l_{2} + l_{3}, \\quad l_{5} : l_{3} + l_{4}, \\quad l_{6} : l_{4} + l_{5}, \\quad l_{7} : l_{5} + l_{6}, \\quad l_{8} : l_{6} + l_{7}, \\quad l_{9} : l_{7} + l_{8}, \\quad l_{10} : l_{8} + l_{9}, \\quad l_{11} : l_{9} + l_{10}\\right \\}\\right )$$"
      ],
      "text/plain": [
       "(l[12] = l[0] + 6⋅l[1] + 15⋅l[2] + 20⋅l[3] + 15⋅l[4] + 6⋅l[5] + l[6], {l[0]: 2\n",
       ", l[1]: 1, l[2]: l[0] + l[1], l[3]: l[1] + l[2], l[4]: l[2] + l[3], l[5]: l[3]\n",
       " + l[4], l[6]: l[4] + l[5], l[7]: l[5] + l[6], l[8]: l[6] + l[7], l[9]: l[7] +\n",
       " l[8], l[10]: l[8] + l[9], l[11]: l[9] + l[10]})"
      ]
     },
     "execution_count": 12,
     "metadata": {},
     "output_type": "execute_result"
    }
   ],
   "source": [
    "project_recurrence_spec(instantiated_rec_spec, recurrence_eq=True, terms_cache=True)"
   ]
  },
  {
   "cell_type": "code",
   "execution_count": 13,
   "metadata": {
    "collapsed": false
   },
   "outputs": [
    {
     "data": {
      "image/png": "[encoded data removed]",
      "text/latex": [
       "$$\\left ( l_{12} = 322, \\quad \\left \\{ l_{0} : 2, \\quad l_{1} : 1, \\quad l_{2} : 3, \\quad l_{3} : 4, \\quad l_{4} : 7, \\quad l_{5} : 11, \\quad l_{6} : 18, \\quad l_{7} : 29, \\quad l_{8} : 47, \\quad l_{9} : 76, \\quad l_{10} : 123, \\quad l_{11} : 199\\right \\}\\right )$$"
      ],
      "text/plain": [
       "(l[12] = 322, {l[0]: 2, l[1]: 1, l[2]: 3, l[3]: 4, l[4]: 7, l[5]: 11, l[6]: 18\n",
       ", l[7]: 29, l[8]: 47, l[9]: 76, l[10]: 123, l[11]: 199})"
      ]
     },
     "execution_count": 13,
     "metadata": {},
     "output_type": "execute_result"
    }
   ],
   "source": [
    "fully_instantiated_spec = repeated_instantiating(instantiated_rec_spec)\n",
    "project_recurrence_spec(fully_instantiated_spec, recurrence_eq=True, terms_cache=True)"
   ]
  },
  {
   "cell_type": "code",
   "execution_count": 14,
   "metadata": {
    "collapsed": false
   },
   "outputs": [
    {
     "data": {
      "text/latex": [
       "\\begin{array}{c}l_{2} = l_{0} + l_{1}\\\\\n",
       "l_{4} = l_{0} + 2 l_{1} + l_{2}\\\\\n",
       "l_{6} = l_{0} + 3 l_{1} + 3 l_{2} + l_{3}\\\\\n",
       "l_{8} = l_{0} + 4 l_{1} + 6 l_{2} + 4 l_{3} + l_{4}\\\\\n",
       "l_{10} = l_{0} + 5 l_{1} + 10 l_{2} + 10 l_{3} + 5 l_{4} + l_{5}\\\\\n",
       "l_{12} = l_{0} + 6 l_{1} + 15 l_{2} + 20 l_{3} + 15 l_{4} + 6 l_{5} + l_{6}\\\\\n",
       "l_{14} = l_{0} + 7 l_{1} + 21 l_{2} + 35 l_{3} + 35 l_{4} + 21 l_{5} + 7 l_{6} + l_{7}\\\\\n",
       "l_{16} = l_{0} + 8 l_{1} + 28 l_{2} + 56 l_{3} + 70 l_{4} + 56 l_{5} + 28 l_{6} + 8 l_{7} + l_{8}\\\\\n",
       "l_{18} = l_{0} + 9 l_{1} + 36 l_{2} + 84 l_{3} + 126 l_{4} + 126 l_{5} + 84 l_{6} + 36 l_{7} + 9 l_{8} + l_{9}\\\\\n",
       "l_{20} = l_{0} + 10 l_{1} + 45 l_{2} + 120 l_{3} + 210 l_{4} + 252 l_{5} + 210 l_{6} + 120 l_{7} + 45 l_{8} + 10 l_{9} + l_{10}\\\\\\end{array}"
      ],
      "text/plain": [
       "<IPython.core.display.Latex object>"
      ]
     },
     "execution_count": 14,
     "metadata": {},
     "output_type": "execute_result"
    }
   ],
   "source": [
    "ipython_latex(lucas_recurrence_spec, times_range=range(10))"
   ]
  },
  {
   "cell_type": "markdown",
   "metadata": {},
   "source": [
    "## Another recurrence relation on Fibonacci numbers"
   ]
  },
  {
   "cell_type": "code",
   "execution_count": 21,
   "metadata": {
    "collapsed": false
   },
   "outputs": [
    {
     "data": {
      "image/png": "[encoded data removed]",
      "text/latex": [
       "$$f_{2 n + 1} = \\left(f_{n}\\right)^{2} + \\left(f_{n + 1}\\right)^{2}$$"
      ],
      "text/plain": [
       "                 2           2\n",
       "f[2*n + 1] = f[n]  + f[n + 1] "
      ]
     },
     "execution_count": 21,
     "metadata": {},
     "output_type": "execute_result"
    }
   ],
   "source": [
    "f = IndexedBase('f')\n",
    "fibonacci_recurrence = Eq(f[2*n+1],f[n]**2+f[n+1]**2)\n",
    "fibonacci_recurrence"
   ]
  },
  {
   "cell_type": "code",
   "execution_count": 22,
   "metadata": {
    "collapsed": true
   },
   "outputs": [],
   "source": [
    "boundary_conditions = {f[0]:Integer(1), f[1]:Integer(1)}\n",
    "fibonacci_recurrence_spec=dict(recurrence_eq=fibonacci_recurrence, indexed=f, \n",
    "                               index=n, terms_cache=boundary_conditions)"
   ]
  },
  {
   "cell_type": "code",
   "execution_count": 23,
   "metadata": {
    "collapsed": false
   },
   "outputs": [],
   "source": [
    "unfolded = do_unfolding_steps(fibonacci_recurrence_spec, 2)"
   ]
  },
  {
   "cell_type": "code",
   "execution_count": 24,
   "metadata": {
    "collapsed": false
   },
   "outputs": [
    {
     "data": {
      "image/png": "[encoded data removed]",
      "text/latex": [
       "$$f_{2 n + 1} = \\left(\\left(\\left(f_{\\frac{n}{4}}\\right)^{2} + \\left(f_{\\frac{n}{4} + 1}\\right)^{2}\\right)^{2} + \\left(\\left(f_{\\frac{n}{4} - \\frac{1}{2}}\\right)^{2} + \\left(f_{\\frac{n}{4} + \\frac{1}{2}}\\right)^{2}\\right)^{2}\\right)^{2} + \\left(\\left(\\left(f_{\\frac{n}{4} - \\frac{3}{4}}\\right)^{2} + \\left(f_{\\frac{n}{4} + \\frac{1}{4}}\\right)^{2}\\right)^{2} + \\left(\\left(f_{\\frac{n}{4} - \\frac{1}{4}}\\right)^{2} + \\left(f_{\\frac{n}{4} + \\frac{3}{4}}\\right)^{2}\\right)^{2}\\right)^{2}$$"
      ],
      "text/plain": [
       "                                                                          2   \n",
       "             ⎛                       2                                  2⎞    \n",
       "             ⎜⎛      2             2⎞    ⎛            2               2⎞ ⎟    \n",
       "f[2*n + 1] = ⎝⎝f[n/4]  + f[n/4 + 1] ⎠  + ⎝f[n/4 - 1/2]  + f[n/4 + 1/2] ⎠ ⎠  + \n",
       "\n",
       "                                                                     2\n",
       "⎛                               2                                  2⎞ \n",
       "⎜⎛            2               2⎞    ⎛            2               2⎞ ⎟ \n",
       "⎝⎝f[n/4 - 3/4]  + f[n/4 + 1/4] ⎠  + ⎝f[n/4 - 1/4]  + f[n/4 + 3/4] ⎠ ⎠ "
      ]
     },
     "execution_count": 24,
     "metadata": {},
     "output_type": "execute_result"
    }
   ],
   "source": [
    "recurrence_eq = project_recurrence_spec(unfolded, recurrence_eq=True)\n",
    "recurrence_eq"
   ]
  },
  {
   "cell_type": "code",
   "execution_count": 92,
   "metadata": {
    "collapsed": false
   },
   "outputs": [
    {
     "data": {
      "image/png": "[encoded data removed]",
      "text/latex": [
       "$$f_{2 n + 1} = \\left(f_{\\frac{n}{4}}\\right)^{8} + 4 \\left(f_{\\frac{n}{4}}\\right)^{6} \\left(f_{\\frac{n}{4} + 1}\\right)^{2} + 2 \\left(f_{\\frac{n}{4}}\\right)^{4} \\left(f_{\\frac{n}{4} - \\frac{1}{2}}\\right)^{4} + 4 \\left(f_{\\frac{n}{4}}\\right)^{4} \\left(f_{\\frac{n}{4} - \\frac{1}{2}}\\right)^{2} \\left(f_{\\frac{n}{4} + \\frac{1}{2}}\\right)^{2} + 2 \\left(f_{\\frac{n}{4}}\\right)^{4} \\left(f_{\\frac{n}{4} + \\frac{1}{2}}\\right)^{4} + 6 \\left(f_{\\frac{n}{4}}\\right)^{4} \\left(f_{\\frac{n}{4} + 1}\\right)^{4} + 4 \\left(f_{\\frac{n}{4}}\\right)^{2} \\left(f_{\\frac{n}{4} - \\frac{1}{2}}\\right)^{4} \\left(f_{\\frac{n}{4} + 1}\\right)^{2} + 8 \\left(f_{\\frac{n}{4}}\\right)^{2} \\left(f_{\\frac{n}{4} - \\frac{1}{2}}\\right)^{2} \\left(f_{\\frac{n}{4} + \\frac{1}{2}}\\right)^{2} \\left(f_{\\frac{n}{4} + 1}\\right)^{2} + 4 \\left(f_{\\frac{n}{4}}\\right)^{2} \\left(f_{\\frac{n}{4} + \\frac{1}{2}}\\right)^{4} \\left(f_{\\frac{n}{4} + 1}\\right)^{2} + 4 \\left(f_{\\frac{n}{4}}\\right)^{2} \\left(f_{\\frac{n}{4} + 1}\\right)^{6} + \\left(f_{\\frac{n}{4} - \\frac{3}{4}}\\right)^{8} + 4 \\left(f_{\\frac{n}{4} - \\frac{3}{4}}\\right)^{6} \\left(f_{\\frac{n}{4} + \\frac{1}{4}}\\right)^{2} + 2 \\left(f_{\\frac{n}{4} - \\frac{3}{4}}\\right)^{4} \\left(f_{\\frac{n}{4} - \\frac{1}{4}}\\right)^{4} + 4 \\left(f_{\\frac{n}{4} - \\frac{3}{4}}\\right)^{4} \\left(f_{\\frac{n}{4} - \\frac{1}{4}}\\right)^{2} \\left(f_{\\frac{n}{4} + \\frac{3}{4}}\\right)^{2} + 6 \\left(f_{\\frac{n}{4} - \\frac{3}{4}}\\right)^{4} \\left(f_{\\frac{n}{4} + \\frac{1}{4}}\\right)^{4} + 2 \\left(f_{\\frac{n}{4} - \\frac{3}{4}}\\right)^{4} \\left(f_{\\frac{n}{4} + \\frac{3}{4}}\\right)^{4} + 4 \\left(f_{\\frac{n}{4} - \\frac{3}{4}}\\right)^{2} \\left(f_{\\frac{n}{4} - \\frac{1}{4}}\\right)^{4} \\left(f_{\\frac{n}{4} + \\frac{1}{4}}\\right)^{2} + 8 \\left(f_{\\frac{n}{4} - \\frac{3}{4}}\\right)^{2} \\left(f_{\\frac{n}{4} - \\frac{1}{4}}\\right)^{2} \\left(f_{\\frac{n}{4} + \\frac{1}{4}}\\right)^{2} \\left(f_{\\frac{n}{4} + \\frac{3}{4}}\\right)^{2} + 4 \\left(f_{\\frac{n}{4} - \\frac{3}{4}}\\right)^{2} \\left(f_{\\frac{n}{4} + \\frac{1}{4}}\\right)^{6} + 4 \\left(f_{\\frac{n}{4} - \\frac{3}{4}}\\right)^{2} \\left(f_{\\frac{n}{4} + \\frac{1}{4}}\\right)^{2} \\left(f_{\\frac{n}{4} + \\frac{3}{4}}\\right)^{4} + \\left(f_{\\frac{n}{4} - \\frac{1}{2}}\\right)^{8} + 4 \\left(f_{\\frac{n}{4} - \\frac{1}{2}}\\right)^{6} \\left(f_{\\frac{n}{4} + \\frac{1}{2}}\\right)^{2} + 6 \\left(f_{\\frac{n}{4} - \\frac{1}{2}}\\right)^{4} \\left(f_{\\frac{n}{4} + \\frac{1}{2}}\\right)^{4} + 2 \\left(f_{\\frac{n}{4} - \\frac{1}{2}}\\right)^{4} \\left(f_{\\frac{n}{4} + 1}\\right)^{4} + 4 \\left(f_{\\frac{n}{4} - \\frac{1}{2}}\\right)^{2} \\left(f_{\\frac{n}{4} + \\frac{1}{2}}\\right)^{6} + 4 \\left(f_{\\frac{n}{4} - \\frac{1}{2}}\\right)^{2} \\left(f_{\\frac{n}{4} + \\frac{1}{2}}\\right)^{2} \\left(f_{\\frac{n}{4} + 1}\\right)^{4} + \\left(f_{\\frac{n}{4} - \\frac{1}{4}}\\right)^{8} + 4 \\left(f_{\\frac{n}{4} - \\frac{1}{4}}\\right)^{6} \\left(f_{\\frac{n}{4} + \\frac{3}{4}}\\right)^{2} + 2 \\left(f_{\\frac{n}{4} - \\frac{1}{4}}\\right)^{4} \\left(f_{\\frac{n}{4} + \\frac{1}{4}}\\right)^{4} + 6 \\left(f_{\\frac{n}{4} - \\frac{1}{4}}\\right)^{4} \\left(f_{\\frac{n}{4} + \\frac{3}{4}}\\right)^{4} + 4 \\left(f_{\\frac{n}{4} - \\frac{1}{4}}\\right)^{2} \\left(f_{\\frac{n}{4} + \\frac{1}{4}}\\right)^{4} \\left(f_{\\frac{n}{4} + \\frac{3}{4}}\\right)^{2} + 4 \\left(f_{\\frac{n}{4} - \\frac{1}{4}}\\right)^{2} \\left(f_{\\frac{n}{4} + \\frac{3}{4}}\\right)^{6} + \\left(f_{\\frac{n}{4} + \\frac{1}{4}}\\right)^{8} + 2 \\left(f_{\\frac{n}{4} + \\frac{1}{4}}\\right)^{4} \\left(f_{\\frac{n}{4} + \\frac{3}{4}}\\right)^{4} + \\left(f_{\\frac{n}{4} + \\frac{1}{2}}\\right)^{8} + 2 \\left(f_{\\frac{n}{4} + \\frac{1}{2}}\\right)^{4} \\left(f_{\\frac{n}{4} + 1}\\right)^{4} + \\left(f_{\\frac{n}{4} + \\frac{3}{4}}\\right)^{8} + \\left(f_{\\frac{n}{4} + 1}\\right)^{8}$$"
      ],
      "text/plain": [
       "                   8           6           2           4             4        \n",
       "f[2*n + 1] = f[n/4]  + 4⋅f[n/4] ⋅f[n/4 + 1]  + 2⋅f[n/4] ⋅f[n/4 - 1/2]  + 4⋅f[n\n",
       "\n",
       "   4             2             2           4             4           4        \n",
       "/4] ⋅f[n/4 - 1/2] ⋅f[n/4 + 1/2]  + 2⋅f[n/4] ⋅f[n/4 + 1/2]  + 6⋅f[n/4] ⋅f[n/4 +\n",
       "\n",
       "   4           2             4           2           2             2          \n",
       " 1]  + 4⋅f[n/4] ⋅f[n/4 - 1/2] ⋅f[n/4 + 1]  + 8⋅f[n/4] ⋅f[n/4 - 1/2] ⋅f[n/4 + 1\n",
       "\n",
       "   2           2           2             4           2           2           6\n",
       "/2] ⋅f[n/4 + 1]  + 4⋅f[n/4] ⋅f[n/4 + 1/2] ⋅f[n/4 + 1]  + 4⋅f[n/4] ⋅f[n/4 + 1] \n",
       "\n",
       "               8                 6             2                 4            \n",
       " + f[n/4 - 3/4]  + 4⋅f[n/4 - 3/4] ⋅f[n/4 + 1/4]  + 2⋅f[n/4 - 3/4] ⋅f[n/4 - 1/4\n",
       "\n",
       " 4                 4             2             2                 4            \n",
       "]  + 4⋅f[n/4 - 3/4] ⋅f[n/4 - 1/4] ⋅f[n/4 + 3/4]  + 6⋅f[n/4 - 3/4] ⋅f[n/4 + 1/4\n",
       "\n",
       " 4                 4             4                 2             4            \n",
       "]  + 2⋅f[n/4 - 3/4] ⋅f[n/4 + 3/4]  + 4⋅f[n/4 - 3/4] ⋅f[n/4 - 1/4] ⋅f[n/4 + 1/4\n",
       "\n",
       " 2                 2             2             2             2                \n",
       "]  + 8⋅f[n/4 - 3/4] ⋅f[n/4 - 1/4] ⋅f[n/4 + 1/4] ⋅f[n/4 + 3/4]  + 4⋅f[n/4 - 3/4\n",
       "\n",
       " 2             6                 2             2             4               8\n",
       "] ⋅f[n/4 + 1/4]  + 4⋅f[n/4 - 3/4] ⋅f[n/4 + 1/4] ⋅f[n/4 + 3/4]  + f[n/4 - 1/2] \n",
       "\n",
       "                 6             2                 4             4              \n",
       " + 4⋅f[n/4 - 1/2] ⋅f[n/4 + 1/2]  + 6⋅f[n/4 - 1/2] ⋅f[n/4 + 1/2]  + 2⋅f[n/4 - 1\n",
       "\n",
       "   4           4                 2             6                 2            \n",
       "/2] ⋅f[n/4 + 1]  + 4⋅f[n/4 - 1/2] ⋅f[n/4 + 1/2]  + 4⋅f[n/4 - 1/2] ⋅f[n/4 + 1/2\n",
       "\n",
       " 2           4               8                 6             2                \n",
       "] ⋅f[n/4 + 1]  + f[n/4 - 1/4]  + 4⋅f[n/4 - 1/4] ⋅f[n/4 + 3/4]  + 2⋅f[n/4 - 1/4\n",
       "\n",
       " 4             4                 4             4                 2            \n",
       "] ⋅f[n/4 + 1/4]  + 6⋅f[n/4 - 1/4] ⋅f[n/4 + 3/4]  + 4⋅f[n/4 - 1/4] ⋅f[n/4 + 1/4\n",
       "\n",
       " 4             2                 2             6               8              \n",
       "] ⋅f[n/4 + 3/4]  + 4⋅f[n/4 - 1/4] ⋅f[n/4 + 3/4]  + f[n/4 + 1/4]  + 2⋅f[n/4 + 1\n",
       "\n",
       "   4             4               8                 4           4              \n",
       "/4] ⋅f[n/4 + 3/4]  + f[n/4 + 1/2]  + 2⋅f[n/4 + 1/2] ⋅f[n/4 + 1]  + f[n/4 + 3/4\n",
       "\n",
       " 8             8\n",
       "]  + f[n/4 + 1] "
      ]
     },
     "execution_count": 92,
     "metadata": {},
     "output_type": "execute_result"
    }
   ],
   "source": [
    "factored_recurrence_eq = project_recurrence_spec(factor_rhs_unfolded_rec(unfolded), recurrence_eq=True)\n",
    "factored_recurrence_eq"
   ]
  },
  {
   "cell_type": "code",
   "execution_count": 95,
   "metadata": {
    "collapsed": false
   },
   "outputs": [
    {
     "data": {
      "image/png": "[encoded data removed]",
      "text/latex": [
       "$$f_{7} = \\left(f_{0}\\right)^{8} + 4 \\left(f_{0}\\right)^{6} \\left(f_{1}\\right)^{2} + 2 \\left(f_{0}\\right)^{4} \\left(f_{\\frac{1}{2}}\\right)^{4} + 4 \\left(f_{0}\\right)^{4} \\left(f_{\\frac{1}{2}}\\right)^{2} \\left(f_{\\frac{3}{2}}\\right)^{2} + 6 \\left(f_{0}\\right)^{4} \\left(f_{1}\\right)^{4} + 2 \\left(f_{0}\\right)^{4} \\left(f_{\\frac{3}{2}}\\right)^{4} + 4 \\left(f_{0}\\right)^{2} \\left(f_{\\frac{1}{2}}\\right)^{4} \\left(f_{1}\\right)^{2} + 8 \\left(f_{0}\\right)^{2} \\left(f_{\\frac{1}{2}}\\right)^{2} \\left(f_{1}\\right)^{2} \\left(f_{\\frac{3}{2}}\\right)^{2} + 4 \\left(f_{0}\\right)^{2} \\left(f_{1}\\right)^{6} + 4 \\left(f_{0}\\right)^{2} \\left(f_{1}\\right)^{2} \\left(f_{\\frac{3}{2}}\\right)^{4} + \\left(f_{\\frac{1}{4}}\\right)^{8} + 4 \\left(f_{\\frac{1}{4}}\\right)^{6} \\left(f_{\\frac{5}{4}}\\right)^{2} + 2 \\left(f_{\\frac{1}{4}}\\right)^{4} \\left(f_{\\frac{3}{4}}\\right)^{4} + 4 \\left(f_{\\frac{1}{4}}\\right)^{4} \\left(f_{\\frac{3}{4}}\\right)^{2} \\left(f_{\\frac{7}{4}}\\right)^{2} + 6 \\left(f_{\\frac{1}{4}}\\right)^{4} \\left(f_{\\frac{5}{4}}\\right)^{4} + 2 \\left(f_{\\frac{1}{4}}\\right)^{4} \\left(f_{\\frac{7}{4}}\\right)^{4} + 4 \\left(f_{\\frac{1}{4}}\\right)^{2} \\left(f_{\\frac{3}{4}}\\right)^{4} \\left(f_{\\frac{5}{4}}\\right)^{2} + 8 \\left(f_{\\frac{1}{4}}\\right)^{2} \\left(f_{\\frac{3}{4}}\\right)^{2} \\left(f_{\\frac{5}{4}}\\right)^{2} \\left(f_{\\frac{7}{4}}\\right)^{2} + 4 \\left(f_{\\frac{1}{4}}\\right)^{2} \\left(f_{\\frac{5}{4}}\\right)^{6} + 4 \\left(f_{\\frac{1}{4}}\\right)^{2} \\left(f_{\\frac{5}{4}}\\right)^{2} \\left(f_{\\frac{7}{4}}\\right)^{4} + \\left(f_{\\frac{1}{2}}\\right)^{8} + 4 \\left(f_{\\frac{1}{2}}\\right)^{6} \\left(f_{\\frac{3}{2}}\\right)^{2} + 2 \\left(f_{\\frac{1}{2}}\\right)^{4} \\left(f_{1}\\right)^{4} + 6 \\left(f_{\\frac{1}{2}}\\right)^{4} \\left(f_{\\frac{3}{2}}\\right)^{4} + 4 \\left(f_{\\frac{1}{2}}\\right)^{2} \\left(f_{1}\\right)^{4} \\left(f_{\\frac{3}{2}}\\right)^{2} + 4 \\left(f_{\\frac{1}{2}}\\right)^{2} \\left(f_{\\frac{3}{2}}\\right)^{6} + \\left(f_{\\frac{3}{4}}\\right)^{8} + 4 \\left(f_{\\frac{3}{4}}\\right)^{6} \\left(f_{\\frac{7}{4}}\\right)^{2} + 2 \\left(f_{\\frac{3}{4}}\\right)^{4} \\left(f_{\\frac{5}{4}}\\right)^{4} + 6 \\left(f_{\\frac{3}{4}}\\right)^{4} \\left(f_{\\frac{7}{4}}\\right)^{4} + 4 \\left(f_{\\frac{3}{4}}\\right)^{2} \\left(f_{\\frac{5}{4}}\\right)^{4} \\left(f_{\\frac{7}{4}}\\right)^{2} + 4 \\left(f_{\\frac{3}{4}}\\right)^{2} \\left(f_{\\frac{7}{4}}\\right)^{6} + \\left(f_{1}\\right)^{8} + 2 \\left(f_{1}\\right)^{4} \\left(f_{\\frac{3}{2}}\\right)^{4} + \\left(f_{\\frac{5}{4}}\\right)^{8} + 2 \\left(f_{\\frac{5}{4}}\\right)^{4} \\left(f_{\\frac{7}{4}}\\right)^{4} + \\left(f_{\\frac{3}{2}}\\right)^{8} + \\left(f_{\\frac{7}{4}}\\right)^{8}$$"
      ],
      "text/plain": [
       "           8         6     2         4       4         4       2       2      \n",
       "f[7] = f[0]  + 4⋅f[0] ⋅f[1]  + 2⋅f[0] ⋅f[1/2]  + 4⋅f[0] ⋅f[1/2] ⋅f[3/2]  + 6⋅f\n",
       "\n",
       "   4     4         4       4         2       4     2         2       2     2  \n",
       "[0] ⋅f[1]  + 2⋅f[0] ⋅f[3/2]  + 4⋅f[0] ⋅f[1/2] ⋅f[1]  + 8⋅f[0] ⋅f[1/2] ⋅f[1] ⋅f\n",
       "\n",
       "     2         2     6         2     2       4         8           6       2  \n",
       "[3/2]  + 4⋅f[0] ⋅f[1]  + 4⋅f[0] ⋅f[1] ⋅f[3/2]  + f[1/4]  + 4⋅f[1/4] ⋅f[5/4]  +\n",
       "\n",
       "         4       4           4       2       2           4       4           4\n",
       " 2⋅f[1/4] ⋅f[3/4]  + 4⋅f[1/4] ⋅f[3/4] ⋅f[7/4]  + 6⋅f[1/4] ⋅f[5/4]  + 2⋅f[1/4] \n",
       "\n",
       "       4           2       4       2           2       2       2       2      \n",
       "⋅f[7/4]  + 4⋅f[1/4] ⋅f[3/4] ⋅f[5/4]  + 8⋅f[1/4] ⋅f[3/4] ⋅f[5/4] ⋅f[7/4]  + 4⋅f\n",
       "\n",
       "     2       6           2       2       4         8           6       2      \n",
       "[1/4] ⋅f[5/4]  + 4⋅f[1/4] ⋅f[5/4] ⋅f[7/4]  + f[1/2]  + 4⋅f[1/2] ⋅f[3/2]  + 2⋅f\n",
       "\n",
       "     4     4           4       4           2     4       2           2       6\n",
       "[1/2] ⋅f[1]  + 6⋅f[1/2] ⋅f[3/2]  + 4⋅f[1/2] ⋅f[1] ⋅f[3/2]  + 4⋅f[1/2] ⋅f[3/2] \n",
       "\n",
       "         8           6       2           4       4           4       4        \n",
       " + f[3/4]  + 4⋅f[3/4] ⋅f[7/4]  + 2⋅f[3/4] ⋅f[5/4]  + 6⋅f[3/4] ⋅f[7/4]  + 4⋅f[3\n",
       "\n",
       "   2       4       2           2       6       8         4       4         8  \n",
       "/4] ⋅f[5/4] ⋅f[7/4]  + 4⋅f[3/4] ⋅f[7/4]  + f[1]  + 2⋅f[1] ⋅f[3/2]  + f[5/4]  +\n",
       "\n",
       "         4       4         8         8\n",
       " 2⋅f[5/4] ⋅f[7/4]  + f[3/2]  + f[7/4] "
      ]
     },
     "execution_count": 95,
     "metadata": {},
     "output_type": "execute_result"
    }
   ],
   "source": [
    "factored_recurrence_eq.subs(n,3)"
   ]
  },
  {
   "cell_type": "markdown",
   "metadata": {},
   "source": [
    "## Unfolding a recurrence with generic coefficients"
   ]
  },
  {
   "cell_type": "code",
   "execution_count": 4,
   "metadata": {
    "collapsed": false
   },
   "outputs": [
    {
     "data": {
      "image/png": "[encoded data removed]",
      "text/latex": [
       "$$n s_{n} = \\left(n + 1\\right) s_{n - 1} + a_{n}$$"
      ],
      "text/plain": [
       "n⋅s[n] = (n + 1)⋅s[n - 1] + a[n]"
      ]
     },
     "execution_count": 4,
     "metadata": {},
     "output_type": "execute_result"
    }
   ],
   "source": [
    "s = IndexedBase('s')\n",
    "a = IndexedBase('a')\n",
    "swaps_recurrence = Eq(n*s[n],(n+1)*s[n-1]+a[n])\n",
    "swaps_recurrence"
   ]
  },
  {
   "cell_type": "code",
   "execution_count": 5,
   "metadata": {
    "collapsed": true
   },
   "outputs": [],
   "source": [
    "boundary_conditions = {s[0]:Integer(0)}\n",
    "swaps_recurrence_spec=dict(recurrence_eq=swaps_recurrence, indexed=s, \n",
    "                               index=n, terms_cache=boundary_conditions)"
   ]
  },
  {
   "cell_type": "code",
   "execution_count": 6,
   "metadata": {
    "collapsed": true
   },
   "outputs": [],
   "source": [
    "unfolded = do_unfolding_steps(swaps_recurrence_spec, 4)"
   ]
  },
  {
   "cell_type": "code",
   "execution_count": 7,
   "metadata": {
    "collapsed": false
   },
   "outputs": [
    {
     "data": {
      "image/png": "[encoded data removed]",
      "text/latex": [
       "$$n s_{n} = a_{n} + \\frac{1}{n - 1} \\left(n + 1\\right) \\left(\\frac{n}{n - 2} \\left(a_{n - 2} + \\frac{1}{n - 3} \\left(n - 1\\right) \\left(a_{n - 3} + \\frac{1}{n - 4} \\left(n - 2\\right) \\left(\\left(n - 3\\right) s_{n - 5} + a_{n - 4}\\right)\\right)\\right) + a_{n - 1}\\right)$$"
      ],
      "text/plain": [
       "                        ⎛  ⎛                   ⎛           (n - 2)⋅((n - 3)⋅s[\n",
       "                        ⎜  ⎜           (n - 1)⋅⎜a[n - 3] + ───────────────────\n",
       "                        ⎜  ⎜                   ⎝                           n -\n",
       "                        ⎜n⋅⎜a[n - 2] + ───────────────────────────────────────\n",
       "                        ⎜  ⎝                                     n - 3        \n",
       "                (n + 1)⋅⎜─────────────────────────────────────────────────────\n",
       "                        ⎝                                  n - 2              \n",
       "n⋅s[n] = a[n] + ──────────────────────────────────────────────────────────────\n",
       "                                                            n - 1             \n",
       "\n",
       "n - 5] + a[n - 4])⎞⎞           ⎞\n",
       "──────────────────⎟⎟           ⎟\n",
       " 4                ⎠⎟           ⎟\n",
       "───────────────────⎟           ⎟\n",
       "                   ⎠           ⎟\n",
       "──────────────────── + a[n - 1]⎟\n",
       "                               ⎠\n",
       "────────────────────────────────\n",
       "                                "
      ]
     },
     "execution_count": 7,
     "metadata": {},
     "output_type": "execute_result"
    }
   ],
   "source": [
    "recurrence_eq = project_recurrence_spec(unfolded, recurrence_eq=True)\n",
    "recurrence_eq"
   ]
  },
  {
   "cell_type": "code",
   "execution_count": 8,
   "metadata": {
    "collapsed": false
   },
   "outputs": [
    {
     "data": {
      "image/png": "[encoded data removed]",
      "text/latex": [
       "$$n s_{n} = \\frac{n^{5} s_{n - 5}}{n^{4} - 10 n^{3} + 35 n^{2} - 50 n + 24} + \\frac{n^{4} a_{n - 4}}{n^{4} - 10 n^{3} + 35 n^{2} - 50 n + 24} - \\frac{5 n^{4} s_{n - 5}}{n^{4} - 10 n^{3} + 35 n^{2} - 50 n + 24} - \\frac{2 n^{3} a_{n - 4}}{n^{4} - 10 n^{3} + 35 n^{2} - 50 n + 24} + \\frac{5 n^{3} s_{n - 5}}{n^{4} - 10 n^{3} + 35 n^{2} - 50 n + 24} + \\frac{n^{3} a_{n - 3}}{n^{3} - 6 n^{2} + 11 n - 6} - \\frac{n^{2} a_{n - 4}}{n^{4} - 10 n^{3} + 35 n^{2} - 50 n + 24} + \\frac{5 n^{2} s_{n - 5}}{n^{4} - 10 n^{3} + 35 n^{2} - 50 n + 24} + \\frac{n^{2} a_{n - 2}}{n^{2} - 3 n + 2} + \\frac{2 n a_{n - 4}}{n^{4} - 10 n^{3} + 35 n^{2} - 50 n + 24} - \\frac{6 n s_{n - 5}}{n^{4} - 10 n^{3} + 35 n^{2} - 50 n + 24} - \\frac{n a_{n - 3}}{n^{3} - 6 n^{2} + 11 n - 6} + \\frac{n a_{n - 2}}{n^{2} - 3 n + 2} + \\frac{n a_{n - 1}}{n - 1} + a_{n} + \\frac{a_{n - 1}}{n - 1}$$"
      ],
      "text/plain": [
       "                   5                                4                         \n",
       "                  n ⋅s[n - 5]                      n ⋅a[n - 4]                \n",
       "n⋅s[n] = ────────────────────────────── + ────────────────────────────── - ───\n",
       "          4       3       2                4       3       2                4 \n",
       "         n  - 10⋅n  + 35⋅n  - 50⋅n + 24   n  - 10⋅n  + 35⋅n  - 50⋅n + 24   n  \n",
       "\n",
       "        4                                3                                3   \n",
       "     5⋅n ⋅s[n - 5]                    2⋅n ⋅a[n - 4]                    5⋅n ⋅s[\n",
       "─────────────────────────── - ────────────────────────────── + ───────────────\n",
       "      3       2                4       3       2                4       3     \n",
       "- 10⋅n  + 35⋅n  - 50⋅n + 24   n  - 10⋅n  + 35⋅n  - 50⋅n + 24   n  - 10⋅n  + 35\n",
       "\n",
       "                       3                           2                          \n",
       "n - 5]                n ⋅a[n - 3]                 n ⋅a[n - 4]                 \n",
       "─────────────── + ──────────────────── - ────────────────────────────── + ────\n",
       "  2                3      2               4       3       2                4  \n",
       "⋅n  - 50⋅n + 24   n  - 6⋅n  + 11⋅n - 6   n  - 10⋅n  + 35⋅n  - 50⋅n + 24   n  -\n",
       "\n",
       "       2                      2                                               \n",
       "    5⋅n ⋅s[n - 5]            n ⋅a[n - 2]             2⋅n⋅a[n - 4]             \n",
       "────────────────────────── + ──────────── + ────────────────────────────── - ─\n",
       "     3       2                2              4       3       2                \n",
       " 10⋅n  + 35⋅n  - 50⋅n + 24   n  - 3⋅n + 2   n  - 10⋅n  + 35⋅n  - 50⋅n + 24   n\n",
       "\n",
       "                                                                              \n",
       "        6⋅n⋅s[n - 5]                 n⋅a[n - 3]         n⋅a[n - 2]    n⋅a[n - \n",
       "───────────────────────────── - ──────────────────── + ──────────── + ────────\n",
       "4       3       2                3      2               2               n - 1 \n",
       "  - 10⋅n  + 35⋅n  - 50⋅n + 24   n  - 6⋅n  + 11⋅n - 6   n  - 3⋅n + 2           \n",
       "\n",
       "                    \n",
       "1]          a[n - 1]\n",
       "── + a[n] + ────────\n",
       "             n - 1  \n",
       "                    "
      ]
     },
     "execution_count": 8,
     "metadata": {},
     "output_type": "execute_result"
    }
   ],
   "source": [
    "factored_recurrence_eq = project_recurrence_spec(factor_rhs_unfolded_rec(unfolded), recurrence_eq=True)\n",
    "factored_recurrence_eq"
   ]
  },
  {
   "cell_type": "code",
   "execution_count": 9,
   "metadata": {
    "collapsed": false
   },
   "outputs": [
    {
     "data": {
      "image/png": "[encoded data removed]",
      "text/latex": [
       "$$\\frac{n^{3} a_{n - 3}}{n^{3} - 6 n^{2} + 11 n - 6} + \\frac{n^{2} a_{n - 2}}{n^{2} - 3 n + 2} - \\frac{n a_{n - 3}}{n^{3} - 6 n^{2} + 11 n - 6} + \\frac{n a_{n - 2}}{n^{2} - 3 n + 2} + \\frac{n a_{n - 1}}{n - 1} + \\left(\\frac{n^{4}}{n^{4} - 10 n^{3} + 35 n^{2} - 50 n + 24} - \\frac{2 n^{3}}{n^{4} - 10 n^{3} + 35 n^{2} - 50 n + 24} - \\frac{n^{2}}{n^{4} - 10 n^{3} + 35 n^{2} - 50 n + 24} + \\frac{2 n}{n^{4} - 10 n^{3} + 35 n^{2} - 50 n + 24}\\right) a_{n - 4} + \\left(\\frac{n^{5}}{n^{4} - 10 n^{3} + 35 n^{2} - 50 n + 24} - \\frac{5 n^{4}}{n^{4} - 10 n^{3} + 35 n^{2} - 50 n + 24} + \\frac{5 n^{3}}{n^{4} - 10 n^{3} + 35 n^{2} - 50 n + 24} + \\frac{5 n^{2}}{n^{4} - 10 n^{3} + 35 n^{2} - 50 n + 24} - \\frac{6 n}{n^{4} - 10 n^{3} + 35 n^{2} - 50 n + 24}\\right) s_{n - 5} + a_{n} + \\frac{a_{n - 1}}{n - 1}$$"
      ],
      "text/plain": [
       "     3                  2                                                     \n",
       "    n ⋅a[n - 3]        n ⋅a[n - 2]         n⋅a[n - 3]         n⋅a[n - 2]    n⋅\n",
       "──────────────────── + ──────────── - ──────────────────── + ──────────── + ──\n",
       " 3      2               2              3      2               2               \n",
       "n  - 6⋅n  + 11⋅n - 6   n  - 3⋅n + 2   n  - 6⋅n  + 11⋅n - 6   n  - 3⋅n + 2     \n",
       "\n",
       "           ⎛               4                                 3                \n",
       "a[n - 1]   ⎜              n                               2⋅n                 \n",
       "──────── + ⎜────────────────────────────── - ────────────────────────────── - \n",
       "n - 1      ⎜ 4       3       2                4       3       2               \n",
       "           ⎝n  - 10⋅n  + 35⋅n  - 50⋅n + 24   n  - 10⋅n  + 35⋅n  - 50⋅n + 24   \n",
       "\n",
       "               2                                               ⎞            ⎛ \n",
       "              n                               2⋅n              ⎟            ⎜ \n",
       "────────────────────────────── + ──────────────────────────────⎟⋅a[n - 4] + ⎜─\n",
       " 4       3       2                4       3       2            ⎟            ⎜ \n",
       "n  - 10⋅n  + 35⋅n  - 50⋅n + 24   n  - 10⋅n  + 35⋅n  - 50⋅n + 24⎠            ⎝n\n",
       "\n",
       "              5                                 4                             \n",
       "             n                               5⋅n                              \n",
       "───────────────────────────── - ────────────────────────────── + ─────────────\n",
       "4       3       2                4       3       2                4       3   \n",
       "  - 10⋅n  + 35⋅n  - 50⋅n + 24   n  - 10⋅n  + 35⋅n  - 50⋅n + 24   n  - 10⋅n  + \n",
       "\n",
       "   3                                2                                         \n",
       "5⋅n                              5⋅n                              6⋅n         \n",
       "───────────────── + ────────────────────────────── - ─────────────────────────\n",
       "    2                4       3       2                4       3       2       \n",
       "35⋅n  - 50⋅n + 24   n  - 10⋅n  + 35⋅n  - 50⋅n + 24   n  - 10⋅n  + 35⋅n  - 50⋅n\n",
       "\n",
       "     ⎞                           \n",
       "     ⎟                   a[n - 1]\n",
       "─────⎟⋅s[n - 5] + a[n] + ────────\n",
       "     ⎟                    n - 1  \n",
       " + 24⎠                           "
      ]
     },
     "execution_count": 9,
     "metadata": {},
     "output_type": "execute_result"
    }
   ],
   "source": [
    "factored_recurrence_eq.rhs.collect(s[n-5]).collect(a[n-4])"
   ]
  },
  {
   "cell_type": "code",
   "execution_count": 10,
   "metadata": {
    "collapsed": false
   },
   "outputs": [
    {
     "data": {
      "image/png": "[encoded data removed]",
      "text/latex": [
       "$$5 s_{5} = 15 a_{1} + 5 a_{2} + \\frac{5 a_{3}}{2} + \\frac{3 a_{4}}{2} + a_{5} + 30 s_{0}$$"
      ],
      "text/plain": [
       "                            5⋅a[3]   3⋅a[4]                 \n",
       "5⋅s[5] = 15⋅a[1] + 5⋅a[2] + ────── + ────── + a[5] + 30⋅s[0]\n",
       "                              2        2                    "
      ]
     },
     "execution_count": 10,
     "metadata": {},
     "output_type": "execute_result"
    }
   ],
   "source": [
    "factored_recurrence_eq.subs(n,5)"
   ]
  },
  {
   "cell_type": "code",
   "execution_count": 11,
   "metadata": {
    "collapsed": false
   },
   "outputs": [
    {
     "data": {
      "image/png": "[encoded data removed]",
      "text/latex": [
       "$$5 s_{5} = 15 a_{1} + 5 a_{2} + \\frac{5 a_{3}}{2} + \\frac{3 a_{4}}{2} + a_{5} + 30 s_{0}$$"
      ],
      "text/plain": [
       "                            5⋅a[3]   3⋅a[4]                 \n",
       "5⋅s[5] = 15⋅a[1] + 5⋅a[2] + ────── + ────── + a[5] + 30⋅s[0]\n",
       "                              2        2                    "
      ]
     },
     "execution_count": 11,
     "metadata": {},
     "output_type": "execute_result"
    }
   ],
   "source": [
    "recurrence_eq.subs(n, 5)"
   ]
  },
  {
   "cell_type": "code",
   "execution_count": 12,
   "metadata": {
    "collapsed": false
   },
   "outputs": [
    {
     "data": {
      "image/png": "[encoded data removed]",
      "text/latex": [
       "$$5 s_{5} = 30 s_{0} + 2$$"
      ],
      "text/plain": [
       "5⋅s[5] = 30⋅s[0] + 2"
      ]
     },
     "execution_count": 12,
     "metadata": {},
     "output_type": "execute_result"
    }
   ],
   "source": [
    "def additional_term(n): return (2*Integer(n)-3)/6\n",
    "\n",
    "as_dict = {a[n]:additional_term(n) for n in range(1,6)}\n",
    "\n",
    "recurrence_eq.subs(n, 5).subs(as_dict)"
   ]
  }
 ],
 "metadata": {
  "kernelspec": {
   "display_name": "Python 3",
   "language": "python",
   "name": "python3"
  },
  "language_info": {
   "codemirror_mode": {
    "name": "ipython",
    "version": 3
   },
   "file_extension": ".py",
   "mimetype": "text/x-python",
   "name": "python",
   "nbconvert_exporter": "python",
   "pygments_lexer": "ipython3",
   "version": "3.5.1"
  }
 },
 "nbformat": 4,
 "nbformat_minor": 0
}
