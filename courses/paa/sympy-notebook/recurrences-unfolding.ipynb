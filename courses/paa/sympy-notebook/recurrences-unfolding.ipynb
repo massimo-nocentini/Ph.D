{
 "cells": [
  {
   "cell_type": "markdown",
   "metadata": {},
   "source": [
    "# Recurrences unfolding"
   ]
  },
  {
   "cell_type": "code",
   "execution_count": 75,
   "metadata": {
    "collapsed": true
   },
   "outputs": [],
   "source": [
    "import sys\n",
    "\n",
    "sys.setrecursionlimit(10000)"
   ]
  },
  {
   "cell_type": "code",
   "execution_count": 152,
   "metadata": {
    "collapsed": true
   },
   "outputs": [],
   "source": [
    "# %load \"recurrences.py\"\n",
    "\n",
    "from functools import reduce\n",
    "from string import Template\n",
    "\n",
    "def take_apart_matched(term, indexed):\n",
    "    \n",
    "    wild_coeff = Wild('coeff', exclude=[indexed])\n",
    "    wild_term, wild_subscript = Wild('term'), Wild('subscript')\n",
    "\n",
    "    matched_term = term.match(wild_coeff * wild_term)\n",
    "\n",
    "    result = None\n",
    "\n",
    "    if matched_term: \n",
    "        coeff, indexed_term = matched_term[wild_coeff], matched_term[wild_term]\n",
    "        matched_term_subscript = indexed_term.match(indexed[wild_subscript])\n",
    "        if matched_term_subscript:\n",
    "            term_subscript = matched_term_subscript[wild_subscript]\n",
    "            result = {'coeff':coeff, 'subscript':term_subscript}\n",
    "\n",
    "    return result\n",
    "\n",
    "\n",
    "def unfold_recurrence(recurrence_spec, unfolding_recurrence_spec=None):\n",
    "\n",
    "    if not unfolding_recurrence_spec: unfolding_recurrence_spec = recurrence_spec\n",
    "\n",
    "    def worker(recurrence_eq, unfolding_recurrence_eq, indexed, index, terms_cache):\n",
    "\n",
    "        def linear_matcher(subscript, variable):\n",
    "            \n",
    "            a_wild, b_wild = Wild('a', exclude=[variable]), Wild('b', exclude=[variable])\n",
    "            matched = subscript.match(a_wild*variable + b_wild)\n",
    "            \n",
    "            if not matched: return None\n",
    "            \n",
    "            a, b = matched[a_wild], matched[b_wild]\n",
    "            normalizer = lambda term: term.replace(variable, (variable - b)/a)\n",
    "           \n",
    "            return normalizer\n",
    "\n",
    "\n",
    "        def unfolding(rhs_term):\n",
    "            \n",
    "            if indexed.args[0] not in rhs_term.free_symbols: return rhs_term\n",
    "            elif rhs_term in terms_cache: return terms_cache[rhs_term]\n",
    "            \n",
    "            matched_lhs_term = take_apart_matched(recurrence_eq.lhs, indexed)\n",
    "            lhs_normalizer = linear_matcher(matched_lhs_term['subscript'], index)\n",
    "            norm_lhs = lhs_normalizer(recurrence_eq.lhs)\n",
    "\n",
    "            matched_rhs_term = take_apart_matched(rhs_term, indexed)\n",
    "            unfolded_term = rhs_term\n",
    "\n",
    "            if matched_rhs_term:\n",
    "                \n",
    "                subs_lhs = norm_lhs.replace(index, matched_rhs_term['subscript'])\n",
    "                matched_subs_lhs_term = take_apart_matched(subs_lhs, indexed)\n",
    "\n",
    "                # since subscripts are equal by substitution, we have to check coefficients\n",
    "                assert matched_subs_lhs_term['subscript'] == matched_rhs_term['subscript']\n",
    "\n",
    "                if matched_subs_lhs_term['coeff'] == matched_rhs_term['coeff']:\n",
    "                    rebuilt_rhs_term = lhs_normalizer(recurrence_eq.rhs)\n",
    "                    unfolded_term = rebuilt_rhs_term.replace(index, matched_rhs_term['subscript'])\n",
    "                    terms_cache[rhs_term] = unfolded_term\n",
    "\n",
    "            if rhs_term not in terms_cache:\n",
    "                    matched_norm_lhs = take_apart_matched(norm_lhs, indexed)\n",
    "                    generalized_rhs_term = Mul(lhs_normalizer(recurrence_eq.rhs), \n",
    "                        Integer(1)/matched_norm_lhs['coeff'])\n",
    "\n",
    "                    substitutions = {}\n",
    "                    for subscript in indexed_terms_appearing_in(\n",
    "                            rhs_term, indexed, only_subscripts=True, do_traversals=True):\n",
    "                        if indexed[subscript] not in terms_cache:\n",
    "                            subterm = generalized_rhs_term.replace(index, subscript)\n",
    "                            substitutions.update({indexed[subscript]: subterm})\n",
    "\n",
    "                    unfolded_term = rhs_term.subs(substitutions)\n",
    "                    terms_cache.update(substitutions)\n",
    "                \n",
    "            return unfolded_term    \n",
    "            \n",
    "        unfolded_rhs_terms = map(unfolding, flatten(unfolding_recurrence_eq.rhs.args, cls=Add))\n",
    "        \n",
    "        folded_rhs_term = reduce(   lambda folded, addend: Add(folded, addend, evaluate=False), \n",
    "                                    unfolded_rhs_terms)\n",
    "        \n",
    "        return dict(recurrence_eq=Eq(recurrence_eq.lhs, folded_rhs_term),\n",
    "                    indexed=indexed,\n",
    "                    index=index,\n",
    "                    terms_cache=terms_cache)\n",
    "\n",
    "    return worker(  recurrence_spec['recurrence_eq'],\n",
    "                    unfolding_recurrence_spec['recurrence_eq'],\n",
    "                    unfolding_recurrence_spec['indexed'],\n",
    "                    unfolding_recurrence_spec['index'],\n",
    "                    unfolding_recurrence_spec['terms_cache'].copy())\n",
    "\n",
    "def indexed_terms_appearing_in(term, indexed, only_subscripts=False, do_traversals=False):\n",
    "\n",
    "    indexed_terms_set = set()\n",
    "\n",
    "    if do_traversals: subterms_iter = preorder_traversal(term)\n",
    "    else: subterms_iter = flatten(term.args, cls=Add)\n",
    "\n",
    "    for subterm in subterms_iter:\n",
    "        matched = take_apart_matched(subterm, indexed)\n",
    "        if not matched: continue\n",
    "        subscript = matched['subscript']\n",
    "        indexed_terms_set.add(subscript if only_subscripts else indexed[subscript])\n",
    "\n",
    "    return indexed_terms_set\n",
    "\n",
    "\n",
    "def factor_rhs_unfolded_rec(unfolded_recurrence_spec):\n",
    "\n",
    "    unfolded_recurrence_eq = unfolded_recurrence_spec['recurrence_eq']\n",
    "\n",
    "    indexed_terms_in_rec = indexed_terms_appearing_in(\n",
    "        unfolded_recurrence_eq.rhs, unfolded_recurrence_spec['indexed'])\n",
    "\n",
    "    factored_spec = dict(**unfolded_recurrence_spec)\n",
    "    factored_spec.update(recurrence_eq=Eq(unfolded_recurrence_eq.lhs, \n",
    "        Poly(unfolded_recurrence_eq.rhs, *list(indexed_terms_in_rec)).args[0]))\n",
    "\n",
    "    return factored_spec\n",
    "\n",
    "def apply_if(f, guard):\n",
    "\n",
    "    def applying(*args, **kwds):\n",
    "        \n",
    "        result = args, kwds\n",
    "\n",
    "        if guard: result = f(*args, **kwds) \n",
    "        elif not kwds: result = args if len(args) > 1 else args[0]\n",
    "        elif not args: result = kwds\n",
    "\n",
    "        return result\n",
    "\n",
    "    return applying\n",
    "\n",
    "def do_unfolding_steps(recurrence_spec, steps=1, factor_rhs=False, \n",
    "                        keep_intermediate_unfoldings=False, first_order=True):\n",
    "        \n",
    "    def first_order_reducer(working_recurrence_spec_folded, step): \n",
    "\n",
    "        unfoldings, working_recurrence_spec = working_recurrence_spec_folded\n",
    "\n",
    "        unfolded_spec = unfold_recurrence(recurrence_spec, working_recurrence_spec)\n",
    "        unfoldings.update({step:unfolded_spec})\n",
    "\n",
    "        return unfoldings, unfolded_spec\n",
    "    \n",
    "    def second_order_reducer(working_recurrence_spec_folded, step): \n",
    "\n",
    "        unfoldings, working_recurrence_spec = working_recurrence_spec_folded\n",
    "\n",
    "        unfolded_spec = unfold_recurrence(working_recurrence_spec, working_recurrence_spec)\n",
    "        unfoldings.update({step:unfolded_spec})\n",
    "\n",
    "        return unfoldings, unfolded_spec\n",
    "\n",
    "    unfoldings, unfolded_recurrence_spec = reduce(\n",
    "        first_order_reducer if first_order else second_order_reducer, \n",
    "        range(steps), ({}, recurrence_spec))\n",
    "    \n",
    "    result = None\n",
    "    if keep_intermediate_unfoldings:\n",
    "        result = {k:factor_rhs_unfolded_rec(v) for k,v in unfoldings.items()} \\\n",
    "            if factor_rhs else unfoldings\n",
    "    else:\n",
    "        result = factor_rhs_unfolded_rec(unfolded_recurrence_spec) \\\n",
    "            if factor_rhs else unfolded_recurrence_spec\n",
    "\n",
    "    return result\n",
    "\n",
    "\n",
    "def base_instantiation(unfolded_recurrence_spec, base_index=0):\n",
    "\n",
    "    def worker(recurrence_eq, indexed, index, terms_cache):\n",
    "\n",
    "        rhs = recurrence_eq.rhs\n",
    "        rhs_summands = flatten(rhs.args, cls=Add)\n",
    "        \n",
    "        def subscript_equation_maker(rhs_term):\n",
    "            \n",
    "            matched = take_apart_matched(rhs_term, indexed)\n",
    "            \n",
    "            return Eq(matched['subscript'], base_index) if matched else None\n",
    "        \n",
    "        valid_equations = filter(lambda x: False if x is None else True, \n",
    "                                 map(subscript_equation_maker, rhs_summands))\n",
    "        \n",
    "        solutions = map(lambda eq: solve(eq, index)[0], valid_equations)\n",
    "        \n",
    "        satisfying_index = max(solutions)\n",
    "\n",
    "        def subs_index_into(term): return term.subs(index, satisfying_index)\n",
    "\n",
    "        new_terms_cache = {subs_index_into(k):subs_index_into(v)\n",
    "                            for k,v in terms_cache.items()}\n",
    "\n",
    "        return dict(recurrence_eq=subs_index_into(recurrence_eq),\n",
    "                    indexed=indexed,\n",
    "                    index=satisfying_index,\n",
    "                    terms_cache=new_terms_cache)\n",
    "\n",
    "    return worker(**unfolded_recurrence_spec)\n",
    "\n",
    "def project_recurrence_spec(recurrence_spec, **props):\n",
    "    \n",
    "    projected = []\n",
    "    for k,v in props.items(): \n",
    "        if v and k in recurrence_spec: projected.append(recurrence_spec[k])\n",
    "\n",
    "    return projected[0] if len(projected) == 1 else tuple(projected)\n",
    "\n",
    "\n",
    "def times_higher_order_operator(recurrence_spec, times_range=range(6), \n",
    "        operator=lambda *args: tuple(args), instantiate=True, include_last_terms_cache=False):\n",
    "\n",
    "    initial_terms_cache = recurrence_spec['terms_cache'].copy()\n",
    "\n",
    "    def worker(working_steps):\n",
    "\n",
    "        unfolded_evaluated_spec = do_unfolding_steps(\n",
    "            recurrence_spec, working_steps, factor_rhs=True)\n",
    "\n",
    "        recurrence_spec['terms_cache'].update(unfolded_evaluated_spec['terms_cache'])\n",
    "\n",
    "        processed_recurrence_spec = apply_if(\n",
    "            base_instantiation, instantiate)(unfolded_evaluated_spec)\n",
    "\n",
    "        return operator(processed_recurrence_spec, working_steps)\n",
    "\n",
    "    mapped = map(worker, times_range)\n",
    "\n",
    "    last_terms_cache = recurrence_spec['terms_cache'].copy()\n",
    "    recurrence_spec['terms_cache'] = initial_terms_cache\n",
    "\n",
    "    return mapped if not include_last_terms_cache else (mapped, last_terms_cache)\n",
    "\n",
    "\n",
    "def repeated_instantiating(base_instantiated_rec_spec):\n",
    "    \n",
    "    # from sympy.core.add import _unevaluated_Add as uAdd\n",
    "\n",
    "    indexed = base_instantiated_rec_spec['indexed']\n",
    "    \n",
    "    def worker(previous_terms_cache, do_one_more_step):\n",
    "    \n",
    "        if not do_one_more_step: return previous_terms_cache\n",
    "        else: do_one_more_step = False\n",
    "            \n",
    "        def subterm_mapping(subterm):    \n",
    "                \n",
    "            nonlocal do_one_more_step\n",
    "            new_subterm = subterm\n",
    "            \n",
    "            if subterm.free_symbols:\n",
    "                new_subterm = subterm.subs(previous_terms_cache)\n",
    "                if subterm != new_subterm: do_one_more_step = True\n",
    "                \n",
    "            return new_subterm\n",
    "            \n",
    "        current_terms_cache = {k:subterm_mapping(v) for k,v in previous_terms_cache.items()}\n",
    "        \n",
    "        return worker(current_terms_cache, do_one_more_step)\n",
    "\n",
    "    \n",
    "    fully_instantiated_terms_cache = worker(base_instantiated_rec_spec['terms_cache'], \n",
    "                                            do_one_more_step=True)\n",
    "    \n",
    "    fully_instantiated_rec_eq = base_instantiated_rec_spec['recurrence_eq'].subs(\n",
    "        fully_instantiated_terms_cache)\n",
    "    \n",
    "    return dict(recurrence_eq=fully_instantiated_rec_eq, \n",
    "                indexed=indexed,\n",
    "                index=base_instantiated_rec_spec['index'],\n",
    "                terms_cache=fully_instantiated_terms_cache)\n",
    "\n",
    "\n",
    "def latex_array_env(*args, **kwd):\n",
    "    \n",
    "    def eqnarray_entry_for_eq(processed_spec, working_steps):\n",
    "        processed_eq = project_recurrence_spec(processed_spec, recurrence_eq=True)\n",
    "        return latex(processed_eq) + r\"\\\\\"\n",
    "\n",
    "    mapped = times_higher_order_operator(*args, **kwd, operator=eqnarray_entry_for_eq)\n",
    "    template = Template(r\"\"\"\\begin{array}{c}$content\\end{array}\"\"\")\n",
    "\n",
    "    return template.substitute(content=\"\\n\".join(mapped))\n",
    "\n",
    "\n",
    "def ipython_latex(*args, **kwd):\n",
    "    \n",
    "    from IPython.display import Latex\n",
    "    return Latex(latex_array_env(*args, **kwd))\n"
   ]
  },
  {
   "cell_type": "markdown",
   "metadata": {},
   "source": [
    "---"
   ]
  },
  {
   "cell_type": "code",
   "execution_count": 82,
   "metadata": {
    "collapsed": true
   },
   "outputs": [],
   "source": [
    "import sympy\n",
    "from sympy import *\n",
    "from sympy.abc import x, n, z, t, k\n",
    "\n",
    "init_printing() # for nice printing, a-la' TeX"
   ]
  },
  {
   "cell_type": "markdown",
   "metadata": {},
   "source": [
    "## Quicksort's checks recurrence"
   ]
  },
  {
   "cell_type": "code",
   "execution_count": 105,
   "metadata": {
    "collapsed": false
   },
   "outputs": [
    {
     "data": {
      "image/png": "[encoded data removed]",
      "text/latex": [
       "$$\\frac{c_{n}}{n + 1} = \\frac{2}{n + 1} + \\frac{1}{n} c_{n - 1}$$"
      ],
      "text/plain": [
       " c[n]     2     c[n - 1]\n",
       "───── = ───── + ────────\n",
       "n + 1   n + 1      n    "
      ]
     },
     "execution_count": 105,
     "metadata": {},
     "output_type": "execute_result"
    }
   ],
   "source": [
    "c = IndexedBase('c')\n",
    "checks_recurrence = Eq(c[n]/(n+1), 2/(n+1) + c[n-1]/n)\n",
    "checks_recurrence"
   ]
  },
  {
   "cell_type": "code",
   "execution_count": 106,
   "metadata": {
    "collapsed": true
   },
   "outputs": [],
   "source": [
    "checks_recurrence_spec=dict(recurrence_eq=checks_recurrence, indexed=c, index=n, terms_cache={})"
   ]
  },
  {
   "cell_type": "code",
   "execution_count": 107,
   "metadata": {
    "collapsed": true
   },
   "outputs": [],
   "source": [
    "unfolded = do_unfolding_steps(checks_recurrence_spec, steps=0)"
   ]
  },
  {
   "cell_type": "code",
   "execution_count": 108,
   "metadata": {
    "collapsed": false
   },
   "outputs": [
    {
     "data": {
      "image/png": "[encoded data removed]",
      "text/latex": [
       "$$\\frac{c_{n}}{n + 1} = \\frac{2}{n + 1} + \\frac{1}{n} c_{n - 1}$$"
      ],
      "text/plain": [
       " c[n]     2     c[n - 1]\n",
       "───── = ───── + ────────\n",
       "n + 1   n + 1      n    "
      ]
     },
     "execution_count": 108,
     "metadata": {},
     "output_type": "execute_result"
    }
   ],
   "source": [
    "project_recurrence_spec(unfolded, recurrence_eq=True)"
   ]
  },
  {
   "cell_type": "code",
   "execution_count": 109,
   "metadata": {
    "collapsed": false
   },
   "outputs": [
    {
     "data": {
      "image/png": "[encoded data removed]",
      "text/latex": [
       "$$\\frac{c_{n}}{n + 1} = \\frac{2}{n - 3} + \\frac{c_{n - 5}}{n - 4} + \\frac{2}{n + 1} + \\frac{2}{n} + \\frac{2}{n - 1} + \\frac{2}{n - 2}$$"
      ],
      "text/plain": [
       " c[n]     2     c[n - 5]     2     2     2       2  \n",
       "───── = ───── + ──────── + ───── + ─ + ───── + ─────\n",
       "n + 1   n - 3    n - 4     n + 1   n   n - 1   n - 2"
      ]
     },
     "execution_count": 109,
     "metadata": {},
     "output_type": "execute_result"
    }
   ],
   "source": [
    "unfolded = do_unfolding_steps(checks_recurrence_spec,4)\n",
    "recurrence_eq = project_recurrence_spec(unfolded, recurrence_eq=True)\n",
    "recurrence_eq"
   ]
  },
  {
   "cell_type": "code",
   "execution_count": 110,
   "metadata": {
    "collapsed": false
   },
   "outputs": [
    {
     "data": {
      "image/png": "[encoded data removed]",
      "text/latex": [
       "$$\\frac{c_{5}}{6} = c_{0} + \\frac{29}{10}$$"
      ],
      "text/plain": [
       "c[5]          29\n",
       "──── = c[0] + ──\n",
       " 6            10"
      ]
     },
     "execution_count": 110,
     "metadata": {},
     "output_type": "execute_result"
    }
   ],
   "source": [
    "recurrence_eq.subs(n,5)"
   ]
  },
  {
   "cell_type": "code",
   "execution_count": 111,
   "metadata": {
    "collapsed": true
   },
   "outputs": [],
   "source": [
    "boundary_conditions = {c[0]:Integer(0)}\n",
    "\n",
    "checks_recurrence_spec=dict(recurrence_eq=checks_recurrence, indexed=c, index=n, \n",
    "                            terms_cache=boundary_conditions)\n",
    "\n",
    "unfolded = do_unfolding_steps(checks_recurrence_spec, steps=4)"
   ]
  },
  {
   "cell_type": "code",
   "execution_count": 112,
   "metadata": {
    "collapsed": true
   },
   "outputs": [],
   "source": [
    "instantiated_rec_spec = base_instantiation(unfolded)"
   ]
  },
  {
   "cell_type": "code",
   "execution_count": 113,
   "metadata": {
    "collapsed": false
   },
   "outputs": [
    {
     "data": {
      "image/png": "[encoded data removed]",
      "text/latex": [
       "$$\\left ( \\left \\{ c_{0} : 0, \\quad \\frac{c_{1}}{2} : c_{0} + 1, \\quad \\frac{c_{2}}{3} : \\frac{c_{1}}{2} + \\frac{2}{3}, \\quad \\frac{c_{3}}{4} : \\frac{c_{2}}{3} + \\frac{1}{2}, \\quad \\frac{c_{4}}{5} : \\frac{c_{3}}{4} + \\frac{2}{5}\\right \\}, \\quad \\frac{c_{5}}{6} = c_{0} + \\frac{29}{10}\\right )$$"
      ],
      "text/plain": [
       "⎛⎧         c[1]            c[2]  c[1]   2  c[3]  c[2]   1  c[4]  c[3]   2⎫  c[\n",
       "⎜⎨c[0]: 0, ────: c[0] + 1, ────: ──── + ─, ────: ──── + ─, ────: ──── + ─⎬, ──\n",
       "⎝⎩          2               3     2     3   4     3     2   5     4     5⎭   6\n",
       "\n",
       "5]          29⎞\n",
       "── = c[0] + ──⎟\n",
       "            10⎠"
      ]
     },
     "execution_count": 113,
     "metadata": {},
     "output_type": "execute_result"
    }
   ],
   "source": [
    "project_recurrence_spec(instantiated_rec_spec, recurrence_eq=True, terms_cache=True)"
   ]
  },
  {
   "cell_type": "code",
   "execution_count": 114,
   "metadata": {
    "collapsed": true
   },
   "outputs": [],
   "source": [
    "fully_instantiated_spec = repeated_instantiating(instantiated_rec_spec)"
   ]
  },
  {
   "cell_type": "code",
   "execution_count": 115,
   "metadata": {
    "collapsed": false
   },
   "outputs": [
    {
     "data": {
      "image/png": "[encoded data removed]",
      "text/latex": [
       "$$\\left ( \\left \\{ c_{0} : 0, \\quad \\frac{c_{1}}{2} : 1, \\quad \\frac{c_{2}}{3} : \\frac{5}{3}, \\quad \\frac{c_{3}}{4} : \\frac{13}{6}, \\quad \\frac{c_{4}}{5} : \\frac{77}{30}\\right \\}, \\quad \\frac{c_{5}}{6} = \\frac{29}{10}\\right )$$"
      ],
      "text/plain": [
       "⎛⎧         c[1]     c[2]       c[3]        c[4]  77⎫  c[5]   29⎞\n",
       "⎜⎨c[0]: 0, ────: 1, ────: 5/3, ────: 13/6, ────: ──⎬, ──── = ──⎟\n",
       "⎝⎩          2        3          4           5    30⎭   6     10⎠"
      ]
     },
     "execution_count": 115,
     "metadata": {},
     "output_type": "execute_result"
    }
   ],
   "source": [
    "project_recurrence_spec(fully_instantiated_spec, recurrence_eq=True, terms_cache=True)"
   ]
  },
  {
   "cell_type": "code",
   "execution_count": 116,
   "metadata": {
    "collapsed": false
   },
   "outputs": [
    {
     "data": {
      "text/latex": [
       "\\begin{array}{c}\\frac{c_{1}}{2} = c_{0} + 1\\\\\n",
       "\\frac{c_{2}}{3} = c_{0} + \\frac{5}{3}\\\\\n",
       "\\frac{c_{3}}{4} = c_{0} + \\frac{13}{6}\\\\\n",
       "\\frac{c_{4}}{5} = c_{0} + \\frac{77}{30}\\\\\n",
       "\\frac{c_{5}}{6} = c_{0} + \\frac{29}{10}\\\\\n",
       "\\frac{c_{6}}{7} = c_{0} + \\frac{223}{70}\\\\\n",
       "\\frac{c_{7}}{8} = c_{0} + \\frac{481}{140}\\\\\n",
       "\\frac{c_{8}}{9} = c_{0} + \\frac{4609}{1260}\\\\\n",
       "\\frac{c_{9}}{10} = c_{0} + \\frac{4861}{1260}\\\\\n",
       "\\frac{c_{10}}{11} = c_{0} + \\frac{55991}{13860}\\\\\\end{array}"
      ],
      "text/plain": [
       "<IPython.core.display.Latex object>"
      ]
     },
     "execution_count": 116,
     "metadata": {},
     "output_type": "execute_result"
    }
   ],
   "source": [
    "ipython_latex(checks_recurrence_spec, times_range=range(10))"
   ]
  },
  {
   "cell_type": "markdown",
   "metadata": {},
   "source": [
    "## Quicksort's swaps recurrence"
   ]
  },
  {
   "cell_type": "code",
   "execution_count": 43,
   "metadata": {
    "collapsed": false
   },
   "outputs": [
    {
     "data": {
      "image/png": "[encoded data removed]",
      "text/latex": [
       "$$\\frac{s_{n}}{n + 1} = \\frac{1}{n} s_{n - 1} + \\frac{2 n - 3}{6 n \\left(n + 1\\right)}$$"
      ],
      "text/plain": [
       " s[n]   s[n - 1]     2⋅n - 3  \n",
       "───── = ──────── + ───────────\n",
       "n + 1      n       6⋅n⋅(n + 1)"
      ]
     },
     "execution_count": 43,
     "metadata": {},
     "output_type": "execute_result"
    }
   ],
   "source": [
    "s = IndexedBase('s')\n",
    "swaps_recurrence = Eq(s[n]/(n+1),s[n-1]/n + (2*n-3)/(6*n*(n+1)))\n",
    "swaps_recurrence"
   ]
  },
  {
   "cell_type": "code",
   "execution_count": 45,
   "metadata": {
    "collapsed": true
   },
   "outputs": [],
   "source": [
    "swaps_recurrence_spec=dict(recurrence_eq=swaps_recurrence, indexed=s, index=n, terms_cache={})"
   ]
  },
  {
   "cell_type": "code",
   "execution_count": 46,
   "metadata": {
    "collapsed": false
   },
   "outputs": [
    {
     "data": {
      "image/png": "[encoded data removed]",
      "text/latex": [
       "$$\\frac{s_{n}}{n + 1} = \\frac{s_{n - 5}}{n - 4} + \\frac{2 n - 11}{6 \\left(n - 4\\right) \\left(n - 3\\right)} + \\frac{2 n - 9}{6 \\left(n - 3\\right) \\left(n - 2\\right)} + \\frac{2 n - 7}{6 \\left(n - 2\\right) \\left(n - 1\\right)} + \\frac{2 n - 5}{6 n \\left(n - 1\\right)} + \\frac{2 n - 3}{6 n \\left(n + 1\\right)}$$"
      ],
      "text/plain": [
       " s[n]   s[n - 5]        2⋅n - 11            2⋅n - 9             2⋅n - 7       \n",
       "───── = ──────── + ───────────────── + ───────────────── + ───────────────── +\n",
       "n + 1    n - 4     6⋅(n - 4)⋅(n - 3)   6⋅(n - 3)⋅(n - 2)   6⋅(n - 2)⋅(n - 1)  \n",
       "\n",
       "   2⋅n - 5       2⋅n - 3  \n",
       " ─────────── + ───────────\n",
       " 6⋅n⋅(n - 1)   6⋅n⋅(n + 1)"
      ]
     },
     "execution_count": 46,
     "metadata": {},
     "output_type": "execute_result"
    }
   ],
   "source": [
    "unfolded = do_unfolding_steps(swaps_recurrence_spec, 4)\n",
    "recurrence_eq = project_recurrence_spec(unfolded, recurrence_eq=True)\n",
    "recurrence_eq"
   ]
  },
  {
   "cell_type": "code",
   "execution_count": 47,
   "metadata": {
    "collapsed": false
   },
   "outputs": [
    {
     "data": {
      "image/png": "[encoded data removed]",
      "text/latex": [
       "$$\\frac{s_{10}}{11} = \\frac{s_{5}}{6} + \\frac{12647}{83160}$$"
      ],
      "text/plain": [
       "s[10]   s[5]   12647\n",
       "───── = ──── + ─────\n",
       "  11     6     83160"
      ]
     },
     "execution_count": 47,
     "metadata": {},
     "output_type": "execute_result"
    }
   ],
   "source": [
    "recurrence_eq.subs(n,10)"
   ]
  },
  {
   "cell_type": "code",
   "execution_count": 48,
   "metadata": {
    "collapsed": false
   },
   "outputs": [
    {
     "data": {
      "image/png": "[encoded data removed]",
      "text/latex": [
       "$$\\left ( \\left \\{ \\frac{s_{1}}{2} : s_{0} - \\frac{1}{12}, \\quad \\frac{s_{2}}{3} : \\frac{s_{1}}{2} + \\frac{1}{36}, \\quad \\frac{s_{3}}{4} : \\frac{s_{2}}{3} + \\frac{1}{24}, \\quad \\frac{s_{4}}{5} : \\frac{s_{3}}{4} + \\frac{1}{24}\\right \\}, \\quad \\frac{s_{5}}{6} = s_{0} + \\frac{1}{15}\\right )$$"
      ],
      "text/plain": [
       "⎛⎧s[1]               s[2]  s[1]   1   s[3]  s[2]   1   s[4]  s[3]   1 ⎫  s[5] \n",
       "⎜⎨────: s[0] - 1/12, ────: ──── + ──, ────: ──── + ──, ────: ──── + ──⎬, ──── \n",
       "⎝⎩ 2                  3     2     36   4     3     24   5     4     24⎭   6   \n",
       "\n",
       "             ⎞\n",
       "= s[0] + 1/15⎟\n",
       "             ⎠"
      ]
     },
     "execution_count": 48,
     "metadata": {},
     "output_type": "execute_result"
    }
   ],
   "source": [
    "project_recurrence_spec(base_instantiation(unfolded), recurrence_eq=True, terms_cache=True)"
   ]
  },
  {
   "cell_type": "markdown",
   "metadata": {},
   "source": [
    "### With boundary conditions"
   ]
  },
  {
   "cell_type": "code",
   "execution_count": 49,
   "metadata": {
    "collapsed": false
   },
   "outputs": [
    {
     "data": {
      "image/png": "[encoded data removed]",
      "text/latex": [
       "$$\\left ( \\left \\{ s_{0} : 0, \\quad \\frac{s_{1}}{2} : - \\frac{1}{12}, \\quad \\frac{s_{2}}{3} : - \\frac{1}{18}, \\quad \\frac{s_{3}}{4} : - \\frac{1}{72}, \\quad \\frac{s_{4}}{5} : \\frac{1}{36}, \\quad \\frac{s_{5}}{6} : \\frac{1}{15}, \\quad \\frac{s_{6}}{7} : \\frac{43}{420}, \\quad \\frac{s_{7}}{8} : \\frac{227}{1680}, \\quad \\frac{s_{8}}{9} : \\frac{1249}{7560}\\right \\}, \\quad \\frac{s_{9}}{10} = \\frac{1459}{7560}\\right )$$"
      ],
      "text/plain": [
       "⎛⎧         s[1]         s[2]         s[3]         s[4]        s[5]        s[6]\n",
       "⎜⎨s[0]: 0, ────: -1/12, ────: -1/18, ────: -1/72, ────: 1/36, ────: 1/15, ────\n",
       "⎝⎩          2            3            4            5           6           7  \n",
       "\n",
       "   43  s[7]  227   s[8]  1249⎫  s[9]   1459⎞\n",
       ": ───, ────: ────, ────: ────⎬, ──── = ────⎟\n",
       "  420   8    1680   9    7560⎭   10    7560⎠"
      ]
     },
     "execution_count": 49,
     "metadata": {},
     "output_type": "execute_result"
    }
   ],
   "source": [
    "swaps_recurrence_spec=dict(recurrence_eq=swaps_recurrence, indexed=s, index=n, terms_cache={s[0]:Integer(0)})\n",
    "unfolded = do_unfolding_steps(swaps_recurrence_spec, steps=8)\n",
    "instantiated_rec_spec = base_instantiation(unfolded)\n",
    "fully_instantiated_spec = repeated_instantiating(instantiated_rec_spec)\n",
    "project_recurrence_spec(fully_instantiated_spec, recurrence_eq=True, terms_cache=True)"
   ]
  },
  {
   "cell_type": "code",
   "execution_count": 53,
   "metadata": {
    "collapsed": false
   },
   "outputs": [
    {
     "data": {
      "text/latex": [
       "\\begin{array}{c}\\frac{s_{1}}{2} = s_{0} - \\frac{1}{12}\\\\\n",
       "\\frac{s_{2}}{3} = s_{0} - \\frac{1}{18}\\\\\n",
       "\\frac{s_{3}}{4} = s_{0} - \\frac{1}{72}\\\\\n",
       "\\frac{s_{4}}{5} = s_{0} + \\frac{1}{36}\\\\\n",
       "\\frac{s_{5}}{6} = s_{0} + \\frac{1}{15}\\\\\n",
       "\\frac{s_{6}}{7} = s_{0} + \\frac{43}{420}\\\\\n",
       "\\frac{s_{7}}{8} = s_{0} + \\frac{227}{1680}\\\\\n",
       "\\frac{s_{8}}{9} = s_{0} + \\frac{1249}{7560}\\\\\n",
       "\\frac{s_{9}}{10} = s_{0} + \\frac{1459}{7560}\\\\\n",
       "\\frac{s_{10}}{11} = s_{0} + \\frac{18191}{83160}\\\\\\end{array}"
      ],
      "text/plain": [
       "<IPython.core.display.Latex object>"
      ]
     },
     "execution_count": 53,
     "metadata": {},
     "output_type": "execute_result"
    }
   ],
   "source": [
    "ipython_latex(swaps_recurrence_spec, times_range=range(10))"
   ]
  },
  {
   "cell_type": "markdown",
   "metadata": {},
   "source": [
    "## Fibonacci recurrence\n",
    "\n",
    "A nice picture is [here][fibonacci-oeis].\n",
    "\n",
    "[fibonacci-oeis]:http://oeis.org/A000045/a000045.html"
   ]
  },
  {
   "cell_type": "markdown",
   "metadata": {},
   "source": [
    "### Backwards subscripts"
   ]
  },
  {
   "cell_type": "code",
   "execution_count": 54,
   "metadata": {
    "collapsed": false
   },
   "outputs": [
    {
     "data": {
      "image/png": "[encoded data removed]",
      "text/latex": [
       "$$f_{n} = f_{n - 2} + f_{n - 1}$$"
      ],
      "text/plain": [
       "f[n] = f[n - 2] + f[n - 1]"
      ]
     },
     "execution_count": 54,
     "metadata": {},
     "output_type": "execute_result"
    }
   ],
   "source": [
    "f = IndexedBase('f')\n",
    "fibonacci_recurrence = Eq(f[n],f[n-1]+f[n-2])\n",
    "fibonacci_recurrence"
   ]
  },
  {
   "cell_type": "code",
   "execution_count": 55,
   "metadata": {
    "collapsed": true
   },
   "outputs": [],
   "source": [
    "fibonacci_recurrence_spec=dict(recurrence_eq=fibonacci_recurrence, indexed=f, index=n, terms_cache={})"
   ]
  },
  {
   "cell_type": "code",
   "execution_count": 56,
   "metadata": {
    "collapsed": false
   },
   "outputs": [
    {
     "data": {
      "image/png": "[encoded data removed]",
      "text/latex": [
       "$$f_{n} = f_{n - 11} + f_{n - 10} + f_{n - 10} + f_{n - 9} + f_{n - 10} + f_{n - 9} + f_{n - 9} + f_{n - 8} + f_{n - 10} + f_{n - 9} + f_{n - 9} + f_{n - 8} + f_{n - 9} + f_{n - 8} + f_{n - 8} + f_{n - 7} + f_{n - 10} + f_{n - 9} + f_{n - 9} + f_{n - 8} + f_{n - 9} + f_{n - 8} + f_{n - 8} + f_{n - 7} + f_{n - 9} + f_{n - 8} + f_{n - 8} + f_{n - 7} + f_{n - 8} + f_{n - 7} + f_{n - 7} + f_{n - 6} + f_{n - 12} + f_{n - 11} + f_{n - 11} + f_{n - 10} + f_{n - 11} + f_{n - 10} + f_{n - 10} + f_{n - 9} + f_{n - 11} + f_{n - 10} + f_{n - 10} + f_{n - 9} + f_{n - 10} + f_{n - 9} + f_{n - 9} + f_{n - 8} + f_{n - 11} + f_{n - 10} + f_{n - 10} + f_{n - 9} + f_{n - 10} + f_{n - 9} + f_{n - 9} + f_{n - 8} + f_{n - 10} + f_{n - 9} + f_{n - 9} + f_{n - 8} + f_{n - 9} + f_{n - 8} + f_{n - 8} + f_{n - 7}$$"
      ],
      "text/plain": [
       "f[n] = f[n - 11] + f[n - 10] + f[n - 10] + f[n - 9] + f[n - 10] + f[n - 9] + f\n",
       "[n - 9] + f[n - 8] + f[n - 10] + f[n - 9] + f[n - 9] + f[n - 8] + f[n - 9] + f\n",
       "[n - 8] + f[n - 8] + f[n - 7] + f[n - 10] + f[n - 9] + f[n - 9] + f[n - 8] + f\n",
       "[n - 9] + f[n - 8] + f[n - 8] + f[n - 7] + f[n - 9] + f[n - 8] + f[n - 8] + f[\n",
       "n - 7] + f[n - 8] + f[n - 7] + f[n - 7] + f[n - 6] + f[n - 12] + f[n - 11] + f\n",
       "[n - 11] + f[n - 10] + f[n - 11] + f[n - 10] + f[n - 10] + f[n - 9] + f[n - 11\n",
       "] + f[n - 10] + f[n - 10] + f[n - 9] + f[n - 10] + f[n - 9] + f[n - 9] + f[n -\n",
       " 8] + f[n - 11] + f[n - 10] + f[n - 10] + f[n - 9] + f[n - 10] + f[n - 9] + f[\n",
       "n - 9] + f[n - 8] + f[n - 10] + f[n - 9] + f[n - 9] + f[n - 8] + f[n - 9] + f[\n",
       "n - 8] + f[n - 8] + f[n - 7]"
      ]
     },
     "execution_count": 56,
     "metadata": {},
     "output_type": "execute_result"
    }
   ],
   "source": [
    "unfolded = do_unfolding_steps(fibonacci_recurrence_spec, 5)\n",
    "recurrence_eq = project_recurrence_spec(unfolded, recurrence_eq=True)\n",
    "recurrence_eq"
   ]
  },
  {
   "cell_type": "code",
   "execution_count": 57,
   "metadata": {
    "collapsed": false
   },
   "outputs": [
    {
     "data": {
      "image/png": "[encoded data removed]",
      "text/latex": [
       "$$f_{n} = f_{n - 12} + 6 f_{n - 11} + 15 f_{n - 10} + 20 f_{n - 9} + 15 f_{n - 8} + 6 f_{n - 7} + f_{n - 6}$$"
      ],
      "text/plain": [
       "f[n] = f[n - 12] + 6⋅f[n - 11] + 15⋅f[n - 10] + 20⋅f[n - 9] + 15⋅f[n - 8] + 6⋅\n",
       "f[n - 7] + f[n - 6]"
      ]
     },
     "execution_count": 57,
     "metadata": {},
     "output_type": "execute_result"
    }
   ],
   "source": [
    "factored_recurrence_eq = project_recurrence_spec(factor_rhs_unfolded_rec(unfolded), recurrence_eq=True)\n",
    "factored_recurrence_eq"
   ]
  },
  {
   "cell_type": "code",
   "execution_count": 58,
   "metadata": {
    "collapsed": false
   },
   "outputs": [
    {
     "data": {
      "image/png": "[encoded data removed]",
      "text/latex": [
       "$$f_{12} = f_{0} + 6 f_{1} + 15 f_{2} + 20 f_{3} + 15 f_{4} + 6 f_{5} + f_{6}$$"
      ],
      "text/plain": [
       "f[12] = f[0] + 6⋅f[1] + 15⋅f[2] + 20⋅f[3] + 15⋅f[4] + 6⋅f[5] + f[6]"
      ]
     },
     "execution_count": 58,
     "metadata": {},
     "output_type": "execute_result"
    }
   ],
   "source": [
    "factored_recurrence_eq.subs(n, 12)"
   ]
  },
  {
   "cell_type": "code",
   "execution_count": 59,
   "metadata": {
    "collapsed": false
   },
   "outputs": [
    {
     "data": {
      "image/png": "[encoded data removed]",
      "text/latex": [
       "$$\\left ( \\left \\{ f_{2} : f_{0} + f_{1}, \\quad f_{3} : f_{1} + f_{2}, \\quad f_{4} : f_{2} + f_{3}, \\quad f_{5} : f_{3} + f_{4}, \\quad f_{6} : f_{4} + f_{5}, \\quad f_{7} : f_{5} + f_{6}, \\quad f_{8} : f_{6} + f_{7}, \\quad f_{9} : f_{7} + f_{8}, \\quad f_{10} : f_{8} + f_{9}, \\quad f_{11} : f_{9} + f_{10}\\right \\}, \\quad f_{12} = f_{0} + 6 f_{1} + 15 f_{2} + 20 f_{3} + 15 f_{4} + 6 f_{5} + f_{6}\\right )$$"
      ],
      "text/plain": [
       "({f[2]: f[0] + f[1], f[3]: f[1] + f[2], f[4]: f[2] + f[3], f[5]: f[3] + f[4], \n",
       "f[6]: f[4] + f[5], f[7]: f[5] + f[6], f[8]: f[6] + f[7], f[9]: f[7] + f[8], f[\n",
       "10]: f[8] + f[9], f[11]: f[9] + f[10]}, f[12] = f[0] + 6⋅f[1] + 15⋅f[2] + 20⋅f\n",
       "[3] + 15⋅f[4] + 6⋅f[5] + f[6])"
      ]
     },
     "execution_count": 59,
     "metadata": {},
     "output_type": "execute_result"
    }
   ],
   "source": [
    "project_recurrence_spec(base_instantiation(unfolded), recurrence_eq=True, terms_cache=True)"
   ]
  },
  {
   "cell_type": "code",
   "execution_count": 62,
   "metadata": {
    "collapsed": false
   },
   "outputs": [
    {
     "data": {
      "text/latex": [
       "\\begin{array}{c}f_{2} = f_{0} + f_{1}\\\\\n",
       "f_{4} = f_{0} + 2 f_{1} + f_{2}\\\\\n",
       "f_{6} = f_{0} + 3 f_{1} + 3 f_{2} + f_{3}\\\\\n",
       "f_{8} = f_{0} + 4 f_{1} + 6 f_{2} + 4 f_{3} + f_{4}\\\\\n",
       "f_{10} = f_{0} + 5 f_{1} + 10 f_{2} + 10 f_{3} + 5 f_{4} + f_{5}\\\\\n",
       "f_{12} = f_{0} + 6 f_{1} + 15 f_{2} + 20 f_{3} + 15 f_{4} + 6 f_{5} + f_{6}\\\\\n",
       "f_{14} = f_{0} + 7 f_{1} + 21 f_{2} + 35 f_{3} + 35 f_{4} + 21 f_{5} + 7 f_{6} + f_{7}\\\\\n",
       "f_{16} = f_{0} + 8 f_{1} + 28 f_{2} + 56 f_{3} + 70 f_{4} + 56 f_{5} + 28 f_{6} + 8 f_{7} + f_{8}\\\\\n",
       "f_{18} = f_{0} + 9 f_{1} + 36 f_{2} + 84 f_{3} + 126 f_{4} + 126 f_{5} + 84 f_{6} + 36 f_{7} + 9 f_{8} + f_{9}\\\\\n",
       "f_{20} = f_{0} + 10 f_{1} + 45 f_{2} + 120 f_{3} + 210 f_{4} + 252 f_{5} + 210 f_{6} + 120 f_{7} + 45 f_{8} + 10 f_{9} + f_{10}\\\\\\end{array}"
      ],
      "text/plain": [
       "<IPython.core.display.Latex object>"
      ]
     },
     "execution_count": 62,
     "metadata": {},
     "output_type": "execute_result"
    }
   ],
   "source": [
    "ipython_latex(fibonacci_recurrence_spec, times_range=range(10))"
   ]
  },
  {
   "cell_type": "markdown",
   "metadata": {},
   "source": [
    "### Forward subscripts"
   ]
  },
  {
   "cell_type": "code",
   "execution_count": 153,
   "metadata": {
    "collapsed": false
   },
   "outputs": [
    {
     "data": {
      "image/png": "[encoded data removed]",
      "text/latex": [
       "$$f_{n + 2} = f_{n} + f_{n + 1}$$"
      ],
      "text/plain": [
       "f[n + 2] = f[n] + f[n + 1]"
      ]
     },
     "execution_count": 153,
     "metadata": {},
     "output_type": "execute_result"
    }
   ],
   "source": [
    "f = IndexedBase('f')\n",
    "fibonacci_recurrence = Eq(f[n+2],f[n+1]+f[n])\n",
    "fibonacci_recurrence"
   ]
  },
  {
   "cell_type": "code",
   "execution_count": 154,
   "metadata": {
    "collapsed": true
   },
   "outputs": [],
   "source": [
    "boundary_conditions = {f[0]:Integer(1), f[1]:Integer(1)}\n",
    "fibonacci_recurrence_spec=dict(recurrence_eq=fibonacci_recurrence, indexed=f, \n",
    "                               index=n, terms_cache=boundary_conditions)"
   ]
  },
  {
   "cell_type": "code",
   "execution_count": 155,
   "metadata": {
    "collapsed": true
   },
   "outputs": [],
   "source": [
    "unfolded = do_unfolding_steps(fibonacci_recurrence_spec, 5)"
   ]
  },
  {
   "cell_type": "code",
   "execution_count": 156,
   "metadata": {
    "collapsed": false
   },
   "outputs": [
    {
     "data": {
      "image/png": "[encoded data removed]",
      "text/latex": [
       "$$f_{n + 2} = f_{n - 9} + f_{n - 8} + f_{n - 8} + f_{n - 7} + f_{n - 8} + f_{n - 7} + f_{n - 7} + f_{n - 6} + f_{n - 8} + f_{n - 7} + f_{n - 7} + f_{n - 6} + f_{n - 7} + f_{n - 6} + f_{n - 6} + f_{n - 5} + f_{n - 10} + f_{n - 9} + f_{n - 9} + f_{n - 8} + f_{n - 9} + f_{n - 8} + f_{n - 8} + f_{n - 7} + f_{n - 9} + f_{n - 8} + f_{n - 8} + f_{n - 7} + f_{n - 8} + f_{n - 7} + f_{n - 7} + f_{n - 6} + f_{n - 7} + f_{n - 6} + f_{n - 6} + f_{n - 5} + f_{n - 6} + f_{n - 5} + f_{n - 5} + f_{n - 4} + f_{n - 8} + f_{n - 7} + f_{n - 7} + f_{n - 6} + f_{n - 7} + f_{n - 6} + f_{n - 6} + f_{n - 5} + f_{n - 9} + f_{n - 8} + f_{n - 8} + f_{n - 7} + f_{n - 8} + f_{n - 7} + f_{n - 7} + f_{n - 6} + f_{n - 8} + f_{n - 7} + f_{n - 7} + f_{n - 6} + f_{n - 7} + f_{n - 6} + f_{n - 6} + f_{n - 5}$$"
      ],
      "text/plain": [
       "f[n + 2] = f[n - 9] + f[n - 8] + f[n - 8] + f[n - 7] + f[n - 8] + f[n - 7] + f\n",
       "[n - 7] + f[n - 6] + f[n - 8] + f[n - 7] + f[n - 7] + f[n - 6] + f[n - 7] + f[\n",
       "n - 6] + f[n - 6] + f[n - 5] + f[n - 10] + f[n - 9] + f[n - 9] + f[n - 8] + f[\n",
       "n - 9] + f[n - 8] + f[n - 8] + f[n - 7] + f[n - 9] + f[n - 8] + f[n - 8] + f[n\n",
       " - 7] + f[n - 8] + f[n - 7] + f[n - 7] + f[n - 6] + f[n - 7] + f[n - 6] + f[n \n",
       "- 6] + f[n - 5] + f[n - 6] + f[n - 5] + f[n - 5] + f[n - 4] + f[n - 8] + f[n -\n",
       " 7] + f[n - 7] + f[n - 6] + f[n - 7] + f[n - 6] + f[n - 6] + f[n - 5] + f[n - \n",
       "9] + f[n - 8] + f[n - 8] + f[n - 7] + f[n - 8] + f[n - 7] + f[n - 7] + f[n - 6\n",
       "] + f[n - 8] + f[n - 7] + f[n - 7] + f[n - 6] + f[n - 7] + f[n - 6] + f[n - 6]\n",
       " + f[n - 5]"
      ]
     },
     "execution_count": 156,
     "metadata": {},
     "output_type": "execute_result"
    }
   ],
   "source": [
    "recurrence_eq = project_recurrence_spec(unfolded, recurrence_eq=True)\n",
    "recurrence_eq"
   ]
  },
  {
   "cell_type": "code",
   "execution_count": 157,
   "metadata": {
    "collapsed": false
   },
   "outputs": [
    {
     "data": {
      "image/png": "[encoded data removed]",
      "text/latex": [
       "$$f_{n + 2} = f_{n - 10} + 6 f_{n - 9} + 15 f_{n - 8} + 20 f_{n - 7} + 15 f_{n - 6} + 6 f_{n - 5} + f_{n - 4}$$"
      ],
      "text/plain": [
       "f[n + 2] = f[n - 10] + 6⋅f[n - 9] + 15⋅f[n - 8] + 20⋅f[n - 7] + 15⋅f[n - 6] + \n",
       "6⋅f[n - 5] + f[n - 4]"
      ]
     },
     "execution_count": 157,
     "metadata": {},
     "output_type": "execute_result"
    }
   ],
   "source": [
    "factored_recurrence_eq = project_recurrence_spec(factor_rhs_unfolded_rec(unfolded), recurrence_eq=True)\n",
    "factored_recurrence_eq"
   ]
  },
  {
   "cell_type": "code",
   "execution_count": 158,
   "metadata": {
    "collapsed": false
   },
   "outputs": [
    {
     "data": {
      "image/png": "[encoded data removed]",
      "text/latex": [
       "$$f_{12} = f_{0} + 6 f_{1} + 15 f_{2} + 20 f_{3} + 15 f_{4} + 6 f_{5} + f_{6}$$"
      ],
      "text/plain": [
       "f[12] = f[0] + 6⋅f[1] + 15⋅f[2] + 20⋅f[3] + 15⋅f[4] + 6⋅f[5] + f[6]"
      ]
     },
     "execution_count": 158,
     "metadata": {},
     "output_type": "execute_result"
    }
   ],
   "source": [
    "factored_recurrence_eq.subs(n,10)"
   ]
  },
  {
   "cell_type": "code",
   "execution_count": 159,
   "metadata": {
    "collapsed": true
   },
   "outputs": [],
   "source": [
    "instantiated_rec_spec = base_instantiation(unfolded)"
   ]
  },
  {
   "cell_type": "code",
   "execution_count": 160,
   "metadata": {
    "collapsed": false
   },
   "outputs": [
    {
     "data": {
      "image/png": "[encoded data removed]",
      "text/latex": [
       "$$\\left ( \\left \\{ f_{0} : 1, \\quad f_{1} : 1, \\quad f_{2} : f_{0} + f_{1}, \\quad f_{3} : f_{1} + f_{2}, \\quad f_{4} : f_{2} + f_{3}, \\quad f_{5} : f_{3} + f_{4}, \\quad f_{6} : f_{4} + f_{5}, \\quad f_{7} : f_{5} + f_{6}, \\quad f_{8} : f_{6} + f_{7}, \\quad f_{9} : f_{7} + f_{8}, \\quad f_{10} : f_{8} + f_{9}, \\quad f_{11} : f_{9} + f_{10}\\right \\}, \\quad f_{12} = f_{0} + 6 f_{1} + 15 f_{2} + 20 f_{3} + 15 f_{4} + 6 f_{5} + f_{6}\\right )$$"
      ],
      "text/plain": [
       "({f[0]: 1, f[1]: 1, f[2]: f[0] + f[1], f[3]: f[1] + f[2], f[4]: f[2] + f[3], f\n",
       "[5]: f[3] + f[4], f[6]: f[4] + f[5], f[7]: f[5] + f[6], f[8]: f[6] + f[7], f[9\n",
       "]: f[7] + f[8], f[10]: f[8] + f[9], f[11]: f[9] + f[10]}, f[12] = f[0] + 6⋅f[1\n",
       "] + 15⋅f[2] + 20⋅f[3] + 15⋅f[4] + 6⋅f[5] + f[6])"
      ]
     },
     "execution_count": 160,
     "metadata": {},
     "output_type": "execute_result"
    }
   ],
   "source": [
    "project_recurrence_spec(instantiated_rec_spec, recurrence_eq=True, terms_cache=True)"
   ]
  },
  {
   "cell_type": "code",
   "execution_count": 161,
   "metadata": {
    "collapsed": false
   },
   "outputs": [
    {
     "data": {
      "image/png": "[encoded data removed]",
      "text/latex": [
       "$$\\left ( \\left \\{ f_{0} : 1, \\quad f_{1} : 1, \\quad f_{2} : 2, \\quad f_{3} : 3, \\quad f_{4} : 5, \\quad f_{5} : 8, \\quad f_{6} : 13, \\quad f_{7} : 21, \\quad f_{8} : 34, \\quad f_{9} : 55, \\quad f_{10} : 89, \\quad f_{11} : 144\\right \\}, \\quad f_{12} = 233\\right )$$"
      ],
      "text/plain": [
       "({f[0]: 1, f[1]: 1, f[2]: 2, f[3]: 3, f[4]: 5, f[5]: 8, f[6]: 13, f[7]: 21, f[\n",
       "8]: 34, f[9]: 55, f[10]: 89, f[11]: 144}, f[12] = 233)"
      ]
     },
     "execution_count": 161,
     "metadata": {},
     "output_type": "execute_result"
    }
   ],
   "source": [
    "fully_instantiated_spec = repeated_instantiating(instantiated_rec_spec)\n",
    "project_recurrence_spec(fully_instantiated_spec, recurrence_eq=True, terms_cache=True)"
   ]
  },
  {
   "cell_type": "code",
   "execution_count": 162,
   "metadata": {
    "collapsed": false
   },
   "outputs": [
    {
     "data": {
      "text/latex": [
       "\\begin{array}{c}f_{2} = f_{0} + f_{1}\\\\\n",
       "f_{4} = f_{0} + 2 f_{1} + f_{2}\\\\\n",
       "f_{6} = f_{0} + 3 f_{1} + 3 f_{2} + f_{3}\\\\\n",
       "f_{8} = f_{0} + 4 f_{1} + 6 f_{2} + 4 f_{3} + f_{4}\\\\\n",
       "f_{10} = f_{0} + 5 f_{1} + 10 f_{2} + 10 f_{3} + 5 f_{4} + f_{5}\\\\\n",
       "f_{12} = f_{0} + 6 f_{1} + 15 f_{2} + 20 f_{3} + 15 f_{4} + 6 f_{5} + f_{6}\\\\\n",
       "f_{14} = f_{0} + 7 f_{1} + 21 f_{2} + 35 f_{3} + 35 f_{4} + 21 f_{5} + 7 f_{6} + f_{7}\\\\\n",
       "f_{16} = f_{0} + 8 f_{1} + 28 f_{2} + 56 f_{3} + 70 f_{4} + 56 f_{5} + 28 f_{6} + 8 f_{7} + f_{8}\\\\\n",
       "f_{18} = f_{0} + 9 f_{1} + 36 f_{2} + 84 f_{3} + 126 f_{4} + 126 f_{5} + 84 f_{6} + 36 f_{7} + 9 f_{8} + f_{9}\\\\\n",
       "f_{20} = f_{0} + 10 f_{1} + 45 f_{2} + 120 f_{3} + 210 f_{4} + 252 f_{5} + 210 f_{6} + 120 f_{7} + 45 f_{8} + 10 f_{9} + f_{10}\\\\\\end{array}"
      ],
      "text/plain": [
       "<IPython.core.display.Latex object>"
      ]
     },
     "execution_count": 162,
     "metadata": {},
     "output_type": "execute_result"
    }
   ],
   "source": [
    "ipython_latex(fibonacci_recurrence_spec, times_range=range(10))"
   ]
  },
  {
   "cell_type": "markdown",
   "metadata": {},
   "source": [
    "### Tribonacci numbers\n",
    "\n",
    "The following is an unfolding of [Tribonacci][tribonacci] numbers recurrence.\n",
    "\n",
    "[tribonacci]:http://oeis.org/A000073"
   ]
  },
  {
   "cell_type": "code",
   "execution_count": 32,
   "metadata": {
    "collapsed": false
   },
   "outputs": [
    {
     "data": {
      "image/png": "[encoded data removed]",
      "text/latex": [
       "$$f^{{(3)}}_{n + 3} = f^{{(3)}}_{n} + f^{{(3)}}_{n + 1} + f^{{(3)}}_{n + 2}$$"
      ],
      "text/plain": [
       "f^{(3)}[n + 3] = f^{(3)}[n] + f^{(3)}[n + 1] + f^{(3)}[n + 2]"
      ]
     },
     "execution_count": 32,
     "metadata": {},
     "output_type": "execute_result"
    }
   ],
   "source": [
    "f = IndexedBase('f^{(3)}')\n",
    "tribonacci_recurrence = Eq(f[n+3],f[n+2]+f[n+1]+f[n])\n",
    "tribonacci_recurrence"
   ]
  },
  {
   "cell_type": "code",
   "execution_count": 33,
   "metadata": {
    "collapsed": true
   },
   "outputs": [],
   "source": [
    "boundary_conditions = {f[0]:Integer(0), f[1]:Integer(0), f[2]:Integer(1)}\n",
    "\n",
    "tribonacci_recurrence_spec=dict(recurrence_eq=tribonacci_recurrence, indexed=f, \n",
    "                               index=n, terms_cache=boundary_conditions)"
   ]
  },
  {
   "cell_type": "code",
   "execution_count": 34,
   "metadata": {
    "collapsed": false
   },
   "outputs": [
    {
     "data": {
      "image/png": "[encoded data removed]",
      "text/latex": [
       "$$f^{{(3)}}_{n + 3} = f^{{(3)}}_{n - 13} + f^{{(3)}}_{n - 12} + f^{{(3)}}_{n - 11} + f^{{(3)}}_{n - 12} + f^{{(3)}}_{n - 11} + f^{{(3)}}_{n - 10} + f^{{(3)}}_{n - 11} + f^{{(3)}}_{n - 10} + f^{{(3)}}_{n - 9} + f^{{(3)}}_{n - 12} + f^{{(3)}}_{n - 11} + f^{{(3)}}_{n - 10} + f^{{(3)}}_{n - 11} + f^{{(3)}}_{n - 10} + f^{{(3)}}_{n - 9} + f^{{(3)}}_{n - 10} + f^{{(3)}}_{n - 9} + f^{{(3)}}_{n - 8} + f^{{(3)}}_{n - 11} + f^{{(3)}}_{n - 10} + f^{{(3)}}_{n - 9} + f^{{(3)}}_{n - 10} + f^{{(3)}}_{n - 9} + f^{{(3)}}_{n - 8} + f^{{(3)}}_{n - 9} + f^{{(3)}}_{n - 8} + f^{{(3)}}_{n - 7} + f^{{(3)}}_{n - 12} + f^{{(3)}}_{n - 11} + f^{{(3)}}_{n - 10} + f^{{(3)}}_{n - 11} + f^{{(3)}}_{n - 10} + f^{{(3)}}_{n - 9} + f^{{(3)}}_{n - 10} + f^{{(3)}}_{n - 9} + f^{{(3)}}_{n - 8} + f^{{(3)}}_{n - 11} + f^{{(3)}}_{n - 10} + f^{{(3)}}_{n - 9} + f^{{(3)}}_{n - 10} + f^{{(3)}}_{n - 9} + f^{{(3)}}_{n - 8} + f^{{(3)}}_{n - 9} + f^{{(3)}}_{n - 8} + f^{{(3)}}_{n - 7} + f^{{(3)}}_{n - 10} + f^{{(3)}}_{n - 9} + f^{{(3)}}_{n - 8} + f^{{(3)}}_{n - 9} + f^{{(3)}}_{n - 8} + f^{{(3)}}_{n - 7} + f^{{(3)}}_{n - 8} + f^{{(3)}}_{n - 7} + f^{{(3)}}_{n - 6} + f^{{(3)}}_{n - 11} + f^{{(3)}}_{n - 10} + f^{{(3)}}_{n - 9} + f^{{(3)}}_{n - 10} + f^{{(3)}}_{n - 9} + f^{{(3)}}_{n - 8} + f^{{(3)}}_{n - 9} + f^{{(3)}}_{n - 8} + f^{{(3)}}_{n - 7} + f^{{(3)}}_{n - 10} + f^{{(3)}}_{n - 9} + f^{{(3)}}_{n - 8} + f^{{(3)}}_{n - 9} + f^{{(3)}}_{n - 8} + f^{{(3)}}_{n - 7} + f^{{(3)}}_{n - 8} + f^{{(3)}}_{n - 7} + f^{{(3)}}_{n - 6} + f^{{(3)}}_{n - 9} + f^{{(3)}}_{n - 8} + f^{{(3)}}_{n - 7} + f^{{(3)}}_{n - 8} + f^{{(3)}}_{n - 7} + f^{{(3)}}_{n - 6} + f^{{(3)}}_{n - 7} + f^{{(3)}}_{n - 6} + f^{{(3)}}_{n - 5} + f^{{(3)}}_{n - 15} + f^{{(3)}}_{n - 14} + f^{{(3)}}_{n - 13} + f^{{(3)}}_{n - 14} + f^{{(3)}}_{n - 13} + f^{{(3)}}_{n - 12} + f^{{(3)}}_{n - 13} + f^{{(3)}}_{n - 12} + f^{{(3)}}_{n - 11} + f^{{(3)}}_{n - 14} + f^{{(3)}}_{n - 13} + f^{{(3)}}_{n - 12} + f^{{(3)}}_{n - 13} + f^{{(3)}}_{n - 12} + f^{{(3)}}_{n - 11} + f^{{(3)}}_{n - 12} + f^{{(3)}}_{n - 11} + f^{{(3)}}_{n - 10} + f^{{(3)}}_{n - 13} + f^{{(3)}}_{n - 12} + f^{{(3)}}_{n - 11} + f^{{(3)}}_{n - 12} + f^{{(3)}}_{n - 11} + f^{{(3)}}_{n - 10} + f^{{(3)}}_{n - 11} + f^{{(3)}}_{n - 10} + f^{{(3)}}_{n - 9} + f^{{(3)}}_{n - 14} + f^{{(3)}}_{n - 13} + f^{{(3)}}_{n - 12} + f^{{(3)}}_{n - 13} + f^{{(3)}}_{n - 12} + f^{{(3)}}_{n - 11} + f^{{(3)}}_{n - 12} + f^{{(3)}}_{n - 11} + f^{{(3)}}_{n - 10} + f^{{(3)}}_{n - 13} + f^{{(3)}}_{n - 12} + f^{{(3)}}_{n - 11} + f^{{(3)}}_{n - 12} + f^{{(3)}}_{n - 11} + f^{{(3)}}_{n - 10} + f^{{(3)}}_{n - 11} + f^{{(3)}}_{n - 10} + f^{{(3)}}_{n - 9} + f^{{(3)}}_{n - 12} + f^{{(3)}}_{n - 11} + f^{{(3)}}_{n - 10} + f^{{(3)}}_{n - 11} + f^{{(3)}}_{n - 10} + f^{{(3)}}_{n - 9} + f^{{(3)}}_{n - 10} + f^{{(3)}}_{n - 9} + f^{{(3)}}_{n - 8} + f^{{(3)}}_{n - 13} + f^{{(3)}}_{n - 12} + f^{{(3)}}_{n - 11} + f^{{(3)}}_{n - 12} + f^{{(3)}}_{n - 11} + f^{{(3)}}_{n - 10} + f^{{(3)}}_{n - 11} + f^{{(3)}}_{n - 10} + f^{{(3)}}_{n - 9} + f^{{(3)}}_{n - 12} + f^{{(3)}}_{n - 11} + f^{{(3)}}_{n - 10} + f^{{(3)}}_{n - 11} + f^{{(3)}}_{n - 10} + f^{{(3)}}_{n - 9} + f^{{(3)}}_{n - 10} + f^{{(3)}}_{n - 9} + f^{{(3)}}_{n - 8} + f^{{(3)}}_{n - 11} + f^{{(3)}}_{n - 10} + f^{{(3)}}_{n - 9} + f^{{(3)}}_{n - 10} + f^{{(3)}}_{n - 9} + f^{{(3)}}_{n - 8} + f^{{(3)}}_{n - 9} + f^{{(3)}}_{n - 8} + f^{{(3)}}_{n - 7} + f^{{(3)}}_{n - 14} + f^{{(3)}}_{n - 13} + f^{{(3)}}_{n - 12} + f^{{(3)}}_{n - 13} + f^{{(3)}}_{n - 12} + f^{{(3)}}_{n - 11} + f^{{(3)}}_{n - 12} + f^{{(3)}}_{n - 11} + f^{{(3)}}_{n - 10} + f^{{(3)}}_{n - 13} + f^{{(3)}}_{n - 12} + f^{{(3)}}_{n - 11} + f^{{(3)}}_{n - 12} + f^{{(3)}}_{n - 11} + f^{{(3)}}_{n - 10} + f^{{(3)}}_{n - 11} + f^{{(3)}}_{n - 10} + f^{{(3)}}_{n - 9} + f^{{(3)}}_{n - 12} + f^{{(3)}}_{n - 11} + f^{{(3)}}_{n - 10} + f^{{(3)}}_{n - 11} + f^{{(3)}}_{n - 10} + f^{{(3)}}_{n - 9} + f^{{(3)}}_{n - 10} + f^{{(3)}}_{n - 9} + f^{{(3)}}_{n - 8} + f^{{(3)}}_{n - 13} + f^{{(3)}}_{n - 12} + f^{{(3)}}_{n - 11} + f^{{(3)}}_{n - 12} + f^{{(3)}}_{n - 11} + f^{{(3)}}_{n - 10} + f^{{(3)}}_{n - 11} + f^{{(3)}}_{n - 10} + f^{{(3)}}_{n - 9} + f^{{(3)}}_{n - 12} + f^{{(3)}}_{n - 11} + f^{{(3)}}_{n - 10} + f^{{(3)}}_{n - 11} + f^{{(3)}}_{n - 10} + f^{{(3)}}_{n - 9} + f^{{(3)}}_{n - 10} + f^{{(3)}}_{n - 9} + f^{{(3)}}_{n - 8} + f^{{(3)}}_{n - 11} + f^{{(3)}}_{n - 10} + f^{{(3)}}_{n - 9} + f^{{(3)}}_{n - 10} + f^{{(3)}}_{n - 9} + f^{{(3)}}_{n - 8} + f^{{(3)}}_{n - 9} + f^{{(3)}}_{n - 8} + f^{{(3)}}_{n - 7} + f^{{(3)}}_{n - 12} + f^{{(3)}}_{n - 11} + f^{{(3)}}_{n - 10} + f^{{(3)}}_{n - 11} + f^{{(3)}}_{n - 10} + f^{{(3)}}_{n - 9} + f^{{(3)}}_{n - 10} + f^{{(3)}}_{n - 9} + f^{{(3)}}_{n - 8} + f^{{(3)}}_{n - 11} + f^{{(3)}}_{n - 10} + f^{{(3)}}_{n - 9} + f^{{(3)}}_{n - 10} + f^{{(3)}}_{n - 9} + f^{{(3)}}_{n - 8} + f^{{(3)}}_{n - 9} + f^{{(3)}}_{n - 8} + f^{{(3)}}_{n - 7} + f^{{(3)}}_{n - 10} + f^{{(3)}}_{n - 9} + f^{{(3)}}_{n - 8} + f^{{(3)}}_{n - 9} + f^{{(3)}}_{n - 8} + f^{{(3)}}_{n - 7} + f^{{(3)}}_{n - 8} + f^{{(3)}}_{n - 7} + f^{{(3)}}_{n - 6} + f^{{(3)}}_{n - 10} + f^{{(3)}}_{n - 9} + f^{{(3)}}_{n - 8} + f^{{(3)}}_{n - 9} + f^{{(3)}}_{n - 8} + f^{{(3)}}_{n - 7} + f^{{(3)}}_{n - 8} + f^{{(3)}}_{n - 7} + f^{{(3)}}_{n - 6} + f^{{(3)}}_{n - 9} + f^{{(3)}}_{n - 8} + f^{{(3)}}_{n - 7} + f^{{(3)}}_{n - 8} + f^{{(3)}}_{n - 7} + f^{{(3)}}_{n - 6} + f^{{(3)}}_{n - 7} + f^{{(3)}}_{n - 6} + f^{{(3)}}_{n - 5} + f^{{(3)}}_{n - 8} + f^{{(3)}}_{n - 7} + f^{{(3)}}_{n - 6} + f^{{(3)}}_{n - 7} + f^{{(3)}}_{n - 6} + f^{{(3)}}_{n - 5} + f^{{(3)}}_{n - 6} + f^{{(3)}}_{n - 5} + f^{{(3)}}_{n - 4} + f^{{(3)}}_{n - 12} + f^{{(3)}}_{n - 11} + f^{{(3)}}_{n - 10} + f^{{(3)}}_{n - 11} + f^{{(3)}}_{n - 10} + f^{{(3)}}_{n - 9} + f^{{(3)}}_{n - 10} + f^{{(3)}}_{n - 9} + f^{{(3)}}_{n - 8} + f^{{(3)}}_{n - 11} + f^{{(3)}}_{n - 10} + f^{{(3)}}_{n - 9} + f^{{(3)}}_{n - 10} + f^{{(3)}}_{n - 9} + f^{{(3)}}_{n - 8} + f^{{(3)}}_{n - 9} + f^{{(3)}}_{n - 8} + f^{{(3)}}_{n - 7} + f^{{(3)}}_{n - 10} + f^{{(3)}}_{n - 9} + f^{{(3)}}_{n - 8} + f^{{(3)}}_{n - 9} + f^{{(3)}}_{n - 8} + f^{{(3)}}_{n - 7} + f^{{(3)}}_{n - 8} + f^{{(3)}}_{n - 7} + f^{{(3)}}_{n - 6} + f^{{(3)}}_{n - 11} + f^{{(3)}}_{n - 10} + f^{{(3)}}_{n - 9} + f^{{(3)}}_{n - 10} + f^{{(3)}}_{n - 9} + f^{{(3)}}_{n - 8} + f^{{(3)}}_{n - 9} + f^{{(3)}}_{n - 8} + f^{{(3)}}_{n - 7} + f^{{(3)}}_{n - 10} + f^{{(3)}}_{n - 9} + f^{{(3)}}_{n - 8} + f^{{(3)}}_{n - 9} + f^{{(3)}}_{n - 8} + f^{{(3)}}_{n - 7} + f^{{(3)}}_{n - 8} + f^{{(3)}}_{n - 7} + f^{{(3)}}_{n - 6} + f^{{(3)}}_{n - 9} + f^{{(3)}}_{n - 8} + f^{{(3)}}_{n - 7} + f^{{(3)}}_{n - 8} + f^{{(3)}}_{n - 7} + f^{{(3)}}_{n - 6} + f^{{(3)}}_{n - 7} + f^{{(3)}}_{n - 6} + f^{{(3)}}_{n - 5} + f^{{(3)}}_{n - 13} + f^{{(3)}}_{n - 12} + f^{{(3)}}_{n - 11} + f^{{(3)}}_{n - 12} + f^{{(3)}}_{n - 11} + f^{{(3)}}_{n - 10} + f^{{(3)}}_{n - 11} + f^{{(3)}}_{n - 10} + f^{{(3)}}_{n - 9} + f^{{(3)}}_{n - 12} + f^{{(3)}}_{n - 11} + f^{{(3)}}_{n - 10} + f^{{(3)}}_{n - 11} + f^{{(3)}}_{n - 10} + f^{{(3)}}_{n - 9} + f^{{(3)}}_{n - 10} + f^{{(3)}}_{n - 9} + f^{{(3)}}_{n - 8} + f^{{(3)}}_{n - 11} + f^{{(3)}}_{n - 10} + f^{{(3)}}_{n - 9} + f^{{(3)}}_{n - 10} + f^{{(3)}}_{n - 9} + f^{{(3)}}_{n - 8} + f^{{(3)}}_{n - 9} + f^{{(3)}}_{n - 8} + f^{{(3)}}_{n - 7} + f^{{(3)}}_{n - 12} + f^{{(3)}}_{n - 11} + f^{{(3)}}_{n - 10} + f^{{(3)}}_{n - 11} + f^{{(3)}}_{n - 10} + f^{{(3)}}_{n - 9} + f^{{(3)}}_{n - 10} + f^{{(3)}}_{n - 9} + f^{{(3)}}_{n - 8} + f^{{(3)}}_{n - 11} + f^{{(3)}}_{n - 10} + f^{{(3)}}_{n - 9} + f^{{(3)}}_{n - 10} + f^{{(3)}}_{n - 9} + f^{{(3)}}_{n - 8} + f^{{(3)}}_{n - 9} + f^{{(3)}}_{n - 8} + f^{{(3)}}_{n - 7} + f^{{(3)}}_{n - 10} + f^{{(3)}}_{n - 9} + f^{{(3)}}_{n - 8} + f^{{(3)}}_{n - 9} + f^{{(3)}}_{n - 8} + f^{{(3)}}_{n - 7} + f^{{(3)}}_{n - 8} + f^{{(3)}}_{n - 7} + f^{{(3)}}_{n - 6} + f^{{(3)}}_{n - 11} + f^{{(3)}}_{n - 10} + f^{{(3)}}_{n - 9} + f^{{(3)}}_{n - 10} + f^{{(3)}}_{n - 9} + f^{{(3)}}_{n - 8} + f^{{(3)}}_{n - 9} + f^{{(3)}}_{n - 8} + f^{{(3)}}_{n - 7} + f^{{(3)}}_{n - 10} + f^{{(3)}}_{n - 9} + f^{{(3)}}_{n - 8} + f^{{(3)}}_{n - 9} + f^{{(3)}}_{n - 8} + f^{{(3)}}_{n - 7} + f^{{(3)}}_{n - 8} + f^{{(3)}}_{n - 7} + f^{{(3)}}_{n - 6} + f^{{(3)}}_{n - 9} + f^{{(3)}}_{n - 8} + f^{{(3)}}_{n - 7} + f^{{(3)}}_{n - 8} + f^{{(3)}}_{n - 7} + f^{{(3)}}_{n - 6} + f^{{(3)}}_{n - 7} + f^{{(3)}}_{n - 6} + f^{{(3)}}_{n - 5} + f^{{(3)}}_{n - 14} + f^{{(3)}}_{n - 13} + f^{{(3)}}_{n - 12} + f^{{(3)}}_{n - 13} + f^{{(3)}}_{n - 12} + f^{{(3)}}_{n - 11} + f^{{(3)}}_{n - 12} + f^{{(3)}}_{n - 11} + f^{{(3)}}_{n - 10} + f^{{(3)}}_{n - 13} + f^{{(3)}}_{n - 12} + f^{{(3)}}_{n - 11} + f^{{(3)}}_{n - 12} + f^{{(3)}}_{n - 11} + f^{{(3)}}_{n - 10} + f^{{(3)}}_{n - 11} + f^{{(3)}}_{n - 10} + f^{{(3)}}_{n - 9} + f^{{(3)}}_{n - 12} + f^{{(3)}}_{n - 11} + f^{{(3)}}_{n - 10} + f^{{(3)}}_{n - 11} + f^{{(3)}}_{n - 10} + f^{{(3)}}_{n - 9} + f^{{(3)}}_{n - 10} + f^{{(3)}}_{n - 9} + f^{{(3)}}_{n - 8} + f^{{(3)}}_{n - 13} + f^{{(3)}}_{n - 12} + f^{{(3)}}_{n - 11} + f^{{(3)}}_{n - 12} + f^{{(3)}}_{n - 11} + f^{{(3)}}_{n - 10} + f^{{(3)}}_{n - 11} + f^{{(3)}}_{n - 10} + f^{{(3)}}_{n - 9} + f^{{(3)}}_{n - 12} + f^{{(3)}}_{n - 11} + f^{{(3)}}_{n - 10} + f^{{(3)}}_{n - 11} + f^{{(3)}}_{n - 10} + f^{{(3)}}_{n - 9} + f^{{(3)}}_{n - 10} + f^{{(3)}}_{n - 9} + f^{{(3)}}_{n - 8} + f^{{(3)}}_{n - 11} + f^{{(3)}}_{n - 10} + f^{{(3)}}_{n - 9} + f^{{(3)}}_{n - 10} + f^{{(3)}}_{n - 9} + f^{{(3)}}_{n - 8} + f^{{(3)}}_{n - 9} + f^{{(3)}}_{n - 8} + f^{{(3)}}_{n - 7} + f^{{(3)}}_{n - 12} + f^{{(3)}}_{n - 11} + f^{{(3)}}_{n - 10} + f^{{(3)}}_{n - 11} + f^{{(3)}}_{n - 10} + f^{{(3)}}_{n - 9} + f^{{(3)}}_{n - 10} + f^{{(3)}}_{n - 9} + f^{{(3)}}_{n - 8} + f^{{(3)}}_{n - 11} + f^{{(3)}}_{n - 10} + f^{{(3)}}_{n - 9} + f^{{(3)}}_{n - 10} + f^{{(3)}}_{n - 9} + f^{{(3)}}_{n - 8} + f^{{(3)}}_{n - 9} + f^{{(3)}}_{n - 8} + f^{{(3)}}_{n - 7} + f^{{(3)}}_{n - 10} + f^{{(3)}}_{n - 9} + f^{{(3)}}_{n - 8} + f^{{(3)}}_{n - 9} + f^{{(3)}}_{n - 8} + f^{{(3)}}_{n - 7} + f^{{(3)}}_{n - 8} + f^{{(3)}}_{n - 7} + f^{{(3)}}_{n - 6} + f^{{(3)}}_{n - 10} + f^{{(3)}}_{n - 9} + f^{{(3)}}_{n - 8} + f^{{(3)}}_{n - 9} + f^{{(3)}}_{n - 8} + f^{{(3)}}_{n - 7} + f^{{(3)}}_{n - 8} + f^{{(3)}}_{n - 7} + f^{{(3)}}_{n - 6} + f^{{(3)}}_{n - 9} + f^{{(3)}}_{n - 8} + f^{{(3)}}_{n - 7} + f^{{(3)}}_{n - 8} + f^{{(3)}}_{n - 7} + f^{{(3)}}_{n - 6} + f^{{(3)}}_{n - 7} + f^{{(3)}}_{n - 6} + f^{{(3)}}_{n - 5} + f^{{(3)}}_{n - 8} + f^{{(3)}}_{n - 7} + f^{{(3)}}_{n - 6} + f^{{(3)}}_{n - 7} + f^{{(3)}}_{n - 6} + f^{{(3)}}_{n - 5} + f^{{(3)}}_{n - 6} + f^{{(3)}}_{n - 5} + f^{{(3)}}_{n - 4} + f^{{(3)}}_{n - 12} + f^{{(3)}}_{n - 11} + f^{{(3)}}_{n - 10} + f^{{(3)}}_{n - 11} + f^{{(3)}}_{n - 10} + f^{{(3)}}_{n - 9} + f^{{(3)}}_{n - 10} + f^{{(3)}}_{n - 9} + f^{{(3)}}_{n - 8} + f^{{(3)}}_{n - 11} + f^{{(3)}}_{n - 10} + f^{{(3)}}_{n - 9} + f^{{(3)}}_{n - 10} + f^{{(3)}}_{n - 9} + f^{{(3)}}_{n - 8} + f^{{(3)}}_{n - 9} + f^{{(3)}}_{n - 8} + f^{{(3)}}_{n - 7} + f^{{(3)}}_{n - 10} + f^{{(3)}}_{n - 9} + f^{{(3)}}_{n - 8} + f^{{(3)}}_{n - 9} + f^{{(3)}}_{n - 8} + f^{{(3)}}_{n - 7} + f^{{(3)}}_{n - 8} + f^{{(3)}}_{n - 7} + f^{{(3)}}_{n - 6} + f^{{(3)}}_{n - 11} + f^{{(3)}}_{n - 10} + f^{{(3)}}_{n - 9} + f^{{(3)}}_{n - 10} + f^{{(3)}}_{n - 9} + f^{{(3)}}_{n - 8} + f^{{(3)}}_{n - 9} + f^{{(3)}}_{n - 8} + f^{{(3)}}_{n - 7} + f^{{(3)}}_{n - 10} + f^{{(3)}}_{n - 9} + f^{{(3)}}_{n - 8} + f^{{(3)}}_{n - 9} + f^{{(3)}}_{n - 8} + f^{{(3)}}_{n - 7} + f^{{(3)}}_{n - 8} + f^{{(3)}}_{n - 7} + f^{{(3)}}_{n - 6} + f^{{(3)}}_{n - 9} + f^{{(3)}}_{n - 8} + f^{{(3)}}_{n - 7} + f^{{(3)}}_{n - 8} + f^{{(3)}}_{n - 7} + f^{{(3)}}_{n - 6} + f^{{(3)}}_{n - 7} + f^{{(3)}}_{n - 6} + f^{{(3)}}_{n - 5} + f^{{(3)}}_{n - 7} + f^{{(3)}}_{n - 6} + f^{{(3)}}_{n - 5} + f^{{(3)}}_{n - 6} + f^{{(3)}}_{n - 5} + f^{{(3)}}_{n - 4} + f^{{(3)}}_{n - 5} + f^{{(3)}}_{n - 4} + f^{{(3)}}_{n - 3} + f^{{(3)}}_{n - 9} + f^{{(3)}}_{n - 8} + f^{{(3)}}_{n - 7} + f^{{(3)}}_{n - 8} + f^{{(3)}}_{n - 7} + f^{{(3)}}_{n - 6} + f^{{(3)}}_{n - 7} + f^{{(3)}}_{n - 6} + f^{{(3)}}_{n - 5} + f^{{(3)}}_{n - 8} + f^{{(3)}}_{n - 7} + f^{{(3)}}_{n - 6} + f^{{(3)}}_{n - 7} + f^{{(3)}}_{n - 6} + f^{{(3)}}_{n - 5} + f^{{(3)}}_{n - 6} + f^{{(3)}}_{n - 5} + f^{{(3)}}_{n - 4} + f^{{(3)}}_{n - 10} + f^{{(3)}}_{n - 9} + f^{{(3)}}_{n - 8} + f^{{(3)}}_{n - 9} + f^{{(3)}}_{n - 8} + f^{{(3)}}_{n - 7} + f^{{(3)}}_{n - 8} + f^{{(3)}}_{n - 7} + f^{{(3)}}_{n - 6} + f^{{(3)}}_{n - 9} + f^{{(3)}}_{n - 8} + f^{{(3)}}_{n - 7} + f^{{(3)}}_{n - 8} + f^{{(3)}}_{n - 7} + f^{{(3)}}_{n - 6} + f^{{(3)}}_{n - 7} + f^{{(3)}}_{n - 6} + f^{{(3)}}_{n - 5} + f^{{(3)}}_{n - 8} + f^{{(3)}}_{n - 7} + f^{{(3)}}_{n - 6} + f^{{(3)}}_{n - 7} + f^{{(3)}}_{n - 6} + f^{{(3)}}_{n - 5} + f^{{(3)}}_{n - 6} + f^{{(3)}}_{n - 5} + f^{{(3)}}_{n - 4} + f^{{(3)}}_{n - 11} + f^{{(3)}}_{n - 10} + f^{{(3)}}_{n - 9} + f^{{(3)}}_{n - 10} + f^{{(3)}}_{n - 9} + f^{{(3)}}_{n - 8} + f^{{(3)}}_{n - 9} + f^{{(3)}}_{n - 8} + f^{{(3)}}_{n - 7} + f^{{(3)}}_{n - 10} + f^{{(3)}}_{n - 9} + f^{{(3)}}_{n - 8} + f^{{(3)}}_{n - 9} + f^{{(3)}}_{n - 8} + f^{{(3)}}_{n - 7} + f^{{(3)}}_{n - 8} + f^{{(3)}}_{n - 7} + f^{{(3)}}_{n - 6} + f^{{(3)}}_{n - 9} + f^{{(3)}}_{n - 8} + f^{{(3)}}_{n - 7} + f^{{(3)}}_{n - 8} + f^{{(3)}}_{n - 7} + f^{{(3)}}_{n - 6} + f^{{(3)}}_{n - 7} + f^{{(3)}}_{n - 6} + f^{{(3)}}_{n - 5} + f^{{(3)}}_{n - 13} + f^{{(3)}}_{n - 12} + f^{{(3)}}_{n - 11} + f^{{(3)}}_{n - 12} + f^{{(3)}}_{n - 11} + f^{{(3)}}_{n - 10} + f^{{(3)}}_{n - 11} + f^{{(3)}}_{n - 10} + f^{{(3)}}_{n - 9} + f^{{(3)}}_{n - 12} + f^{{(3)}}_{n - 11} + f^{{(3)}}_{n - 10} + f^{{(3)}}_{n - 11} + f^{{(3)}}_{n - 10} + f^{{(3)}}_{n - 9} + f^{{(3)}}_{n - 10} + f^{{(3)}}_{n - 9} + f^{{(3)}}_{n - 8} + f^{{(3)}}_{n - 11} + f^{{(3)}}_{n - 10} + f^{{(3)}}_{n - 9} + f^{{(3)}}_{n - 10} + f^{{(3)}}_{n - 9} + f^{{(3)}}_{n - 8} + f^{{(3)}}_{n - 9} + f^{{(3)}}_{n - 8} + f^{{(3)}}_{n - 7} + f^{{(3)}}_{n - 12} + f^{{(3)}}_{n - 11} + f^{{(3)}}_{n - 10} + f^{{(3)}}_{n - 11} + f^{{(3)}}_{n - 10} + f^{{(3)}}_{n - 9} + f^{{(3)}}_{n - 10} + f^{{(3)}}_{n - 9} + f^{{(3)}}_{n - 8} + f^{{(3)}}_{n - 11} + f^{{(3)}}_{n - 10} + f^{{(3)}}_{n - 9} + f^{{(3)}}_{n - 10} + f^{{(3)}}_{n - 9} + f^{{(3)}}_{n - 8} + f^{{(3)}}_{n - 9} + f^{{(3)}}_{n - 8} + f^{{(3)}}_{n - 7} + f^{{(3)}}_{n - 10} + f^{{(3)}}_{n - 9} + f^{{(3)}}_{n - 8} + f^{{(3)}}_{n - 9} + f^{{(3)}}_{n - 8} + f^{{(3)}}_{n - 7} + f^{{(3)}}_{n - 8} + f^{{(3)}}_{n - 7} + f^{{(3)}}_{n - 6} + f^{{(3)}}_{n - 11} + f^{{(3)}}_{n - 10} + f^{{(3)}}_{n - 9} + f^{{(3)}}_{n - 10} + f^{{(3)}}_{n - 9} + f^{{(3)}}_{n - 8} + f^{{(3)}}_{n - 9} + f^{{(3)}}_{n - 8} + f^{{(3)}}_{n - 7} + f^{{(3)}}_{n - 10} + f^{{(3)}}_{n - 9} + f^{{(3)}}_{n - 8} + f^{{(3)}}_{n - 9} + f^{{(3)}}_{n - 8} + f^{{(3)}}_{n - 7} + f^{{(3)}}_{n - 8} + f^{{(3)}}_{n - 7} + f^{{(3)}}_{n - 6} + f^{{(3)}}_{n - 9} + f^{{(3)}}_{n - 8} + f^{{(3)}}_{n - 7} + f^{{(3)}}_{n - 8} + f^{{(3)}}_{n - 7} + f^{{(3)}}_{n - 6} + f^{{(3)}}_{n - 7} + f^{{(3)}}_{n - 6} + f^{{(3)}}_{n - 5}$$"
      ],
      "text/plain": [
       "f^{(3)}[n + 3] = f^{(3)}[n - 13] + f^{(3)}[n - 12] + f^{(3)}[n - 11] + f^{(3)}\n",
       "[n - 12] + f^{(3)}[n - 11] + f^{(3)}[n - 10] + f^{(3)}[n - 11] + f^{(3)}[n - 1\n",
       "0] + f^{(3)}[n - 9] + f^{(3)}[n - 12] + f^{(3)}[n - 11] + f^{(3)}[n - 10] + f^\n",
       "{(3)}[n - 11] + f^{(3)}[n - 10] + f^{(3)}[n - 9] + f^{(3)}[n - 10] + f^{(3)}[n\n",
       " - 9] + f^{(3)}[n - 8] + f^{(3)}[n - 11] + f^{(3)}[n - 10] + f^{(3)}[n - 9] + \n",
       "f^{(3)}[n - 10] + f^{(3)}[n - 9] + f^{(3)}[n - 8] + f^{(3)}[n - 9] + f^{(3)}[n\n",
       " - 8] + f^{(3)}[n - 7] + f^{(3)}[n - 12] + f^{(3)}[n - 11] + f^{(3)}[n - 10] +\n",
       " f^{(3)}[n - 11] + f^{(3)}[n - 10] + f^{(3)}[n - 9] + f^{(3)}[n - 10] + f^{(3)\n",
       "}[n - 9] + f^{(3)}[n - 8] + f^{(3)}[n - 11] + f^{(3)}[n - 10] + f^{(3)}[n - 9]\n",
       " + f^{(3)}[n - 10] + f^{(3)}[n - 9] + f^{(3)}[n - 8] + f^{(3)}[n - 9] + f^{(3)\n",
       "}[n - 8] + f^{(3)}[n - 7] + f^{(3)}[n - 10] + f^{(3)}[n - 9] + f^{(3)}[n - 8] \n",
       "+ f^{(3)}[n - 9] + f^{(3)}[n - 8] + f^{(3)}[n - 7] + f^{(3)}[n - 8] + f^{(3)}[\n",
       "n - 7] + f^{(3)}[n - 6] + f^{(3)}[n - 11] + f^{(3)}[n - 10] + f^{(3)}[n - 9] +\n",
       " f^{(3)}[n - 10] + f^{(3)}[n - 9] + f^{(3)}[n - 8] + f^{(3)}[n - 9] + f^{(3)}[\n",
       "n - 8] + f^{(3)}[n - 7] + f^{(3)}[n - 10] + f^{(3)}[n - 9] + f^{(3)}[n - 8] + \n",
       "f^{(3)}[n - 9] + f^{(3)}[n - 8] + f^{(3)}[n - 7] + f^{(3)}[n - 8] + f^{(3)}[n \n",
       "- 7] + f^{(3)}[n - 6] + f^{(3)}[n - 9] + f^{(3)}[n - 8] + f^{(3)}[n - 7] + f^{\n",
       "(3)}[n - 8] + f^{(3)}[n - 7] + f^{(3)}[n - 6] + f^{(3)}[n - 7] + f^{(3)}[n - 6\n",
       "] + f^{(3)}[n - 5] + f^{(3)}[n - 15] + f^{(3)}[n - 14] + f^{(3)}[n - 13] + f^{\n",
       "(3)}[n - 14] + f^{(3)}[n - 13] + f^{(3)}[n - 12] + f^{(3)}[n - 13] + f^{(3)}[n\n",
       " - 12] + f^{(3)}[n - 11] + f^{(3)}[n - 14] + f^{(3)}[n - 13] + f^{(3)}[n - 12]\n",
       " + f^{(3)}[n - 13] + f^{(3)}[n - 12] + f^{(3)}[n - 11] + f^{(3)}[n - 12] + f^{\n",
       "(3)}[n - 11] + f^{(3)}[n - 10] + f^{(3)}[n - 13] + f^{(3)}[n - 12] + f^{(3)}[n\n",
       " - 11] + f^{(3)}[n - 12] + f^{(3)}[n - 11] + f^{(3)}[n - 10] + f^{(3)}[n - 11]\n",
       " + f^{(3)}[n - 10] + f^{(3)}[n - 9] + f^{(3)}[n - 14] + f^{(3)}[n - 13] + f^{(\n",
       "3)}[n - 12] + f^{(3)}[n - 13] + f^{(3)}[n - 12] + f^{(3)}[n - 11] + f^{(3)}[n \n",
       "- 12] + f^{(3)}[n - 11] + f^{(3)}[n - 10] + f^{(3)}[n - 13] + f^{(3)}[n - 12] \n",
       "+ f^{(3)}[n - 11] + f^{(3)}[n - 12] + f^{(3)}[n - 11] + f^{(3)}[n - 10] + f^{(\n",
       "3)}[n - 11] + f^{(3)}[n - 10] + f^{(3)}[n - 9] + f^{(3)}[n - 12] + f^{(3)}[n -\n",
       " 11] + f^{(3)}[n - 10] + f^{(3)}[n - 11] + f^{(3)}[n - 10] + f^{(3)}[n - 9] + \n",
       "f^{(3)}[n - 10] + f^{(3)}[n - 9] + f^{(3)}[n - 8] + f^{(3)}[n - 13] + f^{(3)}[\n",
       "n - 12] + f^{(3)}[n - 11] + f^{(3)}[n - 12] + f^{(3)}[n - 11] + f^{(3)}[n - 10\n",
       "] + f^{(3)}[n - 11] + f^{(3)}[n - 10] + f^{(3)}[n - 9] + f^{(3)}[n - 12] + f^{\n",
       "(3)}[n - 11] + f^{(3)}[n - 10] + f^{(3)}[n - 11] + f^{(3)}[n - 10] + f^{(3)}[n\n",
       " - 9] + f^{(3)}[n - 10] + f^{(3)}[n - 9] + f^{(3)}[n - 8] + f^{(3)}[n - 11] + \n",
       "f^{(3)}[n - 10] + f^{(3)}[n - 9] + f^{(3)}[n - 10] + f^{(3)}[n - 9] + f^{(3)}[\n",
       "n - 8] + f^{(3)}[n - 9] + f^{(3)}[n - 8] + f^{(3)}[n - 7] + f^{(3)}[n - 14] + \n",
       "f^{(3)}[n - 13] + f^{(3)}[n - 12] + f^{(3)}[n - 13] + f^{(3)}[n - 12] + f^{(3)\n",
       "}[n - 11] + f^{(3)}[n - 12] + f^{(3)}[n - 11] + f^{(3)}[n - 10] + f^{(3)}[n - \n",
       "13] + f^{(3)}[n - 12] + f^{(3)}[n - 11] + f^{(3)}[n - 12] + f^{(3)}[n - 11] + \n",
       "f^{(3)}[n - 10] + f^{(3)}[n - 11] + f^{(3)}[n - 10] + f^{(3)}[n - 9] + f^{(3)}\n",
       "[n - 12] + f^{(3)}[n - 11] + f^{(3)}[n - 10] + f^{(3)}[n - 11] + f^{(3)}[n - 1\n",
       "0] + f^{(3)}[n - 9] + f^{(3)}[n - 10] + f^{(3)}[n - 9] + f^{(3)}[n - 8] + f^{(\n",
       "3)}[n - 13] + f^{(3)}[n - 12] + f^{(3)}[n - 11] + f^{(3)}[n - 12] + f^{(3)}[n \n",
       "- 11] + f^{(3)}[n - 10] + f^{(3)}[n - 11] + f^{(3)}[n - 10] + f^{(3)}[n - 9] +\n",
       " f^{(3)}[n - 12] + f^{(3)}[n - 11] + f^{(3)}[n - 10] + f^{(3)}[n - 11] + f^{(3\n",
       ")}[n - 10] + f^{(3)}[n - 9] + f^{(3)}[n - 10] + f^{(3)}[n - 9] + f^{(3)}[n - 8\n",
       "] + f^{(3)}[n - 11] + f^{(3)}[n - 10] + f^{(3)}[n - 9] + f^{(3)}[n - 10] + f^{\n",
       "(3)}[n - 9] + f^{(3)}[n - 8] + f^{(3)}[n - 9] + f^{(3)}[n - 8] + f^{(3)}[n - 7\n",
       "] + f^{(3)}[n - 12] + f^{(3)}[n - 11] + f^{(3)}[n - 10] + f^{(3)}[n - 11] + f^\n",
       "{(3)}[n - 10] + f^{(3)}[n - 9] + f^{(3)}[n - 10] + f^{(3)}[n - 9] + f^{(3)}[n \n",
       "- 8] + f^{(3)}[n - 11] + f^{(3)}[n - 10] + f^{(3)}[n - 9] + f^{(3)}[n - 10] + \n",
       "f^{(3)}[n - 9] + f^{(3)}[n - 8] + f^{(3)}[n - 9] + f^{(3)}[n - 8] + f^{(3)}[n \n",
       "- 7] + f^{(3)}[n - 10] + f^{(3)}[n - 9] + f^{(3)}[n - 8] + f^{(3)}[n - 9] + f^\n",
       "{(3)}[n - 8] + f^{(3)}[n - 7] + f^{(3)}[n - 8] + f^{(3)}[n - 7] + f^{(3)}[n - \n",
       "6] + f^{(3)}[n - 10] + f^{(3)}[n - 9] + f^{(3)}[n - 8] + f^{(3)}[n - 9] + f^{(\n",
       "3)}[n - 8] + f^{(3)}[n - 7] + f^{(3)}[n - 8] + f^{(3)}[n - 7] + f^{(3)}[n - 6]\n",
       " + f^{(3)}[n - 9] + f^{(3)}[n - 8] + f^{(3)}[n - 7] + f^{(3)}[n - 8] + f^{(3)}\n",
       "[n - 7] + f^{(3)}[n - 6] + f^{(3)}[n - 7] + f^{(3)}[n - 6] + f^{(3)}[n - 5] + \n",
       "f^{(3)}[n - 8] + f^{(3)}[n - 7] + f^{(3)}[n - 6] + f^{(3)}[n - 7] + f^{(3)}[n \n",
       "- 6] + f^{(3)}[n - 5] + f^{(3)}[n - 6] + f^{(3)}[n - 5] + f^{(3)}[n - 4] + f^{\n",
       "(3)}[n - 12] + f^{(3)}[n - 11] + f^{(3)}[n - 10] + f^{(3)}[n - 11] + f^{(3)}[n\n",
       " - 10] + f^{(3)}[n - 9] + f^{(3)}[n - 10] + f^{(3)}[n - 9] + f^{(3)}[n - 8] + \n",
       "f^{(3)}[n - 11] + f^{(3)}[n - 10] + f^{(3)}[n - 9] + f^{(3)}[n - 10] + f^{(3)}\n",
       "[n - 9] + f^{(3)}[n - 8] + f^{(3)}[n - 9] + f^{(3)}[n - 8] + f^{(3)}[n - 7] + \n",
       "f^{(3)}[n - 10] + f^{(3)}[n - 9] + f^{(3)}[n - 8] + f^{(3)}[n - 9] + f^{(3)}[n\n",
       " - 8] + f^{(3)}[n - 7] + f^{(3)}[n - 8] + f^{(3)}[n - 7] + f^{(3)}[n - 6] + f^\n",
       "{(3)}[n - 11] + f^{(3)}[n - 10] + f^{(3)}[n - 9] + f^{(3)}[n - 10] + f^{(3)}[n\n",
       " - 9] + f^{(3)}[n - 8] + f^{(3)}[n - 9] + f^{(3)}[n - 8] + f^{(3)}[n - 7] + f^\n",
       "{(3)}[n - 10] + f^{(3)}[n - 9] + f^{(3)}[n - 8] + f^{(3)}[n - 9] + f^{(3)}[n -\n",
       " 8] + f^{(3)}[n - 7] + f^{(3)}[n - 8] + f^{(3)}[n - 7] + f^{(3)}[n - 6] + f^{(\n",
       "3)}[n - 9] + f^{(3)}[n - 8] + f^{(3)}[n - 7] + f^{(3)}[n - 8] + f^{(3)}[n - 7]\n",
       " + f^{(3)}[n - 6] + f^{(3)}[n - 7] + f^{(3)}[n - 6] + f^{(3)}[n - 5] + f^{(3)}\n",
       "[n - 13] + f^{(3)}[n - 12] + f^{(3)}[n - 11] + f^{(3)}[n - 12] + f^{(3)}[n - 1\n",
       "1] + f^{(3)}[n - 10] + f^{(3)}[n - 11] + f^{(3)}[n - 10] + f^{(3)}[n - 9] + f^\n",
       "{(3)}[n - 12] + f^{(3)}[n - 11] + f^{(3)}[n - 10] + f^{(3)}[n - 11] + f^{(3)}[\n",
       "n - 10] + f^{(3)}[n - 9] + f^{(3)}[n - 10] + f^{(3)}[n - 9] + f^{(3)}[n - 8] +\n",
       " f^{(3)}[n - 11] + f^{(3)}[n - 10] + f^{(3)}[n - 9] + f^{(3)}[n - 10] + f^{(3)\n",
       "}[n - 9] + f^{(3)}[n - 8] + f^{(3)}[n - 9] + f^{(3)}[n - 8] + f^{(3)}[n - 7] +\n",
       " f^{(3)}[n - 12] + f^{(3)}[n - 11] + f^{(3)}[n - 10] + f^{(3)}[n - 11] + f^{(3\n",
       ")}[n - 10] + f^{(3)}[n - 9] + f^{(3)}[n - 10] + f^{(3)}[n - 9] + f^{(3)}[n - 8\n",
       "] + f^{(3)}[n - 11] + f^{(3)}[n - 10] + f^{(3)}[n - 9] + f^{(3)}[n - 10] + f^{\n",
       "(3)}[n - 9] + f^{(3)}[n - 8] + f^{(3)}[n - 9] + f^{(3)}[n - 8] + f^{(3)}[n - 7\n",
       "] + f^{(3)}[n - 10] + f^{(3)}[n - 9] + f^{(3)}[n - 8] + f^{(3)}[n - 9] + f^{(3\n",
       ")}[n - 8] + f^{(3)}[n - 7] + f^{(3)}[n - 8] + f^{(3)}[n - 7] + f^{(3)}[n - 6] \n",
       "+ f^{(3)}[n - 11] + f^{(3)}[n - 10] + f^{(3)}[n - 9] + f^{(3)}[n - 10] + f^{(3\n",
       ")}[n - 9] + f^{(3)}[n - 8] + f^{(3)}[n - 9] + f^{(3)}[n - 8] + f^{(3)}[n - 7] \n",
       "+ f^{(3)}[n - 10] + f^{(3)}[n - 9] + f^{(3)}[n - 8] + f^{(3)}[n - 9] + f^{(3)}\n",
       "[n - 8] + f^{(3)}[n - 7] + f^{(3)}[n - 8] + f^{(3)}[n - 7] + f^{(3)}[n - 6] + \n",
       "f^{(3)}[n - 9] + f^{(3)}[n - 8] + f^{(3)}[n - 7] + f^{(3)}[n - 8] + f^{(3)}[n \n",
       "- 7] + f^{(3)}[n - 6] + f^{(3)}[n - 7] + f^{(3)}[n - 6] + f^{(3)}[n - 5] + f^{\n",
       "(3)}[n - 14] + f^{(3)}[n - 13] + f^{(3)}[n - 12] + f^{(3)}[n - 13] + f^{(3)}[n\n",
       " - 12] + f^{(3)}[n - 11] + f^{(3)}[n - 12] + f^{(3)}[n - 11] + f^{(3)}[n - 10]\n",
       " + f^{(3)}[n - 13] + f^{(3)}[n - 12] + f^{(3)}[n - 11] + f^{(3)}[n - 12] + f^{\n",
       "(3)}[n - 11] + f^{(3)}[n - 10] + f^{(3)}[n - 11] + f^{(3)}[n - 10] + f^{(3)}[n\n",
       " - 9] + f^{(3)}[n - 12] + f^{(3)}[n - 11] + f^{(3)}[n - 10] + f^{(3)}[n - 11] \n",
       "+ f^{(3)}[n - 10] + f^{(3)}[n - 9] + f^{(3)}[n - 10] + f^{(3)}[n - 9] + f^{(3)\n",
       "}[n - 8] + f^{(3)}[n - 13] + f^{(3)}[n - 12] + f^{(3)}[n - 11] + f^{(3)}[n - 1\n",
       "2] + f^{(3)}[n - 11] + f^{(3)}[n - 10] + f^{(3)}[n - 11] + f^{(3)}[n - 10] + f\n",
       "^{(3)}[n - 9] + f^{(3)}[n - 12] + f^{(3)}[n - 11] + f^{(3)}[n - 10] + f^{(3)}[\n",
       "n - 11] + f^{(3)}[n - 10] + f^{(3)}[n - 9] + f^{(3)}[n - 10] + f^{(3)}[n - 9] \n",
       "+ f^{(3)}[n - 8] + f^{(3)}[n - 11] + f^{(3)}[n - 10] + f^{(3)}[n - 9] + f^{(3)\n",
       "}[n - 10] + f^{(3)}[n - 9] + f^{(3)}[n - 8] + f^{(3)}[n - 9] + f^{(3)}[n - 8] \n",
       "+ f^{(3)}[n - 7] + f^{(3)}[n - 12] + f^{(3)}[n - 11] + f^{(3)}[n - 10] + f^{(3\n",
       ")}[n - 11] + f^{(3)}[n - 10] + f^{(3)}[n - 9] + f^{(3)}[n - 10] + f^{(3)}[n - \n",
       "9] + f^{(3)}[n - 8] + f^{(3)}[n - 11] + f^{(3)}[n - 10] + f^{(3)}[n - 9] + f^{\n",
       "(3)}[n - 10] + f^{(3)}[n - 9] + f^{(3)}[n - 8] + f^{(3)}[n - 9] + f^{(3)}[n - \n",
       "8] + f^{(3)}[n - 7] + f^{(3)}[n - 10] + f^{(3)}[n - 9] + f^{(3)}[n - 8] + f^{(\n",
       "3)}[n - 9] + f^{(3)}[n - 8] + f^{(3)}[n - 7] + f^{(3)}[n - 8] + f^{(3)}[n - 7]\n",
       " + f^{(3)}[n - 6] + f^{(3)}[n - 10] + f^{(3)}[n - 9] + f^{(3)}[n - 8] + f^{(3)\n",
       "}[n - 9] + f^{(3)}[n - 8] + f^{(3)}[n - 7] + f^{(3)}[n - 8] + f^{(3)}[n - 7] +\n",
       " f^{(3)}[n - 6] + f^{(3)}[n - 9] + f^{(3)}[n - 8] + f^{(3)}[n - 7] + f^{(3)}[n\n",
       " - 8] + f^{(3)}[n - 7] + f^{(3)}[n - 6] + f^{(3)}[n - 7] + f^{(3)}[n - 6] + f^\n",
       "{(3)}[n - 5] + f^{(3)}[n - 8] + f^{(3)}[n - 7] + f^{(3)}[n - 6] + f^{(3)}[n - \n",
       "7] + f^{(3)}[n - 6] + f^{(3)}[n - 5] + f^{(3)}[n - 6] + f^{(3)}[n - 5] + f^{(3\n",
       ")}[n - 4] + f^{(3)}[n - 12] + f^{(3)}[n - 11] + f^{(3)}[n - 10] + f^{(3)}[n - \n",
       "11] + f^{(3)}[n - 10] + f^{(3)}[n - 9] + f^{(3)}[n - 10] + f^{(3)}[n - 9] + f^\n",
       "{(3)}[n - 8] + f^{(3)}[n - 11] + f^{(3)}[n - 10] + f^{(3)}[n - 9] + f^{(3)}[n \n",
       "- 10] + f^{(3)}[n - 9] + f^{(3)}[n - 8] + f^{(3)}[n - 9] + f^{(3)}[n - 8] + f^\n",
       "{(3)}[n - 7] + f^{(3)}[n - 10] + f^{(3)}[n - 9] + f^{(3)}[n - 8] + f^{(3)}[n -\n",
       " 9] + f^{(3)}[n - 8] + f^{(3)}[n - 7] + f^{(3)}[n - 8] + f^{(3)}[n - 7] + f^{(\n",
       "3)}[n - 6] + f^{(3)}[n - 11] + f^{(3)}[n - 10] + f^{(3)}[n - 9] + f^{(3)}[n - \n",
       "10] + f^{(3)}[n - 9] + f^{(3)}[n - 8] + f^{(3)}[n - 9] + f^{(3)}[n - 8] + f^{(\n",
       "3)}[n - 7] + f^{(3)}[n - 10] + f^{(3)}[n - 9] + f^{(3)}[n - 8] + f^{(3)}[n - 9\n",
       "] + f^{(3)}[n - 8] + f^{(3)}[n - 7] + f^{(3)}[n - 8] + f^{(3)}[n - 7] + f^{(3)\n",
       "}[n - 6] + f^{(3)}[n - 9] + f^{(3)}[n - 8] + f^{(3)}[n - 7] + f^{(3)}[n - 8] +\n",
       " f^{(3)}[n - 7] + f^{(3)}[n - 6] + f^{(3)}[n - 7] + f^{(3)}[n - 6] + f^{(3)}[n\n",
       " - 5] + f^{(3)}[n - 7] + f^{(3)}[n - 6] + f^{(3)}[n - 5] + f^{(3)}[n - 6] + f^\n",
       "{(3)}[n - 5] + f^{(3)}[n - 4] + f^{(3)}[n - 5] + f^{(3)}[n - 4] + f^{(3)}[n - \n",
       "3] + f^{(3)}[n - 9] + f^{(3)}[n - 8] + f^{(3)}[n - 7] + f^{(3)}[n - 8] + f^{(3\n",
       ")}[n - 7] + f^{(3)}[n - 6] + f^{(3)}[n - 7] + f^{(3)}[n - 6] + f^{(3)}[n - 5] \n",
       "+ f^{(3)}[n - 8] + f^{(3)}[n - 7] + f^{(3)}[n - 6] + f^{(3)}[n - 7] + f^{(3)}[\n",
       "n - 6] + f^{(3)}[n - 5] + f^{(3)}[n - 6] + f^{(3)}[n - 5] + f^{(3)}[n - 4] + f\n",
       "^{(3)}[n - 10] + f^{(3)}[n - 9] + f^{(3)}[n - 8] + f^{(3)}[n - 9] + f^{(3)}[n \n",
       "- 8] + f^{(3)}[n - 7] + f^{(3)}[n - 8] + f^{(3)}[n - 7] + f^{(3)}[n - 6] + f^{\n",
       "(3)}[n - 9] + f^{(3)}[n - 8] + f^{(3)}[n - 7] + f^{(3)}[n - 8] + f^{(3)}[n - 7\n",
       "] + f^{(3)}[n - 6] + f^{(3)}[n - 7] + f^{(3)}[n - 6] + f^{(3)}[n - 5] + f^{(3)\n",
       "}[n - 8] + f^{(3)}[n - 7] + f^{(3)}[n - 6] + f^{(3)}[n - 7] + f^{(3)}[n - 6] +\n",
       " f^{(3)}[n - 5] + f^{(3)}[n - 6] + f^{(3)}[n - 5] + f^{(3)}[n - 4] + f^{(3)}[n\n",
       " - 11] + f^{(3)}[n - 10] + f^{(3)}[n - 9] + f^{(3)}[n - 10] + f^{(3)}[n - 9] +\n",
       " f^{(3)}[n - 8] + f^{(3)}[n - 9] + f^{(3)}[n - 8] + f^{(3)}[n - 7] + f^{(3)}[n\n",
       " - 10] + f^{(3)}[n - 9] + f^{(3)}[n - 8] + f^{(3)}[n - 9] + f^{(3)}[n - 8] + f\n",
       "^{(3)}[n - 7] + f^{(3)}[n - 8] + f^{(3)}[n - 7] + f^{(3)}[n - 6] + f^{(3)}[n -\n",
       " 9] + f^{(3)}[n - 8] + f^{(3)}[n - 7] + f^{(3)}[n - 8] + f^{(3)}[n - 7] + f^{(\n",
       "3)}[n - 6] + f^{(3)}[n - 7] + f^{(3)}[n - 6] + f^{(3)}[n - 5] + f^{(3)}[n - 13\n",
       "] + f^{(3)}[n - 12] + f^{(3)}[n - 11] + f^{(3)}[n - 12] + f^{(3)}[n - 11] + f^\n",
       "{(3)}[n - 10] + f^{(3)}[n - 11] + f^{(3)}[n - 10] + f^{(3)}[n - 9] + f^{(3)}[n\n",
       " - 12] + f^{(3)}[n - 11] + f^{(3)}[n - 10] + f^{(3)}[n - 11] + f^{(3)}[n - 10]\n",
       " + f^{(3)}[n - 9] + f^{(3)}[n - 10] + f^{(3)}[n - 9] + f^{(3)}[n - 8] + f^{(3)\n",
       "}[n - 11] + f^{(3)}[n - 10] + f^{(3)}[n - 9] + f^{(3)}[n - 10] + f^{(3)}[n - 9\n",
       "] + f^{(3)}[n - 8] + f^{(3)}[n - 9] + f^{(3)}[n - 8] + f^{(3)}[n - 7] + f^{(3)\n",
       "}[n - 12] + f^{(3)}[n - 11] + f^{(3)}[n - 10] + f^{(3)}[n - 11] + f^{(3)}[n - \n",
       "10] + f^{(3)}[n - 9] + f^{(3)}[n - 10] + f^{(3)}[n - 9] + f^{(3)}[n - 8] + f^{\n",
       "(3)}[n - 11] + f^{(3)}[n - 10] + f^{(3)}[n - 9] + f^{(3)}[n - 10] + f^{(3)}[n \n",
       "- 9] + f^{(3)}[n - 8] + f^{(3)}[n - 9] + f^{(3)}[n - 8] + f^{(3)}[n - 7] + f^{\n",
       "(3)}[n - 10] + f^{(3)}[n - 9] + f^{(3)}[n - 8] + f^{(3)}[n - 9] + f^{(3)}[n - \n",
       "8] + f^{(3)}[n - 7] + f^{(3)}[n - 8] + f^{(3)}[n - 7] + f^{(3)}[n - 6] + f^{(3\n",
       ")}[n - 11] + f^{(3)}[n - 10] + f^{(3)}[n - 9] + f^{(3)}[n - 10] + f^{(3)}[n - \n",
       "9] + f^{(3)}[n - 8] + f^{(3)}[n - 9] + f^{(3)}[n - 8] + f^{(3)}[n - 7] + f^{(3\n",
       ")}[n - 10] + f^{(3)}[n - 9] + f^{(3)}[n - 8] + f^{(3)}[n - 9] + f^{(3)}[n - 8]\n",
       " + f^{(3)}[n - 7] + f^{(3)}[n - 8] + f^{(3)}[n - 7] + f^{(3)}[n - 6] + f^{(3)}\n",
       "[n - 9] + f^{(3)}[n - 8] + f^{(3)}[n - 7] + f^{(3)}[n - 8] + f^{(3)}[n - 7] + \n",
       "f^{(3)}[n - 6] + f^{(3)}[n - 7] + f^{(3)}[n - 6] + f^{(3)}[n - 5]"
      ]
     },
     "execution_count": 34,
     "metadata": {},
     "output_type": "execute_result"
    }
   ],
   "source": [
    "unfolded = do_unfolding_steps(tribonacci_recurrence_spec, 5)\n",
    "recurrence_eq = project_recurrence_spec(unfolded, recurrence_eq=True)\n",
    "recurrence_eq"
   ]
  },
  {
   "cell_type": "code",
   "execution_count": 35,
   "metadata": {
    "collapsed": false
   },
   "outputs": [
    {
     "data": {
      "image/png": "[encoded data removed]",
      "text/latex": [
       "$$f^{{(3)}}_{n + 3} = f^{{(3)}}_{n - 15} + 6 f^{{(3)}}_{n - 14} + 21 f^{{(3)}}_{n - 13} + 50 f^{{(3)}}_{n - 12} + 90 f^{{(3)}}_{n - 11} + 126 f^{{(3)}}_{n - 10} + 141 f^{{(3)}}_{n - 9} + 126 f^{{(3)}}_{n - 8} + 90 f^{{(3)}}_{n - 7} + 50 f^{{(3)}}_{n - 6} + 21 f^{{(3)}}_{n - 5} + 6 f^{{(3)}}_{n - 4} + f^{{(3)}}_{n - 3}$$"
      ],
      "text/plain": [
       "f^{(3)}[n + 3] = f^{(3)}[n - 15] + 6⋅f^{(3)}[n - 14] + 21⋅f^{(3)}[n - 13] + 50\n",
       "⋅f^{(3)}[n - 12] + 90⋅f^{(3)}[n - 11] + 126⋅f^{(3)}[n - 10] + 141⋅f^{(3)}[n - \n",
       "9] + 126⋅f^{(3)}[n - 8] + 90⋅f^{(3)}[n - 7] + 50⋅f^{(3)}[n - 6] + 21⋅f^{(3)}[n\n",
       " - 5] + 6⋅f^{(3)}[n - 4] + f^{(3)}[n - 3]"
      ]
     },
     "execution_count": 35,
     "metadata": {},
     "output_type": "execute_result"
    }
   ],
   "source": [
    "factored_recurrence_eq = project_recurrence_spec(factor_rhs_unfolded_rec(unfolded), recurrence_eq=True)\n",
    "factored_recurrence_eq"
   ]
  },
  {
   "cell_type": "code",
   "execution_count": 36,
   "metadata": {
    "collapsed": true
   },
   "outputs": [],
   "source": [
    "instantiated_rec_spec = base_instantiation(unfolded)"
   ]
  },
  {
   "cell_type": "code",
   "execution_count": 37,
   "metadata": {
    "collapsed": false
   },
   "outputs": [
    {
     "data": {
      "image/png": "[encoded data removed]",
      "text/latex": [
       "$$\\left ( \\left \\{ f^{{(3)}}_{0} : 0, \\quad f^{{(3)}}_{1} : 0, \\quad f^{{(3)}}_{2} : 1, \\quad f^{{(3)}}_{3} : f^{{(3)}}_{0} + f^{{(3)}}_{1} + f^{{(3)}}_{2}, \\quad f^{{(3)}}_{4} : f^{{(3)}}_{1} + f^{{(3)}}_{2} + f^{{(3)}}_{3}, \\quad f^{{(3)}}_{5} : f^{{(3)}}_{2} + f^{{(3)}}_{3} + f^{{(3)}}_{4}, \\quad f^{{(3)}}_{6} : f^{{(3)}}_{3} + f^{{(3)}}_{4} + f^{{(3)}}_{5}, \\quad f^{{(3)}}_{7} : f^{{(3)}}_{4} + f^{{(3)}}_{5} + f^{{(3)}}_{6}, \\quad f^{{(3)}}_{8} : f^{{(3)}}_{5} + f^{{(3)}}_{6} + f^{{(3)}}_{7}, \\quad f^{{(3)}}_{9} : f^{{(3)}}_{6} + f^{{(3)}}_{7} + f^{{(3)}}_{8}, \\quad f^{{(3)}}_{10} : f^{{(3)}}_{7} + f^{{(3)}}_{8} + f^{{(3)}}_{9}, \\quad f^{{(3)}}_{11} : f^{{(3)}}_{8} + f^{{(3)}}_{9} + f^{{(3)}}_{10}, \\quad f^{{(3)}}_{12} : f^{{(3)}}_{9} + f^{{(3)}}_{10} + f^{{(3)}}_{11}, \\quad f^{{(3)}}_{13} : f^{{(3)}}_{10} + f^{{(3)}}_{11} + f^{{(3)}}_{12}, \\quad f^{{(3)}}_{14} : f^{{(3)}}_{11} + f^{{(3)}}_{12} + f^{{(3)}}_{13}, \\quad f^{{(3)}}_{15} : f^{{(3)}}_{12} + f^{{(3)}}_{13} + f^{{(3)}}_{14}, \\quad f^{{(3)}}_{16} : f^{{(3)}}_{13} + f^{{(3)}}_{14} + f^{{(3)}}_{15}, \\quad f^{{(3)}}_{17} : f^{{(3)}}_{14} + f^{{(3)}}_{15} + f^{{(3)}}_{16}\\right \\}, \\quad f^{{(3)}}_{18} = f^{{(3)}}_{0} + 6 f^{{(3)}}_{1} + 21 f^{{(3)}}_{2} + 50 f^{{(3)}}_{3} + 90 f^{{(3)}}_{4} + 126 f^{{(3)}}_{5} + 141 f^{{(3)}}_{6} + 126 f^{{(3)}}_{7} + 90 f^{{(3)}}_{8} + 50 f^{{(3)}}_{9} + 21 f^{{(3)}}_{10} + 6 f^{{(3)}}_{11} + f^{{(3)}}_{12}\\right )$$"
      ],
      "text/plain": [
       "({f^{(3)}[0]: 0, f^{(3)}[1]: 0, f^{(3)}[2]: 1, f^{(3)}[3]: f^{(3)}[0] + f^{(3)\n",
       "}[1] + f^{(3)}[2], f^{(3)}[4]: f^{(3)}[1] + f^{(3)}[2] + f^{(3)}[3], f^{(3)}[5\n",
       "]: f^{(3)}[2] + f^{(3)}[3] + f^{(3)}[4], f^{(3)}[6]: f^{(3)}[3] + f^{(3)}[4] +\n",
       " f^{(3)}[5], f^{(3)}[7]: f^{(3)}[4] + f^{(3)}[5] + f^{(3)}[6], f^{(3)}[8]: f^{\n",
       "(3)}[5] + f^{(3)}[6] + f^{(3)}[7], f^{(3)}[9]: f^{(3)}[6] + f^{(3)}[7] + f^{(3\n",
       ")}[8], f^{(3)}[10]: f^{(3)}[7] + f^{(3)}[8] + f^{(3)}[9], f^{(3)}[11]: f^{(3)}\n",
       "[8] + f^{(3)}[9] + f^{(3)}[10], f^{(3)}[12]: f^{(3)}[9] + f^{(3)}[10] + f^{(3)\n",
       "}[11], f^{(3)}[13]: f^{(3)}[10] + f^{(3)}[11] + f^{(3)}[12], f^{(3)}[14]: f^{(\n",
       "3)}[11] + f^{(3)}[12] + f^{(3)}[13], f^{(3)}[15]: f^{(3)}[12] + f^{(3)}[13] + \n",
       "f^{(3)}[14], f^{(3)}[16]: f^{(3)}[13] + f^{(3)}[14] + f^{(3)}[15], f^{(3)}[17]\n",
       ": f^{(3)}[14] + f^{(3)}[15] + f^{(3)}[16]}, f^{(3)}[18] = f^{(3)}[0] + 6⋅f^{(3\n",
       ")}[1] + 21⋅f^{(3)}[2] + 50⋅f^{(3)}[3] + 90⋅f^{(3)}[4] + 126⋅f^{(3)}[5] + 141⋅f\n",
       "^{(3)}[6] + 126⋅f^{(3)}[7] + 90⋅f^{(3)}[8] + 50⋅f^{(3)}[9] + 21⋅f^{(3)}[10] + \n",
       "6⋅f^{(3)}[11] + f^{(3)}[12])"
      ]
     },
     "execution_count": 37,
     "metadata": {},
     "output_type": "execute_result"
    }
   ],
   "source": [
    "project_recurrence_spec(instantiated_rec_spec, recurrence_eq=True, terms_cache=True)"
   ]
  },
  {
   "cell_type": "code",
   "execution_count": 38,
   "metadata": {
    "collapsed": false
   },
   "outputs": [
    {
     "data": {
      "image/png": "[encoded data removed]",
      "text/latex": [
       "$$\\left ( \\left \\{ f^{{(3)}}_{0} : 0, \\quad f^{{(3)}}_{1} : 0, \\quad f^{{(3)}}_{2} : 1, \\quad f^{{(3)}}_{3} : 1, \\quad f^{{(3)}}_{4} : 2, \\quad f^{{(3)}}_{5} : 4, \\quad f^{{(3)}}_{6} : 7, \\quad f^{{(3)}}_{7} : 13, \\quad f^{{(3)}}_{8} : 24, \\quad f^{{(3)}}_{9} : 44, \\quad f^{{(3)}}_{10} : 81, \\quad f^{{(3)}}_{11} : 149, \\quad f^{{(3)}}_{12} : 274, \\quad f^{{(3)}}_{13} : 504, \\quad f^{{(3)}}_{14} : 927, \\quad f^{{(3)}}_{15} : 1705, \\quad f^{{(3)}}_{16} : 3136, \\quad f^{{(3)}}_{17} : 5768\\right \\}, \\quad f^{{(3)}}_{18} = 10609\\right )$$"
      ],
      "text/plain": [
       "({f^{(3)}[0]: 0, f^{(3)}[1]: 0, f^{(3)}[2]: 1, f^{(3)}[3]: 1, f^{(3)}[4]: 2, f\n",
       "^{(3)}[5]: 4, f^{(3)}[6]: 7, f^{(3)}[7]: 13, f^{(3)}[8]: 24, f^{(3)}[9]: 44, f\n",
       "^{(3)}[10]: 81, f^{(3)}[11]: 149, f^{(3)}[12]: 274, f^{(3)}[13]: 504, f^{(3)}[\n",
       "14]: 927, f^{(3)}[15]: 1705, f^{(3)}[16]: 3136, f^{(3)}[17]: 5768}, f^{(3)}[18\n",
       "] = 10609)"
      ]
     },
     "execution_count": 38,
     "metadata": {},
     "output_type": "execute_result"
    }
   ],
   "source": [
    "fully_instantiated_spec = repeated_instantiating(instantiated_rec_spec)\n",
    "project_recurrence_spec(fully_instantiated_spec, recurrence_eq=True, terms_cache=True)"
   ]
  },
  {
   "cell_type": "code",
   "execution_count": 39,
   "metadata": {
    "collapsed": false
   },
   "outputs": [
    {
     "data": {
      "text/latex": [
       "\\begin{array}{c}f^{{(3)}}_{3} = f^{{(3)}}_{0} + f^{{(3)}}_{1} + f^{{(3)}}_{2}\\\\\n",
       "f^{{(3)}}_{6} = f^{{(3)}}_{0} + 2 f^{{(3)}}_{1} + 3 f^{{(3)}}_{2} + 2 f^{{(3)}}_{3} + f^{{(3)}}_{4}\\\\\n",
       "f^{{(3)}}_{9} = f^{{(3)}}_{0} + 3 f^{{(3)}}_{1} + 6 f^{{(3)}}_{2} + 7 f^{{(3)}}_{3} + 6 f^{{(3)}}_{4} + 3 f^{{(3)}}_{5} + f^{{(3)}}_{6}\\\\\n",
       "f^{{(3)}}_{12} = f^{{(3)}}_{0} + 4 f^{{(3)}}_{1} + 10 f^{{(3)}}_{2} + 16 f^{{(3)}}_{3} + 19 f^{{(3)}}_{4} + 16 f^{{(3)}}_{5} + 10 f^{{(3)}}_{6} + 4 f^{{(3)}}_{7} + f^{{(3)}}_{8}\\\\\n",
       "f^{{(3)}}_{15} = f^{{(3)}}_{0} + 5 f^{{(3)}}_{1} + 15 f^{{(3)}}_{2} + 30 f^{{(3)}}_{3} + 45 f^{{(3)}}_{4} + 51 f^{{(3)}}_{5} + 45 f^{{(3)}}_{6} + 30 f^{{(3)}}_{7} + 15 f^{{(3)}}_{8} + 5 f^{{(3)}}_{9} + f^{{(3)}}_{10}\\\\\n",
       "f^{{(3)}}_{18} = f^{{(3)}}_{0} + 6 f^{{(3)}}_{1} + 21 f^{{(3)}}_{2} + 50 f^{{(3)}}_{3} + 90 f^{{(3)}}_{4} + 126 f^{{(3)}}_{5} + 141 f^{{(3)}}_{6} + 126 f^{{(3)}}_{7} + 90 f^{{(3)}}_{8} + 50 f^{{(3)}}_{9} + 21 f^{{(3)}}_{10} + 6 f^{{(3)}}_{11} + f^{{(3)}}_{12}\\\\\n",
       "f^{{(3)}}_{21} = f^{{(3)}}_{0} + 7 f^{{(3)}}_{1} + 28 f^{{(3)}}_{2} + 77 f^{{(3)}}_{3} + 161 f^{{(3)}}_{4} + 266 f^{{(3)}}_{5} + 357 f^{{(3)}}_{6} + 393 f^{{(3)}}_{7} + 357 f^{{(3)}}_{8} + 266 f^{{(3)}}_{9} + 161 f^{{(3)}}_{10} + 77 f^{{(3)}}_{11} + 28 f^{{(3)}}_{12} + 7 f^{{(3)}}_{13} + f^{{(3)}}_{14}\\\\\\end{array}"
      ],
      "text/plain": [
       "<IPython.core.display.Latex object>"
      ]
     },
     "execution_count": 39,
     "metadata": {},
     "output_type": "execute_result"
    }
   ],
   "source": [
    "ipython_latex(tribonacci_recurrence_spec, times_range=range(7))"
   ]
  },
  {
   "cell_type": "markdown",
   "metadata": {},
   "source": [
    "the sequence lying on the middle in the above triangle is known as [A002426][oeis].\n",
    "\n",
    "[oeis]:http://oeis.org/A002426"
   ]
  },
  {
   "cell_type": "markdown",
   "metadata": {},
   "source": [
    "## Lucas numbers\n",
    "\n",
    "Know as [A000032][oeis].\n",
    "\n",
    "[oeis]:http://oeis.org/A000032"
   ]
  },
  {
   "cell_type": "code",
   "execution_count": 5,
   "metadata": {
    "collapsed": false
   },
   "outputs": [
    {
     "data": {
      "image/png": "[encoded data removed]",
      "text/latex": [
       "$$l_{n + 2} = l_{n} + l_{n + 1}$$"
      ],
      "text/plain": [
       "l[n + 2] = l[n] + l[n + 1]"
      ]
     },
     "execution_count": 5,
     "metadata": {},
     "output_type": "execute_result"
    }
   ],
   "source": [
    "l = IndexedBase('l')\n",
    "lucas_recurrence = Eq(l[n+2],l[n+1]+l[n])\n",
    "lucas_recurrence"
   ]
  },
  {
   "cell_type": "code",
   "execution_count": 6,
   "metadata": {
    "collapsed": true
   },
   "outputs": [],
   "source": [
    "boundary_conditions = {l[0]:Integer(2), l[1]:Integer(1)}\n",
    "lucas_recurrence_spec=dict(recurrence_eq=lucas_recurrence, indexed=l, \n",
    "                               index=n, terms_cache=boundary_conditions)"
   ]
  },
  {
   "cell_type": "code",
   "execution_count": 7,
   "metadata": {
    "collapsed": true
   },
   "outputs": [],
   "source": [
    "unfolded = do_unfolding_steps(lucas_recurrence_spec, 5)"
   ]
  },
  {
   "cell_type": "code",
   "execution_count": 8,
   "metadata": {
    "collapsed": false
   },
   "outputs": [
    {
     "data": {
      "image/png": "[encoded data removed]",
      "text/latex": [
       "$$l_{n + 2} = l_{n - 9} + l_{n - 8} + l_{n - 8} + l_{n - 7} + l_{n - 8} + l_{n - 7} + l_{n - 7} + l_{n - 6} + l_{n - 8} + l_{n - 7} + l_{n - 7} + l_{n - 6} + l_{n - 7} + l_{n - 6} + l_{n - 6} + l_{n - 5} + l_{n - 10} + l_{n - 9} + l_{n - 9} + l_{n - 8} + l_{n - 9} + l_{n - 8} + l_{n - 8} + l_{n - 7} + l_{n - 9} + l_{n - 8} + l_{n - 8} + l_{n - 7} + l_{n - 8} + l_{n - 7} + l_{n - 7} + l_{n - 6} + l_{n - 7} + l_{n - 6} + l_{n - 6} + l_{n - 5} + l_{n - 6} + l_{n - 5} + l_{n - 5} + l_{n - 4} + l_{n - 8} + l_{n - 7} + l_{n - 7} + l_{n - 6} + l_{n - 7} + l_{n - 6} + l_{n - 6} + l_{n - 5} + l_{n - 9} + l_{n - 8} + l_{n - 8} + l_{n - 7} + l_{n - 8} + l_{n - 7} + l_{n - 7} + l_{n - 6} + l_{n - 8} + l_{n - 7} + l_{n - 7} + l_{n - 6} + l_{n - 7} + l_{n - 6} + l_{n - 6} + l_{n - 5}$$"
      ],
      "text/plain": [
       "l[n + 2] = l[n - 9] + l[n - 8] + l[n - 8] + l[n - 7] + l[n - 8] + l[n - 7] + l\n",
       "[n - 7] + l[n - 6] + l[n - 8] + l[n - 7] + l[n - 7] + l[n - 6] + l[n - 7] + l[\n",
       "n - 6] + l[n - 6] + l[n - 5] + l[n - 10] + l[n - 9] + l[n - 9] + l[n - 8] + l[\n",
       "n - 9] + l[n - 8] + l[n - 8] + l[n - 7] + l[n - 9] + l[n - 8] + l[n - 8] + l[n\n",
       " - 7] + l[n - 8] + l[n - 7] + l[n - 7] + l[n - 6] + l[n - 7] + l[n - 6] + l[n \n",
       "- 6] + l[n - 5] + l[n - 6] + l[n - 5] + l[n - 5] + l[n - 4] + l[n - 8] + l[n -\n",
       " 7] + l[n - 7] + l[n - 6] + l[n - 7] + l[n - 6] + l[n - 6] + l[n - 5] + l[n - \n",
       "9] + l[n - 8] + l[n - 8] + l[n - 7] + l[n - 8] + l[n - 7] + l[n - 7] + l[n - 6\n",
       "] + l[n - 8] + l[n - 7] + l[n - 7] + l[n - 6] + l[n - 7] + l[n - 6] + l[n - 6]\n",
       " + l[n - 5]"
      ]
     },
     "execution_count": 8,
     "metadata": {},
     "output_type": "execute_result"
    }
   ],
   "source": [
    "recurrence_eq = project_recurrence_spec(unfolded, recurrence_eq=True)\n",
    "recurrence_eq"
   ]
  },
  {
   "cell_type": "code",
   "execution_count": 9,
   "metadata": {
    "collapsed": false
   },
   "outputs": [
    {
     "data": {
      "image/png": "[encoded data removed]",
      "text/latex": [
       "$$l_{n + 2} = l_{n - 10} + 6 l_{n - 9} + 15 l_{n - 8} + 20 l_{n - 7} + 15 l_{n - 6} + 6 l_{n - 5} + l_{n - 4}$$"
      ],
      "text/plain": [
       "l[n + 2] = l[n - 10] + 6⋅l[n - 9] + 15⋅l[n - 8] + 20⋅l[n - 7] + 15⋅l[n - 6] + \n",
       "6⋅l[n - 5] + l[n - 4]"
      ]
     },
     "execution_count": 9,
     "metadata": {},
     "output_type": "execute_result"
    }
   ],
   "source": [
    "factored_recurrence_eq = project_recurrence_spec(factor_rhs_unfolded_rec(unfolded), recurrence_eq=True)\n",
    "factored_recurrence_eq"
   ]
  },
  {
   "cell_type": "code",
   "execution_count": 10,
   "metadata": {
    "collapsed": false
   },
   "outputs": [
    {
     "data": {
      "image/png": "[encoded data removed]",
      "text/latex": [
       "$$l_{12} = l_{0} + 6 l_{1} + 15 l_{2} + 20 l_{3} + 15 l_{4} + 6 l_{5} + l_{6}$$"
      ],
      "text/plain": [
       "l[12] = l[0] + 6⋅l[1] + 15⋅l[2] + 20⋅l[3] + 15⋅l[4] + 6⋅l[5] + l[6]"
      ]
     },
     "execution_count": 10,
     "metadata": {},
     "output_type": "execute_result"
    }
   ],
   "source": [
    "factored_recurrence_eq.subs(n,10)"
   ]
  },
  {
   "cell_type": "code",
   "execution_count": 11,
   "metadata": {
    "collapsed": true
   },
   "outputs": [],
   "source": [
    "instantiated_rec_spec = base_instantiation(unfolded)"
   ]
  },
  {
   "cell_type": "code",
   "execution_count": 12,
   "metadata": {
    "collapsed": false
   },
   "outputs": [
    {
     "data": {
      "image/png": "[encoded data removed]",
      "text/latex": [
       "$$\\left ( l_{12} = l_{0} + 6 l_{1} + 15 l_{2} + 20 l_{3} + 15 l_{4} + 6 l_{5} + l_{6}, \\quad \\left \\{ l_{0} : 2, \\quad l_{1} : 1, \\quad l_{2} : l_{0} + l_{1}, \\quad l_{3} : l_{1} + l_{2}, \\quad l_{4} : l_{2} + l_{3}, \\quad l_{5} : l_{3} + l_{4}, \\quad l_{6} : l_{4} + l_{5}, \\quad l_{7} : l_{5} + l_{6}, \\quad l_{8} : l_{6} + l_{7}, \\quad l_{9} : l_{7} + l_{8}, \\quad l_{10} : l_{8} + l_{9}, \\quad l_{11} : l_{9} + l_{10}\\right \\}\\right )$$"
      ],
      "text/plain": [
       "(l[12] = l[0] + 6⋅l[1] + 15⋅l[2] + 20⋅l[3] + 15⋅l[4] + 6⋅l[5] + l[6], {l[0]: 2\n",
       ", l[1]: 1, l[2]: l[0] + l[1], l[3]: l[1] + l[2], l[4]: l[2] + l[3], l[5]: l[3]\n",
       " + l[4], l[6]: l[4] + l[5], l[7]: l[5] + l[6], l[8]: l[6] + l[7], l[9]: l[7] +\n",
       " l[8], l[10]: l[8] + l[9], l[11]: l[9] + l[10]})"
      ]
     },
     "execution_count": 12,
     "metadata": {},
     "output_type": "execute_result"
    }
   ],
   "source": [
    "project_recurrence_spec(instantiated_rec_spec, recurrence_eq=True, terms_cache=True)"
   ]
  },
  {
   "cell_type": "code",
   "execution_count": 13,
   "metadata": {
    "collapsed": false
   },
   "outputs": [
    {
     "data": {
      "image/png": "[encoded data removed]",
      "text/latex": [
       "$$\\left ( l_{12} = 322, \\quad \\left \\{ l_{0} : 2, \\quad l_{1} : 1, \\quad l_{2} : 3, \\quad l_{3} : 4, \\quad l_{4} : 7, \\quad l_{5} : 11, \\quad l_{6} : 18, \\quad l_{7} : 29, \\quad l_{8} : 47, \\quad l_{9} : 76, \\quad l_{10} : 123, \\quad l_{11} : 199\\right \\}\\right )$$"
      ],
      "text/plain": [
       "(l[12] = 322, {l[0]: 2, l[1]: 1, l[2]: 3, l[3]: 4, l[4]: 7, l[5]: 11, l[6]: 18\n",
       ", l[7]: 29, l[8]: 47, l[9]: 76, l[10]: 123, l[11]: 199})"
      ]
     },
     "execution_count": 13,
     "metadata": {},
     "output_type": "execute_result"
    }
   ],
   "source": [
    "fully_instantiated_spec = repeated_instantiating(instantiated_rec_spec)\n",
    "project_recurrence_spec(fully_instantiated_spec, recurrence_eq=True, terms_cache=True)"
   ]
  },
  {
   "cell_type": "code",
   "execution_count": 14,
   "metadata": {
    "collapsed": false
   },
   "outputs": [
    {
     "data": {
      "text/latex": [
       "\\begin{array}{c}l_{2} = l_{0} + l_{1}\\\\\n",
       "l_{4} = l_{0} + 2 l_{1} + l_{2}\\\\\n",
       "l_{6} = l_{0} + 3 l_{1} + 3 l_{2} + l_{3}\\\\\n",
       "l_{8} = l_{0} + 4 l_{1} + 6 l_{2} + 4 l_{3} + l_{4}\\\\\n",
       "l_{10} = l_{0} + 5 l_{1} + 10 l_{2} + 10 l_{3} + 5 l_{4} + l_{5}\\\\\n",
       "l_{12} = l_{0} + 6 l_{1} + 15 l_{2} + 20 l_{3} + 15 l_{4} + 6 l_{5} + l_{6}\\\\\n",
       "l_{14} = l_{0} + 7 l_{1} + 21 l_{2} + 35 l_{3} + 35 l_{4} + 21 l_{5} + 7 l_{6} + l_{7}\\\\\n",
       "l_{16} = l_{0} + 8 l_{1} + 28 l_{2} + 56 l_{3} + 70 l_{4} + 56 l_{5} + 28 l_{6} + 8 l_{7} + l_{8}\\\\\n",
       "l_{18} = l_{0} + 9 l_{1} + 36 l_{2} + 84 l_{3} + 126 l_{4} + 126 l_{5} + 84 l_{6} + 36 l_{7} + 9 l_{8} + l_{9}\\\\\n",
       "l_{20} = l_{0} + 10 l_{1} + 45 l_{2} + 120 l_{3} + 210 l_{4} + 252 l_{5} + 210 l_{6} + 120 l_{7} + 45 l_{8} + 10 l_{9} + l_{10}\\\\\\end{array}"
      ],
      "text/plain": [
       "<IPython.core.display.Latex object>"
      ]
     },
     "execution_count": 14,
     "metadata": {},
     "output_type": "execute_result"
    }
   ],
   "source": [
    "ipython_latex(lucas_recurrence_spec, times_range=range(10))"
   ]
  },
  {
   "cell_type": "code",
   "execution_count": 163,
   "metadata": {
    "collapsed": false
   },
   "outputs": [
    {
     "data": {
      "image/png": "[encoded data removed]",
      "text/latex": [
       "$$n s_{n} = \\left(n + 1\\right) s_{n - 1} + a_{n}$$"
      ],
      "text/plain": [
       "n⋅s[n] = (n + 1)⋅s[n - 1] + a[n]"
      ]
     },
     "execution_count": 163,
     "metadata": {},
     "output_type": "execute_result"
    }
   ],
   "source": [
    "s = IndexedBase('s')\n",
    "a = IndexedBase('a')\n",
    "swaps_recurrence = Eq(n*s[n],(n+1)*s[n-1]+a[n])\n",
    "swaps_recurrence"
   ]
  },
  {
   "cell_type": "code",
   "execution_count": 164,
   "metadata": {
    "collapsed": true
   },
   "outputs": [],
   "source": [
    "boundary_conditions = {s[0]:Integer(0)}\n",
    "swaps_recurrence_spec=dict(recurrence_eq=swaps_recurrence, indexed=s, \n",
    "                               index=n, terms_cache=boundary_conditions)"
   ]
  },
  {
   "cell_type": "code",
   "execution_count": 167,
   "metadata": {
    "collapsed": true
   },
   "outputs": [],
   "source": [
    "unfolded = do_unfolding_steps(swaps_recurrence_spec, 4)"
   ]
  },
  {
   "cell_type": "code",
   "execution_count": 168,
   "metadata": {
    "collapsed": false
   },
   "outputs": [
    {
     "data": {
      "image/png": "[encoded data removed]",
      "text/latex": [
       "$$n s_{n} = a_{n} + \\frac{1}{n - 1} \\left(n + 1\\right) \\left(\\frac{n}{n - 2} \\left(a_{n - 2} + \\frac{1}{n - 3} \\left(n - 1\\right) \\left(a_{n - 3} + \\frac{1}{n - 4} \\left(n - 2\\right) \\left(\\left(n - 3\\right) s_{n - 5} + a_{n - 4}\\right)\\right)\\right) + a_{n - 1}\\right)$$"
      ],
      "text/plain": [
       "                        ⎛  ⎛                   ⎛           (n - 2)⋅((n - 3)⋅s[\n",
       "                        ⎜  ⎜           (n - 1)⋅⎜a[n - 3] + ───────────────────\n",
       "                        ⎜  ⎜                   ⎝                           n -\n",
       "                        ⎜n⋅⎜a[n - 2] + ───────────────────────────────────────\n",
       "                        ⎜  ⎝                                     n - 3        \n",
       "                (n + 1)⋅⎜─────────────────────────────────────────────────────\n",
       "                        ⎝                                  n - 2              \n",
       "n⋅s[n] = a[n] + ──────────────────────────────────────────────────────────────\n",
       "                                                            n - 1             \n",
       "\n",
       "n - 5] + a[n - 4])⎞⎞           ⎞\n",
       "──────────────────⎟⎟           ⎟\n",
       " 4                ⎠⎟           ⎟\n",
       "───────────────────⎟           ⎟\n",
       "                   ⎠           ⎟\n",
       "──────────────────── + a[n - 1]⎟\n",
       "                               ⎠\n",
       "────────────────────────────────\n",
       "                                "
      ]
     },
     "execution_count": 168,
     "metadata": {},
     "output_type": "execute_result"
    }
   ],
   "source": [
    "recurrence_eq = project_recurrence_spec(unfolded, recurrence_eq=True)\n",
    "recurrence_eq"
   ]
  },
  {
   "cell_type": "code",
   "execution_count": 169,
   "metadata": {
    "collapsed": false
   },
   "outputs": [
    {
     "data": {
      "image/png": "[encoded data removed]",
      "text/latex": [
       "$$n s_{n} = \\frac{n^{5} s_{n - 5}}{n^{4} - 10 n^{3} + 35 n^{2} - 50 n + 24} + \\frac{n^{4} a_{n - 4}}{n^{4} - 10 n^{3} + 35 n^{2} - 50 n + 24} - \\frac{5 n^{4} s_{n - 5}}{n^{4} - 10 n^{3} + 35 n^{2} - 50 n + 24} - \\frac{2 n^{3} a_{n - 4}}{n^{4} - 10 n^{3} + 35 n^{2} - 50 n + 24} + \\frac{5 n^{3} s_{n - 5}}{n^{4} - 10 n^{3} + 35 n^{2} - 50 n + 24} + \\frac{n^{3} a_{n - 3}}{n^{3} - 6 n^{2} + 11 n - 6} - \\frac{n^{2} a_{n - 4}}{n^{4} - 10 n^{3} + 35 n^{2} - 50 n + 24} + \\frac{5 n^{2} s_{n - 5}}{n^{4} - 10 n^{3} + 35 n^{2} - 50 n + 24} + \\frac{n^{2} a_{n - 2}}{n^{2} - 3 n + 2} + \\frac{2 n a_{n - 4}}{n^{4} - 10 n^{3} + 35 n^{2} - 50 n + 24} - \\frac{6 n s_{n - 5}}{n^{4} - 10 n^{3} + 35 n^{2} - 50 n + 24} - \\frac{n a_{n - 3}}{n^{3} - 6 n^{2} + 11 n - 6} + \\frac{n a_{n - 2}}{n^{2} - 3 n + 2} + \\frac{n a_{n - 1}}{n - 1} + a_{n} + \\frac{a_{n - 1}}{n - 1}$$"
      ],
      "text/plain": [
       "                   5                                4                         \n",
       "                  n ⋅s[n - 5]                      n ⋅a[n - 4]                \n",
       "n⋅s[n] = ────────────────────────────── + ────────────────────────────── - ───\n",
       "          4       3       2                4       3       2                4 \n",
       "         n  - 10⋅n  + 35⋅n  - 50⋅n + 24   n  - 10⋅n  + 35⋅n  - 50⋅n + 24   n  \n",
       "\n",
       "        4                                3                                3   \n",
       "     5⋅n ⋅s[n - 5]                    2⋅n ⋅a[n - 4]                    5⋅n ⋅s[\n",
       "─────────────────────────── - ────────────────────────────── + ───────────────\n",
       "      3       2                4       3       2                4       3     \n",
       "- 10⋅n  + 35⋅n  - 50⋅n + 24   n  - 10⋅n  + 35⋅n  - 50⋅n + 24   n  - 10⋅n  + 35\n",
       "\n",
       "                       3                           2                          \n",
       "n - 5]                n ⋅a[n - 3]                 n ⋅a[n - 4]                 \n",
       "─────────────── + ──────────────────── - ────────────────────────────── + ────\n",
       "  2                3      2               4       3       2                4  \n",
       "⋅n  - 50⋅n + 24   n  - 6⋅n  + 11⋅n - 6   n  - 10⋅n  + 35⋅n  - 50⋅n + 24   n  -\n",
       "\n",
       "       2                      2                                               \n",
       "    5⋅n ⋅s[n - 5]            n ⋅a[n - 2]             2⋅n⋅a[n - 4]             \n",
       "────────────────────────── + ──────────── + ────────────────────────────── - ─\n",
       "     3       2                2              4       3       2                \n",
       " 10⋅n  + 35⋅n  - 50⋅n + 24   n  - 3⋅n + 2   n  - 10⋅n  + 35⋅n  - 50⋅n + 24   n\n",
       "\n",
       "                                                                              \n",
       "        6⋅n⋅s[n - 5]                 n⋅a[n - 3]         n⋅a[n - 2]    n⋅a[n - \n",
       "───────────────────────────── - ──────────────────── + ──────────── + ────────\n",
       "4       3       2                3      2               2               n - 1 \n",
       "  - 10⋅n  + 35⋅n  - 50⋅n + 24   n  - 6⋅n  + 11⋅n - 6   n  - 3⋅n + 2           \n",
       "\n",
       "                    \n",
       "1]          a[n - 1]\n",
       "── + a[n] + ────────\n",
       "             n - 1  \n",
       "                    "
      ]
     },
     "execution_count": 169,
     "metadata": {},
     "output_type": "execute_result"
    }
   ],
   "source": [
    "factored_recurrence_eq = project_recurrence_spec(factor_rhs_unfolded_rec(unfolded), recurrence_eq=True)\n",
    "factored_recurrence_eq"
   ]
  },
  {
   "cell_type": "code",
   "execution_count": 186,
   "metadata": {
    "collapsed": false
   },
   "outputs": [
    {
     "data": {
      "image/png": "[encoded data removed]",
      "text/latex": [
       "$$\\frac{n^{3} a_{n - 3}}{n^{3} - 6 n^{2} + 11 n - 6} + \\frac{n^{2} a_{n - 2}}{n^{2} - 3 n + 2} - \\frac{n a_{n - 3}}{n^{3} - 6 n^{2} + 11 n - 6} + \\frac{n a_{n - 2}}{n^{2} - 3 n + 2} + \\frac{n a_{n - 1}}{n - 1} + \\left(\\frac{n^{4}}{n^{4} - 10 n^{3} + 35 n^{2} - 50 n + 24} - \\frac{2 n^{3}}{n^{4} - 10 n^{3} + 35 n^{2} - 50 n + 24} - \\frac{n^{2}}{n^{4} - 10 n^{3} + 35 n^{2} - 50 n + 24} + \\frac{2 n}{n^{4} - 10 n^{3} + 35 n^{2} - 50 n + 24}\\right) a_{n - 4} + \\left(\\frac{n^{5}}{n^{4} - 10 n^{3} + 35 n^{2} - 50 n + 24} - \\frac{5 n^{4}}{n^{4} - 10 n^{3} + 35 n^{2} - 50 n + 24} + \\frac{5 n^{3}}{n^{4} - 10 n^{3} + 35 n^{2} - 50 n + 24} + \\frac{5 n^{2}}{n^{4} - 10 n^{3} + 35 n^{2} - 50 n + 24} - \\frac{6 n}{n^{4} - 10 n^{3} + 35 n^{2} - 50 n + 24}\\right) s_{n - 5} + a_{n} + \\frac{a_{n - 1}}{n - 1}$$"
      ],
      "text/plain": [
       "     3                  2                                                     \n",
       "    n ⋅a[n - 3]        n ⋅a[n - 2]         n⋅a[n - 3]         n⋅a[n - 2]    n⋅\n",
       "──────────────────── + ──────────── - ──────────────────── + ──────────── + ──\n",
       " 3      2               2              3      2               2               \n",
       "n  - 6⋅n  + 11⋅n - 6   n  - 3⋅n + 2   n  - 6⋅n  + 11⋅n - 6   n  - 3⋅n + 2     \n",
       "\n",
       "           ⎛               4                                 3                \n",
       "a[n - 1]   ⎜              n                               2⋅n                 \n",
       "──────── + ⎜────────────────────────────── - ────────────────────────────── - \n",
       "n - 1      ⎜ 4       3       2                4       3       2               \n",
       "           ⎝n  - 10⋅n  + 35⋅n  - 50⋅n + 24   n  - 10⋅n  + 35⋅n  - 50⋅n + 24   \n",
       "\n",
       "               2                                               ⎞            ⎛ \n",
       "              n                               2⋅n              ⎟            ⎜ \n",
       "────────────────────────────── + ──────────────────────────────⎟⋅a[n - 4] + ⎜─\n",
       " 4       3       2                4       3       2            ⎟            ⎜ \n",
       "n  - 10⋅n  + 35⋅n  - 50⋅n + 24   n  - 10⋅n  + 35⋅n  - 50⋅n + 24⎠            ⎝n\n",
       "\n",
       "              5                                 4                             \n",
       "             n                               5⋅n                              \n",
       "───────────────────────────── - ────────────────────────────── + ─────────────\n",
       "4       3       2                4       3       2                4       3   \n",
       "  - 10⋅n  + 35⋅n  - 50⋅n + 24   n  - 10⋅n  + 35⋅n  - 50⋅n + 24   n  - 10⋅n  + \n",
       "\n",
       "   3                                2                                         \n",
       "5⋅n                              5⋅n                              6⋅n         \n",
       "───────────────── + ────────────────────────────── - ─────────────────────────\n",
       "    2                4       3       2                4       3       2       \n",
       "35⋅n  - 50⋅n + 24   n  - 10⋅n  + 35⋅n  - 50⋅n + 24   n  - 10⋅n  + 35⋅n  - 50⋅n\n",
       "\n",
       "     ⎞                           \n",
       "     ⎟                   a[n - 1]\n",
       "─────⎟⋅s[n - 5] + a[n] + ────────\n",
       "     ⎟                    n - 1  \n",
       " + 24⎠                           "
      ]
     },
     "execution_count": 186,
     "metadata": {},
     "output_type": "execute_result"
    }
   ],
   "source": [
    "factored_recurrence_eq.rhs.collect(s[n-5]).collect(a[n-4])"
   ]
  },
  {
   "cell_type": "code",
   "execution_count": 170,
   "metadata": {
    "collapsed": false
   },
   "outputs": [
    {
     "data": {
      "image/png": "[encoded data removed]",
      "text/latex": [
       "$$5 s_{5} = 15 a_{1} + 5 a_{2} + \\frac{5 a_{3}}{2} + \\frac{3 a_{4}}{2} + a_{5} + 30 s_{0}$$"
      ],
      "text/plain": [
       "                            5⋅a[3]   3⋅a[4]                 \n",
       "5⋅s[5] = 15⋅a[1] + 5⋅a[2] + ────── + ────── + a[5] + 30⋅s[0]\n",
       "                              2        2                    "
      ]
     },
     "execution_count": 170,
     "metadata": {},
     "output_type": "execute_result"
    }
   ],
   "source": [
    "factored_recurrence_eq.subs(n,5)"
   ]
  },
  {
   "cell_type": "code",
   "execution_count": 171,
   "metadata": {
    "collapsed": false
   },
   "outputs": [
    {
     "data": {
      "image/png": "[encoded data removed]",
      "text/latex": [
       "$$5 s_{5} = 15 a_{1} + 5 a_{2} + \\frac{5 a_{3}}{2} + \\frac{3 a_{4}}{2} + a_{5} + 30 s_{0}$$"
      ],
      "text/plain": [
       "                            5⋅a[3]   3⋅a[4]                 \n",
       "5⋅s[5] = 15⋅a[1] + 5⋅a[2] + ────── + ────── + a[5] + 30⋅s[0]\n",
       "                              2        2                    "
      ]
     },
     "execution_count": 171,
     "metadata": {},
     "output_type": "execute_result"
    }
   ],
   "source": [
    "recurrence_eq.subs(n, 5)"
   ]
  },
  {
   "cell_type": "code",
   "execution_count": 175,
   "metadata": {
    "collapsed": false
   },
   "outputs": [
    {
     "data": {
      "image/png": "[encoded data removed]",
      "text/latex": [
       "$$5 s_{5} = 30 s_{0} + 2$$"
      ],
      "text/plain": [
       "5⋅s[5] = 30⋅s[0] + 2"
      ]
     },
     "execution_count": 175,
     "metadata": {},
     "output_type": "execute_result"
    }
   ],
   "source": [
    "def additional_term(n): return (2*Integer(n)-3)/6\n",
    "\n",
    "as_dict = {a[n]:additional_term(n) for n in range(1,6)}\n",
    "\n",
    "recurrence_eq.subs(n, 5).subs(as_dict)"
   ]
  }
 ],
 "metadata": {
  "kernelspec": {
   "display_name": "Python 3",
   "language": "python",
   "name": "python3"
  },
  "language_info": {
   "codemirror_mode": {
    "name": "ipython",
    "version": 3
   },
   "file_extension": ".py",
   "mimetype": "text/x-python",
   "name": "python",
   "nbconvert_exporter": "python",
   "pygments_lexer": "ipython3",
   "version": "3.5.0"
  }
 },
 "nbformat": 4,
 "nbformat_minor": 0
}
