{
 "cells": [
  {
   "cell_type": "code",
   "execution_count": 3,
   "metadata": {
    "collapsed": false
   },
   "outputs": [],
   "source": [
    "import sys\n",
    "import sympy\n",
    "from sympy import *\n",
    "from sympy.abc import x, n, z, t, k\n",
    "from sympy.core.cache import *\n",
    "    \n",
    "clear_cache()    \n",
    "    \n",
    "init_printing(use_latex='mathjax') # for nice printing, a-la' TeX\n",
    "\n",
    "sys.setrecursionlimit(100000)"
   ]
  },
  {
   "cell_type": "code",
   "execution_count": 176,
   "metadata": {
    "collapsed": true
   },
   "outputs": [],
   "source": [
    "from itertools import *"
   ]
  },
  {
   "cell_type": "markdown",
   "metadata": {},
   "source": [
    "# Difference analysis of Polynomial sequences"
   ]
  },
  {
   "cell_type": "markdown",
   "metadata": {},
   "source": [
    "Let $\\{a_{n}\\}_{n\\in\\mathbb{N}}$ be a sequence of Natural numbers. Assume that each coefficient $a_{n}$ can be written as a polynomial $\\mathcal{A}_{k}$, of order $k$, in the variable $n$, namely: \n",
    "$$ a_{n} = \\hat{a}_{0} + \\hat{a}_{1}n + \\ldots + \\hat{a}_{k}n^{k} = \\mathcal{A}_{k}(n)$$\n",
    "where $\\hat{a}_{i}\\in\\mathbb{Q}$ and $\\hat{a}_{k}\\neq0$."
   ]
  },
  {
   "cell_type": "code",
   "execution_count": 88,
   "metadata": {
    "collapsed": true
   },
   "outputs": [],
   "source": [
    "def first_sequence_poly(n): return 1+n+2*n**2"
   ]
  },
  {
   "cell_type": "code",
   "execution_count": 104,
   "metadata": {
    "collapsed": false
   },
   "outputs": [
    {
     "data": {
      "text/latex": [
       "$$\\left [ 1, \\quad 4, \\quad 11, \\quad 22, \\quad 37, \\quad 56, \\quad 79, \\quad 106, \\quad 137, \\quad 172, \\quad 211, \\quad 254, \\quad 301, \\quad 352\\right ]$$"
      ],
      "text/plain": [
       "[1, 4, 11, 22, 37, 56, 79, 106, 137, 172, 211, 254, 301, 352]"
      ]
     },
     "execution_count": 104,
     "metadata": {},
     "output_type": "execute_result"
    }
   ],
   "source": [
    "first_sequence_exploded = [first_sequence_poly(i) for i in range(14)]\n",
    "first_sequence_exploded"
   ]
  },
  {
   "cell_type": "code",
   "execution_count": 248,
   "metadata": {
    "collapsed": false
   },
   "outputs": [],
   "source": [
    "def evaluate_poly_sym(polynomial):\n",
    "    return lambda n: Poly(polynomial(n), polynomial.gen)\n",
    "\n",
    "def difference(polynomial):\n",
    "    return lambda n: (polynomial(n+1) - polynomial(n)).simplify()\n",
    "\n",
    "def difs(sequence):\n",
    "    \n",
    "    if not sequence: return []\n",
    "    elif len(sequence) is 1: return []\n",
    "    else:\n",
    "        n, m, *rest = sequence\n",
    "        return [m-n] + difs([m]+rest)\n",
    "        \n",
    "def constant(l):\n",
    "    if not l: return True\n",
    "    else:\n",
    "        car, *cdr = l\n",
    "        return all(map(lambda a: car == a, cdr))\n",
    "        \n",
    "def difLists(lists):\n",
    "    if not lists: return []\n",
    "    else:\n",
    "        l, *rest = lists\n",
    "        if constant(l): return lists\n",
    "        else: return difLists([difs(l)]+lists)\n",
    "        \n",
    "def firstDifs(sequence):\n",
    "    return reversed(list(map(lambda l: l[0], difLists([sequence]))))\n",
    "\n",
    "def genDifs(sequence):\n",
    "    return reversed(list(map(lambda l: l[-1], difLists([sequence]))))\n",
    "\n",
    "def nextD(lasts):\n",
    "    new_coeff = list(accumulate(lasts))[-1]\n",
    "    new_lasts = [new_coeff]\n",
    "    for i in range(1,len(lasts)): new_lasts.append(new_lasts[i-1]-lasts[i-1])\n",
    "    assert new_lasts[-1] == lasts[-1]\n",
    "    return new_lasts\n",
    "\n",
    "def next_element(sequence):\n",
    "    return nextD(list(genDifs(sequence)))[0]\n",
    "    \n",
    "def continue_sequence(sequence):\n",
    "    lasts = list(genDifs(sequence))\n",
    "    while True:\n",
    "        lasts = nextD(lasts)\n",
    "        yield lasts[0]"
   ]
  },
  {
   "cell_type": "code",
   "execution_count": 138,
   "metadata": {
    "collapsed": false
   },
   "outputs": [
    {
     "data": {
      "text/latex": [
       "$$n + 2 \\left(n + 1\\right)^{2} + 2$$"
      ],
      "text/plain": [
       "             2    \n",
       "n + 2⋅(n + 1)  + 2"
      ]
     },
     "execution_count": 138,
     "metadata": {},
     "output_type": "execute_result"
    }
   ],
   "source": [
    "f=first_sequence_poly(n+1)\n",
    "f"
   ]
  },
  {
   "cell_type": "code",
   "execution_count": 126,
   "metadata": {
    "collapsed": false
   },
   "outputs": [
    {
     "data": {
      "text/latex": [
       "$$\\left [ 3, \\quad 7, \\quad 11, \\quad 15, \\quad 19, \\quad 23, \\quad 27, \\quad 31, \\quad 35, \\quad 39, \\quad 43, \\quad 47, \\quad 51\\right ]$$"
      ],
      "text/plain": [
       "[3, 7, 11, 15, 19, 23, 27, 31, 35, 39, 43, 47, 51]"
      ]
     },
     "execution_count": 126,
     "metadata": {},
     "output_type": "execute_result"
    }
   ],
   "source": [
    "differentiated_poly = difference(first_sequence_poly)(n) # keep it simbolically\n",
    "mapped_difference = map(lambda i: differentiated_poly.subs(n,i), range(13))\n",
    "list(mapped_difference)"
   ]
  },
  {
   "cell_type": "code",
   "execution_count": 127,
   "metadata": {
    "collapsed": false
   },
   "outputs": [
    {
     "data": {
      "text/latex": [
       "$$\\left [ 3, \\quad 7, \\quad 11, \\quad 15, \\quad 19, \\quad 23, \\quad 27, \\quad 31, \\quad 35, \\quad 39, \\quad 43, \\quad 47, \\quad 51\\right ]$$"
      ],
      "text/plain": [
       "[3, 7, 11, 15, 19, 23, 27, 31, 35, 39, 43, 47, 51]"
      ]
     },
     "execution_count": 127,
     "metadata": {},
     "output_type": "execute_result"
    }
   ],
   "source": [
    "difs(first_sequence_exploded)"
   ]
  },
  {
   "cell_type": "code",
   "execution_count": 230,
   "metadata": {
    "collapsed": true
   },
   "outputs": [],
   "source": [
    "second_sequence = [-12, -11, 6, 45, 112, 213, 354, 541, 780, 1077]"
   ]
  },
  {
   "cell_type": "code",
   "execution_count": 231,
   "metadata": {
    "collapsed": false
   },
   "outputs": [
    {
     "data": {
      "text/latex": [
       "$$\\left [ 1, \\quad 17, \\quad 39, \\quad 67, \\quad 101, \\quad 141, \\quad 187, \\quad 239, \\quad 297\\right ]$$"
      ],
      "text/plain": [
       "[1, 17, 39, 67, 101, 141, 187, 239, 297]"
      ]
     },
     "execution_count": 231,
     "metadata": {},
     "output_type": "execute_result"
    }
   ],
   "source": [
    "first_difference_sequence = difs(second_sequence)\n",
    "first_difference_sequence"
   ]
  },
  {
   "cell_type": "code",
   "execution_count": 232,
   "metadata": {
    "collapsed": false
   },
   "outputs": [
    {
     "data": {
      "text/latex": [
       "$$\\left [ 16, \\quad 22, \\quad 28, \\quad 34, \\quad 40, \\quad 46, \\quad 52, \\quad 58\\right ]$$"
      ],
      "text/plain": [
       "[16, 22, 28, 34, 40, 46, 52, 58]"
      ]
     },
     "execution_count": 232,
     "metadata": {},
     "output_type": "execute_result"
    }
   ],
   "source": [
    "second_difference_sequence = difs(first_difference_sequence)\n",
    "second_difference_sequence"
   ]
  },
  {
   "cell_type": "code",
   "execution_count": 233,
   "metadata": {
    "collapsed": false
   },
   "outputs": [
    {
     "data": {
      "text/latex": [
       "$$\\left [ 6, \\quad 6, \\quad 6, \\quad 6, \\quad 6, \\quad 6, \\quad 6\\right ]$$"
      ],
      "text/plain": [
       "[6, 6, 6, 6, 6, 6, 6]"
      ]
     },
     "execution_count": 233,
     "metadata": {},
     "output_type": "execute_result"
    }
   ],
   "source": [
    "third_difference_sequence = difs(second_difference_sequence)\n",
    "third_difference_sequence"
   ]
  },
  {
   "cell_type": "code",
   "execution_count": 234,
   "metadata": {
    "collapsed": false
   },
   "outputs": [
    {
     "data": {
      "text/latex": [
       "$$\\left [ \\left [ 6, \\quad 6, \\quad 6, \\quad 6, \\quad 6, \\quad 6, \\quad 6\\right ], \\quad \\left [ 16, \\quad 22, \\quad 28, \\quad 34, \\quad 40, \\quad 46, \\quad 52, \\quad 58\\right ], \\quad \\left [ 1, \\quad 17, \\quad 39, \\quad 67, \\quad 101, \\quad 141, \\quad 187, \\quad 239, \\quad 297\\right ], \\quad \\left [ -12, \\quad -11, \\quad 6, \\quad 45, \\quad 112, \\quad 213, \\quad 354, \\quad 541, \\quad 780, \\quad 1077\\right ]\\right ]$$"
      ],
      "text/plain": [
       "[[6, 6, 6, 6, 6, 6, 6], [16, 22, 28, 34, 40, 46, 52, 58], [1, 17, 39, 67, 101,\n",
       " 141, 187, 239, 297], [-12, -11, 6, 45, 112, 213, 354, 541, 780, 1077]]"
      ]
     },
     "execution_count": 234,
     "metadata": {},
     "output_type": "execute_result"
    }
   ],
   "source": [
    "difLists([second_sequence])"
   ]
  },
  {
   "cell_type": "code",
   "execution_count": 235,
   "metadata": {
    "collapsed": false
   },
   "outputs": [
    {
     "data": {
      "text/latex": [
       "$$\\left [ -12, \\quad 1, \\quad 16, \\quad 6\\right ]$$"
      ],
      "text/plain": [
       "[-12, 1, 16, 6]"
      ]
     },
     "execution_count": 235,
     "metadata": {},
     "output_type": "execute_result"
    }
   ],
   "source": [
    "list(firstDifs(second_sequence))"
   ]
  },
  {
   "cell_type": "code",
   "execution_count": 236,
   "metadata": {
    "collapsed": false
   },
   "outputs": [
    {
     "data": {
      "text/latex": [
       "$$\\left [ 1077, \\quad 297, \\quad 58, \\quad 6\\right ]$$"
      ],
      "text/plain": [
       "[1077, 297, 58, 6]"
      ]
     },
     "execution_count": 236,
     "metadata": {},
     "output_type": "execute_result"
    }
   ],
   "source": [
    "lasts = list(genDifs(second_sequence))\n",
    "lasts"
   ]
  },
  {
   "cell_type": "code",
   "execution_count": 237,
   "metadata": {
    "collapsed": false
   },
   "outputs": [
    {
     "data": {
      "text/latex": [
       "$$\\left [ 1438, \\quad 361, \\quad 64, \\quad 6\\right ]$$"
      ],
      "text/plain": [
       "[1438, 361, 64, 6]"
      ]
     },
     "execution_count": 237,
     "metadata": {},
     "output_type": "execute_result"
    }
   ],
   "source": [
    "nextD(lasts)"
   ]
  },
  {
   "cell_type": "code",
   "execution_count": 238,
   "metadata": {
    "collapsed": false
   },
   "outputs": [
    {
     "data": {
      "text/latex": [
       "$$1438$$"
      ],
      "text/plain": [
       "1438"
      ]
     },
     "execution_count": 238,
     "metadata": {},
     "output_type": "execute_result"
    }
   ],
   "source": [
    "next_element(second_sequence)"
   ]
  },
  {
   "cell_type": "code",
   "execution_count": 239,
   "metadata": {
    "collapsed": false
   },
   "outputs": [
    {
     "data": {
      "text/latex": [
       "$$\\left [ 1438, \\quad 1869, \\quad 2376, \\quad 2965, \\quad 3642, \\quad 4413, \\quad 5284, \\quad 6261, \\quad 7350, \\quad 8557, \\quad 9888, \\quad 11349, \\quad 12946, \\quad 14685, \\quad 16572, \\quad 18613, \\quad 20814, \\quad 23181, \\quad 25720, \\quad 28437\\right ]$$"
      ],
      "text/plain": [
       "[1438, 1869, 2376, 2965, 3642, 4413, 5284, 6261, 7350, 8557, 9888, 11349, 1294\n",
       "6, 14685, 16572, 18613, 20814, 23181, 25720, 28437]"
      ]
     },
     "execution_count": 239,
     "metadata": {},
     "output_type": "execute_result"
    }
   ],
   "source": [
    "take(continue_sequence(second_sequence),20)"
   ]
  },
  {
   "cell_type": "code",
   "execution_count": 240,
   "metadata": {
    "collapsed": false
   },
   "outputs": [
    {
     "data": {
      "text/latex": [
       "$$\\left [ 0, \\quad 1, \\quad 1, \\quad 2, \\quad 3, \\quad 5, \\quad 8, \\quad 13, \\quad 21, \\quad 34, \\quad 55, \\quad 89, \\quad 144, \\quad 233, \\quad 377, \\quad 610, \\quad 987, \\quad 1597, \\quad 2584, \\quad 4181\\right ]$$"
      ],
      "text/plain": [
       "[0, 1, 1, 2, 3, 5, 8, 13, 21, 34, 55, 89, 144, 233, 377, 610, 987, 1597, 2584,\n",
       " 4181]"
      ]
     },
     "execution_count": 240,
     "metadata": {},
     "output_type": "execute_result"
    }
   ],
   "source": [
    "fibs = [fibonacci(i) for i in range(20)]\n",
    "fibs"
   ]
  },
  {
   "cell_type": "code",
   "execution_count": 241,
   "metadata": {
    "collapsed": false
   },
   "outputs": [
    {
     "data": {
      "text/latex": [
       "$$\\left [ 13530, \\quad 142065, \\quad 1357325, \\quad 9618830, \\quad 54023390, \\quad 254254950, \\quad 1041111056, \\quad 3806846406, \\quad 12666486037, \\quad 38897569993, \\quad 111464146280, \\quad 300666911313, \\quad 768860983418, \\quad 1874805032081, \\quad 4380558827899, \\quad 9848298629580, \\quad 21378856330309, \\quad 44949237172189, \\quad 91775250522398, \\quad 182390568524187\\right ]$$"
      ],
      "text/plain": [
       "[13530, 142065, 1357325, 9618830, 54023390, 254254950, 1041111056, 3806846406,\n",
       " 12666486037, 38897569993, 111464146280, 300666911313, 768860983418, 187480503\n",
       "2081, 4380558827899, 9848298629580, 21378856330309, 44949237172189, 9177525052\n",
       "2398, 182390568524187]"
      ]
     },
     "execution_count": 241,
     "metadata": {},
     "output_type": "execute_result"
    }
   ],
   "source": [
    "take(continue_sequence(fibs),20)"
   ]
  },
  {
   "cell_type": "code",
   "execution_count": 249,
   "metadata": {
    "collapsed": false
   },
   "outputs": [
    {
     "data": {
      "text/latex": [
       "$$\\left [ \\left [ 4181\\right ], \\quad \\left [ -2584, \\quad 1597\\right ], \\quad \\left [ 1597, \\quad -987, \\quad 610\\right ], \\quad \\left [ -987, \\quad 610, \\quad -377, \\quad 233\\right ], \\quad \\left [ 610, \\quad -377, \\quad 233, \\quad -144, \\quad 89\\right ], \\quad \\left [ -377, \\quad 233, \\quad -144, \\quad 89, \\quad -55, \\quad 34\\right ], \\quad \\left [ 233, \\quad -144, \\quad 89, \\quad -55, \\quad 34, \\quad -21, \\quad 13\\right ], \\quad \\left [ -144, \\quad 89, \\quad -55, \\quad 34, \\quad -21, \\quad 13, \\quad -8, \\quad 5\\right ], \\quad \\left [ 89, \\quad -55, \\quad 34, \\quad -21, \\quad 13, \\quad -8, \\quad 5, \\quad -3, \\quad 2\\right ], \\quad \\left [ -55, \\quad 34, \\quad -21, \\quad 13, \\quad -8, \\quad 5, \\quad -3, \\quad 2, \\quad -1, \\quad 1\\right ], \\quad \\left [ 34, \\quad -21, \\quad 13, \\quad -8, \\quad 5, \\quad -3, \\quad 2, \\quad -1, \\quad 1, \\quad 0, \\quad 1\\right ], \\quad \\left [ -21, \\quad 13, \\quad -8, \\quad 5, \\quad -3, \\quad 2, \\quad -1, \\quad 1, \\quad 0, \\quad 1, \\quad 1, \\quad 2\\right ], \\quad \\left [ 13, \\quad -8, \\quad 5, \\quad -3, \\quad 2, \\quad -1, \\quad 1, \\quad 0, \\quad 1, \\quad 1, \\quad 2, \\quad 3, \\quad 5\\right ], \\quad \\left [ -8, \\quad 5, \\quad -3, \\quad 2, \\quad -1, \\quad 1, \\quad 0, \\quad 1, \\quad 1, \\quad 2, \\quad 3, \\quad 5, \\quad 8, \\quad 13\\right ], \\quad \\left [ 5, \\quad -3, \\quad 2, \\quad -1, \\quad 1, \\quad 0, \\quad 1, \\quad 1, \\quad 2, \\quad 3, \\quad 5, \\quad 8, \\quad 13, \\quad 21, \\quad 34\\right ], \\quad \\left [ -3, \\quad 2, \\quad -1, \\quad 1, \\quad 0, \\quad 1, \\quad 1, \\quad 2, \\quad 3, \\quad 5, \\quad 8, \\quad 13, \\quad 21, \\quad 34, \\quad 55, \\quad 89\\right ], \\quad \\left [ 2, \\quad -1, \\quad 1, \\quad 0, \\quad 1, \\quad 1, \\quad 2, \\quad 3, \\quad 5, \\quad 8, \\quad 13, \\quad 21, \\quad 34, \\quad 55, \\quad 89, \\quad 144, \\quad 233\\right ], \\quad \\left [ -1, \\quad 1, \\quad 0, \\quad 1, \\quad 1, \\quad 2, \\quad 3, \\quad 5, \\quad 8, \\quad 13, \\quad 21, \\quad 34, \\quad 55, \\quad 89, \\quad 144, \\quad 233, \\quad 377, \\quad 610\\right ], \\quad \\left [ 1, \\quad 0, \\quad 1, \\quad 1, \\quad 2, \\quad 3, \\quad 5, \\quad 8, \\quad 13, \\quad 21, \\quad 34, \\quad 55, \\quad 89, \\quad 144, \\quad 233, \\quad 377, \\quad 610, \\quad 987, \\quad 1597\\right ], \\quad \\left [ 0, \\quad 1, \\quad 1, \\quad 2, \\quad 3, \\quad 5, \\quad 8, \\quad 13, \\quad 21, \\quad 34, \\quad 55, \\quad 89, \\quad 144, \\quad 233, \\quad 377, \\quad 610, \\quad 987, \\quad 1597, \\quad 2584, \\quad 4181\\right ]\\right ]$$"
      ],
      "text/plain": [
       "[[4181], [-2584, 1597], [1597, -987, 610], [-987, 610, -377, 233], [610, -377,\n",
       " 233, -144, 89], [-377, 233, -144, 89, -55, 34], [233, -144, 89, -55, 34, -21,\n",
       " 13], [-144, 89, -55, 34, -21, 13, -8, 5], [89, -55, 34, -21, 13, -8, 5, -3, 2\n",
       "], [-55, 34, -21, 13, -8, 5, -3, 2, -1, 1], [34, -21, 13, -8, 5, -3, 2, -1, 1,\n",
       " 0, 1], [-21, 13, -8, 5, -3, 2, -1, 1, 0, 1, 1, 2], [13, -8, 5, -3, 2, -1, 1, \n",
       "0, 1, 1, 2, 3, 5], [-8, 5, -3, 2, -1, 1, 0, 1, 1, 2, 3, 5, 8, 13], [5, -3, 2, \n",
       "-1, 1, 0, 1, 1, 2, 3, 5, 8, 13, 21, 34], [-3, 2, -1, 1, 0, 1, 1, 2, 3, 5, 8, 1\n",
       "3, 21, 34, 55, 89], [2, -1, 1, 0, 1, 1, 2, 3, 5, 8, 13, 21, 34, 55, 89, 144, 2\n",
       "33], [-1, 1, 0, 1, 1, 2, 3, 5, 8, 13, 21, 34, 55, 89, 144, 233, 377, 610], [1,\n",
       " 0, 1, 1, 2, 3, 5, 8, 13, 21, 34, 55, 89, 144, 233, 377, 610, 987, 1597], [0, \n",
       "1, 1, 2, 3, 5, 8, 13, 21, 34, 55, 89, 144, 233, 377, 610, 987, 1597, 2584, 418\n",
       "1]]"
      ]
     },
     "execution_count": 249,
     "metadata": {},
     "output_type": "execute_result"
    }
   ],
   "source": [
    "difLists([fibs])"
   ]
  },
  {
   "cell_type": "code",
   "execution_count": null,
   "metadata": {
    "collapsed": true
   },
   "outputs": [],
   "source": []
  }
 ],
 "metadata": {
  "kernelspec": {
   "display_name": "Python 3",
   "language": "python",
   "name": "python3"
  },
  "language_info": {
   "codemirror_mode": {
    "name": "ipython",
    "version": 3
   },
   "file_extension": ".py",
   "mimetype": "text/x-python",
   "name": "python",
   "nbconvert_exporter": "python",
   "pygments_lexer": "ipython3",
   "version": "3.5.1"
  }
 },
 "nbformat": 4,
 "nbformat_minor": 0
}
