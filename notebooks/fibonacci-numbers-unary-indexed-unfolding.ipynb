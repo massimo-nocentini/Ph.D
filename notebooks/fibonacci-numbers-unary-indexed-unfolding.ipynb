{
 "cells": [
  {
   "cell_type": "markdown",
   "metadata": {},
   "source": [
    "<p>\n",
    "<img src=\"http://www.cerm.unifi.it/chianti/images/logo%20unifi_positivo.jpg\" \n",
    "        alt=\"UniFI logo\" style=\"float: left; width: 20%; height: 20%;\">\n",
    "<div align=\"right\"> Massimo Nocentini<br>\n",
    "<small>\n",
    "<br>September 30, 2016: cleaning, matrix-vector product\n",
    "<br>September 29, 2016: ordered set-wise spec representation, terms cache subs & project\n",
    "<br>September 28, 2016: graphical representations, simple unfolding\n",
    "</small>\n",
    "</div>\n",
    "</p>\n",
    "<br>\n",
    "\n",
    "<p>\n",
    "<div align=\"center\">\n",
    "<b>abstract</b><br>\n",
    "In this document we explore the sequence of <i>Fibonacci numbers</i>, from the point of view of <i>recurrence unfolding</i>, an algorithmic/symbolical idea under development. We're going to apply such technique aiming to show new interesting identities among these wonderful numbers. Moreover, we collect in this very document some content directly from the OEIS and some funny graphical interpretations of the defining recurrence.\n",
    "</div>\n",
    "</p>"
   ]
  },
  {
   "cell_type": "code",
   "execution_count": 1,
   "metadata": {
    "collapsed": false
   },
   "outputs": [],
   "source": [
    "%run \"../src/start_session.py\"\n",
    "%run \"../src/recurrences.py\""
   ]
  },
  {
   "cell_type": "code",
   "execution_count": 2,
   "metadata": {
    "collapsed": true
   },
   "outputs": [],
   "source": [
    "from oeis import oeis_search, ListData\n",
    "import knowledge"
   ]
  },
  {
   "cell_type": "markdown",
   "metadata": {},
   "source": [
    "# OEIS\n",
    "\n",
    "We start our study asking the [OEIS][oeis] the sequence of Fibonacci numbers, which is denoted by *A000045*:\n",
    "\n",
    "[oeis]:http://oeis.org/"
   ]
  },
  {
   "cell_type": "code",
   "execution_count": 32,
   "metadata": {
    "collapsed": false,
    "scrolled": false
   },
   "outputs": [
    {
     "name": "stdout",
     "output_type": "stream",
     "text": [
      "*"
     ]
    },
    {
     "data": {
      "text/markdown": [
       "_Results for query: <a href='https://oeis.org/search?start=0&fmt=json&q=id%3AA000045'>https://oeis.org/search?start=0&fmt=json&q=id%3AA000045</a>_<br><hr><div align='center'><b><a href='http://oeis.org/A000045'>A000045</a></b>: <i>Fibonacci numbers: F(n) = F(n-1) + F(n-2) with F(0) = 0 and F(1) = 1.</i><br></div>\n",
       "\n",
       "by _N. J. A. Sloane_, 1964\n",
       "\n",
       "_Keywords_: `core,nonn,nice,easy,hear`\n",
       "\n",
       "_Data_:\n",
       "\n",
       "$$\n",
       "\\begin{array}{c|cccccccccccccccccccc}\n",
       "n & 0 & 1 & 2 & 3 & 4 & 5 & 6 & 7 & 8 & 9 & 10 & 11 & 12 & 13 & 14 & 15 & 16 & 17 & 18 & 19 \\\\\n",
       "\\hline\n",
       "A000045(n) & 0 & 1 & 1 & 2 & 3 & 5 & 8 & 13 & 21 & 34 & 55 & 89 & 144 & 233 & 377 & 610 & 987 & 1597 & 2584 & 4181\n",
       "\\end{array}\n",
       "$$\n"
      ],
      "text/plain": [
       "<IPython.core.display.Markdown object>"
      ]
     },
     "execution_count": 32,
     "metadata": {},
     "output_type": "execute_result"
    }
   ],
   "source": [
    "s = oeis_search(id=45)\n",
    "s(data_only=True, data_representation=ListData(offset=0, upper_limit=20))"
   ]
  },
  {
   "cell_type": "markdown",
   "metadata": {},
   "source": [
    "# Recurrence"
   ]
  },
  {
   "cell_type": "markdown",
   "metadata": {},
   "source": [
    "## Spec\n",
    "\n",
    "In this section we define the classic recurrence for the sequence of Fibonacci numbers, using on the `lhs` subscript that makes sense for all $n\\in\\mathbb{N}$."
   ]
  },
  {
   "cell_type": "code",
   "execution_count": 3,
   "metadata": {
    "collapsed": false
   },
   "outputs": [],
   "source": [
    "with bind(IndexedBase('f'), single=True) as f:\n",
    "    fibonacci_rec_spec = recurrence_spec(recurrence_eq=Eq(f[n+2],f[n+1]+f[n]), recurrence_symbol=f, variables=[n])"
   ]
  },
  {
   "cell_type": "code",
   "execution_count": 4,
   "metadata": {
    "collapsed": false
   },
   "outputs": [
    {
     "data": {
      "text/html": [
       "$\\left(\\Theta, \\Gamma\\right)_{n}^{f}$ where: <br><ul><li>$\\Theta = \\left\\{ f_{n + 2} = f_{n} + f_{n + 1} \\right\\}$</li><li>$\\Gamma = \\left\\{\\begin{array}{c}\\end{array}\\right\\}$</li></ul>"
      ],
      "text/plain": [
       "<__main__.recurrence_spec at 0x6ee35690>"
      ]
     },
     "execution_count": 4,
     "metadata": {},
     "output_type": "execute_result"
    }
   ],
   "source": [
    "fibonacci_rec_spec"
   ]
  },
  {
   "cell_type": "markdown",
   "metadata": {},
   "source": [
    "## Unfolding"
   ]
  },
  {
   "cell_type": "code",
   "execution_count": 55,
   "metadata": {
    "collapsed": false
   },
   "outputs": [],
   "source": [
    "unfolded = fibonacci_rec_spec.unfold(depth=5)"
   ]
  },
  {
   "cell_type": "code",
   "execution_count": 56,
   "metadata": {
    "collapsed": false
   },
   "outputs": [
    {
     "data": {
      "text/html": [
       "$\\left(\\Theta, \\Gamma\\right)_{n}^{f}$ where: <br><ul><li>$\\Theta = \\left\\{ f_{n + 2} = f_{n - 10} + 6 f_{n - 9} + 15 f_{n - 8} + 20 f_{n - 7} + 15 f_{n - 6} + 6 f_{n - 5} + f_{n - 4} \\right\\}$</li><li>$\\Gamma = \\left\\{\\begin{array}{c}f_{n - 8} = f_{n - 10} + f_{n - 9}\\\\f_{n - 7} = f_{n - 9} + f_{n - 8}\\\\f_{n - 6} = f_{n - 8} + f_{n - 7}\\\\f_{n - 5} = f_{n - 7} + f_{n - 6}\\\\f_{n - 4} = f_{n - 6} + f_{n - 5}\\\\f_{n - 3} = f_{n - 5} + f_{n - 4}\\\\f_{n - 2} = f_{n - 4} + f_{n - 3}\\\\f_{n - 1} = f_{n - 3} + f_{n - 2}\\\\f_{n} = f_{n - 2} + f_{n - 1}\\\\f_{n + 1} = f_{n} + f_{n - 1}\\end{array}\\right\\}$</li></ul>"
      ],
      "text/plain": [
       "<__main__.recurrence_spec at 0x6ea26510>"
      ]
     },
     "execution_count": 56,
     "metadata": {},
     "output_type": "execute_result"
    }
   ],
   "source": [
    "unfolded"
   ]
  },
  {
   "cell_type": "markdown",
   "metadata": {},
   "source": [
    "## Involution"
   ]
  },
  {
   "cell_type": "code",
   "execution_count": 13,
   "metadata": {
    "collapsed": false
   },
   "outputs": [
    {
     "data": {
      "text/html": [
       "$\\left(\\Theta, \\Gamma\\right)_{n}^{f}$ where: <br><ul><li>$\\Theta = \\left\\{ f_{n + 2} = 16 f_{n - 10} + 41 f_{n - 9} + 35 f_{n - 8} + 21 f_{n - 7} + 7 f_{n - 6} + f_{n - 5} \\right\\}$</li><li>$\\Gamma = \\left\\{\\begin{array}{c}f_{n - 8} = f_{n - 10} + f_{n - 9}\\\\f_{n - 7} = f_{n - 9} + f_{n - 8}\\\\f_{n - 6} = f_{n - 8} + f_{n - 7}\\\\f_{n - 5} = f_{n - 7} + f_{n - 6}\\\\f_{n - 4} = f_{n - 6} + f_{n - 5}\\\\f_{n - 3} = f_{n - 5} + f_{n - 4}\\\\f_{n - 2} = f_{n - 4} + f_{n - 3}\\\\f_{n - 1} = f_{n - 3} + f_{n - 2}\\\\f_{n} = f_{n - 2} + f_{n - 1}\\\\f_{n + 1} = f_{n} + f_{n - 1}\\end{array}\\right\\}$</li></ul>"
      ],
      "text/plain": [
       "<__main__.recurrence_spec at 0x6ed91e10>"
      ]
     },
     "execution_count": 13,
     "metadata": {},
     "output_type": "execute_result"
    }
   ],
   "source": [
    "unfolded.involute(depth=1)"
   ]
  },
  {
   "cell_type": "code",
   "execution_count": 14,
   "metadata": {
    "collapsed": false
   },
   "outputs": [
    {
     "data": {
      "text/html": [
       "$\\left(\\Theta, \\Gamma\\right)_{n}^{f}$ where: <br><ul><li>$\\Theta = \\left\\{ f_{n + 2} = 89 f_{n - 10} + 144 f_{n - 9} \\right\\}$</li><li>$\\Gamma = \\left\\{\\begin{array}{c}f_{n - 8} = f_{n - 10} + f_{n - 9}\\\\f_{n - 7} = f_{n - 9} + f_{n - 8}\\\\f_{n - 6} = f_{n - 8} + f_{n - 7}\\\\f_{n - 5} = f_{n - 7} + f_{n - 6}\\\\f_{n - 4} = f_{n - 6} + f_{n - 5}\\\\f_{n - 3} = f_{n - 5} + f_{n - 4}\\\\f_{n - 2} = f_{n - 4} + f_{n - 3}\\\\f_{n - 1} = f_{n - 3} + f_{n - 2}\\\\f_{n} = f_{n - 2} + f_{n - 1}\\\\f_{n + 1} = f_{n} + f_{n - 1}\\end{array}\\right\\}$</li></ul>"
      ],
      "text/plain": [
       "<__main__.recurrence_spec at 0x6eda0ab0>"
      ]
     },
     "execution_count": 14,
     "metadata": {},
     "output_type": "execute_result"
    }
   ],
   "source": [
    "unfolded.involute()"
   ]
  },
  {
   "cell_type": "markdown",
   "metadata": {},
   "source": [
    "## Subsuming"
   ]
  },
  {
   "cell_type": "code",
   "execution_count": 57,
   "metadata": {
    "collapsed": false
   },
   "outputs": [],
   "source": [
    "subsumed=unfolded.subsume()"
   ]
  },
  {
   "cell_type": "code",
   "execution_count": 58,
   "metadata": {
    "collapsed": false
   },
   "outputs": [
    {
     "data": {
      "text/html": [
       "$\\left(\\Theta, \\Gamma\\right)_{n}^{f}$ where: <br><ul><li>$\\Theta = \\left\\{ f_{n + 2} = f_{n - 10} + 6 f_{n - 9} + 15 f_{n - 8} + 20 f_{n - 7} + 15 f_{n - 6} + 6 f_{n - 5} + f_{n - 4} \\right\\}$</li><li>$\\Gamma = \\left\\{\\begin{array}{c}f_{n - 8} = f_{n - 10} + f_{n - 9}\\\\f_{n - 7} = f_{n - 10} + 2 f_{n - 9}\\\\f_{n - 6} = 2 f_{n - 10} + 3 f_{n - 9}\\\\f_{n - 5} = 3 f_{n - 10} + 5 f_{n - 9}\\\\f_{n - 4} = 5 f_{n - 10} + 8 f_{n - 9}\\\\f_{n - 3} = 8 f_{n - 10} + 13 f_{n - 9}\\\\f_{n - 2} = 13 f_{n - 10} + 21 f_{n - 9}\\\\f_{n - 1} = 21 f_{n - 10} + 34 f_{n - 9}\\\\f_{n} = 34 f_{n - 10} + 55 f_{n - 9}\\\\f_{n + 1} = 55 f_{n - 10} + 89 f_{n - 9}\\end{array}\\right\\}$</li></ul>"
      ],
      "text/plain": [
       "<__main__.recurrence_spec at 0x6ea52f30>"
      ]
     },
     "execution_count": 58,
     "metadata": {},
     "output_type": "execute_result"
    }
   ],
   "source": [
    "subsumed"
   ]
  },
  {
   "cell_type": "markdown",
   "metadata": {},
   "source": [
    "## Substitution"
   ]
  },
  {
   "cell_type": "code",
   "execution_count": 17,
   "metadata": {
    "collapsed": false
   },
   "outputs": [
    {
     "data": {
      "text/latex": [
       "$$\\left \\{ 1 : f_{2}, \\quad 2 : f_{3}, \\quad 3 : f_{4}, \\quad 5 : f_{5}, \\quad 8 : f_{6}, \\quad 13 : f_{7}, \\quad 21 : f_{8}, \\quad 34 : f_{9}, \\quad 55 : f_{10}, \\quad 89 : f_{11}, \\quad 144 : f_{12}, \\quad 233 : f_{13}, \\quad 377 : f_{14}, \\quad 610 : f_{15}, \\quad 987 : f_{16}, \\quad 1597 : f_{17}, \\quad 2584 : f_{18}, \\quad 4181 : f_{19}\\right \\}$$"
      ],
      "text/plain": [
       "{1: f[2], 2: f[3], 3: f[4], 5: f[5], 8: f[6], 13: f[7], 21: f[8], 34: f[9], 55\n",
       ": f[10], 89: f[11], 144: f[12], 233: f[13], 377: f[14], 610: f[15], 987: f[16]\n",
       ", 1597: f[17], 2584: f[18], 4181: f[19]}"
      ]
     },
     "execution_count": 17,
     "metadata": {},
     "output_type": "execute_result"
    }
   ],
   "source": [
    "im=knowledge.fibonacci_numbers_inverted_mapping(start=2, limit=20)\n",
    "im"
   ]
  },
  {
   "cell_type": "code",
   "execution_count": 18,
   "metadata": {
    "collapsed": false
   },
   "outputs": [
    {
     "data": {
      "text/html": [
       "$\\left(\\Theta, \\Gamma\\right)_{n}^{f}$ where: <br><ul><li>$\\Theta = \\left\\{ f_{n + 2} = f_{n - 10} + 6 f_{n - 9} + 15 f_{n - 8} + 20 f_{n - 7} + 15 f_{n - 6} + 6 f_{n - 5} + f_{n - 4} \\right\\}$</li><li>$\\Gamma = \\left\\{\\begin{array}{c}f_{n - 8} = f_{n - 10} + f_{n - 9}\\\\f_{n - 7} = f_{3} f_{n - 9} + f_{n - 10}\\\\f_{n - 6} = f_{3} f_{n - 10} + f_{4} f_{n - 9}\\\\f_{n - 5} = f_{4} f_{n - 10} + f_{5} f_{n - 9}\\\\f_{n - 4} = f_{5} f_{n - 10} + f_{6} f_{n - 9}\\\\f_{n - 3} = f_{6} f_{n - 10} + f_{7} f_{n - 9}\\\\f_{n - 2} = f_{7} f_{n - 10} + f_{8} f_{n - 9}\\\\f_{n - 1} = f_{8} f_{n - 10} + f_{9} f_{n - 9}\\\\f_{n} = f_{9} f_{n - 10} + f_{10} f_{n - 9}\\\\f_{n + 1} = f_{10} f_{n - 10} + f_{11} f_{n - 9}\\end{array}\\right\\}$</li></ul>"
      ],
      "text/plain": [
       "<__main__.recurrence_spec at 0x6ed91a10>"
      ]
     },
     "execution_count": 18,
     "metadata": {},
     "output_type": "execute_result"
    }
   ],
   "source": [
    "subsumed.subs(im)"
   ]
  },
  {
   "cell_type": "markdown",
   "metadata": {},
   "source": [
    "## Instantiation"
   ]
  },
  {
   "cell_type": "markdown",
   "metadata": {},
   "source": [
    "### Raw"
   ]
  },
  {
   "cell_type": "code",
   "execution_count": 19,
   "metadata": {
    "collapsed": false
   },
   "outputs": [
    {
     "data": {
      "text/html": [
       "$\\left(\\Theta, \\Gamma\\right)_{n}^{f}$ where: <br><ul><li>$\\Theta = \\left\\{ f_{22} = f_{10} + 6 f_{11} + 15 f_{12} + 20 f_{13} + 15 f_{14} + 6 f_{15} + f_{16} \\right\\}$</li><li>$\\Gamma = \\left\\{\\begin{array}{c}f_{12} = f_{10} + f_{11}\\\\f_{13} = f_{11} + f_{12}\\\\f_{14} = f_{12} + f_{13}\\\\f_{15} = f_{13} + f_{14}\\\\f_{16} = f_{14} + f_{15}\\\\f_{17} = f_{15} + f_{16}\\\\f_{18} = f_{16} + f_{17}\\\\f_{19} = f_{17} + f_{18}\\\\f_{20} = f_{18} + f_{19}\\\\f_{21} = f_{19} + f_{20}\\end{array}\\right\\}$</li></ul>"
      ],
      "text/plain": [
       "<__main__.recurrence_spec at 0x6ed55f10>"
      ]
     },
     "execution_count": 19,
     "metadata": {},
     "output_type": "execute_result"
    }
   ],
   "source": [
    "unfolded.instantiate(strategy=raw(substitutions={n:20}))"
   ]
  },
  {
   "cell_type": "markdown",
   "metadata": {},
   "source": [
    "### Based"
   ]
  },
  {
   "cell_type": "code",
   "execution_count": 20,
   "metadata": {
    "collapsed": false
   },
   "outputs": [],
   "source": [
    "instantiated = unfolded.instantiate(strategy=based(arity=unary_indexed()))"
   ]
  },
  {
   "cell_type": "code",
   "execution_count": 21,
   "metadata": {
    "collapsed": false
   },
   "outputs": [
    {
     "data": {
      "text/html": [
       "$\\left(\\Theta, \\Gamma\\right)_{n}^{f}$ where: <br><ul><li>$\\Theta = \\left\\{ f_{12} = f_{0} + 6 f_{1} + 15 f_{2} + 20 f_{3} + 15 f_{4} + 6 f_{5} + f_{6} \\right\\}$</li><li>$\\Gamma = \\left\\{\\begin{array}{c}f_{2} = f_{0} + f_{1}\\\\f_{3} = f_{1} + f_{2}\\\\f_{4} = f_{2} + f_{3}\\\\f_{5} = f_{3} + f_{4}\\\\f_{6} = f_{4} + f_{5}\\\\f_{7} = f_{5} + f_{6}\\\\f_{8} = f_{6} + f_{7}\\\\f_{9} = f_{7} + f_{8}\\\\f_{10} = f_{8} + f_{9}\\\\f_{11} = f_{9} + f_{10}\\end{array}\\right\\}$</li></ul>"
      ],
      "text/plain": [
       "<__main__.recurrence_spec at 0x6ed55dd0>"
      ]
     },
     "execution_count": 21,
     "metadata": {},
     "output_type": "execute_result"
    }
   ],
   "source": [
    "instantiated"
   ]
  },
  {
   "cell_type": "markdown",
   "metadata": {},
   "source": [
    "## Computing"
   ]
  },
  {
   "cell_type": "code",
   "execution_count": 22,
   "metadata": {
    "collapsed": false
   },
   "outputs": [
    {
     "data": {
      "text/html": [
       "$\\left(\\Theta, \\Gamma\\right)_{n}^{f}$ where: <br><ul><li>$\\Theta = \\left\\{ f_{12} = f_{0} + 6 f_{1} + 15 f_{2} + 20 f_{3} + 15 f_{4} + 6 f_{5} + f_{6} \\right\\}$</li><li>$\\Gamma = \\left\\{\\begin{array}{c}f_{0} = 1\\\\f_{1} = 1\\\\f_{2} = 2\\\\f_{3} = 3\\\\f_{4} = 5\\\\f_{5} = 8\\\\f_{6} = 13\\\\f_{7} = 21\\\\f_{8} = 34\\\\f_{9} = 55\\\\f_{10} = 89\\\\f_{11} = 144\\end{array}\\right\\}$</li></ul>"
      ],
      "text/plain": [
       "<__main__.recurrence_spec at 0x6ecc87b0>"
      ]
     },
     "execution_count": 22,
     "metadata": {},
     "output_type": "execute_result"
    }
   ],
   "source": [
    "almost_valued = instantiated.subsume(additional_terms={f[0]:Integer(0), f[1]:Integer(1)})\n",
    "almost_valued"
   ]
  },
  {
   "cell_type": "code",
   "execution_count": 24,
   "metadata": {
    "collapsed": false
   },
   "outputs": [
    {
     "data": {
      "text/html": [
       "$\\left(\\Theta, \\Gamma\\right)_{n}^{f}$ where: <br><ul><li>$\\Theta = \\left\\{ f_{12} = 233 \\right\\}$</li><li>$\\Gamma = \\left\\{\\begin{array}{c}f_{0} = 1\\\\f_{1} = 1\\\\f_{2} = 2\\\\f_{3} = 3\\\\f_{4} = 5\\\\f_{5} = 8\\\\f_{6} = 13\\\\f_{7} = 21\\\\f_{8} = 34\\\\f_{9} = 55\\\\f_{10} = 89\\\\f_{11} = 144\\end{array}\\right\\}$</li></ul>"
      ],
      "text/plain": [
       "<__main__.recurrence_spec at 0x6ecc8bb0>"
      ]
     },
     "execution_count": 24,
     "metadata": {},
     "output_type": "execute_result"
    }
   ],
   "source": [
    "almost_valued.involute()"
   ]
  },
  {
   "cell_type": "markdown",
   "metadata": {},
   "source": [
    "## Collecting"
   ]
  },
  {
   "cell_type": "code",
   "execution_count": 8,
   "metadata": {
    "collapsed": false
   },
   "outputs": [
    {
     "data": {
      "text/latex": [
       "\\begin{array}{c}f_{2} = f_{0} + f_{1}\\\\\n",
       "f_{4} = f_{0} + 2 f_{1} + f_{2}\\\\\n",
       "f_{6} = f_{0} + 3 f_{1} + 3 f_{2} + f_{3}\\\\\n",
       "f_{8} = f_{0} + 4 f_{1} + 6 f_{2} + 4 f_{3} + f_{4}\\\\\n",
       "f_{10} = f_{0} + 5 f_{1} + 10 f_{2} + 10 f_{3} + 5 f_{4} + f_{5}\\\\\n",
       "f_{12} = f_{0} + 6 f_{1} + 15 f_{2} + 20 f_{3} + 15 f_{4} + 6 f_{5} + f_{6}\\\\\n",
       "f_{14} = f_{0} + 7 f_{1} + 21 f_{2} + 35 f_{3} + 35 f_{4} + 21 f_{5} + 7 f_{6} + f_{7}\\\\\n",
       "f_{16} = f_{0} + 8 f_{1} + 28 f_{2} + 56 f_{3} + 70 f_{4} + 56 f_{5} + 28 f_{6} + 8 f_{7} + f_{8}\\\\\n",
       "f_{18} = f_{0} + 9 f_{1} + 36 f_{2} + 84 f_{3} + 126 f_{4} + 126 f_{5} + 84 f_{6} + 36 f_{7} + 9 f_{8} + f_{9}\\\\\n",
       "f_{20} = f_{0} + 10 f_{1} + 45 f_{2} + 120 f_{3} + 210 f_{4} + 252 f_{5} + 210 f_{6} + 120 f_{7} + 45 f_{8} + 10 f_{9} + f_{10}\\\\\n",
       "f_{22} = f_{0} + 11 f_{1} + 55 f_{2} + 165 f_{3} + 330 f_{4} + 462 f_{5} + 462 f_{6} + 330 f_{7} + 165 f_{8} + 55 f_{9} + 11 f_{10} + f_{11}\\\\\n",
       "f_{24} = f_{0} + 12 f_{1} + 66 f_{2} + 220 f_{3} + 495 f_{4} + 792 f_{5} + 924 f_{6} + 792 f_{7} + 495 f_{8} + 220 f_{9} + 66 f_{10} + 12 f_{11} + f_{12}\\\\\n",
       "f_{26} = f_{0} + 13 f_{1} + 78 f_{2} + 286 f_{3} + 715 f_{4} + 1287 f_{5} + 1716 f_{6} + 1716 f_{7} + 1287 f_{8} + 715 f_{9} + 286 f_{10} + 78 f_{11} + 13 f_{12} + f_{13}\\\\\\end{array}"
      ],
      "text/plain": [
       "<IPython.core.display.Latex object>"
      ]
     },
     "execution_count": 8,
     "metadata": {},
     "output_type": "execute_result"
    }
   ],
   "source": [
    "ipython_latex_description(fibonacci_rec_spec, depths=range(13), arity=unary_indexed())"
   ]
  },
  {
   "cell_type": "markdown",
   "metadata": {},
   "source": [
    "### Spec as symbolic matrix-vector product"
   ]
  },
  {
   "cell_type": "code",
   "execution_count": 4,
   "metadata": {
    "collapsed": false
   },
   "outputs": [],
   "source": [
    "m, v, r, eqs = fibonacci_rec_spec.matrix_vector_product(depth=10, arity=unary_indexed(), \n",
    "                                                        segment=[n-k for k in range(-2, 19)])"
   ]
  },
  {
   "cell_type": "code",
   "execution_count": 5,
   "metadata": {
    "collapsed": false
   },
   "outputs": [
    {
     "data": {
      "text/latex": [
       "\\begin{array}{c} f_{n + 2} = f_{n + 2}\\\\f_{n + 2} = f_{n} + f_{n + 1}\\\\f_{n + 2} = f_{n} + f_{n - 2} + 2 f_{n - 1}\\\\f_{n + 2} = f_{n - 4} + 3 f_{n - 3} + 3 f_{n - 2} + f_{n - 1}\\\\f_{n + 2} = f_{n - 6} + 4 f_{n - 5} + 6 f_{n - 4} + 4 f_{n - 3} + f_{n - 2}\\\\f_{n + 2} = f_{n - 8} + 5 f_{n - 7} + 10 f_{n - 6} + 10 f_{n - 5} + 5 f_{n - 4} + f_{n - 3}\\\\f_{n + 2} = f_{n - 10} + 6 f_{n - 9} + 15 f_{n - 8} + 20 f_{n - 7} + 15 f_{n - 6} + 6 f_{n - 5} + f_{n - 4}\\\\f_{n + 2} = f_{n - 12} + 7 f_{n - 11} + 21 f_{n - 10} + 35 f_{n - 9} + 35 f_{n - 8} + 21 f_{n - 7} + 7 f_{n - 6} + f_{n - 5}\\\\f_{n + 2} = f_{n - 14} + 8 f_{n - 13} + 28 f_{n - 12} + 56 f_{n - 11} + 70 f_{n - 10} + 56 f_{n - 9} + 28 f_{n - 8} + 8 f_{n - 7} + f_{n - 6}\\\\f_{n + 2} = f_{n - 16} + 9 f_{n - 15} + 36 f_{n - 14} + 84 f_{n - 13} + 126 f_{n - 12} + 126 f_{n - 11} + 84 f_{n - 10} + 36 f_{n - 9} + 9 f_{n - 8} + f_{n - 7}\\\\f_{n + 2} = f_{n - 18} + 10 f_{n - 17} + 45 f_{n - 16} + 120 f_{n - 15} + 210 f_{n - 14} + 252 f_{n - 13} + 210 f_{n - 12} + 120 f_{n - 11} + 45 f_{n - 10} + 10 f_{n - 9} + f_{n - 8} \\end{array}"
      ],
      "text/plain": [
       "<IPython.core.display.Latex object>"
      ]
     },
     "execution_count": 5,
     "metadata": {},
     "output_type": "execute_result"
    }
   ],
   "source": [
    "latex_array_src(eqs)"
   ]
  },
  {
   "cell_type": "code",
   "execution_count": 6,
   "metadata": {
    "collapsed": false
   },
   "outputs": [
    {
     "data": {
      "text/latex": [
       "$$\\left ( \\left[\\begin{array}{ccccccccccccccccccccc}1 & 0 & 0 & 0 & 0 & 0 & 0 & 0 & 0 & 0 & 0 & 0 & 0 & 0 & 0 & 0 & 0 & 0 & 0 & 0 & 0\\\\0 & 1 & 1 & 0 & 0 & 0 & 0 & 0 & 0 & 0 & 0 & 0 & 0 & 0 & 0 & 0 & 0 & 0 & 0 & 0 & 0\\\\0 & 0 & 1 & 2 & 1 & 0 & 0 & 0 & 0 & 0 & 0 & 0 & 0 & 0 & 0 & 0 & 0 & 0 & 0 & 0 & 0\\\\0 & 0 & 0 & 1 & 3 & 3 & 1 & 0 & 0 & 0 & 0 & 0 & 0 & 0 & 0 & 0 & 0 & 0 & 0 & 0 & 0\\\\0 & 0 & 0 & 0 & 1 & 4 & 6 & 4 & 1 & 0 & 0 & 0 & 0 & 0 & 0 & 0 & 0 & 0 & 0 & 0 & 0\\\\0 & 0 & 0 & 0 & 0 & 1 & 5 & 10 & 10 & 5 & 1 & 0 & 0 & 0 & 0 & 0 & 0 & 0 & 0 & 0 & 0\\\\0 & 0 & 0 & 0 & 0 & 0 & 1 & 6 & 15 & 20 & 15 & 6 & 1 & 0 & 0 & 0 & 0 & 0 & 0 & 0 & 0\\\\0 & 0 & 0 & 0 & 0 & 0 & 0 & 1 & 7 & 21 & 35 & 35 & 21 & 7 & 1 & 0 & 0 & 0 & 0 & 0 & 0\\\\0 & 0 & 0 & 0 & 0 & 0 & 0 & 0 & 1 & 8 & 28 & 56 & 70 & 56 & 28 & 8 & 1 & 0 & 0 & 0 & 0\\\\0 & 0 & 0 & 0 & 0 & 0 & 0 & 0 & 0 & 1 & 9 & 36 & 84 & 126 & 126 & 84 & 36 & 9 & 1 & 0 & 0\\\\0 & 0 & 0 & 0 & 0 & 0 & 0 & 0 & 0 & 0 & 1 & 10 & 45 & 120 & 210 & 252 & 210 & 120 & 45 & 10 & 1\\end{array}\\right], \\quad \\left[\\begin{matrix}f_{n + 2}\\\\f_{n + 1}\\\\f_{n}\\\\f_{n - 1}\\\\f_{n - 2}\\\\f_{n - 3}\\\\f_{n - 4}\\\\f_{n - 5}\\\\f_{n - 6}\\\\f_{n - 7}\\\\f_{n - 8}\\\\f_{n - 9}\\\\f_{n - 10}\\\\f_{n - 11}\\\\f_{n - 12}\\\\f_{n - 13}\\\\f_{n - 14}\\\\f_{n - 15}\\\\f_{n - 16}\\\\f_{n - 17}\\\\f_{n - 18}\\end{matrix}\\right], \\quad \\left[\\begin{matrix}f_{n + 2}\\\\f_{n + 2}\\\\f_{n + 2}\\\\f_{n + 2}\\\\f_{n + 2}\\\\f_{n + 2}\\\\f_{n + 2}\\\\f_{n + 2}\\\\f_{n + 2}\\\\f_{n + 2}\\\\f_{n + 2}\\end{matrix}\\right]\\right )$$"
      ],
      "text/plain": [
       "⎛⎡1  0  0  0  0  0  0  0   0   0   0   0   0    0    0    0    0    0   0   0 \n",
       "⎜⎢                                                                            \n",
       "⎜⎢0  1  1  0  0  0  0  0   0   0   0   0   0    0    0    0    0    0   0   0 \n",
       "⎜⎢                                                                            \n",
       "⎜⎢0  0  1  2  1  0  0  0   0   0   0   0   0    0    0    0    0    0   0   0 \n",
       "⎜⎢                                                                            \n",
       "⎜⎢0  0  0  1  3  3  1  0   0   0   0   0   0    0    0    0    0    0   0   0 \n",
       "⎜⎢                                                                            \n",
       "⎜⎢0  0  0  0  1  4  6  4   1   0   0   0   0    0    0    0    0    0   0   0 \n",
       "⎜⎢                                                                            \n",
       "⎜⎢0  0  0  0  0  1  5  10  10  5   1   0   0    0    0    0    0    0   0   0 \n",
       "⎜⎢                                                                            \n",
       "⎜⎢0  0  0  0  0  0  1  6   15  20  15  6   1    0    0    0    0    0   0   0 \n",
       "⎜⎢                                                                            \n",
       "⎜⎢0  0  0  0  0  0  0  1   7   21  35  35  21   7    1    0    0    0   0   0 \n",
       "⎜⎢                                                                            \n",
       "⎜⎢0  0  0  0  0  0  0  0   1   8   28  56  70  56   28    8    1    0   0   0 \n",
       "⎜⎢                                                                            \n",
       "⎜⎢0  0  0  0  0  0  0  0   0   1   9   36  84  126  126  84   36    9   1   0 \n",
       "⎜⎢                                                                            \n",
       "⎜⎣0  0  0  0  0  0  0  0   0   0   1   10  45  120  210  252  210  120  45  10\n",
       "⎜                                                                             \n",
       "⎜                                                                             \n",
       "⎜                                                                             \n",
       "⎜                                                                             \n",
       "⎜                                                                             \n",
       "⎜                                                                             \n",
       "⎜                                                                             \n",
       "⎜                                                                             \n",
       "⎜                                                                             \n",
       "⎜                                                                             \n",
       "⎜                                                                             \n",
       "⎜                                                                             \n",
       "⎜                                                                             \n",
       "⎜                                                                             \n",
       "⎜                                                                             \n",
       "⎜                                                                             \n",
       "⎜                                                                             \n",
       "⎜                                                                             \n",
       "⎜                                                                             \n",
       "⎝                                                                             \n",
       "\n",
       "  0⎤, ⎡f[n + 2] ⎤, ⎡f[n + 2]⎤⎞\n",
       "   ⎥  ⎢         ⎥  ⎢        ⎥⎟\n",
       "  0⎥  ⎢f[n + 1] ⎥  ⎢f[n + 2]⎥⎟\n",
       "   ⎥  ⎢         ⎥  ⎢        ⎥⎟\n",
       "  0⎥  ⎢  f[n]   ⎥  ⎢f[n + 2]⎥⎟\n",
       "   ⎥  ⎢         ⎥  ⎢        ⎥⎟\n",
       "  0⎥  ⎢f[n - 1] ⎥  ⎢f[n + 2]⎥⎟\n",
       "   ⎥  ⎢         ⎥  ⎢        ⎥⎟\n",
       "  0⎥  ⎢f[n - 2] ⎥  ⎢f[n + 2]⎥⎟\n",
       "   ⎥  ⎢         ⎥  ⎢        ⎥⎟\n",
       "  0⎥  ⎢f[n - 3] ⎥  ⎢f[n + 2]⎥⎟\n",
       "   ⎥  ⎢         ⎥  ⎢        ⎥⎟\n",
       "  0⎥  ⎢f[n - 4] ⎥  ⎢f[n + 2]⎥⎟\n",
       "   ⎥  ⎢         ⎥  ⎢        ⎥⎟\n",
       "  0⎥  ⎢f[n - 5] ⎥  ⎢f[n + 2]⎥⎟\n",
       "   ⎥  ⎢         ⎥  ⎢        ⎥⎟\n",
       "  0⎥  ⎢f[n - 6] ⎥  ⎢f[n + 2]⎥⎟\n",
       "   ⎥  ⎢         ⎥  ⎢        ⎥⎟\n",
       "  0⎥  ⎢f[n - 7] ⎥  ⎢f[n + 2]⎥⎟\n",
       "   ⎥  ⎢         ⎥  ⎢        ⎥⎟\n",
       "  1⎦  ⎢f[n - 8] ⎥  ⎣f[n + 2]⎦⎟\n",
       "      ⎢         ⎥            ⎟\n",
       "      ⎢f[n - 9] ⎥            ⎟\n",
       "      ⎢         ⎥            ⎟\n",
       "      ⎢f[n - 10]⎥            ⎟\n",
       "      ⎢         ⎥            ⎟\n",
       "      ⎢f[n - 11]⎥            ⎟\n",
       "      ⎢         ⎥            ⎟\n",
       "      ⎢f[n - 12]⎥            ⎟\n",
       "      ⎢         ⎥            ⎟\n",
       "      ⎢f[n - 13]⎥            ⎟\n",
       "      ⎢         ⎥            ⎟\n",
       "      ⎢f[n - 14]⎥            ⎟\n",
       "      ⎢         ⎥            ⎟\n",
       "      ⎢f[n - 15]⎥            ⎟\n",
       "      ⎢         ⎥            ⎟\n",
       "      ⎢f[n - 16]⎥            ⎟\n",
       "      ⎢         ⎥            ⎟\n",
       "      ⎢f[n - 17]⎥            ⎟\n",
       "      ⎢         ⎥            ⎟\n",
       "      ⎣f[n - 18]⎦            ⎠"
      ]
     },
     "execution_count": 6,
     "metadata": {},
     "output_type": "execute_result"
    }
   ],
   "source": [
    "m, v, r"
   ]
  },
  {
   "cell_type": "markdown",
   "metadata": {},
   "source": [
    "### Spec as based matrix-vector product"
   ]
  },
  {
   "cell_type": "code",
   "execution_count": 5,
   "metadata": {
    "collapsed": false
   },
   "outputs": [],
   "source": [
    "m, v, r, eqs = fibonacci_rec_spec.matrix_vector_product(depth=10, arity=unary_indexed(), \n",
    "                                                        segment=[Integer(k) for k in range(0, 11)],\n",
    "                                                        based_instantiation=True)"
   ]
  },
  {
   "cell_type": "code",
   "execution_count": 6,
   "metadata": {
    "collapsed": false
   },
   "outputs": [
    {
     "data": {
      "text/latex": [
       "\\begin{array}{c} f_{0} = f_{0}\\\\f_{2} = f_{0} + f_{1}\\\\f_{4} = f_{0} + 2 f_{1} + f_{2}\\\\f_{6} = f_{0} + 3 f_{1} + 3 f_{2} + f_{3}\\\\f_{8} = f_{0} + 4 f_{1} + 6 f_{2} + 4 f_{3} + f_{4}\\\\f_{10} = f_{0} + 5 f_{1} + 10 f_{2} + 10 f_{3} + 5 f_{4} + f_{5}\\\\f_{12} = f_{0} + 6 f_{1} + 15 f_{2} + 20 f_{3} + 15 f_{4} + 6 f_{5} + f_{6}\\\\f_{14} = f_{0} + 7 f_{1} + 21 f_{2} + 35 f_{3} + 35 f_{4} + 21 f_{5} + 7 f_{6} + f_{7}\\\\f_{16} = f_{0} + 8 f_{1} + 28 f_{2} + 56 f_{3} + 70 f_{4} + 56 f_{5} + 28 f_{6} + 8 f_{7} + f_{8}\\\\f_{18} = f_{0} + 9 f_{1} + 36 f_{2} + 84 f_{3} + 126 f_{4} + 126 f_{5} + 84 f_{6} + 36 f_{7} + 9 f_{8} + f_{9}\\\\f_{20} = f_{0} + 10 f_{1} + 45 f_{2} + 120 f_{3} + 210 f_{4} + 252 f_{5} + 210 f_{6} + 120 f_{7} + 45 f_{8} + 10 f_{9} + f_{10} \\end{array}"
      ],
      "text/plain": [
       "<IPython.core.display.Latex object>"
      ]
     },
     "execution_count": 6,
     "metadata": {},
     "output_type": "execute_result"
    }
   ],
   "source": [
    "latex_array_src(eqs)"
   ]
  },
  {
   "cell_type": "code",
   "execution_count": 7,
   "metadata": {
    "collapsed": false
   },
   "outputs": [
    {
     "data": {
      "text/latex": [
       "$$\\left ( \\left[\\begin{array}{ccccccccccc}1 & 0 & 0 & 0 & 0 & 0 & 0 & 0 & 0 & 0 & 0\\\\1 & 1 & 0 & 0 & 0 & 0 & 0 & 0 & 0 & 0 & 0\\\\1 & 2 & 1 & 0 & 0 & 0 & 0 & 0 & 0 & 0 & 0\\\\1 & 3 & 3 & 1 & 0 & 0 & 0 & 0 & 0 & 0 & 0\\\\1 & 4 & 6 & 4 & 1 & 0 & 0 & 0 & 0 & 0 & 0\\\\1 & 5 & 10 & 10 & 5 & 1 & 0 & 0 & 0 & 0 & 0\\\\1 & 6 & 15 & 20 & 15 & 6 & 1 & 0 & 0 & 0 & 0\\\\1 & 7 & 21 & 35 & 35 & 21 & 7 & 1 & 0 & 0 & 0\\\\1 & 8 & 28 & 56 & 70 & 56 & 28 & 8 & 1 & 0 & 0\\\\1 & 9 & 36 & 84 & 126 & 126 & 84 & 36 & 9 & 1 & 0\\\\1 & 10 & 45 & 120 & 210 & 252 & 210 & 120 & 45 & 10 & 1\\end{array}\\right], \\quad \\left[\\begin{matrix}f_{0}\\\\f_{1}\\\\f_{2}\\\\f_{3}\\\\f_{4}\\\\f_{5}\\\\f_{6}\\\\f_{7}\\\\f_{8}\\\\f_{9}\\\\f_{10}\\end{matrix}\\right], \\quad \\left[\\begin{matrix}f_{0}\\\\f_{2}\\\\f_{4}\\\\f_{6}\\\\f_{8}\\\\f_{10}\\\\f_{12}\\\\f_{14}\\\\f_{16}\\\\f_{18}\\\\f_{20}\\end{matrix}\\right]\\right )$$"
      ],
      "text/plain": [
       "⎛⎡1  0   0    0    0    0    0    0   0   0   0⎤, ⎡f[0] ⎤, ⎡f[0] ⎤⎞\n",
       "⎜⎢                                             ⎥  ⎢     ⎥  ⎢     ⎥⎟\n",
       "⎜⎢1  1   0    0    0    0    0    0   0   0   0⎥  ⎢f[1] ⎥  ⎢f[2] ⎥⎟\n",
       "⎜⎢                                             ⎥  ⎢     ⎥  ⎢     ⎥⎟\n",
       "⎜⎢1  2   1    0    0    0    0    0   0   0   0⎥  ⎢f[2] ⎥  ⎢f[4] ⎥⎟\n",
       "⎜⎢                                             ⎥  ⎢     ⎥  ⎢     ⎥⎟\n",
       "⎜⎢1  3   3    1    0    0    0    0   0   0   0⎥  ⎢f[3] ⎥  ⎢f[6] ⎥⎟\n",
       "⎜⎢                                             ⎥  ⎢     ⎥  ⎢     ⎥⎟\n",
       "⎜⎢1  4   6    4    1    0    0    0   0   0   0⎥  ⎢f[4] ⎥  ⎢f[8] ⎥⎟\n",
       "⎜⎢                                             ⎥  ⎢     ⎥  ⎢     ⎥⎟\n",
       "⎜⎢1  5   10  10    5    1    0    0   0   0   0⎥  ⎢f[5] ⎥  ⎢f[10]⎥⎟\n",
       "⎜⎢                                             ⎥  ⎢     ⎥  ⎢     ⎥⎟\n",
       "⎜⎢1  6   15  20   15    6    1    0   0   0   0⎥  ⎢f[6] ⎥  ⎢f[12]⎥⎟\n",
       "⎜⎢                                             ⎥  ⎢     ⎥  ⎢     ⎥⎟\n",
       "⎜⎢1  7   21  35   35   21    7    1   0   0   0⎥  ⎢f[7] ⎥  ⎢f[14]⎥⎟\n",
       "⎜⎢                                             ⎥  ⎢     ⎥  ⎢     ⎥⎟\n",
       "⎜⎢1  8   28  56   70   56   28    8   1   0   0⎥  ⎢f[8] ⎥  ⎢f[16]⎥⎟\n",
       "⎜⎢                                             ⎥  ⎢     ⎥  ⎢     ⎥⎟\n",
       "⎜⎢1  9   36  84   126  126  84   36   9   1   0⎥  ⎢f[9] ⎥  ⎢f[18]⎥⎟\n",
       "⎜⎢                                             ⎥  ⎢     ⎥  ⎢     ⎥⎟\n",
       "⎝⎣1  10  45  120  210  252  210  120  45  10  1⎦  ⎣f[10]⎦  ⎣f[20]⎦⎠"
      ]
     },
     "execution_count": 7,
     "metadata": {},
     "output_type": "execute_result"
    }
   ],
   "source": [
    "m,v,r"
   ]
  },
  {
   "cell_type": "markdown",
   "metadata": {},
   "source": [
    "# Graphical representations\n",
    "\n",
    "The following quoted content is kept from a [page in the OEIS][oeis:fib:page].\n",
    "\n",
    ">Figure drawn by *Henry Bottomley*, July 27 2000.\n",
    "<img src=\"http://oeis.org/A000045/a000045h.gif\" alt=\"Fibonacci tree\" style=\"float: center; width: 30%; height: 30%;\">\n",
    "If turned sideways (so that the red node at the left is at the bottom), this may be regarded as the *Fibonacci Tree*, which grows according to the rules that:\n",
    "   - every red node turns blue after a year\n",
    "   - every blue node produces one blue node and one red node after a year\n",
    "   - initially there is a single red node\n",
    "   \n",
    ">At the $n$th year there are $F_n$ nodes.\n",
    "\n",
    "\n",
    "Here is a different representation of the same tree, also from the same source:\n",
    ">This grows according to the rules that every mature branch sprouts a new branch at the end of each year, and new branches take a year to reach maturity.Mature branches are indicated by heavy lines. At the end of the nth year there are $F_n$ branches:\n",
    "<img src=\"http://oeis.org/A000045/a000045.gif\" alt=\"Fibonacci tree\" style=\"float: center; width:40%; height: 40%;\">\n",
    "\n",
    "Another version of the Fibonacci tree can be constructed as follows:\n",
    ">Start with a node labeled 0.\n",
    "From any given node, draw branches extending up from it labeled $n+1$ and $2n$.\n",
    "In this way every node is labeled with a unique nonnegative integer, and every nonnegative integer appears exactly once. This is the \"state diagram\" for the process \"if $n$ is even divide by 2, if $n$ is odd subtract 1\".\n",
    "\n",
    "Another funny image, taken from a italian book for children, is the following:<br>\n",
    "<img src=\"https://github.com/massimo-nocentini/scratchpad/blob/master/gfx/combinatorics/fibonacci-pets.jpg?raw=true\" alt=\"Fibonacci pets\" style=\"float: center; width:70%; height: 70%;\">\n",
    "\n",
    "\n",
    "[oeis:fib:page]:http://oeis.org/A000045/a000045.html"
   ]
  },
  {
   "cell_type": "markdown",
   "metadata": {},
   "source": [
    "---\n",
    "<a rel=\"license\" href=\"http://creativecommons.org/licenses/by-nc-sa/4.0/\"><img alt=\"Creative Commons License\" style=\"border-width:0\" src=\"https://i.creativecommons.org/l/by-nc-sa/4.0/88x31.png\" /></a><br />This work is licensed under a <a rel=\"license\" href=\"http://creativecommons.org/licenses/by-nc-sa/4.0/\">Creative Commons Attribution-NonCommercial-ShareAlike 4.0 International License</a>."
   ]
  }
 ],
 "metadata": {
  "kernelspec": {
   "display_name": "Python 3",
   "language": "python",
   "name": "python3"
  },
  "language_info": {
   "codemirror_mode": {
    "name": "ipython",
    "version": 3
   },
   "file_extension": ".py",
   "mimetype": "text/x-python",
   "name": "python",
   "nbconvert_exporter": "python",
   "pygments_lexer": "ipython3",
   "version": "3.5.1"
  }
 },
 "nbformat": 4,
 "nbformat_minor": 0
}
