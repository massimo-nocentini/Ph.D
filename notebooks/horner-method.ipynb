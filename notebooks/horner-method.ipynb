{
 "cells": [
  {
   "cell_type": "markdown",
   "metadata": {},
   "source": [
    "<p>\n",
    "<img src=\"http://www.cerm.unifi.it/chianti/images/logo%20unifi_positivo.jpg\" \n",
    "        alt=\"UniFI logo\" style=\"float: left; width: 20%; height: 20%;\">\n",
    "<div align=\"right\"> Massimo Nocentini<br>\n",
    "<small>\n",
    "<br>October 3, 2016: conjectures\n",
    "<br>September 30, 2016: cleaning, matrix-vector product\n",
    "<br>September 29, 2016: ordered set-wise spec representation, terms cache subs & project\n",
    "<br>September 28, 2016: graphical representations, simple unfolding\n",
    "</small>\n",
    "</div>\n",
    "</p>\n",
    "<br>\n",
    "\n",
    "<p>\n",
    "<div align=\"center\">\n",
    "<b>abstract</b><br>\n",
    "In this document we explore the sequence of <i>Fibonacci numbers</i>, from the point of view of <i>recurrence unfolding</i>, an algorithmic/symbolical idea under development. We're going to apply such technique aiming to show new interesting identities among these wonderful numbers. Moreover, we collect in this very document some content directly from the OEIS and some funny graphical interpretations of the defining recurrence.\n",
    "</div>\n",
    "</p>"
   ]
  },
  {
   "cell_type": "code",
   "execution_count": 1,
   "metadata": {
    "collapsed": false
   },
   "outputs": [],
   "source": [
    "%run \"../src/start_session.py\"\n",
    "%run \"../src/recurrences.py\"\n",
    "%run \"../src/sums.py\""
   ]
  },
  {
   "cell_type": "code",
   "execution_count": 5,
   "metadata": {
    "collapsed": false
   },
   "outputs": [],
   "source": [
    "from sympy.abc import i\n",
    "from oeis import oeis_search, ListData\n",
    "import knowledge"
   ]
  },
  {
   "cell_type": "code",
   "execution_count": 3,
   "metadata": {
    "collapsed": true
   },
   "outputs": [],
   "source": [
    "sys.setrecursionlimit(10000000)"
   ]
  },
  {
   "cell_type": "markdown",
   "metadata": {},
   "source": [
    "# OEIS\n",
    "\n",
    "We start our study asking the [OEIS][oeis] the sequence of Fibonacci numbers, which is denoted by *A000045*:\n",
    "\n",
    "[oeis]:http://oeis.org/"
   ]
  },
  {
   "cell_type": "code",
   "execution_count": 4,
   "metadata": {
    "collapsed": false,
    "scrolled": false
   },
   "outputs": [
    {
     "name": "stdout",
     "output_type": "stream",
     "text": [
      "*"
     ]
    },
    {
     "data": {
      "text/markdown": [
       "_Results for query: <a href='https://oeis.org/search?start=0&q=id%3AA000045&fmt=json'>https://oeis.org/search?start=0&q=id%3AA000045&fmt=json</a>_<br><hr><div align='center'><b><a href='http://oeis.org/A000045'>A000045</a></b>: <i>Fibonacci numbers: F(n) = F(n-1) + F(n-2) with F(0) = 0 and F(1) = 1.</i><br></div>\n",
       "\n",
       "by _N. J. A. Sloane_, 1964\n",
       "\n",
       "_Keywords_: `core,nonn,nice,easy,hear,changed`\n",
       "\n",
       "_Data_:\n",
       "\n",
       "$$\n",
       "\\begin{array}{c|cccccccccccccccccccc}\n",
       "n & 0 & 1 & 2 & 3 & 4 & 5 & 6 & 7 & 8 & 9 & 10 & 11 & 12 & 13 & 14 & 15 & 16 & 17 & 18 & 19 \\\\\n",
       "\\hline\n",
       "A000045(n) & 0 & 1 & 1 & 2 & 3 & 5 & 8 & 13 & 21 & 34 & 55 & 89 & 144 & 233 & 377 & 610 & 987 & 1597 & 2584 & 4181\n",
       "\\end{array}\n",
       "$$\n"
      ],
      "text/plain": [
       "<IPython.core.display.Markdown object>"
      ]
     },
     "execution_count": 4,
     "metadata": {},
     "output_type": "execute_result"
    }
   ],
   "source": [
    "s = oeis_search(id=45)\n",
    "s(data_only=True)#, data_representation=ListData(upper_limit=20))"
   ]
  },
  {
   "cell_type": "markdown",
   "metadata": {},
   "source": [
    "# Recurrence"
   ]
  },
  {
   "cell_type": "markdown",
   "metadata": {},
   "source": [
    "## Spec\n",
    "\n",
    "In this section we define the classic recurrence for the sequence of Fibonacci numbers, using on the `lhs` subscript that makes sense for all $n\\in\\mathbb{N}$."
   ]
  },
  {
   "cell_type": "code",
   "execution_count": 17,
   "metadata": {
    "collapsed": false
   },
   "outputs": [],
   "source": [
    "with bind(IndexedBase('y'), single=True) as y,\\\n",
    "     bind(IndexedBase('b'), single=True) as b:\n",
    "    stirling_second_kind_rec_spec = recurrence_spec(recurrence_eq=Eq(y[i],x*y[i-1]+b[i]), \n",
    "                                         recurrence_symbol=y, \n",
    "                                         variables=[i])"
   ]
  },
  {
   "cell_type": "code",
   "execution_count": 18,
   "metadata": {
    "collapsed": false
   },
   "outputs": [
    {
     "data": {
      "text/html": [
       "$\\left(\\Theta, \\Gamma\\right)_{i}^{y}$ where: <br><ul><li>$\\Theta = \\left\\{ y_{i} = x y_{i - 1} + b_{i} \\right\\}$</li><li>$\\Gamma = \\left\\{\\begin{array}{c}\\end{array}\\right\\}$</li></ul>"
      ],
      "text/plain": [
       "<__main__.recurrence_spec at 0x7f38457724e0>"
      ]
     },
     "execution_count": 18,
     "metadata": {},
     "output_type": "execute_result"
    }
   ],
   "source": [
    "stirling_second_kind_rec_spec"
   ]
  },
  {
   "cell_type": "markdown",
   "metadata": {},
   "source": [
    "## Unfolding"
   ]
  },
  {
   "cell_type": "code",
   "execution_count": 31,
   "metadata": {
    "collapsed": false
   },
   "outputs": [],
   "source": [
    "unfolded = stirling_second_kind_rec_spec.unfold(depth=4)"
   ]
  },
  {
   "cell_type": "code",
   "execution_count": 32,
   "metadata": {
    "collapsed": false
   },
   "outputs": [
    {
     "data": {
      "text/html": [
       "$\\left(\\Theta, \\Gamma\\right)_{i}^{y}$ where: <br><ul><li>$\\Theta = \\left\\{ y_{i} = x^{4} \\left(x y_{i - 5} + b_{i - 4}\\right) + x^{3} b_{i - 3} + x^{2} b_{i - 2} + x b_{i - 1} + b_{i} \\right\\}$</li><li>$\\Gamma = \\left\\{\\begin{array}{c}x^{4} y_{i - 4} = x^{4} \\left(x y_{i - 5} + b_{i - 4}\\right)\\\\x^{3} y_{i - 3} = x^{3} \\left(x y_{i - 4} + b_{i - 3}\\right)\\\\x^{2} y_{i - 2} = x^{2} \\left(x y_{i - 3} + b_{i - 2}\\right)\\\\x y_{i - 1} = x \\left(x y_{i - 2} + b_{i - 1}\\right)\\end{array}\\right\\}$</li></ul>"
      ],
      "text/plain": [
       "<__main__.recurrence_spec at 0x7f38457b0128>"
      ]
     },
     "execution_count": 32,
     "metadata": {},
     "output_type": "execute_result"
    }
   ],
   "source": [
    "unfolded"
   ]
  },
  {
   "cell_type": "markdown",
   "metadata": {},
   "source": [
    "## Involution"
   ]
  },
  {
   "cell_type": "code",
   "execution_count": 13,
   "metadata": {
    "collapsed": false
   },
   "outputs": [
    {
     "data": {
      "text/html": [
       "$\\left(\\Theta, \\Gamma\\right)_{i}^{y}$ where: <br><ul><li>$\\Theta = \\left\\{ y_{i} = x^{5} \\left(x y_{i - 6} + b_{i - 5}\\right) + x^{4} b_{i - 4} + x^{3} b_{i - 3} + x^{2} b_{i - 2} + x b_{i - 1} + b_{i} \\right\\}$</li><li>$\\Gamma = \\left\\{\\begin{array}{c}x^{5} y_{i - 5} = x^{5} \\left(x y_{i - 6} + b_{i - 5}\\right)\\\\x^{4} y_{i - 4} = x^{4} \\left(x y_{i - 5} + b_{i - 4}\\right)\\\\x^{3} y_{i - 3} = x^{3} \\left(x y_{i - 4} + b_{i - 3}\\right)\\\\x^{2} y_{i - 2} = x^{2} \\left(x y_{i - 3} + b_{i - 2}\\right)\\\\x y_{i - 1} = x \\left(x y_{i - 2} + b_{i - 1}\\right)\\end{array}\\right\\}$</li></ul>"
      ],
      "text/plain": [
       "<__main__.recurrence_spec at 0x7f38458cb518>"
      ]
     },
     "execution_count": 13,
     "metadata": {},
     "output_type": "execute_result"
    }
   ],
   "source": [
    "unfolded.involute(depth=1)"
   ]
  },
  {
   "cell_type": "code",
   "execution_count": 14,
   "metadata": {
    "collapsed": false
   },
   "outputs": [
    {
     "data": {
      "text/html": [
       "$\\left(\\Theta, \\Gamma\\right)_{i}^{y}$ where: <br><ul><li>$\\Theta = \\left\\{ y_{i} = x^{5} \\left(x y_{i - 6} + b_{i - 5}\\right) + x^{4} b_{i - 4} + x^{3} b_{i - 3} + x^{2} b_{i - 2} + x b_{i - 1} + b_{i} \\right\\}$</li><li>$\\Gamma = \\left\\{\\begin{array}{c}x^{5} y_{i - 5} = x^{5} \\left(x y_{i - 6} + b_{i - 5}\\right)\\\\x^{4} y_{i - 4} = x^{4} \\left(x y_{i - 5} + b_{i - 4}\\right)\\\\x^{3} y_{i - 3} = x^{3} \\left(x y_{i - 4} + b_{i - 3}\\right)\\\\x^{2} y_{i - 2} = x^{2} \\left(x y_{i - 3} + b_{i - 2}\\right)\\\\x y_{i - 1} = x \\left(x y_{i - 2} + b_{i - 1}\\right)\\end{array}\\right\\}$</li></ul>"
      ],
      "text/plain": [
       "<__main__.recurrence_spec at 0x7f38457b0b38>"
      ]
     },
     "execution_count": 14,
     "metadata": {},
     "output_type": "execute_result"
    }
   ],
   "source": [
    "unfolded.involute()"
   ]
  },
  {
   "cell_type": "markdown",
   "metadata": {},
   "source": [
    "## Subsuming"
   ]
  },
  {
   "cell_type": "code",
   "execution_count": 15,
   "metadata": {
    "collapsed": false
   },
   "outputs": [],
   "source": [
    "subsumed=unfolded.subsume()"
   ]
  },
  {
   "cell_type": "code",
   "execution_count": 16,
   "metadata": {
    "collapsed": false
   },
   "outputs": [
    {
     "data": {
      "text/html": [
       "$\\left(\\Theta, \\Gamma\\right)_{i}^{y}$ where: <br><ul><li>$\\Theta = \\left\\{ y_{i} = x^{5} \\left(x y_{i - 6} + b_{i - 5}\\right) + x^{4} b_{i - 4} + x^{3} b_{i - 3} + x^{2} b_{i - 2} + x b_{i - 1} + b_{i} \\right\\}$</li><li>$\\Gamma = \\left\\{\\begin{array}{c}x^{5} y_{i - 5} = x^{5} \\left(x y_{i - 6} + b_{i - 5}\\right)\\\\x^{4} y_{i - 4} = x^{4} \\left(x y_{i - 5} + b_{i - 4}\\right)\\\\x^{3} y_{i - 3} = x^{3} \\left(x y_{i - 4} + b_{i - 3}\\right)\\\\x^{2} y_{i - 2} = x^{2} \\left(x y_{i - 3} + b_{i - 2}\\right)\\\\x y_{i - 1} = x \\left(x y_{i - 2} + b_{i - 1}\\right)\\end{array}\\right\\}$</li></ul>"
      ],
      "text/plain": [
       "<__main__.recurrence_spec at 0x7f38458cb7f0>"
      ]
     },
     "execution_count": 16,
     "metadata": {},
     "output_type": "execute_result"
    }
   ],
   "source": [
    "subsumed"
   ]
  },
  {
   "cell_type": "markdown",
   "metadata": {},
   "source": [
    "We can abstract the following conjecture: $ f_{n+k-2d+2} = f_{k} f_{n-2d} + f_{k+1} f_{n-2d+1} $, for $k\\in\\{0,\\ldots, 2d-1\\}$"
   ]
  },
  {
   "cell_type": "markdown",
   "metadata": {},
   "source": [
    "## Substitution"
   ]
  },
  {
   "cell_type": "code",
   "execution_count": 13,
   "metadata": {
    "collapsed": false
   },
   "outputs": [
    {
     "data": {
      "text/latex": [
       "$$\\left \\{ 1 : f_{2}, \\quad 2 : f_{3}, \\quad 3 : f_{4}, \\quad 5 : f_{5}, \\quad 8 : f_{6}, \\quad 13 : f_{7}, \\quad 21 : f_{8}, \\quad 34 : f_{9}, \\quad 55 : f_{10}, \\quad 89 : f_{11}, \\quad 144 : f_{12}, \\quad 233 : f_{13}, \\quad 377 : f_{14}, \\quad 610 : f_{15}, \\quad 987 : f_{16}, \\quad 1597 : f_{17}, \\quad 2584 : f_{18}, \\quad 4181 : f_{19}\\right \\}$$"
      ],
      "text/plain": [
       "{1: f[2], 2: f[3], 3: f[4], 5: f[5], 8: f[6], 13: f[7], 21: f[8], 34: f[9], 55\n",
       ": f[10], 89: f[11], 144: f[12], 233: f[13], 377: f[14], 610: f[15], 987: f[16]\n",
       ", 1597: f[17], 2584: f[18], 4181: f[19]}"
      ]
     },
     "execution_count": 13,
     "metadata": {},
     "output_type": "execute_result"
    }
   ],
   "source": [
    "im=knowledge.fibonacci_numbers_inverted_mapping(start=2, limit=20)\n",
    "im"
   ]
  },
  {
   "cell_type": "code",
   "execution_count": 14,
   "metadata": {
    "collapsed": false
   },
   "outputs": [
    {
     "data": {
      "text/html": [
       "$\\left(\\Theta, \\Gamma\\right)_{n}^{f}$ where: <br><ul><li>$\\Theta = \\left\\{ f_{n + 2} = f_{n - 10} + 6 f_{n - 9} + 15 f_{n - 8} + 20 f_{n - 7} + 15 f_{n - 6} + 6 f_{n - 5} + f_{n - 4} \\right\\}$</li><li>$\\Gamma = \\left\\{\\begin{array}{c}f_{n - 8} = f_{n - 10} + f_{n - 9}\\\\f_{n - 7} = f_{3} f_{n - 9} + f_{n - 10}\\\\f_{n - 6} = f_{3} f_{n - 10} + f_{4} f_{n - 9}\\\\f_{n - 5} = f_{4} f_{n - 10} + f_{5} f_{n - 9}\\\\f_{n - 4} = f_{5} f_{n - 10} + f_{6} f_{n - 9}\\\\f_{n - 3} = f_{6} f_{n - 10} + f_{7} f_{n - 9}\\\\f_{n - 2} = f_{7} f_{n - 10} + f_{8} f_{n - 9}\\\\f_{n - 1} = f_{8} f_{n - 10} + f_{9} f_{n - 9}\\\\f_{n} = f_{9} f_{n - 10} + f_{10} f_{n - 9}\\\\f_{n + 1} = f_{10} f_{n - 10} + f_{11} f_{n - 9}\\end{array}\\right\\}$</li></ul>"
      ],
      "text/plain": [
       "<__main__.recurrence_spec at 0x7fc8886735c0>"
      ]
     },
     "execution_count": 14,
     "metadata": {},
     "output_type": "execute_result"
    }
   ],
   "source": [
    "subsumed.subs(im)"
   ]
  },
  {
   "cell_type": "markdown",
   "metadata": {},
   "source": [
    "## Instantiation"
   ]
  },
  {
   "cell_type": "markdown",
   "metadata": {},
   "source": [
    "### Raw"
   ]
  },
  {
   "cell_type": "code",
   "execution_count": 15,
   "metadata": {
    "collapsed": false
   },
   "outputs": [
    {
     "data": {
      "text/html": [
       "$\\left(\\Theta, \\Gamma\\right)_{n}^{f}$ where: <br><ul><li>$\\Theta = \\left\\{ f_{22} = f_{10} + 6 f_{11} + 15 f_{12} + 20 f_{13} + 15 f_{14} + 6 f_{15} + f_{16} \\right\\}$</li><li>$\\Gamma = \\left\\{\\begin{array}{c}f_{12} = f_{10} + f_{11}\\\\f_{13} = f_{11} + f_{12}\\\\f_{14} = f_{12} + f_{13}\\\\f_{15} = f_{13} + f_{14}\\\\f_{16} = f_{14} + f_{15}\\\\f_{17} = f_{15} + f_{16}\\\\f_{18} = f_{16} + f_{17}\\\\f_{19} = f_{17} + f_{18}\\\\f_{20} = f_{18} + f_{19}\\\\f_{21} = f_{19} + f_{20}\\end{array}\\right\\}$</li></ul>"
      ],
      "text/plain": [
       "<__main__.recurrence_spec at 0x7fc888f9bc88>"
      ]
     },
     "execution_count": 15,
     "metadata": {},
     "output_type": "execute_result"
    }
   ],
   "source": [
    "unfolded.instantiate(strategy=raw(substitutions={n:20}))"
   ]
  },
  {
   "cell_type": "markdown",
   "metadata": {},
   "source": [
    "### Based"
   ]
  },
  {
   "cell_type": "code",
   "execution_count": 21,
   "metadata": {
    "collapsed": false
   },
   "outputs": [],
   "source": [
    "instantiated = unfolded.instantiate(strategy=based(arity=unary_indexed()))"
   ]
  },
  {
   "cell_type": "code",
   "execution_count": 22,
   "metadata": {
    "collapsed": false
   },
   "outputs": [
    {
     "data": {
      "text/html": [
       "$\\left(\\Theta, \\Gamma\\right)_{i}^{y}$ where: <br><ul><li>$\\Theta = \\left\\{ y_{6} = x^{5} \\left(x y_{0} + b_{1}\\right) + x^{4} b_{2} + x^{3} b_{3} + x^{2} b_{4} + x b_{5} + b_{6} \\right\\}$</li><li>$\\Gamma = \\left\\{\\begin{array}{c}x^{5} y_{1} = x^{5} \\left(x y_{0} + b_{1}\\right)\\\\x^{4} y_{2} = x^{4} \\left(x y_{1} + b_{2}\\right)\\\\x^{3} y_{3} = x^{3} \\left(x y_{2} + b_{3}\\right)\\\\x^{2} y_{4} = x^{2} \\left(x y_{3} + b_{4}\\right)\\\\x y_{5} = x \\left(x y_{4} + b_{5}\\right)\\end{array}\\right\\}$</li></ul>"
      ],
      "text/plain": [
       "<__main__.recurrence_spec at 0x7f38457d2a20>"
      ]
     },
     "execution_count": 22,
     "metadata": {},
     "output_type": "execute_result"
    }
   ],
   "source": [
    "instantiated"
   ]
  },
  {
   "cell_type": "markdown",
   "metadata": {},
   "source": [
    "## Computing"
   ]
  },
  {
   "cell_type": "code",
   "execution_count": 18,
   "metadata": {
    "collapsed": false
   },
   "outputs": [
    {
     "data": {
      "text/html": [
       "$\\left(\\Theta, \\Gamma\\right)_{n}^{f}$ where: <br><ul><li>$\\Theta = \\left\\{ f_{12} = f_{0} + 6 f_{1} + 15 f_{2} + 20 f_{3} + 15 f_{4} + 6 f_{5} + f_{6} \\right\\}$</li><li>$\\Gamma = \\left\\{\\begin{array}{c}f_{0} = 0\\\\f_{1} = 1\\\\f_{2} = 1\\\\f_{3} = 2\\\\f_{4} = 3\\\\f_{5} = 5\\\\f_{6} = 8\\\\f_{7} = 13\\\\f_{8} = 21\\\\f_{9} = 34\\\\f_{10} = 55\\\\f_{11} = 89\\end{array}\\right\\}$</li></ul>"
      ],
      "text/plain": [
       "<__main__.recurrence_spec at 0x7fc88867f588>"
      ]
     },
     "execution_count": 18,
     "metadata": {},
     "output_type": "execute_result"
    }
   ],
   "source": [
    "almost_valued = instantiated.subsume(additional_terms={f[0]:Integer(0), f[1]:Integer(1)})\n",
    "almost_valued"
   ]
  },
  {
   "cell_type": "code",
   "execution_count": 19,
   "metadata": {
    "collapsed": false
   },
   "outputs": [
    {
     "data": {
      "text/html": [
       "$\\left(\\Theta, \\Gamma\\right)_{n}^{f}$ where: <br><ul><li>$\\Theta = \\left\\{ f_{12} = 144 \\right\\}$</li><li>$\\Gamma = \\left\\{\\begin{array}{c}f_{0} = 0\\\\f_{1} = 1\\\\f_{2} = 1\\\\f_{3} = 2\\\\f_{4} = 3\\\\f_{5} = 5\\\\f_{6} = 8\\\\f_{7} = 13\\\\f_{8} = 21\\\\f_{9} = 34\\\\f_{10} = 55\\\\f_{11} = 89\\end{array}\\right\\}$</li></ul>"
      ],
      "text/plain": [
       "<__main__.recurrence_spec at 0x7fc8886737b8>"
      ]
     },
     "execution_count": 19,
     "metadata": {},
     "output_type": "execute_result"
    }
   ],
   "source": [
    "almost_valued.involute()"
   ]
  },
  {
   "cell_type": "markdown",
   "metadata": {},
   "source": [
    "## Collecting"
   ]
  },
  {
   "cell_type": "markdown",
   "metadata": {},
   "source": [
    "### Spec as symbolic matrix-vector product"
   ]
  },
  {
   "cell_type": "code",
   "execution_count": 23,
   "metadata": {
    "collapsed": false
   },
   "outputs": [],
   "source": [
    "m, v, r, eqs = stirling_second_kind_rec_spec.matrix_vector_product(depth=10, arity=unary_indexed(), \n",
    "                                                        segment=[n-k for k in range(-2, 19)])"
   ]
  },
  {
   "cell_type": "code",
   "execution_count": 25,
   "metadata": {
    "collapsed": false
   },
   "outputs": [
    {
     "data": {
      "text/latex": [
       "$$\\begin{array}{c} y_{i} = y_{i}\\\\y_{i} = x y_{i - 1} + b_{i}\\\\y_{i} = x \\left(x y_{i - 2} + b_{i - 1}\\right) + b_{i}\\\\y_{i} = x^{2} \\left(x y_{i - 3} + b_{i - 2}\\right) + x b_{i - 1} + b_{i}\\\\y_{i} = x^{3} \\left(x y_{i - 4} + b_{i - 3}\\right) + x^{2} b_{i - 2} + x b_{i - 1} + b_{i}\\\\y_{i} = x^{4} \\left(x y_{i - 5} + b_{i - 4}\\right) + x^{3} b_{i - 3} + x^{2} b_{i - 2} + x b_{i - 1} + b_{i}\\\\y_{i} = x^{5} \\left(x y_{i - 6} + b_{i - 5}\\right) + x^{4} b_{i - 4} + x^{3} b_{i - 3} + x^{2} b_{i - 2} + x b_{i - 1} + b_{i}\\\\y_{i} = x^{6} \\left(x y_{i - 7} + b_{i - 6}\\right) + x^{5} b_{i - 5} + x^{4} b_{i - 4} + x^{3} b_{i - 3} + x^{2} b_{i - 2} + x b_{i - 1} + b_{i}\\\\y_{i} = x^{7} \\left(x y_{i - 8} + b_{i - 7}\\right) + x^{6} b_{i - 6} + x^{5} b_{i - 5} + x^{4} b_{i - 4} + x^{3} b_{i - 3} + x^{2} b_{i - 2} + x b_{i - 1} + b_{i}\\\\y_{i} = x^{8} \\left(x y_{i - 9} + b_{i - 8}\\right) + x^{7} b_{i - 7} + x^{6} b_{i - 6} + x^{5} b_{i - 5} + x^{4} b_{i - 4} + x^{3} b_{i - 3} + x^{2} b_{i - 2} + x b_{i - 1} + b_{i}\\\\y_{i} = x^{9} \\left(x y_{i - 10} + b_{i - 9}\\right) + x^{8} b_{i - 8} + x^{7} b_{i - 7} + x^{6} b_{i - 6} + x^{5} b_{i - 5} + x^{4} b_{i - 4} + x^{3} b_{i - 3} + x^{2} b_{i - 2} + x b_{i - 1} + b_{i} \\end{array}$$"
      ],
      "text/plain": [
       "<IPython.core.display.Latex object>"
      ]
     },
     "execution_count": 25,
     "metadata": {},
     "output_type": "execute_result"
    }
   ],
   "source": [
    "latex_array_src(eqs)"
   ]
  },
  {
   "cell_type": "code",
   "execution_count": 26,
   "metadata": {
    "collapsed": false
   },
   "outputs": [
    {
     "data": {
      "text/latex": [
       "$$\\left ( \\left[\\begin{array}{ccccccccccccccccccccc}0 & 0 & 0 & 0 & 0 & 0 & 0 & 0 & 0 & 0 & 0 & 0 & 0 & 0 & 0 & 0 & 0 & 0 & 0 & 0 & 0\\\\0 & 0 & 0 & 0 & 0 & 0 & 0 & 0 & 0 & 0 & 0 & 0 & 0 & 0 & 0 & 0 & 0 & 0 & 0 & 0 & 0\\\\0 & 0 & 0 & 0 & 0 & 0 & 0 & 0 & 0 & 0 & 0 & 0 & 0 & 0 & 0 & 0 & 0 & 0 & 0 & 0 & 0\\\\0 & 0 & 0 & 0 & 0 & 0 & 0 & 0 & 0 & 0 & 0 & 0 & 0 & 0 & 0 & 0 & 0 & 0 & 0 & 0 & 0\\\\0 & 0 & 0 & 0 & 0 & 0 & 0 & 0 & 0 & 0 & 0 & 0 & 0 & 0 & 0 & 0 & 0 & 0 & 0 & 0 & 0\\\\0 & 0 & 0 & 0 & 0 & 0 & 0 & 0 & 0 & 0 & 0 & 0 & 0 & 0 & 0 & 0 & 0 & 0 & 0 & 0 & 0\\\\0 & 0 & 0 & 0 & 0 & 0 & 0 & 0 & 0 & 0 & 0 & 0 & 0 & 0 & 0 & 0 & 0 & 0 & 0 & 0 & 0\\\\0 & 0 & 0 & 0 & 0 & 0 & 0 & 0 & 0 & 0 & 0 & 0 & 0 & 0 & 0 & 0 & 0 & 0 & 0 & 0 & 0\\\\0 & 0 & 0 & 0 & 0 & 0 & 0 & 0 & 0 & 0 & 0 & 0 & 0 & 0 & 0 & 0 & 0 & 0 & 0 & 0 & 0\\\\0 & 0 & 0 & 0 & 0 & 0 & 0 & 0 & 0 & 0 & 0 & 0 & 0 & 0 & 0 & 0 & 0 & 0 & 0 & 0 & 0\\\\0 & 0 & 0 & 0 & 0 & 0 & 0 & 0 & 0 & 0 & 0 & 0 & 0 & 0 & 0 & 0 & 0 & 0 & 0 & 0 & 0\\end{array}\\right], \\quad \\left[\\begin{matrix}y_{n + 2}\\\\y_{n + 1}\\\\y_{n}\\\\y_{n - 1}\\\\y_{n - 2}\\\\y_{n - 3}\\\\y_{n - 4}\\\\y_{n - 5}\\\\y_{n - 6}\\\\y_{n - 7}\\\\y_{n - 8}\\\\y_{n - 9}\\\\y_{n - 10}\\\\y_{n - 11}\\\\y_{n - 12}\\\\y_{n - 13}\\\\y_{n - 14}\\\\y_{n - 15}\\\\y_{n - 16}\\\\y_{n - 17}\\\\y_{n - 18}\\end{matrix}\\right], \\quad \\left[\\begin{matrix}y_{i}\\\\y_{i}\\\\y_{i}\\\\y_{i}\\\\y_{i}\\\\y_{i}\\\\y_{i}\\\\y_{i}\\\\y_{i}\\\\y_{i}\\\\y_{i}\\end{matrix}\\right]\\right )$$"
      ],
      "text/plain": [
       "⎛⎡0  0  0  0  0  0  0  0  0  0  0  0  0  0  0  0  0  0  0  0  0⎤, ⎡y[n + 2] ⎤,\n",
       "⎜⎢                                                             ⎥  ⎢         ⎥ \n",
       "⎜⎢0  0  0  0  0  0  0  0  0  0  0  0  0  0  0  0  0  0  0  0  0⎥  ⎢y[n + 1] ⎥ \n",
       "⎜⎢                                                             ⎥  ⎢         ⎥ \n",
       "⎜⎢0  0  0  0  0  0  0  0  0  0  0  0  0  0  0  0  0  0  0  0  0⎥  ⎢  y[n]   ⎥ \n",
       "⎜⎢                                                             ⎥  ⎢         ⎥ \n",
       "⎜⎢0  0  0  0  0  0  0  0  0  0  0  0  0  0  0  0  0  0  0  0  0⎥  ⎢y[n - 1] ⎥ \n",
       "⎜⎢                                                             ⎥  ⎢         ⎥ \n",
       "⎜⎢0  0  0  0  0  0  0  0  0  0  0  0  0  0  0  0  0  0  0  0  0⎥  ⎢y[n - 2] ⎥ \n",
       "⎜⎢                                                             ⎥  ⎢         ⎥ \n",
       "⎜⎢0  0  0  0  0  0  0  0  0  0  0  0  0  0  0  0  0  0  0  0  0⎥  ⎢y[n - 3] ⎥ \n",
       "⎜⎢                                                             ⎥  ⎢         ⎥ \n",
       "⎜⎢0  0  0  0  0  0  0  0  0  0  0  0  0  0  0  0  0  0  0  0  0⎥  ⎢y[n - 4] ⎥ \n",
       "⎜⎢                                                             ⎥  ⎢         ⎥ \n",
       "⎜⎢0  0  0  0  0  0  0  0  0  0  0  0  0  0  0  0  0  0  0  0  0⎥  ⎢y[n - 5] ⎥ \n",
       "⎜⎢                                                             ⎥  ⎢         ⎥ \n",
       "⎜⎢0  0  0  0  0  0  0  0  0  0  0  0  0  0  0  0  0  0  0  0  0⎥  ⎢y[n - 6] ⎥ \n",
       "⎜⎢                                                             ⎥  ⎢         ⎥ \n",
       "⎜⎢0  0  0  0  0  0  0  0  0  0  0  0  0  0  0  0  0  0  0  0  0⎥  ⎢y[n - 7] ⎥ \n",
       "⎜⎢                                                             ⎥  ⎢         ⎥ \n",
       "⎜⎣0  0  0  0  0  0  0  0  0  0  0  0  0  0  0  0  0  0  0  0  0⎦  ⎢y[n - 8] ⎥ \n",
       "⎜                                                                 ⎢         ⎥ \n",
       "⎜                                                                 ⎢y[n - 9] ⎥ \n",
       "⎜                                                                 ⎢         ⎥ \n",
       "⎜                                                                 ⎢y[n - 10]⎥ \n",
       "⎜                                                                 ⎢         ⎥ \n",
       "⎜                                                                 ⎢y[n - 11]⎥ \n",
       "⎜                                                                 ⎢         ⎥ \n",
       "⎜                                                                 ⎢y[n - 12]⎥ \n",
       "⎜                                                                 ⎢         ⎥ \n",
       "⎜                                                                 ⎢y[n - 13]⎥ \n",
       "⎜                                                                 ⎢         ⎥ \n",
       "⎜                                                                 ⎢y[n - 14]⎥ \n",
       "⎜                                                                 ⎢         ⎥ \n",
       "⎜                                                                 ⎢y[n - 15]⎥ \n",
       "⎜                                                                 ⎢         ⎥ \n",
       "⎜                                                                 ⎢y[n - 16]⎥ \n",
       "⎜                                                                 ⎢         ⎥ \n",
       "⎜                                                                 ⎢y[n - 17]⎥ \n",
       "⎜                                                                 ⎢         ⎥ \n",
       "⎝                                                                 ⎣y[n - 18]⎦ \n",
       "\n",
       " ⎡y[i]⎤⎞\n",
       " ⎢    ⎥⎟\n",
       " ⎢y[i]⎥⎟\n",
       " ⎢    ⎥⎟\n",
       " ⎢y[i]⎥⎟\n",
       " ⎢    ⎥⎟\n",
       " ⎢y[i]⎥⎟\n",
       " ⎢    ⎥⎟\n",
       " ⎢y[i]⎥⎟\n",
       " ⎢    ⎥⎟\n",
       " ⎢y[i]⎥⎟\n",
       " ⎢    ⎥⎟\n",
       " ⎢y[i]⎥⎟\n",
       " ⎢    ⎥⎟\n",
       " ⎢y[i]⎥⎟\n",
       " ⎢    ⎥⎟\n",
       " ⎢y[i]⎥⎟\n",
       " ⎢    ⎥⎟\n",
       " ⎢y[i]⎥⎟\n",
       " ⎢    ⎥⎟\n",
       " ⎣y[i]⎦⎟\n",
       "       ⎟\n",
       "       ⎟\n",
       "       ⎟\n",
       "       ⎟\n",
       "       ⎟\n",
       "       ⎟\n",
       "       ⎟\n",
       "       ⎟\n",
       "       ⎟\n",
       "       ⎟\n",
       "       ⎟\n",
       "       ⎟\n",
       "       ⎟\n",
       "       ⎟\n",
       "       ⎟\n",
       "       ⎟\n",
       "       ⎟\n",
       "       ⎟\n",
       "       ⎟\n",
       "       ⎠"
      ]
     },
     "execution_count": 26,
     "metadata": {},
     "output_type": "execute_result"
    }
   ],
   "source": [
    "m, v, r"
   ]
  },
  {
   "cell_type": "code",
   "execution_count": 50,
   "metadata": {
    "collapsed": false
   },
   "outputs": [],
   "source": [
    "sols=solve(Eq(m*v, r), v)\n",
    "eq_system = [Eq(k, v) for k, v in sols.items()]"
   ]
  },
  {
   "cell_type": "code",
   "execution_count": 51,
   "metadata": {
    "collapsed": false
   },
   "outputs": [
    {
     "data": {
      "text/latex": [
       "$$\\begin{array}{c} f_{n - 7} = f_{n - 18} + 10 f_{n - 17} + 44 f_{n - 16} + 111 f_{n - 15} + 174 f_{n - 14} + 168 f_{n - 13} + 84 f_{n - 12} - 6 f_{n - 11} - 39 f_{n - 10} - 26 f_{n - 9} - 8 f_{n - 8}\\\\f_{n - 6} = - 7 f_{n - 18} - 70 f_{n - 17} - 307 f_{n - 16} - 768 f_{n - 15} - 1183 f_{n - 14} - 1100 f_{n - 13} - 490 f_{n - 12} + 112 f_{n - 11} + 287 f_{n - 10} + 162 f_{n - 9} + 37 f_{n - 8}\\\\f_{n - 5} = 29 f_{n - 18} + 290 f_{n - 17} + 1270 f_{n - 16} + 3165 f_{n - 15} + 4837 f_{n - 14} + 4424 f_{n - 13} + 1875 f_{n - 12} - 545 f_{n - 11} - 1166 f_{n - 10} - 613 f_{n - 9} - 125 f_{n - 8}\\\\f_{n - 4} = - 88 f_{n - 18} - 880 f_{n - 17} - 3850 f_{n - 16} - 9570 f_{n - 15} - 14547 f_{n - 14} - 13152 f_{n - 13} - 5370 f_{n - 12} + 1830 f_{n - 11} + 3515 f_{n - 10} + 1772 f_{n - 9} + 341 f_{n - 8}\\\\f_{n - 3} = 216 f_{n - 18} + 2160 f_{n - 17} + 9445 f_{n - 16} + 23445 f_{n - 15} + 35535 f_{n - 14} + 31932 f_{n - 13} + 12790 f_{n - 12} - 4670 f_{n - 11} - 8545 f_{n - 10} - 4210 f_{n - 9} - 785 f_{n - 8}\\\\f_{n - 1} = 773 f_{n - 18} + 7730 f_{n - 17} + 33784 f_{n - 16} + 83751 f_{n - 15} + 126591 f_{n - 14} + 113088 f_{n - 13} + 44430 f_{n - 12} - 17364 f_{n - 11} - 30371 f_{n - 10} - 14656 f_{n - 9} - 2659 f_{n - 8}\\\\f_{n} = - 1101 f_{n - 18} - 11010 f_{n - 17} - 48115 f_{n - 16} - 119250 f_{n - 15} - 180159 f_{n - 14} - 160764 f_{n - 13} - 62910 f_{n - 12} + 24960 f_{n - 11} + 43275 f_{n - 10} + 20814 f_{n - 9} + 3761 f_{n - 8}\\\\f_{n + 2} = f_{n - 18} + 10 f_{n - 17} + 45 f_{n - 16} + 120 f_{n - 15} + 210 f_{n - 14} + 252 f_{n - 13} + 210 f_{n - 12} + 120 f_{n - 11} + 45 f_{n - 10} + 10 f_{n - 9} + f_{n - 8}\\\\f_{n + 1} = 1102 f_{n - 18} + 11020 f_{n - 17} + 48160 f_{n - 16} + 119370 f_{n - 15} + 180369 f_{n - 14} + 161016 f_{n - 13} + 63120 f_{n - 12} - 24840 f_{n - 11} - 43230 f_{n - 10} - 20804 f_{n - 9} - 3760 f_{n - 8}\\\\f_{n - 2} = - 444 f_{n - 18} - 4440 f_{n - 17} - 19408 f_{n - 16} - 48132 f_{n - 15} - 72813 f_{n - 14} - 65160 f_{n - 13} - 25740 f_{n - 12} + 9888 f_{n - 11} + 17512 f_{n - 10} + 8508 f_{n - 9} + 1558 f_{n - 8} \\end{array}$$"
      ],
      "text/plain": [
       "<IPython.core.display.Latex object>"
      ]
     },
     "execution_count": 51,
     "metadata": {},
     "output_type": "execute_result"
    }
   ],
   "source": [
    "latex_array_src(eq_system)"
   ]
  },
  {
   "cell_type": "code",
   "execution_count": 54,
   "metadata": {
    "collapsed": false
   },
   "outputs": [
    {
     "data": {
      "text/latex": [
       "$$\\left ( \\left[\\begin{array}{ccccccccccc}-8 & -26 & -39 & -6 & 84 & 168 & 174 & 111 & 44 & 10 & 1\\\\37 & 162 & 287 & 112 & -490 & -1100 & -1183 & -768 & -307 & -70 & -7\\\\-125 & -613 & -1166 & -545 & 1875 & 4424 & 4837 & 3165 & 1270 & 290 & 29\\\\341 & 1772 & 3515 & 1830 & -5370 & -13152 & -14547 & -9570 & -3850 & -880 & -88\\\\-785 & -4210 & -8545 & -4670 & 12790 & 31932 & 35535 & 23445 & 9445 & 2160 & 216\\\\-2659 & -14656 & -30371 & -17364 & 44430 & 113088 & 126591 & 83751 & 33784 & 7730 & 773\\\\3761 & 20814 & 43275 & 24960 & -62910 & -160764 & -180159 & -119250 & -48115 & -11010 & -1101\\\\1 & 10 & 45 & 120 & 210 & 252 & 210 & 120 & 45 & 10 & 1\\\\-3760 & -20804 & -43230 & -24840 & 63120 & 161016 & 180369 & 119370 & 48160 & 11020 & 1102\\\\1558 & 8508 & 17512 & 9888 & -25740 & -65160 & -72813 & -48132 & -19408 & -4440 & -444\\end{array}\\right], \\quad \\left[\\begin{matrix}f_{n - 8}\\\\f_{n - 9}\\\\f_{n - 10}\\\\f_{n - 11}\\\\f_{n - 12}\\\\f_{n - 13}\\\\f_{n - 14}\\\\f_{n - 15}\\\\f_{n - 16}\\\\f_{n - 17}\\\\f_{n - 18}\\end{matrix}\\right], \\quad \\left[\\begin{matrix}f_{n - 7}\\\\f_{n - 6}\\\\f_{n - 5}\\\\f_{n - 4}\\\\f_{n - 3}\\\\f_{n - 1}\\\\f_{n}\\\\f_{n + 2}\\\\f_{n + 1}\\\\f_{n - 2}\\end{matrix}\\right]\\right )$$"
      ],
      "text/plain": [
       "⎛⎡ -8     -26     -39      -6      84      168      174      111      44      \n",
       "⎜⎢                                                                            \n",
       "⎜⎢ 37     162     287     112     -490    -1100    -1183    -768     -307    -\n",
       "⎜⎢                                                                            \n",
       "⎜⎢-125    -613   -1166    -545    1875    4424     4837     3165     1270    2\n",
       "⎜⎢                                                                            \n",
       "⎜⎢ 341    1772    3515    1830   -5370   -13152   -14547    -9570   -3850    -\n",
       "⎜⎢                                                                            \n",
       "⎜⎢-785   -4210   -8545   -4670   12790    31932    35535    23445    9445    2\n",
       "⎜⎢                                                                            \n",
       "⎜⎢-2659  -14656  -30371  -17364  44430   113088   126591    83751   33784    7\n",
       "⎜⎢                                                                            \n",
       "⎜⎢3761   20814   43275   24960   -62910  -160764  -180159  -119250  -48115  -1\n",
       "⎜⎢                                                                            \n",
       "⎜⎢  1      10      45     120     210      252      210      120      45      \n",
       "⎜⎢                                                                            \n",
       "⎜⎢-3760  -20804  -43230  -24840  63120   161016   180369   119370   48160   11\n",
       "⎜⎢                                                                            \n",
       "⎜⎣1558    8508   17512    9888   -25740  -65160   -72813   -48132   -19408  -4\n",
       "⎜                                                                             \n",
       "⎝                                                                             \n",
       "\n",
       "10      1  ⎤, ⎡f[n - 8] ⎤, ⎡f[n - 7]⎤⎞\n",
       "           ⎥  ⎢         ⎥  ⎢        ⎥⎟\n",
       "70     -7  ⎥  ⎢f[n - 9] ⎥  ⎢f[n - 6]⎥⎟\n",
       "           ⎥  ⎢         ⎥  ⎢        ⎥⎟\n",
       "90     29  ⎥  ⎢f[n - 10]⎥  ⎢f[n - 5]⎥⎟\n",
       "           ⎥  ⎢         ⎥  ⎢        ⎥⎟\n",
       "880    -88 ⎥  ⎢f[n - 11]⎥  ⎢f[n - 4]⎥⎟\n",
       "           ⎥  ⎢         ⎥  ⎢        ⎥⎟\n",
       "160    216 ⎥  ⎢f[n - 12]⎥  ⎢f[n - 3]⎥⎟\n",
       "           ⎥  ⎢         ⎥  ⎢        ⎥⎟\n",
       "730    773 ⎥  ⎢f[n - 13]⎥  ⎢f[n - 1]⎥⎟\n",
       "           ⎥  ⎢         ⎥  ⎢        ⎥⎟\n",
       "1010  -1101⎥  ⎢f[n - 14]⎥  ⎢  f[n]  ⎥⎟\n",
       "           ⎥  ⎢         ⎥  ⎢        ⎥⎟\n",
       "10      1  ⎥  ⎢f[n - 15]⎥  ⎢f[n + 2]⎥⎟\n",
       "           ⎥  ⎢         ⎥  ⎢        ⎥⎟\n",
       "020   1102 ⎥  ⎢f[n - 16]⎥  ⎢f[n + 1]⎥⎟\n",
       "           ⎥  ⎢         ⎥  ⎢        ⎥⎟\n",
       "440   -444 ⎦  ⎢f[n - 17]⎥  ⎣f[n - 2]⎦⎟\n",
       "              ⎢         ⎥            ⎟\n",
       "              ⎣f[n - 18]⎦            ⎠"
      ]
     },
     "execution_count": 54,
     "metadata": {},
     "output_type": "execute_result"
    }
   ],
   "source": [
    "to_matrix_notation(eq_system, f, [n-k for k in range(8,19)])"
   ]
  },
  {
   "cell_type": "code",
   "execution_count": 9,
   "metadata": {
    "collapsed": false
   },
   "outputs": [
    {
     "data": {
      "text/latex": [
       "$$\\left[\\begin{matrix}f_{32}\\\\f_{30} + f_{31}\\\\f_{28} + 2 f_{29} + f_{30}\\\\f_{26} + 3 f_{27} + 3 f_{28} + f_{29}\\\\f_{24} + 4 f_{25} + 6 f_{26} + 4 f_{27} + f_{28}\\\\f_{22} + 5 f_{23} + 10 f_{24} + 10 f_{25} + 5 f_{26} + f_{27}\\\\f_{20} + 6 f_{21} + 15 f_{22} + 20 f_{23} + 15 f_{24} + 6 f_{25} + f_{26}\\\\f_{18} + 7 f_{19} + 21 f_{20} + 35 f_{21} + 35 f_{22} + 21 f_{23} + 7 f_{24} + f_{25}\\\\f_{16} + 8 f_{17} + 28 f_{18} + 56 f_{19} + 70 f_{20} + 56 f_{21} + 28 f_{22} + 8 f_{23} + f_{24}\\\\f_{14} + 9 f_{15} + 36 f_{16} + 84 f_{17} + 126 f_{18} + 126 f_{19} + 84 f_{20} + 36 f_{21} + 9 f_{22} + f_{23}\\\\f_{12} + 10 f_{13} + 45 f_{14} + 120 f_{15} + 210 f_{16} + 252 f_{17} + 210 f_{18} + 120 f_{19} + 45 f_{20} + 10 f_{21} + f_{22}\\end{matrix}\\right] = \\left[\\begin{matrix}f_{32}\\\\f_{32}\\\\f_{32}\\\\f_{32}\\\\f_{32}\\\\f_{32}\\\\f_{32}\\\\f_{32}\\\\f_{32}\\\\f_{32}\\\\f_{32}\\end{matrix}\\right]$$"
      ],
      "text/plain": [
       "⎡                                                        f[32]                \n",
       "⎢                                                                             \n",
       "⎢                                                    f[30] + f[31]            \n",
       "⎢                                                                             \n",
       "⎢                                               f[28] + 2⋅f[29] + f[30]       \n",
       "⎢                                                                             \n",
       "⎢                                          f[26] + 3⋅f[27] + 3⋅f[28] + f[29]  \n",
       "⎢                                                                             \n",
       "⎢                                     f[24] + 4⋅f[25] + 6⋅f[26] + 4⋅f[27] + f[\n",
       "⎢                                                                             \n",
       "⎢                               f[22] + 5⋅f[23] + 10⋅f[24] + 10⋅f[25] + 5⋅f[26\n",
       "⎢                                                                             \n",
       "⎢                         f[20] + 6⋅f[21] + 15⋅f[22] + 20⋅f[23] + 15⋅f[24] + 6\n",
       "⎢                                                                             \n",
       "⎢                    f[18] + 7⋅f[19] + 21⋅f[20] + 35⋅f[21] + 35⋅f[22] + 21⋅f[2\n",
       "⎢                                                                             \n",
       "⎢              f[16] + 8⋅f[17] + 28⋅f[18] + 56⋅f[19] + 70⋅f[20] + 56⋅f[21] + 2\n",
       "⎢                                                                             \n",
       "⎢        f[14] + 9⋅f[15] + 36⋅f[16] + 84⋅f[17] + 126⋅f[18] + 126⋅f[19] + 84⋅f[\n",
       "⎢                                                                             \n",
       "⎣f[12] + 10⋅f[13] + 45⋅f[14] + 120⋅f[15] + 210⋅f[16] + 252⋅f[17] + 210⋅f[18] +\n",
       "\n",
       "                                        ⎤ = ⎡f[32]⎤\n",
       "                                        ⎥   ⎢     ⎥\n",
       "                                        ⎥   ⎢f[32]⎥\n",
       "                                        ⎥   ⎢     ⎥\n",
       "                                        ⎥   ⎢f[32]⎥\n",
       "                                        ⎥   ⎢     ⎥\n",
       "                                        ⎥   ⎢f[32]⎥\n",
       "                                        ⎥   ⎢     ⎥\n",
       "28]                                     ⎥   ⎢f[32]⎥\n",
       "                                        ⎥   ⎢     ⎥\n",
       "] + f[27]                               ⎥   ⎢f[32]⎥\n",
       "                                        ⎥   ⎢     ⎥\n",
       "⋅f[25] + f[26]                          ⎥   ⎢f[32]⎥\n",
       "                                        ⎥   ⎢     ⎥\n",
       "3] + 7⋅f[24] + f[25]                    ⎥   ⎢f[32]⎥\n",
       "                                        ⎥   ⎢     ⎥\n",
       "8⋅f[22] + 8⋅f[23] + f[24]               ⎥   ⎢f[32]⎥\n",
       "                                        ⎥   ⎢     ⎥\n",
       "20] + 36⋅f[21] + 9⋅f[22] + f[23]        ⎥   ⎢f[32]⎥\n",
       "                                        ⎥   ⎢     ⎥\n",
       " 120⋅f[19] + 45⋅f[20] + 10⋅f[21] + f[22]⎦   ⎣f[32]⎦"
      ]
     },
     "execution_count": 9,
     "metadata": {},
     "output_type": "execute_result"
    }
   ],
   "source": [
    "example={n:30}\n",
    "to_check = Eq(m*v.subs(example), r.subs(example))\n",
    "to_check"
   ]
  },
  {
   "cell_type": "code",
   "execution_count": 10,
   "metadata": {
    "collapsed": false
   },
   "outputs": [
    {
     "data": {
      "text/latex": [
       "$$\\mathrm{True}$$"
      ],
      "text/plain": [
       "True"
      ]
     },
     "execution_count": 10,
     "metadata": {},
     "output_type": "execute_result"
    }
   ],
   "source": [
    "to_check.subs(knowledge.fibonacci_numbers(), simultaneous=True)"
   ]
  },
  {
   "cell_type": "markdown",
   "metadata": {},
   "source": [
    "### Spec as based matrix-vector product"
   ]
  },
  {
   "cell_type": "code",
   "execution_count": 11,
   "metadata": {
    "collapsed": false
   },
   "outputs": [],
   "source": [
    "m, v, r, eqs = fibonacci_rec_spec.matrix_vector_product(depth=10, arity=unary_indexed(), \n",
    "                                                        segment=[Integer(k) for k in range(0, 11)],\n",
    "                                                        based_instantiation=True)"
   ]
  },
  {
   "cell_type": "code",
   "execution_count": 12,
   "metadata": {
    "collapsed": false
   },
   "outputs": [
    {
     "data": {
      "text/latex": [
       "$$\\begin{array}{c} f_{0} = f_{0}\\\\f_{2} = f_{0} + f_{1}\\\\f_{4} = f_{0} + 2 f_{1} + f_{2}\\\\f_{6} = f_{0} + 3 f_{1} + 3 f_{2} + f_{3}\\\\f_{8} = f_{0} + 4 f_{1} + 6 f_{2} + 4 f_{3} + f_{4}\\\\f_{10} = f_{0} + 5 f_{1} + 10 f_{2} + 10 f_{3} + 5 f_{4} + f_{5}\\\\f_{12} = f_{0} + 6 f_{1} + 15 f_{2} + 20 f_{3} + 15 f_{4} + 6 f_{5} + f_{6}\\\\f_{14} = f_{0} + 7 f_{1} + 21 f_{2} + 35 f_{3} + 35 f_{4} + 21 f_{5} + 7 f_{6} + f_{7}\\\\f_{16} = f_{0} + 8 f_{1} + 28 f_{2} + 56 f_{3} + 70 f_{4} + 56 f_{5} + 28 f_{6} + 8 f_{7} + f_{8}\\\\f_{18} = f_{0} + 9 f_{1} + 36 f_{2} + 84 f_{3} + 126 f_{4} + 126 f_{5} + 84 f_{6} + 36 f_{7} + 9 f_{8} + f_{9}\\\\f_{20} = f_{0} + 10 f_{1} + 45 f_{2} + 120 f_{3} + 210 f_{4} + 252 f_{5} + 210 f_{6} + 120 f_{7} + 45 f_{8} + 10 f_{9} + f_{10} \\end{array}$$"
      ],
      "text/plain": [
       "<IPython.core.display.Latex object>"
      ]
     },
     "execution_count": 12,
     "metadata": {},
     "output_type": "execute_result"
    }
   ],
   "source": [
    "latex_array_src(eqs)"
   ]
  },
  {
   "cell_type": "code",
   "execution_count": 13,
   "metadata": {
    "collapsed": false
   },
   "outputs": [
    {
     "data": {
      "text/latex": [
       "$$\\left ( \\left[\\begin{array}{ccccccccccc}1 & 0 & 0 & 0 & 0 & 0 & 0 & 0 & 0 & 0 & 0\\\\1 & 1 & 0 & 0 & 0 & 0 & 0 & 0 & 0 & 0 & 0\\\\1 & 2 & 1 & 0 & 0 & 0 & 0 & 0 & 0 & 0 & 0\\\\1 & 3 & 3 & 1 & 0 & 0 & 0 & 0 & 0 & 0 & 0\\\\1 & 4 & 6 & 4 & 1 & 0 & 0 & 0 & 0 & 0 & 0\\\\1 & 5 & 10 & 10 & 5 & 1 & 0 & 0 & 0 & 0 & 0\\\\1 & 6 & 15 & 20 & 15 & 6 & 1 & 0 & 0 & 0 & 0\\\\1 & 7 & 21 & 35 & 35 & 21 & 7 & 1 & 0 & 0 & 0\\\\1 & 8 & 28 & 56 & 70 & 56 & 28 & 8 & 1 & 0 & 0\\\\1 & 9 & 36 & 84 & 126 & 126 & 84 & 36 & 9 & 1 & 0\\\\1 & 10 & 45 & 120 & 210 & 252 & 210 & 120 & 45 & 10 & 1\\end{array}\\right], \\quad \\left[\\begin{matrix}f_{0}\\\\f_{1}\\\\f_{2}\\\\f_{3}\\\\f_{4}\\\\f_{5}\\\\f_{6}\\\\f_{7}\\\\f_{8}\\\\f_{9}\\\\f_{10}\\end{matrix}\\right], \\quad \\left[\\begin{matrix}f_{0}\\\\f_{2}\\\\f_{4}\\\\f_{6}\\\\f_{8}\\\\f_{10}\\\\f_{12}\\\\f_{14}\\\\f_{16}\\\\f_{18}\\\\f_{20}\\end{matrix}\\right]\\right )$$"
      ],
      "text/plain": [
       "⎛⎡1  0   0    0    0    0    0    0   0   0   0⎤, ⎡f[0] ⎤, ⎡f[0] ⎤⎞\n",
       "⎜⎢                                             ⎥  ⎢     ⎥  ⎢     ⎥⎟\n",
       "⎜⎢1  1   0    0    0    0    0    0   0   0   0⎥  ⎢f[1] ⎥  ⎢f[2] ⎥⎟\n",
       "⎜⎢                                             ⎥  ⎢     ⎥  ⎢     ⎥⎟\n",
       "⎜⎢1  2   1    0    0    0    0    0   0   0   0⎥  ⎢f[2] ⎥  ⎢f[4] ⎥⎟\n",
       "⎜⎢                                             ⎥  ⎢     ⎥  ⎢     ⎥⎟\n",
       "⎜⎢1  3   3    1    0    0    0    0   0   0   0⎥  ⎢f[3] ⎥  ⎢f[6] ⎥⎟\n",
       "⎜⎢                                             ⎥  ⎢     ⎥  ⎢     ⎥⎟\n",
       "⎜⎢1  4   6    4    1    0    0    0   0   0   0⎥  ⎢f[4] ⎥  ⎢f[8] ⎥⎟\n",
       "⎜⎢                                             ⎥  ⎢     ⎥  ⎢     ⎥⎟\n",
       "⎜⎢1  5   10  10    5    1    0    0   0   0   0⎥  ⎢f[5] ⎥  ⎢f[10]⎥⎟\n",
       "⎜⎢                                             ⎥  ⎢     ⎥  ⎢     ⎥⎟\n",
       "⎜⎢1  6   15  20   15    6    1    0   0   0   0⎥  ⎢f[6] ⎥  ⎢f[12]⎥⎟\n",
       "⎜⎢                                             ⎥  ⎢     ⎥  ⎢     ⎥⎟\n",
       "⎜⎢1  7   21  35   35   21    7    1   0   0   0⎥  ⎢f[7] ⎥  ⎢f[14]⎥⎟\n",
       "⎜⎢                                             ⎥  ⎢     ⎥  ⎢     ⎥⎟\n",
       "⎜⎢1  8   28  56   70   56   28    8   1   0   0⎥  ⎢f[8] ⎥  ⎢f[16]⎥⎟\n",
       "⎜⎢                                             ⎥  ⎢     ⎥  ⎢     ⎥⎟\n",
       "⎜⎢1  9   36  84   126  126  84   36   9   1   0⎥  ⎢f[9] ⎥  ⎢f[18]⎥⎟\n",
       "⎜⎢                                             ⎥  ⎢     ⎥  ⎢     ⎥⎟\n",
       "⎝⎣1  10  45  120  210  252  210  120  45  10  1⎦  ⎣f[10]⎦  ⎣f[20]⎦⎠"
      ]
     },
     "execution_count": 13,
     "metadata": {},
     "output_type": "execute_result"
    }
   ],
   "source": [
    "m,v,r"
   ]
  },
  {
   "cell_type": "markdown",
   "metadata": {},
   "source": [
    "# Identities and conjectures"
   ]
  },
  {
   "cell_type": "markdown",
   "metadata": {},
   "source": [
    "## Relation with binomial coefficients"
   ]
  },
  {
   "cell_type": "code",
   "execution_count": 14,
   "metadata": {
    "collapsed": false
   },
   "outputs": [
    {
     "data": {
      "text/latex": [
       "$$f_{n} = \\sum_{k=0}^{m} {\\binom{m}{k}} f_{k - 2 m + n}$$"
      ],
      "text/plain": [
       "         m                     \n",
       "        ____                   \n",
       "        ╲                      \n",
       "         ╲   ⎛m⎞               \n",
       "          ╲  ⎜ ⎟⋅f[k - 2*m + n]\n",
       "f[n] =    ╱  ⎝k⎠               \n",
       "         ╱                     \n",
       "        ╱                      \n",
       "        ‾‾‾‾                   \n",
       "       k = 0                   "
      ]
     },
     "execution_count": 14,
     "metadata": {},
     "output_type": "execute_result"
    }
   ],
   "source": [
    "m = symbols('m')\n",
    "thm = Eq(f[n], Sum(binomial(m,k)*f[n-2*m+k], (k,0,m)))\n",
    "thm"
   ]
  },
  {
   "cell_type": "markdown",
   "metadata": {
    "collapsed": true
   },
   "source": [
    "which is known but left as an exercise by [Benjamin and Quinn][bq], in the following form:\n",
    "\n",
    "[bq]:http://www.maa.org/press/ebooks/proofs-that-really-count"
   ]
  },
  {
   "cell_type": "code",
   "execution_count": 15,
   "metadata": {
    "collapsed": false
   },
   "outputs": [
    {
     "data": {
      "text/latex": [
       "$$f_{m + n} = \\sum_{k=0}^{m} {\\binom{m}{k}} f_{k - m + n}$$"
      ],
      "text/plain": [
       "             m                   \n",
       "            ____                 \n",
       "            ╲                    \n",
       "             ╲   ⎛m⎞             \n",
       "              ╲  ⎜ ⎟⋅f[k - m + n]\n",
       "f[m + n] =    ╱  ⎝k⎠             \n",
       "             ╱                   \n",
       "            ╱                    \n",
       "            ‾‾‾‾                 \n",
       "           k = 0                 "
      ]
     },
     "execution_count": 15,
     "metadata": {},
     "output_type": "execute_result"
    }
   ],
   "source": [
    "benjamin_quinn_thm = thm.subs({n:n+m})\n",
    "benjamin_quinn_thm"
   ]
  },
  {
   "cell_type": "markdown",
   "metadata": {},
   "source": [
    "instantiating $m=n$ we get a closed representation of the matrix-vector product seen before:"
   ]
  },
  {
   "cell_type": "code",
   "execution_count": 16,
   "metadata": {
    "collapsed": false
   },
   "outputs": [
    {
     "data": {
      "text/latex": [
       "$$f_{2 n} = \\sum_{k=0}^{n} {\\binom{n}{k}} f_{k}$$"
      ],
      "text/plain": [
       "           n           \n",
       "          ____         \n",
       "          ╲            \n",
       "           ╲   ⎛n⎞     \n",
       "            ╲  ⎜ ⎟⋅f[k]\n",
       "f[2*n] =    ╱  ⎝k⎠     \n",
       "           ╱           \n",
       "          ╱            \n",
       "          ‾‾‾‾         \n",
       "         k = 0         "
      ]
     },
     "execution_count": 16,
     "metadata": {},
     "output_type": "execute_result"
    }
   ],
   "source": [
    "benjamin_quinn_thm.subs({m:n})"
   ]
  },
  {
   "cell_type": "markdown",
   "metadata": {},
   "source": [
    "A little application of the previous identity is in the following cells:"
   ]
  },
  {
   "cell_type": "code",
   "execution_count": 17,
   "metadata": {
    "collapsed": true
   },
   "outputs": [],
   "source": [
    "def expand_sum_in_eq(eq_term, in_lhs=False, in_rhs=True):\n",
    "    lhs, rhs = eq_term.lhs, eq_term.rhs\n",
    "    return Eq(expand_Sum(lhs) if in_lhs else lhs, expand_Sum(rhs) if in_rhs else rhs)"
   ]
  },
  {
   "cell_type": "markdown",
   "metadata": {
    "collapsed": true
   },
   "source": [
    "symbolic expansion of the `Sum` object:"
   ]
  },
  {
   "cell_type": "code",
   "execution_count": 18,
   "metadata": {
    "collapsed": false
   },
   "outputs": [
    {
     "data": {
      "text/latex": [
       "$$f_{n} = f_{n - 40} + 20 f_{n - 39} + 190 f_{n - 38} + 1140 f_{n - 37} + 4845 f_{n - 36} + 15504 f_{n - 35} + 38760 f_{n - 34} + 77520 f_{n - 33} + 125970 f_{n - 32} + 167960 f_{n - 31} + 184756 f_{n - 30} + 167960 f_{n - 29} + 125970 f_{n - 28} + 77520 f_{n - 27} + 38760 f_{n - 26} + 15504 f_{n - 25} + 4845 f_{n - 24} + 1140 f_{n - 23} + 190 f_{n - 22} + 20 f_{n - 21} + f_{n - 20}$$"
      ],
      "text/plain": [
       "f[n] = f[n - 40] + 20⋅f[n - 39] + 190⋅f[n - 38] + 1140⋅f[n - 37] + 4845⋅f[n - \n",
       "36] + 15504⋅f[n - 35] + 38760⋅f[n - 34] + 77520⋅f[n - 33] + 125970⋅f[n - 32] +\n",
       " 167960⋅f[n - 31] + 184756⋅f[n - 30] + 167960⋅f[n - 29] + 125970⋅f[n - 28] + 7\n",
       "7520⋅f[n - 27] + 38760⋅f[n - 26] + 15504⋅f[n - 25] + 4845⋅f[n - 24] + 1140⋅f[n\n",
       " - 23] + 190⋅f[n - 22] + 20⋅f[n - 21] + f[n - 20]"
      ]
     },
     "execution_count": 18,
     "metadata": {},
     "output_type": "execute_result"
    }
   ],
   "source": [
    "expanded_eq = expand_sum_in_eq(thm.subs({m:20}))\n",
    "expanded_eq"
   ]
  },
  {
   "cell_type": "markdown",
   "metadata": {},
   "source": [
    "instantiate to let $f_{0}$ appears in the identity (our concept of *based instantiation*):"
   ]
  },
  {
   "cell_type": "code",
   "execution_count": 19,
   "metadata": {
    "collapsed": false
   },
   "outputs": [
    {
     "data": {
      "text/latex": [
       "$$f_{40} = f_{0} + 20 f_{1} + 190 f_{2} + 1140 f_{3} + 4845 f_{4} + 15504 f_{5} + 38760 f_{6} + 77520 f_{7} + 125970 f_{8} + 167960 f_{9} + 184756 f_{10} + 167960 f_{11} + 125970 f_{12} + 77520 f_{13} + 38760 f_{14} + 15504 f_{15} + 4845 f_{16} + 1140 f_{17} + 190 f_{18} + 20 f_{19} + f_{20}$$"
      ],
      "text/plain": [
       "f[40] = f[0] + 20⋅f[1] + 190⋅f[2] + 1140⋅f[3] + 4845⋅f[4] + 15504⋅f[5] + 38760\n",
       "⋅f[6] + 77520⋅f[7] + 125970⋅f[8] + 167960⋅f[9] + 184756⋅f[10] + 167960⋅f[11] +\n",
       " 125970⋅f[12] + 77520⋅f[13] + 38760⋅f[14] + 15504⋅f[15] + 4845⋅f[16] + 1140⋅f[\n",
       "17] + 190⋅f[18] + 20⋅f[19] + f[20]"
      ]
     },
     "execution_count": 19,
     "metadata": {},
     "output_type": "execute_result"
    }
   ],
   "source": [
    "subsed = expanded_eq.subs(n, 40)\n",
    "subsed"
   ]
  },
  {
   "cell_type": "markdown",
   "metadata": {},
   "source": [
    "finally, check the consistency using the sequence of Fibonacci numbers:"
   ]
  },
  {
   "cell_type": "code",
   "execution_count": 20,
   "metadata": {
    "collapsed": false
   },
   "outputs": [
    {
     "data": {
      "text/latex": [
       "$$\\mathrm{True}$$"
      ],
      "text/plain": [
       "True"
      ]
     },
     "execution_count": 20,
     "metadata": {},
     "output_type": "execute_result"
    }
   ],
   "source": [
    "subsed.subs(knowledge.fibonacci_numbers())"
   ]
  },
  {
   "cell_type": "markdown",
   "metadata": {},
   "source": [
    "## Looking at bottom left to top right diagonal sums\n",
    "\n",
    "Another well known recurrence about those numbers involving Pascal triangle is the following: \n",
    "$$ f_{n+1} = \\sum_{k\\geq 0}{{{n-k}\\choose{k}}}$$\n",
    "namely, a fibonacci number equals the sum in diagonals. Here we do something similar..."
   ]
  },
  {
   "cell_type": "code",
   "execution_count": 21,
   "metadata": {
    "collapsed": false
   },
   "outputs": [],
   "source": [
    "fibs = knowledge.fibonacci_numbers()"
   ]
  },
  {
   "cell_type": "markdown",
   "metadata": {},
   "source": [
    "we build the sum for each diagonal, manually: it is ugly, so we hope to refactor it and introduce a function to do so:"
   ]
  },
  {
   "cell_type": "code",
   "execution_count": 22,
   "metadata": {
    "collapsed": false
   },
   "outputs": [
    {
     "data": {
      "text/latex": [
       "$$\\begin{array}{c} f_{0} = 0\\\\f_{0} + f_{1} = 1\\\\f_{0} + 2 f_{1} = 2\\\\f_{0} + 3 f_{1} + f_{2} = 4\\\\f_{0} + 4 f_{1} + 3 f_{2} = 7\\\\f_{0} + 5 f_{1} + 6 f_{2} + f_{3} = 13\\\\f_{0} + 6 f_{1} + 10 f_{2} + 4 f_{3} = 24\\\\f_{0} + 7 f_{1} + 15 f_{2} + 10 f_{3} + f_{4} = 45\\\\f_{0} + 8 f_{1} + 21 f_{2} + 20 f_{3} + 5 f_{4} = 84\\\\f_{0} + 9 f_{1} + 28 f_{2} + 35 f_{3} + 15 f_{4} + f_{5} = 157\\\\f_{0} + 10 f_{1} + 36 f_{2} + 56 f_{3} + 35 f_{4} + 6 f_{5} = 293\\\\f_{0} + 11 f_{1} + 45 f_{2} + 84 f_{3} + 70 f_{4} + 21 f_{5} + f_{6} = 547\\\\f_{0} + 12 f_{1} + 55 f_{2} + 120 f_{3} + 126 f_{4} + 56 f_{5} + 7 f_{6} = 1021 \\end{array}$$"
      ],
      "text/plain": [
       "<IPython.core.display.Latex object>"
      ]
     },
     "execution_count": 22,
     "metadata": {},
     "output_type": "execute_result"
    }
   ],
   "source": [
    "f2_diag = f[0]\n",
    "f4_diag = f[0]+f[1]\n",
    "f6_diag = f[0]+2*f[1]\n",
    "f8_diag = f[0]+3*f[1]+f[2]\n",
    "f10_diag = f[0]+4*f[1]+3*f[2]\n",
    "f12_diag = f[0]+5*f[1]+6*f[2]+f[3]\n",
    "f14_diag = f[0]+6*f[1]+10*f[2]+4*f[3]\n",
    "f16_diag = f[0]+7*f[1]+15*f[2]+10*f[3]+f[4]\n",
    "f18_diag = f[0]+8*f[1]+21*f[2]+20*f[3]+5*f[4]\n",
    "f20_diag = f[0]+9*f[1]+28*f[2]+35*f[3]+15*f[4]+f[5]\n",
    "f22_diag = f[0]+10*f[1]+36*f[2]+56*f[3]+35*f[4]+6*f[5]\n",
    "f24_diag = f[0]+11*f[1]+45*f[2]+84*f[3]+70*f[4]+21*f[5]+f[6]\n",
    "f26_diag = f[0]+12*f[1]+55*f[2]+120*f[3]+126*f[4]+56*f[5]+7*f[6]\n",
    "\n",
    "diagonals = [Eq(f2_diag, f2_diag.subs(fibs)),\n",
    "             Eq(f4_diag, f4_diag.subs(fibs)),\n",
    "             Eq(f6_diag, f6_diag.subs(fibs)),\n",
    "             Eq(f8_diag, f8_diag.subs(fibs)),\n",
    "             Eq(f10_diag, f10_diag.subs(fibs)),\n",
    "             Eq(f12_diag, f12_diag.subs(fibs)),\n",
    "             Eq(f14_diag, f14_diag.subs(fibs)),\n",
    "             Eq(f16_diag, f16_diag.subs(fibs)),\n",
    "             Eq(f18_diag, f18_diag.subs(fibs)),\n",
    "             Eq(f20_diag, f20_diag.subs(fibs)),\n",
    "             Eq(f22_diag, f22_diag.subs(fibs)),\n",
    "             Eq(f24_diag, f24_diag.subs(fibs)),\n",
    "             Eq(f26_diag, f26_diag.subs(fibs))]\n",
    "\n",
    "latex_array_src(diagonals)"
   ]
  },
  {
   "cell_type": "markdown",
   "metadata": {},
   "source": [
    "looking at the sequence composed by coeffients in the rhs of each equation we recognize [A059633][oeis]. According to the reference, the sequence is built by the following recurrence: $a_{n} = 2a_{n-1}-a_{n-3}+a_{n-4}$, as the following expansion confirms:\n",
    "\n",
    "[oeis]:http://oeis.org/A059633"
   ]
  },
  {
   "cell_type": "code",
   "execution_count": 23,
   "metadata": {
    "collapsed": false
   },
   "outputs": [
    {
     "data": {
      "text/latex": [
       "$$1 + 2 t + 4 t^{2} + 7 t^{3} + 13 t^{4} + 24 t^{5} + 45 t^{6} + 84 t^{7} + 157 t^{8} + 293 t^{9} + 547 t^{10} + 1021 t^{11} + 1906 t^{12} + 3558 t^{13} + \\mathcal{O}\\left(t^{14}\\right)$$"
      ],
      "text/plain": [
       "             2      3       4       5       6       7        8        9       \n",
       "1 + 2⋅t + 4⋅t  + 7⋅t  + 13⋅t  + 24⋅t  + 45⋅t  + 84⋅t  + 157⋅t  + 293⋅t  + 547⋅\n",
       "\n",
       " 10         11         12         13    ⎛ 14⎞\n",
       "t   + 1021⋅t   + 1906⋅t   + 3558⋅t   + O⎝t  ⎠"
      ]
     },
     "execution_count": 23,
     "metadata": {},
     "output_type": "execute_result"
    }
   ],
   "source": [
    "def A059633_gf(x): \n",
    "    return 1/(1-2*x+x**3-x**4)\n",
    "\n",
    "A059633_gf(t).series(t,n=14)"
   ]
  },
  {
   "cell_type": "markdown",
   "metadata": {},
   "source": [
    "therefore we can conjecture the following identity:\n",
    "$$ \\sum_{k\\geq 0}{{{n-k}\\choose{k}}}f_{k} = [t^{n}]\\frac{t}{1-2t+t^{3}-t^{4}}$$"
   ]
  },
  {
   "cell_type": "markdown",
   "metadata": {},
   "source": [
    "## Matrix characterization of $f_{2n+1}, \\forall n \\in\\mathbb{N}$"
   ]
  },
  {
   "cell_type": "code",
   "execution_count": 24,
   "metadata": {
    "collapsed": true
   },
   "outputs": [],
   "source": [
    "def do_memberwise_on_eqs(an_eq, another_eq, operator=lambda x, y: Add(x,y,evaluate=True)):\n",
    "    return Eq(operator(an_eq.lhs, another_eq.lhs), operator(an_eq.rhs, another_eq.rhs))\n",
    "\n",
    "def swap_eq(eq_term): return Eq(eq_term.rhs, eq_term.lhs)"
   ]
  },
  {
   "cell_type": "code",
   "execution_count": 25,
   "metadata": {
    "collapsed": false
   },
   "outputs": [
    {
     "data": {
      "text/latex": [
       "$$f_{0} + f_{2} + f_{4} + f_{6} + f_{8} + f_{10} + f_{12} + f_{14} + f_{16} + f_{18} + f_{20} = 11 f_{0} + 55 f_{1} + 165 f_{2} + 330 f_{3} + 462 f_{4} + 462 f_{5} + 330 f_{6} + 165 f_{7} + 55 f_{8} + 11 f_{9} + f_{10}$$"
      ],
      "text/plain": [
       "f[0] + f[2] + f[4] + f[6] + f[8] + f[10] + f[12] + f[14] + f[16] + f[18] + f[2\n",
       "0] = 11⋅f[0] + 55⋅f[1] + 165⋅f[2] + 330⋅f[3] + 462⋅f[4] + 462⋅f[5] + 330⋅f[6] \n",
       "+ 165⋅f[7] + 55⋅f[8] + 11⋅f[9] + f[10]"
      ]
     },
     "execution_count": 25,
     "metadata": {},
     "output_type": "execute_result"
    }
   ],
   "source": [
    "reduce(do_memberwise_on_eqs, eqs)"
   ]
  },
  {
   "cell_type": "code",
   "execution_count": 26,
   "metadata": {
    "collapsed": false
   },
   "outputs": [
    {
     "data": {
      "text/latex": [
       "$$f_{2 n + 1} - 1 = \\sum_{k=0}^{n} f_{2 k}$$"
      ],
      "text/plain": [
       "                   n         \n",
       "                  ___        \n",
       "                  ╲          \n",
       "                   ╲   f[2*k]\n",
       "f[2*n + 1] - 1 =   ╱         \n",
       "                  ╱          \n",
       "                  ‾‾‾        \n",
       "                 k = 0       "
      ]
     },
     "execution_count": 26,
     "metadata": {},
     "output_type": "execute_result"
    }
   ],
   "source": [
    "even_subscript_fibonacci_eq = Eq(f[2*n+1]-1, Sum(f[2*k],(k,0,n)))\n",
    "even_subscript_fibonacci_eq"
   ]
  },
  {
   "cell_type": "code",
   "execution_count": 27,
   "metadata": {
    "collapsed": false
   },
   "outputs": [
    {
     "data": {
      "text/latex": [
       "$$\\left ( f_{43} - 1 = f_{0} + f_{2} + f_{4} + f_{6} + f_{8} + f_{10} + f_{12} + f_{14} + f_{16} + f_{18} + f_{20} + f_{22} + f_{24} + f_{26} + f_{28} + f_{30} + f_{32} + f_{34} + f_{36} + f_{38} + f_{40} + f_{42}, \\quad \\mathrm{True}\\right )$$"
      ],
      "text/plain": [
       "(f[43] - 1 = f[0] + f[2] + f[4] + f[6] + f[8] + f[10] + f[12] + f[14] + f[16] \n",
       "+ f[18] + f[20] + f[22] + f[24] + f[26] + f[28] + f[30] + f[32] + f[34] + f[36\n",
       "] + f[38] + f[40] + f[42], True)"
      ]
     },
     "execution_count": 27,
     "metadata": {},
     "output_type": "execute_result"
    }
   ],
   "source": [
    "example = even_subscript_fibonacci_eq.subs(n,21)\n",
    "example_expanded = expand_sum_in_eq(example)\n",
    "example_expanded, example_expanded.subs(fibs)"
   ]
  },
  {
   "cell_type": "code",
   "execution_count": 28,
   "metadata": {
    "collapsed": false
   },
   "outputs": [],
   "source": [
    "from itertools import accumulate\n",
    "\n",
    "enum_range = range(0,50,2)\n",
    "\n",
    "def worker(accumulated_pair, current_pair):\n",
    "    index, current = current_pair\n",
    "    _, accumulated = accumulated_pair\n",
    "    \n",
    "    summed_eq = do_memberwise_on_eqs(accumulated, current)\n",
    "    \n",
    "    return index, summed_eq\n",
    "\n",
    "def subs_fib_thm(pair):\n",
    "    index, current_eq = pair\n",
    "    expanded_thm = expand_sum_in_eq(even_subscript_fibonacci_eq.subs({n:Integer(index)/2}))\n",
    "    return index, current_eq, expanded_thm\n",
    "\n",
    "#def eq_to_subs_dict(eq_term): return {eq_term.lhs:eq_term.rhs}\n",
    "\n",
    "def apply_subs_on_lhs(triple):\n",
    "    index, current_eq, thm = triple\n",
    "    return current_eq.subs({thm.rhs:thm.lhs})\n",
    "\n",
    "def latex_array_env_of_eqs(mapped):\n",
    "    from string import Template\n",
    "    template = Template(r\"\"\"\\begin{array}{c}$content\\end{array}\"\"\")\n",
    "    return template.substitute(content=\"\\n\".join(mapped))\n",
    "\n"
   ]
  },
  {
   "cell_type": "code",
   "execution_count": 29,
   "metadata": {
    "collapsed": false
   },
   "outputs": [],
   "source": [
    "triangle = accumulate(zip(enum_range, eqs), worker)"
   ]
  },
  {
   "cell_type": "code",
   "execution_count": 30,
   "metadata": {
    "collapsed": true
   },
   "outputs": [],
   "source": [
    "triangle = map(subs_fib_thm, triangle)"
   ]
  },
  {
   "cell_type": "code",
   "execution_count": 31,
   "metadata": {
    "collapsed": false
   },
   "outputs": [],
   "source": [
    "triangle = list(map(apply_subs_on_lhs, triangle))\n",
    "triangle[0] = Eq(f[1]-1,f[0])"
   ]
  },
  {
   "cell_type": "code",
   "execution_count": 32,
   "metadata": {
    "collapsed": false
   },
   "outputs": [
    {
     "data": {
      "text/latex": [
       "$$\\begin{array}{c} f_{1} - 1 = f_{0}\\\\f_{3} - 1 = 2 f_{0} + f_{1}\\\\f_{5} - 1 = 3 f_{0} + 3 f_{1} + f_{2}\\\\f_{7} - 1 = 4 f_{0} + 6 f_{1} + 4 f_{2} + f_{3}\\\\f_{9} - 1 = 5 f_{0} + 10 f_{1} + 10 f_{2} + 5 f_{3} + f_{4}\\\\f_{11} - 1 = 6 f_{0} + 15 f_{1} + 20 f_{2} + 15 f_{3} + 6 f_{4} + f_{5}\\\\f_{13} - 1 = 7 f_{0} + 21 f_{1} + 35 f_{2} + 35 f_{3} + 21 f_{4} + 7 f_{5} + f_{6}\\\\f_{15} - 1 = 8 f_{0} + 28 f_{1} + 56 f_{2} + 70 f_{3} + 56 f_{4} + 28 f_{5} + 8 f_{6} + f_{7}\\\\f_{17} - 1 = 9 f_{0} + 36 f_{1} + 84 f_{2} + 126 f_{3} + 126 f_{4} + 84 f_{5} + 36 f_{6} + 9 f_{7} + f_{8}\\\\f_{19} - 1 = 10 f_{0} + 45 f_{1} + 120 f_{2} + 210 f_{3} + 252 f_{4} + 210 f_{5} + 120 f_{6} + 45 f_{7} + 10 f_{8} + f_{9}\\\\f_{21} - 1 = 11 f_{0} + 55 f_{1} + 165 f_{2} + 330 f_{3} + 462 f_{4} + 462 f_{5} + 330 f_{6} + 165 f_{7} + 55 f_{8} + 11 f_{9} + f_{10} \\end{array}$$"
      ],
      "text/plain": [
       "<IPython.core.display.Latex object>"
      ]
     },
     "execution_count": 32,
     "metadata": {},
     "output_type": "execute_result"
    }
   ],
   "source": [
    "latex_array_src(triangle)"
   ]
  },
  {
   "cell_type": "code",
   "execution_count": 33,
   "metadata": {
    "collapsed": false
   },
   "outputs": [
    {
     "data": {
      "text/plain": [
       "True"
      ]
     },
     "execution_count": 33,
     "metadata": {},
     "output_type": "execute_result"
    }
   ],
   "source": [
    "all(map(lambda eq: eq.subs(fibs), triangle))"
   ]
  },
  {
   "cell_type": "code",
   "execution_count": 34,
   "metadata": {
    "collapsed": false
   },
   "outputs": [
    {
     "data": {
      "text/latex": [
       "$$\\left ( \\left[\\begin{array}{ccccccccccc}1 & 0 & 0 & 0 & 0 & 0 & 0 & 0 & 0 & 0 & 0\\\\2 & 1 & 0 & 0 & 0 & 0 & 0 & 0 & 0 & 0 & 0\\\\3 & 3 & 1 & 0 & 0 & 0 & 0 & 0 & 0 & 0 & 0\\\\4 & 6 & 4 & 1 & 0 & 0 & 0 & 0 & 0 & 0 & 0\\\\5 & 10 & 10 & 5 & 1 & 0 & 0 & 0 & 0 & 0 & 0\\\\6 & 15 & 20 & 15 & 6 & 1 & 0 & 0 & 0 & 0 & 0\\\\7 & 21 & 35 & 35 & 21 & 7 & 1 & 0 & 0 & 0 & 0\\\\8 & 28 & 56 & 70 & 56 & 28 & 8 & 1 & 0 & 0 & 0\\\\9 & 36 & 84 & 126 & 126 & 84 & 36 & 9 & 1 & 0 & 0\\\\10 & 45 & 120 & 210 & 252 & 210 & 120 & 45 & 10 & 1 & 0\\\\11 & 55 & 165 & 330 & 462 & 462 & 330 & 165 & 55 & 11 & 1\\end{array}\\right], \\quad \\left[\\begin{matrix}f_{0}\\\\f_{1}\\\\f_{2}\\\\f_{3}\\\\f_{4}\\\\f_{5}\\\\f_{6}\\\\f_{7}\\\\f_{8}\\\\f_{9}\\\\f_{10}\\end{matrix}\\right], \\quad \\left[\\begin{matrix}f_{1} - 1\\\\f_{3} - 1\\\\f_{5} - 1\\\\f_{7} - 1\\\\f_{9} - 1\\\\f_{11} - 1\\\\f_{13} - 1\\\\f_{15} - 1\\\\f_{17} - 1\\\\f_{19} - 1\\\\f_{21} - 1\\end{matrix}\\right]\\right )$$"
      ],
      "text/plain": [
       "⎛⎡1   0    0    0    0    0    0    0   0   0   0⎤, ⎡f[0] ⎤, ⎡f[1] - 1 ⎤⎞\n",
       "⎜⎢                                               ⎥  ⎢     ⎥  ⎢         ⎥⎟\n",
       "⎜⎢2   1    0    0    0    0    0    0   0   0   0⎥  ⎢f[1] ⎥  ⎢f[3] - 1 ⎥⎟\n",
       "⎜⎢                                               ⎥  ⎢     ⎥  ⎢         ⎥⎟\n",
       "⎜⎢3   3    1    0    0    0    0    0   0   0   0⎥  ⎢f[2] ⎥  ⎢f[5] - 1 ⎥⎟\n",
       "⎜⎢                                               ⎥  ⎢     ⎥  ⎢         ⎥⎟\n",
       "⎜⎢4   6    4    1    0    0    0    0   0   0   0⎥  ⎢f[3] ⎥  ⎢f[7] - 1 ⎥⎟\n",
       "⎜⎢                                               ⎥  ⎢     ⎥  ⎢         ⎥⎟\n",
       "⎜⎢5   10  10    5    1    0    0    0   0   0   0⎥  ⎢f[4] ⎥  ⎢f[9] - 1 ⎥⎟\n",
       "⎜⎢                                               ⎥  ⎢     ⎥  ⎢         ⎥⎟\n",
       "⎜⎢6   15  20   15    6    1    0    0   0   0   0⎥  ⎢f[5] ⎥  ⎢f[11] - 1⎥⎟\n",
       "⎜⎢                                               ⎥  ⎢     ⎥  ⎢         ⎥⎟\n",
       "⎜⎢7   21  35   35   21    7    1    0   0   0   0⎥  ⎢f[6] ⎥  ⎢f[13] - 1⎥⎟\n",
       "⎜⎢                                               ⎥  ⎢     ⎥  ⎢         ⎥⎟\n",
       "⎜⎢8   28  56   70   56   28    8    1   0   0   0⎥  ⎢f[7] ⎥  ⎢f[15] - 1⎥⎟\n",
       "⎜⎢                                               ⎥  ⎢     ⎥  ⎢         ⎥⎟\n",
       "⎜⎢9   36  84   126  126  84   36    9   1   0   0⎥  ⎢f[8] ⎥  ⎢f[17] - 1⎥⎟\n",
       "⎜⎢                                               ⎥  ⎢     ⎥  ⎢         ⎥⎟\n",
       "⎜⎢10  45  120  210  252  210  120  45   10  1   0⎥  ⎢f[9] ⎥  ⎢f[19] - 1⎥⎟\n",
       "⎜⎢                                               ⎥  ⎢     ⎥  ⎢         ⎥⎟\n",
       "⎝⎣11  55  165  330  462  462  330  165  55  11  1⎦  ⎣f[10]⎦  ⎣f[21] - 1⎦⎠"
      ]
     },
     "execution_count": 34,
     "metadata": {},
     "output_type": "execute_result"
    }
   ],
   "source": [
    "to_matrix_notation(triangle, f , range(0, 11))"
   ]
  },
  {
   "cell_type": "code",
   "execution_count": 35,
   "metadata": {
    "collapsed": false
   },
   "outputs": [
    {
     "data": {
      "text/latex": [
       "$$\\begin{array}{c} f_{3} - 1 = f_{1}\\\\f_{5} - 1 = 3 f_{1} + f_{2}\\\\f_{7} - 1 = 6 f_{1} + 4 f_{2} + f_{3}\\\\f_{9} - 1 = 10 f_{1} + 10 f_{2} + 5 f_{3} + f_{4}\\\\f_{11} - 1 = 15 f_{1} + 20 f_{2} + 15 f_{3} + 6 f_{4} + f_{5}\\\\f_{13} - 1 = 21 f_{1} + 35 f_{2} + 35 f_{3} + 21 f_{4} + 7 f_{5} + f_{6}\\\\f_{15} - 1 = 28 f_{1} + 56 f_{2} + 70 f_{3} + 56 f_{4} + 28 f_{5} + 8 f_{6} + f_{7}\\\\f_{17} - 1 = 36 f_{1} + 84 f_{2} + 126 f_{3} + 126 f_{4} + 84 f_{5} + 36 f_{6} + 9 f_{7} + f_{8}\\\\f_{19} - 1 = 45 f_{1} + 120 f_{2} + 210 f_{3} + 252 f_{4} + 210 f_{5} + 120 f_{6} + 45 f_{7} + 10 f_{8} + f_{9}\\\\f_{21} - 1 = 55 f_{1} + 165 f_{2} + 330 f_{3} + 462 f_{4} + 462 f_{5} + 330 f_{6} + 165 f_{7} + 55 f_{8} + 11 f_{9} + f_{10} \\end{array}$$"
      ],
      "text/plain": [
       "<IPython.core.display.Latex object>"
      ]
     },
     "execution_count": 35,
     "metadata": {},
     "output_type": "execute_result"
    }
   ],
   "source": [
    "triangle = [eq.subs({f[0]:fibs[f[0]]}, simultaneous=True) for eq in triangle[1:]]\n",
    "latex_array_src(triangle)"
   ]
  },
  {
   "cell_type": "code",
   "execution_count": 36,
   "metadata": {
    "collapsed": false
   },
   "outputs": [
    {
     "data": {
      "text/latex": [
       "$$\\left ( \\left[\\begin{matrix}1 & 0 & 0 & 0 & 0 & 0 & 0 & 0 & 0 & 0\\\\3 & 1 & 0 & 0 & 0 & 0 & 0 & 0 & 0 & 0\\\\6 & 4 & 1 & 0 & 0 & 0 & 0 & 0 & 0 & 0\\\\10 & 10 & 5 & 1 & 0 & 0 & 0 & 0 & 0 & 0\\\\15 & 20 & 15 & 6 & 1 & 0 & 0 & 0 & 0 & 0\\\\21 & 35 & 35 & 21 & 7 & 1 & 0 & 0 & 0 & 0\\\\28 & 56 & 70 & 56 & 28 & 8 & 1 & 0 & 0 & 0\\\\36 & 84 & 126 & 126 & 84 & 36 & 9 & 1 & 0 & 0\\\\45 & 120 & 210 & 252 & 210 & 120 & 45 & 10 & 1 & 0\\\\55 & 165 & 330 & 462 & 462 & 330 & 165 & 55 & 11 & 1\\end{matrix}\\right], \\quad \\left[\\begin{matrix}f_{1}\\\\f_{2}\\\\f_{3}\\\\f_{4}\\\\f_{5}\\\\f_{6}\\\\f_{7}\\\\f_{8}\\\\f_{9}\\\\f_{10}\\end{matrix}\\right], \\quad \\left[\\begin{matrix}f_{3} - 1\\\\f_{5} - 1\\\\f_{7} - 1\\\\f_{9} - 1\\\\f_{11} - 1\\\\f_{13} - 1\\\\f_{15} - 1\\\\f_{17} - 1\\\\f_{19} - 1\\\\f_{21} - 1\\end{matrix}\\right]\\right )$$"
      ],
      "text/plain": [
       "⎛⎡1    0    0    0    0    0    0   0   0   0⎤, ⎡f[1] ⎤, ⎡f[3] - 1 ⎤⎞\n",
       "⎜⎢                                           ⎥  ⎢     ⎥  ⎢         ⎥⎟\n",
       "⎜⎢3    1    0    0    0    0    0   0   0   0⎥  ⎢f[2] ⎥  ⎢f[5] - 1 ⎥⎟\n",
       "⎜⎢                                           ⎥  ⎢     ⎥  ⎢         ⎥⎟\n",
       "⎜⎢6    4    1    0    0    0    0   0   0   0⎥  ⎢f[3] ⎥  ⎢f[7] - 1 ⎥⎟\n",
       "⎜⎢                                           ⎥  ⎢     ⎥  ⎢         ⎥⎟\n",
       "⎜⎢10  10    5    1    0    0    0   0   0   0⎥  ⎢f[4] ⎥  ⎢f[9] - 1 ⎥⎟\n",
       "⎜⎢                                           ⎥  ⎢     ⎥  ⎢         ⎥⎟\n",
       "⎜⎢15  20   15    6    1    0    0   0   0   0⎥  ⎢f[5] ⎥  ⎢f[11] - 1⎥⎟\n",
       "⎜⎢                                           ⎥  ⎢     ⎥  ⎢         ⎥⎟\n",
       "⎜⎢21  35   35   21    7    1    0   0   0   0⎥  ⎢f[6] ⎥  ⎢f[13] - 1⎥⎟\n",
       "⎜⎢                                           ⎥  ⎢     ⎥  ⎢         ⎥⎟\n",
       "⎜⎢28  56   70   56   28    8    1   0   0   0⎥  ⎢f[7] ⎥  ⎢f[15] - 1⎥⎟\n",
       "⎜⎢                                           ⎥  ⎢     ⎥  ⎢         ⎥⎟\n",
       "⎜⎢36  84   126  126  84   36    9   1   0   0⎥  ⎢f[8] ⎥  ⎢f[17] - 1⎥⎟\n",
       "⎜⎢                                           ⎥  ⎢     ⎥  ⎢         ⎥⎟\n",
       "⎜⎢45  120  210  252  210  120  45   10  1   0⎥  ⎢f[9] ⎥  ⎢f[19] - 1⎥⎟\n",
       "⎜⎢                                           ⎥  ⎢     ⎥  ⎢         ⎥⎟\n",
       "⎝⎣55  165  330  462  462  330  165  55  11  1⎦  ⎣f[10]⎦  ⎣f[21] - 1⎦⎠"
      ]
     },
     "execution_count": 36,
     "metadata": {},
     "output_type": "execute_result"
    }
   ],
   "source": [
    "to_matrix_notation(triangle, f, range(1,11))"
   ]
  },
  {
   "cell_type": "markdown",
   "metadata": {},
   "source": [
    "which is the sequence [A153861][oeis]. Some details about the undergoing *Binomial transform* are described in [this][companion] companion notebook.\n",
    "\n",
    "[oeis]:http://oeis.org/A153861\n",
    "[companion]:http://nbviewer.jupyter.org/github/massimo-nocentini/PhD/blob/master/courses/paa/sympy-notebook/binomial-transform-applied-to-fibonacci-numbers.ipynb?flush_cache=true"
   ]
  },
  {
   "cell_type": "markdown",
   "metadata": {},
   "source": [
    "# Graphical representations\n",
    "\n",
    "The following quoted content is kept from a [page in the OEIS][oeis:fib:page].\n",
    "\n",
    ">Figure drawn by *Henry Bottomley*, July 27 2000.\n",
    "<img src=\"http://oeis.org/A000045/a000045h.gif\" alt=\"Fibonacci tree\" style=\"float: center; width: 30%; height: 30%;\">\n",
    "If turned sideways (so that the red node at the left is at the bottom), this may be regarded as the *Fibonacci Tree*, which grows according to the rules that:\n",
    "   - every red node turns blue after a year\n",
    "   - every blue node produces one blue node and one red node after a year\n",
    "   - initially there is a single red node\n",
    "   \n",
    ">At the $n$th year there are $F_n$ nodes.\n",
    "\n",
    "\n",
    "Here is a different representation of the same tree, also from the same source:\n",
    ">This grows according to the rules that every mature branch sprouts a new branch at the end of each year, and new branches take a year to reach maturity.Mature branches are indicated by heavy lines. At the end of the nth year there are $F_n$ branches:\n",
    "<img src=\"http://oeis.org/A000045/a000045.gif\" alt=\"Fibonacci tree\" style=\"float: center; width:40%; height: 40%;\">\n",
    "\n",
    "Another version of the Fibonacci tree can be constructed as follows:\n",
    ">Start with a node labeled 0.\n",
    "From any given node, draw branches extending up from it labeled $n+1$ and $2n$.\n",
    "In this way every node is labeled with a unique nonnegative integer, and every nonnegative integer appears exactly once. This is the \"state diagram\" for the process \"if $n$ is even divide by 2, if $n$ is odd subtract 1\".\n",
    "\n",
    "Another funny image, taken from a italian book for children, is the following:<br>\n",
    "<img src=\"https://github.com/massimo-nocentini/scratchpad/blob/master/gfx/combinatorics/fibonacci-pets.jpg?raw=true\" alt=\"Fibonacci pets\" style=\"float: center; width:70%; height: 70%;\">\n",
    "\n",
    "\n",
    "[oeis:fib:page]:http://oeis.org/A000045/a000045.html"
   ]
  },
  {
   "cell_type": "markdown",
   "metadata": {},
   "source": [
    "---\n",
    "<a rel=\"license\" href=\"http://creativecommons.org/licenses/by-nc-sa/4.0/\"><img alt=\"Creative Commons License\" style=\"border-width:0\" src=\"https://i.creativecommons.org/l/by-nc-sa/4.0/88x31.png\" /></a><br />This work is licensed under a <a rel=\"license\" href=\"http://creativecommons.org/licenses/by-nc-sa/4.0/\">Creative Commons Attribution-NonCommercial-ShareAlike 4.0 International License</a>."
   ]
  }
 ],
 "metadata": {
  "kernelspec": {
   "display_name": "Python 3",
   "language": "python",
   "name": "python3"
  },
  "language_info": {
   "codemirror_mode": {
    "name": "ipython",
    "version": 3
   },
   "file_extension": ".py",
   "mimetype": "text/x-python",
   "name": "python",
   "nbconvert_exporter": "python",
   "pygments_lexer": "ipython3",
   "version": "3.5.2"
  }
 },
 "nbformat": 4,
 "nbformat_minor": 0
}
