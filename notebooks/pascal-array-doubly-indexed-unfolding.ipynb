{
 "cells": [
  {
   "cell_type": "markdown",
   "metadata": {},
   "source": [
    "<p>\n",
    "<img src=\"http://www.cerm.unifi.it/chianti/images/logo%20unifi_positivo.jpg\" \n",
    "        alt=\"UniFI logo\" style=\"float:left;width:20%;height:20%;\">\n",
    "<div align=\"right\"> Massimo Nocentini<br>\n",
    "<small>\n",
    "<br>September 27, 2016: refactoring and sync\n",
    "</small>\n",
    "</div>\n",
    "</p>\n",
    "\n",
    "<div align=\"center\">\n",
    "<br><b>Abstract</b><br>\n",
    "In this notebook we study the *Pascal triangle*, locking at it recursively: using it's $A$-sequence, we perform a series of unfolding using the main recurrence relation, where subscripts dependends on *two* dimensions, as rewriting rule. This is a natural enhancement to the case of recurrences where subscripts have *one* dimension only, as the *Fibonacci* sequence; on the other hand, Pascal array is a deeply studied and well know triangle, yet simple, toy we can play with.\n",
    "</div>\n",
    "<br>"
   ]
  },
  {
   "cell_type": "code",
   "execution_count": 1,
   "metadata": {
    "collapsed": false
   },
   "outputs": [],
   "source": [
    "%run \"../src/start_session.py\"\n",
    "%run \"../src/recurrences.py\""
   ]
  },
  {
   "cell_type": "code",
   "execution_count": 1,
   "metadata": {
    "collapsed": true
   },
   "outputs": [],
   "source": [
    "import oeis"
   ]
  },
  {
   "cell_type": "markdown",
   "metadata": {},
   "source": [
    "# Pascal array $\\mathcal{P}$\n",
    "\n",
    "This notebook studies the Riordan array $\\mathcal{P}$, aka the *Pascal triangle*, defined according to the following definition:\n",
    "\n",
    "$$\\mathcal{P}=\\left(\\frac{1}{1-t}, \\frac{t}{1-t}\\right)$$\n",
    "\n",
    "with $A$-sequence $A(t)=1+t$ and $Z$-sequence $Z(t)=1$."
   ]
  },
  {
   "cell_type": "code",
   "execution_count": 3,
   "metadata": {
    "collapsed": false
   },
   "outputs": [],
   "source": [
    "d = IndexedBase('d')\n",
    "n, k = symbols('n k')\n",
    "\n",
    "pascal_recurrence_spec = recurrence_spec(recurrence_eq=Eq(d[n+1, k+1], d[n, k] + d[n, k+1]), \n",
    "                                         recurrence_symbol=d, \n",
    "                                         variables=[n,k])"
   ]
  },
  {
   "cell_type": "code",
   "execution_count": 4,
   "metadata": {
    "collapsed": false
   },
   "outputs": [
    {
     "data": {
      "text/html": [
       "$\\left(\\Theta, \\Gamma\\right)_{n,k}^{d}$ where: <br><ul><li>$\\Theta = \\left\\{ d_{n + 1,k + 1} = d_{n,k} + d_{n,k + 1} \\right\\}$</li><li>$\\Gamma = \\left\\{\\begin{array}{c}\\end{array}\\right\\}$</li></ul>"
      ],
      "text/plain": [
       "<__main__.recurrence_spec at 0x6ee13830>"
      ]
     },
     "execution_count": 4,
     "metadata": {},
     "output_type": "execute_result"
    }
   ],
   "source": [
    "pascal_recurrence_spec"
   ]
  },
  {
   "cell_type": "code",
   "execution_count": 5,
   "metadata": {
    "collapsed": false
   },
   "outputs": [],
   "source": [
    "unfolded = pascal_recurrence_spec.unfold(depth=2)"
   ]
  },
  {
   "cell_type": "code",
   "execution_count": 6,
   "metadata": {
    "collapsed": false
   },
   "outputs": [
    {
     "data": {
      "text/html": [
       "$\\left(\\Theta, \\Gamma\\right)_{n,k}^{d}$ where: <br><ul><li>$\\Theta = \\left\\{ d_{n + 1,k + 1} = 3 d_{n - 2,k} + d_{n - 2,k - 2} + 3 d_{n - 2,k - 1} + d_{n - 2,k + 1} \\right\\}$</li><li>$\\Gamma = \\left\\{\\begin{array}{c}d_{n - 1,k - 1} = d_{n - 2,k - 2} + d_{n - 2,k - 1}\\\\d_{n - 1,k} = d_{n - 2,k} + d_{n - 2,k - 1}\\\\d_{n - 1,k + 1} = d_{n - 2,k} + d_{n - 2,k + 1}\\\\d_{n,k} = d_{n - 1,k} + d_{n - 1,k - 1}\\\\d_{n,k + 1} = d_{n - 1,k} + d_{n - 1,k + 1}\\end{array}\\right\\}$</li></ul>"
      ],
      "text/plain": [
       "<__main__.recurrence_spec at 0x6edd9110>"
      ]
     },
     "execution_count": 6,
     "metadata": {},
     "output_type": "execute_result"
    }
   ],
   "source": [
    "unfolded"
   ]
  },
  {
   "cell_type": "code",
   "execution_count": 7,
   "metadata": {
    "collapsed": false
   },
   "outputs": [
    {
     "data": {
      "text/html": [
       "$\\left(\\Theta, \\Gamma\\right)_{n,k}^{d}$ where: <br><ul><li>$\\Theta = \\left\\{ d_{10,5} = d_{7,2} + 3 d_{7,3} + 3 d_{7,4} + d_{7,5} \\right\\}$</li><li>$\\Gamma = \\left\\{\\begin{array}{c}d_{8,3} = d_{7,2} + d_{7,3}\\\\d_{8,4} = d_{7,3} + d_{7,4}\\\\d_{8,5} = d_{7,4} + d_{7,5}\\\\d_{9,4} = d_{8,3} + d_{8,4}\\\\d_{9,5} = d_{8,4} + d_{8,5}\\end{array}\\right\\}$</li></ul>"
      ],
      "text/plain": [
       "<__main__.recurrence_spec at 0x709ed270>"
      ]
     },
     "execution_count": 7,
     "metadata": {},
     "output_type": "execute_result"
    }
   ],
   "source": [
    "instantiated = unfolded.instantiate(strategy=raw(substitutions={n:9,k:4}))\n",
    "instantiated"
   ]
  },
  {
   "cell_type": "code",
   "execution_count": 8,
   "metadata": {
    "collapsed": false
   },
   "outputs": [
    {
     "data": {
      "text/html": [
       "$\\left(\\Theta, \\Gamma\\right)_{n,k}^{d}$ where: <br><ul><li>$\\Theta = \\left\\{ d_{10,5} = 252 \\right\\}$</li><li>$\\Gamma = \\left\\{\\begin{array}{c}d_{8,3} = 56\\\\d_{8,4} = 70\\\\d_{8,5} = 56\\\\d_{9,4} = d_{8,3} + d_{8,4}\\\\d_{9,5} = d_{8,4} + d_{8,5}\\end{array}\\right\\}$</li></ul>"
      ],
      "text/plain": [
       "<__main__.recurrence_spec at 0x7493dc90>"
      ]
     },
     "execution_count": 8,
     "metadata": {},
     "output_type": "execute_result"
    }
   ],
   "source": [
    "known_binomials = {d[n,k]:binomial(n,k) for n in [7] for k in range(2,6)}\n",
    "\n",
    "checked = instantiated.instantiate(strategy=raw(substitutions=known_binomials))\n",
    "checked"
   ]
  },
  {
   "cell_type": "code",
   "execution_count": 9,
   "metadata": {
    "collapsed": false,
    "scrolled": true
   },
   "outputs": [
    {
     "data": {
      "text/html": [
       "$\\left(\\Theta, \\Gamma\\right)_{n,k}^{d}$ where: <br><ul><li>$\\Theta = \\left\\{ d_{10,5} = 252 \\right\\}$</li><li>$\\Gamma = \\left\\{\\begin{array}{c}d_{8,3} = 56\\\\d_{8,4} = 70\\\\d_{8,5} = 56\\\\d_{9,4} = 126\\\\d_{9,5} = 126\\end{array}\\right\\}$</li></ul>"
      ],
      "text/plain": [
       "<__main__.recurrence_spec at 0x6edd9710>"
      ]
     },
     "execution_count": 9,
     "metadata": {},
     "output_type": "execute_result"
    }
   ],
   "source": [
    "checked.subsume()"
   ]
  },
  {
   "cell_type": "code",
   "execution_count": 10,
   "metadata": {
    "collapsed": false
   },
   "outputs": [
    {
     "data": {
      "text/html": [
       "$\\left(\\Theta, \\Gamma\\right)_{n,k}^{d}$ where: <br><ul><li>$\\Theta = \\left\\{ d_{6,3} = d_{3,0} + 3 d_{3,1} + 3 d_{3,2} + d_{3,3} \\right\\}$</li><li>$\\Gamma = \\left\\{\\begin{array}{c}d_{4,1} = d_{3,0} + d_{3,1}\\\\d_{4,2} = d_{3,1} + d_{3,2}\\\\d_{4,3} = d_{3,2} + d_{3,3}\\\\d_{5,2} = d_{4,1} + d_{4,2}\\\\d_{5,3} = d_{4,2} + d_{4,3}\\end{array}\\right\\}$</li></ul>"
      ],
      "text/plain": [
       "<__main__.recurrence_spec at 0x6edeaff0>"
      ]
     },
     "execution_count": 10,
     "metadata": {},
     "output_type": "execute_result"
    }
   ],
   "source": [
    "based_recurrence_spec = unfolded.instantiate(strategy=based(arity=doubly_indexed()))\n",
    "based_recurrence_spec"
   ]
  },
  {
   "cell_type": "code",
   "execution_count": 11,
   "metadata": {
    "collapsed": false
   },
   "outputs": [
    {
     "data": {
      "text/html": [
       "$\\left(\\Theta, \\Gamma\\right)_{n,k}^{d}$ where: <br><ul><li>$\\Theta = \\left\\{ d_{6,3} = d_{3,0} + 3 d_{3,1} + 3 d_{3,2} + d_{3,3} \\right\\}$</li><li>$\\Gamma = \\left\\{\\begin{array}{c}d_{4,1} = d_{3,0} + d_{3,1}\\\\d_{4,2} = d_{3,1} + d_{3,2}\\\\d_{4,3} = d_{3,2} + d_{3,3}\\\\d_{5,2} = d_{3,0} + 2 d_{3,1} + d_{3,2}\\\\d_{5,3} = d_{3,1} + 2 d_{3,2} + d_{3,3}\\\\d_{8,3} = 56\\\\d_{8,4} = 70\\\\d_{8,5} = 56\\\\d_{9,4} = 126\\\\d_{9,5} = 126\\end{array}\\right\\}$</li></ul>"
      ],
      "text/plain": [
       "<__main__.recurrence_spec at 0x70306970>"
      ]
     },
     "execution_count": 11,
     "metadata": {},
     "output_type": "execute_result"
    }
   ],
   "source": [
    "based_recurrence_spec.subsume()"
   ]
  },
  {
   "cell_type": "code",
   "execution_count": 12,
   "metadata": {
    "collapsed": false
   },
   "outputs": [
    {
     "data": {
      "text/latex": [
       "\\begin{array}{c}d_{2,1} = d_{1,0} + d_{1,1}\\\\\n",
       "d_{4,2} = d_{2,0} + 2 d_{2,1} + d_{2,2}\\\\\n",
       "d_{6,3} = d_{3,0} + 3 d_{3,1} + 3 d_{3,2} + d_{3,3}\\\\\n",
       "d_{8,4} = d_{4,0} + 4 d_{4,1} + 6 d_{4,2} + 4 d_{4,3} + d_{4,4}\\\\\n",
       "d_{10,5} = d_{5,0} + 5 d_{5,1} + 10 d_{5,2} + 10 d_{5,3} + 5 d_{5,4} + d_{5,5}\\\\\n",
       "d_{12,6} = d_{6,0} + 6 d_{6,1} + 15 d_{6,2} + 20 d_{6,3} + 15 d_{6,4} + 6 d_{6,5} + d_{6,6}\\\\\\end{array}"
      ],
      "text/plain": [
       "<IPython.core.display.Latex object>"
      ]
     },
     "execution_count": 12,
     "metadata": {},
     "output_type": "execute_result"
    }
   ],
   "source": [
    "ipython_latex_description(rec_spec=pascal_recurrence_spec, depths=range(6), arity=doubly_indexed())"
   ]
  },
  {
   "cell_type": "markdown",
   "metadata": {},
   "source": [
    "# OEIS content about $\\mathcal{P}$"
   ]
  },
  {
   "cell_type": "code",
   "execution_count": 2,
   "metadata": {
    "collapsed": false
   },
   "outputs": [
    {
     "name": "stdout",
     "output_type": "stream",
     "text": [
      "*"
     ]
    }
   ],
   "source": [
    "s = oeis.oeis_search(id=7318)"
   ]
  },
  {
   "cell_type": "code",
   "execution_count": 3,
   "metadata": {
    "collapsed": false,
    "scrolled": false
   },
   "outputs": [
    {
     "data": {
      "text/markdown": [
       "_Results for query: <a href='https://oeis.org/search?q=id%3AA007318&start=0&fmt=json'>https://oeis.org/search?q=id%3AA007318&start=0&fmt=json</a>_<br><hr><div align='center'><b><a href='http://oeis.org/A007318'>A007318</a></b>: <i>Pascal's triangle read by rows: C(n,k) = binomial(n,k) = n!/(k!*(n-k)!), 0 <= k <= n.</i><br></div>\n",
       "\n",
       "by _N. J. A. Sloane_ and _Mira Bernstein_, Apr 28 1994\n",
       "\n",
       "_Keywords_: `nonn,tabl,nice,easy,core,look,hear`\n",
       "\n",
       "_Data_:\n",
       "\n",
       "$$\n",
       "\\begin{array}{c|ccccccccccc}\n",
       "n, k & 0 & 1 & 2 & 3 & 4 & 5 & 6 & 7 & 8 & 9 \\\\\n",
       "\\hline\n",
       "0 & 1 &  &  &  &  &  &  &  &  & \\\\1 & 1 & 1 &  &  &  &  &  &  &  & \\\\2 & 1 & 2 & 1 &  &  &  &  &  &  & \\\\3 & 1 & 3 & 3 & 1 &  &  &  &  &  & \\\\4 & 1 & 4 & 6 & 4 & 1 &  &  &  &  & \\\\5 & 1 & 5 & 10 & 10 & 5 & 1 &  &  &  & \\\\6 & 1 & 6 & 15 & 20 & 15 & 6 & 1 &  &  & \\\\7 & 1 & 7 & 21 & 35 & 35 & 21 & 7 & 1 &  & \\\\8 & 1 & 8 & 28 & 56 & 70 & 56 & 28 & 8 & 1 & \\\\9 & 1 & 9 & 36 & 84 & 126 & 126 & 84 & 36 & 9 & 1\n",
       "\\end{array}\n",
       "$$\n",
       "\n",
       "\n",
       "_Comments_:\n",
       "   - C(n,k) = number of k-element subsets of an n-element set.\n",
       "   - Row n gives coefficients in expansion of (1+x)^n.\n",
       "   - Binomial(n+k-1,n-1) is the number of ways of placing k indistinguishable balls into n boxes (the \"bars and stars\" argument - see Feller).\n",
       "   - Binomial(n-1,k-1) is the number of compositions (ordered partitions) of n with k summands.\n",
       "   - Binomial(n+k-1,k-1) is the number of weak compositions (ordered weak partitions) of n into exactly k summands.- _Juergen Will_, Jan 23 2016\n",
       "   - Binomial(n,k) is the number of lattice paths from (0,0) to (n,k) using steps (1,0) and (1,1). - _Joerg Arndt_, Jul 01 2011\n",
       "   - If thought of as an infinite lower triangular matrix, inverse begins:\n",
       "   -   +1\n",
       "   -   -1 +1\n",
       "   -   +1 -2 +1\n",
       "   -   -1 +3 -3 +1\n",
       "   -   +1 -4 +6 -4 +1\n",
       "   - All 2^n palindromic binomial coefficients starting after the <a href=\"http://oeis.org/A006516\">A006516</a>(n)-th entry are odd. - _Lekraj Beedassy_, May 20 2003\n",
       "   - Binomial(n+k-1,n-1) is the number of standard tableaux of shape (n,1^k). - _Emeric Deutsch_, May 13 2004\n",
       "   - Can be viewed as an array, read by antidiagonals, where the entries in the first row and column are all 1's and A(i,j) = A(i-1,j) + A(i,j-1) for all other entries. The determinant of each of its n X n subarrays starting at (0,0) is 1. - _Gerald McGarvey_, Aug 17 2004\n",
       "   - Also the lower triangular readout of the exponential of a matrix whose entry {j+1,j} equals j+1 (and all other entries are zero). - Joseph Biberstine (jrbibers(AT)indiana.edu), May 26 2006\n",
       "   - Binomial(n-3,k-1) counts the permutations in S_n which have zero occurrences of the pattern 231 and one occurrence of the pattern 132 and k descents. Binomial(n-3,k-1) also counts the permutations in S_n which have zero occurrences of the pattern 231 and one occurrence of the pattern 213 and k descents. - David Hoek (david.hok(AT)telia.com), Feb 28 2007\n",
       "   - Inverse of <a href=\"http://oeis.org/A130595\">A130595</a> (as an infinite lower triangular matrix). - _Philippe Deléham_, Aug 21 2007\n",
       "   - Consider integer lists LL of lists L of the form LL = [m#L] = [m#[k#2]] (where '#' means 'times') like LL(m=3,k=3) = [[2,2,2],[2,2,2],[2,2,2]]. The number of the integer list partitions of LL(m,k) is equal to binomial(m+k,k) if multiple partitions like [[1,1],[2],[2]] and [[2],[2],[1,1]] and [[2],[1,1],[2]] are counted only once. For the example, we find 4*5*6/3! = 20 = binomial(6,3). - _Thomas Wieder_, Oct 03 2007\n",
       "   - The infinitesimal generator for Pascal's triangle and its inverse is <a href=\"http://oeis.org/A132440\">A132440</a>. - _Tom Copeland_, Nov 15 2007\n",
       "   - Row n>=2 gives the number of k-digit (k>0) base n numbers with strictly decreasing digits; e.g., row 10 for <a href=\"http://oeis.org/A009995\">A009995</a>. Similarly, row n-1>=2 gives the number of k-digit (k>1) base n numbers with strictly increasing digits; see <a href=\"http://oeis.org/A009993\">A009993</a> and compare <a href=\"http://oeis.org/A118629\">A118629</a>. - _Rick L. Shepherd_, Nov 25 2007\n",
       "   - From Lee Naish (lee(AT)cs.mu.oz.au), Mar 07 2008: \n",
       "       - Binomial(n+k-1, k) is the number of ways a sequence of length k can be partitioned into n subsequences (see the Naish link).\n",
       "       - Binomial(n+k-1, k) is also the number of n- (or fewer) digit numbers written in radix at least k whose digits sum to k. For example, in decimal, there are binomial(3+3-1,3)=10 3-digit numbers whose digits sum to 3 (see <a href=\"http://oeis.org/A052217\">A052217</a>) and also binomial(4+2-1,2)=10 4-digit numbers whose digits sum to 2 (see <a href=\"http://oeis.org/A052216\">A052216</a>). This relationship can be used to generate the numbers of sequences <a href=\"http://oeis.org/A052216\">A052216</a> to <a href=\"http://oeis.org/A052224\">A052224</a> (and further sequences using radix greater than 10). \n",
       "   - From _Milan Janjic_, May 07 2008: \n",
       "       - Denote by sigma_k(x_1,x_2,...,x_n) the elementary symmetric polynomials. Then:\n",
       "       - Binomial(2n+1,2k+1) = sigma_{n-k}(x_1,x_2,...,x_n), where x_i = tan^2(i*Pi/(2n+1)), (i=1,2,...,n).\n",
       "       - Binomial(2n,2k+1) = 2n*sigma_{n-1-k}(x_1,x_2,...,x_{n-1}), where x_i = tan^2(i*Pi/(2n)), (i=1,2,...,n-1).\n",
       "       - Binomial(2n,2k) = sigma_{n-k}(x_1,x_2,...,x_n), where x_i = tan^2((2i-1)Pi/(4n)), (i=1,2,...,n).\n",
       "       - Binomial(2n+1,2k) = (2n+1)sigma_{n-k}(x_1,x_2,...,x_n), where x_i = tan^2((2i-1)Pi/(4n+2)), (i=1,2,...,n). \n",
       "   - Given matrices R and S with R(n,k) = binomial(n,k)*r(n-k) and S(n,k) = binomial(n,k)*s(n-k), then R*S = T where T(n,k) = binomial(n,k)*[r(.)+s(.)]^(n-k), umbrally. And, the e.g.f.s for the row polynomials of R, S and T are, respectively, exp(x*t)*exp[r(.)*x], exp(x*t)*exp[s(.)*x] and exp(x*t)*exp[r(.)*x]*exp[s(.)*x] = exp{[t+r(.)+s(.)]*x}. The row polynomials are essentially Appell polynomials. See <a href=\"http://oeis.org/A132382\">A132382</a> for an example. - _Tom Copeland_, Aug 21 2008\n",
       "   - As the rectangle R(m,n) = binomial(m+n-2,m-1), the weight array W (defined generally at <a href=\"http://oeis.org/A114112\">A114112</a>) of R is essentially R itself, in the sense that if row 1 and column 1 of W=<a href=\"http://oeis.org/A144225\">A144225</a> are deleted, the remaining array is R. - _Clark Kimberling_, Sep 15 2008\n",
       "   - If <a href=\"http://oeis.org/A007318\">A007318</a> = M as an infinite lower triangular matrix, M^n gives <a href=\"http://oeis.org/A130595\">A130595</a>, <a href=\"http://oeis.org/A023531\">A023531</a>, <a href=\"http://oeis.org/A007318\">A007318</a>, <a href=\"http://oeis.org/A038207\">A038207</a>, <a href=\"http://oeis.org/A027465\">A027465</a>, <a href=\"http://oeis.org/A038231\">A038231</a>, <a href=\"http://oeis.org/A038243\">A038243</a>, <a href=\"http://oeis.org/A038255\">A038255</a>, <a href=\"http://oeis.org/A027466\">A027466</a>, <a href=\"http://oeis.org/A038279\">A038279</a>, <a href=\"http://oeis.org/A038291\">A038291</a>, <a href=\"http://oeis.org/A038303\">A038303</a>, <a href=\"http://oeis.org/A038315\">A038315</a>, <a href=\"http://oeis.org/A038327\">A038327</a>, <a href=\"http://oeis.org/A133371\">A133371</a>, <a href=\"http://oeis.org/A147716\">A147716</a>, <a href=\"http://oeis.org/A027467\">A027467</a> for n=-1,0,1,2,3,4,5,6,7,8,9,10,11,12,13,14,15 respectively. - _Philippe Deléham_, Nov 11 2008\n",
       "   - The coefficients of the polynomials with e.g.f. exp(x*t)*(cosh(t)+sinh(t)). - _Peter Luschny_, Jul 09 2009\n",
       "   - The triangle or chess sums, see <a href=\"http://oeis.org/A180662\">A180662</a> for their definitions, link Pascal's triangle with twenty different sequences, see the crossrefs. All sums come in pairs due to the symmetrical nature of this triangle. The knight sums Kn14 - Kn110 have been added. It is remarkable that all knight sums are related to the Fibonacci numbers, i.e., <a href=\"http://oeis.org/A000045\">A000045</a>, but none of the others. - _Johannes W. Meijer_, Sep 22 2010\n",
       "   - Binomial(n,k) is also the number of ways to distribute n+1 balls into k+1 urns so that each urn gets at least one ball. See example in the example section below. - _Dennis P. Walsh_, Jan 29 2011\n",
       "   - Binomial(n,k) is the number of increasing functions from {1,...,k} to {1,...,n} since there are binomial(n,k) ways to choose the k distinct, ordered elements of the range from the codomain {1,...,n}. See example in the example section below. - _Dennis P. Walsh_, Apr 07 2011\n",
       "   - Central binomial coefficients: T(2*n,n) = <a href=\"http://oeis.org/A000984\">A000984</a>(n), T(n, floor(n/2)) = <a href=\"http://oeis.org/A001405\">A001405</a>(n). - _Reinhard Zumkeller_, Nov 09 2011\n",
       "   - Binomial(n,k) is the number of subsets of {1,...,n+1} with k+1 as median element. To see this, note that Sum_{j=0..min(k,n-k)}binomial(k,j)*binomial(n-k,j) = binomial(n,k). See example in Example section below. - _Dennis P. Walsh_, Dec 15 2011\n",
       "   - This is the coordinator triangle for the lattice Z^n, see Conway-Sloane, 1997. - _N. J. A. Sloane_, Jan 17 2012\n",
       "   - One of three infinite families of integral factorial ratio sequences of height 1 (see Bober, Theorem 1.2). The other two are <a href=\"http://oeis.org/A046521\">A046521</a> and <a href=\"http://oeis.org/A068555\">A068555</a>. For real r >= 0, C_r(n,k) := floor(r*n)!/(floor(r*k)!*floor(r*(n-k))!) is integral. See <a href=\"http://oeis.org/A211226\">A211226</a> for the case r = 1/2. - _Peter Bala_, Apr 10 2012\n",
       "   - For n > 0: T(n,k) = <a href=\"http://oeis.org/A029600\">A029600</a>(n,k) - <a href=\"http://oeis.org/A029635\">A029635</a>(n,k), 0 <= k <= n. - _Reinhard Zumkeller_, Apr 16 2012\n",
       "   - Define a finite triangle T(m,k) with n rows such that T(m,0) = 1 is the left column, T(m,m) = binomial(n-1,m) is the right column, and the other entries are T(m,k) = T(m-1,k-1) + T(m-1,k) as in Pascal's triangle. The sum of all entries in T (there are <a href=\"http://oeis.org/A000217\">A000217</a>(n) elements) is 3^(n-1). - _J. M. Bergot_, Oct 01 2012\n",
       "   - The lower triangular Pascal matrix serves as a representation of the operator exp(RLR) in a basis composed of a sequence of polynomials p_n(x) characterized by ladder operators defined by R p_n(x) = p_(n+1)(x) and L p_n(x) = n p_(n-1)(x). See <a href=\"http://oeis.org/A132440\">A132440</a>, <a href=\"http://oeis.org/A218272\">A218272</a>, <a href=\"http://oeis.org/A218234\">A218234</a>, <a href=\"http://oeis.org/A097805\">A097805</a>, and <a href=\"http://oeis.org/A038207\">A038207</a>. The transposed and padded Pascal matrices can be associated to the special linear group SL2. - _Tom Copeland_, Oct 25 2012\n",
       "   - See <a href=\"http://oeis.org/A193242\">A193242</a>. - _Alexander R. Povolotsky_, Feb 05 2013\n",
       "   - A permutation p_1...p_n of the set {1,...,n} has a descent at position i if p_i > p_(i+1). Let S(n) denote the subset of permutations p_1...p_n of {1,...,n} such that p_(i+1) - p_i <= 1 for i = 1,...,n-1. Then binomial(n,k) counts the number of permutations in S(n+1) with k descents. Alternatively, binomial(n,k) counts the number of permutations in S(n+1) with k+1 increasing runs. - _Peter Bala_, Mar 24 2013\n",
       "   - Sum_{n=>0} binomial(n,k)/n!) = e/k!, where e = exp(1), while allowing n < k where binomial(n,k) = 0. Also Sum_{n>=0} binomial(n+k-1,k)/n! = e * <a href=\"http://oeis.org/A000262\">A000262</a>(k)/k!, and for k>=1 equals e * <a href=\"http://oeis.org/A067764\">A067764</a>(k)/<a href=\"http://oeis.org/A067653\">A067653</a>(k). - _Richard R. Forberg_, Jan 01 2014\n",
       "   - The square n X n submatrix (first n rows and n columns) of the Pascal matrix P(x) defined in the formulas below when multiplying on the left the Vandermonde matrix V(x_1,...,x_n) (with ones in the first row) translates the matrix to V(x_1+x,...,x_n+x) while leaving the determinant invariant. - _Tom Copeland_, May 19 2014\n",
       "   - For k>=2, n>=k,  k/((k/(k-1) - Sum_{n=k..m} 1/binomial(n,k))) = m!/((m-k+1)!*(k-2)!). Note: k/(k-1) is the infinite sum. See <a href=\"http://oeis.org/A000217\">A000217</a>, <a href=\"http://oeis.org/A000292\">A000292</a>, <a href=\"http://oeis.org/A000332\">A000332</a> for examples. - _Richard R. Forberg_, Aug 12 2014\n",
       "   - Let G_(2n) be the subgroup of the symmetric group S_(2n) defined by G_(2n) = {p in S_(2n) | p(i) = i (mod n) for i = 1,2,...,2n}. G_(2n) has order 2^n. Binomial(n,k) counts the number of permutations in G_(2n) having n + k cycles. Cf. <a href=\"http://oeis.org/A130534\">A130534</a> and <a href=\"http://oeis.org/A246117\">A246117</a>. - _Peter Bala_, Aug 15 2014\n",
       "   - T(n,k) = <a href=\"http://oeis.org/A245334\">A245334</a>(n,k) / <a href=\"http://oeis.org/A137948\">A137948</a>(n,k), 0 <= k <= n. - _Reinhard Zumkeller_, Aug 31 2014\n",
       "   - C(n,k) = the number of Dyck paths of semilength n, with k \"u\"'s in odd numbered positions and k returns to the x axis. Example: {U = u in odd position and _ = return to x axis} binomial(4,1)=1 (Uudududd_); binomial(4,2)=3 [(Uududd_Ud_), (Ud_Uududd_), (Uudd_Uudd_)]; binomial(4,3)=3 [(Ud_Ud_Uudd_), (Uudd_Ud_Ud_), (Ud_Uudd_Ud_)]; binomial(4,4)=1 (Ud_Ud_Ud_Ud_). - _Roger Ford_, Nov 05 2014\n",
       "   - From _Daniel Forgues_, Mar 12 2015: \n",
       "       - The binomial coefficients binomial(n,k) give the number of individuals of the k-th generation after n population doublings. For each doubling of population, each individual's clone has its generation index incremented by 1, and thus goes to the next row. Just tally up each row from 0 to 2^n - 1 to get the binomial coefficients.\n",
       "       -        0   1       3               7                              15\n",
       "       -     0: O | . | .   . | .   .   .   . | .   .   .   .   .   .   .   . |\n",
       "       -     1:   | O | O   . | O   .   .   . | O   .   .   .   .   .   .   . |\n",
       "       -     2:   |   |     O |     O   O   . |     O   O   .   O   .   .   . |\n",
       "       -     3:   |   |       |             O |             O       O   O   . |\n",
       "       -     4:   |   |       |               |                             O |\n",
       "       - This is a fractal process: to get the pattern from 0 to 2^n - 1, append a shifted down (by one row) copy of the pattern from 0 to 2^(n-1) - 1 to the right of the pattern from 0 to 2^(n-1) - 1. (Inspired by the \"binomial heap\" data structure.)\n",
       "       - Sequence of generation indices: 1's-counting sequence: number of 1's in binary expansion of n (or the binary weight of n) (see <a href=\"http://oeis.org/A000120\">A000120</a>):\n",
       "       -   {0, 1, 1, 2, 1, 2, 2, 3, 1, 2, 2, 3, 2, 3, 3, 4, ...}\n",
       "       - Binary expansion of 0 to 15:\n",
       "       -   0   1   10   11  100  101  110  111 1000 1001 1010 1011 1100 1101 1111\n",
       "   - <a href=\"http://oeis.org/A258993\">A258993</a>(n,k) = T(n+k,n-k), n > 0. - _Reinhard Zumkeller_, Jun 22 2015\n",
       "   - T(n,k) is the number of set partitions w of [n+1] that avoid 1/2/3 with rb(w)=k. The same holds for ls(w)=k, where avoidance is in the sense of Klazar and ls,rb defined by Wachs and White.\n",
       "\n",
       "_Formulae_:\n",
       "   - a(n, k) = C(n,k) = binomial(n, k).\n",
       "   - C(n, k) = C(n-1, k) + C(n-1, k-1).\n",
       "   - a(n+1, m) = a(n, m) + a(n, m-1), a(n, -1) := 0, a(n, m) := 0, n<m; a(0, 0)=1.\n",
       "   - C(n, k)=n!/(k!(n-k)!) if 0<=k<=n, otherwise 0.\n",
       "   - G.f.: 1/(1-y-x*y) = Sum(C(n, k)*x^k*y^n, n, k>=0)\n",
       "   - G.f.: 1/(1-x-y) = Sum(C(n+k, k)*x^k*y^n, n, k>=0).\n",
       "   - G.f. for row n: (1+x)^n = Sum_{k=0..n} C(n, k)x^k.\n",
       "   - G.f. for column n: x^n/(1-x)^n.\n",
       "   - E.g.f.: A(x, y) = exp(x+x*y).\n",
       "   - E.g.f. for column n: x^n*exp(x)/n!.\n",
       "   - In general the m-th power of <a href=\"http://oeis.org/A007318\">A007318</a> is given by: T(0, 0) = 1, T(n, k) = T(n-1, k-1) + m*T(n-1, k), where n is the row-index and k is the column; also T(n, k) = m^(n-k) C(n, k).\n",
       "   - Triangle T(n, k) read by rows; given by <a href=\"http://oeis.org/A000007\">A000007</a> DELTA <a href=\"http://oeis.org/A000007\">A000007</a>, where DELTA is Deléham's operator defined in <a href=\"http://oeis.org/A084938\">A084938</a>.\n",
       "   - Let P(n+1) = the number of integer partitions of (n+1); let p(i) = the number of parts of the i-th partition of (n+1); let d(i) = the number of different parts of the i-th partition of (n+1); let m(i, j) = multiplicity of the j-th part of the i-th partition of (n+1). Define the operator Sum_{i=1..P(n+1), p(i)=k+1} as the sum running from i=1 to i=P(n+1) but taking only partitions with p(i)=(k+1) parts into account. Define the operator Product_{j=1..d(i)} = product running from j=1 to j=d(i). Then C(n, k) = Sum_{p(i)=(k+1), i=1..P(n+1)} p(i)! / [Product_{j=1..d(i)} m(i, j)!]. E.g., C(5, 3) = 10 because n=6 has the following partitions with m=3 parts: (114), (123), (222). For their multiplicities one has: (114): 3!/(2!*1!) = 3; (123): 3!/(1!*1!*1!) = 6; (222): 3!/3! = 1. The sum is 3 + 6 + 1 = 10 = C(5, 3). - _Thomas Wieder_, Jun 03 2005\n",
       "   - C(n, k) = Sum_{j=0..k} = (-1)^j*C(n+1+j, k-j)*<a href=\"http://oeis.org/A000108\">A000108</a>(j). - _Philippe Deléham_, Oct 10 2005\n",
       "   - G.f.: 1 + x(1 + x) + x^3(1 + x)^2 + x^6(1 + x)^3 + ... . - _Michael Somos_, Sep 16 2006\n",
       "   - Sum_{k=0..floor(n/2)} x^(n-k)*T(n-k,k) = <a href=\"http://oeis.org/A000007\">A000007</a>(n), <a href=\"http://oeis.org/A000045\">A000045</a>(n+1), <a href=\"http://oeis.org/A002605\">A002605</a>(n), <a href=\"http://oeis.org/A030195\">A030195</a>(n+1), <a href=\"http://oeis.org/A057087\">A057087</a>(n), <a href=\"http://oeis.org/A057088\">A057088</a>(n), <a href=\"http://oeis.org/A057089\">A057089</a>(n), <a href=\"http://oeis.org/A057090\">A057090</a>(n), <a href=\"http://oeis.org/A057091\">A057091</a>(n), <a href=\"http://oeis.org/A057092\">A057092</a>(n), <a href=\"http://oeis.org/A057093\">A057093</a>(n) for x = 0, 1, 2, 3, 4, 5, 6, 7, 8, 9, 10, respectively. Sum_{k=0..floor(n/2)} (-1)^k*x^(n-k)*T(n-k,k) = <a href=\"http://oeis.org/A000007\">A000007</a>(n), <a href=\"http://oeis.org/A010892\">A010892</a>(n), <a href=\"http://oeis.org/A009545\">A009545</a>(n+1), <a href=\"http://oeis.org/A057083\">A057083</a>(n), <a href=\"http://oeis.org/A001787\">A001787</a>(n+1), <a href=\"http://oeis.org/A030191\">A030191</a>(n), <a href=\"http://oeis.org/A030192\">A030192</a>(n), <a href=\"http://oeis.org/A030240\">A030240</a>(n), <a href=\"http://oeis.org/A057084\">A057084</a>(n), <a href=\"http://oeis.org/A057085\">A057085</a>(n+1), <a href=\"http://oeis.org/A057086\">A057086</a>(n), <a href=\"http://oeis.org/A084329\">A084329</a>(n+1) for x = 0, 1, 2, 3, 4, 5, 6, 7, 8, 9, 10, 20, respectively. - _Philippe Deléham_, Sep 16 2006\n",
       "   - C(n,k) <= <a href=\"http://oeis.org/A062758\">A062758</a>(n) for n > 1. - _Reinhard Zumkeller_, Mar 04 2008\n",
       "   - C(t+p-1, t) = Sum_{i=0..t} C(i+p-2, i) = Sum_{i=1..p} C(i+t-2, t-1). A binomial number is the sum of its left parent and all its right ancestors, which equals the sum of its right parent and all its left ancestors. - Lee Naish (lee(AT)cs.mu.oz.au), Mar 07 2008\n",
       "   - From _Paul D. Hanna_, Mar 24 2011: \n",
       "       - Let A(x) = Sum_{n>=0} x^(n(n+1)/2)*(1+x)^n be the g.f. of the flattened triangle:\n",
       "       - A(x) = 1 + (x + x^2) + (x^3 + 2*x^4 + x^5) + (x^6 + 3*x^7 + 3*x^8 + x^9) +...\n",
       "       - then A(x) equals the series Sum_{n>=0} (1+x)^n*x^n*Product_{k=1..n} (1-(1+x)*x^(2k-1))/(1-(1+x)*x^(2k));\n",
       "       - also, A(x) equals the continued fraction 1/(1- x*(1+x)/(1+ x*(1-x)*(1+x)/(1- x^3*(1+x)/(1+ x^2*(1-x^2)*(1+x)/(1- x^5*(1+x)/(1+ x^3*(1-x^3)*(1+x)/(1- x^7*(1+x)/(1+ x^4*(1-x^4)*(1+x)/(1- ...))))))))).\n",
       "       - These formulas are due to (1) a q-series identity and (2) a partial elliptic theta function expression. \n",
       "   - Row n of the triangle is the result of applying the ConvOffs transform to the first n terms of the natural numbers (1, 2, 3, ..., n). See <a href=\"http://oeis.org/A001263\">A001263</a> or <a href=\"http://oeis.org/A214281\">A214281</a> for a definition of this transformation. - _Gary W. Adamson_, Jul 12 2012\n",
       "   - From _L. Edson Jeffery_, Aug 02 2012: \n",
       "       - Row n (n >= 0) of the triangle is given by the n-th antidiagonal of the infinite matrix P^n, where P = (p_{i,j}), i,j >= 0, is the production matrix\n",
       "       - 0, 1,\n",
       "       - 1, 0, 1,\n",
       "       - 0, 1, 0, 1,\n",
       "       - 0, 0, 1, 0, 1,\n",
       "       - 0, 0, 0, 1, 0, 1,\n",
       "       - 0, 0, 0, 0, 1, 0, 1,\n",
       "       - 0, 0, 0, 0, 0, 1, 0, 1,\n",
       "       - 0, 0, 0, 0, 0, 0, 1, 0, 1,\n",
       "       - ... \n",
       "   - Row n of the triangle is also given by the n+1 coefficients of the polynomial P_n(x) defined by the recurrence P_0(x) = 1, P_1(x) = x + 1, P_n(x) = x*P_{n-1}(x) + P_{n-2}(x), n > 1. - _L. Edson Jeffery_, Aug 12 2013\n",
       "   - For a closed-form formula for arbitrary left and right borders of Pascal-like triangles see <a href=\"http://oeis.org/A228196\">A228196</a>. - _Boris Putievskiy_, Aug 18 2013\n",
       "   - For a closed-form formula for generalized Pascal's triangle see <a href=\"http://oeis.org/A228576\">A228576</a>. - _Boris Putievskiy_, Sep 04 2013\n",
       "   - (1+x)^n = Sum_{k=0..n} (-1)^(n-k)*binomial(n,k)*Sum_{i=0..k} k^(n-i)*binomial(k,i)*x^(n-i)/(n-i)!. - _Vladimir Kruchinin_, Oct 21 2013\n",
       "   - E.g.f.: A(x,y) = exp(x+x*y) = 1 + (x+y*x)/( E(0)-(x+y*x)), where E(k) = 1 + (x+y*x)/(1 + (k+1)/E(k+1) ); (continued fraction). - _Sergei N. Gladkovskii_, Nov 08 2013\n",
       "   - E.g.f.:  E(0) -1, where E(k) = 2 + x*(1+y)/(2*k+1 - x*(1+y)/E(k+1) ); (continued fraction). - _Sergei N. Gladkovskii_, Dec 24 2013\n",
       "   - G.f.: 1 + x*(1+x)*(1+x^2*(1+x)/(W(0)-x^2-x^3)), where W(k) = 1 + (1+x)*x^(k+2) - (1+x)*x^(k+3)/W(k+1); (continued fraction). - _Sergei N. Gladkovskii_, Dec 24 2013\n",
       "   - Sum_{n>=0} C(n,k)/n! = e/k!, where e = exp(1), while allowing n < k where C(n,k) = 0. Also Sum_{n>=0} C(n+k-1,k)/n! = e * <a href=\"http://oeis.org/A000262\">A000262</a>(k)/k!, and for k>=1 equals e * <a href=\"http://oeis.org/A067764\">A067764</a>(k)/<a href=\"http://oeis.org/A067653\">A067653</a>(k). - _Richard R. Forberg_, Jan 01 2014\n",
       "   - Sum_{n>=k} 1/C(n,k) = k/(k-1) for k>=1. - _Richard R. Forberg_, Feb 10 2014\n",
       "   - From _Tom Copeland_, Apr 17 and 26 2014: \n",
       "       - Multiply each n-th diagonal of the Pascal lower triangular matrix by x^n and designate the result by <a href=\"http://oeis.org/A007318\">A007318</a>(x) = P(x). Then with :xD:^n = x^n*(d/dx)^n and B(n,x), the Bell polynomials (<a href=\"http://oeis.org/A008277\">A008277</a>),\n",
       "       - A) P(x)= exp(x*dP) = exp[x*(e^M-I)] = exp[M*B(.,x)] = (I+dP)^B(.,x)\n",
       "       -    with dP = <a href=\"http://oeis.org/A132440\">A132440</a>, M = <a href=\"http://oeis.org/A238385\">A238385</a>-I, and I = identity matrix, and\n",
       "       - B) P(:xD:) = exp(dP:xD:) = exp[(e^M-I):xD:] = exp[M*B(.,:xD:)] = exp[M*xD] = (I+dP)^(xD) with action P(:xD:)g(x) = exp(dP:xD:)g(x) = g[(I+dP)*x] (cf. also <a href=\"http://oeis.org/A238363\">A238363</a>).\n",
       "       - C) P(x)^y = P(y*x). P(2x) = <a href=\"http://oeis.org/A038207\">A038207</a>(x) = exp[M*B(.,2x)], the face vectors of the n-dim hypercubes.\n",
       "       - D) P(x) = [St2]*exp(x*M)*[St1] = [St2]*(I+dP)^x*[St1]\n",
       "       - E) = [St1]^(-1)*(I+dP)^x*[St1] = [St2]*(I+dP)^x*[St2]^(-1)\n",
       "       - where [St1]=padded <a href=\"http://oeis.org/A008275\">A008275</a> just as [St2]=<a href=\"http://oeis.org/A048993\">A048993</a>=padded <a href=\"http://oeis.org/A008277\">A008277</a> and exp(x*M) = (I+dP)^x = sum(k=0,..,infinity, C(x,k) dP^k). \n",
       "   - From _Peter Bala_, Dec 21 2014: \n",
       "       - Recurrence equation: T(n,k) = T(n-1,k)*(n + k)/(n - k) - T(n-1,k-1) for n >= 2 and 1 <= k < n, with boundary conditions T(n,0) = T(n,n) = 1. Note, changing the minus sign in the recurrence to a plus sign gives a recurrence for the square of the binomial coefficients - see <a href=\"http://oeis.org/A008459\">A008459</a>.\n",
       "       - There is a relation between the e.g.f.'s of the rows and the diagonals of the triangle, namely, exp(x) * e.g.f. for row n = e.g.f. for diagonal n. For example, for n = 3 we have exp(x)*(1 + 3*x + 3*x^2/2! + x^3/3!) = 1 + 4*x + 10*x^2/2! + 20*x^3/3! + 35*x^4/4! + .... This property holds more generally for the Riordan arrays of the form ( f(x), x/(1 - x) ), where f(x) is an o.g.f. of the form 1 + f_1*x + f_2*x^2 + .... See, for example, <a href=\"http://oeis.org/A055248\">A055248</a> and <a href=\"http://oeis.org/A106516\">A106516</a>.\n",
       "       - Let P denote the present triangle. For k = 0,1,2,... define P(k) to be the lower unit triangular block array\n",
       "       - /I_k 0\\\n",
       "       - \\ 0  P/ having the k X k identity matrix I_k as the upper left block; in particular, P(0) = P. The infinite product P(0)*P(1)*P(2)*..., which is clearly well-defined, is equal to the triangle of Stirling numbers of the second kind <a href=\"http://oeis.org/A008277\">A008277</a>. The infinite product in the reverse order, that is, ...*P(2)*P(1)*P(0), is equal to the triangle of Stirling cycle numbers <a href=\"http://oeis.org/A130534\">A130534</a>. \n",
       "   - C(a+b,c) = Sum_{k=0..a} C(a,k)*C(b,b-c+k). This is a generalization of equation 1 from section 4.2.5 of the Prudnikov et al. reference, for a=b=c=n: C(2n,n) = Sum_{k=0..n} C(n,k)^2. See Links section for animation of new formula. - _Hermann Stamm-Wilbrandt_, Aug 26 2015\n",
       "   - The row polynomials of the Pascal matrix P(n,x) = (1+x)^n are related to the Bernoulli polynomials Br(n,x) and their umbral compositional inverses Bv(n,x) by the umbral relation P(n,x) = (-Br(.,-Bv(.,x)))^n = (-1)^n Br(n,-Bv(.,x)), which translates into the matrix relation P = M * Br * M * Bv, where P is the Pascal matrix, M is the diagonal matrix diag(1,-1,1,-1,...), Br is the matrix for the coefficients of the Bernoulli polynomials, and Bv that for the umbral inverse polynomials defined umbrally by Br(n,Bv(.,x)) = x^n = Bv(n,Br(.,x)). Note M = M^(-1). - _Tom Copeland_, Sep 05 2015\n",
       "\n",
       "_Cross references_:\n",
       "   - Equals differences between consecutive terms of <a href=\"http://oeis.org/A102363\">A102363</a>. - David G. Williams (davidwilliams(AT)Paxway.com), Jan 23 2006\n",
       "   - Row sums give <a href=\"http://oeis.org/A000079\">A000079</a> (powers of 2).\n",
       "   - Cf. <a href=\"http://oeis.org/A083093\">A083093</a> (triangle read mod 3), <a href=\"http://oeis.org/A214292\">A214292</a> (first differences of rows).\n",
       "   - Partial sums of rows give triangle <a href=\"http://oeis.org/A008949\">A008949</a>.\n",
       "   - Infinite matrix squared: <a href=\"http://oeis.org/A038207\">A038207</a>, cubed: <a href=\"http://oeis.org/A027465\">A027465</a>.\n",
       "   - Cf. <a href=\"http://oeis.org/A101164\">A101164</a>. If rows are sorted we get <a href=\"http://oeis.org/A061554\">A061554</a> or <a href=\"http://oeis.org/A107430\">A107430</a>.\n",
       "   - Another version: <a href=\"http://oeis.org/A108044\">A108044</a>.\n",
       "   - Cf. <a href=\"http://oeis.org/A008277\">A008277</a>, <a href=\"http://oeis.org/A132311\">A132311</a>, <a href=\"http://oeis.org/A132312\">A132312</a>, <a href=\"http://oeis.org/A052216\">A052216</a>, <a href=\"http://oeis.org/A052217\">A052217</a>, <a href=\"http://oeis.org/A052218\">A052218</a>, <a href=\"http://oeis.org/A052219\">A052219</a>, <a href=\"http://oeis.org/A052220\">A052220</a>, <a href=\"http://oeis.org/A052221\">A052221</a>, <a href=\"http://oeis.org/A052222\">A052222</a>, <a href=\"http://oeis.org/A052223\">A052223</a>, <a href=\"http://oeis.org/A144225\">A144225</a>, <a href=\"http://oeis.org/A202750\">A202750</a>, <a href=\"http://oeis.org/A211226\">A211226</a>, <a href=\"http://oeis.org/A047999\">A047999</a>, <a href=\"http://oeis.org/A026729\">A026729</a>, <a href=\"http://oeis.org/A052553\">A052553</a>, <a href=\"http://oeis.org/A051920\">A051920</a>, <a href=\"http://oeis.org/A193242\">A193242</a>.\n",
       "   - Triangle sums (see the comments): <a href=\"http://oeis.org/A000079\">A000079</a> (Row1); <a href=\"http://oeis.org/A000007\">A000007</a> (Row2); <a href=\"http://oeis.org/A000045\">A000045</a> (Kn11 & Kn21); <a href=\"http://oeis.org/A000071\">A000071</a> (Kn12 & Kn22); <a href=\"http://oeis.org/A001924\">A001924</a> (Kn13 & Kn23); <a href=\"http://oeis.org/A014162\">A014162</a> (Kn14 & Kn24); <a href=\"http://oeis.org/A014166\">A014166</a> (Kn15 & Kn25); <a href=\"http://oeis.org/A053739\">A053739</a> (Kn16 & Kn26); <a href=\"http://oeis.org/A053295\">A053295</a> (Kn17 & Kn27); <a href=\"http://oeis.org/A053296\">A053296</a> (Kn18 & Kn28); <a href=\"http://oeis.org/A053308\">A053308</a> (Kn19 & Kn29); <a href=\"http://oeis.org/A053309\">A053309</a> (Kn110 & Kn210); <a href=\"http://oeis.org/A001519\">A001519</a> (Kn3 & Kn4); <a href=\"http://oeis.org/A011782\">A011782</a> (Fi1 & Fi2); <a href=\"http://oeis.org/A000930\">A000930</a> (Ca1 & Ca2); <a href=\"http://oeis.org/A052544\">A052544</a> (Ca3 & Ca4); <a href=\"http://oeis.org/A003269\">A003269</a> (Gi1 & Gi2); <a href=\"http://oeis.org/A055988\">A055988</a> (Gi3 & Gi4); <a href=\"http://oeis.org/A034943\">A034943</a> (Ze1 & Ze2); <a href=\"http://oeis.org/A005251\">A005251</a> (Ze3 & Ze4). - _Johannes W. Meijer_, Sep 22 2010\n",
       "   - Fibonacci-Pascal triangles: <a href=\"http://oeis.org/A027926\">A027926</a>, <a href=\"http://oeis.org/A036355\">A036355</a>, <a href=\"http://oeis.org/A037027\">A037027</a>, <a href=\"http://oeis.org/A074829\">A074829</a>, <a href=\"http://oeis.org/A105809\">A105809</a>, <a href=\"http://oeis.org/A109906\">A109906</a>, <a href=\"http://oeis.org/A111006\">A111006</a>, <a href=\"http://oeis.org/A114197\">A114197</a>, <a href=\"http://oeis.org/A162741\">A162741</a>, <a href=\"http://oeis.org/A228074\">A228074</a>, <a href=\"http://oeis.org/A228196\">A228196</a>, <a href=\"http://oeis.org/A228576\">A228576</a>.\n",
       "   - Cf. <a href=\"http://oeis.org/A137948\">A137948</a>, <a href=\"http://oeis.org/A245334\">A245334</a>.\n",
       "   - Cf. <a href=\"http://oeis.org/A085478\">A085478</a>, <a href=\"http://oeis.org/A258993\">A258993</a>.\n",
       "\n",
       "_Links_:\n",
       "   - N. J. A. Sloane, <a href=\"/<a href=\"http://oeis.org/A007318\">A007318</a>/b007318.txt\">First 141 rows of Pascal's triangle, formatted as a simple linear sequence n, a(n)</a>\n",
       "   - M. Abramowitz and I. A. Stegun, eds., <a href=\"http://www.nrbook.com/abramowitz_and_stegun/\">Handbook of Mathematical Functions</a>, National Bureau of Standards, Applied Math. Series 55, Tenth Printing, 1972 [alternative scanned copy].\n",
       "   - Tewodros Amdeberhan, Moa Apagodu, Doron Zeilberger, <a href=\"http://arxiv.org/abs/1507.07660\">Wilf's \"Snake Oil\" Method Proves an Identity in The Motzkin Triangle</a>, arXiv:1507.07660 [math.CO], 2015.\n",
       "   - V. Asundi, <a href=\"http://www.stanford.edu/class/gene211/examples/class8/yanghui.html\">Generate a Yanghui Triangle</a>\n",
       "   - S. V. Ault and C. Kicey, <a href=\"http://dx.doi.org/10.1016/j.disc.2014.05.020\">Counting paths in corridors using circular Pascal arrays</a>, Discrete Mathematics (2014).\n",
       "   - Mohammad K. Azarian, <a href=\"http://www.m-hikari.com/ijcms/ijcms-2012/37-40-2012/azarianIJCMS37-40-2012.pdf\">Fibonacci Identities as Binomial Sums</a>, International Journal of Contemporary Mathematical Sciences, Vol. 7, No. 38, 2012, pp. 1871-1876.\n",
       "   - Mohammad K. Azarian, <a href=\"http://www.m-hikari.com/ijcms/ijcms-2012/41-44-2012/azarianIJCMS41-44-2012.pdf\">Fibonacci Identities as Binomial Sums II</a>, International Journal of Contemporary Mathematical Sciences, Vol. 7, No. 42, 2012, pp. 2053-2059.\n",
       "   - P. Bala, <a href=\"/<a href=\"http://oeis.org/A007318\">A007318</a>/a007318.pdf\">A combinatorial interpretation for the binomial coefficients</a>\n",
       "   - C. Banderier and D. Merlini, <a href=\"http://algo.inria.fr/banderier/Papers/infjumps.ps\">Lattice paths with an infinite set of jumps</a>\n",
       "   - J. Fernando Barbero G., Jesús Salas, Eduardo J. S. Villaseñor, <a href=\"http://arxiv.org/abs/1307.2010\">Bivariate Generating Functions for a Class of Linear Recurrences. I. General Structure</a>, arXiv:1307.2010 [math.CO], 2013.\n",
       "   - Paul Barry, <a href=\"http://www.cs.uwaterloo.ca/journals/JIS/VOL9/Barry/barry91.html\">On Integer-Sequence-Based Constructions of Generalized Pascal Triangles</a>, Journal of Integer Sequences, Vol. 9 (2006), Article 06.2.4.\n",
       "   - P. Barry, <a href=\"https://cs.uwaterloo.ca/journals/JIS/VOL12/Barry4/barry64.html\">Symmetric Third-Order Recurring Sequences, Chebyshev Polynomials, and Riordan Arrays </a>, JIS 12 (2009) 09.8.6\n",
       "   - Paul Barry, <a href=\"http://arxiv.org/abs/1105.3043\">Eulerian polynomials as moments, via exponential Riordan arrays</a>, arXiv:1105.3043 [math.CO], 2011.\n",
       "   - Paul Barry, <a href=\"http://arxiv.org/abs/1105.3044\">Combinatorial polynomials as moments, Hankel transforms and exponential Riordan arrays</a>, arXiv:1105.3044 [math.CO], 2011.\n",
       "   - Paul Barry, <a href=\"https://cs.uwaterloo.ca/journals/JIS/VOL15/Barry4/bern2.html\">Riordan-Bernstein Polynomials, Hankel Transforms and Somos Sequences</a>, Journal of Integer Sequences, Vol. 15 2012, #12.8.2\n",
       "   - Paul Barry, <a href=\"https://cs.uwaterloo.ca/journals/JIS/VOL16/Barry1/barry242.html\">On the Central Coefficients of Riordan Matrices</a>, Journal of Integer Sequences, 16 (2013), #13.5.1.\n",
       "   - Paul Barry, <a href=\"https://cs.uwaterloo.ca/journals/JIS/VOL16/Barry2/barry231.html\">A Note on a Family of Generalized Pascal Matrices Defined by Riordan Arrays</a>, Journal of Integer Sequences, 16 (2013), #13.5.4.\n",
       "   - Paul Barry, <a href=\"https://cs.uwaterloo.ca/journals/JIS/VOL16/Barry3/barry252.html\">On the Inverses of a Family of Pascal-Like Matrices Defined by Riordan Arrays</a>, Journal of Integer Sequences, 16 (2013), #13.5.6.\n",
       "   - Paul Barry, <a href=\"http://dx.doi.org/10.1155/2013/657806\">On the Connection Coefficients of the Chebyshev-Boubaker polynomials</a>, The Scientific World Journal, Volume 2013 (2013), Article ID 657806, 10 pages.\n",
       "   - Paul Barry, <a href=\"https://cs.uwaterloo.ca/journals/JIS/VOL16/Barry4/barry271.html\">General Eulerian Polynomials as Moments Using Exponential Riordan Arrays</a>, Journal of Integer Sequences, 16 (2013), #13.9.6.\n",
       "   - P. Barry and A. Hennessy, <a href=\"https://cs.uwaterloo.ca/journals/JIS/VOL15/Barry1/barry202.html\">Four-term Recurrences, Orthogonal Polynomials and Riordan Arrays</a>, Journal of Integer Sequences, 2012, article 12.4.2. - From _N. J. A. Sloane_, Sep 21 2012\n",
       "   - J. W. Bober, <a href=\"http://arxiv.org/abs/0709.1977\">Factorial ratios, hypergeometric series, and a family of step functions</a>, arXiv:0709.1977v1 [math.NT], J. London Math. Soc. (2) 79 (2009), 422-444.\n",
       "   - B. A. Bondarenko, <a href=\"http://www.fq.math.ca/pascal.html\">Generalized Pascal Triangles and Pyramids</a>, English translation published by Fibonacci Association, Santa Clara Univ., Santa Clara, CA, 1993; see p. 4.\n",
       "   - D. Butler, <a href=\"http://www.tsm-resources.com/alists/pasc.html\">Pascal's Triangle</a>\n",
       "   - Naiomi T. Cameron and Asamoah Nkwanta, <a href=\"https://cs.uwaterloo.ca/journals/JIS/VOL8/Cameron/cameron46.html\">On Some (Pseudo) Involutions in the Riordan Group</a>, Journal of Integer Sequences, Vol. 8 (2005), Article 05.3.7.\n",
       "   - C. Cobeli and A. Zaharescu, <a href=\"http://rms.unibuc.ro/bulletin/pdf/56-1/PromenadePascalPart1.pdf\">Promenade around Pascal Triangle-Number Motives</a>, Bull. Math. Soc. Sci. Math. Roumanie, Tome 56(104) No. 1, 2013, 73-98. - From _N. J. A. Sloane_, Feb 16 2013\n",
       "   - J. H. Conway and N. J. A. Sloane, <a href=\"http://citeseerx.ist.psu.edu/viewdoc/download;jsessionid=E556ADF68595139EB07F425FD5A79F11?doi=10.1.1.39.9899&amp;rep=rep1&amp;type=pdf\">Low-dimensional lattices. VII Coordination sequences</a>, Proc. R. Soc. Lond. A (1997) 453, 2369-2389.\n",
       "   - T. Copeland, <a href=\"http://tcjpn.wordpress.com/2012/11/29/infinigens-the-pascal-pyramid-and-the-witt-and-virasoro-algebras/\">Infinitesimal Generators, the Pascal Pyramid, and the Witt and Virasoro Algebras</a>\n",
       "   - Tomislav Došlic, Darko Veljan, <a href=\"http://dx.doi.org/10.1016/j.disc.2007.04.066\">Logarithmic behavior of some combinatorial sequences</a>, Discrete Math. 308 (2008), no. 11, 2182--2212. MR2404544 (2009j:05019) - From _N. J. A. Sloane_, May 01 2012\n",
       "   - L. Euler, <a href=\"http://arXiv.org/abs/math.HO/0505425\">On the expansion of the power of any polynomial (1+x+x^2+x^3+x^4+etc.)^n</a>, arXiv:math/0505425 [math.HO], 2005.\n",
       "   - L. Euler, <a href=\"http://www.eulerarchive.org\">De evolutione potestatis polynomialis cuiuscunque (1+x+x^2+x^3+x^4+etc.)^n</a> E709\n",
       "   - A. Farina, et al., <a href=\"http://dx.doi.org/10.1007/s11760-011-0228-6\">Tartaglia-Pascal's triangle: a historical perspective with applications</a>, Signal, Image and Video Processing, January 2013, Volume 7, Issue 1, pp 173-188.\n",
       "   - S. R. Finch, P. Sebah and Z.-Q. Bai, <a href=\"http://arXiv.org/abs/0802.2654\">Odd Entries in Pascal's Trinomial Triangle</a>, arXiv:0802.2654 [math.NT], 2008.\n",
       "   - D. Fowler, <a href=\"http://www.jstor.org/stable/2975209\">The binomial coefficient function</a>, Amer. Math. Monthly, 103 (1996), 1-17.\n",
       "   - He, Tian-Xiao, and Sprugnoli, Renzo; <a href=\"http://dx.doi.org/10.1016/j.disc.2008.11.021\">Sequence characterization of Riordan arrays</a>, Discrete Math. 309 (2009), no. 12, 3962-3974.\n",
       "   - Nick Hobson, <a href=\"/<a href=\"http://oeis.org/A007318\">A007318</a>/a007318.py.txt\">Python program</a>\n",
       "   - V. E. Hoggatt, Jr. and M. Bicknell, <a href=\"http://www.fq.math.ca/Scanned/14-5/hoggatt1.pdf\">Catalan and related sequences arising from inverses of Pascal's triangle matrices</a>, Fib. Quart., 14 (1976), 395-405.\n",
       "   - Matthew Hubbard and Tom Roby, <a href=\"http://web.archive.org/web/20060912171955/http://binomial.csuhayward.edu/\">Pascal's Triangle From Top to Bottom</a> [archived page]\n",
       "   - Charles Jordan, <a href=\"http://books.google.co.jp/books/about/Calculus_of_Finite_Differences.html?id=3RfZOsDAyQsC&amp;redir_esc=y\">Calculus of Finite Differences</a> (p. 65) [From _Tom Copeland_, Apr 16 2014]\n",
       "   - S. Kak, <a href=\"http://arxiv.org/abs/physics/0411195\">The Golden Mean and the Physics of Aesthetics</a>, arXiv:physics/0411195 [physics.hist-ph], 2004.\n",
       "   - W. Knight, <a href=\"http://www.math.unb.ca/~knight/utility/binomial.html\">Short Table of Binomial Coefficients</a>\n",
       "   - W. Lang, <a href=\"http://www.cs.uwaterloo.ca/journals/JIS/VOL3/LANG/lang.html\">On generalizations of Stirling number triangles</a>, J. Integer Seqs., Vol. 3 (2000), #00.2.4.\n",
       "   - P. A. MacMahon, <a href=\"http://www.jstor.org/stable/90632?seq=1#page_scan_tab_contents\">Memoir on the Theory of the Compositions of Numbers</a>, Phil. Trans. Royal Soc. London A, 184 (1893), 835-901.\n",
       "   - Mathforum, <a href=\"http://mathforum.org/dr.math/faq/faq.pascal.triangle.html\">Pascal's Triangle</a>\n",
       "   - Mathforum, <a href=\"http://mam2000.mathforum.org/workshops/usi/pascal/pascal.links.html\">Links for Pascal's triangle</a>\n",
       "   - C. McDermottroe, <a href=\"http://www.netsoc.tcd.ie/~jgilbert/maths_site/applets/sequences_and_series/pascal_s_triangle_and_the_binomial_theorem.html\">n-th row generator of Pascal's triangle</a>\n",
       "   - D. Merlini, R. Sprugnoli and M. C. Verri, <a href=\"http://www.dsi.unifi.it/~merlini/Lucidi.ps\">An algebra for proper generating trees</a>\n",
       "   - D. Merlini, F. Uncini and M. C. Verri, <a href=\"http://www.emis.de/journals/INTEGERS/papers/e23/e23.Abstract.html\">A unified approach to the study of general and palindromic compositions</a>, Integers 4 (2004), A23, 26 pp.\n",
       "   - Y. Moshe, <a href=\"http://dx.doi.org/10.1016/S0022-314X(03)00103-3\">The density of 0's in recurrence double sequences</a>, J. Number Theory, 103 (2003), 109-121.\n",
       "   - Lee Naish <a href=\"http://www.cs.mu.oz.au/~lee/papers/pascal/\">Pascal's Triangle and debugging software</a>\n",
       "   - A. Necer, <a href=\"http://www.emis.de/journals/JTNB/1997-2/jtnb9-2_english.html#jourelec\">Series formelles et produit de Hadamard</a>\n",
       "   - Asamoah Nkwanta and Earl R. Barnes, <a href=\"https://cs.uwaterloo.ca/journals/JIS/VOL15/Nkwanta/nkwanta2.html\">Two Catalan-type Riordan Arrays and their Connections to the Chebyshev Polynomials of the First Kind</a>, Journal of Integer Sequences, Article 12.3.3, 2012. - From _N. J. A. Sloane_, Sep 16 2012\n",
       "   - A. Nkwanta, A. Tefera, <a href=\"https://cs.uwaterloo.ca/journals/JIS/VOL16/Nkwanta/nkwanta4.html\">Curious Relations and Identities Involving the Catalan Generating Function and Numbers</a>, Journal of Integer Sequences, 16 (2013), #13.9.5.\n",
       "   - M. A. A. Obaid, S. K. Nauman, W. M. Fakieh, C. M. Ringel, <a href=\"http://www.math.uni-bielefeld.de/~ringel/opus/jeddah.pdf\">The numbers of support-tilting modules for a Dynkin algebra</a>, 2014.\n",
       "   - OEIS Wiki, <a href=\"/wiki/Binomial_coefficients\">Binomial coefficients</a>\n",
       "   - Ed Pegg, Jr., <a href=\"http://www.mathpuzzle.com/MAA/07-Sequence%20Pictures/mathgames_12_08_03.html\">Sequence Pictures</a>, Math Games column, Dec 08 2003.\n",
       "   - Ed Pegg, Jr., <a href=\"/<a href=\"http://oeis.org/A000043\">A000043</a>/a000043_2.pdf\">Sequence Pictures</a>, Math Games column, Dec 08 2003 [Cached copy, with permission (pdf only)]\n",
       "   - T. M. Richardson, <a href=\"http://arxiv.org/abs/1405.6315\">The Reciprocal Pascal Matrix</a>, arXiv preprint arXiv:1405.6315, 2014\n",
       "   - L. W. Shapiro, S. Getu, W.-J. Woan and L. C. Woodson, <a href=\"http://dx.doi.org/10.1016/0166-218X(91)90088-E\">The Riordan group</a>, Discrete Applied Math., 34 (1991), 229-239.\n",
       "   - G. Sivek et al., ThinkQuest, <a href=\"http://library.thinkquest.org/C006087/english/interactive.shtml\">Pascal's Triangle Row Generator</a>\n",
       "   - N. J. A. Sloane, <a href=\"http://neilsloane.com/doc/sg.txt\">My favorite integer sequences</a>, in Sequences and their Applications (Proceedings of SETA '98).\n",
       "   - N. J. A. Sloane, <a href=\"/<a href=\"http://oeis.org/A222314\">A222314</a>/a222314_1.pdf\">Triangle showing silhouette of first 30 rows of Pascal's triangle (after Cobeli and Zaharescu)</a>\n",
       "   - Hermann Stamm-Wilbrandt, <a href=\"/<a href=\"http://oeis.org/A007318\">A007318</a>/a007318_2.gif\">Compute C(n+m,...) based on C(n,...) and C(m,...) values animation</a>\n",
       "   - Ch. Stover and E. W. Weisstein, <a href=\"http://mathworld.wolfram.com/Composition.html\">Composition</a>. From MathWorld - A Wolfram Web Resource.\n",
       "   - H. Verrill, <a href=\"http://hverrill.net/pages~helena/pascal\">Pascal's Triangle and related triangles</a>\n",
       "   - G. Villemin's Almanach of Numbers, <a href=\"http://villemin.gerard.free.fr/Wwwgvmm/Iteration/TrgPasca.htm\">Triangle de Pascal</a>\n",
       "   - Eric Weisstein's World of Mathematics, <a href=\"http://mathworld.wolfram.com/PascalsTriangle.html\">Pascal's Triangle</a>\n",
       "   - Wikipedia, <a href=\"http://en.wikipedia.org/wiki/Pascal&#39;s_triangle\">Pascal's triangle</a>\n",
       "   - H. S. Wilf, <a href=\"http://www.math.upenn.edu/~wilf/DownldGF.html\">Generatingfunctionology</a>, 2nd edn., Academic Press, NY, 1994, pp. 12ff.\n",
       "   - K. Williams, Mathforum, <a href=\"http://mathforum.org/dr.cgi/pascal.cgi\">Interactive Pascal's Triangle</a>\n",
       "   - K. Williams, MathForum, <a href=\"http://mathforum.org/~ken/pascal.html\">Pascal's Triangle to Row 19</a>\n",
       "   - D. Zeilberger, <a href=\"http://arXiv.org/abs/math.CO/9809136\">The Combinatorial Astrology of Rabbi Abraham Ibn Ezra</a>, arXiv:math/9809136 [math.CO], 1998.\n",
       "   - <a href=\"/index/Pas#Pascal\">Index entries for triangles and arrays related to Pascal's triangle</a>\n",
       "   - <a href=\"/index/Cor#core\">Index entries for \"core\" sequences</a>\n",
       "\n",
       "_References_:\n",
       "   - M. Abramowitz and I. A. Stegun, eds., Handbook of Mathematical Functions, National Bureau of Standards Applied Math. Series 55, 1964 (and various reprintings), p. 828.\n",
       "   - P Barry, Riordan arrays, generalized Narayana triangles, and series reversion, Linear Algebra and its Applications, 491 (2016) 343-385.\n",
       "   - A. T. Benjamin and J. J. Quinn, Proofs that really count: the art of combinatorial proof, M.A.A. 2003, p. 63ff.\n",
       "   - B. A. Bondarenko, Generalized Pascal Triangles and Pyramids (in Russian), FAN, Tashkent, 1990, ISBN 5-648-00738-8.\n",
       "   - L. Comtet, Advanced Combinatorics, Reidel, 1974, p. 306.\n",
       "   - P. Curtz, Intégration numérique des systèmes différentiels à conditions initiales, Centre de Calcul Scientifique de l'Armement, Arcueil, 1969.\n",
       "   - W. Feller, An Introduction to Probability Theory and Its Application, Vol. 1, 2nd ed. New York: Wiley, p. 36, 1968.\n",
       "   - R. L. Graham, D. E. Knuth and O. Patashnik, Concrete Mathematics. Addison-Wesley, Reading, MA, 2nd. ed., 1994, p. 155.\n",
       "   - D. Hök, Parvisa mönster i permutationer [Swedish], 2007.\n",
       "   - D. E. Knuth, The Art of Computer Programming, Vol. 1, 2nd ed., p. 52.\n",
       "   - S. K. Lando, Lecture on Generating Functions, Amer. Math. Soc., Providence, R.I., 2003, pp. 60-61.\n",
       "   - Clifford A. Pickover, A Passion for Mathematics, Wiley, 2005; see p. 71.\n",
       "   - A. P. Prudnikov, Yu. A. Brychkov and O. I. Marichev, \"Integrals and Series\", Volume 1: \"Elementary Functions\", Chapter 4: \"Finite Sums\", New York, Gordon and Breach Science Publishers, 1986-1992.\n",
       "   - J. Riordan, An Introduction to Combinatorial Analysis, Wiley, 1958, p. 6.\n",
       "   - J. Riordan, Combinatorial Identities, Wiley, 1968, p. 2.\n",
       "   - R. Sedgewick and P. Flajolet, An Introduction to the Analysis of Algorithms, Addison-Wesley, Reading, MA, 1996, p. 143.\n",
       "   - N. J. A. Sloane and Simon Plouffe, The Encyclopedia of Integer Sequences, Academic Press, 1995 (includes this sequence).\n",
       "   - D. Wells, The Penguin Dictionary of Curious and Interesting Numbers, pp. 115-8, Penguin Books 1987."
      ],
      "text/plain": [
       "<IPython.core.display.Markdown object>"
      ]
     },
     "execution_count": 3,
     "metadata": {},
     "output_type": "execute_result"
    }
   ],
   "source": [
    "s()"
   ]
  },
  {
   "cell_type": "markdown",
   "metadata": {},
   "source": [
    "---\n",
    "<a rel=\"license\" href=\"http://creativecommons.org/licenses/by-nc-sa/4.0/\"><img alt=\"Creative Commons License\" style=\"border-width:0\" src=\"https://i.creativecommons.org/l/by-nc-sa/4.0/88x31.png\" /></a><br />This work is licensed under a <a rel=\"license\" href=\"http://creativecommons.org/licenses/by-nc-sa/4.0/\">Creative Commons Attribution-NonCommercial-ShareAlike 4.0 International License</a>."
   ]
  }
 ],
 "metadata": {
  "kernelspec": {
   "display_name": "Python 3",
   "language": "python",
   "name": "python3"
  },
  "language_info": {
   "codemirror_mode": {
    "name": "ipython",
    "version": 3
   },
   "file_extension": ".py",
   "mimetype": "text/x-python",
   "name": "python",
   "nbconvert_exporter": "python",
   "pygments_lexer": "ipython3",
   "version": "3.5.2"
  }
 },
 "nbformat": 4,
 "nbformat_minor": 0
}
