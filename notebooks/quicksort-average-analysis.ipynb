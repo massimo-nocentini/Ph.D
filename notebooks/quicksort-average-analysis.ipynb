{
 "cells": [
  {
   "cell_type": "markdown",
   "metadata": {},
   "source": [
    "<p>\n",
    "<div align=\"right\"> Massimo Nocentini<br>\n",
    "<small>\n",
    "<br>September 22, 2016: Quicksort theory, average cases\n",
    "</small>\n",
    "</div>\n",
    "<br>\n",
    "<img src=\"http://www.cerm.unifi.it/chianti/images/logo%20unifi_positivo.jpg\" \n",
    "        alt=\"UniFI logo\" style=\"float: right; width: 20%; height: 20%;\">\n",
    "</p>\n",
    "\n",
    "<p>\n",
    "<div align=\"center\">\n",
    "<b>Abstract</b><br>\n",
    "In this notebook we study two recurrence relations arising from the analysis of the `Quicksort` algorithm: numbers of checks and swaps are taken into account, in the average case. Such relations involve subterms where subscripts dependends on *one* dimension. They are a simple, but interesting, starting point to approach the general method of <b>unfolding</b>, an algorithmic/symbolical idea stretched further in other notebooks.\n",
    "</div>\n",
    "</p>"
   ]
  },
  {
   "cell_type": "code",
   "execution_count": 8,
   "metadata": {
    "collapsed": false
   },
   "outputs": [],
   "source": [
    "%run \"../src/start_session.py\"\n",
    "\n",
    "%run \"../src/recurrences.py\""
   ]
  },
  {
   "cell_type": "markdown",
   "metadata": {},
   "source": [
    "# Introduction\n",
    "\n",
    "The [**Quicksort** algorithm][qs] depends on the distribution of the keys in the\n",
    "input vector. For what follow we assume to have a probability space\n",
    "$\\Omega = D_n$, where $D_n$ is the set of permutation of length $n$\n",
    "without repetition over $\\{1,\\ldots,n\\}$. We focus on the simpler\n",
    "variant where the pivot is chosen as the right-most\n",
    "key\\footnote{report here the code}.  We study the behavior of an\n",
    "application to the vector $\\left ( 20, 25, 7, 3, 30, 8, 41,\n",
    "  18\\right)$, \\autoref{tab:quicksort-example} reports performed steps.\n",
    "\n",
    "$$  \n",
    "    \\begin{array}{cccccccccc}\n",
    "      \\hline\n",
    "      20 & 25 & 7 & 3 & 30 & 8 & 41 & 18 &  &  \\\\\n",
    "      \\uparrow i & & & & & \\uparrow j & & \\uparrow pivot &\n",
    "      \\rightarrow & \\{20, 41, 8\\} \\\\\n",
    "      \\hline\n",
    "      8 & 25 & 7 & 3 & 30 & 20 & 41 & 18 &  &  \\\\\n",
    "       & \\uparrow i & & \\uparrow j & &  & & \\uparrow pivot &\n",
    "       \\rightarrow & \\{25, 30, 3\\} \\\\\n",
    "       \\hline\n",
    "       8 & 3 & 7 & 25 & 30 & 20 & 41 & 18 &  &  \\\\\n",
    "       &  & \\uparrow j & \\uparrow i & &  & & \\uparrow pivot &\n",
    "       \\rightarrow & \\{7, 25, 7\\} \\\\\n",
    "       \\hline\n",
    "       8 & 3 & 7 & 18 & 30 & 20 & 41 & 25 &  &  \\\\\n",
    "       &  &  & \\uparrow pivot & &  & &  &\n",
    "       \\rightarrow & recursion \\\\\n",
    "       \\hline\n",
    "    \\end{array}\n",
    "$$\n",
    "\n",
    "Observe that in order to move the $pivot$ element in its final\n",
    "position, it is necessary for two keys ($7, 25$) to be checked\n",
    "twice against the $pivot$, moreover when the second of those checks\n",
    "happens, indexes $i$ and $j$ overlapped at some time such that $j < i$\n",
    "eventually holds.\n",
    "\n",
    "Hence, given a vector of length $n$, the number of checks\n",
    "performed before recurring on left and right partitions is $(n-1) + 2$,\n",
    "where $n-1$ appears because the $pivot$ element isn't indexed neither with\n",
    "$i$ nor with $j$.  We analyze the number of performed checks by cases:\n",
    "\n",
    "- *worst case* when the vector is already ordered, in either one of the\n",
    "  two directions, recursion works over one partition only, because the\n",
    "  other one has to be empty, hence the number of checks satisfies\n",
    "  the following relation $ C(n) = (n-1)+2 + C(n-1) $.\n",
    "  Unfolding $C(n-1)$ and fixing $C(0) = 0$ as base case, the following holds:\n",
    "  $$\n",
    "  \\begin{split}\n",
    "    C(n) &= (n+1) + C(n-1) = (n+1) + n + C(n-2) = \\\\\n",
    "      &= (n+1) + n + (n-1) + \\ldots + 2 + C(0) = \\\\\n",
    "      &= \\sum_{k=2}^{n+1}{k} + C(0) = \\sum_{k=1}^{n+1}{k} -1 + C(0) =\n",
    "      \\frac{(n+1)(n+2)}{2} - 1\n",
    "      \\end{split}\n",
    "    $$\n",
    "    so $C(n) \\in O(n^2)$.\n",
    "- *best case* when the partition phase puts the $pivot$ element\n",
    "    in the middle then QUICKSORT recurs on balanced partitions. In this\n",
    "  case it has the same complexity of MERGESORT, hence $C(n) \\in O(n \\log n)$\n",
    "\n",
    "We explain the average case in the following dedicated section.\n",
    "\n",
    "\n",
    "[qs]:https://en.wikipedia.org/wiki/Quicksort"
   ]
  },
  {
   "cell_type": "markdown",
   "metadata": {},
   "source": [
    "# On number of checks, the average case\n",
    "\n",
    "To study this case we have to consider all\n",
    "elements of $\\Omega$ (recall that $w \\in \\Omega \\rightarrow (w[i]\\in\n",
    "\\{1,\\ldots,n\\}) \\wedge (\\forall i\\not =j: w[i]\\not=w[j]) \\wedge length(w) = n$).\n",
    "Let $j$ be the $pivot$ element, hence a generic $w$ will\n",
    "have this structure: $ w = (C_{j-1} \\quad C_{n-j} \\quad j)$,\n",
    "where $C_k$ is a vector of length $k$. Assume that the random variable\n",
    "$X =$ \"$ j \\in \\lbrace 1,\\ldots,n \\rbrace \\text{ is the $pivot$ element in } w$\"\n",
    "is uniformly distributed, formally:\n",
    "$$\n",
    "  \\mathbb{P}\\left(w\\in\\Omega: w[n]=j \\right) =\n",
    "  \\frac{(n-1)!}{n!} =  \\frac{1}{n}\n",
    "$$\n",
    "\n",
    "Our goal here is to build a function $C(n)$ which counts the average\n",
    "number of checks during an execution of the algorithm given an input\n",
    "vector of length $n$. In order to do that observe that every key $j\n",
    "\\in \\{1,\\ldots,n\\}$ can be the $pivot$, so the following holds:\n",
    "$$\n",
    "  C(n) = (n+1) +  \\frac{1}{n}\\sum_{j=1}^{n}{C(j-1) + C(n-j)}\n",
    "$$\n",
    "\n",
    "Observing the sum when $j$ runs:\n",
    "$$\n",
    "  \\begin{split}\n",
    "    j=1 &\\rightarrow C(0) + C(n-1) \\\\\n",
    "    j=2 &\\rightarrow C(1) + C(n-2) \\\\\n",
    "    \\ldots& \\\\\n",
    "    j=n-1 &\\rightarrow C(n-2) + C(1) \\\\\n",
    "    j=n &\\rightarrow C(n-1) + C(0) \\\\\n",
    "  \\end{split}\n",
    "$$\n",
    "\n",
    "Hence we can rewrite and manipulate:\n",
    "$$\n",
    "  \\begin{split}\n",
    "    C(n) &= (n+1) + \\frac{2}{n}\\sum_{j=0}^{n-1}{C(j)}\\\\\n",
    "    nC(n) &= n(n+1) + 2\\sum_{j=0}^{n-1}{C(j)}\n",
    "  \\end{split}\n",
    "$$\n",
    "\n",
    "Subtract the previous $(n-1)$ term to both members:\n",
    "$$\n",
    "  \\begin{split}\n",
    "    nC(n) -(n-1)C(n-1) &= n(n+1) + 2\\sum_{j=0}^{n-1}{C(j)} -\\left((n-1)((n-1)+1) + 2\\sum_{j=0}^{(n-1)-1}{C(j)}\\right) \\\\\n",
    "    % nC(n) -(n-1)C(n-1)\n",
    "    &= n(n+1) + 2\\sum_{j=0}^{n-1}{C(j)} -n(n-1) - 2\\sum_{j=0}^{n-2}{C(j)} \\\\\n",
    "    &= n(n+1-(n-1)) + 2C(n-1) \\\\\n",
    "    &= 2(n + C(n-1)) \\\\\n",
    "  \\end{split}\n",
    "$$\n",
    "\n",
    "Getting $nC(n) = 2n + (n+1)C(n-1)$, divide both member by $n(n+1)$:\n",
    "$$\n",
    "  \\begin{split}\n",
    "    \\frac{C(n)}{n+1}  = \\frac{2}{n+1} +\n",
    "    \\frac{C(n-1)}{n}\n",
    "  \\end{split}\n",
    "$$\n",
    "\n",
    "Matching $A(n) = b(n) + A(n-1)$, where $A(n) = \\frac{C(n)}{n+1} $\n",
    "and $b(n) = \\frac{2}{n+1} $. Unfolding $A(n-1)$ and fixing $C(0) = 0$:\n",
    "$$\n",
    "\\begin{split}\n",
    "\\frac{C(n)}{n+1} &= \\frac{2}{n+1} + \\frac{C(n-1)}{n} =\n",
    "\\frac{2}{n+1} +\n",
    "\\frac{2}{n} + \\frac{C(n-2)}{n-1}\\\\\n",
    "&= \\frac{2}{n+1} + \\frac{2}{n} + \\ldots +\n",
    "\\frac{2}{3} + \\frac{2}{2} + \\frac{C(0)}{1}\\\\\n",
    "&= \\frac{2}{n+1} + \\frac{2}{n} + \\ldots +\n",
    "\\frac{2}{3} + 1\\\\\n",
    "&= 2\\left(\\frac{1}{n+1} + \\frac{1}{n} + \\ldots +\n",
    "  \\frac{1}{3}\\right) + 1\\\\\n",
    "&= 2\\left(\\frac{1}{n+1} + \\frac{1}{n} + \\ldots +\n",
    "  \\frac{1}{3}\\right) +2\\frac{1}{2} + 2 + 1 -2\\frac{1}{2} - 2\\\\\n",
    "&= 2\\left(\\frac{1}{n+1} + \\frac{1}{n} + \\ldots + \\frac{1}{3} + \\frac{1}{2} + 1\\right) -2 \\\\\n",
    "&= 2(H_{n+1}-1)\n",
    "\\end{split}\n",
    "$$\n",
    "\n",
    "where we recognized the $(n+1)$-th harmonic number $H_{n}=\\left(\\frac{1}{n+1} +\n",
    "  \\frac{1}{n} + \\ldots + \\frac{1}{3}+ \\frac{1}{2}+ 1\\right)$\n",
    "to rewrite: $C(n) = 2(n+1)(H_{n+1}-1)$. Now recall the asymptotic approximation $H_n \\sim ln(n) + \\gamma$,\n",
    "so $C(n) \\in O(n\\log n)$.\n",
    "\n",
    "From a practical point of view when a\n",
    "sorting problem is approached with the Quicksort algorithm, to avoid\n",
    "the worst case $O(n^2)$ number of checks, it is sufficient to do one\n",
    "of the following actions before starting the sorting process:\n",
    "- shuffling the input vector and proceed with the algorithm\n",
    "  described above;\n",
    "- choose the $pivot$ element at random, move it in the right-most\n",
    "  position and proceed with the algorithm described above.\n",
    "\n",
    "Each one of these two tricks requires linear time in the dimension of the\n",
    "input vector and allows to work with $O(n\\log n)$ number of checks, on average."
   ]
  },
  {
   "cell_type": "markdown",
   "metadata": {},
   "source": [
    "## Symbolically\n",
    "Define the recurrence relation as we did on paper, namely as an equation coupling an *indexable* symbol on both sides."
   ]
  },
  {
   "cell_type": "code",
   "execution_count": 9,
   "metadata": {
    "collapsed": false
   },
   "outputs": [
    {
     "data": {
      "text/latex": [
       "$$\\frac{c_{n}}{n + 1} = \\frac{2}{n + 1} + \\frac{1}{n} c_{n - 1}$$"
      ],
      "text/plain": [
       " c[n]     2     c[n - 1]\n",
       "───── = ───── + ────────\n",
       "n + 1   n + 1      n    "
      ]
     },
     "execution_count": 9,
     "metadata": {},
     "output_type": "execute_result"
    }
   ],
   "source": [
    "c = IndexedBase('c')\n",
    "checks_recurrence = Eq(c[n]/(n+1), 2/(n+1) + c[n-1]/n)\n",
    "checks_recurrence"
   ]
  },
  {
   "cell_type": "markdown",
   "metadata": {},
   "source": [
    "Function `make_recurrence_spec` builds an object that denote the recurrence, formally and programmatically."
   ]
  },
  {
   "cell_type": "code",
   "execution_count": 10,
   "metadata": {
    "collapsed": true
   },
   "outputs": [],
   "source": [
    "checks_recurrence_spec=make_recurrence_spec(recurrence_eq=checks_recurrence, indexed=c, index=make_index(n))"
   ]
  },
  {
   "cell_type": "markdown",
   "metadata": {},
   "source": [
    "Function `do_unfolding_steps` allow us to perform *unfolding* or *unrolling* on occurrences of the inductively defined symbol. Doing $n$ steps of unfolding is the same to say to use the main recurrence defined above as a rewriting rule for occurrences, on the rhs, that pattern match with the one on the lhs. "
   ]
  },
  {
   "cell_type": "code",
   "execution_count": null,
   "metadata": {
    "collapsed": false
   },
   "outputs": [],
   "source": [
    "unfolded = do_unfolding_steps(checks_recurrence_spec, steps=2)"
   ]
  },
  {
   "cell_type": "markdown",
   "metadata": {},
   "source": [
    "The following is the equation produced after 4 steps."
   ]
  },
  {
   "cell_type": "code",
   "execution_count": 6,
   "metadata": {
    "collapsed": false
   },
   "outputs": [
    {
     "data": {
      "text/latex": [
       "$$\\frac{c_{n}}{n + 1} = \\frac{2}{n - 3} + \\frac{c_{n - 5}}{n - 4} + \\frac{2}{n + 1} + \\frac{2}{n} + \\frac{2}{n - 1} + \\frac{2}{n - 2}$$"
      ],
      "text/plain": [
       " c[n]     2     c[n - 5]     2     2     2       2  \n",
       "───── = ───── + ──────── + ───── + ─ + ───── + ─────\n",
       "n + 1   n - 3    n - 4     n + 1   n   n - 1   n - 2"
      ]
     },
     "execution_count": 6,
     "metadata": {},
     "output_type": "execute_result"
    }
   ],
   "source": [
    "unfolded.recurrence_eq"
   ]
  },
  {
   "cell_type": "markdown",
   "metadata": {},
   "source": [
    "However, it is interesting to look at the *history* of discovered terms in order to yield the previous result."
   ]
  },
  {
   "cell_type": "code",
   "execution_count": 16,
   "metadata": {
    "collapsed": false
   },
   "outputs": [
    {
     "data": {
      "text/latex": [
       "$$\\left \\{ \\frac{1}{n} c_{n - 1} : \\frac{c_{n - 2}}{n - 1} + \\frac{2}{n}, \\quad \\frac{c_{n - 4}}{n - 3} : \\frac{2}{n - 3} + \\frac{c_{n - 5}}{n - 4}, \\quad \\frac{c_{n - 3}}{n - 2} : \\frac{2}{n - 2} + \\frac{c_{n - 4}}{n - 3}, \\quad \\frac{c_{n - 2}}{n - 1} : \\frac{2}{n - 1} + \\frac{c_{n - 3}}{n - 2}\\right \\}$$"
      ],
      "text/plain": [
       "⎧c[n - 1]  c[n - 2]   2  c[n - 4]    2     c[n - 5]  c[n - 3]    2     c[n - 4\n",
       "⎨────────: ──────── + ─, ────────: ───── + ────────, ────────: ───── + ───────\n",
       "⎩   n       n - 1     n   n - 3    n - 3    n - 4     n - 2    n - 2    n - 3 \n",
       "\n",
       "]  c[n - 2]    2     c[n - 3]⎫\n",
       "─, ────────: ───── + ────────⎬\n",
       "    n - 1    n - 1    n - 2  ⎭"
      ]
     },
     "execution_count": 16,
     "metadata": {},
     "output_type": "execute_result"
    }
   ],
   "source": [
    "unfolded.terms_cache"
   ]
  },
  {
   "cell_type": "markdown",
   "metadata": {},
   "source": [
    "If desired, we can *base* the previous equation such that a new equation is produced containing the very first term of the sequence, in our case $c_{0}$."
   ]
  },
  {
   "cell_type": "code",
   "execution_count": 7,
   "metadata": {
    "collapsed": false
   },
   "outputs": [
    {
     "data": {
      "text/latex": [
       "$$\\frac{c_{5}}{6} = c_{0} + \\frac{29}{10}$$"
      ],
      "text/plain": [
       "c[5]          29\n",
       "──── = c[0] + ──\n",
       " 6            10"
      ]
     },
     "execution_count": 7,
     "metadata": {},
     "output_type": "execute_result"
    }
   ],
   "source": [
    "with instantiate_eq(unfolded.recurrence_eq, {n:5}) as instantiated_eq: pass\n",
    "instantiated_eq"
   ]
  },
  {
   "cell_type": "markdown",
   "metadata": {},
   "source": [
    "Using the previous idea, finding a value for $n$ that causes the very first item to appear, then we can substitute in the entire specification."
   ]
  },
  {
   "cell_type": "code",
   "execution_count": 17,
   "metadata": {
    "collapsed": false
   },
   "outputs": [
    {
     "data": {
      "text/latex": [
       "$$\\left ( \\frac{c_{5}}{6} = c_{0} + \\frac{29}{10}, \\quad \\left \\{ n : 5\\right \\}, \\quad c, \\quad \\left \\{ \\frac{c_{1}}{2} : c_{0} + 1, \\quad \\frac{c_{2}}{3} : \\frac{c_{1}}{2} + \\frac{2}{3}, \\quad \\frac{c_{3}}{4} : \\frac{c_{2}}{3} + \\frac{1}{2}, \\quad \\frac{c_{4}}{5} : \\frac{c_{3}}{4} + \\frac{2}{5}\\right \\}\\right )$$"
      ],
      "text/plain": [
       "⎛c[5]          29             ⎧c[1]            c[2]  c[1]   2  c[3]  c[2]   1 \n",
       "⎜──── = c[0] + ──, {n: 5}, c, ⎨────: c[0] + 1, ────: ──── + ─, ────: ──── + ─,\n",
       "⎝ 6            10             ⎩ 2               3     2     3   4     3     2 \n",
       "\n",
       " c[4]  c[3]   2⎫⎞\n",
       " ────: ──── + ─⎬⎟\n",
       "  5     4     5⎭⎠"
      ]
     },
     "execution_count": 17,
     "metadata": {},
     "output_type": "execute_result"
    }
   ],
   "source": [
    "based_recurrence_spec = base_instantiation(unfolded, make_index(0), unary_subscripts_subsume_sols)\n",
    "based_recurrence_spec"
   ]
  },
  {
   "cell_type": "markdown",
   "metadata": {},
   "source": [
    "If we attach a value to $c_{0}$ and we put it in the term cache, then it is possible to *fully* instantiate the spec."
   ]
  },
  {
   "cell_type": "code",
   "execution_count": 18,
   "metadata": {
    "collapsed": false
   },
   "outputs": [
    {
     "data": {
      "text/latex": [
       "$$\\left ( \\frac{c_{5}}{6} = \\frac{29}{10}, \\quad \\left \\{ n : 5\\right \\}, \\quad c, \\quad \\left \\{ c_{0} : 0, \\quad \\frac{c_{1}}{2} : 1, \\quad \\frac{c_{2}}{3} : \\frac{5}{3}, \\quad \\frac{c_{3}}{4} : \\frac{13}{6}, \\quad \\frac{c_{4}}{5} : \\frac{77}{30}\\right \\}\\right )$$"
      ],
      "text/plain": [
       "⎛c[5]   29             ⎧         c[1]     c[2]       c[3]        c[4]  77⎫⎞\n",
       "⎜──── = ──, {n: 5}, c, ⎨c[0]: 0, ────: 1, ────: 5/3, ────: 13/6, ────: ──⎬⎟\n",
       "⎝ 6     10             ⎩          2        3          4           5    30⎭⎠"
      ]
     },
     "execution_count": 18,
     "metadata": {},
     "output_type": "execute_result"
    }
   ],
   "source": [
    "boundary_conditions = {c[0]:Integer(0)} # `Integer` object is mandatory, not a vanilla `int`\n",
    "with copy_recurrence_spec(based_recurrence_spec) as rec_spec_for_full_instantiation:\n",
    "    rec_spec_for_full_instantiation.terms_cache.update(boundary_conditions)\n",
    "    fully_instantiated_spec = repeated_instantiating(rec_spec_for_full_instantiation)\n",
    "fully_instantiated_spec"
   ]
  },
  {
   "cell_type": "markdown",
   "metadata": {},
   "source": [
    "Moreover, if we want to skip all little steps and perform a *batch* study for a variable number of steps, then we provide an *higher-order* operator `ipython_latex`, which produces a nice representation for a set of unfoldings"
   ]
  },
  {
   "cell_type": "code",
   "execution_count": 34,
   "metadata": {
    "collapsed": false
   },
   "outputs": [
    {
     "data": {
      "text/latex": [
       "\\begin{array}{c}\\frac{c_{1}}{2} = c_{0} + 1\\\\\n",
       "\\frac{c_{2}}{3} = c_{0} + \\frac{5}{3}\\\\\n",
       "\\frac{c_{3}}{4} = c_{0} + \\frac{13}{6}\\\\\n",
       "\\frac{c_{4}}{5} = c_{0} + \\frac{77}{30}\\\\\n",
       "\\frac{c_{5}}{6} = c_{0} + \\frac{29}{10}\\\\\n",
       "\\frac{c_{6}}{7} = c_{0} + \\frac{223}{70}\\\\\n",
       "\\frac{c_{7}}{8} = c_{0} + \\frac{481}{140}\\\\\n",
       "\\frac{c_{8}}{9} = c_{0} + \\frac{4609}{1260}\\\\\n",
       "\\frac{c_{9}}{10} = c_{0} + \\frac{4861}{1260}\\\\\n",
       "\\frac{c_{10}}{11} = c_{0} + \\frac{55991}{13860}\\\\\\end{array}"
      ],
      "text/plain": [
       "<IPython.core.display.Latex object>"
      ]
     },
     "execution_count": 34,
     "metadata": {},
     "output_type": "execute_result"
    }
   ],
   "source": [
    "ipython_latex(checks_recurrence_spec, times_range=range(10), \n",
    "              base_index=make_index(0), subsume_sols=unary_subscripts_subsume_sols)"
   ]
  },
  {
   "cell_type": "markdown",
   "metadata": {},
   "source": [
    "# On the number of swaps, the average case\n",
    "\n",
    "Our goal here is to build a function $S(n)$ which counts the average\n",
    "number of swaps during an execution of the algorithm given an input\n",
    "vector of length $n$.\n",
    "\n",
    "The recurrence for the average number of swaps satisfies the following equation:\n",
    "$$\n",
    "  S(n) =  \\frac{n-2}{6} +  \\frac{1}{n} \\sum_{j=1}^{n}{S(j-1) + S(n-j)}\n",
    "$$\n",
    "We develop the proof in two stages, first studying **equation (1)**:\n",
    "$$\n",
    "    \\mathbb{E} \\left[K_j \\right]  = \\frac{(j-1)(n-j)}{n-1}\n",
    "$$\n",
    "where $K_j$ is a random variable that depends on $j$, then **equation (2)**:\n",
    "$$\n",
    "  \\frac{n-2}{6} = \\frac{1}{n}\\sum_{j=1}^{n}{ \\mathbb{E} \\left[K_j \\right] }\n",
    "$$\n",
    "In what follow, assume to work over a probability space $\\Omega$ as\n",
    "defined in the previous section, distributed uniformly.\n",
    "\n",
    "**Proof of equation (1)**<br>\n",
    "Let $j \\in \\left \\lbrace 1,\\ldots,n \\right\\rbrace $ be the $pivot$ element,\n",
    "and let $K_j: \\Omega \\rightarrow \\mathbb{R}$ be a random variable\n",
    "such that $K_j = s \\mathbb{1}_{\\lbrace w[n]=j \\rbrace}$, where $s$ is\n",
    "the number of swaps performed by the partitioning phase given\n",
    "an input vector $w$ of length $n$. To better understand, $K_j$ satisfies\n",
    "the following implications:\n",
    "$$\n",
    "\\begin{split}\n",
    "  w[n] = j &\\rightarrow K_j(w) = s \\\\\n",
    "  w[n] \\not= j &\\rightarrow K_j(w) = 0 \\\\\n",
    "\\end{split}\n",
    "$$\n",
    "The probability to have $k$ swaps when $j$ is the $pivot$ element is:\n",
    "$$\n",
    "\\mathbb{P}\\left(K_j = k \\right) =  \\frac{{{n-j}\\choose{k}}\n",
    "  {{j-1}\\choose{k}} (n-j)! (j-1)! }{(n-1)!}\n",
    "$$\n",
    "We can justify the above formula in the following steps:\n",
    "- we have $k$ swaps when $\\left| \\left \\lbrace w_i : w_i < j \\right\\rbrace \\right| = k$ and \n",
    "    $\\left| \\left \\lbrace w_i : w_i > j \\right\\rbrace \\right| = k$\n",
    "- consider the set $\\left \\lbrace w_i : w_i < j \\right\\rbrace$:\n",
    "    we can build permutations of length $j-1$, and foreach disposition\n",
    "    we can choose $k$ keys in ${{j-1}\\choose{k}}$ ways, hence the term\n",
    "    ${{j-1}\\choose{k}}(j-1)!$;\n",
    "- consider the set $\\left \\lbrace w_i : w_i > j \\right\\rbrace$:\n",
    "    we can build permutations of length $n-j$, and foreach disposition\n",
    "    we can choose $k$ keys in ${{n-j}\\choose{k}}$ ways, hence the term\n",
    "    ${{n-j}\\choose{k}}(n-j)!$;\n",
    "- the total number of possible permutation of $n$ keys excluding\n",
    "    the $pivot$ (which is fixed in the right-most position) is $(n-1)!$\n",
    "\n",
    "Now we study the mean of the variable $K_j$:\n",
    "$$\n",
    "\\mathbb{E} \\left[ K_j \\right] = \\sum_{k \\geq 0}{k \\mathbb{P}\\left(\n",
    "    K_j = k      \\right) }\n",
    "$$\n",
    "Using ${{n}\\choose{m}} =  \\frac{n!}{m!(n-m)!} $, we can rewrite:\n",
    "$$\n",
    "\\mathbb{P}\\left(K_j = k \\right) =  {{n-j}\\choose{k}}\n",
    "{{j-1}\\choose{k}} \\frac{(n-j)! (j-1)! }{(n-1)!} =  {{n-j}\\choose{k}}\n",
    "{{j-1}\\choose{k}} {{n-1}\\choose{j-1}}^{-1}\n",
    "$$\n",
    "We put the previous rewrite of $\\mathbb{P}\\left(K_j = k \\right)$ into\n",
    "the definition of $\\mathbb{E} \\left[ K_j \\right]$:\n",
    "$$\n",
    "\\mathbb{E} \\left[ K_j \\right] = \\sum_{k \\geq 0}{k \\mathbb{P}\\left(\n",
    "    K_j = k      \\right) }  = \\sum_{k \\geq 0}{k \\frac{{{n-j}\\choose{k}}\n",
    "    {{j-1}\\choose{k}}}{{{n-1}\\choose{j-1}}}}\n",
    "$$\n",
    "\n",
    "Using the following rewrite for ${{j-1}\\choose{k}}$:\n",
    "$$\n",
    "{{j-1}\\choose{k}} =  \\frac{(j-1)!}{k!(j-1-k)!} =\n",
    "\\frac{(j-1)}{k} \\frac{(j-2)!}{(k-1)!(j-1-k)!} =\n",
    "\\frac{(j-1)}{k}{{j-2}\\choose{k-1}}\n",
    "$$\n",
    "\n",
    "and ${{n}\\choose{m}} = {{n}\\choose{n-m}}$ implies ${{j-2}\\choose{k-1}}\n",
    "= {{j-2}\\choose{j-2 -(k-1)}} = {{j-2}\\choose{j -k-1}}$, then:\n",
    "$$\n",
    "\\begin{split}\n",
    "  \\mathbb{E} \\left[ K_j \\right] &= \\sum_{k \\geq 0}{k\n",
    "    \\mathbb{P}\\left( K_j = k \\right) } =\n",
    "  \\frac{1}{{{n-1}\\choose{j-1}}} \\sum_{k \\geq 0}{k\n",
    "    {{n-j}\\choose{k}} {{j-1}\\choose{k}}} \\\\\n",
    "  &= \\frac{1}{{{n-1}\\choose{j-1}}} \\sum_{k \\geq 0}{k\n",
    "    {{n-j}\\choose{k}}  \\frac{j-1}{k}{{j-2}\\choose{j-k-1}}}\n",
    "  = \\frac{j-1}{{{n-1}\\choose{j-1}}} \\sum_{k \\geq 0}{\n",
    "    {{n-j}\\choose{k}} {{j-2}\\choose{j-k-1}}}\n",
    "\\end{split}\n",
    "$$\n",
    "\n",
    "Now we recognize the Vandermonde result:\n",
    "$$\n",
    "\\sum_{k \\geq 0}{{{r}\\choose{k}} {{s}\\choose{n-k}}  } =\n",
    "{{r + s}\\choose{n}}\n",
    "$$\n",
    "which can be proved directly because the ipergeometric distribution\n",
    "has exactly the same structure, and being a distribution, it sum up\n",
    "to 1. So we use this result applying it to $\\sum_{k \\geq 0}{\n",
    "{{n-j}\\choose{k}} {{j-2}\\choose{j-k-1}}} = {{n-2}\\choose{j-1}} $,\n",
    "obtaining:\n",
    "$$\n",
    "\\begin{split}\n",
    "  \\mathbb{E} \\left[ K_j \\right] &= \\frac{j-1}{{{n-1}\\choose{j-1}}}\n",
    "  {{n-2}\\choose{j-1}} =\n",
    "  \\frac{(j-1)(n-2)!(j-1)!(n-j)!}{(n-1)!(j-1)!(n-j-1)!}=\\\\\n",
    "  &=\\frac{(j-1)(n-2)!(j-1)!(n-j)(n-j-1)!}\n",
    "  {(n-1)(n-2)!(j-1)!(n-j-1)!}= \\frac{(j-1)(n-j)}{n-1}\n",
    "\\end{split}\n",
    "$$\n",
    "$\\blacksquare$\n",
    "\n",
    "**Proof of equation (2)**<br>\n",
    "\n",
    "Let us start with :\n",
    "$$\n",
    "\\begin{split}\n",
    "  \\frac{1}{n}\\sum_{j=1}^{n}{\\mathbb{E} \\left[K_j \\right] } &=\n",
    "  \\frac{1}{n} \\sum_{j=1}^{n}{\\frac{(j-1)(n-j)}{n-1}} =\n",
    "  \\frac{1}{n(n-1)} \\sum_{j=1}^{n}{(j-1)(n-j)}=\\\\\n",
    "  &=\\frac{1}{n(n-1)} \\sum_{j=1}^{n}{(j(1+n)-j^2-n)} \\\\\n",
    "  &=\\frac{1}{n(n-1)} \\left( (n+1)\\sum_{j=1}^{n}{j} -\n",
    "    \\sum_{j=1}^{n}{j^2} -n \\sum_{j=1}^{n}{1}  \\right)\\\\\n",
    "  &=\\frac{1}{n(n-1)}\\left( \\frac{n(n+1)^2}{2} -\n",
    "    \\frac{n(n+1)(2n+1)}{6} - n^2 \\right) = \\ldots =  \\frac{n-2}{6}\n",
    "\\end{split}\n",
    "$$\n",
    "$\\blacksquare$\n",
    "\n",
    "We are now ready to solve the main recurrence using the same strategy\n",
    "for the average number of checks, fixing $S(0) = S(1) = S(2) = 0$:\n",
    "$$\n",
    "  \\begin{split}\n",
    "    nS(n) - (n-1)S(n-1) &=  \\frac{2n-3}{6} + 2S(n-1)\\\\\n",
    "    \\frac{S(n)}{n+1} &=  \\frac{S(n-1)}{n} +  \\frac{2n -3}{6n(n+1)} =\n",
    "      % \\frac{S(2)}{3} +\n",
    "      \\sum_{k=3}^{n}{ \\frac{2k-3}{6k(k+1)} }\n",
    "  \\end{split}\n",
    "$$\n",
    "Decomposing the general term of the summation $ \\frac{2k-3}{6k(k+1)}$\n",
    "in partial fractions yield: $$- \\frac{1}{6 x - 6} + \\frac{1}{2 x}$$\n",
    "and integrating over $x$ yield: $$\\frac{1}{2} \\log{\\left (x \\right )} -\n",
    "\\frac{1}{6} \\log{\\left (x - 1 \\right )}$$\n",
    "hence $S(n) \\in O(n \\log n)$.\n"
   ]
  },
  {
   "cell_type": "markdown",
   "metadata": {},
   "source": [
    "## Symbolically"
   ]
  },
  {
   "cell_type": "code",
   "execution_count": 20,
   "metadata": {
    "collapsed": false
   },
   "outputs": [
    {
     "data": {
      "text/latex": [
       "$$\\frac{s_{n}}{n + 1} = \\frac{1}{n} s_{n - 1} + \\frac{2 n - 3}{6 n \\left(n + 1\\right)}$$"
      ],
      "text/plain": [
       " s[n]   s[n - 1]     2⋅n - 3  \n",
       "───── = ──────── + ───────────\n",
       "n + 1      n       6⋅n⋅(n + 1)"
      ]
     },
     "execution_count": 20,
     "metadata": {},
     "output_type": "execute_result"
    }
   ],
   "source": [
    "s = IndexedBase('s')\n",
    "swaps_recurrence = Eq(s[n]/(n+1),s[n-1]/n + (2*n-3)/(6*n*(n+1)))\n",
    "swaps_recurrence"
   ]
  },
  {
   "cell_type": "code",
   "execution_count": 24,
   "metadata": {
    "collapsed": true
   },
   "outputs": [],
   "source": [
    "swaps_recurrence_spec=make_recurrence_spec(recurrence_eq=swaps_recurrence, indexed=s, index=make_index(n))"
   ]
  },
  {
   "cell_type": "code",
   "execution_count": 25,
   "metadata": {
    "collapsed": false
   },
   "outputs": [],
   "source": [
    "unfolded = do_unfolding_steps(swaps_recurrence_spec, steps=4)"
   ]
  },
  {
   "cell_type": "code",
   "execution_count": 26,
   "metadata": {
    "collapsed": false
   },
   "outputs": [
    {
     "data": {
      "text/latex": [
       "$$\\frac{s_{n}}{n + 1} = \\frac{2 n}{6 n^{2} - 30 n + 36} + \\frac{2 n}{6 n^{2} - 18 n + 12} + \\frac{2 n}{6 n^{2} + 6 n} + \\frac{2 n}{6 n^{2} - 6 n} + \\frac{s_{n - 5}}{n - 4} + \\frac{2 n - 11}{6 \\left(n - 4\\right) \\left(n - 3\\right)} + - \\frac{7}{6 n^{2} - 18 n + 12} - \\frac{9}{6 n^{2} - 30 n + 36} - \\frac{5}{6 n^{2} - 6 n} - \\frac{3}{6 n^{2} + 6 n}$$"
      ],
      "text/plain": [
       " s[n]         2⋅n                2⋅n             2⋅n          2⋅n       s[n - \n",
       "───── = ──────────────── + ──────────────── + ────────── + ────────── + ──────\n",
       "n + 1      2                  2                  2            2          n - 4\n",
       "        6⋅n  - 30⋅n + 36   6⋅n  - 18⋅n + 12   6⋅n  + 6⋅n   6⋅n  - 6⋅n         \n",
       "\n",
       "5]        2⋅n - 11                7                  9               5        \n",
       "── + ───────────────── + - ──────────────── - ──────────────── - ────────── - \n",
       "     6⋅(n - 4)⋅(n - 3)        2                  2                  2         \n",
       "                           6⋅n  - 18⋅n + 12   6⋅n  - 30⋅n + 36   6⋅n  - 6⋅n   \n",
       "\n",
       "    3     \n",
       "──────────\n",
       "   2      \n",
       "6⋅n  + 6⋅n"
      ]
     },
     "execution_count": 26,
     "metadata": {},
     "output_type": "execute_result"
    }
   ],
   "source": [
    "unfolded.recurrence_eq"
   ]
  },
  {
   "cell_type": "code",
   "execution_count": 27,
   "metadata": {
    "collapsed": false
   },
   "outputs": [
    {
     "data": {
      "text/latex": [
       "$$\\frac{s_{5}}{6} = s_{0} + \\frac{1}{15}$$"
      ],
      "text/plain": [
       "s[5]              \n",
       "──── = s[0] + 1/15\n",
       " 6                "
      ]
     },
     "execution_count": 27,
     "metadata": {},
     "output_type": "execute_result"
    }
   ],
   "source": [
    "with instantiate_eq(unfolded.recurrence_eq, {n:5}) as instantiated_eq: pass\n",
    "instantiated_eq"
   ]
  },
  {
   "cell_type": "code",
   "execution_count": 28,
   "metadata": {
    "collapsed": false
   },
   "outputs": [
    {
     "data": {
      "text/latex": [
       "$$\\left \\{ \\frac{1}{n} s_{n - 1} : \\frac{s_{n - 2}}{n - 1} + \\frac{2 n - 5}{6 n \\left(n - 1\\right)}, \\quad \\frac{s_{n - 4}}{n - 3} : \\frac{s_{n - 5}}{n - 4} + \\frac{2 n - 11}{6 \\left(n - 4\\right) \\left(n - 3\\right)}, \\quad \\frac{s_{n - 3}}{n - 2} : \\frac{s_{n - 4}}{n - 3} + \\frac{2 n - 9}{6 \\left(n - 3\\right) \\left(n - 2\\right)}, \\quad \\frac{s_{n - 2}}{n - 1} : \\frac{s_{n - 3}}{n - 2} + \\frac{2 n - 7}{6 \\left(n - 2\\right) \\left(n - 1\\right)}\\right \\}$$"
      ],
      "text/plain": [
       "⎧s[n - 1]  s[n - 2]     2⋅n - 5    s[n - 4]  s[n - 5]        2⋅n - 11      s[n\n",
       "⎨────────: ──────── + ───────────, ────────: ──────── + ─────────────────, ───\n",
       "⎩   n       n - 1     6⋅n⋅(n - 1)   n - 3     n - 4     6⋅(n - 4)⋅(n - 3)   n \n",
       "\n",
       " - 3]  s[n - 4]        2⋅n - 9       s[n - 2]  s[n - 3]        2⋅n - 7     ⎫\n",
       "─────: ──────── + ─────────────────, ────────: ──────── + ─────────────────⎬\n",
       "- 2     n - 3     6⋅(n - 3)⋅(n - 2)   n - 1     n - 2     6⋅(n - 2)⋅(n - 1)⎭"
      ]
     },
     "execution_count": 28,
     "metadata": {},
     "output_type": "execute_result"
    }
   ],
   "source": [
    "unfolded.terms_cache"
   ]
  },
  {
   "cell_type": "code",
   "execution_count": 29,
   "metadata": {
    "collapsed": false
   },
   "outputs": [
    {
     "data": {
      "text/latex": [
       "$$\\left ( \\frac{s_{5}}{6} = s_{0} + \\frac{1}{15}, \\quad \\left \\{ n : 5\\right \\}, \\quad s, \\quad \\left \\{ \\frac{s_{1}}{2} : s_{0} - \\frac{1}{12}, \\quad \\frac{s_{2}}{3} : \\frac{s_{1}}{2} + \\frac{1}{36}, \\quad \\frac{s_{3}}{4} : \\frac{s_{2}}{3} + \\frac{1}{24}, \\quad \\frac{s_{4}}{5} : \\frac{s_{3}}{4} + \\frac{1}{24}\\right \\}\\right )$$"
      ],
      "text/plain": [
       "⎛s[5]                           ⎧s[1]               s[2]  s[1]   1   s[3]  s[2\n",
       "⎜──── = s[0] + 1/15, {n: 5}, s, ⎨────: s[0] - 1/12, ────: ──── + ──, ────: ───\n",
       "⎝ 6                             ⎩ 2                  3     2     36   4     3 \n",
       "\n",
       "]   1   s[4]  s[3]   1 ⎫⎞\n",
       "─ + ──, ────: ──── + ──⎬⎟\n",
       "    24   5     4     24⎭⎠"
      ]
     },
     "execution_count": 29,
     "metadata": {},
     "output_type": "execute_result"
    }
   ],
   "source": [
    "based_recurrence_spec = base_instantiation(unfolded, make_index(0), unary_subscripts_subsume_sols)\n",
    "based_recurrence_spec"
   ]
  },
  {
   "cell_type": "code",
   "execution_count": 31,
   "metadata": {
    "collapsed": false
   },
   "outputs": [
    {
     "data": {
      "text/latex": [
       "$$\\left ( \\frac{s_{5}}{6} = \\frac{1}{15}, \\quad \\left \\{ n : 5\\right \\}, \\quad s, \\quad \\left \\{ s_{0} : 0, \\quad \\frac{s_{1}}{2} : - \\frac{1}{12}, \\quad \\frac{s_{2}}{3} : - \\frac{1}{18}, \\quad \\frac{s_{3}}{4} : - \\frac{1}{72}, \\quad \\frac{s_{4}}{5} : \\frac{1}{36}\\right \\}\\right )$$"
      ],
      "text/plain": [
       "⎛s[5]                    ⎧         s[1]         s[2]         s[3]         s[4]\n",
       "⎜──── = 1/15, {n: 5}, s, ⎨s[0]: 0, ────: -1/12, ────: -1/18, ────: -1/72, ────\n",
       "⎝ 6                      ⎩          2            3            4            5  \n",
       "\n",
       "      ⎫⎞\n",
       ": 1/36⎬⎟\n",
       "      ⎭⎠"
      ]
     },
     "execution_count": 31,
     "metadata": {},
     "output_type": "execute_result"
    }
   ],
   "source": [
    "boundary_conditions = {s[0]:Integer(0)} # `Integer` object is mandatory, not a vanilla `int`\n",
    "with copy_recurrence_spec(based_recurrence_spec) as rec_spec_for_full_instantiation:\n",
    "    rec_spec_for_full_instantiation.terms_cache.update(boundary_conditions)\n",
    "    fully_instantiated_spec = repeated_instantiating(rec_spec_for_full_instantiation)\n",
    "fully_instantiated_spec"
   ]
  },
  {
   "cell_type": "code",
   "execution_count": 33,
   "metadata": {
    "collapsed": false
   },
   "outputs": [
    {
     "data": {
      "text/latex": [
       "\\begin{array}{c}\\frac{s_{1}}{2} = s_{0} - \\frac{1}{12}\\\\\n",
       "\\frac{s_{2}}{3} = s_{0} - \\frac{1}{18}\\\\\n",
       "\\frac{s_{3}}{4} = s_{0} - \\frac{1}{72}\\\\\n",
       "\\frac{s_{4}}{5} = s_{0} + \\frac{1}{36}\\\\\n",
       "\\frac{s_{5}}{6} = s_{0} + \\frac{1}{15}\\\\\n",
       "\\frac{s_{6}}{7} = s_{0} + \\frac{43}{420}\\\\\n",
       "\\frac{s_{7}}{8} = s_{0} + \\frac{227}{1680}\\\\\n",
       "\\frac{s_{8}}{9} = s_{0} + \\frac{1249}{7560}\\\\\n",
       "\\frac{s_{9}}{10} = s_{0} + \\frac{1459}{7560}\\\\\n",
       "\\frac{s_{10}}{11} = s_{0} + \\frac{18191}{83160}\\\\\\end{array}"
      ],
      "text/plain": [
       "<IPython.core.display.Latex object>"
      ]
     },
     "execution_count": 33,
     "metadata": {},
     "output_type": "execute_result"
    }
   ],
   "source": [
    "ipython_latex(swaps_recurrence_spec, times_range=range(10), \n",
    "              base_index=make_index(0), subsume_sols=unary_subscripts_subsume_sols)"
   ]
  },
  {
   "cell_type": "markdown",
   "metadata": {},
   "source": [
    "---\n",
    "<a rel=\"license\" href=\"http://creativecommons.org/licenses/by-nc-sa/4.0/\"><img alt=\"Creative Commons License\" style=\"border-width:0\" src=\"https://i.creativecommons.org/l/by-nc-sa/4.0/88x31.png\" /></a><br />This work is licensed under a <a rel=\"license\" href=\"http://creativecommons.org/licenses/by-nc-sa/4.0/\">Creative Commons Attribution-NonCommercial-ShareAlike 4.0 International License</a>."
   ]
  }
 ],
 "metadata": {
  "kernelspec": {
   "display_name": "Python 3",
   "language": "python",
   "name": "python3"
  },
  "language_info": {
   "codemirror_mode": {
    "name": "ipython",
    "version": 3
   },
   "file_extension": ".py",
   "mimetype": "text/x-python",
   "name": "python",
   "nbconvert_exporter": "python",
   "pygments_lexer": "ipython3",
   "version": "3.5.1"
  }
 },
 "nbformat": 4,
 "nbformat_minor": 0
}
