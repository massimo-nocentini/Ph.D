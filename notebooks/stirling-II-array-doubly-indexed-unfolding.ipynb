{
 "cells": [
  {
   "cell_type": "markdown",
   "metadata": {},
   "source": [
    "<p>\n",
    "<img src=\"http://www.cerm.unifi.it/chianti/images/logo%20unifi_positivo.jpg\" \n",
    "        alt=\"UniFI logo\" style=\"float:left;width:20%;height:20%;\">\n",
    "<div align=\"right\"> Massimo Nocentini<br>\n",
    "<small>\n",
    "<br>September 27, 2016: refactoring and sync\n",
    "</small>\n",
    "</div>\n",
    "</p>\n",
    "\n",
    "<div align=\"center\">\n",
    "<br><b>Abstract</b><br>\n",
    "In this notebook we study the *Pascal triangle*, locking at it recursively: using it's $A$-sequence, we perform a series of unfolding using the main recurrence relation, where subscripts dependends on *two* dimensions, as rewriting rule. This is a natural enhancement to the case of recurrences where subscripts have *one* dimension only, as the *Fibonacci* sequence; on the other hand, Pascal array is a deeply studied and well know triangle, yet simple, toy we can play with.\n",
    "</div>\n",
    "<br>"
   ]
  },
  {
   "cell_type": "code",
   "execution_count": 64,
   "metadata": {
    "collapsed": false
   },
   "outputs": [],
   "source": [
    "%run \"../src/start_session.py\"\n",
    "%run \"../src/recurrences.py\""
   ]
  },
  {
   "cell_type": "code",
   "execution_count": 50,
   "metadata": {
    "collapsed": true
   },
   "outputs": [],
   "source": [
    "import oeis"
   ]
  },
  {
   "cell_type": "markdown",
   "metadata": {},
   "source": [
    "# Stirling array $\\mathcal{S}$, of the second kind\n",
    "\n",
    "This notebook studies the Riordan array $\\mathcal{P}$, aka the *Pascal triangle*, defined according to the following definition:\n",
    "\n",
    "$$\\mathcal{P}=\\left(\\frac{1}{1-t}, \\frac{t}{1-t}\\right)$$\n",
    "\n",
    "with $A$-sequence $A(t)=1+t$ and $Z$-sequence $Z(t)=1$."
   ]
  },
  {
   "cell_type": "code",
   "execution_count": 3,
   "metadata": {
    "collapsed": false
   },
   "outputs": [
    {
     "name": "stdout",
     "output_type": "stream",
     "text": [
      "*"
     ]
    }
   ],
   "source": [
    "s = oeis.oeis_search(id=48993)"
   ]
  },
  {
   "cell_type": "code",
   "execution_count": 4,
   "metadata": {
    "collapsed": false,
    "scrolled": false
   },
   "outputs": [
    {
     "data": {
      "text/markdown": [
       "_Results for query: <a href='https://oeis.org/search?q=id%3AA048993&start=0&fmt=json'>https://oeis.org/search?q=id%3AA048993&start=0&fmt=json</a>_<br><hr><div align='center'><b><a href='http://oeis.org/A048993'>A048993</a></b>: Triangle of Stirling numbers of 2nd kind, S(n,k), n >= 0, 0<=k<=n.<br></div>\n",
       "\n",
       "by _N. J. A. Sloane_, Dec 11 1999\n",
       "\n",
       "_Keywords_: `nonn,tabl,nice`\n",
       "\n",
       "_Data_:\n",
       "\n",
       "$$\n",
       "\\begin{array}{c|ccccccccccc}\n",
       "n, k & 0 & 1 & 2 & 3 & 4 & 5 & 6 & 7 & 8 & 9 \\\\\n",
       "\\hline\n",
       "0 & 1 &  &  &  &  &  &  &  &  & \\\\1 & 0 & 1 &  &  &  &  &  &  &  & \\\\2 & 0 & 1 & 1 &  &  &  &  &  &  & \\\\3 & 0 & 1 & 3 & 1 &  &  &  &  &  & \\\\4 & 0 & 1 & 7 & 6 & 1 &  &  &  &  & \\\\5 & 0 & 1 & 15 & 25 & 10 & 1 &  &  &  & \\\\6 & 0 & 1 & 31 & 90 & 65 & 15 & 1 &  &  & \\\\7 & 0 & 1 & 63 & 301 & 350 & 140 & 21 & 1 &  & \\\\8 & 0 & 1 & 127 & 966 & 1701 & 1050 & 266 & 28 & 1 & \\\\9 & 0 & 1 & 255 & 3025 & 7770 & 6951 & 2646 & 462 & 36 & 1\n",
       "\\end{array}\n",
       "$$\n",
       "\n",
       "\n",
       "_Comments_:\n",
       "   - Also known as Stirling set numbers.\n",
       "   - S(n,k) enumerates partitions of an n-set into k nonempty subsets.\n",
       "   - The o.g.f. for the sequence of diagonal k (k=0 for the main diagonal) is G(k,x)= ((x^k)/(1-x)^(2*k+1))*sum(<a href=\"http://oeis.org/A008517\">A008517</a>(k,m+1)*x^m,m=0..k-1). <a href=\"http://oeis.org/A008517\">A008517</a> is the second-order Eulerian triangle. - _Wolfdieter Lang_, Oct 14 2005.\n",
       "   - From _Philippe Deléham_, Nov 14 2007: \n",
       "       - Sum_{k, 0<=k<=n}S(n,k)*x^k = B_n(x), where B_n(x) = Bell polynomials. The first few Bell polynomials are:\n",
       "       - B_0(x) = 1;\n",
       "       - B_1(x) = 0 + x;\n",
       "       - B_2(x) = 0 + x + x^2;\n",
       "       - B_3(x) = 0 + x + 3x^2 + x^3;\n",
       "       - B_4(x) = 0 + x + 7x^2 + 6x^3 + x^4;\n",
       "       - B_5(x) = 0 + x + 15x^2 + 25x^3 + 10x^4 + x^5;\n",
       "       - B_6(x) = 0 + x + 31x^2 + 90x^3 + 65x^4 + 15x^5 + x^6;\n",
       "   - This is the Sheffer triangle (1, exp(x) - 1), an exponential (binomial) convolution triangle. The a-sequence is given by <a href=\"http://oeis.org/A006232\">A006232</a>/<a href=\"http://oeis.org/A006233\">A006233</a> (Cauchy sequence). The z-sequence is the zero sequence. See the link under <a href=\"http://oeis.org/A006232\">A006232</a> for the definition and use of these sequences. The row sums give <a href=\"http://oeis.org/A000110\">A000110</a> (Bell), and the alternating row sums give <a href=\"http://oeis.org/A000587\">A000587</a> (see the Philippe Deléham formulas and crossreferences below). - _Wolfdieter Lang_, Oct 16 2014\n",
       "   - Also the inverse Bell transform of the factorial numbers (<a href=\"http://oeis.org/A000142\">A000142</a>). For the definition of the Bell transform see <a href=\"http://oeis.org/A264428\">A264428</a> and for cross-references <a href=\"http://oeis.org/A265604\">A265604</a>. - _Peter Luschny_, Dec 31 2015\n",
       "\n",
       "_Formulae_:\n",
       "   - S(n, k) = k*S(n-1, k) + S(n-1, k-1), n>0; S(0, k) = 0, k>0; S(0, 0)=1.\n",
       "   - Equals [0, 1, 0, 2, 0, 3, 0, 4, 0, 5, ..] DELTA [1, 0, 1, 0, 1, 0, 1, 0, 1, 0, 1, ...] where DELTA is Deléham's operator defined in <a href=\"http://oeis.org/A084938\">A084938</a>.\n",
       "   - Sum_{k = 0..n} x^k*S(n, k) = <a href=\"http://oeis.org/A213170\">A213170</a>(n), <a href=\"http://oeis.org/A000587\">A000587</a>(n), <a href=\"http://oeis.org/A000007\">A000007</a>(n), <a href=\"http://oeis.org/A000110\">A000110</a>(n), <a href=\"http://oeis.org/A001861\">A001861</a>(n), <a href=\"http://oeis.org/A027710\">A027710</a>(n), <a href=\"http://oeis.org/A078944\">A078944</a>(n), <a href=\"http://oeis.org/A144180\">A144180</a>(n), <a href=\"http://oeis.org/A144223\">A144223</a>(n), <a href=\"http://oeis.org/A144263\">A144263</a>(n) respectively for x = -2, -1, 0, 1, 2, 3, 4, 5, 6, 7. - _Philippe Deléham_, May 09 2004, Feb 16 2013\n",
       "   - S(n, k) = sum{i=0..k, (-1)^(k+i)binomial(k, i)i^n/k!}. - _Paul Barry_, Aug 05 2004\n",
       "   - Sum(k*S(n,k), k=0..n)=B(n+1)-B(n), where B(q) are the Bell numbers (<a href=\"http://oeis.org/A000110\">A000110</a>). - _Emeric Deutsch_, Nov 01 2006\n",
       "   - Equals the inverse binomial transform of <a href=\"http://oeis.org/A008277\">A008277</a>. - _Gary W. Adamson_, Jan 29 2008\n",
       "   - G.f.: 1/(1-xy/(1-x/(1-xy/(1-2x/(1-xy/1-3x/(1-xy/(1-4x/(1-xy/(1-5x/(1-... (continued fraction equivalent to Deleham DELTA construction). - _Paul Barry_, Dec 06 2009\n",
       "   - G.f.: 1/Q(0), where Q(k) = 1 -(y+k)*x - (k+1)*y*x^2/Q(k+1) ; (continued fraction). - _Sergei N. Gladkovskii_, Nov 09 2013\n",
       "   - Inverse of padded <a href=\"http://oeis.org/A008275\">A008275</a> (padded just as <a href=\"http://oeis.org/A048993\">A048993</a> = padded <a href=\"http://oeis.org/A008277\">A008277</a>). - _Tom Copeland_, Apr 25 2014\n",
       "   - E.g.f. for the row polynomials s(n,x) = sum(S(n,k)*x^k, k=0..n) is exp(x*(exp(z)-1)) (Sheffer property). E.g.f. for the k-th column sequence with k leading zeros is ((exp(x)-1)^k)/k! (Sheffer property). - _Wolfdieter Lang_, Oct 16 2014\n",
       "\n",
       "_Cross references_:\n",
       "   - See especially <a href=\"http://oeis.org/A008277\">A008277</a> which is the main entry for this triangle.\n",
       "   - Cf. <a href=\"http://oeis.org/A008275\">A008275</a>, <a href=\"http://oeis.org/A039810\">A039810</a>-<a href=\"http://oeis.org/A039813\">A039813</a>, <a href=\"http://oeis.org/A048994\">A048994</a>.\n",
       "   - <a href=\"http://oeis.org/A000110\">A000110</a>(n) = sum(S(n, k)) k=0..n, n >= 0. Cf. <a href=\"http://oeis.org/A085693\">A085693</a>.\n",
       "   - Cf. <a href=\"http://oeis.org/A084938\">A084938</a>, <a href=\"http://oeis.org/A106800\">A106800</a> (mirror image), <a href=\"http://oeis.org/A213061\">A213061</a>.\n",
       "\n",
       "_Links_:\n",
       "   - David W. Wilson, <a href=\"/<a href=\"http://oeis.org/A048993\">A048993</a>/b048993.txt\">Table of n, a(n) for n = 0..10010</a>\n",
       "   - M. Abramowitz and I. A. Stegun, eds., <a href=\"http://www.nrbook.com/abramowitz_and_stegun/\">Handbook of Mathematical Functions</a>, National Bureau of Standards, Applied Math. Series 55, Tenth Printing, 1972 [alternative scanned copy].\n",
       "   - V. E. Adler, <a href=\"http://arxiv.org/abs/1510.02900\">Set partitions and integrable hierarchies</a>, arXiv:1510.02900 [nlin.SI], 2015.\n",
       "   - P. Barry, <a href=\"https://cs.uwaterloo.ca/journals/JIS/VOL17/Barry1/barry263.html\">Generalized Stirling Numbers, Exponential Riordan Arrays, and Toda Chain Equations</a>, Journal of Integer Sequences, 17 (2014), #14.2.3.\n",
       "   - P. Barry, <a href=\"https://cs.uwaterloo.ca/journals/JIS/VOL17/Barry2/barry281.html\">Constructing Exponential Riordan Arrays from Their A and Z Sequences</a>, Journal of Integer Sequences, 17 (2014), #14.2.6.\n",
       "   - R. M. Dickau, <a href=\"http://mathforum.org/advanced/robertd/stirling2.html\">Stirling numbers of the second kind</a>\n",
       "   - G. Duchamp, K. A. Penson, A. I. Solomon, A. Horzela and P. Blasiak, <a href=\"http://arXiv.org/abs/quant-ph/0401126\">One-parameter groups and combinatorial physics</a>, arXiv:quant-ph/0401126, 2004.\n",
       "   - FindStat - Combinatorial Statistic Finder, <a href=\"http://www.findstat.org/StatisticsDatabase/St000105\">The number of blocks in the set partition.</a>\n",
       "   - W. S. Gray and M. Thitsa, <a href=\"http://dx.doi.org/10.1109/SSST.2013.6524939\">System Interconnections and Combinatorial Integer Sequences</a>, in: System Theory (SSST), 2013 45th Southeastern Symposium on, Date of Conference: 11-11 March 2013, Digital Object Identifier: 10.1109/SSST.2013.6524939.\n",
       "   - C. M. Ringel, <a href=\"http://arxiv.org/abs/1502.06553\">The Catalan combinatorics of the hereditary artin algebras</a>, arXiv preprint arXiv:1502.06553, 2015\n",
       "   - X.-T. Su, D.-Y. Yang, W.-W. Zhang, <a href=\"http://ajc.maths.uq.edu.au/pdf/56/ajc_v56_p133.pdf\">A note on the generalized factorial</a>, Australasian Journal of Combinatorics, Volume 56 (2013), Pages 133-137.\n",
       "\n",
       "_References_:\n",
       "   - M. Abramowitz and I. A. Stegun, eds., Handbook of Mathematical Functions, National Bureau of Standards Applied Math. Series 55, 1964 (and various reprintings), p. 835.\n",
       "   - L. Comtet, Advanced Combinatorics, Reidel, 1974, p. 310.\n",
       "   - J. H. Conway and R. K. Guy, The Book of Numbers, Springer, p. 92.\n",
       "   - F. N. David, M. G. Kendall and D. E. Barton, Symmetric Function and Allied Tables, Cambridge, 1966, p. 223.\n",
       "   - R. L. Graham, D. E. Knuth and O. Patashnik, Concrete Mathematics. Addison-Wesley, Reading, MA, 1990, p. 244.\n",
       "   - J. Riordan, An Introduction to Combinatorial Analysis, p. 48."
      ],
      "text/plain": [
       "<IPython.core.display.Markdown object>"
      ]
     },
     "execution_count": 4,
     "metadata": {},
     "output_type": "execute_result"
    }
   ],
   "source": [
    "s()"
   ]
  },
  {
   "cell_type": "code",
   "execution_count": 3,
   "metadata": {
    "collapsed": true
   },
   "outputs": [],
   "source": [
    "from sympy.functions.combinatorial.numbers import stirling"
   ]
  },
  {
   "cell_type": "code",
   "execution_count": 76,
   "metadata": {
    "collapsed": false
   },
   "outputs": [],
   "source": [
    "s = IndexedBase('s')\n",
    "n, k = symbols('n k')\n",
    "\n",
    "stirling_recurrence_spec = recurrence_spec(recurrence_eq=Eq(s[n+1, k+1], s[n, k] + (k+1)*s[n, k+1]), \n",
    "                                           recurrence_symbol=s, \n",
    "                                           variables=[n,k])"
   ]
  },
  {
   "cell_type": "code",
   "execution_count": 77,
   "metadata": {
    "collapsed": false
   },
   "outputs": [
    {
     "data": {
      "text/html": [
       "$\\left(\\Theta, \\Gamma\\right)_{n,k}^{s}$ where: <br><ul><li>$\\Theta = \\left\\{ s_{n + 1,k + 1} = \\left(k + 1\\right) s_{n,k + 1} + s_{n,k} \\right\\}$</li><li>$\\Gamma = \\left\\{\\begin{array}{c}\\end{array}\\right\\}$</li></ul>"
      ],
      "text/plain": [
       "<__main__.recurrence_spec at 0x7f4c5f9796d8>"
      ]
     },
     "execution_count": 77,
     "metadata": {},
     "output_type": "execute_result"
    }
   ],
   "source": [
    "stirling_recurrence_spec"
   ]
  },
  {
   "cell_type": "code",
   "execution_count": 78,
   "metadata": {
    "collapsed": false
   },
   "outputs": [],
   "source": [
    "unfolded = stirling_recurrence_spec.unfold(depth=1)"
   ]
  },
  {
   "cell_type": "code",
   "execution_count": 79,
   "metadata": {
    "collapsed": false
   },
   "outputs": [
    {
     "data": {
      "text/html": [
       "$\\left(\\Theta, \\Gamma\\right)_{n,k}^{s}$ where: <br><ul><li>$\\Theta = \\left\\{ s_{n + 1,k + 1} = k \\left(\\left(k + 1\\right) s_{n - 1,k + 1} + s_{n - 1,k}\\right) + k s_{n - 1,k} + \\left(k + 1\\right) s_{n - 1,k + 1} + s_{n - 1,k} + s_{n - 1,k - 1} \\right\\}$</li><li>$\\Gamma = \\left\\{\\begin{array}{c}s_{n,k} = k s_{n - 1,k} + s_{n - 1,k - 1}\\\\s_{n,k + 1} = \\left(k + 1\\right) s_{n - 1,k + 1} + s_{n - 1,k}\\end{array}\\right\\}$</li></ul>"
      ],
      "text/plain": [
       "<__main__.recurrence_spec at 0x7f4c5f970470>"
      ]
     },
     "execution_count": 79,
     "metadata": {},
     "output_type": "execute_result"
    }
   ],
   "source": [
    "unfolded"
   ]
  },
  {
   "cell_type": "code",
   "execution_count": 81,
   "metadata": {
    "collapsed": false
   },
   "outputs": [
    {
     "data": {
      "text/html": [
       "$\\left(\\Theta, \\Gamma\\right)_{n,k}^{s}$ where: <br><ul><li>$\\Theta = \\left\\{ s_{10,5} = s_{8,3} + 9 s_{8,4} + 25 s_{8,5} \\right\\}$</li><li>$\\Gamma = \\left\\{\\begin{array}{c}s_{9,4} = s_{8,3} + 4 s_{8,4}\\\\s_{9,5} = s_{8,4} + 5 s_{8,5}\\end{array}\\right\\}$</li></ul>"
      ],
      "text/plain": [
       "<__main__.recurrence_spec at 0x7f4c5f979470>"
      ]
     },
     "execution_count": 81,
     "metadata": {},
     "output_type": "execute_result"
    }
   ],
   "source": [
    "instantiated = unfolded.instantiate(strategy=raw(substitutions={n:9,k:4}))\n",
    "instantiated"
   ]
  },
  {
   "cell_type": "code",
   "execution_count": 58,
   "metadata": {
    "collapsed": false
   },
   "outputs": [
    {
     "data": {
      "text/html": [
       "$\\left(\\Theta, \\Gamma\\right)_{n,k}^{s}$ where: <br><ul><li>$\\Theta = \\left\\{ \\mathrm{True} \\right\\}$</li><li>$\\Gamma = \\left\\{\\begin{array}{c}\\end{array}\\right\\}$</li></ul>"
      ],
      "text/plain": [
       "<__main__.recurrence_spec at 0x7f4c5fd33048>"
      ]
     },
     "execution_count": 58,
     "metadata": {},
     "output_type": "execute_result"
    }
   ],
   "source": [
    "known_binomials = {s[n,k]:stirling(n,k) for n in [10,9,8] for k in range(2,6)}\n",
    "\n",
    "checked = instantiated.instantiate(strategy=raw(substitutions=known_binomials))\n",
    "checked"
   ]
  },
  {
   "cell_type": "code",
   "execution_count": 59,
   "metadata": {
    "collapsed": false,
    "scrolled": true
   },
   "outputs": [
    {
     "data": {
      "text/html": [
       "$\\left(\\Theta, \\Gamma\\right)_{n,k}^{s}$ where: <br><ul><li>$\\Theta = \\left\\{ \\mathrm{True} \\right\\}$</li><li>$\\Gamma = \\left\\{\\begin{array}{c}\\end{array}\\right\\}$</li></ul>"
      ],
      "text/plain": [
       "<__main__.recurrence_spec at 0x7f4c5fd68940>"
      ]
     },
     "execution_count": 59,
     "metadata": {},
     "output_type": "execute_result"
    }
   ],
   "source": [
    "checked.subsume()"
   ]
  },
  {
   "cell_type": "code",
   "execution_count": 82,
   "metadata": {
    "collapsed": false
   },
   "outputs": [
    {
     "data": {
      "text/html": [
       "$\\left(\\Theta, \\Gamma\\right)_{n,k}^{s}$ where: <br><ul><li>$\\Theta = \\left\\{ s_{4,2} = s_{2,0} + 3 s_{2,1} + 4 s_{2,2} \\right\\}$</li><li>$\\Gamma = \\left\\{\\begin{array}{c}s_{3,1} = s_{2,0} + s_{2,1}\\\\s_{3,2} = s_{2,1} + 2 s_{2,2}\\end{array}\\right\\}$</li></ul>"
      ],
      "text/plain": [
       "<__main__.recurrence_spec at 0x7f4c5f970d30>"
      ]
     },
     "execution_count": 82,
     "metadata": {},
     "output_type": "execute_result"
    }
   ],
   "source": [
    "based_recurrence_spec = unfolded.instantiate(strategy=based(arity=doubly_indexed()))\n",
    "based_recurrence_spec"
   ]
  },
  {
   "cell_type": "code",
   "execution_count": 83,
   "metadata": {
    "collapsed": false
   },
   "outputs": [
    {
     "data": {
      "text/html": [
       "$\\left(\\Theta, \\Gamma\\right)_{n,k}^{s}$ where: <br><ul><li>$\\Theta = \\left\\{ s_{4,2} = s_{2,0} + 3 s_{2,1} + 4 s_{2,2} \\right\\}$</li><li>$\\Gamma = \\left\\{\\begin{array}{c}s_{3,1} = s_{2,0} + s_{2,1}\\\\s_{3,2} = s_{2,1} + 2 s_{2,2}\\end{array}\\right\\}$</li></ul>"
      ],
      "text/plain": [
       "<__main__.recurrence_spec at 0x7f4c5f9aa4a8>"
      ]
     },
     "execution_count": 83,
     "metadata": {},
     "output_type": "execute_result"
    }
   ],
   "source": [
    "based_recurrence_spec.subsume()"
   ]
  },
  {
   "cell_type": "code",
   "execution_count": 66,
   "metadata": {
    "collapsed": false
   },
   "outputs": [
    {
     "data": {
      "text/latex": [
       "\\begin{array}{c}s_{n + 1,k + 1} = k s_{n,k + 1} + s_{n,k} + s_{n,k + 1}\\\\\n",
       "s_{n + 1,k + 1} = k^{2} s_{n - 1,k + 1} + 2 k s_{n - 1,k} + 2 k s_{n - 1,k + 1} + s_{n - 1,k} + s_{n - 1,k - 1} + s_{n - 1,k + 1}\\\\\n",
       "s_{n + 1,k + 1} = k^{3} s_{n - 2,k + 1} + 3 k^{2} s_{n - 2,k} + 3 k^{2} s_{n - 2,k + 1} + 3 k s_{n - 2,k} + 3 k s_{n - 2,k - 1} + 3 k s_{n - 2,k + 1} + s_{n - 2,k} + s_{n - 2,k - 2} + s_{n - 2,k + 1}\\\\\n",
       "s_{n + 1,k + 1} = k^{4} s_{n - 3,k + 1} + 4 k^{3} s_{n - 3,k} + 4 k^{3} s_{n - 3,k + 1} + 6 k^{2} s_{n - 3,k} + 6 k^{2} s_{n - 3,k - 1} + 6 k^{2} s_{n - 3,k + 1} + 4 k s_{n - 3,k} + 4 k s_{n - 3,k - 2} + 4 k s_{n - 3,k + 1} + s_{n - 3,k} + s_{n - 3,k - 3} - 2 s_{n - 3,k - 2} + s_{n - 3,k - 1} + s_{n - 3,k + 1}\\\\\n",
       "s_{n + 1,k + 1} = k^{5} s_{n - 4,k + 1} + 5 k^{4} s_{n - 4,k} + 5 k^{4} s_{n - 4,k + 1} + 10 k^{3} s_{n - 4,k} + 10 k^{3} s_{n - 4,k - 1} + 10 k^{3} s_{n - 4,k + 1} + 10 k^{2} s_{n - 4,k} + 10 k^{2} s_{n - 4,k - 2} + 10 k^{2} s_{n - 4,k + 1} + 5 k s_{n - 4,k} + 5 k s_{n - 4,k - 3} - 10 k s_{n - 4,k - 2} + 5 k s_{n - 4,k - 1} + 5 k s_{n - 4,k + 1} + s_{n - 4,k} + s_{n - 4,k - 4} - 5 s_{n - 4,k - 3} + 5 s_{n - 4,k - 2} + s_{n - 4,k + 1}\\\\\n",
       "s_{n + 1,k + 1} = k^{6} s_{n - 5,k + 1} + 6 k^{5} s_{n - 5,k} + 6 k^{5} s_{n - 5,k + 1} + 15 k^{4} s_{n - 5,k} + 15 k^{4} s_{n - 5,k - 1} + 15 k^{4} s_{n - 5,k + 1} + 20 k^{3} s_{n - 5,k} + 20 k^{3} s_{n - 5,k - 2} + 20 k^{3} s_{n - 5,k + 1} + 15 k^{2} s_{n - 5,k} + 15 k^{2} s_{n - 5,k - 3} - 30 k^{2} s_{n - 5,k - 2} + 15 k^{2} s_{n - 5,k - 1} + 15 k^{2} s_{n - 5,k + 1} + 6 k s_{n - 5,k} + 6 k s_{n - 5,k - 4} - 30 k s_{n - 5,k - 3} + 30 k s_{n - 5,k - 2} + 6 k s_{n - 5,k + 1} + s_{n - 5,k} + s_{n - 5,k - 5} - 9 s_{n - 5,k - 4} + 20 s_{n - 5,k - 3} - 10 s_{n - 5,k - 2} + s_{n - 5,k - 1} + s_{n - 5,k + 1}\\\\\n",
       "s_{n + 1,k + 1} = k^{7} s_{n - 6,k + 1} + 7 k^{6} s_{n - 6,k} + 7 k^{6} s_{n - 6,k + 1} + 21 k^{5} s_{n - 6,k} + 21 k^{5} s_{n - 6,k - 1} + 21 k^{5} s_{n - 6,k + 1} + 35 k^{4} s_{n - 6,k} + 35 k^{4} s_{n - 6,k - 2} + 35 k^{4} s_{n - 6,k + 1} + 35 k^{3} s_{n - 6,k} + 35 k^{3} s_{n - 6,k - 3} - 70 k^{3} s_{n - 6,k - 2} + 35 k^{3} s_{n - 6,k - 1} + 35 k^{3} s_{n - 6,k + 1} + 21 k^{2} s_{n - 6,k} + 21 k^{2} s_{n - 6,k - 4} - 105 k^{2} s_{n - 6,k - 3} + 105 k^{2} s_{n - 6,k - 2} + 21 k^{2} s_{n - 6,k + 1} + 7 k s_{n - 6,k} + 7 k s_{n - 6,k - 5} - 63 k s_{n - 6,k - 4} + 140 k s_{n - 6,k - 3} - 70 k s_{n - 6,k - 2} + 7 k s_{n - 6,k - 1} + 7 k s_{n - 6,k + 1} + s_{n - 6,k} + s_{n - 6,k - 6} - 14 s_{n - 6,k - 5} + 56 s_{n - 6,k - 4} - 70 s_{n - 6,k - 3} + 21 s_{n - 6,k - 2} + s_{n - 6,k + 1}\\\\\n",
       "s_{n + 1,k + 1} = k^{8} s_{n - 7,k + 1} + 8 k^{7} s_{n - 7,k} + 8 k^{7} s_{n - 7,k + 1} + 28 k^{6} s_{n - 7,k} + 28 k^{6} s_{n - 7,k - 1} + 28 k^{6} s_{n - 7,k + 1} + 56 k^{5} s_{n - 7,k} + 56 k^{5} s_{n - 7,k - 2} + 56 k^{5} s_{n - 7,k + 1} + 70 k^{4} s_{n - 7,k} + 70 k^{4} s_{n - 7,k - 3} - 140 k^{4} s_{n - 7,k - 2} + 70 k^{4} s_{n - 7,k - 1} + 70 k^{4} s_{n - 7,k + 1} + 56 k^{3} s_{n - 7,k} + 56 k^{3} s_{n - 7,k - 4} - 280 k^{3} s_{n - 7,k - 3} + 280 k^{3} s_{n - 7,k - 2} + 56 k^{3} s_{n - 7,k + 1} + 28 k^{2} s_{n - 7,k} + 28 k^{2} s_{n - 7,k - 5} - 252 k^{2} s_{n - 7,k - 4} + 560 k^{2} s_{n - 7,k - 3} - 280 k^{2} s_{n - 7,k - 2} + 28 k^{2} s_{n - 7,k - 1} + 28 k^{2} s_{n - 7,k + 1} + 8 k s_{n - 7,k} + 8 k s_{n - 7,k - 6} - 112 k s_{n - 7,k - 5} + 448 k s_{n - 7,k - 4} - 560 k s_{n - 7,k - 3} + 168 k s_{n - 7,k - 2} + 8 k s_{n - 7,k + 1} + s_{n - 7,k} + s_{n - 7,k - 7} - 20 s_{n - 7,k - 6} + 126 s_{n - 7,k - 5} - 294 s_{n - 7,k - 4} + 231 s_{n - 7,k - 3} - 42 s_{n - 7,k - 2} + s_{n - 7,k - 1} + s_{n - 7,k + 1}\\\\\n",
       "s_{n + 1,k + 1} = k^{9} s_{n - 8,k + 1} + 9 k^{8} s_{n - 8,k} + 9 k^{8} s_{n - 8,k + 1} + 36 k^{7} s_{n - 8,k} + 36 k^{7} s_{n - 8,k - 1} + 36 k^{7} s_{n - 8,k + 1} + 84 k^{6} s_{n - 8,k} + 84 k^{6} s_{n - 8,k - 2} + 84 k^{6} s_{n - 8,k + 1} + 126 k^{5} s_{n - 8,k} + 126 k^{5} s_{n - 8,k - 3} - 252 k^{5} s_{n - 8,k - 2} + 126 k^{5} s_{n - 8,k - 1} + 126 k^{5} s_{n - 8,k + 1} + 126 k^{4} s_{n - 8,k} + 126 k^{4} s_{n - 8,k - 4} - 630 k^{4} s_{n - 8,k - 3} + 630 k^{4} s_{n - 8,k - 2} + 126 k^{4} s_{n - 8,k + 1} + 84 k^{3} s_{n - 8,k} + 84 k^{3} s_{n - 8,k - 5} - 756 k^{3} s_{n - 8,k - 4} + 1680 k^{3} s_{n - 8,k - 3} - 840 k^{3} s_{n - 8,k - 2} + 84 k^{3} s_{n - 8,k - 1} + 84 k^{3} s_{n - 8,k + 1} + 36 k^{2} s_{n - 8,k} + 36 k^{2} s_{n - 8,k - 6} - 504 k^{2} s_{n - 8,k - 5} + 2016 k^{2} s_{n - 8,k - 4} - 2520 k^{2} s_{n - 8,k - 3} + 756 k^{2} s_{n - 8,k - 2} + 36 k^{2} s_{n - 8,k + 1} + 9 k s_{n - 8,k} + 9 k s_{n - 8,k - 7} - 180 k s_{n - 8,k - 6} + 1134 k s_{n - 8,k - 5} - 2646 k s_{n - 8,k - 4} + 2079 k s_{n - 8,k - 3} - 378 k s_{n - 8,k - 2} + 9 k s_{n - 8,k - 1} + 9 k s_{n - 8,k + 1} + s_{n - 8,k} + s_{n - 8,k - 8} - 27 s_{n - 8,k - 7} + 246 s_{n - 8,k - 6} - 924 s_{n - 8,k - 5} + 1407 s_{n - 8,k - 4} - 735 s_{n - 8,k - 3} + 85 s_{n - 8,k - 2} + s_{n - 8,k + 1}\\\\\\end{array}"
      ],
      "text/plain": [
       "<IPython.core.display.Latex object>"
      ]
     },
     "execution_count": 66,
     "metadata": {},
     "output_type": "execute_result"
    }
   ],
   "source": [
    "ipython_latex_description(rec_spec=stirling_recurrence_spec, depths=range(9), based_instantiation=False,\n",
    "                          arity=doubly_indexed())"
   ]
  },
  {
   "cell_type": "code",
   "execution_count": 36,
   "metadata": {
    "collapsed": false
   },
   "outputs": [
    {
     "name": "stdout",
     "output_type": "stream",
     "text": [
      "*"
     ]
    }
   ],
   "source": [
    "s = oeis.oeis_search(seq=[1,1,4,3,1,27,19,6,1,256,175,55,10,1])"
   ]
  },
  {
   "cell_type": "code",
   "execution_count": 37,
   "metadata": {
    "collapsed": false,
    "scrolled": false
   },
   "outputs": [
    {
     "data": {
      "text/markdown": [
       "_Results for query: <a href='https://oeis.org/search?q=1%2C+1%2C+4%2C+3%2C+1%2C+27%2C+19%2C+6%2C+1%2C+256%2C+175%2C+55%2C+10%2C+1&start=0&fmt=json'>https://oeis.org/search?q=1%2C+1%2C+4%2C+3%2C+1%2C+27%2C+19%2C+6%2C+1%2C+256%2C+175%2C+55%2C+10%2C+1&start=0&fmt=json</a>_<br><hr><div align='center'><b><a href='http://oeis.org/A039621'>A039621</a></b>: Triangle of Lehmer-Comtet numbers of 2nd kind.<br></div>\n",
       "\n",
       "by _Len Smiley_\n",
       "\n",
       "_Keywords_: `tabl,sign`\n",
       "\n",
       "_Data_:\n",
       "\n",
       "$$\n",
       "\\begin{array}{c|ccccccccccc}\n",
       "n, k & 1 & 2 & 3 & 4 & 5 & 6 & 7 & 8 & 9 \\\\\n",
       "\\hline\n",
       "0 & 1 &  &  &  &  &  &  &  &  & \\\\1 & -1 & 1 &  &  &  &  &  &  &  & \\\\2 & 4 & -3 & 1 &  &  &  &  &  &  & \\\\3 & -27 & 19 & -6 & 1 &  &  &  &  &  & \\\\4 & 256 & -175 & 55 & -10 & 1 &  &  &  &  & \\\\5 & -3125 & 2101 & -660 & 125 & -15 & 1 &  &  &  & \\\\6 & 46656 & -31031 & 9751 & -1890 & 245 & -21 & 1 &  &  & \\\\7 & -823543 & 543607 & -170898 & 33621 & -4550 & 434 & -28 & 1 &  & \\\\8 & 16777216 & -11012415 & 3463615 & -688506 & 95781 & -9702 & 714 & -36 & 1 & \\\\9 & -387420489\n",
       "\\end{array}\n",
       "$$\n",
       "\n",
       "\n",
       "_Comments_:\n",
       "   - Also the Bell transform of (-n)^n adding 1,0,0,0,... as column 0. For the definition of the Bell transform see <a href=\"http://oeis.org/A264428\">A264428</a>. - _Peter Luschny_, Jan 16 2016\n",
       "\n",
       "_Formulae_:\n",
       "   - (k-1)!*a(n, k) = Sum_{i=0..k-1}((-1)^(n-k-i)*binomial(k-1, i)*(n-i-1)^(n-1)).\n",
       "\n",
       "_Cross references_:\n",
       "   - Cf. <a href=\"http://oeis.org/A008296\">A008296</a> (matrix inverse). Also <a href=\"http://oeis.org/A045531\">A045531</a> (for column |a(n, 2)|). <a href=\"http://oeis.org/A185164\">A185164</a>.\n",
       "\n",
       "_Links_:\n",
       "   - D. H. Lehmer, <a href=\"http://dx.doi.org/10.1216/RMJ-1985-15-2-461\">Numbers Associated with Stirling Numbers and x^x</a>, Rocky Mountain J. Math., 15(2) 1985, pp. 461-475.\n"
      ],
      "text/plain": [
       "<IPython.core.display.Markdown object>"
      ]
     },
     "execution_count": 37,
     "metadata": {},
     "output_type": "execute_result"
    }
   ],
   "source": [
    "s()"
   ]
  },
  {
   "cell_type": "code",
   "execution_count": 40,
   "metadata": {
    "collapsed": false
   },
   "outputs": [
    {
     "name": "stdout",
     "output_type": "stream",
     "text": [
      "*"
     ]
    }
   ],
   "source": [
    "s = oeis.oeis_search(id=264428)"
   ]
  },
  {
   "cell_type": "code",
   "execution_count": 41,
   "metadata": {
    "collapsed": false
   },
   "outputs": [
    {
     "data": {
      "text/markdown": [
       "_Results for query: <a href='https://oeis.org/search?q=id%3AA264428&start=0&fmt=json'>https://oeis.org/search?q=id%3AA264428&start=0&fmt=json</a>_<br><hr><div align='center'><b><a href='http://oeis.org/A264428'>A264428</a></b>: Triangle read by rows, Bell transform of Bell numbers.<br></div>\n",
       "\n",
       "by _Peter Luschny_, Nov 13 2015\n",
       "\n",
       "_Keywords_: `nonn,tabl`\n",
       "\n",
       "_Data_:\n",
       "\n",
       "$$\n",
       "\\begin{array}{c|ccccccccccc}\n",
       "n, k & 0 & 1 & 2 & 3 & 4 & 5 & 6 & 7 & 8 & 9 \\\\\n",
       "\\hline\n",
       "0 & 1 &  &  &  &  &  &  &  &  & \\\\1 & 0 & 1 &  &  &  &  &  &  &  & \\\\2 & 0 & 1 & 1 &  &  &  &  &  &  & \\\\3 & 0 & 2 & 3 & 1 &  &  &  &  &  & \\\\4 & 0 & 5 & 11 & 6 & 1 &  &  &  &  & \\\\5 & 0 & 15 & 45 & 35 & 10 & 1 &  &  &  & \\\\6 & 0 & 52 & 205 & 210 & 85 & 15 & 1 &  &  & \\\\7 & 0 & 203 & 1029 & 1330 & 700 & 175 & 21 & 1 &  & \\\\8 & 0 & 877 & 5635 & 8946 & 5845 & 1890 & 322 & 28 & 1 & \\\\9 & 0 & 4140 & 33387 & 63917 & 50358 & 20055 & 4410 & 546 & 36 & 1\n",
       "\\end{array}\n",
       "$$\n",
       "\n",
       "\n",
       "_Comments_:\n",
       "   - Consider the sequence S0 -> T0 -> S1 -> T1 -> S2 -> T2 -> ... Here Sn -> Tn indicates the Bell transform mapping a sequence Sn to a triangle Tn as defined in the link and Tn -> S{n+1} the operator associating a triangle with the sequence of its row sums. If\n",
       "   - S0 = <a href=\"http://oeis.org/A000012\">A000012</a> = <1,1,1,...> then\n",
       "   - T0 = <a href=\"http://oeis.org/A048993\">A048993</a> # Stirling subset numbers,\n",
       "   - S1 = <a href=\"http://oeis.org/A000110\">A000110</a> # Bell numbers,\n",
       "   - T1 = <a href=\"http://oeis.org/A264428\">A264428</a> # Bell transform of Bell numbers,\n",
       "   - S2 = <a href=\"http://oeis.org/A187761\">A187761</a> # second-order Bell numbers,\n",
       "   - T2 = <a href=\"http://oeis.org/A264430\">A264430</a> # Bell transform of second-order Bell numbers,\n",
       "   - S3 = <a href=\"http://oeis.org/A264432\">A264432</a> # third-order Bell numbers.\n",
       "   - This construction is closely related to permutations trees and <a href=\"http://oeis.org/A179455\">A179455</a>. Sn is <a href=\"http://oeis.org/A179455\">A179455</a>_col(n+1) prepended by <a href=\"http://oeis.org/A179455\">A179455</a>_diag(k) = k! for k <= n. In other words, Sn 'converges' to n! for n -> inf.\n",
       "   - Given a sequence (s(n))n>=0 with s(0) = 0 and with e.g.f. B(x) = Sum_{n >= 1} s(n)*x^n/n!, then the Bell matrix associated with s(n) equals the exponential Riordan array [1, B(x)] belonging to the Lagrange subgroup of the exponential Riordan group. Omitting the first row and column from the Bell matrix produces the exponential Riordan array [d/dx(B(x)), B(x)] belonging to the Derivative subgroup of the exponential Riordan group. - _Peter Bala_, Jun 07 2016\n",
       "\n",
       "_Formulae_:\n",
       "   - From _Peter Bala_, Jun 07 2016: \n",
       "       - E.g.f. exp(t*B(x)), where B(x) = Integral_{u = 0..x} exp(exp(u) - 1) du =  x + x^2/2! + 2*x^3/3! + 5*x^4/4! + 15*x^5/5! + 52*x^6/6! + ....\n",
       "       - Row polynomial recurrence: R(n+1,t) = t*Sum_{k = 0 ..n} binomial(n,k)*Bell(k)* R(n-k,t) with R(0,t) = 1. \n",
       "\n",
       "_Cross references_:\n",
       "   - Cf. <a href=\"http://oeis.org/A000012\">A000012</a>, <a href=\"http://oeis.org/A000110\">A000110</a>, <a href=\"http://oeis.org/A000217\">A000217</a>, <a href=\"http://oeis.org/A000914\">A000914</a>, <a href=\"http://oeis.org/A027801\">A027801</a>, <a href=\"http://oeis.org/A048993\">A048993</a>, <a href=\"http://oeis.org/A051836\">A051836</a>, <a href=\"http://oeis.org/A179455\">A179455</a>, <a href=\"http://oeis.org/A187761\">A187761</a> (row sums), <a href=\"http://oeis.org/A264430\">A264430</a>, <a href=\"http://oeis.org/A264432\">A264432</a>, <a href=\"http://oeis.org/A265312\">A265312</a>.\n",
       "\n",
       "_Links_:\n",
       "   - G. C. Greubel, <a href=\"/<a href=\"http://oeis.org/A264428\">A264428</a>/b264428.txt\">Table of n, a(n) for n = 0..1325</a>\n",
       "   - Peter Luschny, <a href=\"https://oeis.org/wiki/User:Peter_Luschny/BellTransform\">The Bell transform</a>\n",
       "   - Peter Luschny, <a href=\"http://www.oeis.org/wiki/User:Peter_Luschny/PermutationTrees\">Permutation Trees</a>\n"
      ],
      "text/plain": [
       "<IPython.core.display.Markdown object>"
      ]
     },
     "execution_count": 41,
     "metadata": {},
     "output_type": "execute_result"
    }
   ],
   "source": [
    "s()"
   ]
  },
  {
   "cell_type": "markdown",
   "metadata": {},
   "source": [
    "---\n",
    "<a rel=\"license\" href=\"http://creativecommons.org/licenses/by-nc-sa/4.0/\"><img alt=\"Creative Commons License\" style=\"border-width:0\" src=\"https://i.creativecommons.org/l/by-nc-sa/4.0/88x31.png\" /></a><br />This work is licensed under a <a rel=\"license\" href=\"http://creativecommons.org/licenses/by-nc-sa/4.0/\">Creative Commons Attribution-NonCommercial-ShareAlike 4.0 International License</a>."
   ]
  }
 ],
 "metadata": {
  "kernelspec": {
   "display_name": "Python 3",
   "language": "python",
   "name": "python3"
  },
  "language_info": {
   "codemirror_mode": {
    "name": "ipython",
    "version": 3
   },
   "file_extension": ".py",
   "mimetype": "text/x-python",
   "name": "python",
   "nbconvert_exporter": "python",
   "pygments_lexer": "ipython3",
   "version": "3.5.2"
  }
 },
 "nbformat": 4,
 "nbformat_minor": 0
}
