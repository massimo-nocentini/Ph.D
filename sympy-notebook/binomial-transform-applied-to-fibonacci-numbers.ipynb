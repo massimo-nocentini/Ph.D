{
 "cells": [
  {
   "cell_type": "markdown",
   "metadata": {},
   "source": [
    "# An application of Binomial transform\n",
    "\n",
    "In this notebook we apply the [Binomial transform][on-oeis] to the Fibonacci numbers in order to substain the main [notebook][recurrence-notebook] where these numbers are studied in depth.\n",
    "\n",
    "[on-oeis]:https://oeis.org/wiki/Binomial_transform\n",
    "[recurrence-notebook]:http://nbviewer.jupyter.org/github/massimo-nocentini/PhD/blob/master/courses/paa/sympy-notebook/recurrences-unfolding.ipynb?flush_cache=true"
   ]
  },
  {
   "cell_type": "code",
   "execution_count": 3,
   "metadata": {
    "collapsed": true
   },
   "outputs": [],
   "source": [
    "import sympy\n",
    "from sympy import *\n",
    "from sympy.abc import x, n, z, t, k\n",
    "    \n",
    "init_printing() # for nice printing, a-la' TeX"
   ]
  },
  {
   "cell_type": "code",
   "execution_count": 4,
   "metadata": {
    "collapsed": false
   },
   "outputs": [],
   "source": [
    "%run \"sums.py\"\n",
    "\n",
    "# duplicated code, put it into \"sums.py\"\n",
    "def expand_sum_in_eq(eq_term):\n",
    "    lhs, rhs = eq_term.lhs, eq_term.rhs\n",
    "    return Eq(lhs, expand_Sum(rhs))\n",
    "\n",
    "f = IndexedBase('f')\n",
    "fibs = {f[i]:fibonacci(i) for i in range(100)}"
   ]
  },
  {
   "cell_type": "code",
   "execution_count": 5,
   "metadata": {
    "collapsed": false
   },
   "outputs": [
    {
     "data": {
      "image/png": "[encoded data removed]",
      "text/latex": [
       "$$\\left[\\begin{matrix}1 & 0 & 0 & 0 & 0 & 0 & 0 & 0 & 0\\\\0 & 1 & 0 & 0 & 0 & 0 & 0 & 0 & 0\\\\1 & 1 & 1 & 0 & 0 & 0 & 0 & 0 & 0\\\\-1 & 0 & 1 & 1 & 0 & 0 & 0 & 0 & 0\\\\1 & 0 & 0 & 1 & 1 & 0 & 0 & 0 & 0\\\\-1 & 0 & 0 & 0 & 1 & 1 & 0 & 0 & 0\\\\1 & 0 & 0 & 0 & 0 & 1 & 1 & 0 & 0\\\\-1 & 0 & 0 & 0 & 0 & 0 & 1 & 1 & 0\\\\1 & 0 & 0 & 0 & 0 & 0 & 0 & 1 & 1\\end{matrix}\\right]$$"
      ],
      "text/plain": [
       "⎡1   0  0  0  0  0  0  0  0⎤\n",
       "⎢                          ⎥\n",
       "⎢0   1  0  0  0  0  0  0  0⎥\n",
       "⎢                          ⎥\n",
       "⎢1   1  1  0  0  0  0  0  0⎥\n",
       "⎢                          ⎥\n",
       "⎢-1  0  1  1  0  0  0  0  0⎥\n",
       "⎢                          ⎥\n",
       "⎢1   0  0  1  1  0  0  0  0⎥\n",
       "⎢                          ⎥\n",
       "⎢-1  0  0  0  1  1  0  0  0⎥\n",
       "⎢                          ⎥\n",
       "⎢1   0  0  0  0  1  1  0  0⎥\n",
       "⎢                          ⎥\n",
       "⎢-1  0  0  0  0  0  1  1  0⎥\n",
       "⎢                          ⎥\n",
       "⎣1   0  0  0  0  0  0  1  1⎦"
      ]
     },
     "execution_count": 5,
     "metadata": {},
     "output_type": "execute_result"
    }
   ],
   "source": [
    "transforming_matrix = Matrix([\n",
    "        [1,0,0,0,0,0,0,0,0],\n",
    "        [0,1,0,0,0,0,0,0,0],\n",
    "        [1,1,1,0,0,0,0,0,0],\n",
    "        [-1,0,1,1,0,0,0,0,0],\n",
    "        [1,0,0,1,1,0,0,0,0],\n",
    "        [-1,0,0,0,1,1,0,0,0],\n",
    "        [1,0,0,0,0,1,1,0,0],\n",
    "        [-1,0,0,0,0,0,1,1,0],\n",
    "        [1,0,0,0,0,0,0,1,1]])\n",
    "\n",
    "transforming_matrix"
   ]
  },
  {
   "cell_type": "code",
   "execution_count": 7,
   "metadata": {
    "collapsed": false
   },
   "outputs": [
    {
     "data": {
      "image/png": "[encoded data removed]",
      "text/latex": [
       "$$\\left[\\begin{matrix}1 & 0 & 0 & 0 & 0 & 0 & 0 & 0 & 0\\\\0 & 1 & 0 & 0 & 0 & 0 & 0 & 0 & 0\\\\-1 & -1 & 1 & 0 & 0 & 0 & 0 & 0 & 0\\\\2 & 1 & -1 & 1 & 0 & 0 & 0 & 0 & 0\\\\-3 & -1 & 1 & -1 & 1 & 0 & 0 & 0 & 0\\\\4 & 1 & -1 & 1 & -1 & 1 & 0 & 0 & 0\\\\-5 & -1 & 1 & -1 & 1 & -1 & 1 & 0 & 0\\\\6 & 1 & -1 & 1 & -1 & 1 & -1 & 1 & 0\\\\-7 & -1 & 1 & -1 & 1 & -1 & 1 & -1 & 1\\end{matrix}\\right]$$"
      ],
      "text/plain": [
       "⎡1   0   0   0   0   0   0   0   0⎤\n",
       "⎢                                 ⎥\n",
       "⎢0   1   0   0   0   0   0   0   0⎥\n",
       "⎢                                 ⎥\n",
       "⎢-1  -1  1   0   0   0   0   0   0⎥\n",
       "⎢                                 ⎥\n",
       "⎢2   1   -1  1   0   0   0   0   0⎥\n",
       "⎢                                 ⎥\n",
       "⎢-3  -1  1   -1  1   0   0   0   0⎥\n",
       "⎢                                 ⎥\n",
       "⎢4   1   -1  1   -1  1   0   0   0⎥\n",
       "⎢                                 ⎥\n",
       "⎢-5  -1  1   -1  1   -1  1   0   0⎥\n",
       "⎢                                 ⎥\n",
       "⎢6   1   -1  1   -1  1   -1  1   0⎥\n",
       "⎢                                 ⎥\n",
       "⎣-7  -1  1   -1  1   -1  1   -1  1⎦"
      ]
     },
     "execution_count": 7,
     "metadata": {},
     "output_type": "execute_result"
    }
   ],
   "source": [
    "transforming_matrix**(-1)"
   ]
  },
  {
   "cell_type": "code",
   "execution_count": 8,
   "metadata": {
    "collapsed": false
   },
   "outputs": [
    {
     "data": {
      "image/png": "[encoded data removed]",
      "text/latex": [
       "$$1 + t^{2} - t^{3} + t^{4} - t^{5} + t^{6} - t^{7} + t^{8} - t^{9} + \\mathcal{O}\\left(t^{10}\\right)$$"
      ],
      "text/plain": [
       "     2    3    4    5    6    7    8    9    ⎛ 10⎞\n",
       "1 + t  - t  + t  - t  + t  - t  + t  - t  + O⎝t  ⎠"
      ]
     },
     "execution_count": 8,
     "metadata": {},
     "output_type": "execute_result"
    }
   ],
   "source": [
    "def gf(t): return t + 1/(1+t)\n",
    "\n",
    "gf(t).series(n=10)"
   ]
  },
  {
   "cell_type": "code",
   "execution_count": 9,
   "metadata": {
    "collapsed": false
   },
   "outputs": [
    {
     "data": {
      "image/png": "[encoded data removed]",
      "text/latex": [
       "$$t^{2} + 2 t^{3} - t^{5} + t^{6} - t^{8} + t^{9} + \\mathcal{O}\\left(t^{10}\\right)$$"
      ],
      "text/plain": [
       " 2      3    5    6    8    9    ⎛ 10⎞\n",
       "t  + 2⋅t  - t  + t  - t  + t  + O⎝t  ⎠"
      ]
     },
     "execution_count": 9,
     "metadata": {},
     "output_type": "execute_result"
    }
   ],
   "source": [
    "def h(t): return t*(1+2*t+t**2)/(1+t+t**2)\n",
    "\n",
    "(gf(t)*h(t)**2).series(n=10)"
   ]
  },
  {
   "cell_type": "code",
   "execution_count": 6,
   "metadata": {
    "collapsed": false
   },
   "outputs": [
    {
     "data": {
      "image/png": "[encoded data removed]",
      "text/latex": [
       "$$\\left[\\begin{matrix}1 & 0 & 0 & 0 & 0 & 0 & 0 & 0 & 0\\\\1 & 1 & 0 & 0 & 0 & 0 & 0 & 0 & 0\\\\1 & 2 & 1 & 0 & 0 & 0 & 0 & 0 & 0\\\\1 & 3 & 3 & 1 & 0 & 0 & 0 & 0 & 0\\\\1 & 4 & 6 & 4 & 1 & 0 & 0 & 0 & 0\\\\1 & 5 & 10 & 10 & 5 & 1 & 0 & 0 & 0\\\\1 & 6 & 15 & 20 & 15 & 6 & 1 & 0 & 0\\\\1 & 7 & 21 & 35 & 35 & 21 & 7 & 1 & 0\\\\1 & 8 & 28 & 56 & 70 & 56 & 28 & 8 & 1\\end{matrix}\\right]$$"
      ],
      "text/plain": [
       "⎡1  0  0   0   0   0   0   0  0⎤\n",
       "⎢                              ⎥\n",
       "⎢1  1  0   0   0   0   0   0  0⎥\n",
       "⎢                              ⎥\n",
       "⎢1  2  1   0   0   0   0   0  0⎥\n",
       "⎢                              ⎥\n",
       "⎢1  3  3   1   0   0   0   0  0⎥\n",
       "⎢                              ⎥\n",
       "⎢1  4  6   4   1   0   0   0  0⎥\n",
       "⎢                              ⎥\n",
       "⎢1  5  10  10  5   1   0   0  0⎥\n",
       "⎢                              ⎥\n",
       "⎢1  6  15  20  15  6   1   0  0⎥\n",
       "⎢                              ⎥\n",
       "⎢1  7  21  35  35  21  7   1  0⎥\n",
       "⎢                              ⎥\n",
       "⎣1  8  28  56  70  56  28  8  1⎦"
      ]
     },
     "execution_count": 6,
     "metadata": {},
     "output_type": "execute_result"
    }
   ],
   "source": [
    "pascal_matrix = Matrix([\n",
    "        [1,0,0,0,0,0,0,0,0],\n",
    "        [1,1,0,0,0,0,0,0,0],\n",
    "        [1,2,1,0,0,0,0,0,0],\n",
    "        [1,3,3,1,0,0,0,0,0],\n",
    "        [1,4,6,4,1,0,0,0,0],\n",
    "        [1,5,10,10,5,1,0,0,0],\n",
    "        [1,6,15,20,15,6,1,0,0],\n",
    "        [1,7,21,35,35,21,7,1,0],\n",
    "        [1,8,28,56,70,56,28,8,1]])\n",
    "pascal_matrix"
   ]
  },
  {
   "cell_type": "code",
   "execution_count": 11,
   "metadata": {
    "collapsed": false
   },
   "outputs": [
    {
     "data": {
      "image/png": "[encoded data removed]",
      "text/latex": [
       "$$\\left[\\begin{matrix}1 & 0 & 0 & 0 & 0 & 0 & 0 & 0 & 0\\\\1 & 1 & 0 & 0 & 0 & 0 & 0 & 0 & 0\\\\2 & 2 & 1 & 0 & 0 & 0 & 0 & 0 & 0\\\\5 & 5 & 3 & 1 & 0 & 0 & 0 & 0 & 0\\\\14 & 14 & 9 & 4 & 1 & 0 & 0 & 0 & 0\\\\42 & 42 & 28 & 14 & 5 & 1 & 0 & 0 & 0\\\\132 & 132 & 90 & 48 & 20 & 6 & 1 & 0 & 0\\\\429 & 429 & 297 & 165 & 75 & 27 & 7 & 1 & 0\\\\1430 & 1430 & 1001 & 572 & 275 & 110 & 35 & 8 & 1\\end{matrix}\\right]$$"
      ],
      "text/plain": [
       "⎡ 1     0     0     0    0    0   0   0  0⎤\n",
       "⎢                                         ⎥\n",
       "⎢ 1     1     0     0    0    0   0   0  0⎥\n",
       "⎢                                         ⎥\n",
       "⎢ 2     2     1     0    0    0   0   0  0⎥\n",
       "⎢                                         ⎥\n",
       "⎢ 5     5     3     1    0    0   0   0  0⎥\n",
       "⎢                                         ⎥\n",
       "⎢ 14    14    9     4    1    0   0   0  0⎥\n",
       "⎢                                         ⎥\n",
       "⎢ 42    42    28   14    5    1   0   0  0⎥\n",
       "⎢                                         ⎥\n",
       "⎢132   132    90   48   20    6   1   0  0⎥\n",
       "⎢                                         ⎥\n",
       "⎢429   429   297   165  75   27   7   1  0⎥\n",
       "⎢                                         ⎥\n",
       "⎣1430  1430  1001  572  275  110  35  8  1⎦"
      ]
     },
     "execution_count": 11,
     "metadata": {},
     "output_type": "execute_result"
    }
   ],
   "source": [
    "catalan_matrix = Matrix([\n",
    "        [1,0,0,0,0,0,0,0,0],\n",
    "        [1,1,0,0,0,0,0,0,0],\n",
    "        [2,2,1,0,0,0,0,0,0],\n",
    "        [5,5,3,1,0,0,0,0,0],\n",
    "        [14,14,9,4,1,0,0,0,0],\n",
    "        [42,42,28,14,5,1,0,0,0],\n",
    "        [132,132,90,48,20,6,1,0,0],\n",
    "        [429,429,297,165,75,27,7,1,0],\n",
    "        [1430,1430,1001,572,275,110,35,8,1]])\n",
    "catalan_matrix"
   ]
  },
  {
   "cell_type": "code",
   "execution_count": 12,
   "metadata": {
    "collapsed": false
   },
   "outputs": [
    {
     "data": {
      "image/png": "[encoded data removed]",
      "text/latex": [
       "$$\\left[\\begin{matrix}1 & 0 & 0 & 0 & 0 & 0 & 0 & 0 & 0\\\\1 & 0 & 0 & 0 & 0 & 0 & 0 & 0 & 0\\\\0 & 1 & 0 & 0 & 0 & 0 & 0 & 0 & 0\\\\0 & -1 & 1 & 0 & 0 & 0 & 0 & 0 & 0\\\\0 & 0 & -2 & 1 & 0 & 0 & 0 & 0 & 0\\\\0 & 0 & 1 & -3 & 1 & 0 & 0 & 0 & 0\\\\0 & 0 & 0 & 3 & -4 & 1 & 0 & 0 & 0\\\\0 & 0 & 0 & -1 & 6 & -5 & 1 & 0 & 0\\\\0 & 0 & 0 & 0 & -4 & 10 & -6 & 1 & 0\\end{matrix}\\right]$$"
      ],
      "text/plain": [
       "⎡1  0   0   0   0   0   0   0  0⎤\n",
       "⎢                               ⎥\n",
       "⎢1  0   0   0   0   0   0   0  0⎥\n",
       "⎢                               ⎥\n",
       "⎢0  1   0   0   0   0   0   0  0⎥\n",
       "⎢                               ⎥\n",
       "⎢0  -1  1   0   0   0   0   0  0⎥\n",
       "⎢                               ⎥\n",
       "⎢0  0   -2  1   0   0   0   0  0⎥\n",
       "⎢                               ⎥\n",
       "⎢0  0   1   -3  1   0   0   0  0⎥\n",
       "⎢                               ⎥\n",
       "⎢0  0   0   3   -4  1   0   0  0⎥\n",
       "⎢                               ⎥\n",
       "⎢0  0   0   -1  6   -5  1   0  0⎥\n",
       "⎢                               ⎥\n",
       "⎣0  0   0   0   -4  10  -6  1  0⎦"
      ]
     },
     "execution_count": 12,
     "metadata": {},
     "output_type": "execute_result"
    }
   ],
   "source": [
    "catalan_inverse_matrix = Matrix([\n",
    "        [1,0,0,0,0,0,0,0,0],\n",
    "        [1,0,0,0,0,0,0,0,0],\n",
    "        [0,1,0,0,0,0,0,0,0],\n",
    "        [0,-1,1,0,0,0,0,0,0],\n",
    "        [0,0,-2,1,0,0,0,0,0],\n",
    "        [0,0,1,-3,1,0,0,0,0],\n",
    "        [0,0,0,3,-4,1,0,0,0],\n",
    "        [0,0,0,-1,6,-5,1,0,0],\n",
    "        [0,0,0,0,-4,10,-6,1,0]])\n",
    "catalan_inverse_matrix"
   ]
  },
  {
   "cell_type": "code",
   "execution_count": 13,
   "metadata": {
    "collapsed": false
   },
   "outputs": [
    {
     "data": {
      "image/png": "[encoded data removed]",
      "text/latex": [
       "$$\\left[\\begin{matrix}1 & 0 & 0 & 0 & 0 & 0 & 0 & 0 & 0\\\\1 & 1 & 0 & 0 & 0 & 0 & 0 & 0 & 0\\\\2 & 3 & 1 & 0 & 0 & 0 & 0 & 0 & 0\\\\3 & 6 & 4 & 1 & 0 & 0 & 0 & 0 & 0\\\\4 & 10 & 10 & 5 & 1 & 0 & 0 & 0 & 0\\\\5 & 15 & 20 & 15 & 6 & 1 & 0 & 0 & 0\\\\6 & 21 & 35 & 35 & 21 & 7 & 1 & 0 & 0\\\\7 & 28 & 56 & 70 & 56 & 28 & 8 & 1 & 0\\\\8 & 36 & 84 & 126 & 126 & 84 & 36 & 9 & 1\\end{matrix}\\right]$$"
      ],
      "text/plain": [
       "⎡1  0   0    0    0   0   0   0  0⎤\n",
       "⎢                                 ⎥\n",
       "⎢1  1   0    0    0   0   0   0  0⎥\n",
       "⎢                                 ⎥\n",
       "⎢2  3   1    0    0   0   0   0  0⎥\n",
       "⎢                                 ⎥\n",
       "⎢3  6   4    1    0   0   0   0  0⎥\n",
       "⎢                                 ⎥\n",
       "⎢4  10  10   5    1   0   0   0  0⎥\n",
       "⎢                                 ⎥\n",
       "⎢5  15  20  15    6   1   0   0  0⎥\n",
       "⎢                                 ⎥\n",
       "⎢6  21  35  35   21   7   1   0  0⎥\n",
       "⎢                                 ⎥\n",
       "⎢7  28  56  70   56   28  8   1  0⎥\n",
       "⎢                                 ⎥\n",
       "⎣8  36  84  126  126  84  36  9  1⎦"
      ]
     },
     "execution_count": 13,
     "metadata": {},
     "output_type": "execute_result"
    }
   ],
   "source": [
    "odd_transformed_matrix = pascal_matrix * transforming_matrix\n",
    "odd_transformed_matrix"
   ]
  },
  {
   "cell_type": "code",
   "execution_count": 14,
   "metadata": {
    "collapsed": false
   },
   "outputs": [
    {
     "data": {
      "image/png": "[encoded data removed]",
      "text/latex": [
       "$$\\left[\\begin{matrix}1 & 0 & 0 & 0 & 0 & 0 & 0 & 0 & 0\\\\1 & 1 & 0 & 0 & 0 & 0 & 0 & 0 & 0\\\\3 & 3 & 1 & 0 & 0 & 0 & 0 & 0 & 0\\\\1 & 5 & 4 & 1 & 0 & 0 & 0 & 0 & 0\\\\3 & 7 & 9 & 5 & 1 & 0 & 0 & 0 & 0\\\\1 & 9 & 16 & 14 & 6 & 1 & 0 & 0 & 0\\\\3 & 11 & 25 & 30 & 20 & 7 & 1 & 0 & 0\\\\1 & 13 & 36 & 55 & 50 & 27 & 8 & 1 & 0\\\\3 & 15 & 49 & 91 & 105 & 77 & 35 & 9 & 1\\end{matrix}\\right]$$"
      ],
      "text/plain": [
       "⎡1  0   0   0    0   0   0   0  0⎤\n",
       "⎢                                ⎥\n",
       "⎢1  1   0   0    0   0   0   0  0⎥\n",
       "⎢                                ⎥\n",
       "⎢3  3   1   0    0   0   0   0  0⎥\n",
       "⎢                                ⎥\n",
       "⎢1  5   4   1    0   0   0   0  0⎥\n",
       "⎢                                ⎥\n",
       "⎢3  7   9   5    1   0   0   0  0⎥\n",
       "⎢                                ⎥\n",
       "⎢1  9   16  14   6   1   0   0  0⎥\n",
       "⎢                                ⎥\n",
       "⎢3  11  25  30  20   7   1   0  0⎥\n",
       "⎢                                ⎥\n",
       "⎢1  13  36  55  50   27  8   1  0⎥\n",
       "⎢                                ⎥\n",
       "⎣3  15  49  91  105  77  35  9  1⎦"
      ]
     },
     "execution_count": 14,
     "metadata": {},
     "output_type": "execute_result"
    }
   ],
   "source": [
    "transforming_matrix * pascal_matrix"
   ]
  },
  {
   "cell_type": "code",
   "execution_count": 15,
   "metadata": {
    "collapsed": false
   },
   "outputs": [
    {
     "data": {
      "image/png": "[encoded data removed]",
      "text/latex": [
       "$$\\left[\\begin{matrix}1 & 0 & 0 & 0 & 0 & 0 & 0 & 0 & 0\\\\0 & 1 & 0 & 0 & 0 & 0 & 0 & 0 & 0\\\\0 & 1 & 1 & 0 & 0 & 0 & 0 & 0 & 0\\\\-2 & -2 & 1 & 1 & 0 & 0 & 0 & 0 & 0\\\\-2 & -5 & -3 & 1 & 1 & 0 & 0 & 0 & 0\\\\1 & -2 & -7 & -4 & 1 & 1 & 0 & 0 & 0\\\\4 & 7 & -1 & -9 & -5 & 1 & 1 & 0 & 0\\\\3 & 12 & 15 & 1 & -11 & -6 & 1 & 1 & 0\\\\-2 & 3 & 21 & 26 & 4 & -13 & -7 & 1 & 1\\end{matrix}\\right]$$"
      ],
      "text/plain": [
       "⎡1   0   0   0    0    0   0   0  0⎤\n",
       "⎢                                  ⎥\n",
       "⎢0   1   0   0    0    0   0   0  0⎥\n",
       "⎢                                  ⎥\n",
       "⎢0   1   1   0    0    0   0   0  0⎥\n",
       "⎢                                  ⎥\n",
       "⎢-2  -2  1   1    0    0   0   0  0⎥\n",
       "⎢                                  ⎥\n",
       "⎢-2  -5  -3  1    1    0   0   0  0⎥\n",
       "⎢                                  ⎥\n",
       "⎢1   -2  -7  -4   1    1   0   0  0⎥\n",
       "⎢                                  ⎥\n",
       "⎢4   7   -1  -9  -5    1   1   0  0⎥\n",
       "⎢                                  ⎥\n",
       "⎢3   12  15  1   -11  -6   1   1  0⎥\n",
       "⎢                                  ⎥\n",
       "⎣-2  3   21  26   4   -13  -7  1  1⎦"
      ]
     },
     "execution_count": 15,
     "metadata": {},
     "output_type": "execute_result"
    }
   ],
   "source": [
    "(catalan_matrix**(-1) )*odd_transformed_matrix"
   ]
  },
  {
   "cell_type": "code",
   "execution_count": 16,
   "metadata": {
    "collapsed": false
   },
   "outputs": [
    {
     "data": {
      "image/png": "[encoded data removed]",
      "text/latex": [
       "$$\\left[\\begin{matrix}1 & 0 & 0 & 0 & 0 & 0 & 0 & 0 & 0\\\\1 & 0 & 0 & 0 & 0 & 0 & 0 & 0 & 0\\\\1 & 1 & 0 & 0 & 0 & 0 & 0 & 0 & 0\\\\1 & 2 & 1 & 0 & 0 & 0 & 0 & 0 & 0\\\\-1 & 0 & 2 & 1 & 0 & 0 & 0 & 0 & 0\\\\-3 & -5 & -1 & 2 & 1 & 0 & 0 & 0 & 0\\\\-2 & -7 & -8 & -2 & 2 & 1 & 0 & 0 & 0\\\\2 & 0 & -9 & -11 & -3 & 2 & 1 & 0 & 0\\\\5 & 12 & 6 & -10 & -14 & -4 & 2 & 1 & 0\\end{matrix}\\right]$$"
      ],
      "text/plain": [
       "⎡1   0   0    0    0   0   0  0  0⎤\n",
       "⎢                                 ⎥\n",
       "⎢1   0   0    0    0   0   0  0  0⎥\n",
       "⎢                                 ⎥\n",
       "⎢1   1   0    0    0   0   0  0  0⎥\n",
       "⎢                                 ⎥\n",
       "⎢1   2   1    0    0   0   0  0  0⎥\n",
       "⎢                                 ⎥\n",
       "⎢-1  0   2    1    0   0   0  0  0⎥\n",
       "⎢                                 ⎥\n",
       "⎢-3  -5  -1   2    1   0   0  0  0⎥\n",
       "⎢                                 ⎥\n",
       "⎢-2  -7  -8  -2    2   1   0  0  0⎥\n",
       "⎢                                 ⎥\n",
       "⎢2   0   -9  -11  -3   2   1  0  0⎥\n",
       "⎢                                 ⎥\n",
       "⎣5   12  6   -10  -14  -4  2  1  0⎦"
      ]
     },
     "execution_count": 16,
     "metadata": {},
     "output_type": "execute_result"
    }
   ],
   "source": [
    "catalan_inverse_matrix * odd_transformed_matrix"
   ]
  },
  {
   "cell_type": "code",
   "execution_count": 7,
   "metadata": {
    "collapsed": false
   },
   "outputs": [
    {
     "data": {
      "image/png": "[encoded data removed]",
      "text/latex": [
       "$$\\left ( \\left[\\begin{matrix}0\\\\1\\\\1\\\\2\\\\3\\\\5\\\\8\\\\13\\\\21\\end{matrix}\\right], \\quad \\left[\\begin{matrix}f_{0}\\\\f_{1}\\\\f_{2}\\\\f_{3}\\\\f_{4}\\\\f_{5}\\\\f_{6}\\\\f_{7}\\\\f_{8}\\end{matrix}\\right]\\right )$$"
      ],
      "text/plain": [
       "⎛⎡0 ⎤, ⎡f[0]⎤⎞\n",
       "⎜⎢  ⎥  ⎢    ⎥⎟\n",
       "⎜⎢1 ⎥  ⎢f[1]⎥⎟\n",
       "⎜⎢  ⎥  ⎢    ⎥⎟\n",
       "⎜⎢1 ⎥  ⎢f[2]⎥⎟\n",
       "⎜⎢  ⎥  ⎢    ⎥⎟\n",
       "⎜⎢2 ⎥  ⎢f[3]⎥⎟\n",
       "⎜⎢  ⎥  ⎢    ⎥⎟\n",
       "⎜⎢3 ⎥  ⎢f[4]⎥⎟\n",
       "⎜⎢  ⎥  ⎢    ⎥⎟\n",
       "⎜⎢5 ⎥  ⎢f[5]⎥⎟\n",
       "⎜⎢  ⎥  ⎢    ⎥⎟\n",
       "⎜⎢8 ⎥  ⎢f[6]⎥⎟\n",
       "⎜⎢  ⎥  ⎢    ⎥⎟\n",
       "⎜⎢13⎥  ⎢f[7]⎥⎟\n",
       "⎜⎢  ⎥  ⎢    ⎥⎟\n",
       "⎝⎣21⎦  ⎣f[8]⎦⎠"
      ]
     },
     "execution_count": 7,
     "metadata": {},
     "output_type": "execute_result"
    }
   ],
   "source": [
    "fib_matrix = Matrix([fibonacci(i) for i in range(9)])\n",
    "fib_matrix_sym = Matrix([f[i] for i in range(9)])\n",
    "\n",
    "fib_matrix, fib_matrix_sym"
   ]
  },
  {
   "cell_type": "code",
   "execution_count": 8,
   "metadata": {
    "collapsed": false
   },
   "outputs": [
    {
     "data": {
      "image/png": "[encoded data removed]",
      "text/latex": [
       "$$\\left ( \\left[\\begin{matrix}0\\\\1\\\\2\\\\3\\\\5\\\\8\\\\13\\\\21\\\\34\\end{matrix}\\right], \\quad \\left[\\begin{matrix}f_{0}\\\\f_{1}\\\\f_{0} + f_{1} + f_{2}\\\\- f_{0} + f_{2} + f_{3}\\\\f_{0} + f_{3} + f_{4}\\\\- f_{0} + f_{4} + f_{5}\\\\f_{0} + f_{5} + f_{6}\\\\- f_{0} + f_{6} + f_{7}\\\\f_{0} + f_{7} + f_{8}\\end{matrix}\\right], \\quad \\left[\\begin{matrix}0\\\\f_{1}\\\\f_{1} + f_{2}\\\\f_{2} + f_{3}\\\\f_{3} + f_{4}\\\\f_{4} + f_{5}\\\\f_{5} + f_{6}\\\\f_{6} + f_{7}\\\\f_{7} + f_{8}\\end{matrix}\\right], \\quad \\left[\\begin{matrix}0\\\\f_{1}\\\\f_{3}\\\\f_{4}\\\\f_{5}\\\\f_{6}\\\\f_{7}\\\\f_{8}\\\\f_{9}\\end{matrix}\\right]\\right )$$"
      ],
      "text/plain": [
       "⎛⎡0 ⎤, ⎡       f[0]        ⎤, ⎡     0     ⎤, ⎡ 0  ⎤⎞\n",
       "⎜⎢  ⎥  ⎢                   ⎥  ⎢           ⎥  ⎢    ⎥⎟\n",
       "⎜⎢1 ⎥  ⎢       f[1]        ⎥  ⎢   f[1]    ⎥  ⎢f[1]⎥⎟\n",
       "⎜⎢  ⎥  ⎢                   ⎥  ⎢           ⎥  ⎢    ⎥⎟\n",
       "⎜⎢2 ⎥  ⎢f[0] + f[1] + f[2] ⎥  ⎢f[1] + f[2]⎥  ⎢f[3]⎥⎟\n",
       "⎜⎢  ⎥  ⎢                   ⎥  ⎢           ⎥  ⎢    ⎥⎟\n",
       "⎜⎢3 ⎥  ⎢-f[0] + f[2] + f[3]⎥  ⎢f[2] + f[3]⎥  ⎢f[4]⎥⎟\n",
       "⎜⎢  ⎥  ⎢                   ⎥  ⎢           ⎥  ⎢    ⎥⎟\n",
       "⎜⎢5 ⎥  ⎢f[0] + f[3] + f[4] ⎥  ⎢f[3] + f[4]⎥  ⎢f[5]⎥⎟\n",
       "⎜⎢  ⎥  ⎢                   ⎥  ⎢           ⎥  ⎢    ⎥⎟\n",
       "⎜⎢8 ⎥  ⎢-f[0] + f[4] + f[5]⎥  ⎢f[4] + f[5]⎥  ⎢f[6]⎥⎟\n",
       "⎜⎢  ⎥  ⎢                   ⎥  ⎢           ⎥  ⎢    ⎥⎟\n",
       "⎜⎢13⎥  ⎢f[0] + f[5] + f[6] ⎥  ⎢f[5] + f[6]⎥  ⎢f[7]⎥⎟\n",
       "⎜⎢  ⎥  ⎢                   ⎥  ⎢           ⎥  ⎢    ⎥⎟\n",
       "⎜⎢21⎥  ⎢-f[0] + f[6] + f[7]⎥  ⎢f[6] + f[7]⎥  ⎢f[8]⎥⎟\n",
       "⎜⎢  ⎥  ⎢                   ⎥  ⎢           ⎥  ⎢    ⎥⎟\n",
       "⎝⎣34⎦  ⎣f[0] + f[7] + f[8] ⎦  ⎣f[7] + f[8]⎦  ⎣f[9]⎦⎠"
      ]
     },
     "execution_count": 8,
     "metadata": {},
     "output_type": "execute_result"
    }
   ],
   "source": [
    "a = Wild('a')\n",
    "std_prod = transforming_matrix * fib_matrix\n",
    "sym_prod = transforming_matrix * fib_matrix_sym\n",
    "\n",
    "std_prod, sym_prod, sym_prod.subs({f[0]:0}), sym_prod.subs({f[0]:0}).replace(f[a]+f[a+1],f[a+2])"
   ]
  },
  {
   "cell_type": "code",
   "execution_count": 9,
   "metadata": {
    "collapsed": false
   },
   "outputs": [
    {
     "data": {
      "image/png": "[encoded data removed]",
      "text/latex": [
       "$$\\left ( \\left[\\begin{matrix}0\\\\1\\\\4\\\\12\\\\33\\\\88\\\\232\\\\609\\\\1596\\end{matrix}\\right], \\quad \\left[\\begin{matrix}f_{0}\\\\f_{0} + f_{1}\\\\2 f_{0} + 3 f_{1} + f_{2}\\\\3 f_{0} + 6 f_{1} + 4 f_{2} + f_{3}\\\\4 f_{0} + 10 f_{1} + 10 f_{2} + 5 f_{3} + f_{4}\\\\5 f_{0} + 15 f_{1} + 20 f_{2} + 15 f_{3} + 6 f_{4} + f_{5}\\\\6 f_{0} + 21 f_{1} + 35 f_{2} + 35 f_{3} + 21 f_{4} + 7 f_{5} + f_{6}\\\\7 f_{0} + 28 f_{1} + 56 f_{2} + 70 f_{3} + 56 f_{4} + 28 f_{5} + 8 f_{6} + f_{7}\\\\8 f_{0} + 36 f_{1} + 84 f_{2} + 126 f_{3} + 126 f_{4} + 84 f_{5} + 36 f_{6} + 9 f_{7} + f_{8}\\end{matrix}\\right]\\right )$$"
      ],
      "text/plain": [
       "⎛⎡ 0  ⎤, ⎡                                        f[0]                        \n",
       "⎜⎢    ⎥  ⎢                                                                    \n",
       "⎜⎢ 1  ⎥  ⎢                                    f[0] + f[1]                     \n",
       "⎜⎢    ⎥  ⎢                                                                    \n",
       "⎜⎢ 4  ⎥  ⎢                               2⋅f[0] + 3⋅f[1] + f[2]               \n",
       "⎜⎢    ⎥  ⎢                                                                    \n",
       "⎜⎢ 12 ⎥  ⎢                          3⋅f[0] + 6⋅f[1] + 4⋅f[2] + f[3]           \n",
       "⎜⎢    ⎥  ⎢                                                                    \n",
       "⎜⎢ 33 ⎥  ⎢                     4⋅f[0] + 10⋅f[1] + 10⋅f[2] + 5⋅f[3] + f[4]     \n",
       "⎜⎢    ⎥  ⎢                                                                    \n",
       "⎜⎢ 88 ⎥  ⎢                5⋅f[0] + 15⋅f[1] + 20⋅f[2] + 15⋅f[3] + 6⋅f[4] + f[5]\n",
       "⎜⎢    ⎥  ⎢                                                                    \n",
       "⎜⎢232 ⎥  ⎢           6⋅f[0] + 21⋅f[1] + 35⋅f[2] + 35⋅f[3] + 21⋅f[4] + 7⋅f[5] +\n",
       "⎜⎢    ⎥  ⎢                                                                    \n",
       "⎜⎢609 ⎥  ⎢      7⋅f[0] + 28⋅f[1] + 56⋅f[2] + 70⋅f[3] + 56⋅f[4] + 28⋅f[5] + 8⋅f\n",
       "⎜⎢    ⎥  ⎢                                                                    \n",
       "⎝⎣1596⎦  ⎣8⋅f[0] + 36⋅f[1] + 84⋅f[2] + 126⋅f[3] + 126⋅f[4] + 84⋅f[5] + 36⋅f[6]\n",
       "\n",
       "                ⎤⎞\n",
       "                ⎥⎟\n",
       "                ⎥⎟\n",
       "                ⎥⎟\n",
       "                ⎥⎟\n",
       "                ⎥⎟\n",
       "                ⎥⎟\n",
       "                ⎥⎟\n",
       "                ⎥⎟\n",
       "                ⎥⎟\n",
       "                ⎥⎟\n",
       "                ⎥⎟\n",
       " f[6]           ⎥⎟\n",
       "                ⎥⎟\n",
       "[6] + f[7]      ⎥⎟\n",
       "                ⎥⎟\n",
       " + 9⋅f[7] + f[8]⎦⎠"
      ]
     },
     "execution_count": 9,
     "metadata": {},
     "output_type": "execute_result"
    }
   ],
   "source": [
    "rhs=pascal_matrix * transforming_matrix * fib_matrix\n",
    "rhs_sym = pascal_matrix * sym_prod\n",
    "rhs, rhs_sym"
   ]
  },
  {
   "cell_type": "code",
   "execution_count": 10,
   "metadata": {
    "collapsed": false
   },
   "outputs": [
    {
     "data": {
      "image/png": "[encoded data removed]",
      "text/latex": [
       "$$\\left ( \\left[\\begin{matrix}0\\\\1\\\\4\\\\12\\\\33\\\\88\\\\232\\\\609\\\\1596\\end{matrix}\\right], \\quad \\left[\\begin{matrix}f_{1} - 1\\\\f_{3} - 1\\\\f_{5} - 1\\\\f_{7} - 1\\\\f_{9} - 1\\\\f_{11} - 1\\\\f_{13} - 1\\\\f_{15} - 1\\\\f_{17} - 1\\end{matrix}\\right]\\right )$$"
      ],
      "text/plain": [
       "⎛⎡ 0  ⎤, ⎡f[1] - 1 ⎤⎞\n",
       "⎜⎢    ⎥  ⎢         ⎥⎟\n",
       "⎜⎢ 1  ⎥  ⎢f[3] - 1 ⎥⎟\n",
       "⎜⎢    ⎥  ⎢         ⎥⎟\n",
       "⎜⎢ 4  ⎥  ⎢f[5] - 1 ⎥⎟\n",
       "⎜⎢    ⎥  ⎢         ⎥⎟\n",
       "⎜⎢ 12 ⎥  ⎢f[7] - 1 ⎥⎟\n",
       "⎜⎢    ⎥  ⎢         ⎥⎟\n",
       "⎜⎢ 33 ⎥  ⎢f[9] - 1 ⎥⎟\n",
       "⎜⎢    ⎥  ⎢         ⎥⎟\n",
       "⎜⎢ 88 ⎥  ⎢f[11] - 1⎥⎟\n",
       "⎜⎢    ⎥  ⎢         ⎥⎟\n",
       "⎜⎢232 ⎥  ⎢f[13] - 1⎥⎟\n",
       "⎜⎢    ⎥  ⎢         ⎥⎟\n",
       "⎜⎢609 ⎥  ⎢f[15] - 1⎥⎟\n",
       "⎜⎢    ⎥  ⎢         ⎥⎟\n",
       "⎝⎣1596⎦  ⎣f[17] - 1⎦⎠"
      ]
     },
     "execution_count": 10,
     "metadata": {},
     "output_type": "execute_result"
    }
   ],
   "source": [
    "a_range = range(1,18,2)\n",
    "lhs=Matrix([fibonacci(i) for i in a_range]) - Matrix([1 for i in range(9)])\n",
    "lhs_sym=Matrix([f[i] for i in a_range]) - Matrix([1 for i in range(9)])\n",
    "lhs, lhs_sym"
   ]
  },
  {
   "cell_type": "code",
   "execution_count": 11,
   "metadata": {
    "collapsed": false
   },
   "outputs": [
    {
     "data": {
      "image/png": "[encoded data removed]",
      "text/latex": [
       "$$\\mathrm{True}$$"
      ],
      "text/plain": [
       "True"
      ]
     },
     "execution_count": 11,
     "metadata": {},
     "output_type": "execute_result"
    }
   ],
   "source": [
    "Eq(lhs,rhs)"
   ]
  },
  {
   "cell_type": "code",
   "execution_count": 12,
   "metadata": {
    "collapsed": false
   },
   "outputs": [
    {
     "data": {
      "image/png": "[encoded data removed]",
      "text/latex": [
       "$$\\left[\\begin{matrix}f_{1} - 1\\\\f_{3} - 1\\\\f_{5} - 1\\\\f_{7} - 1\\\\f_{9} - 1\\\\f_{11} - 1\\\\f_{13} - 1\\\\f_{15} - 1\\\\f_{17} - 1\\end{matrix}\\right] = \\left[\\begin{matrix}f_{0}\\\\f_{0} + f_{1}\\\\2 f_{0} + 3 f_{1} + f_{2}\\\\3 f_{0} + 6 f_{1} + 4 f_{2} + f_{3}\\\\4 f_{0} + 10 f_{1} + 10 f_{2} + 5 f_{3} + f_{4}\\\\5 f_{0} + 15 f_{1} + 20 f_{2} + 15 f_{3} + 6 f_{4} + f_{5}\\\\6 f_{0} + 21 f_{1} + 35 f_{2} + 35 f_{3} + 21 f_{4} + 7 f_{5} + f_{6}\\\\7 f_{0} + 28 f_{1} + 56 f_{2} + 70 f_{3} + 56 f_{4} + 28 f_{5} + 8 f_{6} + f_{7}\\\\8 f_{0} + 36 f_{1} + 84 f_{2} + 126 f_{3} + 126 f_{4} + 84 f_{5} + 36 f_{6} + 9 f_{7} + f_{8}\\end{matrix}\\right]$$"
      ],
      "text/plain": [
       "⎡f[1] - 1 ⎤ = ⎡                                        f[0]                   \n",
       "⎢         ⎥   ⎢                                                               \n",
       "⎢f[3] - 1 ⎥   ⎢                                    f[0] + f[1]                \n",
       "⎢         ⎥   ⎢                                                               \n",
       "⎢f[5] - 1 ⎥   ⎢                               2⋅f[0] + 3⋅f[1] + f[2]          \n",
       "⎢         ⎥   ⎢                                                               \n",
       "⎢f[7] - 1 ⎥   ⎢                          3⋅f[0] + 6⋅f[1] + 4⋅f[2] + f[3]      \n",
       "⎢         ⎥   ⎢                                                               \n",
       "⎢f[9] - 1 ⎥   ⎢                     4⋅f[0] + 10⋅f[1] + 10⋅f[2] + 5⋅f[3] + f[4]\n",
       "⎢         ⎥   ⎢                                                               \n",
       "⎢f[11] - 1⎥   ⎢                5⋅f[0] + 15⋅f[1] + 20⋅f[2] + 15⋅f[3] + 6⋅f[4] +\n",
       "⎢         ⎥   ⎢                                                               \n",
       "⎢f[13] - 1⎥   ⎢           6⋅f[0] + 21⋅f[1] + 35⋅f[2] + 35⋅f[3] + 21⋅f[4] + 7⋅f\n",
       "⎢         ⎥   ⎢                                                               \n",
       "⎢f[15] - 1⎥   ⎢      7⋅f[0] + 28⋅f[1] + 56⋅f[2] + 70⋅f[3] + 56⋅f[4] + 28⋅f[5] \n",
       "⎢         ⎥   ⎢                                                               \n",
       "⎣f[17] - 1⎦   ⎣8⋅f[0] + 36⋅f[1] + 84⋅f[2] + 126⋅f[3] + 126⋅f[4] + 84⋅f[5] + 36\n",
       "\n",
       "                     ⎤\n",
       "                     ⎥\n",
       "                     ⎥\n",
       "                     ⎥\n",
       "                     ⎥\n",
       "                     ⎥\n",
       "                     ⎥\n",
       "                     ⎥\n",
       "                     ⎥\n",
       "                     ⎥\n",
       " f[5]                ⎥\n",
       "                     ⎥\n",
       "[5] + f[6]           ⎥\n",
       "                     ⎥\n",
       "+ 8⋅f[6] + f[7]      ⎥\n",
       "                     ⎥\n",
       "⋅f[6] + 9⋅f[7] + f[8]⎦"
      ]
     },
     "execution_count": 12,
     "metadata": {},
     "output_type": "execute_result"
    }
   ],
   "source": [
    "eq_sym = Eq(lhs_sym, rhs_sym)\n",
    "eq_sym"
   ]
  },
  {
   "cell_type": "code",
   "execution_count": 13,
   "metadata": {
    "collapsed": false
   },
   "outputs": [
    {
     "data": {
      "image/png": "[encoded data removed]",
      "text/latex": [
       "$$\\left[\\begin{matrix}f_{1} - 1\\\\f_{3} - 1\\\\f_{5} - 1\\\\f_{7} - 1\\\\f_{9} - 1\\\\f_{11} - 1\\\\f_{13} - 1\\\\f_{15} - 1\\\\f_{17} - 1\\end{matrix}\\right] = \\left[\\begin{matrix}0\\\\f_{1}\\\\3 f_{1} + f_{2}\\\\6 f_{1} + 4 f_{2} + f_{3}\\\\10 f_{1} + 10 f_{2} + 5 f_{3} + f_{4}\\\\15 f_{1} + 20 f_{2} + 15 f_{3} + 6 f_{4} + f_{5}\\\\21 f_{1} + 35 f_{2} + 35 f_{3} + 21 f_{4} + 7 f_{5} + f_{6}\\\\28 f_{1} + 56 f_{2} + 70 f_{3} + 56 f_{4} + 28 f_{5} + 8 f_{6} + f_{7}\\\\36 f_{1} + 84 f_{2} + 126 f_{3} + 126 f_{4} + 84 f_{5} + 36 f_{6} + 9 f_{7} + f_{8}\\end{matrix}\\right]$$"
      ],
      "text/plain": [
       "⎡f[1] - 1 ⎤ = ⎡                                     0                         \n",
       "⎢         ⎥   ⎢                                                               \n",
       "⎢f[3] - 1 ⎥   ⎢                                   f[1]                        \n",
       "⎢         ⎥   ⎢                                                               \n",
       "⎢f[5] - 1 ⎥   ⎢                               3⋅f[1] + f[2]                   \n",
       "⎢         ⎥   ⎢                                                               \n",
       "⎢f[7] - 1 ⎥   ⎢                          6⋅f[1] + 4⋅f[2] + f[3]               \n",
       "⎢         ⎥   ⎢                                                               \n",
       "⎢f[9] - 1 ⎥   ⎢                     10⋅f[1] + 10⋅f[2] + 5⋅f[3] + f[4]         \n",
       "⎢         ⎥   ⎢                                                               \n",
       "⎢f[11] - 1⎥   ⎢                15⋅f[1] + 20⋅f[2] + 15⋅f[3] + 6⋅f[4] + f[5]    \n",
       "⎢         ⎥   ⎢                                                               \n",
       "⎢f[13] - 1⎥   ⎢           21⋅f[1] + 35⋅f[2] + 35⋅f[3] + 21⋅f[4] + 7⋅f[5] + f[6\n",
       "⎢         ⎥   ⎢                                                               \n",
       "⎢f[15] - 1⎥   ⎢      28⋅f[1] + 56⋅f[2] + 70⋅f[3] + 56⋅f[4] + 28⋅f[5] + 8⋅f[6] \n",
       "⎢         ⎥   ⎢                                                               \n",
       "⎣f[17] - 1⎦   ⎣36⋅f[1] + 84⋅f[2] + 126⋅f[3] + 126⋅f[4] + 84⋅f[5] + 36⋅f[6] + 9\n",
       "\n",
       "            ⎤\n",
       "            ⎥\n",
       "            ⎥\n",
       "            ⎥\n",
       "            ⎥\n",
       "            ⎥\n",
       "            ⎥\n",
       "            ⎥\n",
       "            ⎥\n",
       "            ⎥\n",
       "            ⎥\n",
       "            ⎥\n",
       "]           ⎥\n",
       "            ⎥\n",
       "+ f[7]      ⎥\n",
       "            ⎥\n",
       "⋅f[7] + f[8]⎦"
      ]
     },
     "execution_count": 13,
     "metadata": {},
     "output_type": "execute_result"
    }
   ],
   "source": [
    "fib0_term = f[0]\n",
    "eq_sym.subs(fib0_term, fibs[fib0_term])"
   ]
  },
  {
   "cell_type": "markdown",
   "metadata": {},
   "source": [
    "Since coefficient in the triangle on the rhs are a part of Pascal triangle, namely [A104712][oeis], the following is a generalization:\n",
    "$$\n",
    "    f_{2n+1} - 1 = \\sum_{k=1}^{n}{{{n+1}\\choose{k+1}}f_{k}}\n",
    "$$\n",
    "\n",
    "[oeis]:http://oeis.org/A104712"
   ]
  },
  {
   "cell_type": "code",
   "execution_count": 48,
   "metadata": {
    "collapsed": false
   },
   "outputs": [
    {
     "data": {
      "image/png": "[encoded data removed]",
      "text/latex": [
       "$$f_{2 n + 1} - 1 = \\sum_{k=1}^{n} {\\binom{n + 1}{k + 1}} f_{k} = \\sum_{k=1}^{n} {\\binom{n + 1}{- k + n}} f_{k}$$"
      ],
      "text/plain": [
       "                   n                    n                \n",
       "                  ____                 ____              \n",
       "                  ╲                    ╲                 \n",
       "                   ╲   ⎛n + 1⎞          ╲   ⎛n + 1 ⎞     \n",
       "                    ╲  ⎜     ⎟⋅f[k]      ╲  ⎜      ⎟⋅f[k]\n",
       "f[2*n + 1] - 1 =    ╱  ⎝k + 1⎠      =    ╱  ⎝-k + n⎠     \n",
       "                   ╱                    ╱                \n",
       "                  ╱                    ╱                 \n",
       "                  ‾‾‾‾                 ‾‾‾‾              \n",
       "                 k = 1                k = 1              "
      ]
     },
     "execution_count": 48,
     "metadata": {},
     "output_type": "execute_result"
    }
   ],
   "source": [
    "gen_odd_fibs = Eq(f[2*n+1]-1, Sum(binomial(n+1, k+1)*f[k], (k,1,n)))\n",
    "Eq(gen_odd_fibs, Sum(binomial(n+1, n-k)*f[k], (k,1,n)))"
   ]
  },
  {
   "cell_type": "code",
   "execution_count": 58,
   "metadata": {
    "collapsed": false
   },
   "outputs": [
    {
     "data": {
      "image/png": "[encoded data removed]",
      "text/latex": [
       "$$f_{17} - 1 = 36 f_{1} + 84 f_{2} + 126 f_{3} + 126 f_{4} + 84 f_{5} + 36 f_{6} + 9 f_{7} + f_{8}$$"
      ],
      "text/plain": [
       "f[17] - 1 = 36⋅f[1] + 84⋅f[2] + 126⋅f[3] + 126⋅f[4] + 84⋅f[5] + 36⋅f[6] + 9⋅f[\n",
       "7] + f[8]"
      ]
     },
     "execution_count": 58,
     "metadata": {},
     "output_type": "execute_result"
    }
   ],
   "source": [
    "expand_sum_in_eq(gen_odd_fibs.subs(n, 8))"
   ]
  },
  {
   "cell_type": "code",
   "execution_count": 26,
   "metadata": {
    "collapsed": false
   },
   "outputs": [
    {
     "data": {
      "image/png": "[encoded data removed]",
      "text/latex": [
       "$$\\mathrm{True}$$"
      ],
      "text/plain": [
       "True"
      ]
     },
     "execution_count": 26,
     "metadata": {},
     "output_type": "execute_result"
    }
   ],
   "source": [
    "eq_sym.subs(fibs)"
   ]
  },
  {
   "cell_type": "code",
   "execution_count": 27,
   "metadata": {
    "collapsed": false
   },
   "outputs": [
    {
     "data": {
      "image/png": "[encoded data removed]",
      "text/latex": [
       "$$\\left ( f_{17} = f_{-1} + 8 f_{0} + 36 f_{1} + 84 f_{2} + 126 f_{3} + 126 f_{4} + 84 f_{5} + 36 f_{6} + 9 f_{7} + f_{8}, \\quad f_{n} = f_{n - 18} + 8 f_{n - 17} + 36 f_{n - 16} + 84 f_{n - 15} + 126 f_{n - 14} + 126 f_{n - 13} + 84 f_{n - 12} + 36 f_{n - 11} + 9 f_{n - 10} + f_{n - 9}\\right )$$"
      ],
      "text/plain": [
       "(f[17] = f[-1] + 8⋅f[0] + 36⋅f[1] + 84⋅f[2] + 126⋅f[3] + 126⋅f[4] + 84⋅f[5] + \n",
       "36⋅f[6] + 9⋅f[7] + f[8], f[n] = f[n - 18] + 8⋅f[n - 17] + 36⋅f[n - 16] + 84⋅f[\n",
       "n - 15] + 126⋅f[n - 14] + 126⋅f[n - 13] + 84⋅f[n - 12] + 36⋅f[n - 11] + 9⋅f[n \n",
       "- 10] + f[n - 9])"
      ]
     },
     "execution_count": 27,
     "metadata": {},
     "output_type": "execute_result"
    }
   ],
   "source": [
    "eq_17 = Eq(f[17],f[-1] + rhs_sym[-1])\n",
    "eq_18_shift = Eq(f[n], f[n-18]+8*f[n-17]+36*f[n-16]+84*f[n-15]+126*f[n-14]+126*f[n-13]+84*f[n-12]+36*f[n-11]+9*f[n-10]+f[n-9])\n",
    "eq_17, eq_18_shift"
   ]
  },
  {
   "cell_type": "code",
   "execution_count": 28,
   "metadata": {
    "collapsed": false
   },
   "outputs": [
    {
     "data": {
      "image/png": "[encoded data removed]",
      "text/latex": [
       "$$\\left [ 1, \\quad 1, \\quad 2, \\quad 3, \\quad 5, \\quad 8, \\quad 13, \\quad 21, \\quad 34, \\quad 55, \\quad 89, \\quad 144, \\quad 233, \\quad 377\\right ]$$"
      ],
      "text/plain": [
       "[1, 1, 2, 3, 5, 8, 13, 21, 34, 55, 89, 144, 233, 377]"
      ]
     },
     "execution_count": 28,
     "metadata": {},
     "output_type": "execute_result"
    }
   ],
   "source": [
    "[eq_18_shift.subs(n,i).lhs.subs(fibs) - eq_18_shift.subs(n,i).rhs.subs(fibs) for i in range(18,32)]"
   ]
  },
  {
   "cell_type": "markdown",
   "metadata": {},
   "source": [
    "again, fibonacci numbers, [A000045][oeis].\n",
    "\n",
    "[oeis]:http://oeis.org/A000045"
   ]
  },
  {
   "cell_type": "code",
   "execution_count": 14,
   "metadata": {
    "collapsed": false
   },
   "outputs": [
    {
     "data": {
      "image/png": "[encoded data removed]",
      "text/latex": [
       "$$\\left[\\begin{matrix}f_{2}\\\\f_{4}\\\\f_{6}\\\\f_{8}\\\\f_{10}\\\\f_{12}\\\\f_{14}\\\\f_{16}\\\\f_{18}\\end{matrix}\\right] = \\left[\\begin{matrix}f_{-1} + f_{0}\\\\2 f_{-1} + 2 f_{0} + f_{1}\\\\3 f_{-1} + 4 f_{0} + 4 f_{1} + f_{2}\\\\4 f_{-1} + 7 f_{0} + 10 f_{1} + 5 f_{2} + f_{3}\\\\5 f_{-1} + 11 f_{0} + 20 f_{1} + 15 f_{2} + 6 f_{3} + f_{4}\\\\6 f_{-1} + 16 f_{0} + 35 f_{1} + 35 f_{2} + 21 f_{3} + 7 f_{4} + f_{5}\\\\7 f_{-1} + 22 f_{0} + 56 f_{1} + 70 f_{2} + 56 f_{3} + 28 f_{4} + 8 f_{5} + f_{6}\\\\8 f_{-1} + 29 f_{0} + 84 f_{1} + 126 f_{2} + 126 f_{3} + 84 f_{4} + 36 f_{5} + 9 f_{6} + f_{7}\\\\9 f_{-1} + 37 f_{0} + 120 f_{1} + 210 f_{2} + 252 f_{3} + 210 f_{4} + 120 f_{5} + 45 f_{6} + 10 f_{7} + f_{8}\\end{matrix}\\right]$$"
      ],
      "text/plain": [
       "⎡f[2] ⎤ = ⎡                                           f[-1] + f[0]            \n",
       "⎢     ⎥   ⎢                                                                   \n",
       "⎢f[4] ⎥   ⎢                                      2⋅f[-1] + 2⋅f[0] + f[1]      \n",
       "⎢     ⎥   ⎢                                                                   \n",
       "⎢f[6] ⎥   ⎢                                 3⋅f[-1] + 4⋅f[0] + 4⋅f[1] + f[2]  \n",
       "⎢     ⎥   ⎢                                                                   \n",
       "⎢f[8] ⎥   ⎢                            4⋅f[-1] + 7⋅f[0] + 10⋅f[1] + 5⋅f[2] + f\n",
       "⎢     ⎥   ⎢                                                                   \n",
       "⎢f[10]⎥   ⎢                       5⋅f[-1] + 11⋅f[0] + 20⋅f[1] + 15⋅f[2] + 6⋅f[\n",
       "⎢     ⎥   ⎢                                                                   \n",
       "⎢f[12]⎥   ⎢                  6⋅f[-1] + 16⋅f[0] + 35⋅f[1] + 35⋅f[2] + 21⋅f[3] +\n",
       "⎢     ⎥   ⎢                                                                   \n",
       "⎢f[14]⎥   ⎢             7⋅f[-1] + 22⋅f[0] + 56⋅f[1] + 70⋅f[2] + 56⋅f[3] + 28⋅f\n",
       "⎢     ⎥   ⎢                                                                   \n",
       "⎢f[16]⎥   ⎢       8⋅f[-1] + 29⋅f[0] + 84⋅f[1] + 126⋅f[2] + 126⋅f[3] + 84⋅f[4] \n",
       "⎢     ⎥   ⎢                                                                   \n",
       "⎣f[18]⎦   ⎣9⋅f[-1] + 37⋅f[0] + 120⋅f[1] + 210⋅f[2] + 252⋅f[3] + 210⋅f[4] + 120\n",
       "\n",
       "                                ⎤\n",
       "                                ⎥\n",
       "                                ⎥\n",
       "                                ⎥\n",
       "                                ⎥\n",
       "                                ⎥\n",
       "[3]                             ⎥\n",
       "                                ⎥\n",
       "3] + f[4]                       ⎥\n",
       "                                ⎥\n",
       " 7⋅f[4] + f[5]                  ⎥\n",
       "                                ⎥\n",
       "[4] + 8⋅f[5] + f[6]             ⎥\n",
       "                                ⎥\n",
       "+ 36⋅f[5] + 9⋅f[6] + f[7]       ⎥\n",
       "                                ⎥\n",
       "⋅f[5] + 45⋅f[6] + 10⋅f[7] + f[8]⎦"
      ]
     },
     "execution_count": 14,
     "metadata": {},
     "output_type": "execute_result"
    }
   ],
   "source": [
    "from itertools import accumulate\n",
    "\n",
    "to_accumulate = rhs_sym + ones(9,1)*f[-1]\n",
    "even_rhs = Matrix(list(accumulate(to_accumulate, lambda folded, current_row: Add(folded, current_row) )))\n",
    "\n",
    "even_lhs = Matrix([f[i] for i in range(2,19,2)])\n",
    "\n",
    "even_fibs_matrix_eq = Eq(even_lhs, even_rhs)\n",
    "even_fibs_matrix_eq"
   ]
  },
  {
   "cell_type": "code",
   "execution_count": 30,
   "metadata": {
    "collapsed": false
   },
   "outputs": [
    {
     "data": {
      "image/png": "[encoded data removed]",
      "text/latex": [
       "$$\\left[\\begin{matrix}1 & 0 & 0 & 0 & 0 & 0 & 0 & 0 & 0\\\\2 & 1 & 0 & 0 & 0 & 0 & 0 & 0 & 0\\\\4 & 4 & 1 & 0 & 0 & 0 & 0 & 0 & 0\\\\7 & 10 & 5 & 1 & 0 & 0 & 0 & 0 & 0\\\\11 & 20 & 15 & 6 & 1 & 0 & 0 & 0 & 0\\\\16 & 35 & 35 & 21 & 7 & 1 & 0 & 0 & 0\\\\22 & 56 & 70 & 56 & 28 & 8 & 1 & 0 & 0\\\\29 & 84 & 126 & 126 & 84 & 36 & 9 & 1 & 0\\\\37 & 120 & 210 & 252 & 210 & 120 & 45 & 10 & 1\\end{matrix}\\right]$$"
      ],
      "text/plain": [
       "⎡1    0    0    0    0    0   0   0   0⎤\n",
       "⎢                                      ⎥\n",
       "⎢2    1    0    0    0    0   0   0   0⎥\n",
       "⎢                                      ⎥\n",
       "⎢4    4    1    0    0    0   0   0   0⎥\n",
       "⎢                                      ⎥\n",
       "⎢7   10    5    1    0    0   0   0   0⎥\n",
       "⎢                                      ⎥\n",
       "⎢11  20   15    6    1    0   0   0   0⎥\n",
       "⎢                                      ⎥\n",
       "⎢16  35   35   21    7    1   0   0   0⎥\n",
       "⎢                                      ⎥\n",
       "⎢22  56   70   56   28    8   1   0   0⎥\n",
       "⎢                                      ⎥\n",
       "⎢29  84   126  126  84   36   9   1   0⎥\n",
       "⎢                                      ⎥\n",
       "⎣37  120  210  252  210  120  45  10  1⎦"
      ]
     },
     "execution_count": 30,
     "metadata": {},
     "output_type": "execute_result"
    }
   ],
   "source": [
    "even_transformed_matrix = Matrix([\n",
    "        [1,0,0,0,0,0,0,0,0],\n",
    "        [2,1,0,0,0,0,0,0,0],\n",
    "        [4,4,1,0,0,0,0,0,0],\n",
    "        [7,10,5,1,0,0,0,0,0],\n",
    "        [11,20,15,6,1,0,0,0,0],\n",
    "        [16,35,35,21,7,1,0,0,0],\n",
    "        [22,56,70,56,28,8,1,0,0],\n",
    "        [29,84,126,126,84,36,9,1,0],\n",
    "        [37,120,210,252,210,120,45,10,1]])\n",
    "even_transformed_matrix"
   ]
  },
  {
   "cell_type": "code",
   "execution_count": 31,
   "metadata": {
    "collapsed": false
   },
   "outputs": [
    {
     "data": {
      "image/png": "[encoded data removed]",
      "text/latex": [
       "$$\\left[\\begin{matrix}1 & 0 & 0 & 0 & 0 & 0 & 0 & 0 & 0\\\\1 & 1 & 0 & 0 & 0 & 0 & 0 & 0 & 0\\\\1 & 2 & 1 & 0 & 0 & 0 & 0 & 0 & 0\\\\0 & 1 & 2 & 1 & 0 & 0 & 0 & 0 & 0\\\\0 & 0 & 1 & 2 & 1 & 0 & 0 & 0 & 0\\\\0 & 0 & 0 & 1 & 2 & 1 & 0 & 0 & 0\\\\0 & 0 & 0 & 0 & 1 & 2 & 1 & 0 & 0\\\\0 & 0 & 0 & 0 & 0 & 1 & 2 & 1 & 0\\\\0 & 0 & 0 & 0 & 0 & 0 & 1 & 2 & 1\\end{matrix}\\right]$$"
      ],
      "text/plain": [
       "⎡1  0  0  0  0  0  0  0  0⎤\n",
       "⎢                         ⎥\n",
       "⎢1  1  0  0  0  0  0  0  0⎥\n",
       "⎢                         ⎥\n",
       "⎢1  2  1  0  0  0  0  0  0⎥\n",
       "⎢                         ⎥\n",
       "⎢0  1  2  1  0  0  0  0  0⎥\n",
       "⎢                         ⎥\n",
       "⎢0  0  1  2  1  0  0  0  0⎥\n",
       "⎢                         ⎥\n",
       "⎢0  0  0  1  2  1  0  0  0⎥\n",
       "⎢                         ⎥\n",
       "⎢0  0  0  0  1  2  1  0  0⎥\n",
       "⎢                         ⎥\n",
       "⎢0  0  0  0  0  1  2  1  0⎥\n",
       "⎢                         ⎥\n",
       "⎣0  0  0  0  0  0  1  2  1⎦"
      ]
     },
     "execution_count": 31,
     "metadata": {},
     "output_type": "execute_result"
    }
   ],
   "source": [
    "even_transforming_matrix = (pascal_matrix**(-1))*even_transformed_matrix\n",
    "even_transforming_matrix"
   ]
  },
  {
   "cell_type": "code",
   "execution_count": 32,
   "metadata": {
    "collapsed": false
   },
   "outputs": [
    {
     "data": {
      "image/png": "[encoded data removed]",
      "text/latex": [
       "$$\\left[\\begin{matrix}1 & 0 & 0 & 0 & 0 & 0 & 0 & 0 & 0\\\\1 & 1 & 0 & 0 & 0 & 0 & 0 & 0 & 0\\\\0 & 2 & 1 & 0 & 0 & 0 & 0 & 0 & 0\\\\-3 & -1 & 2 & 1 & 0 & 0 & 0 & 0 & 0\\\\-5 & -8 & -2 & 2 & 1 & 0 & 0 & 0 & 0\\\\-1 & -9 & -11 & -3 & 2 & 1 & 0 & 0 & 0\\\\8 & 6 & -10 & -14 & -4 & 2 & 1 & 0 & 0\\\\12 & 27 & 16 & -10 & -17 & -5 & 2 & 1 & 0\\\\2 & 24 & 47 & 30 & -9 & -20 & -6 & 2 & 1\\end{matrix}\\right]$$"
      ],
      "text/plain": [
       "⎡1   0    0    0    0    0   0   0  0⎤\n",
       "⎢                                    ⎥\n",
       "⎢1   1    0    0    0    0   0   0  0⎥\n",
       "⎢                                    ⎥\n",
       "⎢0   2    1    0    0    0   0   0  0⎥\n",
       "⎢                                    ⎥\n",
       "⎢-3  -1   2    1    0    0   0   0  0⎥\n",
       "⎢                                    ⎥\n",
       "⎢-5  -8  -2    2    1    0   0   0  0⎥\n",
       "⎢                                    ⎥\n",
       "⎢-1  -9  -11  -3    2    1   0   0  0⎥\n",
       "⎢                                    ⎥\n",
       "⎢8   6   -10  -14  -4    2   1   0  0⎥\n",
       "⎢                                    ⎥\n",
       "⎢12  27  16   -10  -17  -5   2   1  0⎥\n",
       "⎢                                    ⎥\n",
       "⎣2   24  47   30   -9   -20  -6  2  1⎦"
      ]
     },
     "execution_count": 32,
     "metadata": {},
     "output_type": "execute_result"
    }
   ],
   "source": [
    "(catalan_matrix**(-1) )*even_transformed_matrix"
   ]
  },
  {
   "cell_type": "code",
   "execution_count": 33,
   "metadata": {
    "collapsed": false
   },
   "outputs": [
    {
     "data": {
      "image/png": "[encoded data removed]",
      "text/latex": [
       "$$\\left[\\begin{matrix}1 & 0 & 0 & 0 & 0 & 0 & 0 & 0 & 0\\\\1 & 0 & 0 & 0 & 0 & 0 & 0 & 0 & 0\\\\2 & 1 & 0 & 0 & 0 & 0 & 0 & 0 & 0\\\\2 & 3 & 1 & 0 & 0 & 0 & 0 & 0 & 0\\\\-1 & 2 & 3 & 1 & 0 & 0 & 0 & 0 & 0\\\\-6 & -6 & 1 & 3 & 1 & 0 & 0 & 0 & 0\\\\-7 & -15 & -10 & 0 & 3 & 1 & 0 & 0 & 0\\\\1 & -9 & -20 & -14 & -1 & 3 & 1 & 0 & 0\\\\13 & 18 & -4 & -24 & -18 & -2 & 3 & 1 & 0\\end{matrix}\\right]$$"
      ],
      "text/plain": [
       "⎡1    0    0    0    0   0   0  0  0⎤\n",
       "⎢                                   ⎥\n",
       "⎢1    0    0    0    0   0   0  0  0⎥\n",
       "⎢                                   ⎥\n",
       "⎢2    1    0    0    0   0   0  0  0⎥\n",
       "⎢                                   ⎥\n",
       "⎢2    3    1    0    0   0   0  0  0⎥\n",
       "⎢                                   ⎥\n",
       "⎢-1   2    3    1    0   0   0  0  0⎥\n",
       "⎢                                   ⎥\n",
       "⎢-6  -6    1    3    1   0   0  0  0⎥\n",
       "⎢                                   ⎥\n",
       "⎢-7  -15  -10   0    3   1   0  0  0⎥\n",
       "⎢                                   ⎥\n",
       "⎢1   -9   -20  -14  -1   3   1  0  0⎥\n",
       "⎢                                   ⎥\n",
       "⎣13  18   -4   -24  -18  -2  3  1  0⎦"
      ]
     },
     "execution_count": 33,
     "metadata": {},
     "output_type": "execute_result"
    }
   ],
   "source": [
    "catalan_inverse_matrix * even_transformed_matrix"
   ]
  },
  {
   "cell_type": "code",
   "execution_count": 34,
   "metadata": {
    "collapsed": false
   },
   "outputs": [
    {
     "data": {
      "image/png": "[encoded data removed]",
      "text/latex": [
       "$$\\left[\\begin{matrix}f_{0}\\\\f_{0} + f_{1}\\\\f_{0} + 2 f_{1} + f_{2}\\\\f_{1} + 2 f_{2} + f_{3}\\\\f_{2} + 2 f_{3} + f_{4}\\\\f_{3} + 2 f_{4} + f_{5}\\\\f_{4} + 2 f_{5} + f_{6}\\\\f_{5} + 2 f_{6} + f_{7}\\\\f_{6} + 2 f_{7} + f_{8}\\end{matrix}\\right]$$"
      ],
      "text/plain": [
       "⎡        f[0]        ⎤\n",
       "⎢                    ⎥\n",
       "⎢    f[0] + f[1]     ⎥\n",
       "⎢                    ⎥\n",
       "⎢f[0] + 2⋅f[1] + f[2]⎥\n",
       "⎢                    ⎥\n",
       "⎢f[1] + 2⋅f[2] + f[3]⎥\n",
       "⎢                    ⎥\n",
       "⎢f[2] + 2⋅f[3] + f[4]⎥\n",
       "⎢                    ⎥\n",
       "⎢f[3] + 2⋅f[4] + f[5]⎥\n",
       "⎢                    ⎥\n",
       "⎢f[4] + 2⋅f[5] + f[6]⎥\n",
       "⎢                    ⎥\n",
       "⎢f[5] + 2⋅f[6] + f[7]⎥\n",
       "⎢                    ⎥\n",
       "⎣f[6] + 2⋅f[7] + f[8]⎦"
      ]
     },
     "execution_count": 34,
     "metadata": {},
     "output_type": "execute_result"
    }
   ],
   "source": [
    "even_transforming_matrix * fib_matrix_sym"
   ]
  },
  {
   "cell_type": "code",
   "execution_count": 47,
   "metadata": {
    "collapsed": false
   },
   "outputs": [
    {
     "data": {
      "image/png": "[encoded data removed]",
      "text/latex": [
       "$$\\left[\\begin{matrix}f_{2} - 1\\\\f_{4} - 2\\\\f_{6} - 3\\\\f_{8} - 4\\\\f_{10} - 5\\\\f_{12} - 6\\\\f_{14} - 7\\\\f_{16} - 8\\\\f_{18} - 9\\end{matrix}\\right] = \\left[\\begin{matrix}f_{0}\\\\2 f_{0} + f_{1}\\\\4 f_{0} + 4 f_{1} + f_{2}\\\\7 f_{0} + 10 f_{1} + 5 f_{2} + f_{3}\\\\11 f_{0} + 20 f_{1} + 15 f_{2} + 6 f_{3} + f_{4}\\\\16 f_{0} + 35 f_{1} + 35 f_{2} + 21 f_{3} + 7 f_{4} + f_{5}\\\\22 f_{0} + 56 f_{1} + 70 f_{2} + 56 f_{3} + 28 f_{4} + 8 f_{5} + f_{6}\\\\29 f_{0} + 84 f_{1} + 126 f_{2} + 126 f_{3} + 84 f_{4} + 36 f_{5} + 9 f_{6} + f_{7}\\\\37 f_{0} + 120 f_{1} + 210 f_{2} + 252 f_{3} + 210 f_{4} + 120 f_{5} + 45 f_{6} + 10 f_{7} + f_{8}\\end{matrix}\\right]$$"
      ],
      "text/plain": [
       "⎡f[2] - 1 ⎤ = ⎡                                          f[0]                 \n",
       "⎢         ⎥   ⎢                                                               \n",
       "⎢f[4] - 2 ⎥   ⎢                                      2⋅f[0] + f[1]            \n",
       "⎢         ⎥   ⎢                                                               \n",
       "⎢f[6] - 3 ⎥   ⎢                                 4⋅f[0] + 4⋅f[1] + f[2]        \n",
       "⎢         ⎥   ⎢                                                               \n",
       "⎢f[8] - 4 ⎥   ⎢                            7⋅f[0] + 10⋅f[1] + 5⋅f[2] + f[3]   \n",
       "⎢         ⎥   ⎢                                                               \n",
       "⎢f[10] - 5⎥   ⎢                       11⋅f[0] + 20⋅f[1] + 15⋅f[2] + 6⋅f[3] + f\n",
       "⎢         ⎥   ⎢                                                               \n",
       "⎢f[12] - 6⎥   ⎢                  16⋅f[0] + 35⋅f[1] + 35⋅f[2] + 21⋅f[3] + 7⋅f[4\n",
       "⎢         ⎥   ⎢                                                               \n",
       "⎢f[14] - 7⎥   ⎢             22⋅f[0] + 56⋅f[1] + 70⋅f[2] + 56⋅f[3] + 28⋅f[4] + \n",
       "⎢         ⎥   ⎢                                                               \n",
       "⎢f[16] - 8⎥   ⎢       29⋅f[0] + 84⋅f[1] + 126⋅f[2] + 126⋅f[3] + 84⋅f[4] + 36⋅f\n",
       "⎢         ⎥   ⎢                                                               \n",
       "⎣f[18] - 9⎦   ⎣37⋅f[0] + 120⋅f[1] + 210⋅f[2] + 252⋅f[3] + 210⋅f[4] + 120⋅f[5] \n",
       "\n",
       "                          ⎤\n",
       "                          ⎥\n",
       "                          ⎥\n",
       "                          ⎥\n",
       "                          ⎥\n",
       "                          ⎥\n",
       "                          ⎥\n",
       "                          ⎥\n",
       "[4]                       ⎥\n",
       "                          ⎥\n",
       "] + f[5]                  ⎥\n",
       "                          ⎥\n",
       "8⋅f[5] + f[6]             ⎥\n",
       "                          ⎥\n",
       "[5] + 9⋅f[6] + f[7]       ⎥\n",
       "                          ⎥\n",
       "+ 45⋅f[6] + 10⋅f[7] + f[8]⎦"
      ]
     },
     "execution_count": 47,
     "metadata": {},
     "output_type": "execute_result"
    }
   ],
   "source": [
    "even_vector_eq_sym = Eq(even_lhs - Matrix(list(range(1,10))), \n",
    "                        pascal_matrix * even_transforming_matrix * fib_matrix_sym)\n",
    "even_vector_eq_sym"
   ]
  },
  {
   "cell_type": "code",
   "execution_count": 49,
   "metadata": {
    "collapsed": false
   },
   "outputs": [
    {
     "data": {
      "image/png": "[encoded data removed]",
      "text/latex": [
       "$$\\left[\\begin{matrix}f_{2} - 1\\\\f_{4} - 2\\\\f_{6} - 3\\\\f_{8} - 4\\\\f_{10} - 5\\\\f_{12} - 6\\\\f_{14} - 7\\\\f_{16} - 8\\\\f_{18} - 9\\end{matrix}\\right] = \\left[\\begin{matrix}0\\\\f_{1}\\\\4 f_{1} + f_{2}\\\\10 f_{1} + 5 f_{2} + f_{3}\\\\20 f_{1} + 15 f_{2} + 6 f_{3} + f_{4}\\\\35 f_{1} + 35 f_{2} + 21 f_{3} + 7 f_{4} + f_{5}\\\\56 f_{1} + 70 f_{2} + 56 f_{3} + 28 f_{4} + 8 f_{5} + f_{6}\\\\84 f_{1} + 126 f_{2} + 126 f_{3} + 84 f_{4} + 36 f_{5} + 9 f_{6} + f_{7}\\\\120 f_{1} + 210 f_{2} + 252 f_{3} + 210 f_{4} + 120 f_{5} + 45 f_{6} + 10 f_{7} + f_{8}\\end{matrix}\\right]$$"
      ],
      "text/plain": [
       "⎡f[2] - 1 ⎤ = ⎡                                       0                       \n",
       "⎢         ⎥   ⎢                                                               \n",
       "⎢f[4] - 2 ⎥   ⎢                                     f[1]                      \n",
       "⎢         ⎥   ⎢                                                               \n",
       "⎢f[6] - 3 ⎥   ⎢                                 4⋅f[1] + f[2]                 \n",
       "⎢         ⎥   ⎢                                                               \n",
       "⎢f[8] - 4 ⎥   ⎢                            10⋅f[1] + 5⋅f[2] + f[3]            \n",
       "⎢         ⎥   ⎢                                                               \n",
       "⎢f[10] - 5⎥   ⎢                       20⋅f[1] + 15⋅f[2] + 6⋅f[3] + f[4]       \n",
       "⎢         ⎥   ⎢                                                               \n",
       "⎢f[12] - 6⎥   ⎢                  35⋅f[1] + 35⋅f[2] + 21⋅f[3] + 7⋅f[4] + f[5]  \n",
       "⎢         ⎥   ⎢                                                               \n",
       "⎢f[14] - 7⎥   ⎢             56⋅f[1] + 70⋅f[2] + 56⋅f[3] + 28⋅f[4] + 8⋅f[5] + f\n",
       "⎢         ⎥   ⎢                                                               \n",
       "⎢f[16] - 8⎥   ⎢       84⋅f[1] + 126⋅f[2] + 126⋅f[3] + 84⋅f[4] + 36⋅f[5] + 9⋅f[\n",
       "⎢         ⎥   ⎢                                                               \n",
       "⎣f[18] - 9⎦   ⎣120⋅f[1] + 210⋅f[2] + 252⋅f[3] + 210⋅f[4] + 120⋅f[5] + 45⋅f[6] \n",
       "\n",
       "                ⎤\n",
       "                ⎥\n",
       "                ⎥\n",
       "                ⎥\n",
       "                ⎥\n",
       "                ⎥\n",
       "                ⎥\n",
       "                ⎥\n",
       "                ⎥\n",
       "                ⎥\n",
       "                ⎥\n",
       "                ⎥\n",
       "[6]             ⎥\n",
       "                ⎥\n",
       "6] + f[7]       ⎥\n",
       "                ⎥\n",
       "+ 10⋅f[7] + f[8]⎦"
      ]
     },
     "execution_count": 49,
     "metadata": {},
     "output_type": "execute_result"
    }
   ],
   "source": [
    "even_vector_eq_sym.subs(fib0_term, fibs[fib0_term])"
   ]
  },
  {
   "cell_type": "markdown",
   "metadata": {},
   "source": [
    "Since coefficient in the triangle on the rhs are a part of Pascal triangle, namely [A104713][oeis], the following is a generalization:\n",
    "$$\n",
    "    f_{2n} - n = \\sum_{k=1}^{n-1}{{{n+1}\\choose{k+2}}f_{k}}\n",
    "$$\n",
    "\n",
    "[oeis]:http://oeis.org/A104713"
   ]
  },
  {
   "cell_type": "code",
   "execution_count": 51,
   "metadata": {
    "collapsed": false
   },
   "outputs": [
    {
     "data": {
      "image/png": "[encoded data removed]",
      "text/latex": [
       "$$- n + f_{2 n} = \\sum_{k=1}^{n - 1} {\\binom{n + 1}{k + 2}} f_{k} = \\sum_{k=1}^{n - 1} {\\binom{n + 1}{- k + n - 1}} f_{k}$$"
      ],
      "text/plain": [
       "              n - 1                n - 1                  \n",
       "               ____                 ____                  \n",
       "               ╲                    ╲                     \n",
       "                ╲   ⎛n + 1⎞          ╲   ⎛  n + 1   ⎞     \n",
       "                 ╲  ⎜     ⎟⋅f[k]      ╲  ⎜          ⎟⋅f[k]\n",
       "-n + f[2*n] =    ╱  ⎝k + 2⎠      =    ╱  ⎝-k + n - 1⎠     \n",
       "                ╱                    ╱                    \n",
       "               ╱                    ╱                     \n",
       "               ‾‾‾‾                 ‾‾‾‾                  \n",
       "              k = 1                k = 1                  "
      ]
     },
     "execution_count": 51,
     "metadata": {},
     "output_type": "execute_result"
    }
   ],
   "source": [
    "gen_even_fibs = Eq(f[2*n]-n, Sum(binomial(n+1, k+2)*f[k], (k,1,n-1)))\n",
    "Eq(gen_even_fibs, Sum(binomial(n+1, n-k-1)*f[k], (k,1,n-1)))"
   ]
  },
  {
   "cell_type": "code",
   "execution_count": 57,
   "metadata": {
    "collapsed": false
   },
   "outputs": [
    {
     "data": {
      "image/png": "[encoded data removed]",
      "text/latex": [
       "$$f_{18} - 9 = 120 f_{1} + 210 f_{2} + 252 f_{3} + 210 f_{4} + 120 f_{5} + 45 f_{6} + 10 f_{7} + f_{8}$$"
      ],
      "text/plain": [
       "f[18] - 9 = 120⋅f[1] + 210⋅f[2] + 252⋅f[3] + 210⋅f[4] + 120⋅f[5] + 45⋅f[6] + 1\n",
       "0⋅f[7] + f[8]"
      ]
     },
     "execution_count": 57,
     "metadata": {},
     "output_type": "execute_result"
    }
   ],
   "source": [
    "expand_sum_in_eq(gen_even_fibs.subs(n, 9))"
   ]
  },
  {
   "cell_type": "code",
   "execution_count": 36,
   "metadata": {
    "collapsed": false
   },
   "outputs": [
    {
     "data": {
      "image/png": "[encoded data removed]",
      "text/latex": [
       "$$\\left[\\begin{matrix}f_{2}\\\\f_{4}\\\\f_{6}\\\\f_{8}\\\\f_{10}\\\\f_{12}\\\\f_{14}\\\\f_{16}\\\\f_{18}\\end{matrix}\\right] = \\left[\\begin{matrix}1\\\\3\\\\8\\\\21\\\\55\\\\144\\\\377\\\\987\\\\2584\\end{matrix}\\right] = \\left[\\begin{matrix}f_{-1}\\\\2 f_{-1} + 1\\\\3 f_{-1} + 5\\\\4 f_{-1} + 17\\\\5 f_{-1} + 50\\\\6 f_{-1} + 138\\\\7 f_{-1} + 370\\\\8 f_{-1} + 979\\\\9 f_{-1} + 2575\\end{matrix}\\right]$$"
      ],
      "text/plain": [
       "⎡f[2] ⎤ = ⎡ 1  ⎤ = ⎡    f[-1]     ⎤\n",
       "⎢     ⎥   ⎢    ⎥   ⎢              ⎥\n",
       "⎢f[4] ⎥   ⎢ 3  ⎥   ⎢ 2⋅f[-1] + 1  ⎥\n",
       "⎢     ⎥   ⎢    ⎥   ⎢              ⎥\n",
       "⎢f[6] ⎥   ⎢ 8  ⎥   ⎢ 3⋅f[-1] + 5  ⎥\n",
       "⎢     ⎥   ⎢    ⎥   ⎢              ⎥\n",
       "⎢f[8] ⎥   ⎢ 21 ⎥   ⎢ 4⋅f[-1] + 17 ⎥\n",
       "⎢     ⎥   ⎢    ⎥   ⎢              ⎥\n",
       "⎢f[10]⎥   ⎢ 55 ⎥   ⎢ 5⋅f[-1] + 50 ⎥\n",
       "⎢     ⎥   ⎢    ⎥   ⎢              ⎥\n",
       "⎢f[12]⎥   ⎢144 ⎥   ⎢6⋅f[-1] + 138 ⎥\n",
       "⎢     ⎥   ⎢    ⎥   ⎢              ⎥\n",
       "⎢f[14]⎥   ⎢377 ⎥   ⎢7⋅f[-1] + 370 ⎥\n",
       "⎢     ⎥   ⎢    ⎥   ⎢              ⎥\n",
       "⎢f[16]⎥   ⎢987 ⎥   ⎢8⋅f[-1] + 979 ⎥\n",
       "⎢     ⎥   ⎢    ⎥   ⎢              ⎥\n",
       "⎣f[18]⎦   ⎣2584⎦   ⎣9⋅f[-1] + 2575⎦"
      ]
     },
     "execution_count": 36,
     "metadata": {},
     "output_type": "execute_result"
    }
   ],
   "source": [
    "even_fibs_matrix_eq_minus1_appear = even_fibs_matrix_eq.subs(fibs)\n",
    "Eq(even_fibs_matrix_eq.lhs, even_fibs_matrix_eq_minus1_appear, evaluate=False)"
   ]
  },
  {
   "cell_type": "markdown",
   "metadata": {},
   "source": [
    "summands on the rhs form a known sequence [A054452][oeis].\n",
    "\n",
    "[oeis]:http://oeis.org/A054452"
   ]
  },
  {
   "cell_type": "code",
   "execution_count": 37,
   "metadata": {
    "collapsed": false
   },
   "outputs": [
    {
     "data": {
      "image/png": "[encoded data removed]",
      "text/latex": [
       "$$\\left [ 0, \\quad 1, \\quad 5, \\quad 17, \\quad 50, \\quad 138, \\quad 370, \\quad 979, \\quad 2575, \\quad 6755, \\quad 17700, \\quad 46356, \\quad 121380, \\quad 317797, \\quad 832025, \\quad 2178293, \\quad 5702870, \\quad 14930334, \\quad 39088150, \\quad 102334135, \\quad 267914275\\right ]$$"
      ],
      "text/plain": [
       "[0, 1, 5, 17, 50, 138, 370, 979, 2575, 6755, 17700, 46356, 121380, 317797, 832\n",
       "025, 2178293, 5702870, 14930334, 39088150, 102334135, 267914275]"
      ]
     },
     "execution_count": 37,
     "metadata": {},
     "output_type": "execute_result"
    }
   ],
   "source": [
    "list(accumulate([fibonacci(2*i+1)-1 for i in range(21)]))"
   ]
  },
  {
   "cell_type": "code",
   "execution_count": 38,
   "metadata": {
    "collapsed": false
   },
   "outputs": [
    {
     "data": {
      "image/png": "[encoded data removed]",
      "text/latex": [
       "$$1 + 2 t + 3 t^{2} + 4 t^{3} + 5 t^{4} + 6 t^{5} + 7 t^{6} + 8 t^{7} + 9 t^{8} + 10 t^{9} + 11 t^{10} + 12 t^{11} + 13 t^{12} + 14 t^{13} + 15 t^{14} + 16 t^{15} + 17 t^{16} + 18 t^{17} + 19 t^{18} + 20 t^{19} + \\mathcal{O}\\left(t^{20}\\right)$$"
      ],
      "text/plain": [
       "             2      3      4      5      6      7      8       9       10     \n",
       "1 + 2⋅t + 3⋅t  + 4⋅t  + 5⋅t  + 6⋅t  + 7⋅t  + 8⋅t  + 9⋅t  + 10⋅t  + 11⋅t   + 12\n",
       "\n",
       "  11       12       13       14       15       16       17       18       19  \n",
       "⋅t   + 13⋅t   + 14⋅t   + 15⋅t   + 16⋅t   + 17⋅t   + 18⋅t   + 19⋅t   + 20⋅t   +\n",
       "\n",
       "  ⎛ 20⎞\n",
       " O⎝t  ⎠"
      ]
     },
     "execution_count": 38,
     "metadata": {},
     "output_type": "execute_result"
    }
   ],
   "source": [
    "def n_gf(t): return 1/(1-t)**2\n",
    "\n",
    "n_gf(t).series(n=20)"
   ]
  },
  {
   "cell_type": "code",
   "execution_count": 39,
   "metadata": {
    "collapsed": false
   },
   "outputs": [
    {
     "data": {
      "image/png": "[encoded data removed]",
      "text/latex": [
       "$$1 + 3 t^{2} + 5 t^{4} + 7 t^{6} + 9 t^{8} + 11 t^{10} + 13 t^{12} + 15 t^{14} + 17 t^{16} + 19 t^{18} + \\mathcal{O}\\left(t^{20}\\right)$$"
      ],
      "text/plain": [
       "       2      4      6      8       10       12       14       16       18    \n",
       "1 + 3⋅t  + 5⋅t  + 7⋅t  + 9⋅t  + 11⋅t   + 13⋅t   + 15⋅t   + 17⋅t   + 19⋅t   + O\n",
       "\n",
       "⎛ 20⎞\n",
       "⎝t  ⎠"
      ]
     },
     "execution_count": 39,
     "metadata": {},
     "output_type": "execute_result"
    }
   ],
   "source": [
    "def odd_integers_gf(t): return ((n_gf(t)+n_gf(-t))/2).simplify()\n",
    "\n",
    "odd_integers_gf(t).series(n=20)"
   ]
  },
  {
   "cell_type": "code",
   "execution_count": 40,
   "metadata": {
    "collapsed": false
   },
   "outputs": [
    {
     "data": {
      "image/png": "[encoded data removed]",
      "text/latex": [
       "$$-1 + 6 t^{2} - 35 t^{4} + 215 t^{6} - 1316 t^{8} + 8051 t^{10} - 49261 t^{12} + 301406 t^{14} - 1844167 t^{16} + 11283627 t^{18} + \\mathcal{O}\\left(t^{20}\\right)$$"
      ],
      "text/plain": [
       "        2       4        6         8         10          12           14      \n",
       "-1 + 6⋅t  - 35⋅t  + 215⋅t  - 1316⋅t  + 8051⋅t   - 49261⋅t   + 301406⋅t   - 184\n",
       "\n",
       "      16             18    ⎛ 20⎞\n",
       "4167⋅t   + 11283627⋅t   + O⎝t  ⎠"
      ]
     },
     "execution_count": 40,
     "metadata": {},
     "output_type": "execute_result"
    }
   ],
   "source": [
    "# here is the error: we should use the generating function of F(2n+1) instead of F(n) as done here!\n",
    "def fib_gf(t): return t/(1-t-t**2)\n",
    "\n",
    "fib_gf(odd_integers_gf(t)).series(n=20)"
   ]
  },
  {
   "cell_type": "code",
   "execution_count": 41,
   "metadata": {
    "collapsed": false
   },
   "outputs": [
    {
     "data": {
      "image/png": "[encoded data removed]",
      "text/latex": [
       "$$1 + 3 t + 5 t^{2} + 8 t^{3} + 12 t^{4} + 18 t^{5} + 27 t^{6} + 41 t^{7} + 63 t^{8} + 98 t^{9} + \\mathcal{O}\\left(t^{10}\\right)$$"
      ],
      "text/plain": [
       "             2      3       4       5       6       7       8       9    ⎛ 10⎞\n",
       "1 + 3⋅t + 5⋅t  + 8⋅t  + 12⋅t  + 18⋅t  + 27⋅t  + 41⋅t  + 63⋅t  + 98⋅t  + O⎝t  ⎠"
      ]
     },
     "execution_count": 41,
     "metadata": {},
     "output_type": "execute_result"
    }
   ],
   "source": [
    "def even_fibs_gf(t): return n_gf(t) + fib_gf(t)/(1-t)\n",
    "\n",
    "even_fibs_gf(t).series(n=10)"
   ]
  },
  {
   "cell_type": "code",
   "execution_count": 42,
   "metadata": {
    "collapsed": false
   },
   "outputs": [
    {
     "data": {
      "image/png": "[encoded data removed]",
      "text/latex": [
       "$$\\mathrm{True}$$"
      ],
      "text/plain": [
       "True"
      ]
     },
     "execution_count": 42,
     "metadata": {},
     "output_type": "execute_result"
    }
   ],
   "source": [
    "even_fibs_matrix_eq_minus1_appear.subs(f[-1],1)"
   ]
  },
  {
   "cell_type": "code",
   "execution_count": 43,
   "metadata": {
    "collapsed": false
   },
   "outputs": [
    {
     "data": {
      "image/png": "[encoded data removed]",
      "text/latex": [
       "$$f_{n} = 8 f_{n - 17} + 29 f_{n - 16} + 84 f_{n - 15} + 126 f_{n - 14} + 126 f_{n - 13} + 84 f_{n - 12} + 36 f_{n - 11} + 9 f_{n - 10} + f_{n - 9}$$"
      ],
      "text/plain": [
       "f[n] = 8⋅f[n - 17] + 29⋅f[n - 16] + 84⋅f[n - 15] + 126⋅f[n - 14] + 126⋅f[n - 1\n",
       "3] + 84⋅f[n - 12] + 36⋅f[n - 11] + 9⋅f[n - 10] + f[n - 9]"
      ]
     },
     "execution_count": 43,
     "metadata": {},
     "output_type": "execute_result"
    }
   ],
   "source": [
    "eq_17 = Eq(f[n], 8*f[n-17]+29*f[n-16]+84*f[n-15]+126*f[n-14]+126*f[n-13]+84*f[n-12]+36*f[n-11]+9*f[n-10]+f[n-9])\n",
    "eq_17"
   ]
  },
  {
   "cell_type": "code",
   "execution_count": 44,
   "metadata": {
    "collapsed": false
   },
   "outputs": [
    {
     "data": {
      "image/png": "[encoded data removed]",
      "text/latex": [
       "$$\\left [ 8, \\quad 8, \\quad 16, \\quad 24, \\quad 40, \\quad 64, \\quad 104, \\quad 168, \\quad 272, \\quad 440, \\quad 712, \\quad 1152, \\quad 1864, \\quad 3016\\right ]$$"
      ],
      "text/plain": [
       "[8, 8, 16, 24, 40, 64, 104, 168, 272, 440, 712, 1152, 1864, 3016]"
      ]
     },
     "execution_count": 44,
     "metadata": {},
     "output_type": "execute_result"
    }
   ],
   "source": [
    "[eq_17.subs(n,i).lhs.subs(fibs) - eq_17.subs(n,i).rhs.subs(fibs) for i in range(17,31)]"
   ]
  },
  {
   "cell_type": "markdown",
   "metadata": {},
   "source": [
    "which is known as [A022091][oeis].\n",
    "\n",
    "[oeis]:http://oeis.org/A022091"
   ]
  }
 ],
 "metadata": {
  "kernelspec": {
   "display_name": "Python 3",
   "language": "python",
   "name": "python3"
  },
  "language_info": {
   "codemirror_mode": {
    "name": "ipython",
    "version": 3
   },
   "file_extension": ".py",
   "mimetype": "text/x-python",
   "name": "python",
   "nbconvert_exporter": "python",
   "pygments_lexer": "ipython3",
   "version": "3.5.1"
  }
 },
 "nbformat": 4,
 "nbformat_minor": 0
}
