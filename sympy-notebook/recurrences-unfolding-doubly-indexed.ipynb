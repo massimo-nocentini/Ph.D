{
 "cells": [
  {
   "cell_type": "markdown",
   "metadata": {},
   "source": [
    "<div align=\"right\"> Massimo Nocentini,<br>Florence 2016</div>\n",
    "<br>\n",
    "<div align=\"center\">\n",
    "<b>abstract</b><br>\n",
    "In this notebook we study some recurrence relations, where subscripts dependends on *two* dimensions.\n",
    "</div>"
   ]
  },
  {
   "cell_type": "code",
   "execution_count": 1,
   "metadata": {
    "collapsed": true
   },
   "outputs": [],
   "source": [
    "%run \"recurrences.py\"\n",
    "%run \"start_session.py\""
   ]
  },
  {
   "cell_type": "markdown",
   "metadata": {},
   "source": [
    "# Pascal array $\\mathcal{P}\\left(\\frac{1}{1-t}, \\frac{t}{1-t}\\right)$"
   ]
  },
  {
   "cell_type": "code",
   "execution_count": 2,
   "metadata": {
    "collapsed": false
   },
   "outputs": [
    {
     "data": {
      "text/latex": [
       "$$d_{n + 1,k + 1} = d_{n,k} + d_{n,k + 1}$$"
      ],
      "text/plain": [
       "d[n + 1, k + 1] = d[n, k] + d[n, k + 1]"
      ]
     },
     "execution_count": 2,
     "metadata": {},
     "output_type": "execute_result"
    }
   ],
   "source": [
    "d = IndexedBase('d')\n",
    "n, k = symbols('n k')\n",
    "\n",
    "pascal_recurrence = Eq(d[n+1, k+1], d[n, k] + d[n, k+1])\n",
    "pascal_recurrence"
   ]
  },
  {
   "cell_type": "code",
   "execution_count": 3,
   "metadata": {
    "collapsed": true
   },
   "outputs": [],
   "source": [
    "pascal_recurrence_spec=make_recurrence_spec(recurrence_eq=pascal_recurrence, indexed=d, index=make_index(n,k))"
   ]
  },
  {
   "cell_type": "code",
   "execution_count": 18,
   "metadata": {
    "collapsed": false
   },
   "outputs": [
    {
     "name": "stdout",
     "output_type": "stream",
     "text": [
      "normalized Eq(d[n, k], d[n - 1, k] + d[n - 1, k - 1])\n",
      "instantiated Eq(d[n, k], d[n - 1, k] + d[n - 1, k - 1])\n",
      "1 vs 1\n",
      "normalized Eq(d[n, k], d[n - 1, k] + d[n - 1, k - 1])\n",
      "instantiated Eq(d[n, k + 1], d[n - 1, k] + d[n - 1, k + 1])\n",
      "1 vs 1\n",
      "normalized Eq(d[n, k], d[n - 1, k] + d[n - 1, k - 1])\n",
      "instantiated Eq(d[n - 1, k], d[n - 2, k] + d[n - 2, k - 1])\n",
      "1 vs 1\n",
      "normalized Eq(d[n, k], d[n - 1, k] + d[n - 1, k - 1])\n",
      "instantiated Eq(d[n - 1, k - 1], d[n - 2, k - 2] + d[n - 2, k - 1])\n",
      "1 vs 1\n",
      "normalized Eq(d[n, k], d[n - 1, k] + d[n - 1, k - 1])\n",
      "instantiated Eq(d[n - 1, k + 1], d[n - 2, k] + d[n - 2, k + 1])\n",
      "1 vs 1\n",
      "normalized Eq(d[n, k], d[n - 1, k] + d[n - 1, k - 1])\n",
      "instantiated Eq(d[n - 2, k], d[n - 3, k] + d[n - 3, k - 1])\n",
      "1 vs 1\n",
      "normalized Eq(d[n, k], d[n - 1, k] + d[n - 1, k - 1])\n",
      "instantiated Eq(d[n - 2, k - 1], d[n - 3, k - 2] + d[n - 3, k - 1])\n",
      "1 vs 1\n",
      "normalized Eq(d[n, k], d[n - 1, k] + d[n - 1, k - 1])\n",
      "instantiated Eq(d[n - 2, k - 2], d[n - 3, k - 3] + d[n - 3, k - 2])\n",
      "1 vs 1\n",
      "normalized Eq(d[n, k], d[n - 1, k] + d[n - 1, k - 1])\n",
      "instantiated Eq(d[n - 2, k + 1], d[n - 3, k] + d[n - 3, k + 1])\n",
      "1 vs 1\n",
      "normalized Eq(d[n, k], d[n - 1, k] + d[n - 1, k - 1])\n",
      "instantiated Eq(d[n - 3, k], d[n - 4, k] + d[n - 4, k - 1])\n",
      "1 vs 1\n",
      "normalized Eq(d[n, k], d[n - 1, k] + d[n - 1, k - 1])\n",
      "instantiated Eq(d[n - 3, k - 1], d[n - 4, k - 2] + d[n - 4, k - 1])\n",
      "1 vs 1\n",
      "normalized Eq(d[n, k], d[n - 1, k] + d[n - 1, k - 1])\n",
      "instantiated Eq(d[n - 3, k - 2], d[n - 4, k - 3] + d[n - 4, k - 2])\n",
      "1 vs 1\n",
      "normalized Eq(d[n, k], d[n - 1, k] + d[n - 1, k - 1])\n",
      "instantiated Eq(d[n - 3, k - 3], d[n - 4, k - 4] + d[n - 4, k - 3])\n",
      "1 vs 1\n",
      "normalized Eq(d[n, k], d[n - 1, k] + d[n - 1, k - 1])\n",
      "instantiated Eq(d[n - 3, k + 1], d[n - 4, k] + d[n - 4, k + 1])\n",
      "1 vs 1\n",
      "normalized Eq(d[n, k], d[n - 1, k] + d[n - 1, k - 1])\n",
      "instantiated Eq(d[n - 4, k], d[n - 5, k] + d[n - 5, k - 1])\n",
      "1 vs 1\n",
      "normalized Eq(d[n, k], d[n - 1, k] + d[n - 1, k - 1])\n",
      "instantiated Eq(d[n - 4, k - 1], d[n - 5, k - 2] + d[n - 5, k - 1])\n",
      "1 vs 1\n",
      "normalized Eq(d[n, k], d[n - 1, k] + d[n - 1, k - 1])\n",
      "instantiated Eq(d[n - 4, k - 2], d[n - 5, k - 3] + d[n - 5, k - 2])\n",
      "1 vs 1\n",
      "normalized Eq(d[n, k], d[n - 1, k] + d[n - 1, k - 1])\n",
      "instantiated Eq(d[n - 4, k - 3], d[n - 5, k - 4] + d[n - 5, k - 3])\n",
      "1 vs 1\n",
      "normalized Eq(d[n, k], d[n - 1, k] + d[n - 1, k - 1])\n",
      "instantiated Eq(d[n - 4, k - 4], d[n - 5, k - 5] + d[n - 5, k - 4])\n",
      "1 vs 1\n",
      "normalized Eq(d[n, k], d[n - 1, k] + d[n - 1, k - 1])\n",
      "instantiated Eq(d[n - 4, k + 1], d[n - 5, k] + d[n - 5, k + 1])\n",
      "1 vs 1\n"
     ]
    }
   ],
   "source": [
    "unfolded = do_unfolding_steps(pascal_recurrence_spec, steps=5)"
   ]
  },
  {
   "cell_type": "code",
   "execution_count": 19,
   "metadata": {
    "collapsed": false
   },
   "outputs": [
    {
     "data": {
      "text/latex": [
       "$$d_{n + 1,k + 1} = 6 d_{n - 5,k} + d_{n - 5,k - 5} + 6 d_{n - 5,k - 4} + 15 d_{n - 5,k - 3} + 20 d_{n - 5,k - 2} + 15 d_{n - 5,k - 1} + d_{n - 5,k + 1}$$"
      ],
      "text/plain": [
       "d[n + 1, k + 1] = 6⋅d[n - 5, k] + d[n - 5, k - 5] + 6⋅d[n - 5, k - 4] + 15⋅d[n\n",
       " - 5, k - 3] + 20⋅d[n - 5, k - 2] + 15⋅d[n - 5, k - 1] + d[n - 5, k + 1]"
      ]
     },
     "execution_count": 19,
     "metadata": {},
     "output_type": "execute_result"
    }
   ],
   "source": [
    "u = unfolded.recurrence_eq.doit()\n",
    "u"
   ]
  },
  {
   "cell_type": "code",
   "execution_count": 23,
   "metadata": {
    "collapsed": false
   },
   "outputs": [
    {
     "data": {
      "text/latex": [
       "$$d_{12,6} = d_{6,0} + 6 d_{6,1} + 15 d_{6,2} + 20 d_{6,3} + 15 d_{6,4} + 6 d_{6,5} + d_{6,6}$$"
      ],
      "text/plain": [
       "d[12, 6] = d[6, 0] + 6⋅d[6, 1] + 15⋅d[6, 2] + 20⋅d[6, 3] + 15⋅d[6, 4] + 6⋅d[6,\n",
       " 5] + d[6, 6]"
      ]
     },
     "execution_count": 23,
     "metadata": {},
     "output_type": "execute_result"
    }
   ],
   "source": [
    "with instantiate_eq(u, {n:11, k:5}) as instantiated: pass\n",
    "    \n",
    "instantiated"
   ]
  },
  {
   "cell_type": "code",
   "execution_count": 7,
   "metadata": {
    "collapsed": false
   },
   "outputs": [
    {
     "data": {
      "text/latex": [
       "$$\\mathrm{True}$$"
      ],
      "text/plain": [
       "True"
      ]
     },
     "execution_count": 7,
     "metadata": {},
     "output_type": "execute_result"
    }
   ],
   "source": [
    "bs = {d[n,k]:binomial(n,k) for n in [6, 11] for k in range(7)}\n",
    "instantiated.subs(bs, simultaneous=True)"
   ]
  },
  {
   "cell_type": "code",
   "execution_count": 10,
   "metadata": {
    "collapsed": false
   },
   "outputs": [
    {
     "data": {
      "text/latex": [
       "$$\\left \\{ d_{n,k} : d_{n - 1,k} + d_{n - 1,k - 1}, \\quad d_{n,k + 1} : d_{n - 1,k} + d_{n - 1,k + 1}, \\quad d_{n - 3,k} : d_{n - 4,k} + d_{n - 4,k - 1}, \\quad d_{n - 3,k - 3} : d_{n - 4,k - 4} + d_{n - 4,k - 3}, \\quad d_{n - 3,k - 2} : d_{n - 4,k - 3} + d_{n - 4,k - 2}, \\quad d_{n - 3,k - 1} : d_{n - 4,k - 2} + d_{n - 4,k - 1}, \\quad d_{n - 3,k + 1} : d_{n - 4,k} + d_{n - 4,k + 1}, \\quad d_{n - 2,k} : d_{n - 3,k} + d_{n - 3,k - 1}, \\quad d_{n - 2,k - 2} : d_{n - 3,k - 3} + d_{n - 3,k - 2}, \\quad d_{n - 2,k - 1} : d_{n - 3,k - 2} + d_{n - 3,k - 1}, \\quad d_{n - 2,k + 1} : d_{n - 3,k} + d_{n - 3,k + 1}, \\quad d_{n - 1,k} : d_{n - 2,k} + d_{n - 2,k - 1}, \\quad d_{n - 1,k - 1} : d_{n - 2,k - 2} + d_{n - 2,k - 1}, \\quad d_{n - 1,k + 1} : d_{n - 2,k} + d_{n - 2,k + 1}\\right \\}$$"
      ],
      "text/plain": [
       "{d[n, k]: d[n - 1, k] + d[n - 1, k - 1], d[n, k + 1]: d[n - 1, k] + d[n - 1, k\n",
       " + 1], d[n - 3, k]: d[n - 4, k] + d[n - 4, k - 1], d[n - 3, k - 3]: d[n - 4, k\n",
       " - 4] + d[n - 4, k - 3], d[n - 3, k - 2]: d[n - 4, k - 3] + d[n - 4, k - 2], d\n",
       "[n - 3, k - 1]: d[n - 4, k - 2] + d[n - 4, k - 1], d[n - 3, k + 1]: d[n - 4, k\n",
       "] + d[n - 4, k + 1], d[n - 2, k]: d[n - 3, k] + d[n - 3, k - 1], d[n - 2, k - \n",
       "2]: d[n - 3, k - 3] + d[n - 3, k - 2], d[n - 2, k - 1]: d[n - 3, k - 2] + d[n \n",
       "- 3, k - 1], d[n - 2, k + 1]: d[n - 3, k] + d[n - 3, k + 1], d[n - 1, k]: d[n \n",
       "- 2, k] + d[n - 2, k - 1], d[n - 1, k - 1]: d[n - 2, k - 2] + d[n - 2, k - 1],\n",
       " d[n - 1, k + 1]: d[n - 2, k] + d[n - 2, k + 1]}"
      ]
     },
     "execution_count": 10,
     "metadata": {},
     "output_type": "execute_result"
    }
   ],
   "source": [
    "unfolded.terms_cache"
   ]
  },
  {
   "cell_type": "code",
   "execution_count": null,
   "metadata": {
    "collapsed": true
   },
   "outputs": [],
   "source": []
  }
 ],
 "metadata": {
  "kernelspec": {
   "display_name": "Python 3",
   "language": "python",
   "name": "python3"
  },
  "language_info": {
   "codemirror_mode": {
    "name": "ipython",
    "version": 3
   },
   "file_extension": ".py",
   "mimetype": "text/x-python",
   "name": "python",
   "nbconvert_exporter": "python",
   "pygments_lexer": "ipython3",
   "version": "3.5.1"
  }
 },
 "nbformat": 4,
 "nbformat_minor": 0
}
