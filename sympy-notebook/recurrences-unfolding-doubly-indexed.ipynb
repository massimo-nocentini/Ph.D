{
 "cells": [
  {
   "cell_type": "markdown",
   "metadata": {},
   "source": [
    "<div align=\"right\"> Massimo Nocentini,<br>Florence 2016</div>\n",
    "<br>\n",
    "<div align=\"center\">\n",
    "<b>abstract</b><br>\n",
    "In this notebook we study some recurrence relations, where subscripts dependends on *two* dimensions.\n",
    "</div>"
   ]
  },
  {
   "cell_type": "code",
   "execution_count": 1,
   "metadata": {
    "collapsed": true
   },
   "outputs": [],
   "source": [
    "%run \"recurrences.py\"\n",
    "%run \"start_session.py\""
   ]
  },
  {
   "cell_type": "markdown",
   "metadata": {},
   "source": [
    "# Pascal array $\\mathcal{P}\\left(\\frac{1}{1-t}, \\frac{t}{1-t}\\right)$"
   ]
  },
  {
   "cell_type": "code",
   "execution_count": 2,
   "metadata": {
    "collapsed": false
   },
   "outputs": [
    {
     "data": {
      "text/latex": [
       "$$d_{n + 1,k + 1} = d_{n,k} + d_{n,k + 1}$$"
      ],
      "text/plain": [
       "d[n + 1, k + 1] = d[n, k] + d[n, k + 1]"
      ]
     },
     "execution_count": 2,
     "metadata": {},
     "output_type": "execute_result"
    }
   ],
   "source": [
    "d = IndexedBase('d')\n",
    "n, k = symbols('n k')\n",
    "\n",
    "pascal_recurrence = Eq(d[n+1, k+1], d[n, k] + d[n, k+1])\n",
    "pascal_recurrence"
   ]
  },
  {
   "cell_type": "code",
   "execution_count": 3,
   "metadata": {
    "collapsed": true
   },
   "outputs": [],
   "source": [
    "pascal_recurrence_spec=make_recurrence_spec(recurrence_eq=pascal_recurrence, indexed=d, index=make_index(n,k))"
   ]
  },
  {
   "cell_type": "code",
   "execution_count": 4,
   "metadata": {
    "collapsed": false
   },
   "outputs": [],
   "source": [
    "unfolded = do_unfolding_steps(pascal_recurrence_spec, steps=8)"
   ]
  },
  {
   "cell_type": "code",
   "execution_count": 5,
   "metadata": {
    "collapsed": false
   },
   "outputs": [
    {
     "data": {
      "text/latex": [
       "$$d_{n + 1,k + 1} = 9 d_{n - 8,k} + d_{n - 8,k - 8} + 9 d_{n - 8,k - 7} + 36 d_{n - 8,k - 6} + 84 d_{n - 8,k - 5} + 126 d_{n - 8,k - 4} + 126 d_{n - 8,k - 3} + 84 d_{n - 8,k - 2} + 36 d_{n - 8,k - 1} + d_{n - 8,k + 1}$$"
      ],
      "text/plain": [
       "d[n + 1, k + 1] = 9⋅d[n - 8, k] + d[n - 8, k - 8] + 9⋅d[n - 8, k - 7] + 36⋅d[n\n",
       " - 8, k - 6] + 84⋅d[n - 8, k - 5] + 126⋅d[n - 8, k - 4] + 126⋅d[n - 8, k - 3] \n",
       "+ 84⋅d[n - 8, k - 2] + 36⋅d[n - 8, k - 1] + d[n - 8, k + 1]"
      ]
     },
     "execution_count": 5,
     "metadata": {},
     "output_type": "execute_result"
    }
   ],
   "source": [
    "u = unfolded.recurrence_eq.doit() # force evaluation since the unfolding leaves all symbolic, even additions.\n",
    "u"
   ]
  },
  {
   "cell_type": "code",
   "execution_count": 6,
   "metadata": {
    "collapsed": false
   },
   "outputs": [
    {
     "data": {
      "text/latex": [
       "$$d_{12,6} = d_{3,-3} + 9 d_{3,-2} + 36 d_{3,-1} + 84 d_{3,0} + 126 d_{3,1} + 126 d_{3,2} + 84 d_{3,3} + 36 d_{3,4} + 9 d_{3,5} + d_{3,6}$$"
      ],
      "text/plain": [
       "d[12, 6] = d[3, -3] + 9⋅d[3, -2] + 36⋅d[3, -1] + 84⋅d[3, 0] + 126⋅d[3, 1] + 12\n",
       "6⋅d[3, 2] + 84⋅d[3, 3] + 36⋅d[3, 4] + 9⋅d[3, 5] + d[3, 6]"
      ]
     },
     "execution_count": 6,
     "metadata": {},
     "output_type": "execute_result"
    }
   ],
   "source": [
    "with instantiate_eq(u, {n:11, k:5}) as instantiated: pass\n",
    "    \n",
    "instantiated"
   ]
  },
  {
   "cell_type": "code",
   "execution_count": 7,
   "metadata": {
    "collapsed": false
   },
   "outputs": [
    {
     "data": {
      "text/latex": [
       "$$924 = d_{3,-3} + 9 d_{3,-2} + 36 d_{3,-1} + 84 d_{3,0} + 126 d_{3,1} + 126 d_{3,2} + 84 d_{3,3} + 36 d_{3,4} + 9 d_{3,5} + d_{3,6}$$"
      ],
      "text/plain": [
       "924 = d[3, -3] + 9⋅d[3, -2] + 36⋅d[3, -1] + 84⋅d[3, 0] + 126⋅d[3, 1] + 126⋅d[3\n",
       ", 2] + 84⋅d[3, 3] + 36⋅d[3, 4] + 9⋅d[3, 5] + d[3, 6]"
      ]
     },
     "execution_count": 7,
     "metadata": {},
     "output_type": "execute_result"
    }
   ],
   "source": [
    "bs = {d[n,k]:binomial(n,k) for n in [6, 11, 12] for k in range(7)}\n",
    "instantiated.subs(bs, simultaneous=True)"
   ]
  },
  {
   "cell_type": "code",
   "execution_count": 8,
   "metadata": {
    "collapsed": false,
    "scrolled": true
   },
   "outputs": [
    {
     "data": {
      "text/latex": [
       "$$\\left \\{ d_{n,k} : d_{n - 1,k} + d_{n - 1,k - 1}, \\quad d_{n,k + 1} : d_{n - 1,k} + d_{n - 1,k + 1}, \\quad d_{n - 7,k} : d_{n - 8,k} + d_{n - 8,k - 1}, \\quad d_{n - 7,k - 7} : d_{n - 8,k - 8} + d_{n - 8,k - 7}, \\quad d_{n - 7,k - 6} : d_{n - 8,k - 7} + d_{n - 8,k - 6}, \\quad d_{n - 7,k - 5} : d_{n - 8,k - 6} + d_{n - 8,k - 5}, \\quad d_{n - 7,k - 4} : d_{n - 8,k - 5} + d_{n - 8,k - 4}, \\quad d_{n - 7,k - 3} : d_{n - 8,k - 4} + d_{n - 8,k - 3}, \\quad d_{n - 7,k - 2} : d_{n - 8,k - 3} + d_{n - 8,k - 2}, \\quad d_{n - 7,k - 1} : d_{n - 8,k - 2} + d_{n - 8,k - 1}, \\quad d_{n - 7,k + 1} : d_{n - 8,k} + d_{n - 8,k + 1}, \\quad d_{n - 6,k} : d_{n - 7,k} + d_{n - 7,k - 1}, \\quad d_{n - 6,k - 6} : d_{n - 7,k - 7} + d_{n - 7,k - 6}, \\quad d_{n - 6,k - 5} : d_{n - 7,k - 6} + d_{n - 7,k - 5}, \\quad d_{n - 6,k - 4} : d_{n - 7,k - 5} + d_{n - 7,k - 4}, \\quad d_{n - 6,k - 3} : d_{n - 7,k - 4} + d_{n - 7,k - 3}, \\quad d_{n - 6,k - 2} : d_{n - 7,k - 3} + d_{n - 7,k - 2}, \\quad d_{n - 6,k - 1} : d_{n - 7,k - 2} + d_{n - 7,k - 1}, \\quad d_{n - 6,k + 1} : d_{n - 7,k} + d_{n - 7,k + 1}, \\quad d_{n - 5,k} : d_{n - 6,k} + d_{n - 6,k - 1}, \\quad d_{n - 5,k - 5} : d_{n - 6,k - 6} + d_{n - 6,k - 5}, \\quad d_{n - 5,k - 4} : d_{n - 6,k - 5} + d_{n - 6,k - 4}, \\quad d_{n - 5,k - 3} : d_{n - 6,k - 4} + d_{n - 6,k - 3}, \\quad d_{n - 5,k - 2} : d_{n - 6,k - 3} + d_{n - 6,k - 2}, \\quad d_{n - 5,k - 1} : d_{n - 6,k - 2} + d_{n - 6,k - 1}, \\quad d_{n - 5,k + 1} : d_{n - 6,k} + d_{n - 6,k + 1}, \\quad d_{n - 4,k} : d_{n - 5,k} + d_{n - 5,k - 1}, \\quad d_{n - 4,k - 4} : d_{n - 5,k - 5} + d_{n - 5,k - 4}, \\quad d_{n - 4,k - 3} : d_{n - 5,k - 4} + d_{n - 5,k - 3}, \\quad d_{n - 4,k - 2} : d_{n - 5,k - 3} + d_{n - 5,k - 2}, \\quad d_{n - 4,k - 1} : d_{n - 5,k - 2} + d_{n - 5,k - 1}, \\quad d_{n - 4,k + 1} : d_{n - 5,k} + d_{n - 5,k + 1}, \\quad d_{n - 3,k} : d_{n - 4,k} + d_{n - 4,k - 1}, \\quad d_{n - 3,k - 3} : d_{n - 4,k - 4} + d_{n - 4,k - 3}, \\quad d_{n - 3,k - 2} : d_{n - 4,k - 3} + d_{n - 4,k - 2}, \\quad d_{n - 3,k - 1} : d_{n - 4,k - 2} + d_{n - 4,k - 1}, \\quad d_{n - 3,k + 1} : d_{n - 4,k} + d_{n - 4,k + 1}, \\quad d_{n - 2,k} : d_{n - 3,k} + d_{n - 3,k - 1}, \\quad d_{n - 2,k - 2} : d_{n - 3,k - 3} + d_{n - 3,k - 2}, \\quad d_{n - 2,k - 1} : d_{n - 3,k - 2} + d_{n - 3,k - 1}, \\quad d_{n - 2,k + 1} : d_{n - 3,k} + d_{n - 3,k + 1}, \\quad d_{n - 1,k} : d_{n - 2,k} + d_{n - 2,k - 1}, \\quad d_{n - 1,k - 1} : d_{n - 2,k - 2} + d_{n - 2,k - 1}, \\quad d_{n - 1,k + 1} : d_{n - 2,k} + d_{n - 2,k + 1}\\right \\}$$"
      ],
      "text/plain": [
       "{d[n, k]: d[n - 1, k] + d[n - 1, k - 1], d[n, k + 1]: d[n - 1, k] + d[n - 1, k\n",
       " + 1], d[n - 7, k]: d[n - 8, k] + d[n - 8, k - 1], d[n - 7, k - 7]: d[n - 8, k\n",
       " - 8] + d[n - 8, k - 7], d[n - 7, k - 6]: d[n - 8, k - 7] + d[n - 8, k - 6], d\n",
       "[n - 7, k - 5]: d[n - 8, k - 6] + d[n - 8, k - 5], d[n - 7, k - 4]: d[n - 8, k\n",
       " - 5] + d[n - 8, k - 4], d[n - 7, k - 3]: d[n - 8, k - 4] + d[n - 8, k - 3], d\n",
       "[n - 7, k - 2]: d[n - 8, k - 3] + d[n - 8, k - 2], d[n - 7, k - 1]: d[n - 8, k\n",
       " - 2] + d[n - 8, k - 1], d[n - 7, k + 1]: d[n - 8, k] + d[n - 8, k + 1], d[n -\n",
       " 6, k]: d[n - 7, k] + d[n - 7, k - 1], d[n - 6, k - 6]: d[n - 7, k - 7] + d[n \n",
       "- 7, k - 6], d[n - 6, k - 5]: d[n - 7, k - 6] + d[n - 7, k - 5], d[n - 6, k - \n",
       "4]: d[n - 7, k - 5] + d[n - 7, k - 4], d[n - 6, k - 3]: d[n - 7, k - 4] + d[n \n",
       "- 7, k - 3], d[n - 6, k - 2]: d[n - 7, k - 3] + d[n - 7, k - 2], d[n - 6, k - \n",
       "1]: d[n - 7, k - 2] + d[n - 7, k - 1], d[n - 6, k + 1]: d[n - 7, k] + d[n - 7,\n",
       " k + 1], d[n - 5, k]: d[n - 6, k] + d[n - 6, k - 1], d[n - 5, k - 5]: d[n - 6,\n",
       " k - 6] + d[n - 6, k - 5], d[n - 5, k - 4]: d[n - 6, k - 5] + d[n - 6, k - 4],\n",
       " d[n - 5, k - 3]: d[n - 6, k - 4] + d[n - 6, k - 3], d[n - 5, k - 2]: d[n - 6,\n",
       " k - 3] + d[n - 6, k - 2], d[n - 5, k - 1]: d[n - 6, k - 2] + d[n - 6, k - 1],\n",
       " d[n - 5, k + 1]: d[n - 6, k] + d[n - 6, k + 1], d[n - 4, k]: d[n - 5, k] + d[\n",
       "n - 5, k - 1], d[n - 4, k - 4]: d[n - 5, k - 5] + d[n - 5, k - 4], d[n - 4, k \n",
       "- 3]: d[n - 5, k - 4] + d[n - 5, k - 3], d[n - 4, k - 2]: d[n - 5, k - 3] + d[\n",
       "n - 5, k - 2], d[n - 4, k - 1]: d[n - 5, k - 2] + d[n - 5, k - 1], d[n - 4, k \n",
       "+ 1]: d[n - 5, k] + d[n - 5, k + 1], d[n - 3, k]: d[n - 4, k] + d[n - 4, k - 1\n",
       "], d[n - 3, k - 3]: d[n - 4, k - 4] + d[n - 4, k - 3], d[n - 3, k - 2]: d[n - \n",
       "4, k - 3] + d[n - 4, k - 2], d[n - 3, k - 1]: d[n - 4, k - 2] + d[n - 4, k - 1\n",
       "], d[n - 3, k + 1]: d[n - 4, k] + d[n - 4, k + 1], d[n - 2, k]: d[n - 3, k] + \n",
       "d[n - 3, k - 1], d[n - 2, k - 2]: d[n - 3, k - 3] + d[n - 3, k - 2], d[n - 2, \n",
       "k - 1]: d[n - 3, k - 2] + d[n - 3, k - 1], d[n - 2, k + 1]: d[n - 3, k] + d[n \n",
       "- 3, k + 1], d[n - 1, k]: d[n - 2, k] + d[n - 2, k - 1], d[n - 1, k - 1]: d[n \n",
       "- 2, k - 2] + d[n - 2, k - 1], d[n - 1, k + 1]: d[n - 2, k] + d[n - 2, k + 1]}"
      ]
     },
     "execution_count": 8,
     "metadata": {},
     "output_type": "execute_result"
    }
   ],
   "source": [
    "unfolded.terms_cache"
   ]
  },
  {
   "cell_type": "code",
   "execution_count": 9,
   "metadata": {
    "collapsed": false
   },
   "outputs": [
    {
     "data": {
      "text/latex": [
       "$$\\left ( d_{18,9} = d_{9,0} + 9 d_{9,1} + 36 d_{9,2} + 84 d_{9,3} + 126 d_{9,4} + 126 d_{9,5} + 84 d_{9,6} + 36 d_{9,7} + 9 d_{9,8} + d_{9,9}, \\quad \\left \\{ k : 8, \\quad n : 17\\right \\}, \\quad d, \\quad \\left \\{ d_{10,1} : d_{9,0} + d_{9,1}, \\quad d_{10,2} : d_{9,1} + d_{9,2}, \\quad d_{10,3} : d_{9,2} + d_{9,3}, \\quad d_{10,4} : d_{9,3} + d_{9,4}, \\quad d_{10,5} : d_{9,4} + d_{9,5}, \\quad d_{10,6} : d_{9,5} + d_{9,6}, \\quad d_{10,7} : d_{9,6} + d_{9,7}, \\quad d_{10,8} : d_{9,7} + d_{9,8}, \\quad d_{10,9} : d_{9,8} + d_{9,9}, \\quad d_{11,2} : d_{10,1} + d_{10,2}, \\quad d_{11,3} : d_{10,2} + d_{10,3}, \\quad d_{11,4} : d_{10,3} + d_{10,4}, \\quad d_{11,5} : d_{10,4} + d_{10,5}, \\quad d_{11,6} : d_{10,5} + d_{10,6}, \\quad d_{11,7} : d_{10,6} + d_{10,7}, \\quad d_{11,8} : d_{10,7} + d_{10,8}, \\quad d_{11,9} : d_{10,8} + d_{10,9}, \\quad d_{12,3} : d_{11,2} + d_{11,3}, \\quad d_{12,4} : d_{11,3} + d_{11,4}, \\quad d_{12,5} : d_{11,4} + d_{11,5}, \\quad d_{12,6} : d_{11,5} + d_{11,6}, \\quad d_{12,7} : d_{11,6} + d_{11,7}, \\quad d_{12,8} : d_{11,7} + d_{11,8}, \\quad d_{12,9} : d_{11,8} + d_{11,9}, \\quad d_{13,4} : d_{12,3} + d_{12,4}, \\quad d_{13,5} : d_{12,4} + d_{12,5}, \\quad d_{13,6} : d_{12,5} + d_{12,6}, \\quad d_{13,7} : d_{12,6} + d_{12,7}, \\quad d_{13,8} : d_{12,7} + d_{12,8}, \\quad d_{13,9} : d_{12,8} + d_{12,9}, \\quad d_{14,5} : d_{13,4} + d_{13,5}, \\quad d_{14,6} : d_{13,5} + d_{13,6}, \\quad d_{14,7} : d_{13,6} + d_{13,7}, \\quad d_{14,8} : d_{13,7} + d_{13,8}, \\quad d_{14,9} : d_{13,8} + d_{13,9}, \\quad d_{15,6} : d_{14,5} + d_{14,6}, \\quad d_{15,7} : d_{14,6} + d_{14,7}, \\quad d_{15,8} : d_{14,7} + d_{14,8}, \\quad d_{15,9} : d_{14,8} + d_{14,9}, \\quad d_{16,7} : d_{15,6} + d_{15,7}, \\quad d_{16,8} : d_{15,7} + d_{15,8}, \\quad d_{16,9} : d_{15,8} + d_{15,9}, \\quad d_{17,8} : d_{16,7} + d_{16,8}, \\quad d_{17,9} : d_{16,8} + d_{16,9}\\right \\}\\right )$$"
      ],
      "text/plain": [
       "(d[18, 9] = d[9, 0] + 9⋅d[9, 1] + 36⋅d[9, 2] + 84⋅d[9, 3] + 126⋅d[9, 4] + 126⋅\n",
       "d[9, 5] + 84⋅d[9, 6] + 36⋅d[9, 7] + 9⋅d[9, 8] + d[9, 9], {k: 8, n: 17}, d, {d[\n",
       "10, 1]: d[9, 0] + d[9, 1], d[10, 2]: d[9, 1] + d[9, 2], d[10, 3]: d[9, 2] + d[\n",
       "9, 3], d[10, 4]: d[9, 3] + d[9, 4], d[10, 5]: d[9, 4] + d[9, 5], d[10, 6]: d[9\n",
       ", 5] + d[9, 6], d[10, 7]: d[9, 6] + d[9, 7], d[10, 8]: d[9, 7] + d[9, 8], d[10\n",
       ", 9]: d[9, 8] + d[9, 9], d[11, 2]: d[10, 1] + d[10, 2], d[11, 3]: d[10, 2] + d\n",
       "[10, 3], d[11, 4]: d[10, 3] + d[10, 4], d[11, 5]: d[10, 4] + d[10, 5], d[11, 6\n",
       "]: d[10, 5] + d[10, 6], d[11, 7]: d[10, 6] + d[10, 7], d[11, 8]: d[10, 7] + d[\n",
       "10, 8], d[11, 9]: d[10, 8] + d[10, 9], d[12, 3]: d[11, 2] + d[11, 3], d[12, 4]\n",
       ": d[11, 3] + d[11, 4], d[12, 5]: d[11, 4] + d[11, 5], d[12, 6]: d[11, 5] + d[1\n",
       "1, 6], d[12, 7]: d[11, 6] + d[11, 7], d[12, 8]: d[11, 7] + d[11, 8], d[12, 9]:\n",
       " d[11, 8] + d[11, 9], d[13, 4]: d[12, 3] + d[12, 4], d[13, 5]: d[12, 4] + d[12\n",
       ", 5], d[13, 6]: d[12, 5] + d[12, 6], d[13, 7]: d[12, 6] + d[12, 7], d[13, 8]: \n",
       "d[12, 7] + d[12, 8], d[13, 9]: d[12, 8] + d[12, 9], d[14, 5]: d[13, 4] + d[13,\n",
       " 5], d[14, 6]: d[13, 5] + d[13, 6], d[14, 7]: d[13, 6] + d[13, 7], d[14, 8]: d\n",
       "[13, 7] + d[13, 8], d[14, 9]: d[13, 8] + d[13, 9], d[15, 6]: d[14, 5] + d[14, \n",
       "6], d[15, 7]: d[14, 6] + d[14, 7], d[15, 8]: d[14, 7] + d[14, 8], d[15, 9]: d[\n",
       "14, 8] + d[14, 9], d[16, 7]: d[15, 6] + d[15, 7], d[16, 8]: d[15, 7] + d[15, 8\n",
       "], d[16, 9]: d[15, 8] + d[15, 9], d[17, 8]: d[16, 7] + d[16, 8], d[17, 9]: d[1\n",
       "6, 8] + d[16, 9]})"
      ]
     },
     "execution_count": 9,
     "metadata": {},
     "output_type": "execute_result"
    }
   ],
   "source": [
    "dummy_sym = Dummy()\n",
    "based_recurrence_spec = base_instantiation(unfolded, make_index(dummy_sym, 0), \n",
    "                                           doubly_subscripts_subsume_sols(dummy_sym))\n",
    "based_recurrence_spec"
   ]
  },
  {
   "cell_type": "code",
   "execution_count": 10,
   "metadata": {
    "collapsed": false
   },
   "outputs": [
    {
     "data": {
      "text/latex": [
       "$$\\left ( d_{18,9} = d_{9,0} + 9 d_{9,1} + 36 d_{9,2} + 84 d_{9,3} + 126 d_{9,4} + 126 d_{9,5} + 84 d_{9,6} + 36 d_{9,7} + 9 d_{9,8} + d_{9,9}, \\quad \\left \\{ k : 8, \\quad n : 17\\right \\}, \\quad d, \\quad \\left \\{ d_{0,0} : 1, \\quad d_{10,1} : d_{9,0} + d_{9,1}, \\quad d_{10,2} : d_{9,1} + d_{9,2}, \\quad d_{10,3} : d_{9,2} + d_{9,3}, \\quad d_{10,4} : d_{9,3} + d_{9,4}, \\quad d_{10,5} : d_{9,4} + d_{9,5}, \\quad d_{10,6} : d_{9,5} + d_{9,6}, \\quad d_{10,7} : d_{9,6} + d_{9,7}, \\quad d_{10,8} : d_{9,7} + d_{9,8}, \\quad d_{10,9} : d_{9,8} + d_{9,9}, \\quad d_{11,2} : d_{9,0} + 2 d_{9,1} + d_{9,2}, \\quad d_{11,3} : d_{9,1} + 2 d_{9,2} + d_{9,3}, \\quad d_{11,4} : d_{9,2} + 2 d_{9,3} + d_{9,4}, \\quad d_{11,5} : d_{9,3} + 2 d_{9,4} + d_{9,5}, \\quad d_{11,6} : d_{9,4} + 2 d_{9,5} + d_{9,6}, \\quad d_{11,7} : d_{9,5} + 2 d_{9,6} + d_{9,7}, \\quad d_{11,8} : d_{9,6} + 2 d_{9,7} + d_{9,8}, \\quad d_{11,9} : d_{9,7} + 2 d_{9,8} + d_{9,9}, \\quad d_{12,3} : d_{9,0} + 3 d_{9,1} + 3 d_{9,2} + d_{9,3}, \\quad d_{12,4} : d_{9,1} + 3 d_{9,2} + 3 d_{9,3} + d_{9,4}, \\quad d_{12,5} : d_{9,2} + 3 d_{9,3} + 3 d_{9,4} + d_{9,5}, \\quad d_{12,6} : d_{9,3} + 3 d_{9,4} + 3 d_{9,5} + d_{9,6}, \\quad d_{12,7} : d_{9,4} + 3 d_{9,5} + 3 d_{9,6} + d_{9,7}, \\quad d_{12,8} : d_{9,5} + 3 d_{9,6} + 3 d_{9,7} + d_{9,8}, \\quad d_{12,9} : d_{9,6} + 3 d_{9,7} + 3 d_{9,8} + d_{9,9}, \\quad d_{13,4} : d_{9,0} + 4 d_{9,1} + 6 d_{9,2} + 4 d_{9,3} + d_{9,4}, \\quad d_{13,5} : d_{9,1} + 4 d_{9,2} + 6 d_{9,3} + 4 d_{9,4} + d_{9,5}, \\quad d_{13,6} : d_{9,2} + 4 d_{9,3} + 6 d_{9,4} + 4 d_{9,5} + d_{9,6}, \\quad d_{13,7} : d_{9,3} + 4 d_{9,4} + 6 d_{9,5} + 4 d_{9,6} + d_{9,7}, \\quad d_{13,8} : d_{9,4} + 4 d_{9,5} + 6 d_{9,6} + 4 d_{9,7} + d_{9,8}, \\quad d_{13,9} : d_{9,5} + 4 d_{9,6} + 6 d_{9,7} + 4 d_{9,8} + d_{9,9}, \\quad d_{14,5} : d_{9,0} + 5 d_{9,1} + 10 d_{9,2} + 10 d_{9,3} + 5 d_{9,4} + d_{9,5}, \\quad d_{14,6} : d_{9,1} + 5 d_{9,2} + 10 d_{9,3} + 10 d_{9,4} + 5 d_{9,5} + d_{9,6}, \\quad d_{14,7} : d_{9,2} + 5 d_{9,3} + 10 d_{9,4} + 10 d_{9,5} + 5 d_{9,6} + d_{9,7}, \\quad d_{14,8} : d_{9,3} + 5 d_{9,4} + 10 d_{9,5} + 10 d_{9,6} + 5 d_{9,7} + d_{9,8}, \\quad d_{14,9} : d_{9,4} + 5 d_{9,5} + 10 d_{9,6} + 10 d_{9,7} + 5 d_{9,8} + d_{9,9}, \\quad d_{15,6} : d_{9,0} + 6 d_{9,1} + 15 d_{9,2} + 20 d_{9,3} + 15 d_{9,4} + 6 d_{9,5} + d_{9,6}, \\quad d_{15,7} : d_{9,1} + 6 d_{9,2} + 15 d_{9,3} + 20 d_{9,4} + 15 d_{9,5} + 6 d_{9,6} + d_{9,7}, \\quad d_{15,8} : d_{9,2} + 6 d_{9,3} + 15 d_{9,4} + 20 d_{9,5} + 15 d_{9,6} + 6 d_{9,7} + d_{9,8}, \\quad d_{15,9} : d_{9,3} + 6 d_{9,4} + 15 d_{9,5} + 20 d_{9,6} + 15 d_{9,7} + 6 d_{9,8} + d_{9,9}, \\quad d_{16,7} : d_{9,0} + 7 d_{9,1} + 21 d_{9,2} + 35 d_{9,3} + 35 d_{9,4} + 21 d_{9,5} + 7 d_{9,6} + d_{9,7}, \\quad d_{16,8} : d_{9,1} + 7 d_{9,2} + 21 d_{9,3} + 35 d_{9,4} + 35 d_{9,5} + 21 d_{9,6} + 7 d_{9,7} + d_{9,8}, \\quad d_{16,9} : d_{9,2} + 7 d_{9,3} + 21 d_{9,4} + 35 d_{9,5} + 35 d_{9,6} + 21 d_{9,7} + 7 d_{9,8} + d_{9,9}, \\quad d_{17,8} : d_{9,0} + 8 d_{9,1} + 28 d_{9,2} + 56 d_{9,3} + 70 d_{9,4} + 56 d_{9,5} + 28 d_{9,6} + 8 d_{9,7} + d_{9,8}, \\quad d_{17,9} : d_{9,1} + 8 d_{9,2} + 28 d_{9,3} + 56 d_{9,4} + 70 d_{9,5} + 56 d_{9,6} + 28 d_{9,7} + 8 d_{9,8} + d_{9,9}\\right \\}\\right )$$"
      ],
      "text/plain": [
       "(d[18, 9] = d[9, 0] + 9⋅d[9, 1] + 36⋅d[9, 2] + 84⋅d[9, 3] + 126⋅d[9, 4] + 126⋅\n",
       "d[9, 5] + 84⋅d[9, 6] + 36⋅d[9, 7] + 9⋅d[9, 8] + d[9, 9], {k: 8, n: 17}, d, {d[\n",
       "0, 0]: 1, d[10, 1]: d[9, 0] + d[9, 1], d[10, 2]: d[9, 1] + d[9, 2], d[10, 3]: \n",
       "d[9, 2] + d[9, 3], d[10, 4]: d[9, 3] + d[9, 4], d[10, 5]: d[9, 4] + d[9, 5], d\n",
       "[10, 6]: d[9, 5] + d[9, 6], d[10, 7]: d[9, 6] + d[9, 7], d[10, 8]: d[9, 7] + d\n",
       "[9, 8], d[10, 9]: d[9, 8] + d[9, 9], d[11, 2]: d[9, 0] + 2⋅d[9, 1] + d[9, 2], \n",
       "d[11, 3]: d[9, 1] + 2⋅d[9, 2] + d[9, 3], d[11, 4]: d[9, 2] + 2⋅d[9, 3] + d[9, \n",
       "4], d[11, 5]: d[9, 3] + 2⋅d[9, 4] + d[9, 5], d[11, 6]: d[9, 4] + 2⋅d[9, 5] + d\n",
       "[9, 6], d[11, 7]: d[9, 5] + 2⋅d[9, 6] + d[9, 7], d[11, 8]: d[9, 6] + 2⋅d[9, 7]\n",
       " + d[9, 8], d[11, 9]: d[9, 7] + 2⋅d[9, 8] + d[9, 9], d[12, 3]: d[9, 0] + 3⋅d[9\n",
       ", 1] + 3⋅d[9, 2] + d[9, 3], d[12, 4]: d[9, 1] + 3⋅d[9, 2] + 3⋅d[9, 3] + d[9, 4\n",
       "], d[12, 5]: d[9, 2] + 3⋅d[9, 3] + 3⋅d[9, 4] + d[9, 5], d[12, 6]: d[9, 3] + 3⋅\n",
       "d[9, 4] + 3⋅d[9, 5] + d[9, 6], d[12, 7]: d[9, 4] + 3⋅d[9, 5] + 3⋅d[9, 6] + d[9\n",
       ", 7], d[12, 8]: d[9, 5] + 3⋅d[9, 6] + 3⋅d[9, 7] + d[9, 8], d[12, 9]: d[9, 6] +\n",
       " 3⋅d[9, 7] + 3⋅d[9, 8] + d[9, 9], d[13, 4]: d[9, 0] + 4⋅d[9, 1] + 6⋅d[9, 2] + \n",
       "4⋅d[9, 3] + d[9, 4], d[13, 5]: d[9, 1] + 4⋅d[9, 2] + 6⋅d[9, 3] + 4⋅d[9, 4] + d\n",
       "[9, 5], d[13, 6]: d[9, 2] + 4⋅d[9, 3] + 6⋅d[9, 4] + 4⋅d[9, 5] + d[9, 6], d[13,\n",
       " 7]: d[9, 3] + 4⋅d[9, 4] + 6⋅d[9, 5] + 4⋅d[9, 6] + d[9, 7], d[13, 8]: d[9, 4] \n",
       "+ 4⋅d[9, 5] + 6⋅d[9, 6] + 4⋅d[9, 7] + d[9, 8], d[13, 9]: d[9, 5] + 4⋅d[9, 6] +\n",
       " 6⋅d[9, 7] + 4⋅d[9, 8] + d[9, 9], d[14, 5]: d[9, 0] + 5⋅d[9, 1] + 10⋅d[9, 2] +\n",
       " 10⋅d[9, 3] + 5⋅d[9, 4] + d[9, 5], d[14, 6]: d[9, 1] + 5⋅d[9, 2] + 10⋅d[9, 3] \n",
       "+ 10⋅d[9, 4] + 5⋅d[9, 5] + d[9, 6], d[14, 7]: d[9, 2] + 5⋅d[9, 3] + 10⋅d[9, 4]\n",
       " + 10⋅d[9, 5] + 5⋅d[9, 6] + d[9, 7], d[14, 8]: d[9, 3] + 5⋅d[9, 4] + 10⋅d[9, 5\n",
       "] + 10⋅d[9, 6] + 5⋅d[9, 7] + d[9, 8], d[14, 9]: d[9, 4] + 5⋅d[9, 5] + 10⋅d[9, \n",
       "6] + 10⋅d[9, 7] + 5⋅d[9, 8] + d[9, 9], d[15, 6]: d[9, 0] + 6⋅d[9, 1] + 15⋅d[9,\n",
       " 2] + 20⋅d[9, 3] + 15⋅d[9, 4] + 6⋅d[9, 5] + d[9, 6], d[15, 7]: d[9, 1] + 6⋅d[9\n",
       ", 2] + 15⋅d[9, 3] + 20⋅d[9, 4] + 15⋅d[9, 5] + 6⋅d[9, 6] + d[9, 7], d[15, 8]: d\n",
       "[9, 2] + 6⋅d[9, 3] + 15⋅d[9, 4] + 20⋅d[9, 5] + 15⋅d[9, 6] + 6⋅d[9, 7] + d[9, 8\n",
       "], d[15, 9]: d[9, 3] + 6⋅d[9, 4] + 15⋅d[9, 5] + 20⋅d[9, 6] + 15⋅d[9, 7] + 6⋅d[\n",
       "9, 8] + d[9, 9], d[16, 7]: d[9, 0] + 7⋅d[9, 1] + 21⋅d[9, 2] + 35⋅d[9, 3] + 35⋅\n",
       "d[9, 4] + 21⋅d[9, 5] + 7⋅d[9, 6] + d[9, 7], d[16, 8]: d[9, 1] + 7⋅d[9, 2] + 21\n",
       "⋅d[9, 3] + 35⋅d[9, 4] + 35⋅d[9, 5] + 21⋅d[9, 6] + 7⋅d[9, 7] + d[9, 8], d[16, 9\n",
       "]: d[9, 2] + 7⋅d[9, 3] + 21⋅d[9, 4] + 35⋅d[9, 5] + 35⋅d[9, 6] + 21⋅d[9, 7] + 7\n",
       "⋅d[9, 8] + d[9, 9], d[17, 8]: d[9, 0] + 8⋅d[9, 1] + 28⋅d[9, 2] + 56⋅d[9, 3] + \n",
       "70⋅d[9, 4] + 56⋅d[9, 5] + 28⋅d[9, 6] + 8⋅d[9, 7] + d[9, 8], d[17, 9]: d[9, 1] \n",
       "+ 8⋅d[9, 2] + 28⋅d[9, 3] + 56⋅d[9, 4] + 70⋅d[9, 5] + 56⋅d[9, 6] + 28⋅d[9, 7] +\n",
       " 8⋅d[9, 8] + d[9, 9]})"
      ]
     },
     "execution_count": 10,
     "metadata": {},
     "output_type": "execute_result"
    }
   ],
   "source": [
    "boundary_conditions = {d[0,0]:Integer(1)} # `Integer` object is mandatory, not a vanilla `int`\n",
    "with copy_recurrence_spec(based_recurrence_spec) as rec_spec_for_full_instantiation:\n",
    "    rec_spec_for_full_instantiation.terms_cache.update(boundary_conditions)\n",
    "    fully_instantiated_spec = repeated_instantiating(rec_spec_for_full_instantiation)\n",
    "fully_instantiated_spec"
   ]
  },
  {
   "cell_type": "code",
   "execution_count": 11,
   "metadata": {
    "collapsed": false
   },
   "outputs": [
    {
     "data": {
      "text/latex": [
       "\\begin{array}{c}d_{2,1} = d_{1,0} + d_{1,1}\\\\\n",
       "d_{4,2} = d_{2,0} + 2 d_{2,1} + d_{2,2}\\\\\n",
       "d_{6,3} = d_{3,0} + 3 d_{3,1} + 3 d_{3,2} + d_{3,3}\\\\\n",
       "d_{8,4} = d_{4,0} + 4 d_{4,1} + 6 d_{4,2} + 4 d_{4,3} + d_{4,4}\\\\\n",
       "d_{10,5} = d_{5,0} + 5 d_{5,1} + 10 d_{5,2} + 10 d_{5,3} + 5 d_{5,4} + d_{5,5}\\\\\n",
       "d_{12,6} = d_{6,0} + 6 d_{6,1} + 15 d_{6,2} + 20 d_{6,3} + 15 d_{6,4} + 6 d_{6,5} + d_{6,6}\\\\\n",
       "d_{14,7} = d_{7,0} + 7 d_{7,1} + 21 d_{7,2} + 35 d_{7,3} + 35 d_{7,4} + 21 d_{7,5} + 7 d_{7,6} + d_{7,7}\\\\\n",
       "d_{16,8} = d_{8,0} + 8 d_{8,1} + 28 d_{8,2} + 56 d_{8,3} + 70 d_{8,4} + 56 d_{8,5} + 28 d_{8,6} + 8 d_{8,7} + d_{8,8}\\\\\n",
       "d_{18,9} = d_{9,0} + 9 d_{9,1} + 36 d_{9,2} + 84 d_{9,3} + 126 d_{9,4} + 126 d_{9,5} + 84 d_{9,6} + 36 d_{9,7} + 9 d_{9,8} + d_{9,9}\\\\\n",
       "d_{20,10} = d_{10,0} + 10 d_{10,1} + 45 d_{10,2} + 120 d_{10,3} + 210 d_{10,4} + 252 d_{10,5} + 210 d_{10,6} + 120 d_{10,7} + 45 d_{10,8} + 10 d_{10,9} + d_{10,10}\\\\\\end{array}"
      ],
      "text/plain": [
       "<IPython.core.display.Latex object>"
      ]
     },
     "execution_count": 11,
     "metadata": {},
     "output_type": "execute_result"
    }
   ],
   "source": [
    "ipython_latex(pascal_recurrence_spec, times_range=range(10), \n",
    "              base_index=make_index(dummy_sym, 0), subsume_sols=doubly_subscripts_subsume_sols(dummy_sym))"
   ]
  },
  {
   "cell_type": "code",
   "execution_count": null,
   "metadata": {
    "collapsed": true
   },
   "outputs": [],
   "source": []
  }
 ],
 "metadata": {
  "kernelspec": {
   "display_name": "Python 3",
   "language": "python",
   "name": "python3"
  },
  "language_info": {
   "codemirror_mode": {
    "name": "ipython",
    "version": 3
   },
   "file_extension": ".py",
   "mimetype": "text/x-python",
   "name": "python",
   "nbconvert_exporter": "python",
   "pygments_lexer": "ipython3",
   "version": "3.5.1"
  }
 },
 "nbformat": 4,
 "nbformat_minor": 0
}
