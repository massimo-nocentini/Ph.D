{
 "cells": [
  {
   "cell_type": "markdown",
   "metadata": {},
   "source": [
    "# Recurrences unfolding"
   ]
  },
  {
   "cell_type": "code",
   "execution_count": 18,
   "metadata": {
    "collapsed": true
   },
   "outputs": [],
   "source": [
    "%run \"recurrences.py\""
   ]
  },
  {
   "cell_type": "code",
   "execution_count": 19,
   "metadata": {
    "collapsed": true
   },
   "outputs": [],
   "source": [
    "import sys\n",
    "import sympy\n",
    "from sympy import *\n",
    "from sympy.abc import x, n, z, t, k\n",
    "from sympy.core.cache import *\n",
    "    \n",
    "init_printing(use_latex='mathjax') # for nice printing, a-la' TeX\n",
    "\n",
    "sys.setrecursionlimit(100000)"
   ]
  },
  {
   "cell_type": "markdown",
   "metadata": {},
   "source": [
    "---"
   ]
  },
  {
   "cell_type": "markdown",
   "metadata": {},
   "source": [
    "## Quicksort's checks recurrence"
   ]
  },
  {
   "cell_type": "code",
   "execution_count": 3,
   "metadata": {
    "collapsed": false
   },
   "outputs": [
    {
     "data": {
      "text/latex": [
       "$$\\frac{c_{n}}{n + 1} = \\frac{2}{n + 1} + \\frac{1}{n} c_{n - 1}$$"
      ],
      "text/plain": [
       " c[n]     2     c[n - 1]\n",
       "───── = ───── + ────────\n",
       "n + 1   n + 1      n    "
      ]
     },
     "execution_count": 3,
     "metadata": {},
     "output_type": "execute_result"
    }
   ],
   "source": [
    "c = IndexedBase('c')\n",
    "checks_recurrence = Eq(c[n]/(n+1), 2/(n+1) + c[n-1]/n)\n",
    "checks_recurrence"
   ]
  },
  {
   "cell_type": "code",
   "execution_count": 4,
   "metadata": {
    "collapsed": true
   },
   "outputs": [],
   "source": [
    "checks_recurrence_spec=dict(recurrence_eq=checks_recurrence, indexed=c, index=n, terms_cache={})"
   ]
  },
  {
   "cell_type": "code",
   "execution_count": 5,
   "metadata": {
    "collapsed": true
   },
   "outputs": [],
   "source": [
    "unfolded = do_unfolding_steps(checks_recurrence_spec, steps=1)"
   ]
  },
  {
   "cell_type": "code",
   "execution_count": 6,
   "metadata": {
    "collapsed": false
   },
   "outputs": [
    {
     "data": {
      "text/latex": [
       "$$\\frac{c_{n}}{n + 1} = \\frac{c_{n - 2}}{n - 1} + \\frac{2}{n} + \\frac{2}{n + 1}$$"
      ],
      "text/plain": [
       " c[n]   c[n - 2]   2     2  \n",
       "───── = ──────── + ─ + ─────\n",
       "n + 1    n - 1     n   n + 1"
      ]
     },
     "execution_count": 6,
     "metadata": {},
     "output_type": "execute_result"
    }
   ],
   "source": [
    "project_recurrence_spec(unfolded, recurrence_eq=True)"
   ]
  },
  {
   "cell_type": "code",
   "execution_count": 7,
   "metadata": {
    "collapsed": false
   },
   "outputs": [
    {
     "data": {
      "text/latex": [
       "$$\\frac{c_{n}}{n + 1} = \\frac{2}{n - 3} + \\frac{c_{n - 5}}{n - 4} + \\frac{2}{n + 1} + \\frac{2}{n} + \\frac{2}{n - 1} + \\frac{2}{n - 2}$$"
      ],
      "text/plain": [
       " c[n]     2     c[n - 5]     2     2     2       2  \n",
       "───── = ───── + ──────── + ───── + ─ + ───── + ─────\n",
       "n + 1   n - 3    n - 4     n + 1   n   n - 1   n - 2"
      ]
     },
     "execution_count": 7,
     "metadata": {},
     "output_type": "execute_result"
    }
   ],
   "source": [
    "unfolded = do_unfolding_steps(checks_recurrence_spec,4)\n",
    "recurrence_eq = project_recurrence_spec(unfolded, recurrence_eq=True)\n",
    "recurrence_eq"
   ]
  },
  {
   "cell_type": "code",
   "execution_count": 8,
   "metadata": {
    "collapsed": false
   },
   "outputs": [
    {
     "data": {
      "text/latex": [
       "$$\\frac{c_{5}}{6} = c_{0} + \\frac{29}{10}$$"
      ],
      "text/plain": [
       "c[5]          29\n",
       "──── = c[0] + ──\n",
       " 6            10"
      ]
     },
     "execution_count": 8,
     "metadata": {},
     "output_type": "execute_result"
    }
   ],
   "source": [
    "recurrence_eq.subs(n,5)"
   ]
  },
  {
   "cell_type": "code",
   "execution_count": 9,
   "metadata": {
    "collapsed": false
   },
   "outputs": [
    {
     "data": {
      "text/latex": [
       "$$\\left \\{ \\frac{1}{n} c_{n - 1} : \\frac{c_{n - 2}}{n - 1} + \\frac{2}{n}, \\quad \\frac{c_{n - 4}}{n - 3} : \\frac{2}{n - 3} + \\frac{c_{n - 5}}{n - 4}, \\quad \\frac{c_{n - 3}}{n - 2} : \\frac{2}{n - 2} + \\frac{c_{n - 4}}{n - 3}, \\quad \\frac{c_{n - 2}}{n - 1} : \\frac{2}{n - 1} + \\frac{c_{n - 3}}{n - 2}\\right \\}$$"
      ],
      "text/plain": [
       "⎧c[n - 1]  c[n - 2]   2  c[n - 4]    2     c[n - 5]  c[n - 3]    2     c[n - 4\n",
       "⎨────────: ──────── + ─, ────────: ───── + ────────, ────────: ───── + ───────\n",
       "⎩   n       n - 1     n   n - 3    n - 3    n - 4     n - 2    n - 2    n - 3 \n",
       "\n",
       "]  c[n - 2]    2     c[n - 3]⎫\n",
       "─, ────────: ───── + ────────⎬\n",
       "    n - 1    n - 1    n - 2  ⎭"
      ]
     },
     "execution_count": 9,
     "metadata": {},
     "output_type": "execute_result"
    }
   ],
   "source": [
    "project_recurrence_spec(unfolded, terms_cache=True)"
   ]
  },
  {
   "cell_type": "code",
   "execution_count": 10,
   "metadata": {
    "collapsed": true
   },
   "outputs": [],
   "source": [
    "boundary_conditions = {c[0]:Integer(0)}\n",
    "\n",
    "checks_recurrence_spec=dict(recurrence_eq=checks_recurrence, indexed=c, index=n, \n",
    "                            terms_cache=boundary_conditions)\n",
    "\n",
    "unfolded = do_unfolding_steps(checks_recurrence_spec, steps=4)"
   ]
  },
  {
   "cell_type": "code",
   "execution_count": 11,
   "metadata": {
    "collapsed": true
   },
   "outputs": [],
   "source": [
    "instantiated_rec_spec = base_instantiation(unfolded)"
   ]
  },
  {
   "cell_type": "code",
   "execution_count": 12,
   "metadata": {
    "collapsed": false
   },
   "outputs": [
    {
     "data": {
      "text/latex": [
       "$$\\left ( \\left \\{ c_{0} : 0, \\quad \\frac{c_{1}}{2} : c_{0} + 1, \\quad \\frac{c_{2}}{3} : \\frac{c_{1}}{2} + \\frac{2}{3}, \\quad \\frac{c_{3}}{4} : \\frac{c_{2}}{3} + \\frac{1}{2}, \\quad \\frac{c_{4}}{5} : \\frac{c_{3}}{4} + \\frac{2}{5}\\right \\}, \\quad \\frac{c_{5}}{6} = c_{0} + \\frac{29}{10}\\right )$$"
      ],
      "text/plain": [
       "⎛⎧         c[1]            c[2]  c[1]   2  c[3]  c[2]   1  c[4]  c[3]   2⎫  c[\n",
       "⎜⎨c[0]: 0, ────: c[0] + 1, ────: ──── + ─, ────: ──── + ─, ────: ──── + ─⎬, ──\n",
       "⎝⎩          2               3     2     3   4     3     2   5     4     5⎭   6\n",
       "\n",
       "5]          29⎞\n",
       "── = c[0] + ──⎟\n",
       "            10⎠"
      ]
     },
     "execution_count": 12,
     "metadata": {},
     "output_type": "execute_result"
    }
   ],
   "source": [
    "project_recurrence_spec(instantiated_rec_spec, recurrence_eq=True, terms_cache=True)"
   ]
  },
  {
   "cell_type": "code",
   "execution_count": 13,
   "metadata": {
    "collapsed": true
   },
   "outputs": [],
   "source": [
    "fully_instantiated_spec = repeated_instantiating(instantiated_rec_spec)"
   ]
  },
  {
   "cell_type": "code",
   "execution_count": 14,
   "metadata": {
    "collapsed": false
   },
   "outputs": [
    {
     "data": {
      "text/latex": [
       "$$\\left ( \\left \\{ c_{0} : 0, \\quad \\frac{c_{1}}{2} : 1, \\quad \\frac{c_{2}}{3} : \\frac{5}{3}, \\quad \\frac{c_{3}}{4} : \\frac{13}{6}, \\quad \\frac{c_{4}}{5} : \\frac{77}{30}\\right \\}, \\quad \\frac{c_{5}}{6} = \\frac{29}{10}\\right )$$"
      ],
      "text/plain": [
       "⎛⎧         c[1]     c[2]       c[3]        c[4]  77⎫  c[5]   29⎞\n",
       "⎜⎨c[0]: 0, ────: 1, ────: 5/3, ────: 13/6, ────: ──⎬, ──── = ──⎟\n",
       "⎝⎩          2        3          4           5    30⎭   6     10⎠"
      ]
     },
     "execution_count": 14,
     "metadata": {},
     "output_type": "execute_result"
    }
   ],
   "source": [
    "project_recurrence_spec(fully_instantiated_spec, recurrence_eq=True, terms_cache=True)"
   ]
  },
  {
   "cell_type": "code",
   "execution_count": 15,
   "metadata": {
    "collapsed": false
   },
   "outputs": [
    {
     "data": {
      "text/latex": [
       "\\begin{array}{c}\\frac{c_{1}}{2} = c_{0} + 1\\\\\n",
       "\\frac{c_{2}}{3} = c_{0} + \\frac{5}{3}\\\\\n",
       "\\frac{c_{3}}{4} = c_{0} + \\frac{13}{6}\\\\\n",
       "\\frac{c_{4}}{5} = c_{0} + \\frac{77}{30}\\\\\n",
       "\\frac{c_{5}}{6} = c_{0} + \\frac{29}{10}\\\\\n",
       "\\frac{c_{6}}{7} = c_{0} + \\frac{223}{70}\\\\\n",
       "\\frac{c_{7}}{8} = c_{0} + \\frac{481}{140}\\\\\n",
       "\\frac{c_{8}}{9} = c_{0} + \\frac{4609}{1260}\\\\\n",
       "\\frac{c_{9}}{10} = c_{0} + \\frac{4861}{1260}\\\\\n",
       "\\frac{c_{10}}{11} = c_{0} + \\frac{55991}{13860}\\\\\\end{array}"
      ],
      "text/plain": [
       "<IPython.core.display.Latex object>"
      ]
     },
     "execution_count": 15,
     "metadata": {},
     "output_type": "execute_result"
    }
   ],
   "source": [
    "ipython_latex(checks_recurrence_spec, times_range=range(10))"
   ]
  },
  {
   "cell_type": "code",
   "execution_count": 16,
   "metadata": {
    "collapsed": false
   },
   "outputs": [
    {
     "data": {
      "text/latex": [
       "$$\\left \\{ \\frac{1}{n} c_{n - 1} : \\frac{c_{n - 2}}{n - 1} + \\frac{2}{n}, \\quad \\frac{c_{n - 9}}{n - 8} : \\frac{2}{n - 8} + \\frac{c_{n - 10}}{n - 9}, \\quad \\frac{c_{n - 8}}{n - 7} : \\frac{2}{n - 7} + \\frac{c_{n - 9}}{n - 8}, \\quad \\frac{c_{n - 7}}{n - 6} : \\frac{2}{n - 6} + \\frac{c_{n - 8}}{n - 7}, \\quad \\frac{c_{n - 6}}{n - 5} : \\frac{2}{n - 5} + \\frac{c_{n - 7}}{n - 6}, \\quad \\frac{c_{n - 5}}{n - 4} : \\frac{2}{n - 4} + \\frac{c_{n - 6}}{n - 5}, \\quad \\frac{c_{n - 4}}{n - 3} : \\frac{2}{n - 3} + \\frac{c_{n - 5}}{n - 4}, \\quad \\frac{c_{n - 3}}{n - 2} : \\frac{2}{n - 2} + \\frac{c_{n - 4}}{n - 3}, \\quad \\frac{c_{n - 2}}{n - 1} : \\frac{2}{n - 1} + \\frac{c_{n - 3}}{n - 2}, \\quad c_{0} : 0\\right \\}$$"
      ],
      "text/plain": [
       "⎧c[n - 1]  c[n - 2]   2  c[n - 9]    2     c[n - 10]  c[n - 8]    2     c[n - \n",
       "⎨────────: ──────── + ─, ────────: ───── + ─────────, ────────: ───── + ──────\n",
       "⎩   n       n - 1     n   n - 8    n - 8     n - 9     n - 7    n - 7    n - 8\n",
       "\n",
       "9]  c[n - 7]    2     c[n - 8]  c[n - 6]    2     c[n - 7]  c[n - 5]    2     \n",
       "──, ────────: ───── + ────────, ────────: ───── + ────────, ────────: ───── + \n",
       "     n - 6    n - 6    n - 7     n - 5    n - 5    n - 6     n - 4    n - 4   \n",
       "\n",
       "c[n - 6]  c[n - 4]    2     c[n - 5]  c[n - 3]    2     c[n - 4]  c[n - 2]    \n",
       "────────, ────────: ───── + ────────, ────────: ───── + ────────, ────────: ──\n",
       " n - 5     n - 3    n - 3    n - 4     n - 2    n - 2    n - 3     n - 1    n \n",
       "\n",
       "2     c[n - 3]         ⎫\n",
       "─── + ────────, c[0]: 0⎬\n",
       "- 1    n - 2           ⎭"
      ]
     },
     "execution_count": 16,
     "metadata": {},
     "output_type": "execute_result"
    }
   ],
   "source": [
    "project_recurrence_spec(checks_recurrence_spec, terms_cache=True)"
   ]
  },
  {
   "cell_type": "code",
   "execution_count": 20,
   "metadata": {
    "collapsed": false
   },
   "outputs": [
    {
     "data": {
      "text/latex": [
       "$$\\left [ \\frac{c_{n}}{n + 1} = \\frac{2}{n + 1} + \\frac{1}{n} c_{n - 1}, \\quad c_{0} = 0\\right ]$$"
      ],
      "text/plain": [
       "⎡ c[n]     2     c[n - 1]          ⎤\n",
       "⎢───── = ───── + ────────, c[0] = 0⎥\n",
       "⎣n + 1   n + 1      n              ⎦"
      ]
     },
     "execution_count": 20,
     "metadata": {},
     "output_type": "execute_result"
    }
   ],
   "source": [
    "subsumed_rec_specs = subsume_cache(checks_recurrence_spec)\n",
    "list(map(lambda spec: project_recurrence_spec(spec, recurrence_eq=True), subsumed_rec_specs))"
   ]
  },
  {
   "cell_type": "markdown",
   "metadata": {},
   "source": [
    "## Quicksort's swaps recurrence"
   ]
  },
  {
   "cell_type": "code",
   "execution_count": 24,
   "metadata": {
    "collapsed": false
   },
   "outputs": [
    {
     "data": {
      "image/png": "[encoded data removed]",
      "text/latex": [
       "$$\\frac{s_{n}}{n + 1} = \\frac{1}{n} s_{n - 1} + \\frac{2 n - 3}{6 n \\left(n + 1\\right)}$$"
      ],
      "text/plain": [
       " s[n]   s[n - 1]     2⋅n - 3  \n",
       "───── = ──────── + ───────────\n",
       "n + 1      n       6⋅n⋅(n + 1)"
      ]
     },
     "execution_count": 24,
     "metadata": {},
     "output_type": "execute_result"
    }
   ],
   "source": [
    "s = IndexedBase('s')\n",
    "swaps_recurrence = Eq(s[n]/(n+1),s[n-1]/n + (2*n-3)/(6*n*(n+1)))\n",
    "swaps_recurrence"
   ]
  },
  {
   "cell_type": "code",
   "execution_count": 25,
   "metadata": {
    "collapsed": true
   },
   "outputs": [],
   "source": [
    "swaps_recurrence_spec=dict(recurrence_eq=swaps_recurrence, indexed=s, index=n, terms_cache={})"
   ]
  },
  {
   "cell_type": "code",
   "execution_count": 26,
   "metadata": {
    "collapsed": false
   },
   "outputs": [
    {
     "data": {
      "image/png": "[encoded data removed]",
      "text/latex": [
       "$$\\frac{s_{n}}{n + 1} = \\frac{s_{n - 5}}{n - 4} + \\frac{2 n - 11}{6 \\left(n - 4\\right) \\left(n - 3\\right)} + \\frac{2 n - 9}{6 \\left(n - 3\\right) \\left(n - 2\\right)} + \\frac{2 n - 7}{6 \\left(n - 2\\right) \\left(n - 1\\right)} + \\frac{2 n - 5}{6 n \\left(n - 1\\right)} + \\frac{2 n - 3}{6 n \\left(n + 1\\right)}$$"
      ],
      "text/plain": [
       " s[n]   s[n - 5]        2⋅n - 11            2⋅n - 9             2⋅n - 7       \n",
       "───── = ──────── + ───────────────── + ───────────────── + ───────────────── +\n",
       "n + 1    n - 4     6⋅(n - 4)⋅(n - 3)   6⋅(n - 3)⋅(n - 2)   6⋅(n - 2)⋅(n - 1)  \n",
       "\n",
       "   2⋅n - 5       2⋅n - 3  \n",
       " ─────────── + ───────────\n",
       " 6⋅n⋅(n - 1)   6⋅n⋅(n + 1)"
      ]
     },
     "execution_count": 26,
     "metadata": {},
     "output_type": "execute_result"
    }
   ],
   "source": [
    "unfolded = do_unfolding_steps(swaps_recurrence_spec, 4)\n",
    "recurrence_eq = project_recurrence_spec(unfolded, recurrence_eq=True)\n",
    "recurrence_eq"
   ]
  },
  {
   "cell_type": "code",
   "execution_count": 27,
   "metadata": {
    "collapsed": false
   },
   "outputs": [
    {
     "data": {
      "image/png": "[encoded data removed]",
      "text/latex": [
       "$$\\frac{s_{10}}{11} = \\frac{s_{5}}{6} + \\frac{12647}{83160}$$"
      ],
      "text/plain": [
       "s[10]   s[5]   12647\n",
       "───── = ──── + ─────\n",
       "  11     6     83160"
      ]
     },
     "execution_count": 27,
     "metadata": {},
     "output_type": "execute_result"
    }
   ],
   "source": [
    "recurrence_eq.subs(n,10)"
   ]
  },
  {
   "cell_type": "code",
   "execution_count": 28,
   "metadata": {
    "collapsed": false
   },
   "outputs": [
    {
     "data": {
      "image/png": "[encoded data removed]",
      "text/latex": [
       "$$\\left ( \\left \\{ \\frac{s_{1}}{2} : s_{0} - \\frac{1}{12}, \\quad \\frac{s_{2}}{3} : \\frac{s_{1}}{2} + \\frac{1}{36}, \\quad \\frac{s_{3}}{4} : \\frac{s_{2}}{3} + \\frac{1}{24}, \\quad \\frac{s_{4}}{5} : \\frac{s_{3}}{4} + \\frac{1}{24}\\right \\}, \\quad \\frac{s_{5}}{6} = s_{0} + \\frac{1}{15}\\right )$$"
      ],
      "text/plain": [
       "⎛⎧s[1]               s[2]  s[1]   1   s[3]  s[2]   1   s[4]  s[3]   1 ⎫  s[5] \n",
       "⎜⎨────: s[0] - 1/12, ────: ──── + ──, ────: ──── + ──, ────: ──── + ──⎬, ──── \n",
       "⎝⎩ 2                  3     2     36   4     3     24   5     4     24⎭   6   \n",
       "\n",
       "             ⎞\n",
       "= s[0] + 1/15⎟\n",
       "             ⎠"
      ]
     },
     "execution_count": 28,
     "metadata": {},
     "output_type": "execute_result"
    }
   ],
   "source": [
    "project_recurrence_spec(base_instantiation(unfolded), recurrence_eq=True, terms_cache=True)"
   ]
  },
  {
   "cell_type": "markdown",
   "metadata": {},
   "source": [
    "### With boundary conditions"
   ]
  },
  {
   "cell_type": "code",
   "execution_count": 29,
   "metadata": {
    "collapsed": false
   },
   "outputs": [
    {
     "data": {
      "image/png": "[encoded data removed]",
      "text/latex": [
       "$$\\left ( \\left \\{ s_{0} : 0, \\quad \\frac{s_{1}}{2} : - \\frac{1}{12}, \\quad \\frac{s_{2}}{3} : - \\frac{1}{18}, \\quad \\frac{s_{3}}{4} : - \\frac{1}{72}, \\quad \\frac{s_{4}}{5} : \\frac{1}{36}, \\quad \\frac{s_{5}}{6} : \\frac{1}{15}, \\quad \\frac{s_{6}}{7} : \\frac{43}{420}, \\quad \\frac{s_{7}}{8} : \\frac{227}{1680}, \\quad \\frac{s_{8}}{9} : \\frac{1249}{7560}\\right \\}, \\quad \\frac{s_{9}}{10} = \\frac{1459}{7560}\\right )$$"
      ],
      "text/plain": [
       "⎛⎧         s[1]         s[2]         s[3]         s[4]        s[5]        s[6]\n",
       "⎜⎨s[0]: 0, ────: -1/12, ────: -1/18, ────: -1/72, ────: 1/36, ────: 1/15, ────\n",
       "⎝⎩          2            3            4            5           6           7  \n",
       "\n",
       "   43  s[7]  227   s[8]  1249⎫  s[9]   1459⎞\n",
       ": ───, ────: ────, ────: ────⎬, ──── = ────⎟\n",
       "  420   8    1680   9    7560⎭   10    7560⎠"
      ]
     },
     "execution_count": 29,
     "metadata": {},
     "output_type": "execute_result"
    }
   ],
   "source": [
    "swaps_recurrence_spec=dict(recurrence_eq=swaps_recurrence, indexed=s, index=n, terms_cache={s[0]:Integer(0)})\n",
    "unfolded = do_unfolding_steps(swaps_recurrence_spec, steps=8)\n",
    "instantiated_rec_spec = base_instantiation(unfolded)\n",
    "fully_instantiated_spec = repeated_instantiating(instantiated_rec_spec)\n",
    "project_recurrence_spec(fully_instantiated_spec, recurrence_eq=True, terms_cache=True)"
   ]
  },
  {
   "cell_type": "code",
   "execution_count": 30,
   "metadata": {
    "collapsed": false
   },
   "outputs": [
    {
     "data": {
      "text/latex": [
       "\\begin{array}{c}\\frac{s_{1}}{2} = s_{0} - \\frac{1}{12}\\\\\n",
       "\\frac{s_{2}}{3} = s_{0} - \\frac{1}{18}\\\\\n",
       "\\frac{s_{3}}{4} = s_{0} - \\frac{1}{72}\\\\\n",
       "\\frac{s_{4}}{5} = s_{0} + \\frac{1}{36}\\\\\n",
       "\\frac{s_{5}}{6} = s_{0} + \\frac{1}{15}\\\\\n",
       "\\frac{s_{6}}{7} = s_{0} + \\frac{43}{420}\\\\\n",
       "\\frac{s_{7}}{8} = s_{0} + \\frac{227}{1680}\\\\\n",
       "\\frac{s_{8}}{9} = s_{0} + \\frac{1249}{7560}\\\\\n",
       "\\frac{s_{9}}{10} = s_{0} + \\frac{1459}{7560}\\\\\n",
       "\\frac{s_{10}}{11} = s_{0} + \\frac{18191}{83160}\\\\\\end{array}"
      ],
      "text/plain": [
       "<IPython.core.display.Latex object>"
      ]
     },
     "execution_count": 30,
     "metadata": {},
     "output_type": "execute_result"
    }
   ],
   "source": [
    "ipython_latex(swaps_recurrence_spec, times_range=range(10))"
   ]
  },
  {
   "cell_type": "markdown",
   "metadata": {},
   "source": [
    "## Fibonacci recurrence\n",
    "\n",
    "A nice picture is [here][fibonacci-oeis].\n",
    "\n",
    "[fibonacci-oeis]:http://oeis.org/A000045/a000045.html"
   ]
  },
  {
   "cell_type": "markdown",
   "metadata": {},
   "source": [
    "### Backwards subscripts"
   ]
  },
  {
   "cell_type": "markdown",
   "metadata": {},
   "source": [
    "#### Manually unfold $f_{n-1}$ according to $f_{n}=f_{n-1} + f_{n-2}$"
   ]
  },
  {
   "cell_type": "code",
   "execution_count": 31,
   "metadata": {
    "collapsed": false
   },
   "outputs": [
    {
     "data": {
      "text/latex": [
       "$$f_{n} = f_{n - 3} + 2 f_{n - 2}$$"
      ],
      "text/plain": [
       "f[n] = f[n - 3] + 2⋅f[n - 2]"
      ]
     },
     "execution_count": 31,
     "metadata": {},
     "output_type": "execute_result"
    }
   ],
   "source": [
    "f = IndexedBase('f')\n",
    "fibonacci_recurrence = Eq(f[n],Add(f[n-2],f[n-3],f[n-2],evaluate=True))\n",
    "fibonacci_recurrence"
   ]
  },
  {
   "cell_type": "code",
   "execution_count": 32,
   "metadata": {
    "collapsed": false
   },
   "outputs": [
    {
     "data": {
      "text/latex": [
       "$$f_{n} = f_{n - 3} + 2 f_{n - 2}$$"
      ],
      "text/plain": [
       "f[n] = f[n - 3] + 2⋅f[n - 2]"
      ]
     },
     "execution_count": 32,
     "metadata": {},
     "output_type": "execute_result"
    }
   ],
   "source": [
    "fibonacci_recurrence_spec=dict(recurrence_eq=fibonacci_recurrence, indexed=f, index=n, terms_cache={})\n",
    "unfolded_one_step_fib_rec_spec = do_unfolding_steps(fibonacci_recurrence_spec, 0)\n",
    "recurrence_eq = project_recurrence_spec(unfolded_one_step_fib_rec_spec, recurrence_eq=True)\n",
    "recurrence_eq"
   ]
  },
  {
   "cell_type": "code",
   "execution_count": 33,
   "metadata": {
    "collapsed": false
   },
   "outputs": [
    {
     "data": {
      "text/latex": [
       "\\begin{array}{c}f_{3} = f_{0} + 2 f_{1}\\\\\n",
       "f_{6} = f_{0} + 4 f_{1} + 4 f_{2}\\\\\n",
       "f_{9} = f_{0} + 6 f_{1} + 12 f_{2} + 8 f_{3}\\\\\n",
       "f_{12} = f_{0} + 8 f_{1} + 24 f_{2} + 32 f_{3} + 16 f_{4}\\\\\n",
       "f_{15} = f_{0} + 10 f_{1} + 40 f_{2} + 80 f_{3} + 80 f_{4} + 32 f_{5}\\\\\n",
       "f_{18} = f_{0} + 12 f_{1} + 60 f_{2} + 160 f_{3} + 240 f_{4} + 192 f_{5} + 64 f_{6}\\\\\n",
       "f_{21} = f_{0} + 14 f_{1} + 84 f_{2} + 280 f_{3} + 560 f_{4} + 672 f_{5} + 448 f_{6} + 128 f_{7}\\\\\n",
       "f_{24} = f_{0} + 16 f_{1} + 112 f_{2} + 448 f_{3} + 1120 f_{4} + 1792 f_{5} + 1792 f_{6} + 1024 f_{7} + 256 f_{8}\\\\\\end{array}"
      ],
      "text/plain": [
       "<IPython.core.display.Latex object>"
      ]
     },
     "execution_count": 33,
     "metadata": {},
     "output_type": "execute_result"
    }
   ],
   "source": [
    "ipython_latex(unfolded_one_step_fib_rec_spec, times_range=range(8), first_order=True)"
   ]
  },
  {
   "cell_type": "markdown",
   "metadata": {},
   "source": [
    "coefficients form a known triangle, [A013609][oeis].\n",
    "\n",
    "[oeis]:http://oeis.org/A013609"
   ]
  },
  {
   "cell_type": "code",
   "execution_count": 34,
   "metadata": {
    "collapsed": false
   },
   "outputs": [
    {
     "data": {
      "text/latex": [
       "$$\\left \\{ f_{n - 21} : f_{n - 24} + 2 f_{n - 23}, \\quad f_{n - 20} : f_{n - 23} + 2 f_{n - 22}, \\quad f_{n - 19} : f_{n - 22} + 2 f_{n - 21}, \\quad f_{n - 18} : f_{n - 21} + 2 f_{n - 20}, \\quad f_{n - 17} : f_{n - 20} + 2 f_{n - 19}, \\quad f_{n - 16} : f_{n - 19} + 2 f_{n - 18}, \\quad f_{n - 15} : f_{n - 18} + 2 f_{n - 17}, \\quad f_{n - 14} : f_{n - 17} + 2 f_{n - 16}, \\quad f_{n - 13} : f_{n - 16} + 2 f_{n - 15}, \\quad f_{n - 12} : f_{n - 15} + 2 f_{n - 14}, \\quad f_{n - 11} : f_{n - 14} + 2 f_{n - 13}, \\quad f_{n - 10} : f_{n - 13} + 2 f_{n - 12}, \\quad f_{n - 9} : f_{n - 12} + 2 f_{n - 11}, \\quad f_{n - 8} : f_{n - 11} + 2 f_{n - 10}, \\quad f_{n - 7} : f_{n - 10} + 2 f_{n - 9}, \\quad f_{n - 6} : f_{n - 9} + 2 f_{n - 8}, \\quad f_{n - 5} : f_{n - 8} + 2 f_{n - 7}, \\quad f_{n - 4} : f_{n - 7} + 2 f_{n - 6}, \\quad f_{n - 3} : f_{n - 6} + 2 f_{n - 5}, \\quad f_{n - 2} : f_{n - 5} + 2 f_{n - 4}\\right \\}$$"
      ],
      "text/plain": [
       "{f[n - 21]: f[n - 24] + 2⋅f[n - 23], f[n - 20]: f[n - 23] + 2⋅f[n - 22], f[n -\n",
       " 19]: f[n - 22] + 2⋅f[n - 21], f[n - 18]: f[n - 21] + 2⋅f[n - 20], f[n - 17]: \n",
       "f[n - 20] + 2⋅f[n - 19], f[n - 16]: f[n - 19] + 2⋅f[n - 18], f[n - 15]: f[n - \n",
       "18] + 2⋅f[n - 17], f[n - 14]: f[n - 17] + 2⋅f[n - 16], f[n - 13]: f[n - 16] + \n",
       "2⋅f[n - 15], f[n - 12]: f[n - 15] + 2⋅f[n - 14], f[n - 11]: f[n - 14] + 2⋅f[n \n",
       "- 13], f[n - 10]: f[n - 13] + 2⋅f[n - 12], f[n - 9]: f[n - 12] + 2⋅f[n - 11], \n",
       "f[n - 8]: f[n - 11] + 2⋅f[n - 10], f[n - 7]: f[n - 10] + 2⋅f[n - 9], f[n - 6]:\n",
       " f[n - 9] + 2⋅f[n - 8], f[n - 5]: f[n - 8] + 2⋅f[n - 7], f[n - 4]: f[n - 7] + \n",
       "2⋅f[n - 6], f[n - 3]: f[n - 6] + 2⋅f[n - 5], f[n - 2]: f[n - 5] + 2⋅f[n - 4]}"
      ]
     },
     "execution_count": 34,
     "metadata": {},
     "output_type": "execute_result"
    }
   ],
   "source": [
    "project_recurrence_spec(unfolded_one_step_fib_rec_spec, terms_cache=True)"
   ]
  },
  {
   "cell_type": "code",
   "execution_count": 35,
   "metadata": {
    "collapsed": false
   },
   "outputs": [
    {
     "data": {
      "text/latex": [
       "$$\\left [ f_{n} = f_{n - 3} + 2 f_{n - 2}\\right ]$$"
      ],
      "text/plain": [
       "[f[n] = f[n - 3] + 2⋅f[n - 2]]"
      ]
     },
     "execution_count": 35,
     "metadata": {},
     "output_type": "execute_result"
    }
   ],
   "source": [
    "subsumed_rec_specs = subsume_cache(unfolded_one_step_fib_rec_spec)\n",
    "list(map(lambda spec: project_recurrence_spec(spec, recurrence_eq=True), subsumed_rec_specs))"
   ]
  },
  {
   "cell_type": "code",
   "execution_count": 36,
   "metadata": {
    "collapsed": false
   },
   "outputs": [
    {
     "data": {
      "text/latex": [
       "$$f_{n} = f_{n - 3} + 2 f_{n - 2}$$"
      ],
      "text/plain": [
       "f[n] = f[n - 3] + 2⋅f[n - 2]"
      ]
     },
     "execution_count": 36,
     "metadata": {},
     "output_type": "execute_result"
    }
   ],
   "source": [
    "# simply redo the previous defining cell in order to start fresh\n",
    "fibonacci_recurrence_spec=dict(recurrence_eq=fibonacci_recurrence, indexed=f, index=n, terms_cache={})\n",
    "unfolded_one_step_fib_rec_spec = do_unfolding_steps(fibonacci_recurrence_spec, 0)\n",
    "recurrence_eq = project_recurrence_spec(unfolded_one_step_fib_rec_spec, recurrence_eq=True)\n",
    "recurrence_eq"
   ]
  },
  {
   "cell_type": "code",
   "execution_count": 37,
   "metadata": {
    "collapsed": false
   },
   "outputs": [
    {
     "data": {
      "text/latex": [
       "\\begin{array}{c}f_{3} = f_{0} + 2 f_{1}\\\\\n",
       "f_{6} = f_{0} + 4 f_{1} + 4 f_{2}\\\\\n",
       "f_{12} = f_{0} + 8 f_{1} + 24 f_{2} + 32 f_{3} + 16 f_{4}\\\\\n",
       "f_{24} = f_{0} + 16 f_{1} + 112 f_{2} + 448 f_{3} + 1120 f_{4} + 1792 f_{5} + 1792 f_{6} + 1024 f_{7} + 256 f_{8}\\\\\\end{array}"
      ],
      "text/plain": [
       "<IPython.core.display.Latex object>"
      ]
     },
     "execution_count": 37,
     "metadata": {},
     "output_type": "execute_result"
    }
   ],
   "source": [
    "ipython_latex(unfolded_one_step_fib_rec_spec, times_range=range(4), first_order=False)"
   ]
  },
  {
   "cell_type": "code",
   "execution_count": 38,
   "metadata": {
    "collapsed": false
   },
   "outputs": [
    {
     "data": {
      "text/latex": [
       "$$\\left \\{ f_{n - 12} : f_{n - 24} + 8 f_{n - 23} + 24 f_{n - 22} + 32 f_{n - 21} + 16 f_{n - 20}, \\quad f_{n - 11} : f_{n - 23} + 8 f_{n - 22} + 24 f_{n - 21} + 32 f_{n - 20} + 16 f_{n - 19}, \\quad f_{n - 10} : f_{n - 22} + 8 f_{n - 21} + 24 f_{n - 20} + 32 f_{n - 19} + 16 f_{n - 18}, \\quad f_{n - 9} : f_{n - 21} + 8 f_{n - 20} + 24 f_{n - 19} + 32 f_{n - 18} + 16 f_{n - 17}, \\quad f_{n - 8} : f_{n - 20} + 8 f_{n - 19} + 24 f_{n - 18} + 32 f_{n - 17} + 16 f_{n - 16}, \\quad f_{n - 6} : f_{n - 12} + 4 f_{n - 11} + 4 f_{n - 10}, \\quad f_{n - 5} : f_{n - 11} + 4 f_{n - 10} + 4 f_{n - 9}, \\quad f_{n - 4} : f_{n - 10} + 4 f_{n - 9} + 4 f_{n - 8}, \\quad f_{n - 3} : f_{n - 6} + 2 f_{n - 5}, \\quad f_{n - 2} : f_{n - 5} + 2 f_{n - 4}\\right \\}$$"
      ],
      "text/plain": [
       "{f[n - 12]: f[n - 24] + 8⋅f[n - 23] + 24⋅f[n - 22] + 32⋅f[n - 21] + 16⋅f[n - 2\n",
       "0], f[n - 11]: f[n - 23] + 8⋅f[n - 22] + 24⋅f[n - 21] + 32⋅f[n - 20] + 16⋅f[n \n",
       "- 19], f[n - 10]: f[n - 22] + 8⋅f[n - 21] + 24⋅f[n - 20] + 32⋅f[n - 19] + 16⋅f\n",
       "[n - 18], f[n - 9]: f[n - 21] + 8⋅f[n - 20] + 24⋅f[n - 19] + 32⋅f[n - 18] + 16\n",
       "⋅f[n - 17], f[n - 8]: f[n - 20] + 8⋅f[n - 19] + 24⋅f[n - 18] + 32⋅f[n - 17] + \n",
       "16⋅f[n - 16], f[n - 6]: f[n - 12] + 4⋅f[n - 11] + 4⋅f[n - 10], f[n - 5]: f[n -\n",
       " 11] + 4⋅f[n - 10] + 4⋅f[n - 9], f[n - 4]: f[n - 10] + 4⋅f[n - 9] + 4⋅f[n - 8]\n",
       ", f[n - 3]: f[n - 6] + 2⋅f[n - 5], f[n - 2]: f[n - 5] + 2⋅f[n - 4]}"
      ]
     },
     "execution_count": 38,
     "metadata": {},
     "output_type": "execute_result"
    }
   ],
   "source": [
    "project_recurrence_spec(unfolded_one_step_fib_rec_spec, terms_cache=True)"
   ]
  },
  {
   "cell_type": "code",
   "execution_count": 39,
   "metadata": {
    "collapsed": false
   },
   "outputs": [
    {
     "data": {
      "text/latex": [
       "$$\\left [ f_{n} = f_{n - 12} + 8 f_{n - 11} + 24 f_{n - 10} + 32 f_{n - 9} + 16 f_{n - 8}, \\quad f_{n} = f_{n - 6} + 4 f_{n - 5} + 4 f_{n - 4}, \\quad f_{n} = f_{n - 3} + 2 f_{n - 2}\\right ]$$"
      ],
      "text/plain": [
       "[f[n] = f[n - 12] + 8⋅f[n - 11] + 24⋅f[n - 10] + 32⋅f[n - 9] + 16⋅f[n - 8], f[\n",
       "n] = f[n - 6] + 4⋅f[n - 5] + 4⋅f[n - 4], f[n] = f[n - 3] + 2⋅f[n - 2]]"
      ]
     },
     "execution_count": 39,
     "metadata": {},
     "output_type": "execute_result"
    }
   ],
   "source": [
    "subsumed_rec_specs = subsume_cache(unfolded_one_step_fib_rec_spec)\n",
    "list(map(lambda spec: project_recurrence_spec(spec, recurrence_eq=True), subsumed_rec_specs))"
   ]
  },
  {
   "cell_type": "markdown",
   "metadata": {},
   "source": [
    "#### Manually unfold $f_{n-2}$ according to $f_{n}=f_{n-1} + f_{n-2}$"
   ]
  },
  {
   "cell_type": "code",
   "execution_count": 26,
   "metadata": {
    "collapsed": false
   },
   "outputs": [
    {
     "data": {
      "text/latex": [
       "$$f_{n} = f_{n - 4} + f_{n - 3} + f_{n - 1}$$"
      ],
      "text/plain": [
       "f[n] = f[n - 4] + f[n - 3] + f[n - 1]"
      ]
     },
     "execution_count": 26,
     "metadata": {},
     "output_type": "execute_result"
    }
   ],
   "source": [
    "f = IndexedBase('f')\n",
    "fibonacci_recurrence = Eq(f[n],Add(f[n-1],f[n-4],f[n-3],evaluate=True))\n",
    "fibonacci_recurrence"
   ]
  },
  {
   "cell_type": "code",
   "execution_count": 27,
   "metadata": {
    "collapsed": false
   },
   "outputs": [
    {
     "data": {
      "text/latex": [
       "$$f_{n} = f_{n - 4} + f_{n - 3} + f_{n - 1}$$"
      ],
      "text/plain": [
       "f[n] = f[n - 4] + f[n - 3] + f[n - 1]"
      ]
     },
     "execution_count": 27,
     "metadata": {},
     "output_type": "execute_result"
    }
   ],
   "source": [
    "fibonacci_recurrence_spec=dict(recurrence_eq=fibonacci_recurrence, indexed=f, index=n, terms_cache={})\n",
    "unfolded_one_step_fib_rec_spec = do_unfolding_steps(fibonacci_recurrence_spec, 0)\n",
    "recurrence_eq = project_recurrence_spec(unfolded_one_step_fib_rec_spec, recurrence_eq=True)\n",
    "recurrence_eq"
   ]
  },
  {
   "cell_type": "code",
   "execution_count": 28,
   "metadata": {
    "collapsed": false
   },
   "outputs": [
    {
     "data": {
      "text/latex": [
       "\\begin{array}{c}f_{4} = f_{0} + f_{1} + f_{3}\\\\\n",
       "f_{8} = f_{0} + 2 f_{1} + f_{2} + 2 f_{3} + 2 f_{4} + f_{6}\\\\\n",
       "f_{12} = f_{0} + 3 f_{1} + 3 f_{2} + 4 f_{3} + 6 f_{4} + 3 f_{5} + 3 f_{6} + 3 f_{7} + f_{9}\\\\\n",
       "f_{16} = f_{0} + 4 f_{1} + 6 f_{2} + 8 f_{3} + 13 f_{4} + 12 f_{5} + 10 f_{6} + 12 f_{7} + 6 f_{8} + 4 f_{9} + 4 f_{10} + f_{12}\\\\\n",
       "f_{20} = f_{0} + 5 f_{1} + 10 f_{2} + 15 f_{3} + 25 f_{4} + 31 f_{5} + 30 f_{6} + 35 f_{7} + 30 f_{8} + 20 f_{9} + 20 f_{10} + 10 f_{11} + 5 f_{12} + 5 f_{13} + f_{15}\\\\\n",
       "f_{24} = f_{0} + 6 f_{1} + 15 f_{2} + 26 f_{3} + 45 f_{4} + 66 f_{5} + 76 f_{6} + 90 f_{7} + 96 f_{8} + 80 f_{9} + 75 f_{10} + 60 f_{11} + 35 f_{12} + 30 f_{13} + 15 f_{14} + 6 f_{15} + 6 f_{16} + f_{18}\\\\\n",
       "f_{28} = f_{0} + 7 f_{1} + 21 f_{2} + 42 f_{3} + 77 f_{4} + 126 f_{5} + 168 f_{6} + 211 f_{7} + 252 f_{8} + 252 f_{9} + 245 f_{10} + 231 f_{11} + 175 f_{12} + 140 f_{13} + 105 f_{14} + 56 f_{15} + 42 f_{16} + 21 f_{17} + 7 f_{18} + 7 f_{19} + f_{21}\\\\\n",
       "f_{32} = f_{0} + 8 f_{1} + 28 f_{2} + 64 f_{3} + 126 f_{4} + 224 f_{5} + 336 f_{6} + 456 f_{7} + 589 f_{8} + 672 f_{9} + 708 f_{10} + 728 f_{11} + 658 f_{12} + 560 f_{13} + 476 f_{14} + 336 f_{15} + 238 f_{16} + 168 f_{17} + 84 f_{18} + 56 f_{19} + 28 f_{20} + 8 f_{21} + 8 f_{22} + f_{24}\\\\\\end{array}"
      ],
      "text/plain": [
       "<IPython.core.display.Latex object>"
      ]
     },
     "execution_count": 28,
     "metadata": {},
     "output_type": "execute_result"
    }
   ],
   "source": [
    "ipython_latex(unfolded_one_step_fib_rec_spec, times_range=range(8), first_order=True)"
   ]
  },
  {
   "cell_type": "code",
   "execution_count": 29,
   "metadata": {
    "collapsed": false
   },
   "outputs": [
    {
     "data": {
      "text/latex": [
       "$$\\left \\{ f_{n - 28} : f_{n - 32} + f_{n - 31} + f_{n - 29}, \\quad f_{n - 27} : f_{n - 31} + f_{n - 30} + f_{n - 28}, \\quad f_{n - 26} : f_{n - 30} + f_{n - 29} + f_{n - 27}, \\quad f_{n - 25} : f_{n - 29} + f_{n - 28} + f_{n - 26}, \\quad f_{n - 24} : f_{n - 28} + f_{n - 27} + f_{n - 25}, \\quad f_{n - 23} : f_{n - 27} + f_{n - 26} + f_{n - 24}, \\quad f_{n - 22} : f_{n - 26} + f_{n - 25} + f_{n - 23}, \\quad f_{n - 21} : f_{n - 25} + f_{n - 24} + f_{n - 22}, \\quad f_{n - 20} : f_{n - 24} + f_{n - 23} + f_{n - 21}, \\quad f_{n - 19} : f_{n - 23} + f_{n - 22} + f_{n - 20}, \\quad f_{n - 18} : f_{n - 22} + f_{n - 21} + f_{n - 19}, \\quad f_{n - 17} : f_{n - 21} + f_{n - 20} + f_{n - 18}, \\quad f_{n - 16} : f_{n - 20} + f_{n - 19} + f_{n - 17}, \\quad f_{n - 15} : f_{n - 19} + f_{n - 18} + f_{n - 16}, \\quad f_{n - 14} : f_{n - 18} + f_{n - 17} + f_{n - 15}, \\quad f_{n - 13} : f_{n - 17} + f_{n - 16} + f_{n - 14}, \\quad f_{n - 12} : f_{n - 16} + f_{n - 15} + f_{n - 13}, \\quad f_{n - 11} : f_{n - 15} + f_{n - 14} + f_{n - 12}, \\quad f_{n - 10} : f_{n - 14} + f_{n - 13} + f_{n - 11}, \\quad f_{n - 9} : f_{n - 13} + f_{n - 12} + f_{n - 10}, \\quad f_{n - 8} : f_{n - 12} + f_{n - 11} + f_{n - 9}, \\quad f_{n - 7} : f_{n - 11} + f_{n - 10} + f_{n - 8}, \\quad f_{n - 6} : f_{n - 10} + f_{n - 9} + f_{n - 7}, \\quad f_{n - 5} : f_{n - 9} + f_{n - 8} + f_{n - 6}, \\quad f_{n - 4} : f_{n - 8} + f_{n - 7} + f_{n - 5}, \\quad f_{n - 3} : f_{n - 7} + f_{n - 6} + f_{n - 4}, \\quad f_{n - 2} : f_{n - 6} + f_{n - 5} + f_{n - 3}, \\quad f_{n - 1} : f_{n - 5} + f_{n - 4} + f_{n - 2}\\right \\}$$"
      ],
      "text/plain": [
       "{f[n - 28]: f[n - 32] + f[n - 31] + f[n - 29], f[n - 27]: f[n - 31] + f[n - 30\n",
       "] + f[n - 28], f[n - 26]: f[n - 30] + f[n - 29] + f[n - 27], f[n - 25]: f[n - \n",
       "29] + f[n - 28] + f[n - 26], f[n - 24]: f[n - 28] + f[n - 27] + f[n - 25], f[n\n",
       " - 23]: f[n - 27] + f[n - 26] + f[n - 24], f[n - 22]: f[n - 26] + f[n - 25] + \n",
       "f[n - 23], f[n - 21]: f[n - 25] + f[n - 24] + f[n - 22], f[n - 20]: f[n - 24] \n",
       "+ f[n - 23] + f[n - 21], f[n - 19]: f[n - 23] + f[n - 22] + f[n - 20], f[n - 1\n",
       "8]: f[n - 22] + f[n - 21] + f[n - 19], f[n - 17]: f[n - 21] + f[n - 20] + f[n \n",
       "- 18], f[n - 16]: f[n - 20] + f[n - 19] + f[n - 17], f[n - 15]: f[n - 19] + f[\n",
       "n - 18] + f[n - 16], f[n - 14]: f[n - 18] + f[n - 17] + f[n - 15], f[n - 13]: \n",
       "f[n - 17] + f[n - 16] + f[n - 14], f[n - 12]: f[n - 16] + f[n - 15] + f[n - 13\n",
       "], f[n - 11]: f[n - 15] + f[n - 14] + f[n - 12], f[n - 10]: f[n - 14] + f[n - \n",
       "13] + f[n - 11], f[n - 9]: f[n - 13] + f[n - 12] + f[n - 10], f[n - 8]: f[n - \n",
       "12] + f[n - 11] + f[n - 9], f[n - 7]: f[n - 11] + f[n - 10] + f[n - 8], f[n - \n",
       "6]: f[n - 10] + f[n - 9] + f[n - 7], f[n - 5]: f[n - 9] + f[n - 8] + f[n - 6],\n",
       " f[n - 4]: f[n - 8] + f[n - 7] + f[n - 5], f[n - 3]: f[n - 7] + f[n - 6] + f[n\n",
       " - 4], f[n - 2]: f[n - 6] + f[n - 5] + f[n - 3], f[n - 1]: f[n - 5] + f[n - 4]\n",
       " + f[n - 2]}"
      ]
     },
     "execution_count": 29,
     "metadata": {},
     "output_type": "execute_result"
    }
   ],
   "source": [
    "project_recurrence_spec(unfolded_one_step_fib_rec_spec, terms_cache=True)"
   ]
  },
  {
   "cell_type": "code",
   "execution_count": 30,
   "metadata": {
    "collapsed": false
   },
   "outputs": [
    {
     "data": {
      "text/latex": [
       "$$\\left [ f_{n} = f_{n - 4} + f_{n - 3} + f_{n - 1}\\right ]$$"
      ],
      "text/plain": [
       "[f[n] = f[n - 4] + f[n - 3] + f[n - 1]]"
      ]
     },
     "execution_count": 30,
     "metadata": {},
     "output_type": "execute_result"
    }
   ],
   "source": [
    "subsumed_rec_specs = subsume_cache(unfolded_one_step_fib_rec_spec)\n",
    "list(map(lambda spec: project_recurrence_spec(spec, recurrence_eq=True), subsumed_rec_specs))"
   ]
  },
  {
   "cell_type": "code",
   "execution_count": 14,
   "metadata": {
    "collapsed": false
   },
   "outputs": [
    {
     "data": {
      "text/latex": [
       "$$f_{n} = f_{n - 4} + f_{n - 3} + f_{n - 1}$$"
      ],
      "text/plain": [
       "f[n] = f[n - 4] + f[n - 3] + f[n - 1]"
      ]
     },
     "execution_count": 14,
     "metadata": {},
     "output_type": "execute_result"
    }
   ],
   "source": [
    "# simply redo the previous defining cell in order to start fresh\n",
    "fibonacci_recurrence_spec=dict(recurrence_eq=fibonacci_recurrence, indexed=f, index=n, terms_cache={})\n",
    "unfolded_one_step_fib_rec_spec = do_unfolding_steps(fibonacci_recurrence_spec, 0)\n",
    "recurrence_eq = project_recurrence_spec(unfolded_one_step_fib_rec_spec, recurrence_eq=True)\n",
    "recurrence_eq"
   ]
  },
  {
   "cell_type": "code",
   "execution_count": 15,
   "metadata": {
    "collapsed": false
   },
   "outputs": [
    {
     "data": {
      "text/latex": [
       "\\begin{array}{c}f_{4} = f_{0} + f_{1} + f_{3}\\\\\n",
       "f_{8} = f_{0} + 2 f_{1} + f_{2} + 2 f_{3} + 2 f_{4} + f_{6}\\\\\n",
       "f_{16} = f_{0} + 4 f_{1} + 6 f_{2} + 8 f_{3} + 11 f_{4} + 8 f_{5} + 8 f_{6} + 8 f_{7} + 4 f_{8} + 6 f_{9} + 2 f_{10} + 2 f_{11} + f_{12}\\\\\n",
       "f_{32} = f_{0} + 8 f_{1} + 28 f_{2} + 64 f_{3} + 122 f_{4} + 200 f_{5} + 276 f_{6} + 352 f_{7} + 413 f_{8} + 422 f_{9} + 418 f_{10} + 382 f_{11} + 305 f_{12} + 258 f_{13} + 188 f_{14} + 126 f_{15} + 95 f_{16} + 54 f_{17} + 42 f_{18} + 28 f_{19} + 26 f_{20} + 18 f_{21} + 12 f_{22} + 10 f_{23} + 3 f_{24} + 3 f_{25} + f_{27}\\\\\\end{array}"
      ],
      "text/plain": [
       "<IPython.core.display.Latex object>"
      ]
     },
     "execution_count": 15,
     "metadata": {},
     "output_type": "execute_result"
    }
   ],
   "source": [
    "ipython_latex(unfolded_one_step_fib_rec_spec, times_range=range(4), first_order=False)"
   ]
  },
  {
   "cell_type": "code",
   "execution_count": 16,
   "metadata": {
    "collapsed": false
   },
   "outputs": [
    {
     "data": {
      "text/latex": [
       "$$\\left \\{ f_{n - 16} : f_{n - 32} + 4 f_{n - 31} + 6 f_{n - 30} + 8 f_{n - 29} + 11 f_{n - 28} + 8 f_{n - 27} + 8 f_{n - 26} + 8 f_{n - 25} + 4 f_{n - 24} + 6 f_{n - 23} + 2 f_{n - 22} + 2 f_{n - 21} + f_{n - 20}, \\quad f_{n - 15} : f_{n - 31} + 4 f_{n - 30} + 6 f_{n - 29} + 8 f_{n - 28} + 11 f_{n - 27} + 8 f_{n - 26} + 8 f_{n - 25} + 8 f_{n - 24} + 4 f_{n - 23} + 6 f_{n - 22} + 2 f_{n - 21} + 2 f_{n - 20} + f_{n - 19}, \\quad f_{n - 14} : f_{n - 30} + 4 f_{n - 29} + 6 f_{n - 28} + 8 f_{n - 27} + 11 f_{n - 26} + 8 f_{n - 25} + 8 f_{n - 24} + 8 f_{n - 23} + 4 f_{n - 22} + 6 f_{n - 21} + 2 f_{n - 20} + 2 f_{n - 19} + f_{n - 18}, \\quad f_{n - 13} : f_{n - 29} + 4 f_{n - 28} + 6 f_{n - 27} + 8 f_{n - 26} + 11 f_{n - 25} + 8 f_{n - 24} + 8 f_{n - 23} + 8 f_{n - 22} + 4 f_{n - 21} + 6 f_{n - 20} + 2 f_{n - 19} + 2 f_{n - 18} + f_{n - 17}, \\quad f_{n - 12} : f_{n - 28} + 4 f_{n - 27} + 6 f_{n - 26} + 8 f_{n - 25} + 11 f_{n - 24} + 8 f_{n - 23} + 8 f_{n - 22} + 8 f_{n - 21} + 4 f_{n - 20} + 6 f_{n - 19} + 2 f_{n - 18} + 2 f_{n - 17} + f_{n - 16}, \\quad f_{n - 11} : f_{n - 27} + 4 f_{n - 26} + 6 f_{n - 25} + 8 f_{n - 24} + 11 f_{n - 23} + 8 f_{n - 22} + 8 f_{n - 21} + 8 f_{n - 20} + 4 f_{n - 19} + 6 f_{n - 18} + 2 f_{n - 17} + 2 f_{n - 16} + f_{n - 15}, \\quad f_{n - 10} : f_{n - 26} + 4 f_{n - 25} + 6 f_{n - 24} + 8 f_{n - 23} + 11 f_{n - 22} + 8 f_{n - 21} + 8 f_{n - 20} + 8 f_{n - 19} + 4 f_{n - 18} + 6 f_{n - 17} + 2 f_{n - 16} + 2 f_{n - 15} + f_{n - 14}, \\quad f_{n - 9} : f_{n - 25} + 4 f_{n - 24} + 6 f_{n - 23} + 8 f_{n - 22} + 11 f_{n - 21} + 8 f_{n - 20} + 8 f_{n - 19} + 8 f_{n - 18} + 4 f_{n - 17} + 6 f_{n - 16} + 2 f_{n - 15} + 2 f_{n - 14} + f_{n - 13}, \\quad f_{n - 8} : f_{n - 16} + 2 f_{n - 15} + f_{n - 14} + 2 f_{n - 13} + 2 f_{n - 12} + f_{n - 10}, \\quad f_{n - 7} : f_{n - 15} + 2 f_{n - 14} + f_{n - 13} + 2 f_{n - 12} + 2 f_{n - 11} + f_{n - 9}, \\quad f_{n - 6} : f_{n - 14} + 2 f_{n - 13} + f_{n - 12} + 2 f_{n - 11} + 2 f_{n - 10} + f_{n - 8}, \\quad f_{n - 5} : f_{n - 13} + 2 f_{n - 12} + f_{n - 11} + 2 f_{n - 10} + 2 f_{n - 9} + f_{n - 7}, \\quad f_{n - 4} : f_{n - 8} + f_{n - 7} + f_{n - 5}, \\quad f_{n - 3} : f_{n - 7} + f_{n - 6} + f_{n - 4}, \\quad f_{n - 2} : f_{n - 10} + 2 f_{n - 9} + f_{n - 8} + 2 f_{n - 7} + 2 f_{n - 6} + f_{n - 4}, \\quad f_{n - 1} : f_{n - 5} + f_{n - 4} + f_{n - 2}\\right \\}$$"
      ],
      "text/plain": [
       "{f[n - 16]: f[n - 32] + 4⋅f[n - 31] + 6⋅f[n - 30] + 8⋅f[n - 29] + 11⋅f[n - 28]\n",
       " + 8⋅f[n - 27] + 8⋅f[n - 26] + 8⋅f[n - 25] + 4⋅f[n - 24] + 6⋅f[n - 23] + 2⋅f[n\n",
       " - 22] + 2⋅f[n - 21] + f[n - 20], f[n - 15]: f[n - 31] + 4⋅f[n - 30] + 6⋅f[n -\n",
       " 29] + 8⋅f[n - 28] + 11⋅f[n - 27] + 8⋅f[n - 26] + 8⋅f[n - 25] + 8⋅f[n - 24] + \n",
       "4⋅f[n - 23] + 6⋅f[n - 22] + 2⋅f[n - 21] + 2⋅f[n - 20] + f[n - 19], f[n - 14]: \n",
       "f[n - 30] + 4⋅f[n - 29] + 6⋅f[n - 28] + 8⋅f[n - 27] + 11⋅f[n - 26] + 8⋅f[n - 2\n",
       "5] + 8⋅f[n - 24] + 8⋅f[n - 23] + 4⋅f[n - 22] + 6⋅f[n - 21] + 2⋅f[n - 20] + 2⋅f\n",
       "[n - 19] + f[n - 18], f[n - 13]: f[n - 29] + 4⋅f[n - 28] + 6⋅f[n - 27] + 8⋅f[n\n",
       " - 26] + 11⋅f[n - 25] + 8⋅f[n - 24] + 8⋅f[n - 23] + 8⋅f[n - 22] + 4⋅f[n - 21] \n",
       "+ 6⋅f[n - 20] + 2⋅f[n - 19] + 2⋅f[n - 18] + f[n - 17], f[n - 12]: f[n - 28] + \n",
       "4⋅f[n - 27] + 6⋅f[n - 26] + 8⋅f[n - 25] + 11⋅f[n - 24] + 8⋅f[n - 23] + 8⋅f[n -\n",
       " 22] + 8⋅f[n - 21] + 4⋅f[n - 20] + 6⋅f[n - 19] + 2⋅f[n - 18] + 2⋅f[n - 17] + f\n",
       "[n - 16], f[n - 11]: f[n - 27] + 4⋅f[n - 26] + 6⋅f[n - 25] + 8⋅f[n - 24] + 11⋅\n",
       "f[n - 23] + 8⋅f[n - 22] + 8⋅f[n - 21] + 8⋅f[n - 20] + 4⋅f[n - 19] + 6⋅f[n - 18\n",
       "] + 2⋅f[n - 17] + 2⋅f[n - 16] + f[n - 15], f[n - 10]: f[n - 26] + 4⋅f[n - 25] \n",
       "+ 6⋅f[n - 24] + 8⋅f[n - 23] + 11⋅f[n - 22] + 8⋅f[n - 21] + 8⋅f[n - 20] + 8⋅f[n\n",
       " - 19] + 4⋅f[n - 18] + 6⋅f[n - 17] + 2⋅f[n - 16] + 2⋅f[n - 15] + f[n - 14], f[\n",
       "n - 9]: f[n - 25] + 4⋅f[n - 24] + 6⋅f[n - 23] + 8⋅f[n - 22] + 11⋅f[n - 21] + 8\n",
       "⋅f[n - 20] + 8⋅f[n - 19] + 8⋅f[n - 18] + 4⋅f[n - 17] + 6⋅f[n - 16] + 2⋅f[n - 1\n",
       "5] + 2⋅f[n - 14] + f[n - 13], f[n - 8]: f[n - 16] + 2⋅f[n - 15] + f[n - 14] + \n",
       "2⋅f[n - 13] + 2⋅f[n - 12] + f[n - 10], f[n - 7]: f[n - 15] + 2⋅f[n - 14] + f[n\n",
       " - 13] + 2⋅f[n - 12] + 2⋅f[n - 11] + f[n - 9], f[n - 6]: f[n - 14] + 2⋅f[n - 1\n",
       "3] + f[n - 12] + 2⋅f[n - 11] + 2⋅f[n - 10] + f[n - 8], f[n - 5]: f[n - 13] + 2\n",
       "⋅f[n - 12] + f[n - 11] + 2⋅f[n - 10] + 2⋅f[n - 9] + f[n - 7], f[n - 4]: f[n - \n",
       "8] + f[n - 7] + f[n - 5], f[n - 3]: f[n - 7] + f[n - 6] + f[n - 4], f[n - 2]: \n",
       "f[n - 10] + 2⋅f[n - 9] + f[n - 8] + 2⋅f[n - 7] + 2⋅f[n - 6] + f[n - 4], f[n - \n",
       "1]: f[n - 5] + f[n - 4] + f[n - 2]}"
      ]
     },
     "execution_count": 16,
     "metadata": {},
     "output_type": "execute_result"
    }
   ],
   "source": [
    "project_recurrence_spec(unfolded_one_step_fib_rec_spec, terms_cache=True)"
   ]
  },
  {
   "cell_type": "code",
   "execution_count": 25,
   "metadata": {
    "collapsed": false
   },
   "outputs": [
    {
     "data": {
      "text/latex": [
       "$$\\left [ f_{n} = f_{n - 16} + 4 f_{n - 15} + 6 f_{n - 14} + 8 f_{n - 13} + 11 f_{n - 12} + 8 f_{n - 11} + 8 f_{n - 10} + 8 f_{n - 9} + 4 f_{n - 8} + 6 f_{n - 7} + 2 f_{n - 6} + 2 f_{n - 5} + f_{n - 4}, \\quad f_{n} = f_{n - 8} + 2 f_{n - 7} + f_{n - 6} + 2 f_{n - 5} + 2 f_{n - 4} + f_{n - 2}, \\quad f_{n} = f_{n - 4} + f_{n - 3} + f_{n - 1}\\right ]$$"
      ],
      "text/plain": [
       "[f[n] = f[n - 16] + 4⋅f[n - 15] + 6⋅f[n - 14] + 8⋅f[n - 13] + 11⋅f[n - 12] + 8\n",
       "⋅f[n - 11] + 8⋅f[n - 10] + 8⋅f[n - 9] + 4⋅f[n - 8] + 6⋅f[n - 7] + 2⋅f[n - 6] +\n",
       " 2⋅f[n - 5] + f[n - 4], f[n] = f[n - 8] + 2⋅f[n - 7] + f[n - 6] + 2⋅f[n - 5] +\n",
       " 2⋅f[n - 4] + f[n - 2], f[n] = f[n - 4] + f[n - 3] + f[n - 1]]"
      ]
     },
     "execution_count": 25,
     "metadata": {},
     "output_type": "execute_result"
    }
   ],
   "source": [
    "subsumed_rec_specs = subsume_cache(unfolded_one_step_fib_rec_spec)\n",
    "list(map(lambda spec: project_recurrence_spec(spec, recurrence_eq=True), subsumed_rec_specs))"
   ]
  },
  {
   "cell_type": "markdown",
   "metadata": {},
   "source": [
    "#### Manually unfold both $f_{n-1}$ and $f_{n-2}$ according to $f_{n}=f_{n-1} + f_{n-2}$"
   ]
  },
  {
   "cell_type": "code",
   "execution_count": 40,
   "metadata": {
    "collapsed": false
   },
   "outputs": [
    {
     "data": {
      "text/latex": [
       "$$f_{n} = f_{n - 3} + f_{n - 2} + f_{n - 4} + f_{n - 3}$$"
      ],
      "text/plain": [
       "f[n] = f[n - 3] + f[n - 2] + f[n - 4] + f[n - 3]"
      ]
     },
     "execution_count": 40,
     "metadata": {},
     "output_type": "execute_result"
    }
   ],
   "source": [
    "f = IndexedBase('f')\n",
    "fibonacci_recurrence = Eq(f[n],Add(f[n-3]+f[n-2],f[n-4],f[n-3],evaluate=False))\n",
    "fibonacci_recurrence"
   ]
  },
  {
   "cell_type": "code",
   "execution_count": 41,
   "metadata": {
    "collapsed": false
   },
   "outputs": [
    {
     "data": {
      "text/latex": [
       "$$f_{n} = f_{n - 3} + f_{n - 2} + f_{n - 4} + f_{n - 3}$$"
      ],
      "text/plain": [
       "f[n] = f[n - 3] + f[n - 2] + f[n - 4] + f[n - 3]"
      ]
     },
     "execution_count": 41,
     "metadata": {},
     "output_type": "execute_result"
    }
   ],
   "source": [
    "fibonacci_recurrence_spec=dict(recurrence_eq=fibonacci_recurrence, indexed=f, index=n, terms_cache={})\n",
    "unfolded_one_step_fib_rec_spec = do_unfolding_steps(fibonacci_recurrence_spec, 0)\n",
    "recurrence_eq = project_recurrence_spec(unfolded_one_step_fib_rec_spec, recurrence_eq=True)\n",
    "recurrence_eq"
   ]
  },
  {
   "cell_type": "code",
   "execution_count": 43,
   "metadata": {
    "collapsed": false
   },
   "outputs": [
    {
     "data": {
      "text/latex": [
       "\\begin{array}{c}f_{4} = f_{0} + 2 f_{1} + f_{2}\\\\\n",
       "f_{8} = f_{0} + 4 f_{1} + 6 f_{2} + 4 f_{3} + f_{4}\\\\\n",
       "f_{12} = f_{0} + 6 f_{1} + 15 f_{2} + 20 f_{3} + 15 f_{4} + 6 f_{5} + f_{6}\\\\\n",
       "f_{16} = f_{0} + 8 f_{1} + 28 f_{2} + 56 f_{3} + 70 f_{4} + 56 f_{5} + 28 f_{6} + 8 f_{7} + f_{8}\\\\\n",
       "f_{20} = f_{0} + 10 f_{1} + 45 f_{2} + 120 f_{3} + 210 f_{4} + 252 f_{5} + 210 f_{6} + 120 f_{7} + 45 f_{8} + 10 f_{9} + f_{10}\\\\\n",
       "f_{24} = f_{0} + 12 f_{1} + 66 f_{2} + 220 f_{3} + 495 f_{4} + 792 f_{5} + 924 f_{6} + 792 f_{7} + 495 f_{8} + 220 f_{9} + 66 f_{10} + 12 f_{11} + f_{12}\\\\\\end{array}"
      ],
      "text/plain": [
       "<IPython.core.display.Latex object>"
      ]
     },
     "execution_count": 43,
     "metadata": {},
     "output_type": "execute_result"
    }
   ],
   "source": [
    "clear_cache()\n",
    "ipython_latex(unfolded_one_step_fib_rec_spec, times_range=range(6), first_order=True)"
   ]
  },
  {
   "cell_type": "code",
   "execution_count": 44,
   "metadata": {
    "collapsed": false
   },
   "outputs": [
    {
     "data": {
      "text/latex": [
       "$$\\left \\{ f_{n - 20} : f_{n - 24} + 2 f_{n - 23} + f_{n - 22}, \\quad f_{n - 19} : f_{n - 23} + 2 f_{n - 22} + f_{n - 21}, \\quad f_{n - 18} : f_{n - 22} + 2 f_{n - 21} + f_{n - 20}, \\quad f_{n - 17} : f_{n - 21} + 2 f_{n - 20} + f_{n - 19}, \\quad f_{n - 16} : f_{n - 20} + 2 f_{n - 19} + f_{n - 18}, \\quad f_{n - 15} : f_{n - 19} + 2 f_{n - 18} + f_{n - 17}, \\quad f_{n - 14} : f_{n - 18} + 2 f_{n - 17} + f_{n - 16}, \\quad f_{n - 13} : f_{n - 17} + 2 f_{n - 16} + f_{n - 15}, \\quad f_{n - 12} : f_{n - 16} + 2 f_{n - 15} + f_{n - 14}, \\quad f_{n - 11} : f_{n - 15} + 2 f_{n - 14} + f_{n - 13}, \\quad f_{n - 10} : f_{n - 14} + 2 f_{n - 13} + f_{n - 12}, \\quad f_{n - 9} : f_{n - 13} + 2 f_{n - 12} + f_{n - 11}, \\quad f_{n - 8} : f_{n - 12} + 2 f_{n - 11} + f_{n - 10}, \\quad f_{n - 7} : f_{n - 11} + 2 f_{n - 10} + f_{n - 9}, \\quad f_{n - 6} : f_{n - 10} + 2 f_{n - 9} + f_{n - 8}, \\quad f_{n - 5} : f_{n - 9} + 2 f_{n - 8} + f_{n - 7}, \\quad f_{n - 4} : f_{n - 8} + 2 f_{n - 7} + f_{n - 6}, \\quad f_{n - 3} : f_{n - 7} + 2 f_{n - 6} + f_{n - 5}, \\quad f_{n - 2} : f_{n - 6} + 2 f_{n - 5} + f_{n - 4}\\right \\}$$"
      ],
      "text/plain": [
       "{f[n - 20]: f[n - 24] + 2⋅f[n - 23] + f[n - 22], f[n - 19]: f[n - 23] + 2⋅f[n \n",
       "- 22] + f[n - 21], f[n - 18]: f[n - 22] + 2⋅f[n - 21] + f[n - 20], f[n - 17]: \n",
       "f[n - 21] + 2⋅f[n - 20] + f[n - 19], f[n - 16]: f[n - 20] + 2⋅f[n - 19] + f[n \n",
       "- 18], f[n - 15]: f[n - 19] + 2⋅f[n - 18] + f[n - 17], f[n - 14]: f[n - 18] + \n",
       "2⋅f[n - 17] + f[n - 16], f[n - 13]: f[n - 17] + 2⋅f[n - 16] + f[n - 15], f[n -\n",
       " 12]: f[n - 16] + 2⋅f[n - 15] + f[n - 14], f[n - 11]: f[n - 15] + 2⋅f[n - 14] \n",
       "+ f[n - 13], f[n - 10]: f[n - 14] + 2⋅f[n - 13] + f[n - 12], f[n - 9]: f[n - 1\n",
       "3] + 2⋅f[n - 12] + f[n - 11], f[n - 8]: f[n - 12] + 2⋅f[n - 11] + f[n - 10], f\n",
       "[n - 7]: f[n - 11] + 2⋅f[n - 10] + f[n - 9], f[n - 6]: f[n - 10] + 2⋅f[n - 9] \n",
       "+ f[n - 8], f[n - 5]: f[n - 9] + 2⋅f[n - 8] + f[n - 7], f[n - 4]: f[n - 8] + 2\n",
       "⋅f[n - 7] + f[n - 6], f[n - 3]: f[n - 7] + 2⋅f[n - 6] + f[n - 5], f[n - 2]: f[\n",
       "n - 6] + 2⋅f[n - 5] + f[n - 4]}"
      ]
     },
     "execution_count": 44,
     "metadata": {},
     "output_type": "execute_result"
    }
   ],
   "source": [
    "project_recurrence_spec(unfolded_one_step_fib_rec_spec, terms_cache=True)"
   ]
  },
  {
   "cell_type": "code",
   "execution_count": 45,
   "metadata": {
    "collapsed": false
   },
   "outputs": [
    {
     "data": {
      "text/latex": [
       "$$\\left [ f_{n} = f_{n - 4} + 2 f_{n - 3} + f_{n - 2}\\right ]$$"
      ],
      "text/plain": [
       "[f[n] = f[n - 4] + 2⋅f[n - 3] + f[n - 2]]"
      ]
     },
     "execution_count": 45,
     "metadata": {},
     "output_type": "execute_result"
    }
   ],
   "source": [
    "subsumed_rec_specs = subsume_cache(unfolded_one_step_fib_rec_spec)\n",
    "list(map(lambda spec: project_recurrence_spec(spec, recurrence_eq=True), subsumed_rec_specs))"
   ]
  },
  {
   "cell_type": "code",
   "execution_count": 46,
   "metadata": {
    "collapsed": false
   },
   "outputs": [
    {
     "data": {
      "text/latex": [
       "$$f_{n} = f_{n - 3} + f_{n - 2} + f_{n - 4} + f_{n - 3}$$"
      ],
      "text/plain": [
       "f[n] = f[n - 3] + f[n - 2] + f[n - 4] + f[n - 3]"
      ]
     },
     "execution_count": 46,
     "metadata": {},
     "output_type": "execute_result"
    }
   ],
   "source": [
    "# simply redo the previous defining cell in order to start fresh\n",
    "fibonacci_recurrence_spec=dict(recurrence_eq=fibonacci_recurrence, indexed=f, index=n, terms_cache={})\n",
    "unfolded_one_step_fib_rec_spec = do_unfolding_steps(fibonacci_recurrence_spec, 0)\n",
    "recurrence_eq = project_recurrence_spec(unfolded_one_step_fib_rec_spec, recurrence_eq=True)\n",
    "recurrence_eq"
   ]
  },
  {
   "cell_type": "code",
   "execution_count": 47,
   "metadata": {
    "collapsed": false
   },
   "outputs": [
    {
     "data": {
      "text/latex": [
       "\\begin{array}{c}f_{4} = f_{0} + 2 f_{1} + f_{2}\\\\\n",
       "f_{8} = f_{0} + 4 f_{1} + 6 f_{2} + 4 f_{3} + f_{4}\\\\\n",
       "f_{16} = f_{0} + 8 f_{1} + 28 f_{2} + 56 f_{3} + 69 f_{4} + 52 f_{5} + 22 f_{6} + 4 f_{7} + f_{8} + 2 f_{9} + f_{10}\\\\\n",
       "f_{32} = f_{0} + 16 f_{1} + 120 f_{2} + 560 f_{3} + 1818 f_{4} + 4344 f_{5} + 7876 f_{6} + 11000 f_{7} + 11882 f_{8} + 9874 f_{9} + 6233 f_{10} + 2960 f_{11} + 1109 f_{12} + 422 f_{13} + 211 f_{14} + 100 f_{15} + 31 f_{16} + 10 f_{17} + 15 f_{18} + 20 f_{19} + 15 f_{20} + 6 f_{21} + f_{22}\\\\\\end{array}"
      ],
      "text/plain": [
       "<IPython.core.display.Latex object>"
      ]
     },
     "execution_count": 47,
     "metadata": {},
     "output_type": "execute_result"
    }
   ],
   "source": [
    "ipython_latex(unfolded_one_step_fib_rec_spec, times_range=range(4), first_order=False)"
   ]
  },
  {
   "cell_type": "markdown",
   "metadata": {},
   "source": [
    "curiously, triangle of coefficients *isn't* symmetric as the one above."
   ]
  },
  {
   "cell_type": "code",
   "execution_count": 48,
   "metadata": {
    "collapsed": false
   },
   "outputs": [
    {
     "data": {
      "text/latex": [
       "$$\\left \\{ f_{n - 16} : f_{n - 32} + 8 f_{n - 31} + 28 f_{n - 30} + 56 f_{n - 29} + 69 f_{n - 28} + 52 f_{n - 27} + 22 f_{n - 26} + 4 f_{n - 25} + f_{n - 24} + 2 f_{n - 23} + f_{n - 22}, \\quad f_{n - 15} : f_{n - 31} + 8 f_{n - 30} + 28 f_{n - 29} + 56 f_{n - 28} + 69 f_{n - 27} + 52 f_{n - 26} + 22 f_{n - 25} + 4 f_{n - 24} + f_{n - 23} + 2 f_{n - 22} + f_{n - 21}, \\quad f_{n - 14} : f_{n - 30} + 8 f_{n - 29} + 28 f_{n - 28} + 56 f_{n - 27} + 69 f_{n - 26} + 52 f_{n - 25} + 22 f_{n - 24} + 4 f_{n - 23} + f_{n - 22} + 2 f_{n - 21} + f_{n - 20}, \\quad f_{n - 13} : f_{n - 29} + 8 f_{n - 28} + 28 f_{n - 27} + 56 f_{n - 26} + 69 f_{n - 25} + 52 f_{n - 24} + 22 f_{n - 23} + 4 f_{n - 22} + f_{n - 21} + 2 f_{n - 20} + f_{n - 19}, \\quad f_{n - 12} : f_{n - 28} + 8 f_{n - 27} + 28 f_{n - 26} + 56 f_{n - 25} + 69 f_{n - 24} + 52 f_{n - 23} + 22 f_{n - 22} + 4 f_{n - 21} + f_{n - 20} + 2 f_{n - 19} + f_{n - 18}, \\quad f_{n - 11} : f_{n - 27} + 8 f_{n - 26} + 28 f_{n - 25} + 56 f_{n - 24} + 69 f_{n - 23} + 52 f_{n - 22} + 22 f_{n - 21} + 4 f_{n - 20} + f_{n - 19} + 2 f_{n - 18} + f_{n - 17}, \\quad f_{n - 10} : f_{n - 26} + 8 f_{n - 25} + 28 f_{n - 24} + 56 f_{n - 23} + 69 f_{n - 22} + 52 f_{n - 21} + 22 f_{n - 20} + 4 f_{n - 19} + f_{n - 18} + 2 f_{n - 17} + f_{n - 16}, \\quad f_{n - 9} : f_{n - 25} + 8 f_{n - 24} + 28 f_{n - 23} + 56 f_{n - 22} + 69 f_{n - 21} + 52 f_{n - 20} + 22 f_{n - 19} + 4 f_{n - 18} + f_{n - 17} + 2 f_{n - 16} + f_{n - 15}, \\quad f_{n - 8} : f_{n - 16} + 4 f_{n - 15} + 6 f_{n - 14} + 4 f_{n - 13} + f_{n - 12}, \\quad f_{n - 7} : f_{n - 15} + 4 f_{n - 14} + 6 f_{n - 13} + 4 f_{n - 12} + f_{n - 11}, \\quad f_{n - 6} : f_{n - 14} + 4 f_{n - 13} + 6 f_{n - 12} + 4 f_{n - 11} + f_{n - 10}, \\quad f_{n - 5} : f_{n - 13} + 4 f_{n - 12} + 6 f_{n - 11} + 4 f_{n - 10} + f_{n - 9}, \\quad f_{n - 4} : f_{n - 8} + 2 f_{n - 7} + f_{n - 6}, \\quad f_{n - 3} : f_{n - 7} + 2 f_{n - 6} + f_{n - 5}, \\quad f_{n - 2} : f_{n - 6} + 2 f_{n - 5} + f_{n - 4}\\right \\}$$"
      ],
      "text/plain": [
       "{f[n - 16]: f[n - 32] + 8⋅f[n - 31] + 28⋅f[n - 30] + 56⋅f[n - 29] + 69⋅f[n - 2\n",
       "8] + 52⋅f[n - 27] + 22⋅f[n - 26] + 4⋅f[n - 25] + f[n - 24] + 2⋅f[n - 23] + f[n\n",
       " - 22], f[n - 15]: f[n - 31] + 8⋅f[n - 30] + 28⋅f[n - 29] + 56⋅f[n - 28] + 69⋅\n",
       "f[n - 27] + 52⋅f[n - 26] + 22⋅f[n - 25] + 4⋅f[n - 24] + f[n - 23] + 2⋅f[n - 22\n",
       "] + f[n - 21], f[n - 14]: f[n - 30] + 8⋅f[n - 29] + 28⋅f[n - 28] + 56⋅f[n - 27\n",
       "] + 69⋅f[n - 26] + 52⋅f[n - 25] + 22⋅f[n - 24] + 4⋅f[n - 23] + f[n - 22] + 2⋅f\n",
       "[n - 21] + f[n - 20], f[n - 13]: f[n - 29] + 8⋅f[n - 28] + 28⋅f[n - 27] + 56⋅f\n",
       "[n - 26] + 69⋅f[n - 25] + 52⋅f[n - 24] + 22⋅f[n - 23] + 4⋅f[n - 22] + f[n - 21\n",
       "] + 2⋅f[n - 20] + f[n - 19], f[n - 12]: f[n - 28] + 8⋅f[n - 27] + 28⋅f[n - 26]\n",
       " + 56⋅f[n - 25] + 69⋅f[n - 24] + 52⋅f[n - 23] + 22⋅f[n - 22] + 4⋅f[n - 21] + f\n",
       "[n - 20] + 2⋅f[n - 19] + f[n - 18], f[n - 11]: f[n - 27] + 8⋅f[n - 26] + 28⋅f[\n",
       "n - 25] + 56⋅f[n - 24] + 69⋅f[n - 23] + 52⋅f[n - 22] + 22⋅f[n - 21] + 4⋅f[n - \n",
       "20] + f[n - 19] + 2⋅f[n - 18] + f[n - 17], f[n - 10]: f[n - 26] + 8⋅f[n - 25] \n",
       "+ 28⋅f[n - 24] + 56⋅f[n - 23] + 69⋅f[n - 22] + 52⋅f[n - 21] + 22⋅f[n - 20] + 4\n",
       "⋅f[n - 19] + f[n - 18] + 2⋅f[n - 17] + f[n - 16], f[n - 9]: f[n - 25] + 8⋅f[n \n",
       "- 24] + 28⋅f[n - 23] + 56⋅f[n - 22] + 69⋅f[n - 21] + 52⋅f[n - 20] + 22⋅f[n - 1\n",
       "9] + 4⋅f[n - 18] + f[n - 17] + 2⋅f[n - 16] + f[n - 15], f[n - 8]: f[n - 16] + \n",
       "4⋅f[n - 15] + 6⋅f[n - 14] + 4⋅f[n - 13] + f[n - 12], f[n - 7]: f[n - 15] + 4⋅f\n",
       "[n - 14] + 6⋅f[n - 13] + 4⋅f[n - 12] + f[n - 11], f[n - 6]: f[n - 14] + 4⋅f[n \n",
       "- 13] + 6⋅f[n - 12] + 4⋅f[n - 11] + f[n - 10], f[n - 5]: f[n - 13] + 4⋅f[n - 1\n",
       "2] + 6⋅f[n - 11] + 4⋅f[n - 10] + f[n - 9], f[n - 4]: f[n - 8] + 2⋅f[n - 7] + f\n",
       "[n - 6], f[n - 3]: f[n - 7] + 2⋅f[n - 6] + f[n - 5], f[n - 2]: f[n - 6] + 2⋅f[\n",
       "n - 5] + f[n - 4]}"
      ]
     },
     "execution_count": 48,
     "metadata": {},
     "output_type": "execute_result"
    }
   ],
   "source": [
    "project_recurrence_spec(unfolded_one_step_fib_rec_spec, terms_cache=True)"
   ]
  },
  {
   "cell_type": "code",
   "execution_count": 49,
   "metadata": {
    "collapsed": false
   },
   "outputs": [
    {
     "data": {
      "text/latex": [
       "$$\\left [ f_{n} = f_{n - 16} + 8 f_{n - 15} + 28 f_{n - 14} + 56 f_{n - 13} + 69 f_{n - 12} + 52 f_{n - 11} + 22 f_{n - 10} + 4 f_{n - 9} + f_{n - 8} + 2 f_{n - 7} + f_{n - 6}, \\quad f_{n} = f_{n - 8} + 4 f_{n - 7} + 6 f_{n - 6} + 4 f_{n - 5} + f_{n - 4}, \\quad f_{n} = f_{n - 4} + 2 f_{n - 3} + f_{n - 2}\\right ]$$"
      ],
      "text/plain": [
       "[f[n] = f[n - 16] + 8⋅f[n - 15] + 28⋅f[n - 14] + 56⋅f[n - 13] + 69⋅f[n - 12] +\n",
       " 52⋅f[n - 11] + 22⋅f[n - 10] + 4⋅f[n - 9] + f[n - 8] + 2⋅f[n - 7] + f[n - 6], \n",
       "f[n] = f[n - 8] + 4⋅f[n - 7] + 6⋅f[n - 6] + 4⋅f[n - 5] + f[n - 4], f[n] = f[n \n",
       "- 4] + 2⋅f[n - 3] + f[n - 2]]"
      ]
     },
     "execution_count": 49,
     "metadata": {},
     "output_type": "execute_result"
    }
   ],
   "source": [
    "subsumed_rec_specs = subsume_cache(unfolded_one_step_fib_rec_spec)\n",
    "list(map(lambda spec: project_recurrence_spec(spec, recurrence_eq=True), subsumed_rec_specs))"
   ]
  },
  {
   "cell_type": "markdown",
   "metadata": {},
   "source": [
    "### Using *second order* unfolding"
   ]
  },
  {
   "cell_type": "code",
   "execution_count": 36,
   "metadata": {
    "collapsed": true
   },
   "outputs": [],
   "source": [
    "clear_cache()"
   ]
  },
  {
   "cell_type": "code",
   "execution_count": 37,
   "metadata": {
    "collapsed": false
   },
   "outputs": [
    {
     "data": {
      "text/latex": [
       "$$f_{n} = f_{n - 2} + f_{n - 1}$$"
      ],
      "text/plain": [
       "f[n] = f[n - 2] + f[n - 1]"
      ]
     },
     "execution_count": 37,
     "metadata": {},
     "output_type": "execute_result"
    }
   ],
   "source": [
    "f = IndexedBase('f')\n",
    "fibonacci_recurrence = Eq(f[n], f[n-1]+f[n-2])\n",
    "fibonacci_recurrence"
   ]
  },
  {
   "cell_type": "code",
   "execution_count": 38,
   "metadata": {
    "collapsed": true
   },
   "outputs": [],
   "source": [
    "fibonacci_recurrence_spec=dict(recurrence_eq=fibonacci_recurrence, indexed=f, index=n, terms_cache={})"
   ]
  },
  {
   "cell_type": "code",
   "execution_count": 39,
   "metadata": {
    "collapsed": false
   },
   "outputs": [
    {
     "data": {
      "text/latex": [
       "$$f_{n} = f_{n - 15} + 4 f_{n - 14} + 5 f_{n - 13} + 2 f_{n - 12} + f_{n - 11} + f_{n - 10} + 2 f_{n - 14} + 8 f_{n - 13} + 10 f_{n - 12} + 4 f_{n - 11} + 2 f_{n - 10} + 2 f_{n - 9} + f_{n - 13} + 4 f_{n - 12} + 5 f_{n - 11} + 2 f_{n - 10} + f_{n - 9} + f_{n - 8} + f_{n - 8} + 2 f_{n - 7} + f_{n - 6} + f_{n - 7} + 2 f_{n - 6} + f_{n - 5} + 2 f_{n - 15} + 8 f_{n - 14} + 10 f_{n - 13} + 4 f_{n - 12} + 2 f_{n - 11} + 2 f_{n - 10} + f_{n - 16} + 4 f_{n - 15} + 5 f_{n - 14} + 2 f_{n - 13} + f_{n - 12} + f_{n - 11} + f_{n - 14} + 4 f_{n - 13} + 5 f_{n - 12} + 2 f_{n - 11} + f_{n - 10} + f_{n - 9} + 2 f_{n - 14} + 8 f_{n - 13} + 10 f_{n - 12} + 4 f_{n - 11} + 2 f_{n - 10} + 2 f_{n - 9} + f_{n - 15} + 4 f_{n - 14} + 5 f_{n - 13} + 2 f_{n - 12} + f_{n - 11} + f_{n - 10} + f_{n - 13} + 4 f_{n - 12} + 5 f_{n - 11} + 2 f_{n - 10} + f_{n - 9} + f_{n - 8}$$"
      ],
      "text/plain": [
       "f[n] = f[n - 15] + 4⋅f[n - 14] + 5⋅f[n - 13] + 2⋅f[n - 12] + f[n - 11] + f[n -\n",
       " 10] + 2⋅f[n - 14] + 8⋅f[n - 13] + 10⋅f[n - 12] + 4⋅f[n - 11] + 2⋅f[n - 10] + \n",
       "2⋅f[n - 9] + f[n - 13] + 4⋅f[n - 12] + 5⋅f[n - 11] + 2⋅f[n - 10] + f[n - 9] + \n",
       "f[n - 8] + f[n - 8] + 2⋅f[n - 7] + f[n - 6] + f[n - 7] + 2⋅f[n - 6] + f[n - 5]\n",
       " + 2⋅f[n - 15] + 8⋅f[n - 14] + 10⋅f[n - 13] + 4⋅f[n - 12] + 2⋅f[n - 11] + 2⋅f[\n",
       "n - 10] + f[n - 16] + 4⋅f[n - 15] + 5⋅f[n - 14] + 2⋅f[n - 13] + f[n - 12] + f[\n",
       "n - 11] + f[n - 14] + 4⋅f[n - 13] + 5⋅f[n - 12] + 2⋅f[n - 11] + f[n - 10] + f[\n",
       "n - 9] + 2⋅f[n - 14] + 8⋅f[n - 13] + 10⋅f[n - 12] + 4⋅f[n - 11] + 2⋅f[n - 10] \n",
       "+ 2⋅f[n - 9] + f[n - 15] + 4⋅f[n - 14] + 5⋅f[n - 13] + 2⋅f[n - 12] + f[n - 11]\n",
       " + f[n - 10] + f[n - 13] + 4⋅f[n - 12] + 5⋅f[n - 11] + 2⋅f[n - 10] + f[n - 9] \n",
       "+ f[n - 8]"
      ]
     },
     "execution_count": 39,
     "metadata": {},
     "output_type": "execute_result"
    }
   ],
   "source": [
    "unfolded = do_unfolding_steps(fibonacci_recurrence_spec, 3, first_order=False)\n",
    "recurrence_eq = project_recurrence_spec(unfolded, recurrence_eq=True)\n",
    "recurrence_eq"
   ]
  },
  {
   "cell_type": "code",
   "execution_count": 40,
   "metadata": {
    "collapsed": false
   },
   "outputs": [
    {
     "data": {
      "text/latex": [
       "$$f_{n} = f_{n - 16} + 8 f_{n - 15} + 26 f_{n - 14} + 44 f_{n - 13} + 42 f_{n - 12} + 25 f_{n - 11} + 13 f_{n - 10} + 7 f_{n - 9} + 3 f_{n - 8} + 3 f_{n - 7} + 3 f_{n - 6} + f_{n - 5}$$"
      ],
      "text/plain": [
       "f[n] = f[n - 16] + 8⋅f[n - 15] + 26⋅f[n - 14] + 44⋅f[n - 13] + 42⋅f[n - 12] + \n",
       "25⋅f[n - 11] + 13⋅f[n - 10] + 7⋅f[n - 9] + 3⋅f[n - 8] + 3⋅f[n - 7] + 3⋅f[n - 6\n",
       "] + f[n - 5]"
      ]
     },
     "execution_count": 40,
     "metadata": {},
     "output_type": "execute_result"
    }
   ],
   "source": [
    "factored_recurrence_eq = project_recurrence_spec(factor_rhs_unfolded_rec(unfolded), recurrence_eq=True)\n",
    "factored_recurrence_eq"
   ]
  },
  {
   "cell_type": "code",
   "execution_count": 56,
   "metadata": {
    "collapsed": false
   },
   "outputs": [
    {
     "data": {
      "text/latex": [
       "$$f_{16} = f_{0} + 8 f_{1} + 26 f_{2} + 44 f_{3} + 42 f_{4} + 25 f_{5} + 13 f_{6} + 7 f_{7} + 3 f_{8} + 3 f_{9} + 3 f_{10} + f_{11}$$"
      ],
      "text/plain": [
       "f[16] = f[0] + 8⋅f[1] + 26⋅f[2] + 44⋅f[3] + 42⋅f[4] + 25⋅f[5] + 13⋅f[6] + 7⋅f[\n",
       "7] + 3⋅f[8] + 3⋅f[9] + 3⋅f[10] + f[11]"
      ]
     },
     "execution_count": 56,
     "metadata": {},
     "output_type": "execute_result"
    }
   ],
   "source": [
    "factored_recurrence_eq.subs(n, 16)"
   ]
  },
  {
   "cell_type": "code",
   "execution_count": 57,
   "metadata": {
    "collapsed": false
   },
   "outputs": [
    {
     "data": {
      "text/latex": [
       "$$f_{16} = f_{0} + 8 f_{1} + 26 f_{2} + 44 f_{3} + 42 f_{4} + 25 f_{5} + 13 f_{6} + 7 f_{7} + 3 f_{8} + 3 f_{9} + 3 f_{10} + f_{11}$$"
      ],
      "text/plain": [
       "f[16] = f[0] + 8⋅f[1] + 26⋅f[2] + 44⋅f[3] + 42⋅f[4] + 25⋅f[5] + 13⋅f[6] + 7⋅f[\n",
       "7] + 3⋅f[8] + 3⋅f[9] + 3⋅f[10] + f[11]"
      ]
     },
     "execution_count": 57,
     "metadata": {},
     "output_type": "execute_result"
    }
   ],
   "source": [
    "project_recurrence_spec(base_instantiation(unfolded), recurrence_eq=True)"
   ]
  },
  {
   "cell_type": "code",
   "execution_count": 58,
   "metadata": {
    "collapsed": false
   },
   "outputs": [
    {
     "data": {
      "text/latex": [
       "$$\\left \\{ f_{8} : f_{0} + 4 f_{1} + 5 f_{2} + 2 f_{3} + f_{4} + f_{5}, \\quad f_{9} : f_{1} + 4 f_{2} + 5 f_{3} + 2 f_{4} + f_{5} + f_{6}, \\quad f_{10} : f_{2} + 4 f_{3} + 5 f_{4} + 2 f_{5} + f_{6} + f_{7}, \\quad f_{11} : f_{3} + 4 f_{4} + 5 f_{5} + 2 f_{6} + f_{7} + f_{8}, \\quad f_{12} : f_{8} + 2 f_{9} + f_{10}, \\quad f_{13} : f_{9} + 2 f_{10} + f_{11}, \\quad f_{14} : f_{12} + f_{13}, \\quad f_{15} : f_{13} + f_{14}\\right \\}$$"
      ],
      "text/plain": [
       "{f[8]: f[0] + 4⋅f[1] + 5⋅f[2] + 2⋅f[3] + f[4] + f[5], f[9]: f[1] + 4⋅f[2] + 5⋅\n",
       "f[3] + 2⋅f[4] + f[5] + f[6], f[10]: f[2] + 4⋅f[3] + 5⋅f[4] + 2⋅f[5] + f[6] + f\n",
       "[7], f[11]: f[3] + 4⋅f[4] + 5⋅f[5] + 2⋅f[6] + f[7] + f[8], f[12]: f[8] + 2⋅f[9\n",
       "] + f[10], f[13]: f[9] + 2⋅f[10] + f[11], f[14]: f[12] + f[13], f[15]: f[13] +\n",
       " f[14]}"
      ]
     },
     "execution_count": 58,
     "metadata": {},
     "output_type": "execute_result"
    }
   ],
   "source": [
    "project_recurrence_spec(base_instantiation(unfolded), terms_cache=True)"
   ]
  },
  {
   "cell_type": "code",
   "execution_count": 59,
   "metadata": {
    "collapsed": false
   },
   "outputs": [
    {
     "data": {
      "text/latex": [
       "\\begin{array}{c}f_{2} = f_{0} + f_{1}\\\\\n",
       "f_{4} = f_{0} + 2 f_{1} + f_{2}\\\\\n",
       "f_{8} = f_{0} + 4 f_{1} + 5 f_{2} + 2 f_{3} + f_{4} + f_{5}\\\\\n",
       "f_{16} = f_{0} + 8 f_{1} + 26 f_{2} + 44 f_{3} + 42 f_{4} + 25 f_{5} + 13 f_{6} + 7 f_{7} + 3 f_{8} + 3 f_{9} + 3 f_{10} + f_{11}\\\\\n",
       "f_{32} = f_{0} + 16 f_{1} + 116 f_{2} + 504 f_{3} + 1464 f_{4} + 3010 f_{5} + 4546 f_{6} + 5218 f_{7} + 4755 f_{8} + 3635 f_{9} + 2438 f_{10} + 1473 f_{11} + 863 f_{12} + 541 f_{13} + 333 f_{14} + 177 f_{15} + 88 f_{16} + 49 f_{17} + 37 f_{18} + 34 f_{19} + 28 f_{20} + 17 f_{21} + 8 f_{22} + 4 f_{23} + f_{24}\\\\\\end{array}"
      ],
      "text/plain": [
       "<IPython.core.display.Latex object>"
      ]
     },
     "execution_count": 59,
     "metadata": {},
     "output_type": "execute_result"
    }
   ],
   "source": [
    "ipython_latex(fibonacci_recurrence_spec, times_range=range(5), first_order=False)"
   ]
  },
  {
   "cell_type": "code",
   "execution_count": 51,
   "metadata": {
    "collapsed": false
   },
   "outputs": [
    {
     "data": {
      "text/latex": [
       "$$\\left [ f_{n} = f_{n - 2} + f_{n - 1}, \\quad f_{n} = f_{n - 4} + 2 f_{n - 3} + f_{n - 2}, \\quad f_{n} = f_{n - 8} + 4 f_{n - 7} + 5 f_{n - 6} + 2 f_{n - 5} + f_{n - 4} + f_{n - 3}, \\quad f_{n} = f_{n - 16} + 8 f_{n - 15} + 26 f_{n - 14} + 44 f_{n - 13} + 42 f_{n - 12} + 25 f_{n - 11} + 13 f_{n - 10} + 7 f_{n - 9} + 3 f_{n - 8} + 3 f_{n - 7} + 3 f_{n - 6} + f_{n - 5}, \\quad f_{n} = f_{n - 32} + 16 f_{n - 31} + 116 f_{n - 30} + 504 f_{n - 29} + 1464 f_{n - 28} + 3010 f_{n - 27} + 4546 f_{n - 26} + 5218 f_{n - 25} + 4755 f_{n - 24} + 3635 f_{n - 23} + 2438 f_{n - 22} + 1473 f_{n - 21} + 863 f_{n - 20} + 541 f_{n - 19} + 333 f_{n - 18} + 177 f_{n - 17} + 88 f_{n - 16} + 49 f_{n - 15} + 37 f_{n - 14} + 34 f_{n - 13} + 28 f_{n - 12} + 17 f_{n - 11} + 8 f_{n - 10} + 4 f_{n - 9} + f_{n - 8}\\right ]$$"
      ],
      "text/plain": [
       "[f[n] = f[n - 2] + f[n - 1], f[n] = f[n - 4] + 2⋅f[n - 3] + f[n - 2], f[n] = f\n",
       "[n - 8] + 4⋅f[n - 7] + 5⋅f[n - 6] + 2⋅f[n - 5] + f[n - 4] + f[n - 3], f[n] = f\n",
       "[n - 16] + 8⋅f[n - 15] + 26⋅f[n - 14] + 44⋅f[n - 13] + 42⋅f[n - 12] + 25⋅f[n -\n",
       " 11] + 13⋅f[n - 10] + 7⋅f[n - 9] + 3⋅f[n - 8] + 3⋅f[n - 7] + 3⋅f[n - 6] + f[n \n",
       "- 5], f[n] = f[n - 32] + 16⋅f[n - 31] + 116⋅f[n - 30] + 504⋅f[n - 29] + 1464⋅f\n",
       "[n - 28] + 3010⋅f[n - 27] + 4546⋅f[n - 26] + 5218⋅f[n - 25] + 4755⋅f[n - 24] +\n",
       " 3635⋅f[n - 23] + 2438⋅f[n - 22] + 1473⋅f[n - 21] + 863⋅f[n - 20] + 541⋅f[n - \n",
       "19] + 333⋅f[n - 18] + 177⋅f[n - 17] + 88⋅f[n - 16] + 49⋅f[n - 15] + 37⋅f[n - 1\n",
       "4] + 34⋅f[n - 13] + 28⋅f[n - 12] + 17⋅f[n - 11] + 8⋅f[n - 10] + 4⋅f[n - 9] + f\n",
       "[n - 8]]"
      ]
     },
     "execution_count": 51,
     "metadata": {},
     "output_type": "execute_result"
    }
   ],
   "source": [
    "rows=5\n",
    "mapped = map(lambda rec_spec: project_recurrence_spec(rec_spec, recurrence_eq=True), \n",
    "         times_higher_order_operator(fibonacci_recurrence_spec, \n",
    "                                     operator=lambda processed_spec, steps: processed_spec,\n",
    "                                     instantiate=False,\n",
    "                                     first_order=False,\n",
    "                                     times_range=range(rows)))\n",
    "mapped = list(mapped)\n",
    "mapped"
   ]
  },
  {
   "cell_type": "code",
   "execution_count": 52,
   "metadata": {
    "collapsed": false
   },
   "outputs": [
    {
     "data": {
      "text/latex": [
       "$$f_{n} = f_{n - 8} + 4 f_{n - 7} + 5 f_{n - 6} + 2 f_{n - 5} + f_{n - 4} + f_{n - 3}$$"
      ],
      "text/plain": [
       "f[n] = f[n - 8] + 4⋅f[n - 7] + 5⋅f[n - 6] + 2⋅f[n - 5] + f[n - 4] + f[n - 3]"
      ]
     },
     "execution_count": 52,
     "metadata": {},
     "output_type": "execute_result"
    }
   ],
   "source": [
    "fib_shitf_8back = Eq(f[n], f[n-8]+4*f[n-7]+5*f[n-6]+2*f[n-5]+f[n-4]+f[n-3])\n",
    "fib_shitf_8back"
   ]
  },
  {
   "cell_type": "code",
   "execution_count": 53,
   "metadata": {
    "collapsed": false
   },
   "outputs": [
    {
     "data": {
      "text/latex": [
       "$$\\left [ f_{8} = f_{0} + 4 f_{1} + 5 f_{2} + 2 f_{3} + f_{4} + f_{5}, \\quad f_{9} = f_{1} + 4 f_{2} + 5 f_{3} + 2 f_{4} + f_{5} + f_{6}, \\quad f_{10} = f_{2} + 4 f_{3} + 5 f_{4} + 2 f_{5} + f_{6} + f_{7}, \\quad f_{11} = f_{3} + 4 f_{4} + 5 f_{5} + 2 f_{6} + f_{7} + f_{8}, \\quad f_{12} = f_{4} + 4 f_{5} + 5 f_{6} + 2 f_{7} + f_{8} + f_{9}, \\quad f_{13} = f_{5} + 4 f_{6} + 5 f_{7} + 2 f_{8} + f_{9} + f_{10}, \\quad f_{14} = f_{6} + 4 f_{7} + 5 f_{8} + 2 f_{9} + f_{10} + f_{11}, \\quad f_{15} = f_{7} + 4 f_{8} + 5 f_{9} + 2 f_{10} + f_{11} + f_{12}, \\quad f_{16} = f_{8} + 4 f_{9} + 5 f_{10} + 2 f_{11} + f_{12} + f_{13}, \\quad f_{17} = f_{9} + 4 f_{10} + 5 f_{11} + 2 f_{12} + f_{13} + f_{14}, \\quad f_{18} = f_{10} + 4 f_{11} + 5 f_{12} + 2 f_{13} + f_{14} + f_{15}, \\quad f_{19} = f_{11} + 4 f_{12} + 5 f_{13} + 2 f_{14} + f_{15} + f_{16}, \\quad f_{20} = f_{12} + 4 f_{13} + 5 f_{14} + 2 f_{15} + f_{16} + f_{17}, \\quad f_{21} = f_{13} + 4 f_{14} + 5 f_{15} + 2 f_{16} + f_{17} + f_{18}, \\quad f_{22} = f_{14} + 4 f_{15} + 5 f_{16} + 2 f_{17} + f_{18} + f_{19}, \\quad f_{23} = f_{15} + 4 f_{16} + 5 f_{17} + 2 f_{18} + f_{19} + f_{20}, \\quad f_{24} = f_{16} + 4 f_{17} + 5 f_{18} + 2 f_{19} + f_{20} + f_{21}, \\quad f_{25} = f_{17} + 4 f_{18} + 5 f_{19} + 2 f_{20} + f_{21} + f_{22}, \\quad f_{26} = f_{18} + 4 f_{19} + 5 f_{20} + 2 f_{21} + f_{22} + f_{23}, \\quad f_{27} = f_{19} + 4 f_{20} + 5 f_{21} + 2 f_{22} + f_{23} + f_{24}, \\quad f_{28} = f_{20} + 4 f_{21} + 5 f_{22} + 2 f_{23} + f_{24} + f_{25}, \\quad f_{29} = f_{21} + 4 f_{22} + 5 f_{23} + 2 f_{24} + f_{25} + f_{26}, \\quad f_{30} = f_{22} + 4 f_{23} + 5 f_{24} + 2 f_{25} + f_{26} + f_{27}, \\quad f_{31} = f_{23} + 4 f_{24} + 5 f_{25} + 2 f_{26} + f_{27} + f_{28}\\right ]$$"
      ],
      "text/plain": [
       "[f[8] = f[0] + 4⋅f[1] + 5⋅f[2] + 2⋅f[3] + f[4] + f[5], f[9] = f[1] + 4⋅f[2] + \n",
       "5⋅f[3] + 2⋅f[4] + f[5] + f[6], f[10] = f[2] + 4⋅f[3] + 5⋅f[4] + 2⋅f[5] + f[6] \n",
       "+ f[7], f[11] = f[3] + 4⋅f[4] + 5⋅f[5] + 2⋅f[6] + f[7] + f[8], f[12] = f[4] + \n",
       "4⋅f[5] + 5⋅f[6] + 2⋅f[7] + f[8] + f[9], f[13] = f[5] + 4⋅f[6] + 5⋅f[7] + 2⋅f[8\n",
       "] + f[9] + f[10], f[14] = f[6] + 4⋅f[7] + 5⋅f[8] + 2⋅f[9] + f[10] + f[11], f[1\n",
       "5] = f[7] + 4⋅f[8] + 5⋅f[9] + 2⋅f[10] + f[11] + f[12], f[16] = f[8] + 4⋅f[9] +\n",
       " 5⋅f[10] + 2⋅f[11] + f[12] + f[13], f[17] = f[9] + 4⋅f[10] + 5⋅f[11] + 2⋅f[12]\n",
       " + f[13] + f[14], f[18] = f[10] + 4⋅f[11] + 5⋅f[12] + 2⋅f[13] + f[14] + f[15],\n",
       " f[19] = f[11] + 4⋅f[12] + 5⋅f[13] + 2⋅f[14] + f[15] + f[16], f[20] = f[12] + \n",
       "4⋅f[13] + 5⋅f[14] + 2⋅f[15] + f[16] + f[17], f[21] = f[13] + 4⋅f[14] + 5⋅f[15]\n",
       " + 2⋅f[16] + f[17] + f[18], f[22] = f[14] + 4⋅f[15] + 5⋅f[16] + 2⋅f[17] + f[18\n",
       "] + f[19], f[23] = f[15] + 4⋅f[16] + 5⋅f[17] + 2⋅f[18] + f[19] + f[20], f[24] \n",
       "= f[16] + 4⋅f[17] + 5⋅f[18] + 2⋅f[19] + f[20] + f[21], f[25] = f[17] + 4⋅f[18]\n",
       " + 5⋅f[19] + 2⋅f[20] + f[21] + f[22], f[26] = f[18] + 4⋅f[19] + 5⋅f[20] + 2⋅f[\n",
       "21] + f[22] + f[23], f[27] = f[19] + 4⋅f[20] + 5⋅f[21] + 2⋅f[22] + f[23] + f[2\n",
       "4], f[28] = f[20] + 4⋅f[21] + 5⋅f[22] + 2⋅f[23] + f[24] + f[25], f[29] = f[21]\n",
       " + 4⋅f[22] + 5⋅f[23] + 2⋅f[24] + f[25] + f[26], f[30] = f[22] + 4⋅f[23] + 5⋅f[\n",
       "24] + 2⋅f[25] + f[26] + f[27], f[31] = f[23] + 4⋅f[24] + 5⋅f[25] + 2⋅f[26] + f\n",
       "[27] + f[28]]"
      ]
     },
     "execution_count": 53,
     "metadata": {},
     "output_type": "execute_result"
    }
   ],
   "source": [
    "[fib_shitf_8back.subs(n,i) for i in range(8,32)]"
   ]
  },
  {
   "cell_type": "code",
   "execution_count": 55,
   "metadata": {
    "collapsed": false
   },
   "outputs": [
    {
     "data": {
      "text/latex": [
       "$$\\left [ f_{n} = f_{n - 2} + f_{n - 1}, \\quad 2 f_{n} = f_{n - 4} + 2 f_{n - 3} + 2 f_{n - 2} + f_{n - 1}, \\quad 3 f_{n} = f_{n - 8} + 4 f_{n - 7} + 5 f_{n - 6} + 2 f_{n - 5} + 2 f_{n - 4} + 3 f_{n - 3} + 2 f_{n - 2} + f_{n - 1}, \\quad 4 f_{n} = f_{n - 16} + 8 f_{n - 15} + 26 f_{n - 14} + 44 f_{n - 13} + 42 f_{n - 12} + 25 f_{n - 11} + 13 f_{n - 10} + 7 f_{n - 9} + 4 f_{n - 8} + 7 f_{n - 7} + 8 f_{n - 6} + 3 f_{n - 5} + 2 f_{n - 4} + 3 f_{n - 3} + 2 f_{n - 2} + f_{n - 1}, \\quad 5 f_{n} = f_{n - 32} + 16 f_{n - 31} + 116 f_{n - 30} + 504 f_{n - 29} + 1464 f_{n - 28} + 3010 f_{n - 27} + 4546 f_{n - 26} + 5218 f_{n - 25} + 4755 f_{n - 24} + 3635 f_{n - 23} + 2438 f_{n - 22} + 1473 f_{n - 21} + 863 f_{n - 20} + 541 f_{n - 19} + 333 f_{n - 18} + 177 f_{n - 17} + 89 f_{n - 16} + 57 f_{n - 15} + 63 f_{n - 14} + 78 f_{n - 13} + 70 f_{n - 12} + 42 f_{n - 11} + 21 f_{n - 10} + 11 f_{n - 9} + 5 f_{n - 8} + 7 f_{n - 7} + 8 f_{n - 6} + 3 f_{n - 5} + 2 f_{n - 4} + 3 f_{n - 3} + 2 f_{n - 2} + f_{n - 1}\\right ]$$"
      ],
      "text/plain": [
       "[f[n] = f[n - 2] + f[n - 1], 2⋅f[n] = f[n - 4] + 2⋅f[n - 3] + 2⋅f[n - 2] + f[n\n",
       " - 1], 3⋅f[n] = f[n - 8] + 4⋅f[n - 7] + 5⋅f[n - 6] + 2⋅f[n - 5] + 2⋅f[n - 4] +\n",
       " 3⋅f[n - 3] + 2⋅f[n - 2] + f[n - 1], 4⋅f[n] = f[n - 16] + 8⋅f[n - 15] + 26⋅f[n\n",
       " - 14] + 44⋅f[n - 13] + 42⋅f[n - 12] + 25⋅f[n - 11] + 13⋅f[n - 10] + 7⋅f[n - 9\n",
       "] + 4⋅f[n - 8] + 7⋅f[n - 7] + 8⋅f[n - 6] + 3⋅f[n - 5] + 2⋅f[n - 4] + 3⋅f[n - 3\n",
       "] + 2⋅f[n - 2] + f[n - 1], 5⋅f[n] = f[n - 32] + 16⋅f[n - 31] + 116⋅f[n - 30] +\n",
       " 504⋅f[n - 29] + 1464⋅f[n - 28] + 3010⋅f[n - 27] + 4546⋅f[n - 26] + 5218⋅f[n -\n",
       " 25] + 4755⋅f[n - 24] + 3635⋅f[n - 23] + 2438⋅f[n - 22] + 1473⋅f[n - 21] + 863\n",
       "⋅f[n - 20] + 541⋅f[n - 19] + 333⋅f[n - 18] + 177⋅f[n - 17] + 89⋅f[n - 16] + 57\n",
       "⋅f[n - 15] + 63⋅f[n - 14] + 78⋅f[n - 13] + 70⋅f[n - 12] + 42⋅f[n - 11] + 21⋅f[\n",
       "n - 10] + 11⋅f[n - 9] + 5⋅f[n - 8] + 7⋅f[n - 7] + 8⋅f[n - 6] + 3⋅f[n - 5] + 2⋅\n",
       "f[n - 4] + 3⋅f[n - 3] + 2⋅f[n - 2] + f[n - 1]]"
      ]
     },
     "execution_count": 55,
     "metadata": {},
     "output_type": "execute_result"
    }
   ],
   "source": [
    "def accumulating(acc, current): return Eq(acc.lhs + current.lhs, acc.rhs + current.rhs)\n",
    "list(accumulate(mapped, accumulating))"
   ]
  },
  {
   "cell_type": "code",
   "execution_count": 60,
   "metadata": {
    "collapsed": false
   },
   "outputs": [
    {
     "data": {
      "text/latex": [
       "$$\\left \\{ f_{n - 16} : f_{n - 32} + 8 f_{n - 31} + 26 f_{n - 30} + 44 f_{n - 29} + 42 f_{n - 28} + 25 f_{n - 27} + 13 f_{n - 26} + 7 f_{n - 25} + 3 f_{n - 24} + 3 f_{n - 23} + 3 f_{n - 22} + f_{n - 21}, \\quad f_{n - 15} : f_{n - 31} + 8 f_{n - 30} + 26 f_{n - 29} + 44 f_{n - 28} + 42 f_{n - 27} + 25 f_{n - 26} + 13 f_{n - 25} + 7 f_{n - 24} + 3 f_{n - 23} + 3 f_{n - 22} + 3 f_{n - 21} + f_{n - 20}, \\quad f_{n - 14} : f_{n - 30} + 8 f_{n - 29} + 26 f_{n - 28} + 44 f_{n - 27} + 42 f_{n - 26} + 25 f_{n - 25} + 13 f_{n - 24} + 7 f_{n - 23} + 3 f_{n - 22} + 3 f_{n - 21} + 3 f_{n - 20} + f_{n - 19}, \\quad f_{n - 13} : f_{n - 29} + 8 f_{n - 28} + 26 f_{n - 27} + 44 f_{n - 26} + 42 f_{n - 25} + 25 f_{n - 24} + 13 f_{n - 23} + 7 f_{n - 22} + 3 f_{n - 21} + 3 f_{n - 20} + 3 f_{n - 19} + f_{n - 18}, \\quad f_{n - 12} : f_{n - 28} + 8 f_{n - 27} + 26 f_{n - 26} + 44 f_{n - 25} + 42 f_{n - 24} + 25 f_{n - 23} + 13 f_{n - 22} + 7 f_{n - 21} + 3 f_{n - 20} + 3 f_{n - 19} + 3 f_{n - 18} + f_{n - 17}, \\quad f_{n - 11} : f_{n - 27} + 8 f_{n - 26} + 26 f_{n - 25} + 44 f_{n - 24} + 42 f_{n - 23} + 25 f_{n - 22} + 13 f_{n - 21} + 7 f_{n - 20} + 3 f_{n - 19} + 3 f_{n - 18} + 3 f_{n - 17} + f_{n - 16}, \\quad f_{n - 10} : f_{n - 26} + 8 f_{n - 25} + 26 f_{n - 24} + 44 f_{n - 23} + 42 f_{n - 22} + 25 f_{n - 21} + 13 f_{n - 20} + 7 f_{n - 19} + 3 f_{n - 18} + 3 f_{n - 17} + 3 f_{n - 16} + f_{n - 15}, \\quad f_{n - 9} : f_{n - 25} + 8 f_{n - 24} + 26 f_{n - 23} + 44 f_{n - 22} + 42 f_{n - 21} + 25 f_{n - 20} + 13 f_{n - 19} + 7 f_{n - 18} + 3 f_{n - 17} + 3 f_{n - 16} + 3 f_{n - 15} + f_{n - 14}, \\quad f_{n - 8} : f_{n - 16} + 4 f_{n - 15} + 5 f_{n - 14} + 2 f_{n - 13} + f_{n - 12} + f_{n - 11}, \\quad f_{n - 7} : f_{n - 15} + 4 f_{n - 14} + 5 f_{n - 13} + 2 f_{n - 12} + f_{n - 11} + f_{n - 10}, \\quad f_{n - 6} : f_{n - 14} + 4 f_{n - 13} + 5 f_{n - 12} + 2 f_{n - 11} + f_{n - 10} + f_{n - 9}, \\quad f_{n - 5} : f_{n - 13} + 4 f_{n - 12} + 5 f_{n - 11} + 2 f_{n - 10} + f_{n - 9} + f_{n - 8}, \\quad f_{n - 4} : f_{n - 8} + 2 f_{n - 7} + f_{n - 6}, \\quad f_{n - 3} : f_{n - 7} + 2 f_{n - 6} + f_{n - 5}, \\quad f_{n - 2} : f_{n - 4} + f_{n - 3}, \\quad f_{n - 1} : f_{n - 3} + f_{n - 2}\\right \\}$$"
      ],
      "text/plain": [
       "{f[n - 16]: f[n - 32] + 8⋅f[n - 31] + 26⋅f[n - 30] + 44⋅f[n - 29] + 42⋅f[n - 2\n",
       "8] + 25⋅f[n - 27] + 13⋅f[n - 26] + 7⋅f[n - 25] + 3⋅f[n - 24] + 3⋅f[n - 23] + 3\n",
       "⋅f[n - 22] + f[n - 21], f[n - 15]: f[n - 31] + 8⋅f[n - 30] + 26⋅f[n - 29] + 44\n",
       "⋅f[n - 28] + 42⋅f[n - 27] + 25⋅f[n - 26] + 13⋅f[n - 25] + 7⋅f[n - 24] + 3⋅f[n \n",
       "- 23] + 3⋅f[n - 22] + 3⋅f[n - 21] + f[n - 20], f[n - 14]: f[n - 30] + 8⋅f[n - \n",
       "29] + 26⋅f[n - 28] + 44⋅f[n - 27] + 42⋅f[n - 26] + 25⋅f[n - 25] + 13⋅f[n - 24]\n",
       " + 7⋅f[n - 23] + 3⋅f[n - 22] + 3⋅f[n - 21] + 3⋅f[n - 20] + f[n - 19], f[n - 13\n",
       "]: f[n - 29] + 8⋅f[n - 28] + 26⋅f[n - 27] + 44⋅f[n - 26] + 42⋅f[n - 25] + 25⋅f\n",
       "[n - 24] + 13⋅f[n - 23] + 7⋅f[n - 22] + 3⋅f[n - 21] + 3⋅f[n - 20] + 3⋅f[n - 19\n",
       "] + f[n - 18], f[n - 12]: f[n - 28] + 8⋅f[n - 27] + 26⋅f[n - 26] + 44⋅f[n - 25\n",
       "] + 42⋅f[n - 24] + 25⋅f[n - 23] + 13⋅f[n - 22] + 7⋅f[n - 21] + 3⋅f[n - 20] + 3\n",
       "⋅f[n - 19] + 3⋅f[n - 18] + f[n - 17], f[n - 11]: f[n - 27] + 8⋅f[n - 26] + 26⋅\n",
       "f[n - 25] + 44⋅f[n - 24] + 42⋅f[n - 23] + 25⋅f[n - 22] + 13⋅f[n - 21] + 7⋅f[n \n",
       "- 20] + 3⋅f[n - 19] + 3⋅f[n - 18] + 3⋅f[n - 17] + f[n - 16], f[n - 10]: f[n - \n",
       "26] + 8⋅f[n - 25] + 26⋅f[n - 24] + 44⋅f[n - 23] + 42⋅f[n - 22] + 25⋅f[n - 21] \n",
       "+ 13⋅f[n - 20] + 7⋅f[n - 19] + 3⋅f[n - 18] + 3⋅f[n - 17] + 3⋅f[n - 16] + f[n -\n",
       " 15], f[n - 9]: f[n - 25] + 8⋅f[n - 24] + 26⋅f[n - 23] + 44⋅f[n - 22] + 42⋅f[n\n",
       " - 21] + 25⋅f[n - 20] + 13⋅f[n - 19] + 7⋅f[n - 18] + 3⋅f[n - 17] + 3⋅f[n - 16]\n",
       " + 3⋅f[n - 15] + f[n - 14], f[n - 8]: f[n - 16] + 4⋅f[n - 15] + 5⋅f[n - 14] + \n",
       "2⋅f[n - 13] + f[n - 12] + f[n - 11], f[n - 7]: f[n - 15] + 4⋅f[n - 14] + 5⋅f[n\n",
       " - 13] + 2⋅f[n - 12] + f[n - 11] + f[n - 10], f[n - 6]: f[n - 14] + 4⋅f[n - 13\n",
       "] + 5⋅f[n - 12] + 2⋅f[n - 11] + f[n - 10] + f[n - 9], f[n - 5]: f[n - 13] + 4⋅\n",
       "f[n - 12] + 5⋅f[n - 11] + 2⋅f[n - 10] + f[n - 9] + f[n - 8], f[n - 4]: f[n - 8\n",
       "] + 2⋅f[n - 7] + f[n - 6], f[n - 3]: f[n - 7] + 2⋅f[n - 6] + f[n - 5], f[n - 2\n",
       "]: f[n - 4] + f[n - 3], f[n - 1]: f[n - 3] + f[n - 2]}"
      ]
     },
     "execution_count": 60,
     "metadata": {},
     "output_type": "execute_result"
    }
   ],
   "source": [
    "cached_terms = project_recurrence_spec(fibonacci_recurrence_spec, terms_cache=True)\n",
    "cached_terms"
   ]
  },
  {
   "cell_type": "code",
   "execution_count": 61,
   "metadata": {
    "collapsed": false
   },
   "outputs": [
    {
     "data": {
      "text/latex": [
       "$$\\left [ f_{n} = f_{n - 2} + f_{n - 1}, \\quad f_{n} = f_{n - 8} + 4 f_{n - 7} + 5 f_{n - 6} + 2 f_{n - 5} + f_{n - 4} + f_{n - 3}, \\quad f_{n} = f_{n - 4} + 2 f_{n - 3} + f_{n - 2}, \\quad f_{n} = f_{n - 16} + 8 f_{n - 15} + 26 f_{n - 14} + 44 f_{n - 13} + 42 f_{n - 12} + 25 f_{n - 11} + 13 f_{n - 10} + 7 f_{n - 9} + 3 f_{n - 8} + 3 f_{n - 7} + 3 f_{n - 6} + f_{n - 5}\\right ]$$"
      ],
      "text/plain": [
       "[f[n] = f[n - 2] + f[n - 1], f[n] = f[n - 8] + 4⋅f[n - 7] + 5⋅f[n - 6] + 2⋅f[n\n",
       " - 5] + f[n - 4] + f[n - 3], f[n] = f[n - 4] + 2⋅f[n - 3] + f[n - 2], f[n] = f\n",
       "[n - 16] + 8⋅f[n - 15] + 26⋅f[n - 14] + 44⋅f[n - 13] + 42⋅f[n - 12] + 25⋅f[n -\n",
       " 11] + 13⋅f[n - 10] + 7⋅f[n - 9] + 3⋅f[n - 8] + 3⋅f[n - 7] + 3⋅f[n - 6] + f[n \n",
       "- 5]]"
      ]
     },
     "execution_count": 61,
     "metadata": {},
     "output_type": "execute_result"
    }
   ],
   "source": [
    "subsumed_rec_specs = subsume_cache(fibonacci_recurrence_spec)\n",
    "list(map(lambda spec: project_recurrence_spec(spec, recurrence_eq=True), subsumed_rec_specs))"
   ]
  },
  {
   "cell_type": "code",
   "execution_count": 47,
   "metadata": {
    "collapsed": false
   },
   "outputs": [
    {
     "data": {
      "text/latex": [
       "$$\\left \\{ f_{0} : 0, \\quad f_{1} : 1, \\quad f_{2} : 1, \\quad f_{3} : 2, \\quad f_{4} : 3, \\quad f_{5} : 5, \\quad f_{6} : 8, \\quad f_{7} : 13, \\quad f_{8} : 21, \\quad f_{9} : 34, \\quad f_{10} : 55, \\quad f_{11} : 89, \\quad f_{12} : 144, \\quad f_{13} : 233, \\quad f_{14} : 377, \\quad f_{15} : 610, \\quad f_{16} : 987, \\quad f_{17} : 1597, \\quad f_{18} : 2584, \\quad f_{19} : 4181, \\quad f_{20} : 6765, \\quad f_{21} : 10946, \\quad f_{22} : 17711, \\quad f_{23} : 28657, \\quad f_{24} : 46368, \\quad f_{25} : 75025, \\quad f_{26} : 121393, \\quad f_{27} : 196418, \\quad f_{28} : 317811, \\quad f_{29} : 514229, \\quad f_{30} : 832040, \\quad f_{31} : 1346269, \\quad f_{32} : 2178309, \\quad f_{33} : 3524578, \\quad f_{34} : 5702887, \\quad f_{35} : 9227465, \\quad f_{36} : 14930352, \\quad f_{37} : 24157817, \\quad f_{38} : 39088169, \\quad f_{39} : 63245986, \\quad f_{40} : 102334155, \\quad f_{41} : 165580141, \\quad f_{42} : 267914296, \\quad f_{43} : 433494437, \\quad f_{44} : 701408733, \\quad f_{45} : 1134903170, \\quad f_{46} : 1836311903, \\quad f_{47} : 2971215073, \\quad f_{48} : 4807526976, \\quad f_{49} : 7778742049, \\quad f_{50} : 12586269025\\right \\}$$"
      ],
      "text/plain": [
       "{f[0]: 0, f[1]: 1, f[2]: 1, f[3]: 2, f[4]: 3, f[5]: 5, f[6]: 8, f[7]: 13, f[8]\n",
       ": 21, f[9]: 34, f[10]: 55, f[11]: 89, f[12]: 144, f[13]: 233, f[14]: 377, f[15\n",
       "]: 610, f[16]: 987, f[17]: 1597, f[18]: 2584, f[19]: 4181, f[20]: 6765, f[21]:\n",
       " 10946, f[22]: 17711, f[23]: 28657, f[24]: 46368, f[25]: 75025, f[26]: 121393,\n",
       " f[27]: 196418, f[28]: 317811, f[29]: 514229, f[30]: 832040, f[31]: 1346269, f\n",
       "[32]: 2178309, f[33]: 3524578, f[34]: 5702887, f[35]: 9227465, f[36]: 14930352\n",
       ", f[37]: 24157817, f[38]: 39088169, f[39]: 63245986, f[40]: 102334155, f[41]: \n",
       "165580141, f[42]: 267914296, f[43]: 433494437, f[44]: 701408733, f[45]: 113490\n",
       "3170, f[46]: 1836311903, f[47]: 2971215073, f[48]: 4807526976, f[49]: 77787420\n",
       "49, f[50]: 12586269025}"
      ]
     },
     "execution_count": 47,
     "metadata": {},
     "output_type": "execute_result"
    }
   ],
   "source": [
    "fibs = {f[i]:fibonacci(i) for i in range(0,51)}\n",
    "fibs"
   ]
  },
  {
   "cell_type": "code",
   "execution_count": 63,
   "metadata": {
    "collapsed": false
   },
   "outputs": [
    {
     "data": {
      "text/latex": [
       "$$f_{n - 5} = f_{n - 13} + 4 f_{n - 12} + 5 f_{n - 11} + 2 f_{n - 10} + f_{n - 9} + f_{n - 8}$$"
      ],
      "text/plain": [
       "f[n - 5] = f[n - 13] + 4⋅f[n - 12] + 5⋅f[n - 11] + 2⋅f[n - 10] + f[n - 9] + f[\n",
       "n - 8]"
      ]
     },
     "execution_count": 63,
     "metadata": {},
     "output_type": "execute_result"
    }
   ],
   "source": [
    "fib_term = f[n-5]\n",
    "fib_eq = Eq(fib_term,cached_terms[fib_term])\n",
    "fib_eq"
   ]
  },
  {
   "cell_type": "code",
   "execution_count": 64,
   "metadata": {
    "collapsed": false
   },
   "outputs": [
    {
     "data": {
      "text/latex": [
       "$$f_{45} = f_{37} + 4 f_{38} + 5 f_{39} + 2 f_{40} + f_{41} + f_{42}$$"
      ],
      "text/plain": [
       "f[45] = f[37] + 4⋅f[38] + 5⋅f[39] + 2⋅f[40] + f[41] + f[42]"
      ]
     },
     "execution_count": 64,
     "metadata": {},
     "output_type": "execute_result"
    }
   ],
   "source": [
    "instantiated_eq = fib_eq.subs({n:50})\n",
    "instantiated_eq"
   ]
  },
  {
   "cell_type": "code",
   "execution_count": 65,
   "metadata": {
    "collapsed": false
   },
   "outputs": [
    {
     "data": {
      "text/latex": [
       "$$\\mathrm{True}$$"
      ],
      "text/plain": [
       "True"
      ]
     },
     "execution_count": 65,
     "metadata": {},
     "output_type": "execute_result"
    }
   ],
   "source": [
    "instantiated_eq.subs(fibs)"
   ]
  },
  {
   "cell_type": "code",
   "execution_count": 66,
   "metadata": {
    "collapsed": false
   },
   "outputs": [
    {
     "data": {
      "text/latex": [
       "$$f_{n} = f_{n - 8} + 4 f_{n - 7} + 6 f_{n - 6} + 4 f_{n - 5} + f_{n - 4}$$"
      ],
      "text/plain": [
       "f[n] = f[n - 8] + 4⋅f[n - 7] + 6⋅f[n - 6] + 4⋅f[n - 5] + f[n - 4]"
      ]
     },
     "execution_count": 66,
     "metadata": {},
     "output_type": "execute_result"
    }
   ],
   "source": [
    "maybe_fib = Eq(f[n],f[n-8]+4*f[n-7]+6*f[n-6]+4*f[n-5]+f[n-4])\n",
    "maybe_fib"
   ]
  },
  {
   "cell_type": "code",
   "execution_count": 67,
   "metadata": {
    "collapsed": false
   },
   "outputs": [
    {
     "data": {
      "text/latex": [
       "$$f_{45} = f_{37} + 4 f_{38} + 6 f_{39} + 4 f_{40} + f_{41}$$"
      ],
      "text/plain": [
       "f[45] = f[37] + 4⋅f[38] + 6⋅f[39] + 4⋅f[40] + f[41]"
      ]
     },
     "execution_count": 67,
     "metadata": {},
     "output_type": "execute_result"
    }
   ],
   "source": [
    "maybe_fib_instantiated = maybe_fib.subs({n:45})\n",
    "maybe_fib_instantiated"
   ]
  },
  {
   "cell_type": "code",
   "execution_count": 68,
   "metadata": {
    "collapsed": false
   },
   "outputs": [
    {
     "data": {
      "text/latex": [
       "$$\\mathrm{True}$$"
      ],
      "text/plain": [
       "True"
      ]
     },
     "execution_count": 68,
     "metadata": {},
     "output_type": "execute_result"
    }
   ],
   "source": [
    "maybe_fib_instantiated.subs(fibs)"
   ]
  },
  {
   "cell_type": "code",
   "execution_count": 69,
   "metadata": {
    "collapsed": false
   },
   "outputs": [
    {
     "data": {
      "text/latex": [
       "$$f_{28} = f_{20} + 4 f_{21} + 6 f_{22} + 4 f_{23} + f_{24}$$"
      ],
      "text/plain": [
       "f[28] = f[20] + 4⋅f[21] + 6⋅f[22] + 4⋅f[23] + f[24]"
      ]
     },
     "execution_count": 69,
     "metadata": {},
     "output_type": "execute_result"
    }
   ],
   "source": [
    "maybe_fib_instantiated = maybe_fib.subs({n:28})\n",
    "maybe_fib_instantiated"
   ]
  },
  {
   "cell_type": "code",
   "execution_count": 70,
   "metadata": {
    "collapsed": false
   },
   "outputs": [
    {
     "data": {
      "text/latex": [
       "$$\\mathrm{True}$$"
      ],
      "text/plain": [
       "True"
      ]
     },
     "execution_count": 70,
     "metadata": {},
     "output_type": "execute_result"
    }
   ],
   "source": [
    "maybe_fib_instantiated.subs(fibs)"
   ]
  },
  {
   "cell_type": "code",
   "execution_count": 71,
   "metadata": {
    "collapsed": false
   },
   "outputs": [
    {
     "data": {
      "text/latex": [
       "$$f_{n} = f_{n - 16} + 8 f_{n - 15} + 28 f_{n - 14} + 56 f_{n - 13} + 70 f_{n - 12} + 56 f_{n - 11} + 28 f_{n - 10} + 8 f_{n - 9} + f_{n - 8}$$"
      ],
      "text/plain": [
       "f[n] = f[n - 16] + 8⋅f[n - 15] + 28⋅f[n - 14] + 56⋅f[n - 13] + 70⋅f[n - 12] + \n",
       "56⋅f[n - 11] + 28⋅f[n - 10] + 8⋅f[n - 9] + f[n - 8]"
      ]
     },
     "execution_count": 71,
     "metadata": {},
     "output_type": "execute_result"
    }
   ],
   "source": [
    "maybe_fib = Eq(f[n],f[n-16]+8*f[n-15]+28*f[n-14]+56*f[n-13]+70*f[n-12]+\n",
    "               f[n-8]+8*f[n-9]+28*f[n-10]+56*f[n-11])\n",
    "maybe_fib"
   ]
  },
  {
   "cell_type": "code",
   "execution_count": 72,
   "metadata": {
    "collapsed": false
   },
   "outputs": [
    {
     "data": {
      "text/latex": [
       "$$f_{28} = f_{12} + 8 f_{13} + 28 f_{14} + 56 f_{15} + 70 f_{16} + 56 f_{17} + 28 f_{18} + 8 f_{19} + f_{20}$$"
      ],
      "text/plain": [
       "f[28] = f[12] + 8⋅f[13] + 28⋅f[14] + 56⋅f[15] + 70⋅f[16] + 56⋅f[17] + 28⋅f[18]\n",
       " + 8⋅f[19] + f[20]"
      ]
     },
     "execution_count": 72,
     "metadata": {},
     "output_type": "execute_result"
    }
   ],
   "source": [
    "maybe_fib_instantiated = maybe_fib.subs({n:28})\n",
    "maybe_fib_instantiated"
   ]
  },
  {
   "cell_type": "code",
   "execution_count": 73,
   "metadata": {
    "collapsed": false
   },
   "outputs": [
    {
     "data": {
      "text/latex": [
       "$$\\mathrm{True}$$"
      ],
      "text/plain": [
       "True"
      ]
     },
     "execution_count": 73,
     "metadata": {},
     "output_type": "execute_result"
    }
   ],
   "source": [
    "maybe_fib_instantiated.subs(fibs)"
   ]
  },
  {
   "cell_type": "markdown",
   "metadata": {},
   "source": [
    "### An generalization attempt"
   ]
  },
  {
   "cell_type": "code",
   "execution_count": 17,
   "metadata": {
    "collapsed": true
   },
   "outputs": [],
   "source": [
    "%run \"sums.py\""
   ]
  },
  {
   "cell_type": "code",
   "execution_count": 18,
   "metadata": {
    "collapsed": true
   },
   "outputs": [],
   "source": [
    "def expand_sum_in_eq(eq_term):\n",
    "    lhs, rhs = eq_term.lhs, eq_term.rhs\n",
    "    return Eq(lhs, expand_Sum(rhs))"
   ]
  },
  {
   "cell_type": "code",
   "execution_count": 28,
   "metadata": {
    "collapsed": false
   },
   "outputs": [
    {
     "data": {
      "image/png": "[encoded data removed]",
      "text/latex": [
       "$$f_{n} = \\sum_{k=0}^{m} {\\binom{m}{k}} f_{k - 2 m + n}$$"
      ],
      "text/plain": [
       "         m                     \n",
       "        ____                   \n",
       "        ╲                      \n",
       "         ╲   ⎛m⎞               \n",
       "          ╲  ⎜ ⎟⋅f[k - 2*m + n]\n",
       "f[n] =    ╱  ⎝k⎠               \n",
       "         ╱                     \n",
       "        ╱                      \n",
       "        ‾‾‾‾                   \n",
       "       k = 0                   "
      ]
     },
     "execution_count": 28,
     "metadata": {},
     "output_type": "execute_result"
    }
   ],
   "source": [
    "m = symbols('m')\n",
    "thm = Eq(f[n], Sum(binomial(m,k)*f[n-2*m+k], (k,0,m)))\n",
    "thm"
   ]
  },
  {
   "cell_type": "code",
   "execution_count": 29,
   "metadata": {
    "collapsed": false
   },
   "outputs": [
    {
     "data": {
      "image/png": "[encoded data removed]",
      "text/latex": [
       "$$f_{n} = f_{n - 40} + 20 f_{n - 39} + 190 f_{n - 38} + 1140 f_{n - 37} + 4845 f_{n - 36} + 15504 f_{n - 35} + 38760 f_{n - 34} + 77520 f_{n - 33} + 125970 f_{n - 32} + 167960 f_{n - 31} + 184756 f_{n - 30} + 167960 f_{n - 29} + 125970 f_{n - 28} + 77520 f_{n - 27} + 38760 f_{n - 26} + 15504 f_{n - 25} + 4845 f_{n - 24} + 1140 f_{n - 23} + 190 f_{n - 22} + 20 f_{n - 21} + f_{n - 20}$$"
      ],
      "text/plain": [
       "f[n] = f[n - 40] + 20⋅f[n - 39] + 190⋅f[n - 38] + 1140⋅f[n - 37] + 4845⋅f[n - \n",
       "36] + 15504⋅f[n - 35] + 38760⋅f[n - 34] + 77520⋅f[n - 33] + 125970⋅f[n - 32] +\n",
       " 167960⋅f[n - 31] + 184756⋅f[n - 30] + 167960⋅f[n - 29] + 125970⋅f[n - 28] + 7\n",
       "7520⋅f[n - 27] + 38760⋅f[n - 26] + 15504⋅f[n - 25] + 4845⋅f[n - 24] + 1140⋅f[n\n",
       " - 23] + 190⋅f[n - 22] + 20⋅f[n - 21] + f[n - 20]"
      ]
     },
     "execution_count": 29,
     "metadata": {},
     "output_type": "execute_result"
    }
   ],
   "source": [
    "expanded_eq = expand_sum_in_eq(thm.subs({m:20}))\n",
    "expanded_eq"
   ]
  },
  {
   "cell_type": "code",
   "execution_count": 31,
   "metadata": {
    "collapsed": false
   },
   "outputs": [
    {
     "data": {
      "image/png": "[encoded data removed]",
      "text/latex": [
       "$$f_{40} = f_{0} + 20 f_{1} + 190 f_{2} + 1140 f_{3} + 4845 f_{4} + 15504 f_{5} + 38760 f_{6} + 77520 f_{7} + 125970 f_{8} + 167960 f_{9} + 184756 f_{10} + 167960 f_{11} + 125970 f_{12} + 77520 f_{13} + 38760 f_{14} + 15504 f_{15} + 4845 f_{16} + 1140 f_{17} + 190 f_{18} + 20 f_{19} + f_{20}$$"
      ],
      "text/plain": [
       "f[40] = f[0] + 20⋅f[1] + 190⋅f[2] + 1140⋅f[3] + 4845⋅f[4] + 15504⋅f[5] + 38760\n",
       "⋅f[6] + 77520⋅f[7] + 125970⋅f[8] + 167960⋅f[9] + 184756⋅f[10] + 167960⋅f[11] +\n",
       " 125970⋅f[12] + 77520⋅f[13] + 38760⋅f[14] + 15504⋅f[15] + 4845⋅f[16] + 1140⋅f[\n",
       "17] + 190⋅f[18] + 20⋅f[19] + f[20]"
      ]
     },
     "execution_count": 31,
     "metadata": {},
     "output_type": "execute_result"
    }
   ],
   "source": [
    "subsed = expanded_eq.subs(n, 40)\n",
    "subsed"
   ]
  },
  {
   "cell_type": "code",
   "execution_count": 32,
   "metadata": {
    "collapsed": false
   },
   "outputs": [
    {
     "data": {
      "image/png": "[encoded data removed]",
      "text/latex": [
       "$$\\mathrm{True}$$"
      ],
      "text/plain": [
       "True"
      ]
     },
     "execution_count": 32,
     "metadata": {},
     "output_type": "execute_result"
    }
   ],
   "source": [
    "subsed.subs(fibs)"
   ]
  },
  {
   "cell_type": "markdown",
   "metadata": {},
   "source": [
    "### Forward subscripts"
   ]
  },
  {
   "cell_type": "code",
   "execution_count": 56,
   "metadata": {
    "collapsed": true
   },
   "outputs": [],
   "source": [
    "clear_cache()"
   ]
  },
  {
   "cell_type": "code",
   "execution_count": 57,
   "metadata": {
    "collapsed": false
   },
   "outputs": [
    {
     "data": {
      "text/latex": [
       "$$f_{n + 2} = f_{n} + f_{n + 1}$$"
      ],
      "text/plain": [
       "f[n + 2] = f[n] + f[n + 1]"
      ]
     },
     "execution_count": 57,
     "metadata": {},
     "output_type": "execute_result"
    }
   ],
   "source": [
    "f = IndexedBase('f')\n",
    "fibonacci_recurrence = Eq(f[n+2],f[n+1]+f[n])\n",
    "fibonacci_recurrence"
   ]
  },
  {
   "cell_type": "code",
   "execution_count": 58,
   "metadata": {
    "collapsed": true
   },
   "outputs": [],
   "source": [
    "boundary_conditions = {f[0]:Integer(0), f[1]:Integer(1)}\n",
    "fibonacci_recurrence_spec=dict(recurrence_eq=fibonacci_recurrence, indexed=f, \n",
    "                               index=n, terms_cache=boundary_conditions)"
   ]
  },
  {
   "cell_type": "code",
   "execution_count": 25,
   "metadata": {
    "collapsed": true
   },
   "outputs": [],
   "source": [
    "unfolded = do_unfolding_steps(fibonacci_recurrence_spec, 5)"
   ]
  },
  {
   "cell_type": "code",
   "execution_count": 26,
   "metadata": {
    "collapsed": false
   },
   "outputs": [
    {
     "data": {
      "text/latex": [
       "$$f_{n + 2} = f_{n - 9} + f_{n - 8} + f_{n - 8} + f_{n - 7} + f_{n - 8} + f_{n - 7} + f_{n - 7} + f_{n - 6} + f_{n - 8} + f_{n - 7} + f_{n - 7} + f_{n - 6} + f_{n - 7} + f_{n - 6} + f_{n - 6} + f_{n - 5} + f_{n - 10} + f_{n - 9} + f_{n - 9} + f_{n - 8} + f_{n - 9} + f_{n - 8} + f_{n - 8} + f_{n - 7} + f_{n - 9} + f_{n - 8} + f_{n - 8} + f_{n - 7} + f_{n - 8} + f_{n - 7} + f_{n - 7} + f_{n - 6} + f_{n - 7} + f_{n - 6} + f_{n - 6} + f_{n - 5} + f_{n - 6} + f_{n - 5} + f_{n - 5} + f_{n - 4} + f_{n - 8} + f_{n - 7} + f_{n - 7} + f_{n - 6} + f_{n - 7} + f_{n - 6} + f_{n - 6} + f_{n - 5} + f_{n - 9} + f_{n - 8} + f_{n - 8} + f_{n - 7} + f_{n - 8} + f_{n - 7} + f_{n - 7} + f_{n - 6} + f_{n - 8} + f_{n - 7} + f_{n - 7} + f_{n - 6} + f_{n - 7} + f_{n - 6} + f_{n - 6} + f_{n - 5}$$"
      ],
      "text/plain": [
       "f[n + 2] = f[n - 9] + f[n - 8] + f[n - 8] + f[n - 7] + f[n - 8] + f[n - 7] + f\n",
       "[n - 7] + f[n - 6] + f[n - 8] + f[n - 7] + f[n - 7] + f[n - 6] + f[n - 7] + f[\n",
       "n - 6] + f[n - 6] + f[n - 5] + f[n - 10] + f[n - 9] + f[n - 9] + f[n - 8] + f[\n",
       "n - 9] + f[n - 8] + f[n - 8] + f[n - 7] + f[n - 9] + f[n - 8] + f[n - 8] + f[n\n",
       " - 7] + f[n - 8] + f[n - 7] + f[n - 7] + f[n - 6] + f[n - 7] + f[n - 6] + f[n \n",
       "- 6] + f[n - 5] + f[n - 6] + f[n - 5] + f[n - 5] + f[n - 4] + f[n - 8] + f[n -\n",
       " 7] + f[n - 7] + f[n - 6] + f[n - 7] + f[n - 6] + f[n - 6] + f[n - 5] + f[n - \n",
       "9] + f[n - 8] + f[n - 8] + f[n - 7] + f[n - 8] + f[n - 7] + f[n - 7] + f[n - 6\n",
       "] + f[n - 8] + f[n - 7] + f[n - 7] + f[n - 6] + f[n - 7] + f[n - 6] + f[n - 6]\n",
       " + f[n - 5]"
      ]
     },
     "execution_count": 26,
     "metadata": {},
     "output_type": "execute_result"
    }
   ],
   "source": [
    "recurrence_eq = project_recurrence_spec(unfolded, recurrence_eq=True)\n",
    "recurrence_eq"
   ]
  },
  {
   "cell_type": "code",
   "execution_count": 27,
   "metadata": {
    "collapsed": false
   },
   "outputs": [
    {
     "data": {
      "text/latex": [
       "$$f_{n + 2} = f_{n - 10} + 6 f_{n - 9} + 15 f_{n - 8} + 20 f_{n - 7} + 15 f_{n - 6} + 6 f_{n - 5} + f_{n - 4}$$"
      ],
      "text/plain": [
       "f[n + 2] = f[n - 10] + 6⋅f[n - 9] + 15⋅f[n - 8] + 20⋅f[n - 7] + 15⋅f[n - 6] + \n",
       "6⋅f[n - 5] + f[n - 4]"
      ]
     },
     "execution_count": 27,
     "metadata": {},
     "output_type": "execute_result"
    }
   ],
   "source": [
    "factored_recurrence_eq = project_recurrence_spec(factor_rhs_unfolded_rec(unfolded), recurrence_eq=True)\n",
    "factored_recurrence_eq"
   ]
  },
  {
   "cell_type": "code",
   "execution_count": 28,
   "metadata": {
    "collapsed": false
   },
   "outputs": [
    {
     "data": {
      "text/latex": [
       "$$f_{12} = f_{0} + 6 f_{1} + 15 f_{2} + 20 f_{3} + 15 f_{4} + 6 f_{5} + f_{6}$$"
      ],
      "text/plain": [
       "f[12] = f[0] + 6⋅f[1] + 15⋅f[2] + 20⋅f[3] + 15⋅f[4] + 6⋅f[5] + f[6]"
      ]
     },
     "execution_count": 28,
     "metadata": {},
     "output_type": "execute_result"
    }
   ],
   "source": [
    "factored_recurrence_eq.subs(n,10)"
   ]
  },
  {
   "cell_type": "code",
   "execution_count": 29,
   "metadata": {
    "collapsed": false
   },
   "outputs": [],
   "source": [
    "instantiated_rec_spec = base_instantiation(unfolded)"
   ]
  },
  {
   "cell_type": "code",
   "execution_count": 30,
   "metadata": {
    "collapsed": false
   },
   "outputs": [
    {
     "data": {
      "text/latex": [
       "$$\\left ( \\left \\{ f_{0} : 0, \\quad f_{1} : 1, \\quad f_{2} : f_{0} + f_{1}, \\quad f_{3} : f_{1} + f_{2}, \\quad f_{4} : f_{2} + f_{3}, \\quad f_{5} : f_{3} + f_{4}, \\quad f_{6} : f_{4} + f_{5}, \\quad f_{7} : f_{5} + f_{6}, \\quad f_{8} : f_{6} + f_{7}, \\quad f_{9} : f_{7} + f_{8}, \\quad f_{10} : f_{8} + f_{9}, \\quad f_{11} : f_{9} + f_{10}\\right \\}, \\quad f_{12} = f_{0} + 6 f_{1} + 15 f_{2} + 20 f_{3} + 15 f_{4} + 6 f_{5} + f_{6}\\right )$$"
      ],
      "text/plain": [
       "({f[0]: 0, f[1]: 1, f[2]: f[0] + f[1], f[3]: f[1] + f[2], f[4]: f[2] + f[3], f\n",
       "[5]: f[3] + f[4], f[6]: f[4] + f[5], f[7]: f[5] + f[6], f[8]: f[6] + f[7], f[9\n",
       "]: f[7] + f[8], f[10]: f[8] + f[9], f[11]: f[9] + f[10]}, f[12] = f[0] + 6⋅f[1\n",
       "] + 15⋅f[2] + 20⋅f[3] + 15⋅f[4] + 6⋅f[5] + f[6])"
      ]
     },
     "execution_count": 30,
     "metadata": {},
     "output_type": "execute_result"
    }
   ],
   "source": [
    "project_recurrence_spec(instantiated_rec_spec, recurrence_eq=True, terms_cache=True)"
   ]
  },
  {
   "cell_type": "code",
   "execution_count": 31,
   "metadata": {
    "collapsed": false
   },
   "outputs": [
    {
     "data": {
      "text/latex": [
       "$$\\left ( \\left \\{ f_{0} : 0, \\quad f_{1} : 1, \\quad f_{2} : 1, \\quad f_{3} : 2, \\quad f_{4} : 3, \\quad f_{5} : 5, \\quad f_{6} : 8, \\quad f_{7} : 13, \\quad f_{8} : 21, \\quad f_{9} : 34, \\quad f_{10} : 55, \\quad f_{11} : 89\\right \\}, \\quad f_{12} = 144\\right )$$"
      ],
      "text/plain": [
       "({f[0]: 0, f[1]: 1, f[2]: 1, f[3]: 2, f[4]: 3, f[5]: 5, f[6]: 8, f[7]: 13, f[8\n",
       "]: 21, f[9]: 34, f[10]: 55, f[11]: 89}, f[12] = 144)"
      ]
     },
     "execution_count": 31,
     "metadata": {},
     "output_type": "execute_result"
    }
   ],
   "source": [
    "fully_instantiated_spec = repeated_instantiating(instantiated_rec_spec)\n",
    "project_recurrence_spec(fully_instantiated_spec, recurrence_eq=True, terms_cache=True)"
   ]
  },
  {
   "cell_type": "code",
   "execution_count": 31,
   "metadata": {
    "collapsed": false
   },
   "outputs": [
    {
     "data": {
      "text/latex": [
       "\\begin{array}{c}f_{2} = f_{0} + f_{1}\\\\\n",
       "f_{4} = f_{0} + 2 f_{1} + f_{2}\\\\\n",
       "f_{6} = f_{0} + 3 f_{1} + 3 f_{2} + f_{3}\\\\\n",
       "f_{8} = f_{0} + 4 f_{1} + 6 f_{2} + 4 f_{3} + f_{4}\\\\\n",
       "f_{10} = f_{0} + 5 f_{1} + 10 f_{2} + 10 f_{3} + 5 f_{4} + f_{5}\\\\\n",
       "f_{12} = f_{0} + 6 f_{1} + 15 f_{2} + 20 f_{3} + 15 f_{4} + 6 f_{5} + f_{6}\\\\\n",
       "f_{14} = f_{0} + 7 f_{1} + 21 f_{2} + 35 f_{3} + 35 f_{4} + 21 f_{5} + 7 f_{6} + f_{7}\\\\\n",
       "f_{16} = f_{0} + 8 f_{1} + 28 f_{2} + 56 f_{3} + 70 f_{4} + 56 f_{5} + 28 f_{6} + 8 f_{7} + f_{8}\\\\\n",
       "f_{18} = f_{0} + 9 f_{1} + 36 f_{2} + 84 f_{3} + 126 f_{4} + 126 f_{5} + 84 f_{6} + 36 f_{7} + 9 f_{8} + f_{9}\\\\\n",
       "f_{20} = f_{0} + 10 f_{1} + 45 f_{2} + 120 f_{3} + 210 f_{4} + 252 f_{5} + 210 f_{6} + 120 f_{7} + 45 f_{8} + 10 f_{9} + f_{10}\\\\\n",
       "f_{22} = f_{0} + 11 f_{1} + 55 f_{2} + 165 f_{3} + 330 f_{4} + 462 f_{5} + 462 f_{6} + 330 f_{7} + 165 f_{8} + 55 f_{9} + 11 f_{10} + f_{11}\\\\\n",
       "f_{24} = f_{0} + 12 f_{1} + 66 f_{2} + 220 f_{3} + 495 f_{4} + 792 f_{5} + 924 f_{6} + 792 f_{7} + 495 f_{8} + 220 f_{9} + 66 f_{10} + 12 f_{11} + f_{12}\\\\\n",
       "f_{26} = f_{0} + 13 f_{1} + 78 f_{2} + 286 f_{3} + 715 f_{4} + 1287 f_{5} + 1716 f_{6} + 1716 f_{7} + 1287 f_{8} + 715 f_{9} + 286 f_{10} + 78 f_{11} + 13 f_{12} + f_{13}\\\\\\end{array}"
      ],
      "text/plain": [
       "<IPython.core.display.Latex object>"
      ]
     },
     "execution_count": 31,
     "metadata": {},
     "output_type": "execute_result"
    }
   ],
   "source": [
    "ipython_latex(fibonacci_recurrence_spec, times_range=range(13))"
   ]
  },
  {
   "cell_type": "code",
   "execution_count": 13,
   "metadata": {
    "collapsed": false
   },
   "outputs": [
    {
     "data": {
      "image/png": "[encoded data removed]",
      "text/latex": [
       "$$\\left \\{ f_{0} : 0, \\quad f_{1} : 1, \\quad f_{n} : f_{n - 2} + f_{n - 1}, \\quad f_{n - 20} : f_{n - 22} + f_{n - 21}, \\quad f_{n - 19} : f_{n - 21} + f_{n - 20}, \\quad f_{n - 18} : f_{n - 20} + f_{n - 19}, \\quad f_{n - 17} : f_{n - 19} + f_{n - 18}, \\quad f_{n - 16} : f_{n - 18} + f_{n - 17}, \\quad f_{n - 15} : f_{n - 17} + f_{n - 16}, \\quad f_{n - 14} : f_{n - 16} + f_{n - 15}, \\quad f_{n - 13} : f_{n - 15} + f_{n - 14}, \\quad f_{n - 12} : f_{n - 14} + f_{n - 13}, \\quad f_{n - 11} : f_{n - 13} + f_{n - 12}, \\quad f_{n - 10} : f_{n - 12} + f_{n - 11}, \\quad f_{n - 9} : f_{n - 11} + f_{n - 10}, \\quad f_{n - 8} : f_{n - 10} + f_{n - 9}, \\quad f_{n - 7} : f_{n - 9} + f_{n - 8}, \\quad f_{n - 6} : f_{n - 8} + f_{n - 7}, \\quad f_{n - 5} : f_{n - 7} + f_{n - 6}, \\quad f_{n - 4} : f_{n - 6} + f_{n - 5}, \\quad f_{n - 3} : f_{n - 5} + f_{n - 4}, \\quad f_{n - 2} : f_{n - 4} + f_{n - 3}, \\quad f_{n - 1} : f_{n - 3} + f_{n - 2}, \\quad f_{n + 1} : f_{n} + f_{n - 1}\\right \\}$$"
      ],
      "text/plain": [
       "{f[0]: 0, f[1]: 1, f[n]: f[n - 2] + f[n - 1], f[n - 20]: f[n - 22] + f[n - 21]\n",
       ", f[n - 19]: f[n - 21] + f[n - 20], f[n - 18]: f[n - 20] + f[n - 19], f[n - 17\n",
       "]: f[n - 19] + f[n - 18], f[n - 16]: f[n - 18] + f[n - 17], f[n - 15]: f[n - 1\n",
       "7] + f[n - 16], f[n - 14]: f[n - 16] + f[n - 15], f[n - 13]: f[n - 15] + f[n -\n",
       " 14], f[n - 12]: f[n - 14] + f[n - 13], f[n - 11]: f[n - 13] + f[n - 12], f[n \n",
       "- 10]: f[n - 12] + f[n - 11], f[n - 9]: f[n - 11] + f[n - 10], f[n - 8]: f[n -\n",
       " 10] + f[n - 9], f[n - 7]: f[n - 9] + f[n - 8], f[n - 6]: f[n - 8] + f[n - 7],\n",
       " f[n - 5]: f[n - 7] + f[n - 6], f[n - 4]: f[n - 6] + f[n - 5], f[n - 3]: f[n -\n",
       " 5] + f[n - 4], f[n - 2]: f[n - 4] + f[n - 3], f[n - 1]: f[n - 3] + f[n - 2], \n",
       "f[n + 1]: f[n] + f[n - 1]}"
      ]
     },
     "execution_count": 13,
     "metadata": {},
     "output_type": "execute_result"
    }
   ],
   "source": [
    "project_recurrence_spec(fibonacci_recurrence_spec, terms_cache=True)"
   ]
  },
  {
   "cell_type": "code",
   "execution_count": 59,
   "metadata": {
    "collapsed": false
   },
   "outputs": [
    {
     "data": {
      "text/latex": [
       "$$\\left [ f_{n + 2} = f_{n} + f_{n + 1}, \\quad f_{n + 2} = f_{n} + f_{n - 2} + 2 f_{n - 1}, \\quad f_{n + 2} = f_{n - 4} + 3 f_{n - 3} + 3 f_{n - 2} + f_{n - 1}, \\quad f_{n + 2} = f_{n - 6} + 4 f_{n - 5} + 6 f_{n - 4} + 4 f_{n - 3} + f_{n - 2}, \\quad f_{n + 2} = f_{n - 8} + 5 f_{n - 7} + 10 f_{n - 6} + 10 f_{n - 5} + 5 f_{n - 4} + f_{n - 3}, \\quad f_{n + 2} = f_{n - 10} + 6 f_{n - 9} + 15 f_{n - 8} + 20 f_{n - 7} + 15 f_{n - 6} + 6 f_{n - 5} + f_{n - 4}, \\quad f_{n + 2} = f_{n - 12} + 7 f_{n - 11} + 21 f_{n - 10} + 35 f_{n - 9} + 35 f_{n - 8} + 21 f_{n - 7} + 7 f_{n - 6} + f_{n - 5}, \\quad f_{n + 2} = f_{n - 14} + 8 f_{n - 13} + 28 f_{n - 12} + 56 f_{n - 11} + 70 f_{n - 10} + 56 f_{n - 9} + 28 f_{n - 8} + 8 f_{n - 7} + f_{n - 6}, \\quad f_{n + 2} = f_{n - 16} + 9 f_{n - 15} + 36 f_{n - 14} + 84 f_{n - 13} + 126 f_{n - 12} + 126 f_{n - 11} + 84 f_{n - 10} + 36 f_{n - 9} + 9 f_{n - 8} + f_{n - 7}, \\quad f_{n + 2} = f_{n - 18} + 10 f_{n - 17} + 45 f_{n - 16} + 120 f_{n - 15} + 210 f_{n - 14} + 252 f_{n - 13} + 210 f_{n - 12} + 120 f_{n - 11} + 45 f_{n - 10} + 10 f_{n - 9} + f_{n - 8}\\right ]$$"
      ],
      "text/plain": [
       "[f[n + 2] = f[n] + f[n + 1], f[n + 2] = f[n] + f[n - 2] + 2⋅f[n - 1], f[n + 2]\n",
       " = f[n - 4] + 3⋅f[n - 3] + 3⋅f[n - 2] + f[n - 1], f[n + 2] = f[n - 6] + 4⋅f[n \n",
       "- 5] + 6⋅f[n - 4] + 4⋅f[n - 3] + f[n - 2], f[n + 2] = f[n - 8] + 5⋅f[n - 7] + \n",
       "10⋅f[n - 6] + 10⋅f[n - 5] + 5⋅f[n - 4] + f[n - 3], f[n + 2] = f[n - 10] + 6⋅f[\n",
       "n - 9] + 15⋅f[n - 8] + 20⋅f[n - 7] + 15⋅f[n - 6] + 6⋅f[n - 5] + f[n - 4], f[n \n",
       "+ 2] = f[n - 12] + 7⋅f[n - 11] + 21⋅f[n - 10] + 35⋅f[n - 9] + 35⋅f[n - 8] + 21\n",
       "⋅f[n - 7] + 7⋅f[n - 6] + f[n - 5], f[n + 2] = f[n - 14] + 8⋅f[n - 13] + 28⋅f[n\n",
       " - 12] + 56⋅f[n - 11] + 70⋅f[n - 10] + 56⋅f[n - 9] + 28⋅f[n - 8] + 8⋅f[n - 7] \n",
       "+ f[n - 6], f[n + 2] = f[n - 16] + 9⋅f[n - 15] + 36⋅f[n - 14] + 84⋅f[n - 13] +\n",
       " 126⋅f[n - 12] + 126⋅f[n - 11] + 84⋅f[n - 10] + 36⋅f[n - 9] + 9⋅f[n - 8] + f[n\n",
       " - 7], f[n + 2] = f[n - 18] + 10⋅f[n - 17] + 45⋅f[n - 16] + 120⋅f[n - 15] + 21\n",
       "0⋅f[n - 14] + 252⋅f[n - 13] + 210⋅f[n - 12] + 120⋅f[n - 11] + 45⋅f[n - 10] + 1\n",
       "0⋅f[n - 9] + f[n - 8]]"
      ]
     },
     "execution_count": 59,
     "metadata": {},
     "output_type": "execute_result"
    }
   ],
   "source": [
    "rows=10\n",
    "mapped = map(lambda rec_spec: project_recurrence_spec(rec_spec, recurrence_eq=True), \n",
    "         times_higher_order_operator(fibonacci_recurrence_spec, \n",
    "                                     operator=lambda processed_spec, steps: processed_spec,\n",
    "                                     instantiate=False,\n",
    "                                     times_range=range(rows)))\n",
    "mapped = list(mapped)\n",
    "mapped"
   ]
  },
  {
   "cell_type": "code",
   "execution_count": 61,
   "metadata": {
    "collapsed": false
   },
   "outputs": [
    {
     "data": {
      "text/latex": [
       "$$\\left [ f_{n + 2} = f_{n} + f_{n + 1}, \\quad 2 f_{n + 2} = 2 f_{n} + f_{n - 2} + 2 f_{n - 1} + f_{n + 1}, \\quad 3 f_{n + 2} = 2 f_{n} + f_{n - 4} + 3 f_{n - 3} + 4 f_{n - 2} + 3 f_{n - 1} + f_{n + 1}, \\quad 4 f_{n + 2} = 2 f_{n} + f_{n - 6} + 4 f_{n - 5} + 7 f_{n - 4} + 7 f_{n - 3} + 5 f_{n - 2} + 3 f_{n - 1} + f_{n + 1}, \\quad 5 f_{n + 2} = 2 f_{n} + f_{n - 8} + 5 f_{n - 7} + 11 f_{n - 6} + 14 f_{n - 5} + 12 f_{n - 4} + 8 f_{n - 3} + 5 f_{n - 2} + 3 f_{n - 1} + f_{n + 1}, \\quad 6 f_{n + 2} = 2 f_{n} + f_{n - 10} + 6 f_{n - 9} + 16 f_{n - 8} + 25 f_{n - 7} + 26 f_{n - 6} + 20 f_{n - 5} + 13 f_{n - 4} + 8 f_{n - 3} + 5 f_{n - 2} + 3 f_{n - 1} + f_{n + 1}, \\quad 7 f_{n + 2} = 2 f_{n} + f_{n - 12} + 7 f_{n - 11} + 22 f_{n - 10} + 41 f_{n - 9} + 51 f_{n - 8} + 46 f_{n - 7} + 33 f_{n - 6} + 21 f_{n - 5} + 13 f_{n - 4} + 8 f_{n - 3} + 5 f_{n - 2} + 3 f_{n - 1} + f_{n + 1}, \\quad 8 f_{n + 2} = 2 f_{n} + f_{n - 14} + 8 f_{n - 13} + 29 f_{n - 12} + 63 f_{n - 11} + 92 f_{n - 10} + 97 f_{n - 9} + 79 f_{n - 8} + 54 f_{n - 7} + 34 f_{n - 6} + 21 f_{n - 5} + 13 f_{n - 4} + 8 f_{n - 3} + 5 f_{n - 2} + 3 f_{n - 1} + f_{n + 1}, \\quad 9 f_{n + 2} = 2 f_{n} + f_{n - 16} + 9 f_{n - 15} + 37 f_{n - 14} + 92 f_{n - 13} + 155 f_{n - 12} + 189 f_{n - 11} + 176 f_{n - 10} + 133 f_{n - 9} + 88 f_{n - 8} + 55 f_{n - 7} + 34 f_{n - 6} + 21 f_{n - 5} + 13 f_{n - 4} + 8 f_{n - 3} + 5 f_{n - 2} + 3 f_{n - 1} + f_{n + 1}, \\quad 10 f_{n + 2} = 2 f_{n} + f_{n - 18} + 10 f_{n - 17} + 46 f_{n - 16} + 129 f_{n - 15} + 247 f_{n - 14} + 344 f_{n - 13} + 365 f_{n - 12} + 309 f_{n - 11} + 221 f_{n - 10} + 143 f_{n - 9} + 89 f_{n - 8} + 55 f_{n - 7} + 34 f_{n - 6} + 21 f_{n - 5} + 13 f_{n - 4} + 8 f_{n - 3} + 5 f_{n - 2} + 3 f_{n - 1} + f_{n + 1}\\right ]$$"
      ],
      "text/plain": [
       "[f[n + 2] = f[n] + f[n + 1], 2⋅f[n + 2] = 2⋅f[n] + f[n - 2] + 2⋅f[n - 1] + f[n\n",
       " + 1], 3⋅f[n + 2] = 2⋅f[n] + f[n - 4] + 3⋅f[n - 3] + 4⋅f[n - 2] + 3⋅f[n - 1] +\n",
       " f[n + 1], 4⋅f[n + 2] = 2⋅f[n] + f[n - 6] + 4⋅f[n - 5] + 7⋅f[n - 4] + 7⋅f[n - \n",
       "3] + 5⋅f[n - 2] + 3⋅f[n - 1] + f[n + 1], 5⋅f[n + 2] = 2⋅f[n] + f[n - 8] + 5⋅f[\n",
       "n - 7] + 11⋅f[n - 6] + 14⋅f[n - 5] + 12⋅f[n - 4] + 8⋅f[n - 3] + 5⋅f[n - 2] + 3\n",
       "⋅f[n - 1] + f[n + 1], 6⋅f[n + 2] = 2⋅f[n] + f[n - 10] + 6⋅f[n - 9] + 16⋅f[n - \n",
       "8] + 25⋅f[n - 7] + 26⋅f[n - 6] + 20⋅f[n - 5] + 13⋅f[n - 4] + 8⋅f[n - 3] + 5⋅f[\n",
       "n - 2] + 3⋅f[n - 1] + f[n + 1], 7⋅f[n + 2] = 2⋅f[n] + f[n - 12] + 7⋅f[n - 11] \n",
       "+ 22⋅f[n - 10] + 41⋅f[n - 9] + 51⋅f[n - 8] + 46⋅f[n - 7] + 33⋅f[n - 6] + 21⋅f[\n",
       "n - 5] + 13⋅f[n - 4] + 8⋅f[n - 3] + 5⋅f[n - 2] + 3⋅f[n - 1] + f[n + 1], 8⋅f[n \n",
       "+ 2] = 2⋅f[n] + f[n - 14] + 8⋅f[n - 13] + 29⋅f[n - 12] + 63⋅f[n - 11] + 92⋅f[n\n",
       " - 10] + 97⋅f[n - 9] + 79⋅f[n - 8] + 54⋅f[n - 7] + 34⋅f[n - 6] + 21⋅f[n - 5] +\n",
       " 13⋅f[n - 4] + 8⋅f[n - 3] + 5⋅f[n - 2] + 3⋅f[n - 1] + f[n + 1], 9⋅f[n + 2] = 2\n",
       "⋅f[n] + f[n - 16] + 9⋅f[n - 15] + 37⋅f[n - 14] + 92⋅f[n - 13] + 155⋅f[n - 12] \n",
       "+ 189⋅f[n - 11] + 176⋅f[n - 10] + 133⋅f[n - 9] + 88⋅f[n - 8] + 55⋅f[n - 7] + 3\n",
       "4⋅f[n - 6] + 21⋅f[n - 5] + 13⋅f[n - 4] + 8⋅f[n - 3] + 5⋅f[n - 2] + 3⋅f[n - 1] \n",
       "+ f[n + 1], 10⋅f[n + 2] = 2⋅f[n] + f[n - 18] + 10⋅f[n - 17] + 46⋅f[n - 16] + 1\n",
       "29⋅f[n - 15] + 247⋅f[n - 14] + 344⋅f[n - 13] + 365⋅f[n - 12] + 309⋅f[n - 11] +\n",
       " 221⋅f[n - 10] + 143⋅f[n - 9] + 89⋅f[n - 8] + 55⋅f[n - 7] + 34⋅f[n - 6] + 21⋅f\n",
       "[n - 5] + 13⋅f[n - 4] + 8⋅f[n - 3] + 5⋅f[n - 2] + 3⋅f[n - 1] + f[n + 1]]"
      ]
     },
     "execution_count": 61,
     "metadata": {},
     "output_type": "execute_result"
    }
   ],
   "source": [
    "list(accumulate(mapped, accumulating))"
   ]
  },
  {
   "cell_type": "markdown",
   "metadata": {},
   "source": [
    "According to [A162741][oeis], we can generalize the pattern above:\n",
    "\n",
    "[oeis]:http://oeis.org/A162741"
   ]
  },
  {
   "cell_type": "code",
   "execution_count": 75,
   "metadata": {
    "collapsed": false
   },
   "outputs": [
    {
     "data": {
      "text/latex": [
       "$$\\left ( \\left(k + 1\\right) f_{n} = \\sum_{i=0}^{2 k} f_{- i + n} d_{k,- i + 2 k}, \\quad \\left \\{ d_{0,0} : 1, \\quad d_{n,k} : d_{n - 1,k} + d_{n - 1,k - 1}, \\quad d_{n,2 n} : 1\\right \\}\\right )$$"
      ],
      "text/plain": [
       "⎛                2⋅k                                                          \n",
       "⎜                ___                                                          \n",
       "⎜                ╲                                                            \n",
       "⎜                 ╲   f[-i + n]⋅d[k, -i + 2*k]                                \n",
       "⎜(k + 1)⋅f[n] =   ╱                           , {d[0, 0]: 1, d[n, k]: d[n - 1,\n",
       "⎜                ╱                                                            \n",
       "⎜                ‾‾‾                                                          \n",
       "⎝               i = 0                                                         \n",
       "\n",
       "                                    ⎞\n",
       "                                    ⎟\n",
       "                                    ⎟\n",
       "                                    ⎟\n",
       " k] + d[n - 1, k - 1], d[n, 2*n]: 1}⎟\n",
       "                                    ⎟\n",
       "                                    ⎟\n",
       "                                    ⎠"
      ]
     },
     "execution_count": 75,
     "metadata": {},
     "output_type": "execute_result"
    }
   ],
   "source": [
    "i = symbols('i')\n",
    "d = IndexedBase('d')\n",
    "k_fn_gen = Eq((k+1)*f[n], Sum(d[k,2*k-i]*f[n-i], (i, 0, 2*k)))\n",
    "d_triangle= {d[0,0]:1, d[n,2*n]:1, d[n,k]:d[n-1, k-1]+d[n-1,k]}\n",
    "k_fn_gen, d_triangle"
   ]
  },
  {
   "cell_type": "markdown",
   "metadata": {},
   "source": [
    "#### looking at bottom left to top right diagonal sums\n",
    "Another well known recurrence about those numbers involving Pascal triangle is the following: \n",
    "$$ f_{n+1} = \\sum_{k\\geq 0}{{{n-k}\\choose{k}}}$$\n",
    "namely, a fibonacci number equals the sum in diagonals. Here we do something similar..."
   ]
  },
  {
   "cell_type": "code",
   "execution_count": 17,
   "metadata": {
    "collapsed": false
   },
   "outputs": [
    {
     "data": {
      "image/png": "[encoded data removed]",
      "text/latex": [
       "$$\\left ( f_{0}, \\quad 0\\right )$$"
      ],
      "text/plain": [
       "(f[0], 0)"
      ]
     },
     "execution_count": 17,
     "metadata": {},
     "output_type": "execute_result"
    }
   ],
   "source": [
    "f2_diag = f[0]\n",
    "f2_diag, f2_diag.subs(fibs)"
   ]
  },
  {
   "cell_type": "code",
   "execution_count": 18,
   "metadata": {
    "collapsed": false
   },
   "outputs": [
    {
     "data": {
      "image/png": "[encoded data removed]",
      "text/latex": [
       "$$\\left ( f_{0} + f_{1}, \\quad 1\\right )$$"
      ],
      "text/plain": [
       "(f[0] + f[1], 1)"
      ]
     },
     "execution_count": 18,
     "metadata": {},
     "output_type": "execute_result"
    }
   ],
   "source": [
    "f4_diag = f[0]+f[1]\n",
    "f4_diag, f4_diag.subs(fibs)"
   ]
  },
  {
   "cell_type": "code",
   "execution_count": 19,
   "metadata": {
    "collapsed": false
   },
   "outputs": [
    {
     "data": {
      "image/png": "[encoded data removed]",
      "text/latex": [
       "$$\\left ( f_{0} + 2 f_{1}, \\quad 2\\right )$$"
      ],
      "text/plain": [
       "(f[0] + 2⋅f[1], 2)"
      ]
     },
     "execution_count": 19,
     "metadata": {},
     "output_type": "execute_result"
    }
   ],
   "source": [
    "f6_diag = f[0]+2*f[1]\n",
    "f6_diag, f6_diag.subs(fibs)"
   ]
  },
  {
   "cell_type": "code",
   "execution_count": 20,
   "metadata": {
    "collapsed": false
   },
   "outputs": [
    {
     "data": {
      "image/png": "[encoded data removed]",
      "text/latex": [
       "$$\\left ( f_{0} + 3 f_{1} + f_{2}, \\quad 4\\right )$$"
      ],
      "text/plain": [
       "(f[0] + 3⋅f[1] + f[2], 4)"
      ]
     },
     "execution_count": 20,
     "metadata": {},
     "output_type": "execute_result"
    }
   ],
   "source": [
    "f8_diag = f[0]+3*f[1]+f[2]\n",
    "f8_diag, f8_diag.subs(fibs)"
   ]
  },
  {
   "cell_type": "code",
   "execution_count": 21,
   "metadata": {
    "collapsed": false
   },
   "outputs": [
    {
     "data": {
      "image/png": "[encoded data removed]",
      "text/latex": [
       "$$\\left ( f_{0} + 4 f_{1} + 3 f_{2}, \\quad 7\\right )$$"
      ],
      "text/plain": [
       "(f[0] + 4⋅f[1] + 3⋅f[2], 7)"
      ]
     },
     "execution_count": 21,
     "metadata": {},
     "output_type": "execute_result"
    }
   ],
   "source": [
    "f10_diag = f[0]+4*f[1]+3*f[2]\n",
    "f10_diag, f10_diag.subs(fibs)"
   ]
  },
  {
   "cell_type": "code",
   "execution_count": 22,
   "metadata": {
    "collapsed": false
   },
   "outputs": [
    {
     "data": {
      "image/png": "[encoded data removed]",
      "text/latex": [
       "$$\\left ( f_{0} + 5 f_{1} + 6 f_{2} + f_{3}, \\quad 13\\right )$$"
      ],
      "text/plain": [
       "(f[0] + 5⋅f[1] + 6⋅f[2] + f[3], 13)"
      ]
     },
     "execution_count": 22,
     "metadata": {},
     "output_type": "execute_result"
    }
   ],
   "source": [
    "f12_diag = f[0]+5*f[1]+6*f[2]+f[3]\n",
    "f12_diag, f12_diag.subs(fibs)"
   ]
  },
  {
   "cell_type": "code",
   "execution_count": 23,
   "metadata": {
    "collapsed": false
   },
   "outputs": [
    {
     "data": {
      "image/png": "[encoded data removed]",
      "text/latex": [
       "$$\\left ( f_{0} + 6 f_{1} + 10 f_{2} + 4 f_{3}, \\quad 24\\right )$$"
      ],
      "text/plain": [
       "(f[0] + 6⋅f[1] + 10⋅f[2] + 4⋅f[3], 24)"
      ]
     },
     "execution_count": 23,
     "metadata": {},
     "output_type": "execute_result"
    }
   ],
   "source": [
    "f14_diag = f[0]+6*f[1]+10*f[2]+4*f[3]\n",
    "f14_diag, f14_diag.subs(fibs)"
   ]
  },
  {
   "cell_type": "code",
   "execution_count": 24,
   "metadata": {
    "collapsed": false
   },
   "outputs": [
    {
     "data": {
      "image/png": "[encoded data removed]",
      "text/latex": [
       "$$\\left ( f_{0} + 7 f_{1} + 15 f_{2} + 10 f_{3} + f_{4}, \\quad 45\\right )$$"
      ],
      "text/plain": [
       "(f[0] + 7⋅f[1] + 15⋅f[2] + 10⋅f[3] + f[4], 45)"
      ]
     },
     "execution_count": 24,
     "metadata": {},
     "output_type": "execute_result"
    }
   ],
   "source": [
    "f16_diag = f[0]+7*f[1]+15*f[2]+10*f[3]+f[4]\n",
    "f16_diag, f16_diag.subs(fibs)"
   ]
  },
  {
   "cell_type": "code",
   "execution_count": 25,
   "metadata": {
    "collapsed": false
   },
   "outputs": [
    {
     "data": {
      "image/png": "[encoded data removed]",
      "text/latex": [
       "$$\\left ( f_{0} + 8 f_{1} + 21 f_{2} + 20 f_{3} + 5 f_{4}, \\quad 84\\right )$$"
      ],
      "text/plain": [
       "(f[0] + 8⋅f[1] + 21⋅f[2] + 20⋅f[3] + 5⋅f[4], 84)"
      ]
     },
     "execution_count": 25,
     "metadata": {},
     "output_type": "execute_result"
    }
   ],
   "source": [
    "f18_diag = f[0]+8*f[1]+21*f[2]+20*f[3]+5*f[4]\n",
    "f18_diag, f18_diag.subs(fibs)"
   ]
  },
  {
   "cell_type": "code",
   "execution_count": 26,
   "metadata": {
    "collapsed": false
   },
   "outputs": [
    {
     "data": {
      "image/png": "[encoded data removed]",
      "text/latex": [
       "$$\\left ( f_{0} + 9 f_{1} + 28 f_{2} + 35 f_{3} + 15 f_{4} + f_{5}, \\quad 157\\right )$$"
      ],
      "text/plain": [
       "(f[0] + 9⋅f[1] + 28⋅f[2] + 35⋅f[3] + 15⋅f[4] + f[5], 157)"
      ]
     },
     "execution_count": 26,
     "metadata": {},
     "output_type": "execute_result"
    }
   ],
   "source": [
    "f20_diag = f[0]+9*f[1]+28*f[2]+35*f[3]+15*f[4]+f[5]\n",
    "f20_diag, f20_diag.subs(fibs)"
   ]
  },
  {
   "cell_type": "code",
   "execution_count": 27,
   "metadata": {
    "collapsed": false
   },
   "outputs": [
    {
     "data": {
      "image/png": "[encoded data removed]",
      "text/latex": [
       "$$\\left ( f_{0} + 10 f_{1} + 36 f_{2} + 56 f_{3} + 35 f_{4} + 6 f_{5}, \\quad 293\\right )$$"
      ],
      "text/plain": [
       "(f[0] + 10⋅f[1] + 36⋅f[2] + 56⋅f[3] + 35⋅f[4] + 6⋅f[5], 293)"
      ]
     },
     "execution_count": 27,
     "metadata": {},
     "output_type": "execute_result"
    }
   ],
   "source": [
    "f22_diag = f[0]+10*f[1]+36*f[2]+56*f[3]+35*f[4]+6*f[5]\n",
    "f22_diag, f22_diag.subs(fibs)"
   ]
  },
  {
   "cell_type": "code",
   "execution_count": 28,
   "metadata": {
    "collapsed": false
   },
   "outputs": [
    {
     "data": {
      "image/png": "[encoded data removed]",
      "text/latex": [
       "$$\\left ( f_{0} + 11 f_{1} + 45 f_{2} + 84 f_{3} + 70 f_{4} + 21 f_{5} + f_{6}, \\quad 547\\right )$$"
      ],
      "text/plain": [
       "(f[0] + 11⋅f[1] + 45⋅f[2] + 84⋅f[3] + 70⋅f[4] + 21⋅f[5] + f[6], 547)"
      ]
     },
     "execution_count": 28,
     "metadata": {},
     "output_type": "execute_result"
    }
   ],
   "source": [
    "f24_diag = f[0]+11*f[1]+45*f[2]+84*f[3]+70*f[4]+21*f[5]+f[6]\n",
    "f24_diag, f24_diag.subs(fibs)"
   ]
  },
  {
   "cell_type": "code",
   "execution_count": 32,
   "metadata": {
    "collapsed": false
   },
   "outputs": [
    {
     "data": {
      "image/png": "[encoded data removed]",
      "text/latex": [
       "$$\\left ( f_{0} + 12 f_{1} + 55 f_{2} + 120 f_{3} + 126 f_{4} + 56 f_{5} + 7 f_{6}, \\quad 1021\\right )$$"
      ],
      "text/plain": [
       "(f[0] + 12⋅f[1] + 55⋅f[2] + 120⋅f[3] + 126⋅f[4] + 56⋅f[5] + 7⋅f[6], 1021)"
      ]
     },
     "execution_count": 32,
     "metadata": {},
     "output_type": "execute_result"
    }
   ],
   "source": [
    "f26_diag = f[0]+12*f[1]+55*f[2]+120*f[3]+126*f[4]+56*f[5]+7*f[6]\n",
    "f26_diag, f26_diag.subs(fibs)"
   ]
  },
  {
   "cell_type": "markdown",
   "metadata": {},
   "source": [
    "which is [A059633][oeis]. According to the reference, the sequence is built by the following recurrence: $$a_{n} = 2a_{n-1}-a_{n-3}+a_{n-4}$$\n",
    "It seems there's a curious correspondence among coefficients in the recurrence and coefficients in the gf...\n",
    "\n",
    "[oeis]:http://oeis.org/A059633"
   ]
  },
  {
   "cell_type": "code",
   "execution_count": 38,
   "metadata": {
    "collapsed": false
   },
   "outputs": [
    {
     "data": {
      "image/png": "[encoded data removed]",
      "text/latex": [
       "$$1 + 2 t + 4 t^{2} + 7 t^{3} + 13 t^{4} + 24 t^{5} + 45 t^{6} + 84 t^{7} + 157 t^{8} + 293 t^{9} + 547 t^{10} + 1021 t^{11} + 1906 t^{12} + 3558 t^{13} + \\mathcal{O}\\left(t^{14}\\right)$$"
      ],
      "text/plain": [
       "             2      3       4       5       6       7        8        9       \n",
       "1 + 2⋅t + 4⋅t  + 7⋅t  + 13⋅t  + 24⋅t  + 45⋅t  + 84⋅t  + 157⋅t  + 293⋅t  + 547⋅\n",
       "\n",
       " 10         11         12         13    ⎛ 14⎞\n",
       "t   + 1021⋅t   + 1906⋅t   + 3558⋅t   + O⎝t  ⎠"
      ]
     },
     "execution_count": 38,
     "metadata": {},
     "output_type": "execute_result"
    }
   ],
   "source": [
    "def A059633_gf(x): return 1/(1-2*x+x**3-x**4)\n",
    "\n",
    "A059633_gf(t).series(t,n=14)"
   ]
  },
  {
   "cell_type": "code",
   "execution_count": 39,
   "metadata": {
    "collapsed": false
   },
   "outputs": [
    {
     "data": {
      "image/png": "[encoded data removed]",
      "text/latex": [
       "$$1 + t + 2 t^{2} + 3 t^{3} + 5 t^{4} + 8 t^{5} + 13 t^{6} + 21 t^{7} + 34 t^{8} + 55 t^{9} + 89 t^{10} + 144 t^{11} + 233 t^{12} + 377 t^{13} + \\mathcal{O}\\left(t^{14}\\right)$$"
      ],
      "text/plain": [
       "           2      3      4      5       6       7       8       9       10    \n",
       "1 + t + 2⋅t  + 3⋅t  + 5⋅t  + 8⋅t  + 13⋅t  + 21⋅t  + 34⋅t  + 55⋅t  + 89⋅t   + 1\n",
       "\n",
       "    11        12        13    ⎛ 14⎞\n",
       "44⋅t   + 233⋅t   + 377⋅t   + O⎝t  ⎠"
      ]
     },
     "execution_count": 39,
     "metadata": {},
     "output_type": "execute_result"
    }
   ],
   "source": [
    "def fib_gf(t): return 1/(1-t-t**2)\n",
    "\n",
    "fib_gf(t).series(t, n=14)"
   ]
  },
  {
   "cell_type": "markdown",
   "metadata": {},
   "source": [
    "### Another characterization of $f_{2n+1}, \\forall n \\in\\mathbb{N}$"
   ]
  },
  {
   "cell_type": "code",
   "execution_count": 11,
   "metadata": {
    "collapsed": true
   },
   "outputs": [],
   "source": [
    "def do_memberwise_on_eqs(an_eq, another_eq, operator=lambda x, y: Add(x,y,evaluate=True)):\n",
    "    return Eq(operator(an_eq.lhs, another_eq.lhs), operator(an_eq.rhs, another_eq.rhs))\n",
    "\n",
    "def swap_eq(eq_term): return Eq(eq_term.rhs, eq_term.lhs)"
   ]
  },
  {
   "cell_type": "code",
   "execution_count": 12,
   "metadata": {
    "collapsed": false
   },
   "outputs": [
    {
     "data": {
      "text/plain": [
       "<map at 0x7f03140c20f0>"
      ]
     },
     "execution_count": 12,
     "metadata": {},
     "output_type": "execute_result"
    }
   ],
   "source": [
    "rows=10\n",
    "mapped = map(lambda rec_spec: project_recurrence_spec(rec_spec[0], recurrence_eq=True), \n",
    "         times_higher_order_operator(fibonacci_recurrence_spec, times_range=range(rows)))\n",
    "mapped"
   ]
  },
  {
   "cell_type": "code",
   "execution_count": 13,
   "metadata": {
    "collapsed": false
   },
   "outputs": [
    {
     "data": {
      "image/png": "[encoded data removed]",
      "text/latex": [
       "$$\\left [ f_{2} = f_{0} + f_{1}, \\quad f_{4} = f_{0} + 2 f_{1} + f_{2}, \\quad f_{6} = f_{0} + 3 f_{1} + 3 f_{2} + f_{3}, \\quad f_{8} = f_{0} + 4 f_{1} + 6 f_{2} + 4 f_{3} + f_{4}, \\quad f_{10} = f_{0} + 5 f_{1} + 10 f_{2} + 10 f_{3} + 5 f_{4} + f_{5}, \\quad f_{12} = f_{0} + 6 f_{1} + 15 f_{2} + 20 f_{3} + 15 f_{4} + 6 f_{5} + f_{6}, \\quad f_{14} = f_{0} + 7 f_{1} + 21 f_{2} + 35 f_{3} + 35 f_{4} + 21 f_{5} + 7 f_{6} + f_{7}, \\quad f_{16} = f_{0} + 8 f_{1} + 28 f_{2} + 56 f_{3} + 70 f_{4} + 56 f_{5} + 28 f_{6} + 8 f_{7} + f_{8}, \\quad f_{18} = f_{0} + 9 f_{1} + 36 f_{2} + 84 f_{3} + 126 f_{4} + 126 f_{5} + 84 f_{6} + 36 f_{7} + 9 f_{8} + f_{9}, \\quad f_{20} = f_{0} + 10 f_{1} + 45 f_{2} + 120 f_{3} + 210 f_{4} + 252 f_{5} + 210 f_{6} + 120 f_{7} + 45 f_{8} + 10 f_{9} + f_{10}\\right ]$$"
      ],
      "text/plain": [
       "[f[2] = f[0] + f[1], f[4] = f[0] + 2⋅f[1] + f[2], f[6] = f[0] + 3⋅f[1] + 3⋅f[2\n",
       "] + f[3], f[8] = f[0] + 4⋅f[1] + 6⋅f[2] + 4⋅f[3] + f[4], f[10] = f[0] + 5⋅f[1]\n",
       " + 10⋅f[2] + 10⋅f[3] + 5⋅f[4] + f[5], f[12] = f[0] + 6⋅f[1] + 15⋅f[2] + 20⋅f[3\n",
       "] + 15⋅f[4] + 6⋅f[5] + f[6], f[14] = f[0] + 7⋅f[1] + 21⋅f[2] + 35⋅f[3] + 35⋅f[\n",
       "4] + 21⋅f[5] + 7⋅f[6] + f[7], f[16] = f[0] + 8⋅f[1] + 28⋅f[2] + 56⋅f[3] + 70⋅f\n",
       "[4] + 56⋅f[5] + 28⋅f[6] + 8⋅f[7] + f[8], f[18] = f[0] + 9⋅f[1] + 36⋅f[2] + 84⋅\n",
       "f[3] + 126⋅f[4] + 126⋅f[5] + 84⋅f[6] + 36⋅f[7] + 9⋅f[8] + f[9], f[20] = f[0] +\n",
       " 10⋅f[1] + 45⋅f[2] + 120⋅f[3] + 210⋅f[4] + 252⋅f[5] + 210⋅f[6] + 120⋅f[7] + 45\n",
       "⋅f[8] + 10⋅f[9] + f[10]]"
      ]
     },
     "execution_count": 13,
     "metadata": {},
     "output_type": "execute_result"
    }
   ],
   "source": [
    "mapped=list(mapped)\n",
    "mapped"
   ]
  },
  {
   "cell_type": "code",
   "execution_count": 14,
   "metadata": {
    "collapsed": false
   },
   "outputs": [
    {
     "data": {
      "image/png": "[encoded data removed]",
      "text/latex": [
       "$$f_{2} + f_{4} + f_{6} + f_{8} + f_{10} + f_{12} + f_{14} + f_{16} + f_{18} + f_{20} = 10 f_{0} + 55 f_{1} + 165 f_{2} + 330 f_{3} + 462 f_{4} + 462 f_{5} + 330 f_{6} + 165 f_{7} + 55 f_{8} + 11 f_{9} + f_{10}$$"
      ],
      "text/plain": [
       "f[2] + f[4] + f[6] + f[8] + f[10] + f[12] + f[14] + f[16] + f[18] + f[20] = 10\n",
       "⋅f[0] + 55⋅f[1] + 165⋅f[2] + 330⋅f[3] + 462⋅f[4] + 462⋅f[5] + 330⋅f[6] + 165⋅f\n",
       "[7] + 55⋅f[8] + 11⋅f[9] + f[10]"
      ]
     },
     "execution_count": 14,
     "metadata": {},
     "output_type": "execute_result"
    }
   ],
   "source": [
    "reduce(do_memberwise_on_eqs, mapped)"
   ]
  },
  {
   "cell_type": "code",
   "execution_count": 15,
   "metadata": {
    "collapsed": false
   },
   "outputs": [
    {
     "data": {
      "image/png": "[encoded data removed]",
      "text/latex": [
       "$$\\sum_{k=1}^{n} f_{2 k} = f_{2 n + 1} - 1$$"
      ],
      "text/plain": [
       "  n                          \n",
       " ___                         \n",
       " ╲                           \n",
       "  ╲   f[2*k]                 \n",
       "  ╱          = f[2*n + 1] - 1\n",
       " ╱                           \n",
       " ‾‾‾                         \n",
       "k = 1                        "
      ]
     },
     "execution_count": 15,
     "metadata": {},
     "output_type": "execute_result"
    }
   ],
   "source": [
    "#even_subscript_fibonacci_eq = Eq(Sum(f[2*k],(k,0,n)), f[2*n+1]-1)\n",
    "even_subscript_fibonacci_eq = Eq(Sum(f[2*k],(k,1,n)), f[2*n+1]-1)\n",
    "even_subscript_fibonacci_eq"
   ]
  },
  {
   "cell_type": "code",
   "execution_count": 19,
   "metadata": {
    "collapsed": false
   },
   "outputs": [
    {
     "data": {
      "image/png": "[encoded data removed]",
      "text/latex": [
       "$$\\left ( \\sum_{k=1}^{21} f_{2 k} = f_{43} - 1, \\quad f_{43} - 1 = f_{2} + f_{4} + f_{6} + f_{8} + f_{10} + f_{12} + f_{14} + f_{16} + f_{18} + f_{20} + f_{22} + f_{24} + f_{26} + f_{28} + f_{30} + f_{32} + f_{34} + f_{36} + f_{38} + f_{40} + f_{42}\\right )$$"
      ],
      "text/plain": [
       "⎛  21                                                                         \n",
       "⎜ ___                                                                         \n",
       "⎜ ╲                                                                           \n",
       "⎜  ╲   f[2*k]                                                                 \n",
       "⎜  ╱          = f[43] - 1, f[43] - 1 = f[2] + f[4] + f[6] + f[8] + f[10] + f[1\n",
       "⎜ ╱                                                                           \n",
       "⎜ ‾‾‾                                                                         \n",
       "⎝k = 1                                                                        \n",
       "\n",
       "                                                                              \n",
       "                                                                              \n",
       "                                                                              \n",
       "                                                                              \n",
       "2] + f[14] + f[16] + f[18] + f[20] + f[22] + f[24] + f[26] + f[28] + f[30] + f\n",
       "                                                                              \n",
       "                                                                              \n",
       "                                                                              \n",
       "\n",
       "                                            ⎞\n",
       "                                            ⎟\n",
       "                                            ⎟\n",
       "                                            ⎟\n",
       "[32] + f[34] + f[36] + f[38] + f[40] + f[42]⎟\n",
       "                                            ⎟\n",
       "                                            ⎟\n",
       "                                            ⎠"
      ]
     },
     "execution_count": 19,
     "metadata": {},
     "output_type": "execute_result"
    }
   ],
   "source": [
    "example = even_subscript_fibonacci_eq.subs(n,21)\n",
    "example_expanded = expand_sum_in_eq(swap_eq(example))\n",
    "example, example_expanded"
   ]
  },
  {
   "cell_type": "code",
   "execution_count": 20,
   "metadata": {
    "collapsed": false
   },
   "outputs": [
    {
     "data": {
      "image/png": "[encoded data removed]",
      "text/latex": [
       "$$\\mathrm{True}$$"
      ],
      "text/plain": [
       "True"
      ]
     },
     "execution_count": 20,
     "metadata": {},
     "output_type": "execute_result"
    }
   ],
   "source": [
    "example_expanded.subs(fibs)"
   ]
  },
  {
   "cell_type": "code",
   "execution_count": 50,
   "metadata": {
    "collapsed": false
   },
   "outputs": [],
   "source": [
    "from itertools import accumulate\n",
    "\n",
    "enum_range = range(2,50,2)\n",
    "\n",
    "def worker(accumulated_pair, current_pair):\n",
    "    index, current = current_pair\n",
    "    _, accumulated = accumulated_pair\n",
    "    \n",
    "    summed_eq = do_memberwise_on_eqs(accumulated, current)\n",
    "    \n",
    "    return index, summed_eq\n",
    "\n",
    "def subs_fib_thm(pair):\n",
    "    index, current_eq = pair\n",
    "    swapped_thm = swap_eq(even_subscript_fibonacci_eq)\n",
    "    expanded_thm = expand_sum_in_eq(swapped_thm.subs(n,Integer(index)/2))\n",
    "    return index, current_eq, swap_eq(expanded_thm)\n",
    "\n",
    "def eq_to_subs_dict(eq_term): return {eq_term.lhs:eq_term.rhs}\n",
    "\n",
    "def apply_subs_on_lhs(triple):\n",
    "    index, current_eq, thm = triple\n",
    "    return current_eq.subs(eq_to_subs_dict(thm))\n",
    "\n",
    "def latex_array_env_of_eqs(mapped):\n",
    "    from string import Template\n",
    "    template = Template(r\"\"\"\\begin{array}{c}$content\\end{array}\"\"\")\n",
    "    return template.substitute(content=\"\\n\".join(mapped))\n",
    "\n",
    "def show_latex(triangle):\n",
    "    from IPython.display import Latex\n",
    "    eqs, latexes = [], []\n",
    "    triangle_pair = [(eq_term, latex(eq_term)+r'\\\\') for eq_term in triangle]\n",
    "    return (Latex(latex_array_env_of_eqs(map(lambda pair: pair[1], triangle_pair))), \n",
    "            map(lambda pair: pair[0], triangle_pair))"
   ]
  },
  {
   "cell_type": "code",
   "execution_count": 22,
   "metadata": {
    "collapsed": false
   },
   "outputs": [],
   "source": [
    "triangle = accumulate(zip(enum_range, mapped), worker)"
   ]
  },
  {
   "cell_type": "code",
   "execution_count": 23,
   "metadata": {
    "collapsed": false
   },
   "outputs": [],
   "source": [
    "triangle = map(subs_fib_thm, triangle)"
   ]
  },
  {
   "cell_type": "code",
   "execution_count": 24,
   "metadata": {
    "collapsed": false
   },
   "outputs": [],
   "source": [
    "triangle = map(apply_subs_on_lhs, triangle)"
   ]
  },
  {
   "cell_type": "code",
   "execution_count": 25,
   "metadata": {
    "collapsed": false
   },
   "outputs": [],
   "source": [
    "enhanced_fibs = fibs.copy()\n",
    "enhanced_fibs.update({f[-1]:1}) # check if this is really the case\n",
    "\n",
    "triangle, sat = reduce(lambda reduced_pair, current_eq: ((reduced_pair[0]+[current_eq]), \n",
    "                                                         reduced_pair[1] and current_eq.subs(enhanced_fibs)), \n",
    "                       triangle, ([], True))\n",
    "\n",
    "from sympy.logic.boolalg import BooleanTrue\n",
    "assert sat is BooleanTrue()"
   ]
  },
  {
   "cell_type": "code",
   "execution_count": 26,
   "metadata": {
    "collapsed": false
   },
   "outputs": [
    {
     "data": {
      "text/latex": [
       "\\begin{array}{c}f_{3} - 1 = f_{0} + f_{1}\\\\\n",
       "f_{5} - 1 = 2 f_{0} + 3 f_{1} + f_{2}\\\\\n",
       "f_{7} - 1 = 3 f_{0} + 6 f_{1} + 4 f_{2} + f_{3}\\\\\n",
       "f_{9} - 1 = 4 f_{0} + 10 f_{1} + 10 f_{2} + 5 f_{3} + f_{4}\\\\\n",
       "f_{11} - 1 = 5 f_{0} + 15 f_{1} + 20 f_{2} + 15 f_{3} + 6 f_{4} + f_{5}\\\\\n",
       "f_{13} - 1 = 6 f_{0} + 21 f_{1} + 35 f_{2} + 35 f_{3} + 21 f_{4} + 7 f_{5} + f_{6}\\\\\n",
       "f_{15} - 1 = 7 f_{0} + 28 f_{1} + 56 f_{2} + 70 f_{3} + 56 f_{4} + 28 f_{5} + 8 f_{6} + f_{7}\\\\\n",
       "f_{17} - 1 = 8 f_{0} + 36 f_{1} + 84 f_{2} + 126 f_{3} + 126 f_{4} + 84 f_{5} + 36 f_{6} + 9 f_{7} + f_{8}\\\\\n",
       "f_{19} - 1 = 9 f_{0} + 45 f_{1} + 120 f_{2} + 210 f_{3} + 252 f_{4} + 210 f_{5} + 120 f_{6} + 45 f_{7} + 10 f_{8} + f_{9}\\\\\n",
       "f_{21} - 1 = 10 f_{0} + 55 f_{1} + 165 f_{2} + 330 f_{3} + 462 f_{4} + 462 f_{5} + 330 f_{6} + 165 f_{7} + 55 f_{8} + 11 f_{9} + f_{10}\\\\\\end{array}"
      ],
      "text/plain": [
       "<IPython.core.display.Latex object>"
      ]
     },
     "execution_count": 26,
     "metadata": {},
     "output_type": "execute_result"
    }
   ],
   "source": [
    "triangle_latex, triangle = show_latex(triangle)\n",
    "triangle_latex"
   ]
  },
  {
   "cell_type": "markdown",
   "metadata": {},
   "source": [
    "which is the sequence [A153861][oeis]. Some details about the undergoing *Binomial transform* are described in [this][companion] companion notebook.\n",
    "\n",
    "[oeis]:http://oeis.org/A153861\n",
    "[companion]:http://nbviewer.jupyter.org/github/massimo-nocentini/PhD/blob/master/courses/paa/sympy-notebook/binomial-transform-applied-to-fibonacci-numbers.ipynb?flush_cache=true"
   ]
  },
  {
   "cell_type": "code",
   "execution_count": 28,
   "metadata": {
    "collapsed": false
   },
   "outputs": [
    {
     "data": {
      "image/png": "[encoded data removed]",
      "text/latex": [
       "$$f_{n} - 1 = 7 f_{n - 15} + 28 f_{n - 14} + 56 f_{n - 13} + 70 f_{n - 12} + 56 f_{n - 11} + 28 f_{n - 10} + 8 f_{n - 9} + f_{n - 8}$$"
      ],
      "text/plain": [
       "f[n] - 1 = 7⋅f[n - 15] + 28⋅f[n - 14] + 56⋅f[n - 13] + 70⋅f[n - 12] + 56⋅f[n -\n",
       " 11] + 28⋅f[n - 10] + 8⋅f[n - 9] + f[n - 8]"
      ]
     },
     "execution_count": 28,
     "metadata": {},
     "output_type": "execute_result"
    }
   ],
   "source": [
    "odd_fib_rec_eq = Eq(f[n]-1, 7*f[n-15]+28*f[n-14]+56*f[n-13]+70*f[n-12]+56*f[n-11]+28*f[n-10]+8*f[n-9]+f[n-8])\n",
    "odd_fib_rec_eq"
   ]
  },
  {
   "cell_type": "code",
   "execution_count": 32,
   "metadata": {
    "collapsed": false
   },
   "outputs": [
    {
     "data": {
      "image/png": "[encoded data removed]",
      "text/latex": [
       "$$\\left ( f_{15} - 1 = 7 f_{0} + 28 f_{1} + 56 f_{2} + 70 f_{3} + 56 f_{4} + 28 f_{5} + 8 f_{6} + f_{7}, \\quad \\mathrm{True}\\right )$$"
      ],
      "text/plain": [
       "(f[15] - 1 = 7⋅f[0] + 28⋅f[1] + 56⋅f[2] + 70⋅f[3] + 56⋅f[4] + 28⋅f[5] + 8⋅f[6]\n",
       " + f[7], True)"
      ]
     },
     "execution_count": 32,
     "metadata": {},
     "output_type": "execute_result"
    }
   ],
   "source": [
    "odd_f15 = odd_fib_rec_eq.subs(n,15)\n",
    "odd_f15, odd_f15.subs(fibs)"
   ]
  },
  {
   "cell_type": "code",
   "execution_count": 42,
   "metadata": {
    "collapsed": false
   },
   "outputs": [
    {
     "data": {
      "image/png": "[encoded data removed]",
      "text/latex": [
       "$$\\left ( f_{18} - 1 = 7 f_{3} + 28 f_{4} + 56 f_{5} + 70 f_{6} + 56 f_{7} + 28 f_{8} + 8 f_{9} + f_{10}, \\quad \\mathrm{False}, \\quad 2583, \\quad 2581\\right )$$"
      ],
      "text/plain": [
       "(f[18] - 1 = 7⋅f[3] + 28⋅f[4] + 56⋅f[5] + 70⋅f[6] + 56⋅f[7] + 28⋅f[8] + 8⋅f[9]\n",
       " + f[10], False, 2583, 2581)"
      ]
     },
     "execution_count": 42,
     "metadata": {},
     "output_type": "execute_result"
    }
   ],
   "source": [
    "odd_f45 = odd_fib_rec_eq.subs(n,18)\n",
    "odd_f45, odd_f45.subs(fibs), odd_f45.lhs.subs(fibs), odd_f45.rhs.subs(fibs)"
   ]
  },
  {
   "cell_type": "code",
   "execution_count": 280,
   "metadata": {
    "collapsed": false
   },
   "outputs": [],
   "source": [
    "triangle = map(lambda eq_term: Eq(eq_term.lhs+1, eq_term.rhs+f[-1]), triangle) # provided that $f[-1]=1$"
   ]
  },
  {
   "cell_type": "code",
   "execution_count": 281,
   "metadata": {
    "collapsed": false
   },
   "outputs": [
    {
     "data": {
      "text/latex": [
       "\\begin{array}{c}f_{3} = f_{-1} + f_{0} + f_{1}\\\\\n",
       "f_{5} = f_{-1} + 2 f_{0} + 3 f_{1} + f_{2}\\\\\n",
       "f_{7} = f_{-1} + 3 f_{0} + 6 f_{1} + 4 f_{2} + f_{3}\\\\\n",
       "f_{9} = f_{-1} + 4 f_{0} + 10 f_{1} + 10 f_{2} + 5 f_{3} + f_{4}\\\\\n",
       "f_{11} = f_{-1} + 5 f_{0} + 15 f_{1} + 20 f_{2} + 15 f_{3} + 6 f_{4} + f_{5}\\\\\n",
       "f_{13} = f_{-1} + 6 f_{0} + 21 f_{1} + 35 f_{2} + 35 f_{3} + 21 f_{4} + 7 f_{5} + f_{6}\\\\\n",
       "f_{15} = f_{-1} + 7 f_{0} + 28 f_{1} + 56 f_{2} + 70 f_{3} + 56 f_{4} + 28 f_{5} + 8 f_{6} + f_{7}\\\\\n",
       "f_{17} = f_{-1} + 8 f_{0} + 36 f_{1} + 84 f_{2} + 126 f_{3} + 126 f_{4} + 84 f_{5} + 36 f_{6} + 9 f_{7} + f_{8}\\\\\n",
       "f_{19} = f_{-1} + 9 f_{0} + 45 f_{1} + 120 f_{2} + 210 f_{3} + 252 f_{4} + 210 f_{5} + 120 f_{6} + 45 f_{7} + 10 f_{8} + f_{9}\\\\\n",
       "f_{21} = f_{-1} + 10 f_{0} + 55 f_{1} + 165 f_{2} + 330 f_{3} + 462 f_{4} + 462 f_{5} + 330 f_{6} + 165 f_{7} + 55 f_{8} + 11 f_{9} + f_{10}\\\\\\end{array}"
      ],
      "text/plain": [
       "<IPython.core.display.Latex object>"
      ]
     },
     "execution_count": 281,
     "metadata": {},
     "output_type": "execute_result"
    }
   ],
   "source": [
    "triangle_latex, triangle = show_latex(triangle)\n",
    "triangle_latex"
   ]
  },
  {
   "cell_type": "markdown",
   "metadata": {},
   "source": [
    "where we define $f_{-1}\\triangleq 1$, which has a correspondence with [A135392][oeis].\n",
    "\n",
    "[oeis]:http://oeis.org/A135392"
   ]
  },
  {
   "cell_type": "markdown",
   "metadata": {},
   "source": [
    "### Tribonacci numbers\n",
    "\n",
    "The following is an unfolding of [Tribonacci][tribonacci] numbers recurrence.\n",
    "\n",
    "[tribonacci]:http://oeis.org/A000073"
   ]
  },
  {
   "cell_type": "code",
   "execution_count": 32,
   "metadata": {
    "collapsed": false
   },
   "outputs": [
    {
     "data": {
      "image/png": "[encoded data removed]",
      "text/latex": [
       "$$f^{{(3)}}_{n + 3} = f^{{(3)}}_{n} + f^{{(3)}}_{n + 1} + f^{{(3)}}_{n + 2}$$"
      ],
      "text/plain": [
       "f^{(3)}[n + 3] = f^{(3)}[n] + f^{(3)}[n + 1] + f^{(3)}[n + 2]"
      ]
     },
     "execution_count": 32,
     "metadata": {},
     "output_type": "execute_result"
    }
   ],
   "source": [
    "f = IndexedBase('f^{(3)}')\n",
    "tribonacci_recurrence = Eq(f[n+3],f[n+2]+f[n+1]+f[n])\n",
    "tribonacci_recurrence"
   ]
  },
  {
   "cell_type": "code",
   "execution_count": 40,
   "metadata": {
    "collapsed": false
   },
   "outputs": [
    {
     "data": {
      "image/png": "[encoded data removed]",
      "text/latex": [
       "$$1 + t + 2 t^{2} + 4 t^{3} + 7 t^{4} + 13 t^{5} + 24 t^{6} + 44 t^{7} + 81 t^{8} + 149 t^{9} + 274 t^{10} + 504 t^{11} + 927 t^{12} + 1705 t^{13} + \\mathcal{O}\\left(t^{14}\\right)$$"
      ],
      "text/plain": [
       "           2      3      4       5       6       7       8        9        10 \n",
       "1 + t + 2⋅t  + 4⋅t  + 7⋅t  + 13⋅t  + 24⋅t  + 44⋅t  + 81⋅t  + 149⋅t  + 274⋅t   \n",
       "\n",
       "       11        12         13    ⎛ 14⎞\n",
       "+ 504⋅t   + 927⋅t   + 1705⋅t   + O⎝t  ⎠"
      ]
     },
     "execution_count": 40,
     "metadata": {},
     "output_type": "execute_result"
    }
   ],
   "source": [
    "def tribonacci_gf(t): return 1/(1-t-t**2-t**3)\n",
    "\n",
    "tribonacci_gf(t).series(t,n=14)"
   ]
  },
  {
   "cell_type": "code",
   "execution_count": 33,
   "metadata": {
    "collapsed": true
   },
   "outputs": [],
   "source": [
    "boundary_conditions = {f[0]:Integer(0), f[1]:Integer(0), f[2]:Integer(1)}\n",
    "\n",
    "tribonacci_recurrence_spec=dict(recurrence_eq=tribonacci_recurrence, indexed=f, \n",
    "                               index=n, terms_cache=boundary_conditions)"
   ]
  },
  {
   "cell_type": "code",
   "execution_count": 34,
   "metadata": {
    "collapsed": false
   },
   "outputs": [
    {
     "data": {
      "image/png": "[encoded data removed]",
      "text/latex": [
       "$$f^{{(3)}}_{n + 3} = f^{{(3)}}_{n - 13} + f^{{(3)}}_{n - 12} + f^{{(3)}}_{n - 11} + f^{{(3)}}_{n - 12} + f^{{(3)}}_{n - 11} + f^{{(3)}}_{n - 10} + f^{{(3)}}_{n - 11} + f^{{(3)}}_{n - 10} + f^{{(3)}}_{n - 9} + f^{{(3)}}_{n - 12} + f^{{(3)}}_{n - 11} + f^{{(3)}}_{n - 10} + f^{{(3)}}_{n - 11} + f^{{(3)}}_{n - 10} + f^{{(3)}}_{n - 9} + f^{{(3)}}_{n - 10} + f^{{(3)}}_{n - 9} + f^{{(3)}}_{n - 8} + f^{{(3)}}_{n - 11} + f^{{(3)}}_{n - 10} + f^{{(3)}}_{n - 9} + f^{{(3)}}_{n - 10} + f^{{(3)}}_{n - 9} + f^{{(3)}}_{n - 8} + f^{{(3)}}_{n - 9} + f^{{(3)}}_{n - 8} + f^{{(3)}}_{n - 7} + f^{{(3)}}_{n - 12} + f^{{(3)}}_{n - 11} + f^{{(3)}}_{n - 10} + f^{{(3)}}_{n - 11} + f^{{(3)}}_{n - 10} + f^{{(3)}}_{n - 9} + f^{{(3)}}_{n - 10} + f^{{(3)}}_{n - 9} + f^{{(3)}}_{n - 8} + f^{{(3)}}_{n - 11} + f^{{(3)}}_{n - 10} + f^{{(3)}}_{n - 9} + f^{{(3)}}_{n - 10} + f^{{(3)}}_{n - 9} + f^{{(3)}}_{n - 8} + f^{{(3)}}_{n - 9} + f^{{(3)}}_{n - 8} + f^{{(3)}}_{n - 7} + f^{{(3)}}_{n - 10} + f^{{(3)}}_{n - 9} + f^{{(3)}}_{n - 8} + f^{{(3)}}_{n - 9} + f^{{(3)}}_{n - 8} + f^{{(3)}}_{n - 7} + f^{{(3)}}_{n - 8} + f^{{(3)}}_{n - 7} + f^{{(3)}}_{n - 6} + f^{{(3)}}_{n - 11} + f^{{(3)}}_{n - 10} + f^{{(3)}}_{n - 9} + f^{{(3)}}_{n - 10} + f^{{(3)}}_{n - 9} + f^{{(3)}}_{n - 8} + f^{{(3)}}_{n - 9} + f^{{(3)}}_{n - 8} + f^{{(3)}}_{n - 7} + f^{{(3)}}_{n - 10} + f^{{(3)}}_{n - 9} + f^{{(3)}}_{n - 8} + f^{{(3)}}_{n - 9} + f^{{(3)}}_{n - 8} + f^{{(3)}}_{n - 7} + f^{{(3)}}_{n - 8} + f^{{(3)}}_{n - 7} + f^{{(3)}}_{n - 6} + f^{{(3)}}_{n - 9} + f^{{(3)}}_{n - 8} + f^{{(3)}}_{n - 7} + f^{{(3)}}_{n - 8} + f^{{(3)}}_{n - 7} + f^{{(3)}}_{n - 6} + f^{{(3)}}_{n - 7} + f^{{(3)}}_{n - 6} + f^{{(3)}}_{n - 5} + f^{{(3)}}_{n - 15} + f^{{(3)}}_{n - 14} + f^{{(3)}}_{n - 13} + f^{{(3)}}_{n - 14} + f^{{(3)}}_{n - 13} + f^{{(3)}}_{n - 12} + f^{{(3)}}_{n - 13} + f^{{(3)}}_{n - 12} + f^{{(3)}}_{n - 11} + f^{{(3)}}_{n - 14} + f^{{(3)}}_{n - 13} + f^{{(3)}}_{n - 12} + f^{{(3)}}_{n - 13} + f^{{(3)}}_{n - 12} + f^{{(3)}}_{n - 11} + f^{{(3)}}_{n - 12} + f^{{(3)}}_{n - 11} + f^{{(3)}}_{n - 10} + f^{{(3)}}_{n - 13} + f^{{(3)}}_{n - 12} + f^{{(3)}}_{n - 11} + f^{{(3)}}_{n - 12} + f^{{(3)}}_{n - 11} + f^{{(3)}}_{n - 10} + f^{{(3)}}_{n - 11} + f^{{(3)}}_{n - 10} + f^{{(3)}}_{n - 9} + f^{{(3)}}_{n - 14} + f^{{(3)}}_{n - 13} + f^{{(3)}}_{n - 12} + f^{{(3)}}_{n - 13} + f^{{(3)}}_{n - 12} + f^{{(3)}}_{n - 11} + f^{{(3)}}_{n - 12} + f^{{(3)}}_{n - 11} + f^{{(3)}}_{n - 10} + f^{{(3)}}_{n - 13} + f^{{(3)}}_{n - 12} + f^{{(3)}}_{n - 11} + f^{{(3)}}_{n - 12} + f^{{(3)}}_{n - 11} + f^{{(3)}}_{n - 10} + f^{{(3)}}_{n - 11} + f^{{(3)}}_{n - 10} + f^{{(3)}}_{n - 9} + f^{{(3)}}_{n - 12} + f^{{(3)}}_{n - 11} + f^{{(3)}}_{n - 10} + f^{{(3)}}_{n - 11} + f^{{(3)}}_{n - 10} + f^{{(3)}}_{n - 9} + f^{{(3)}}_{n - 10} + f^{{(3)}}_{n - 9} + f^{{(3)}}_{n - 8} + f^{{(3)}}_{n - 13} + f^{{(3)}}_{n - 12} + f^{{(3)}}_{n - 11} + f^{{(3)}}_{n - 12} + f^{{(3)}}_{n - 11} + f^{{(3)}}_{n - 10} + f^{{(3)}}_{n - 11} + f^{{(3)}}_{n - 10} + f^{{(3)}}_{n - 9} + f^{{(3)}}_{n - 12} + f^{{(3)}}_{n - 11} + f^{{(3)}}_{n - 10} + f^{{(3)}}_{n - 11} + f^{{(3)}}_{n - 10} + f^{{(3)}}_{n - 9} + f^{{(3)}}_{n - 10} + f^{{(3)}}_{n - 9} + f^{{(3)}}_{n - 8} + f^{{(3)}}_{n - 11} + f^{{(3)}}_{n - 10} + f^{{(3)}}_{n - 9} + f^{{(3)}}_{n - 10} + f^{{(3)}}_{n - 9} + f^{{(3)}}_{n - 8} + f^{{(3)}}_{n - 9} + f^{{(3)}}_{n - 8} + f^{{(3)}}_{n - 7} + f^{{(3)}}_{n - 14} + f^{{(3)}}_{n - 13} + f^{{(3)}}_{n - 12} + f^{{(3)}}_{n - 13} + f^{{(3)}}_{n - 12} + f^{{(3)}}_{n - 11} + f^{{(3)}}_{n - 12} + f^{{(3)}}_{n - 11} + f^{{(3)}}_{n - 10} + f^{{(3)}}_{n - 13} + f^{{(3)}}_{n - 12} + f^{{(3)}}_{n - 11} + f^{{(3)}}_{n - 12} + f^{{(3)}}_{n - 11} + f^{{(3)}}_{n - 10} + f^{{(3)}}_{n - 11} + f^{{(3)}}_{n - 10} + f^{{(3)}}_{n - 9} + f^{{(3)}}_{n - 12} + f^{{(3)}}_{n - 11} + f^{{(3)}}_{n - 10} + f^{{(3)}}_{n - 11} + f^{{(3)}}_{n - 10} + f^{{(3)}}_{n - 9} + f^{{(3)}}_{n - 10} + f^{{(3)}}_{n - 9} + f^{{(3)}}_{n - 8} + f^{{(3)}}_{n - 13} + f^{{(3)}}_{n - 12} + f^{{(3)}}_{n - 11} + f^{{(3)}}_{n - 12} + f^{{(3)}}_{n - 11} + f^{{(3)}}_{n - 10} + f^{{(3)}}_{n - 11} + f^{{(3)}}_{n - 10} + f^{{(3)}}_{n - 9} + f^{{(3)}}_{n - 12} + f^{{(3)}}_{n - 11} + f^{{(3)}}_{n - 10} + f^{{(3)}}_{n - 11} + f^{{(3)}}_{n - 10} + f^{{(3)}}_{n - 9} + f^{{(3)}}_{n - 10} + f^{{(3)}}_{n - 9} + f^{{(3)}}_{n - 8} + f^{{(3)}}_{n - 11} + f^{{(3)}}_{n - 10} + f^{{(3)}}_{n - 9} + f^{{(3)}}_{n - 10} + f^{{(3)}}_{n - 9} + f^{{(3)}}_{n - 8} + f^{{(3)}}_{n - 9} + f^{{(3)}}_{n - 8} + f^{{(3)}}_{n - 7} + f^{{(3)}}_{n - 12} + f^{{(3)}}_{n - 11} + f^{{(3)}}_{n - 10} + f^{{(3)}}_{n - 11} + f^{{(3)}}_{n - 10} + f^{{(3)}}_{n - 9} + f^{{(3)}}_{n - 10} + f^{{(3)}}_{n - 9} + f^{{(3)}}_{n - 8} + f^{{(3)}}_{n - 11} + f^{{(3)}}_{n - 10} + f^{{(3)}}_{n - 9} + f^{{(3)}}_{n - 10} + f^{{(3)}}_{n - 9} + f^{{(3)}}_{n - 8} + f^{{(3)}}_{n - 9} + f^{{(3)}}_{n - 8} + f^{{(3)}}_{n - 7} + f^{{(3)}}_{n - 10} + f^{{(3)}}_{n - 9} + f^{{(3)}}_{n - 8} + f^{{(3)}}_{n - 9} + f^{{(3)}}_{n - 8} + f^{{(3)}}_{n - 7} + f^{{(3)}}_{n - 8} + f^{{(3)}}_{n - 7} + f^{{(3)}}_{n - 6} + f^{{(3)}}_{n - 10} + f^{{(3)}}_{n - 9} + f^{{(3)}}_{n - 8} + f^{{(3)}}_{n - 9} + f^{{(3)}}_{n - 8} + f^{{(3)}}_{n - 7} + f^{{(3)}}_{n - 8} + f^{{(3)}}_{n - 7} + f^{{(3)}}_{n - 6} + f^{{(3)}}_{n - 9} + f^{{(3)}}_{n - 8} + f^{{(3)}}_{n - 7} + f^{{(3)}}_{n - 8} + f^{{(3)}}_{n - 7} + f^{{(3)}}_{n - 6} + f^{{(3)}}_{n - 7} + f^{{(3)}}_{n - 6} + f^{{(3)}}_{n - 5} + f^{{(3)}}_{n - 8} + f^{{(3)}}_{n - 7} + f^{{(3)}}_{n - 6} + f^{{(3)}}_{n - 7} + f^{{(3)}}_{n - 6} + f^{{(3)}}_{n - 5} + f^{{(3)}}_{n - 6} + f^{{(3)}}_{n - 5} + f^{{(3)}}_{n - 4} + f^{{(3)}}_{n - 12} + f^{{(3)}}_{n - 11} + f^{{(3)}}_{n - 10} + f^{{(3)}}_{n - 11} + f^{{(3)}}_{n - 10} + f^{{(3)}}_{n - 9} + f^{{(3)}}_{n - 10} + f^{{(3)}}_{n - 9} + f^{{(3)}}_{n - 8} + f^{{(3)}}_{n - 11} + f^{{(3)}}_{n - 10} + f^{{(3)}}_{n - 9} + f^{{(3)}}_{n - 10} + f^{{(3)}}_{n - 9} + f^{{(3)}}_{n - 8} + f^{{(3)}}_{n - 9} + f^{{(3)}}_{n - 8} + f^{{(3)}}_{n - 7} + f^{{(3)}}_{n - 10} + f^{{(3)}}_{n - 9} + f^{{(3)}}_{n - 8} + f^{{(3)}}_{n - 9} + f^{{(3)}}_{n - 8} + f^{{(3)}}_{n - 7} + f^{{(3)}}_{n - 8} + f^{{(3)}}_{n - 7} + f^{{(3)}}_{n - 6} + f^{{(3)}}_{n - 11} + f^{{(3)}}_{n - 10} + f^{{(3)}}_{n - 9} + f^{{(3)}}_{n - 10} + f^{{(3)}}_{n - 9} + f^{{(3)}}_{n - 8} + f^{{(3)}}_{n - 9} + f^{{(3)}}_{n - 8} + f^{{(3)}}_{n - 7} + f^{{(3)}}_{n - 10} + f^{{(3)}}_{n - 9} + f^{{(3)}}_{n - 8} + f^{{(3)}}_{n - 9} + f^{{(3)}}_{n - 8} + f^{{(3)}}_{n - 7} + f^{{(3)}}_{n - 8} + f^{{(3)}}_{n - 7} + f^{{(3)}}_{n - 6} + f^{{(3)}}_{n - 9} + f^{{(3)}}_{n - 8} + f^{{(3)}}_{n - 7} + f^{{(3)}}_{n - 8} + f^{{(3)}}_{n - 7} + f^{{(3)}}_{n - 6} + f^{{(3)}}_{n - 7} + f^{{(3)}}_{n - 6} + f^{{(3)}}_{n - 5} + f^{{(3)}}_{n - 13} + f^{{(3)}}_{n - 12} + f^{{(3)}}_{n - 11} + f^{{(3)}}_{n - 12} + f^{{(3)}}_{n - 11} + f^{{(3)}}_{n - 10} + f^{{(3)}}_{n - 11} + f^{{(3)}}_{n - 10} + f^{{(3)}}_{n - 9} + f^{{(3)}}_{n - 12} + f^{{(3)}}_{n - 11} + f^{{(3)}}_{n - 10} + f^{{(3)}}_{n - 11} + f^{{(3)}}_{n - 10} + f^{{(3)}}_{n - 9} + f^{{(3)}}_{n - 10} + f^{{(3)}}_{n - 9} + f^{{(3)}}_{n - 8} + f^{{(3)}}_{n - 11} + f^{{(3)}}_{n - 10} + f^{{(3)}}_{n - 9} + f^{{(3)}}_{n - 10} + f^{{(3)}}_{n - 9} + f^{{(3)}}_{n - 8} + f^{{(3)}}_{n - 9} + f^{{(3)}}_{n - 8} + f^{{(3)}}_{n - 7} + f^{{(3)}}_{n - 12} + f^{{(3)}}_{n - 11} + f^{{(3)}}_{n - 10} + f^{{(3)}}_{n - 11} + f^{{(3)}}_{n - 10} + f^{{(3)}}_{n - 9} + f^{{(3)}}_{n - 10} + f^{{(3)}}_{n - 9} + f^{{(3)}}_{n - 8} + f^{{(3)}}_{n - 11} + f^{{(3)}}_{n - 10} + f^{{(3)}}_{n - 9} + f^{{(3)}}_{n - 10} + f^{{(3)}}_{n - 9} + f^{{(3)}}_{n - 8} + f^{{(3)}}_{n - 9} + f^{{(3)}}_{n - 8} + f^{{(3)}}_{n - 7} + f^{{(3)}}_{n - 10} + f^{{(3)}}_{n - 9} + f^{{(3)}}_{n - 8} + f^{{(3)}}_{n - 9} + f^{{(3)}}_{n - 8} + f^{{(3)}}_{n - 7} + f^{{(3)}}_{n - 8} + f^{{(3)}}_{n - 7} + f^{{(3)}}_{n - 6} + f^{{(3)}}_{n - 11} + f^{{(3)}}_{n - 10} + f^{{(3)}}_{n - 9} + f^{{(3)}}_{n - 10} + f^{{(3)}}_{n - 9} + f^{{(3)}}_{n - 8} + f^{{(3)}}_{n - 9} + f^{{(3)}}_{n - 8} + f^{{(3)}}_{n - 7} + f^{{(3)}}_{n - 10} + f^{{(3)}}_{n - 9} + f^{{(3)}}_{n - 8} + f^{{(3)}}_{n - 9} + f^{{(3)}}_{n - 8} + f^{{(3)}}_{n - 7} + f^{{(3)}}_{n - 8} + f^{{(3)}}_{n - 7} + f^{{(3)}}_{n - 6} + f^{{(3)}}_{n - 9} + f^{{(3)}}_{n - 8} + f^{{(3)}}_{n - 7} + f^{{(3)}}_{n - 8} + f^{{(3)}}_{n - 7} + f^{{(3)}}_{n - 6} + f^{{(3)}}_{n - 7} + f^{{(3)}}_{n - 6} + f^{{(3)}}_{n - 5} + f^{{(3)}}_{n - 14} + f^{{(3)}}_{n - 13} + f^{{(3)}}_{n - 12} + f^{{(3)}}_{n - 13} + f^{{(3)}}_{n - 12} + f^{{(3)}}_{n - 11} + f^{{(3)}}_{n - 12} + f^{{(3)}}_{n - 11} + f^{{(3)}}_{n - 10} + f^{{(3)}}_{n - 13} + f^{{(3)}}_{n - 12} + f^{{(3)}}_{n - 11} + f^{{(3)}}_{n - 12} + f^{{(3)}}_{n - 11} + f^{{(3)}}_{n - 10} + f^{{(3)}}_{n - 11} + f^{{(3)}}_{n - 10} + f^{{(3)}}_{n - 9} + f^{{(3)}}_{n - 12} + f^{{(3)}}_{n - 11} + f^{{(3)}}_{n - 10} + f^{{(3)}}_{n - 11} + f^{{(3)}}_{n - 10} + f^{{(3)}}_{n - 9} + f^{{(3)}}_{n - 10} + f^{{(3)}}_{n - 9} + f^{{(3)}}_{n - 8} + f^{{(3)}}_{n - 13} + f^{{(3)}}_{n - 12} + f^{{(3)}}_{n - 11} + f^{{(3)}}_{n - 12} + f^{{(3)}}_{n - 11} + f^{{(3)}}_{n - 10} + f^{{(3)}}_{n - 11} + f^{{(3)}}_{n - 10} + f^{{(3)}}_{n - 9} + f^{{(3)}}_{n - 12} + f^{{(3)}}_{n - 11} + f^{{(3)}}_{n - 10} + f^{{(3)}}_{n - 11} + f^{{(3)}}_{n - 10} + f^{{(3)}}_{n - 9} + f^{{(3)}}_{n - 10} + f^{{(3)}}_{n - 9} + f^{{(3)}}_{n - 8} + f^{{(3)}}_{n - 11} + f^{{(3)}}_{n - 10} + f^{{(3)}}_{n - 9} + f^{{(3)}}_{n - 10} + f^{{(3)}}_{n - 9} + f^{{(3)}}_{n - 8} + f^{{(3)}}_{n - 9} + f^{{(3)}}_{n - 8} + f^{{(3)}}_{n - 7} + f^{{(3)}}_{n - 12} + f^{{(3)}}_{n - 11} + f^{{(3)}}_{n - 10} + f^{{(3)}}_{n - 11} + f^{{(3)}}_{n - 10} + f^{{(3)}}_{n - 9} + f^{{(3)}}_{n - 10} + f^{{(3)}}_{n - 9} + f^{{(3)}}_{n - 8} + f^{{(3)}}_{n - 11} + f^{{(3)}}_{n - 10} + f^{{(3)}}_{n - 9} + f^{{(3)}}_{n - 10} + f^{{(3)}}_{n - 9} + f^{{(3)}}_{n - 8} + f^{{(3)}}_{n - 9} + f^{{(3)}}_{n - 8} + f^{{(3)}}_{n - 7} + f^{{(3)}}_{n - 10} + f^{{(3)}}_{n - 9} + f^{{(3)}}_{n - 8} + f^{{(3)}}_{n - 9} + f^{{(3)}}_{n - 8} + f^{{(3)}}_{n - 7} + f^{{(3)}}_{n - 8} + f^{{(3)}}_{n - 7} + f^{{(3)}}_{n - 6} + f^{{(3)}}_{n - 10} + f^{{(3)}}_{n - 9} + f^{{(3)}}_{n - 8} + f^{{(3)}}_{n - 9} + f^{{(3)}}_{n - 8} + f^{{(3)}}_{n - 7} + f^{{(3)}}_{n - 8} + f^{{(3)}}_{n - 7} + f^{{(3)}}_{n - 6} + f^{{(3)}}_{n - 9} + f^{{(3)}}_{n - 8} + f^{{(3)}}_{n - 7} + f^{{(3)}}_{n - 8} + f^{{(3)}}_{n - 7} + f^{{(3)}}_{n - 6} + f^{{(3)}}_{n - 7} + f^{{(3)}}_{n - 6} + f^{{(3)}}_{n - 5} + f^{{(3)}}_{n - 8} + f^{{(3)}}_{n - 7} + f^{{(3)}}_{n - 6} + f^{{(3)}}_{n - 7} + f^{{(3)}}_{n - 6} + f^{{(3)}}_{n - 5} + f^{{(3)}}_{n - 6} + f^{{(3)}}_{n - 5} + f^{{(3)}}_{n - 4} + f^{{(3)}}_{n - 12} + f^{{(3)}}_{n - 11} + f^{{(3)}}_{n - 10} + f^{{(3)}}_{n - 11} + f^{{(3)}}_{n - 10} + f^{{(3)}}_{n - 9} + f^{{(3)}}_{n - 10} + f^{{(3)}}_{n - 9} + f^{{(3)}}_{n - 8} + f^{{(3)}}_{n - 11} + f^{{(3)}}_{n - 10} + f^{{(3)}}_{n - 9} + f^{{(3)}}_{n - 10} + f^{{(3)}}_{n - 9} + f^{{(3)}}_{n - 8} + f^{{(3)}}_{n - 9} + f^{{(3)}}_{n - 8} + f^{{(3)}}_{n - 7} + f^{{(3)}}_{n - 10} + f^{{(3)}}_{n - 9} + f^{{(3)}}_{n - 8} + f^{{(3)}}_{n - 9} + f^{{(3)}}_{n - 8} + f^{{(3)}}_{n - 7} + f^{{(3)}}_{n - 8} + f^{{(3)}}_{n - 7} + f^{{(3)}}_{n - 6} + f^{{(3)}}_{n - 11} + f^{{(3)}}_{n - 10} + f^{{(3)}}_{n - 9} + f^{{(3)}}_{n - 10} + f^{{(3)}}_{n - 9} + f^{{(3)}}_{n - 8} + f^{{(3)}}_{n - 9} + f^{{(3)}}_{n - 8} + f^{{(3)}}_{n - 7} + f^{{(3)}}_{n - 10} + f^{{(3)}}_{n - 9} + f^{{(3)}}_{n - 8} + f^{{(3)}}_{n - 9} + f^{{(3)}}_{n - 8} + f^{{(3)}}_{n - 7} + f^{{(3)}}_{n - 8} + f^{{(3)}}_{n - 7} + f^{{(3)}}_{n - 6} + f^{{(3)}}_{n - 9} + f^{{(3)}}_{n - 8} + f^{{(3)}}_{n - 7} + f^{{(3)}}_{n - 8} + f^{{(3)}}_{n - 7} + f^{{(3)}}_{n - 6} + f^{{(3)}}_{n - 7} + f^{{(3)}}_{n - 6} + f^{{(3)}}_{n - 5} + f^{{(3)}}_{n - 7} + f^{{(3)}}_{n - 6} + f^{{(3)}}_{n - 5} + f^{{(3)}}_{n - 6} + f^{{(3)}}_{n - 5} + f^{{(3)}}_{n - 4} + f^{{(3)}}_{n - 5} + f^{{(3)}}_{n - 4} + f^{{(3)}}_{n - 3} + f^{{(3)}}_{n - 9} + f^{{(3)}}_{n - 8} + f^{{(3)}}_{n - 7} + f^{{(3)}}_{n - 8} + f^{{(3)}}_{n - 7} + f^{{(3)}}_{n - 6} + f^{{(3)}}_{n - 7} + f^{{(3)}}_{n - 6} + f^{{(3)}}_{n - 5} + f^{{(3)}}_{n - 8} + f^{{(3)}}_{n - 7} + f^{{(3)}}_{n - 6} + f^{{(3)}}_{n - 7} + f^{{(3)}}_{n - 6} + f^{{(3)}}_{n - 5} + f^{{(3)}}_{n - 6} + f^{{(3)}}_{n - 5} + f^{{(3)}}_{n - 4} + f^{{(3)}}_{n - 10} + f^{{(3)}}_{n - 9} + f^{{(3)}}_{n - 8} + f^{{(3)}}_{n - 9} + f^{{(3)}}_{n - 8} + f^{{(3)}}_{n - 7} + f^{{(3)}}_{n - 8} + f^{{(3)}}_{n - 7} + f^{{(3)}}_{n - 6} + f^{{(3)}}_{n - 9} + f^{{(3)}}_{n - 8} + f^{{(3)}}_{n - 7} + f^{{(3)}}_{n - 8} + f^{{(3)}}_{n - 7} + f^{{(3)}}_{n - 6} + f^{{(3)}}_{n - 7} + f^{{(3)}}_{n - 6} + f^{{(3)}}_{n - 5} + f^{{(3)}}_{n - 8} + f^{{(3)}}_{n - 7} + f^{{(3)}}_{n - 6} + f^{{(3)}}_{n - 7} + f^{{(3)}}_{n - 6} + f^{{(3)}}_{n - 5} + f^{{(3)}}_{n - 6} + f^{{(3)}}_{n - 5} + f^{{(3)}}_{n - 4} + f^{{(3)}}_{n - 11} + f^{{(3)}}_{n - 10} + f^{{(3)}}_{n - 9} + f^{{(3)}}_{n - 10} + f^{{(3)}}_{n - 9} + f^{{(3)}}_{n - 8} + f^{{(3)}}_{n - 9} + f^{{(3)}}_{n - 8} + f^{{(3)}}_{n - 7} + f^{{(3)}}_{n - 10} + f^{{(3)}}_{n - 9} + f^{{(3)}}_{n - 8} + f^{{(3)}}_{n - 9} + f^{{(3)}}_{n - 8} + f^{{(3)}}_{n - 7} + f^{{(3)}}_{n - 8} + f^{{(3)}}_{n - 7} + f^{{(3)}}_{n - 6} + f^{{(3)}}_{n - 9} + f^{{(3)}}_{n - 8} + f^{{(3)}}_{n - 7} + f^{{(3)}}_{n - 8} + f^{{(3)}}_{n - 7} + f^{{(3)}}_{n - 6} + f^{{(3)}}_{n - 7} + f^{{(3)}}_{n - 6} + f^{{(3)}}_{n - 5} + f^{{(3)}}_{n - 13} + f^{{(3)}}_{n - 12} + f^{{(3)}}_{n - 11} + f^{{(3)}}_{n - 12} + f^{{(3)}}_{n - 11} + f^{{(3)}}_{n - 10} + f^{{(3)}}_{n - 11} + f^{{(3)}}_{n - 10} + f^{{(3)}}_{n - 9} + f^{{(3)}}_{n - 12} + f^{{(3)}}_{n - 11} + f^{{(3)}}_{n - 10} + f^{{(3)}}_{n - 11} + f^{{(3)}}_{n - 10} + f^{{(3)}}_{n - 9} + f^{{(3)}}_{n - 10} + f^{{(3)}}_{n - 9} + f^{{(3)}}_{n - 8} + f^{{(3)}}_{n - 11} + f^{{(3)}}_{n - 10} + f^{{(3)}}_{n - 9} + f^{{(3)}}_{n - 10} + f^{{(3)}}_{n - 9} + f^{{(3)}}_{n - 8} + f^{{(3)}}_{n - 9} + f^{{(3)}}_{n - 8} + f^{{(3)}}_{n - 7} + f^{{(3)}}_{n - 12} + f^{{(3)}}_{n - 11} + f^{{(3)}}_{n - 10} + f^{{(3)}}_{n - 11} + f^{{(3)}}_{n - 10} + f^{{(3)}}_{n - 9} + f^{{(3)}}_{n - 10} + f^{{(3)}}_{n - 9} + f^{{(3)}}_{n - 8} + f^{{(3)}}_{n - 11} + f^{{(3)}}_{n - 10} + f^{{(3)}}_{n - 9} + f^{{(3)}}_{n - 10} + f^{{(3)}}_{n - 9} + f^{{(3)}}_{n - 8} + f^{{(3)}}_{n - 9} + f^{{(3)}}_{n - 8} + f^{{(3)}}_{n - 7} + f^{{(3)}}_{n - 10} + f^{{(3)}}_{n - 9} + f^{{(3)}}_{n - 8} + f^{{(3)}}_{n - 9} + f^{{(3)}}_{n - 8} + f^{{(3)}}_{n - 7} + f^{{(3)}}_{n - 8} + f^{{(3)}}_{n - 7} + f^{{(3)}}_{n - 6} + f^{{(3)}}_{n - 11} + f^{{(3)}}_{n - 10} + f^{{(3)}}_{n - 9} + f^{{(3)}}_{n - 10} + f^{{(3)}}_{n - 9} + f^{{(3)}}_{n - 8} + f^{{(3)}}_{n - 9} + f^{{(3)}}_{n - 8} + f^{{(3)}}_{n - 7} + f^{{(3)}}_{n - 10} + f^{{(3)}}_{n - 9} + f^{{(3)}}_{n - 8} + f^{{(3)}}_{n - 9} + f^{{(3)}}_{n - 8} + f^{{(3)}}_{n - 7} + f^{{(3)}}_{n - 8} + f^{{(3)}}_{n - 7} + f^{{(3)}}_{n - 6} + f^{{(3)}}_{n - 9} + f^{{(3)}}_{n - 8} + f^{{(3)}}_{n - 7} + f^{{(3)}}_{n - 8} + f^{{(3)}}_{n - 7} + f^{{(3)}}_{n - 6} + f^{{(3)}}_{n - 7} + f^{{(3)}}_{n - 6} + f^{{(3)}}_{n - 5}$$"
      ],
      "text/plain": [
       "f^{(3)}[n + 3] = f^{(3)}[n - 13] + f^{(3)}[n - 12] + f^{(3)}[n - 11] + f^{(3)}\n",
       "[n - 12] + f^{(3)}[n - 11] + f^{(3)}[n - 10] + f^{(3)}[n - 11] + f^{(3)}[n - 1\n",
       "0] + f^{(3)}[n - 9] + f^{(3)}[n - 12] + f^{(3)}[n - 11] + f^{(3)}[n - 10] + f^\n",
       "{(3)}[n - 11] + f^{(3)}[n - 10] + f^{(3)}[n - 9] + f^{(3)}[n - 10] + f^{(3)}[n\n",
       " - 9] + f^{(3)}[n - 8] + f^{(3)}[n - 11] + f^{(3)}[n - 10] + f^{(3)}[n - 9] + \n",
       "f^{(3)}[n - 10] + f^{(3)}[n - 9] + f^{(3)}[n - 8] + f^{(3)}[n - 9] + f^{(3)}[n\n",
       " - 8] + f^{(3)}[n - 7] + f^{(3)}[n - 12] + f^{(3)}[n - 11] + f^{(3)}[n - 10] +\n",
       " f^{(3)}[n - 11] + f^{(3)}[n - 10] + f^{(3)}[n - 9] + f^{(3)}[n - 10] + f^{(3)\n",
       "}[n - 9] + f^{(3)}[n - 8] + f^{(3)}[n - 11] + f^{(3)}[n - 10] + f^{(3)}[n - 9]\n",
       " + f^{(3)}[n - 10] + f^{(3)}[n - 9] + f^{(3)}[n - 8] + f^{(3)}[n - 9] + f^{(3)\n",
       "}[n - 8] + f^{(3)}[n - 7] + f^{(3)}[n - 10] + f^{(3)}[n - 9] + f^{(3)}[n - 8] \n",
       "+ f^{(3)}[n - 9] + f^{(3)}[n - 8] + f^{(3)}[n - 7] + f^{(3)}[n - 8] + f^{(3)}[\n",
       "n - 7] + f^{(3)}[n - 6] + f^{(3)}[n - 11] + f^{(3)}[n - 10] + f^{(3)}[n - 9] +\n",
       " f^{(3)}[n - 10] + f^{(3)}[n - 9] + f^{(3)}[n - 8] + f^{(3)}[n - 9] + f^{(3)}[\n",
       "n - 8] + f^{(3)}[n - 7] + f^{(3)}[n - 10] + f^{(3)}[n - 9] + f^{(3)}[n - 8] + \n",
       "f^{(3)}[n - 9] + f^{(3)}[n - 8] + f^{(3)}[n - 7] + f^{(3)}[n - 8] + f^{(3)}[n \n",
       "- 7] + f^{(3)}[n - 6] + f^{(3)}[n - 9] + f^{(3)}[n - 8] + f^{(3)}[n - 7] + f^{\n",
       "(3)}[n - 8] + f^{(3)}[n - 7] + f^{(3)}[n - 6] + f^{(3)}[n - 7] + f^{(3)}[n - 6\n",
       "] + f^{(3)}[n - 5] + f^{(3)}[n - 15] + f^{(3)}[n - 14] + f^{(3)}[n - 13] + f^{\n",
       "(3)}[n - 14] + f^{(3)}[n - 13] + f^{(3)}[n - 12] + f^{(3)}[n - 13] + f^{(3)}[n\n",
       " - 12] + f^{(3)}[n - 11] + f^{(3)}[n - 14] + f^{(3)}[n - 13] + f^{(3)}[n - 12]\n",
       " + f^{(3)}[n - 13] + f^{(3)}[n - 12] + f^{(3)}[n - 11] + f^{(3)}[n - 12] + f^{\n",
       "(3)}[n - 11] + f^{(3)}[n - 10] + f^{(3)}[n - 13] + f^{(3)}[n - 12] + f^{(3)}[n\n",
       " - 11] + f^{(3)}[n - 12] + f^{(3)}[n - 11] + f^{(3)}[n - 10] + f^{(3)}[n - 11]\n",
       " + f^{(3)}[n - 10] + f^{(3)}[n - 9] + f^{(3)}[n - 14] + f^{(3)}[n - 13] + f^{(\n",
       "3)}[n - 12] + f^{(3)}[n - 13] + f^{(3)}[n - 12] + f^{(3)}[n - 11] + f^{(3)}[n \n",
       "- 12] + f^{(3)}[n - 11] + f^{(3)}[n - 10] + f^{(3)}[n - 13] + f^{(3)}[n - 12] \n",
       "+ f^{(3)}[n - 11] + f^{(3)}[n - 12] + f^{(3)}[n - 11] + f^{(3)}[n - 10] + f^{(\n",
       "3)}[n - 11] + f^{(3)}[n - 10] + f^{(3)}[n - 9] + f^{(3)}[n - 12] + f^{(3)}[n -\n",
       " 11] + f^{(3)}[n - 10] + f^{(3)}[n - 11] + f^{(3)}[n - 10] + f^{(3)}[n - 9] + \n",
       "f^{(3)}[n - 10] + f^{(3)}[n - 9] + f^{(3)}[n - 8] + f^{(3)}[n - 13] + f^{(3)}[\n",
       "n - 12] + f^{(3)}[n - 11] + f^{(3)}[n - 12] + f^{(3)}[n - 11] + f^{(3)}[n - 10\n",
       "] + f^{(3)}[n - 11] + f^{(3)}[n - 10] + f^{(3)}[n - 9] + f^{(3)}[n - 12] + f^{\n",
       "(3)}[n - 11] + f^{(3)}[n - 10] + f^{(3)}[n - 11] + f^{(3)}[n - 10] + f^{(3)}[n\n",
       " - 9] + f^{(3)}[n - 10] + f^{(3)}[n - 9] + f^{(3)}[n - 8] + f^{(3)}[n - 11] + \n",
       "f^{(3)}[n - 10] + f^{(3)}[n - 9] + f^{(3)}[n - 10] + f^{(3)}[n - 9] + f^{(3)}[\n",
       "n - 8] + f^{(3)}[n - 9] + f^{(3)}[n - 8] + f^{(3)}[n - 7] + f^{(3)}[n - 14] + \n",
       "f^{(3)}[n - 13] + f^{(3)}[n - 12] + f^{(3)}[n - 13] + f^{(3)}[n - 12] + f^{(3)\n",
       "}[n - 11] + f^{(3)}[n - 12] + f^{(3)}[n - 11] + f^{(3)}[n - 10] + f^{(3)}[n - \n",
       "13] + f^{(3)}[n - 12] + f^{(3)}[n - 11] + f^{(3)}[n - 12] + f^{(3)}[n - 11] + \n",
       "f^{(3)}[n - 10] + f^{(3)}[n - 11] + f^{(3)}[n - 10] + f^{(3)}[n - 9] + f^{(3)}\n",
       "[n - 12] + f^{(3)}[n - 11] + f^{(3)}[n - 10] + f^{(3)}[n - 11] + f^{(3)}[n - 1\n",
       "0] + f^{(3)}[n - 9] + f^{(3)}[n - 10] + f^{(3)}[n - 9] + f^{(3)}[n - 8] + f^{(\n",
       "3)}[n - 13] + f^{(3)}[n - 12] + f^{(3)}[n - 11] + f^{(3)}[n - 12] + f^{(3)}[n \n",
       "- 11] + f^{(3)}[n - 10] + f^{(3)}[n - 11] + f^{(3)}[n - 10] + f^{(3)}[n - 9] +\n",
       " f^{(3)}[n - 12] + f^{(3)}[n - 11] + f^{(3)}[n - 10] + f^{(3)}[n - 11] + f^{(3\n",
       ")}[n - 10] + f^{(3)}[n - 9] + f^{(3)}[n - 10] + f^{(3)}[n - 9] + f^{(3)}[n - 8\n",
       "] + f^{(3)}[n - 11] + f^{(3)}[n - 10] + f^{(3)}[n - 9] + f^{(3)}[n - 10] + f^{\n",
       "(3)}[n - 9] + f^{(3)}[n - 8] + f^{(3)}[n - 9] + f^{(3)}[n - 8] + f^{(3)}[n - 7\n",
       "] + f^{(3)}[n - 12] + f^{(3)}[n - 11] + f^{(3)}[n - 10] + f^{(3)}[n - 11] + f^\n",
       "{(3)}[n - 10] + f^{(3)}[n - 9] + f^{(3)}[n - 10] + f^{(3)}[n - 9] + f^{(3)}[n \n",
       "- 8] + f^{(3)}[n - 11] + f^{(3)}[n - 10] + f^{(3)}[n - 9] + f^{(3)}[n - 10] + \n",
       "f^{(3)}[n - 9] + f^{(3)}[n - 8] + f^{(3)}[n - 9] + f^{(3)}[n - 8] + f^{(3)}[n \n",
       "- 7] + f^{(3)}[n - 10] + f^{(3)}[n - 9] + f^{(3)}[n - 8] + f^{(3)}[n - 9] + f^\n",
       "{(3)}[n - 8] + f^{(3)}[n - 7] + f^{(3)}[n - 8] + f^{(3)}[n - 7] + f^{(3)}[n - \n",
       "6] + f^{(3)}[n - 10] + f^{(3)}[n - 9] + f^{(3)}[n - 8] + f^{(3)}[n - 9] + f^{(\n",
       "3)}[n - 8] + f^{(3)}[n - 7] + f^{(3)}[n - 8] + f^{(3)}[n - 7] + f^{(3)}[n - 6]\n",
       " + f^{(3)}[n - 9] + f^{(3)}[n - 8] + f^{(3)}[n - 7] + f^{(3)}[n - 8] + f^{(3)}\n",
       "[n - 7] + f^{(3)}[n - 6] + f^{(3)}[n - 7] + f^{(3)}[n - 6] + f^{(3)}[n - 5] + \n",
       "f^{(3)}[n - 8] + f^{(3)}[n - 7] + f^{(3)}[n - 6] + f^{(3)}[n - 7] + f^{(3)}[n \n",
       "- 6] + f^{(3)}[n - 5] + f^{(3)}[n - 6] + f^{(3)}[n - 5] + f^{(3)}[n - 4] + f^{\n",
       "(3)}[n - 12] + f^{(3)}[n - 11] + f^{(3)}[n - 10] + f^{(3)}[n - 11] + f^{(3)}[n\n",
       " - 10] + f^{(3)}[n - 9] + f^{(3)}[n - 10] + f^{(3)}[n - 9] + f^{(3)}[n - 8] + \n",
       "f^{(3)}[n - 11] + f^{(3)}[n - 10] + f^{(3)}[n - 9] + f^{(3)}[n - 10] + f^{(3)}\n",
       "[n - 9] + f^{(3)}[n - 8] + f^{(3)}[n - 9] + f^{(3)}[n - 8] + f^{(3)}[n - 7] + \n",
       "f^{(3)}[n - 10] + f^{(3)}[n - 9] + f^{(3)}[n - 8] + f^{(3)}[n - 9] + f^{(3)}[n\n",
       " - 8] + f^{(3)}[n - 7] + f^{(3)}[n - 8] + f^{(3)}[n - 7] + f^{(3)}[n - 6] + f^\n",
       "{(3)}[n - 11] + f^{(3)}[n - 10] + f^{(3)}[n - 9] + f^{(3)}[n - 10] + f^{(3)}[n\n",
       " - 9] + f^{(3)}[n - 8] + f^{(3)}[n - 9] + f^{(3)}[n - 8] + f^{(3)}[n - 7] + f^\n",
       "{(3)}[n - 10] + f^{(3)}[n - 9] + f^{(3)}[n - 8] + f^{(3)}[n - 9] + f^{(3)}[n -\n",
       " 8] + f^{(3)}[n - 7] + f^{(3)}[n - 8] + f^{(3)}[n - 7] + f^{(3)}[n - 6] + f^{(\n",
       "3)}[n - 9] + f^{(3)}[n - 8] + f^{(3)}[n - 7] + f^{(3)}[n - 8] + f^{(3)}[n - 7]\n",
       " + f^{(3)}[n - 6] + f^{(3)}[n - 7] + f^{(3)}[n - 6] + f^{(3)}[n - 5] + f^{(3)}\n",
       "[n - 13] + f^{(3)}[n - 12] + f^{(3)}[n - 11] + f^{(3)}[n - 12] + f^{(3)}[n - 1\n",
       "1] + f^{(3)}[n - 10] + f^{(3)}[n - 11] + f^{(3)}[n - 10] + f^{(3)}[n - 9] + f^\n",
       "{(3)}[n - 12] + f^{(3)}[n - 11] + f^{(3)}[n - 10] + f^{(3)}[n - 11] + f^{(3)}[\n",
       "n - 10] + f^{(3)}[n - 9] + f^{(3)}[n - 10] + f^{(3)}[n - 9] + f^{(3)}[n - 8] +\n",
       " f^{(3)}[n - 11] + f^{(3)}[n - 10] + f^{(3)}[n - 9] + f^{(3)}[n - 10] + f^{(3)\n",
       "}[n - 9] + f^{(3)}[n - 8] + f^{(3)}[n - 9] + f^{(3)}[n - 8] + f^{(3)}[n - 7] +\n",
       " f^{(3)}[n - 12] + f^{(3)}[n - 11] + f^{(3)}[n - 10] + f^{(3)}[n - 11] + f^{(3\n",
       ")}[n - 10] + f^{(3)}[n - 9] + f^{(3)}[n - 10] + f^{(3)}[n - 9] + f^{(3)}[n - 8\n",
       "] + f^{(3)}[n - 11] + f^{(3)}[n - 10] + f^{(3)}[n - 9] + f^{(3)}[n - 10] + f^{\n",
       "(3)}[n - 9] + f^{(3)}[n - 8] + f^{(3)}[n - 9] + f^{(3)}[n - 8] + f^{(3)}[n - 7\n",
       "] + f^{(3)}[n - 10] + f^{(3)}[n - 9] + f^{(3)}[n - 8] + f^{(3)}[n - 9] + f^{(3\n",
       ")}[n - 8] + f^{(3)}[n - 7] + f^{(3)}[n - 8] + f^{(3)}[n - 7] + f^{(3)}[n - 6] \n",
       "+ f^{(3)}[n - 11] + f^{(3)}[n - 10] + f^{(3)}[n - 9] + f^{(3)}[n - 10] + f^{(3\n",
       ")}[n - 9] + f^{(3)}[n - 8] + f^{(3)}[n - 9] + f^{(3)}[n - 8] + f^{(3)}[n - 7] \n",
       "+ f^{(3)}[n - 10] + f^{(3)}[n - 9] + f^{(3)}[n - 8] + f^{(3)}[n - 9] + f^{(3)}\n",
       "[n - 8] + f^{(3)}[n - 7] + f^{(3)}[n - 8] + f^{(3)}[n - 7] + f^{(3)}[n - 6] + \n",
       "f^{(3)}[n - 9] + f^{(3)}[n - 8] + f^{(3)}[n - 7] + f^{(3)}[n - 8] + f^{(3)}[n \n",
       "- 7] + f^{(3)}[n - 6] + f^{(3)}[n - 7] + f^{(3)}[n - 6] + f^{(3)}[n - 5] + f^{\n",
       "(3)}[n - 14] + f^{(3)}[n - 13] + f^{(3)}[n - 12] + f^{(3)}[n - 13] + f^{(3)}[n\n",
       " - 12] + f^{(3)}[n - 11] + f^{(3)}[n - 12] + f^{(3)}[n - 11] + f^{(3)}[n - 10]\n",
       " + f^{(3)}[n - 13] + f^{(3)}[n - 12] + f^{(3)}[n - 11] + f^{(3)}[n - 12] + f^{\n",
       "(3)}[n - 11] + f^{(3)}[n - 10] + f^{(3)}[n - 11] + f^{(3)}[n - 10] + f^{(3)}[n\n",
       " - 9] + f^{(3)}[n - 12] + f^{(3)}[n - 11] + f^{(3)}[n - 10] + f^{(3)}[n - 11] \n",
       "+ f^{(3)}[n - 10] + f^{(3)}[n - 9] + f^{(3)}[n - 10] + f^{(3)}[n - 9] + f^{(3)\n",
       "}[n - 8] + f^{(3)}[n - 13] + f^{(3)}[n - 12] + f^{(3)}[n - 11] + f^{(3)}[n - 1\n",
       "2] + f^{(3)}[n - 11] + f^{(3)}[n - 10] + f^{(3)}[n - 11] + f^{(3)}[n - 10] + f\n",
       "^{(3)}[n - 9] + f^{(3)}[n - 12] + f^{(3)}[n - 11] + f^{(3)}[n - 10] + f^{(3)}[\n",
       "n - 11] + f^{(3)}[n - 10] + f^{(3)}[n - 9] + f^{(3)}[n - 10] + f^{(3)}[n - 9] \n",
       "+ f^{(3)}[n - 8] + f^{(3)}[n - 11] + f^{(3)}[n - 10] + f^{(3)}[n - 9] + f^{(3)\n",
       "}[n - 10] + f^{(3)}[n - 9] + f^{(3)}[n - 8] + f^{(3)}[n - 9] + f^{(3)}[n - 8] \n",
       "+ f^{(3)}[n - 7] + f^{(3)}[n - 12] + f^{(3)}[n - 11] + f^{(3)}[n - 10] + f^{(3\n",
       ")}[n - 11] + f^{(3)}[n - 10] + f^{(3)}[n - 9] + f^{(3)}[n - 10] + f^{(3)}[n - \n",
       "9] + f^{(3)}[n - 8] + f^{(3)}[n - 11] + f^{(3)}[n - 10] + f^{(3)}[n - 9] + f^{\n",
       "(3)}[n - 10] + f^{(3)}[n - 9] + f^{(3)}[n - 8] + f^{(3)}[n - 9] + f^{(3)}[n - \n",
       "8] + f^{(3)}[n - 7] + f^{(3)}[n - 10] + f^{(3)}[n - 9] + f^{(3)}[n - 8] + f^{(\n",
       "3)}[n - 9] + f^{(3)}[n - 8] + f^{(3)}[n - 7] + f^{(3)}[n - 8] + f^{(3)}[n - 7]\n",
       " + f^{(3)}[n - 6] + f^{(3)}[n - 10] + f^{(3)}[n - 9] + f^{(3)}[n - 8] + f^{(3)\n",
       "}[n - 9] + f^{(3)}[n - 8] + f^{(3)}[n - 7] + f^{(3)}[n - 8] + f^{(3)}[n - 7] +\n",
       " f^{(3)}[n - 6] + f^{(3)}[n - 9] + f^{(3)}[n - 8] + f^{(3)}[n - 7] + f^{(3)}[n\n",
       " - 8] + f^{(3)}[n - 7] + f^{(3)}[n - 6] + f^{(3)}[n - 7] + f^{(3)}[n - 6] + f^\n",
       "{(3)}[n - 5] + f^{(3)}[n - 8] + f^{(3)}[n - 7] + f^{(3)}[n - 6] + f^{(3)}[n - \n",
       "7] + f^{(3)}[n - 6] + f^{(3)}[n - 5] + f^{(3)}[n - 6] + f^{(3)}[n - 5] + f^{(3\n",
       ")}[n - 4] + f^{(3)}[n - 12] + f^{(3)}[n - 11] + f^{(3)}[n - 10] + f^{(3)}[n - \n",
       "11] + f^{(3)}[n - 10] + f^{(3)}[n - 9] + f^{(3)}[n - 10] + f^{(3)}[n - 9] + f^\n",
       "{(3)}[n - 8] + f^{(3)}[n - 11] + f^{(3)}[n - 10] + f^{(3)}[n - 9] + f^{(3)}[n \n",
       "- 10] + f^{(3)}[n - 9] + f^{(3)}[n - 8] + f^{(3)}[n - 9] + f^{(3)}[n - 8] + f^\n",
       "{(3)}[n - 7] + f^{(3)}[n - 10] + f^{(3)}[n - 9] + f^{(3)}[n - 8] + f^{(3)}[n -\n",
       " 9] + f^{(3)}[n - 8] + f^{(3)}[n - 7] + f^{(3)}[n - 8] + f^{(3)}[n - 7] + f^{(\n",
       "3)}[n - 6] + f^{(3)}[n - 11] + f^{(3)}[n - 10] + f^{(3)}[n - 9] + f^{(3)}[n - \n",
       "10] + f^{(3)}[n - 9] + f^{(3)}[n - 8] + f^{(3)}[n - 9] + f^{(3)}[n - 8] + f^{(\n",
       "3)}[n - 7] + f^{(3)}[n - 10] + f^{(3)}[n - 9] + f^{(3)}[n - 8] + f^{(3)}[n - 9\n",
       "] + f^{(3)}[n - 8] + f^{(3)}[n - 7] + f^{(3)}[n - 8] + f^{(3)}[n - 7] + f^{(3)\n",
       "}[n - 6] + f^{(3)}[n - 9] + f^{(3)}[n - 8] + f^{(3)}[n - 7] + f^{(3)}[n - 8] +\n",
       " f^{(3)}[n - 7] + f^{(3)}[n - 6] + f^{(3)}[n - 7] + f^{(3)}[n - 6] + f^{(3)}[n\n",
       " - 5] + f^{(3)}[n - 7] + f^{(3)}[n - 6] + f^{(3)}[n - 5] + f^{(3)}[n - 6] + f^\n",
       "{(3)}[n - 5] + f^{(3)}[n - 4] + f^{(3)}[n - 5] + f^{(3)}[n - 4] + f^{(3)}[n - \n",
       "3] + f^{(3)}[n - 9] + f^{(3)}[n - 8] + f^{(3)}[n - 7] + f^{(3)}[n - 8] + f^{(3\n",
       ")}[n - 7] + f^{(3)}[n - 6] + f^{(3)}[n - 7] + f^{(3)}[n - 6] + f^{(3)}[n - 5] \n",
       "+ f^{(3)}[n - 8] + f^{(3)}[n - 7] + f^{(3)}[n - 6] + f^{(3)}[n - 7] + f^{(3)}[\n",
       "n - 6] + f^{(3)}[n - 5] + f^{(3)}[n - 6] + f^{(3)}[n - 5] + f^{(3)}[n - 4] + f\n",
       "^{(3)}[n - 10] + f^{(3)}[n - 9] + f^{(3)}[n - 8] + f^{(3)}[n - 9] + f^{(3)}[n \n",
       "- 8] + f^{(3)}[n - 7] + f^{(3)}[n - 8] + f^{(3)}[n - 7] + f^{(3)}[n - 6] + f^{\n",
       "(3)}[n - 9] + f^{(3)}[n - 8] + f^{(3)}[n - 7] + f^{(3)}[n - 8] + f^{(3)}[n - 7\n",
       "] + f^{(3)}[n - 6] + f^{(3)}[n - 7] + f^{(3)}[n - 6] + f^{(3)}[n - 5] + f^{(3)\n",
       "}[n - 8] + f^{(3)}[n - 7] + f^{(3)}[n - 6] + f^{(3)}[n - 7] + f^{(3)}[n - 6] +\n",
       " f^{(3)}[n - 5] + f^{(3)}[n - 6] + f^{(3)}[n - 5] + f^{(3)}[n - 4] + f^{(3)}[n\n",
       " - 11] + f^{(3)}[n - 10] + f^{(3)}[n - 9] + f^{(3)}[n - 10] + f^{(3)}[n - 9] +\n",
       " f^{(3)}[n - 8] + f^{(3)}[n - 9] + f^{(3)}[n - 8] + f^{(3)}[n - 7] + f^{(3)}[n\n",
       " - 10] + f^{(3)}[n - 9] + f^{(3)}[n - 8] + f^{(3)}[n - 9] + f^{(3)}[n - 8] + f\n",
       "^{(3)}[n - 7] + f^{(3)}[n - 8] + f^{(3)}[n - 7] + f^{(3)}[n - 6] + f^{(3)}[n -\n",
       " 9] + f^{(3)}[n - 8] + f^{(3)}[n - 7] + f^{(3)}[n - 8] + f^{(3)}[n - 7] + f^{(\n",
       "3)}[n - 6] + f^{(3)}[n - 7] + f^{(3)}[n - 6] + f^{(3)}[n - 5] + f^{(3)}[n - 13\n",
       "] + f^{(3)}[n - 12] + f^{(3)}[n - 11] + f^{(3)}[n - 12] + f^{(3)}[n - 11] + f^\n",
       "{(3)}[n - 10] + f^{(3)}[n - 11] + f^{(3)}[n - 10] + f^{(3)}[n - 9] + f^{(3)}[n\n",
       " - 12] + f^{(3)}[n - 11] + f^{(3)}[n - 10] + f^{(3)}[n - 11] + f^{(3)}[n - 10]\n",
       " + f^{(3)}[n - 9] + f^{(3)}[n - 10] + f^{(3)}[n - 9] + f^{(3)}[n - 8] + f^{(3)\n",
       "}[n - 11] + f^{(3)}[n - 10] + f^{(3)}[n - 9] + f^{(3)}[n - 10] + f^{(3)}[n - 9\n",
       "] + f^{(3)}[n - 8] + f^{(3)}[n - 9] + f^{(3)}[n - 8] + f^{(3)}[n - 7] + f^{(3)\n",
       "}[n - 12] + f^{(3)}[n - 11] + f^{(3)}[n - 10] + f^{(3)}[n - 11] + f^{(3)}[n - \n",
       "10] + f^{(3)}[n - 9] + f^{(3)}[n - 10] + f^{(3)}[n - 9] + f^{(3)}[n - 8] + f^{\n",
       "(3)}[n - 11] + f^{(3)}[n - 10] + f^{(3)}[n - 9] + f^{(3)}[n - 10] + f^{(3)}[n \n",
       "- 9] + f^{(3)}[n - 8] + f^{(3)}[n - 9] + f^{(3)}[n - 8] + f^{(3)}[n - 7] + f^{\n",
       "(3)}[n - 10] + f^{(3)}[n - 9] + f^{(3)}[n - 8] + f^{(3)}[n - 9] + f^{(3)}[n - \n",
       "8] + f^{(3)}[n - 7] + f^{(3)}[n - 8] + f^{(3)}[n - 7] + f^{(3)}[n - 6] + f^{(3\n",
       ")}[n - 11] + f^{(3)}[n - 10] + f^{(3)}[n - 9] + f^{(3)}[n - 10] + f^{(3)}[n - \n",
       "9] + f^{(3)}[n - 8] + f^{(3)}[n - 9] + f^{(3)}[n - 8] + f^{(3)}[n - 7] + f^{(3\n",
       ")}[n - 10] + f^{(3)}[n - 9] + f^{(3)}[n - 8] + f^{(3)}[n - 9] + f^{(3)}[n - 8]\n",
       " + f^{(3)}[n - 7] + f^{(3)}[n - 8] + f^{(3)}[n - 7] + f^{(3)}[n - 6] + f^{(3)}\n",
       "[n - 9] + f^{(3)}[n - 8] + f^{(3)}[n - 7] + f^{(3)}[n - 8] + f^{(3)}[n - 7] + \n",
       "f^{(3)}[n - 6] + f^{(3)}[n - 7] + f^{(3)}[n - 6] + f^{(3)}[n - 5]"
      ]
     },
     "execution_count": 34,
     "metadata": {},
     "output_type": "execute_result"
    }
   ],
   "source": [
    "unfolded = do_unfolding_steps(tribonacci_recurrence_spec, 5)\n",
    "recurrence_eq = project_recurrence_spec(unfolded, recurrence_eq=True)\n",
    "recurrence_eq"
   ]
  },
  {
   "cell_type": "code",
   "execution_count": 35,
   "metadata": {
    "collapsed": false
   },
   "outputs": [
    {
     "data": {
      "image/png": "[encoded data removed]",
      "text/latex": [
       "$$f^{{(3)}}_{n + 3} = f^{{(3)}}_{n - 15} + 6 f^{{(3)}}_{n - 14} + 21 f^{{(3)}}_{n - 13} + 50 f^{{(3)}}_{n - 12} + 90 f^{{(3)}}_{n - 11} + 126 f^{{(3)}}_{n - 10} + 141 f^{{(3)}}_{n - 9} + 126 f^{{(3)}}_{n - 8} + 90 f^{{(3)}}_{n - 7} + 50 f^{{(3)}}_{n - 6} + 21 f^{{(3)}}_{n - 5} + 6 f^{{(3)}}_{n - 4} + f^{{(3)}}_{n - 3}$$"
      ],
      "text/plain": [
       "f^{(3)}[n + 3] = f^{(3)}[n - 15] + 6⋅f^{(3)}[n - 14] + 21⋅f^{(3)}[n - 13] + 50\n",
       "⋅f^{(3)}[n - 12] + 90⋅f^{(3)}[n - 11] + 126⋅f^{(3)}[n - 10] + 141⋅f^{(3)}[n - \n",
       "9] + 126⋅f^{(3)}[n - 8] + 90⋅f^{(3)}[n - 7] + 50⋅f^{(3)}[n - 6] + 21⋅f^{(3)}[n\n",
       " - 5] + 6⋅f^{(3)}[n - 4] + f^{(3)}[n - 3]"
      ]
     },
     "execution_count": 35,
     "metadata": {},
     "output_type": "execute_result"
    }
   ],
   "source": [
    "factored_recurrence_eq = project_recurrence_spec(factor_rhs_unfolded_rec(unfolded), recurrence_eq=True)\n",
    "factored_recurrence_eq"
   ]
  },
  {
   "cell_type": "code",
   "execution_count": 36,
   "metadata": {
    "collapsed": true
   },
   "outputs": [],
   "source": [
    "instantiated_rec_spec = base_instantiation(unfolded)"
   ]
  },
  {
   "cell_type": "code",
   "execution_count": 37,
   "metadata": {
    "collapsed": false
   },
   "outputs": [
    {
     "data": {
      "image/png": "[encoded data removed]",
      "text/latex": [
       "$$\\left ( \\left \\{ f^{{(3)}}_{0} : 0, \\quad f^{{(3)}}_{1} : 0, \\quad f^{{(3)}}_{2} : 1, \\quad f^{{(3)}}_{3} : f^{{(3)}}_{0} + f^{{(3)}}_{1} + f^{{(3)}}_{2}, \\quad f^{{(3)}}_{4} : f^{{(3)}}_{1} + f^{{(3)}}_{2} + f^{{(3)}}_{3}, \\quad f^{{(3)}}_{5} : f^{{(3)}}_{2} + f^{{(3)}}_{3} + f^{{(3)}}_{4}, \\quad f^{{(3)}}_{6} : f^{{(3)}}_{3} + f^{{(3)}}_{4} + f^{{(3)}}_{5}, \\quad f^{{(3)}}_{7} : f^{{(3)}}_{4} + f^{{(3)}}_{5} + f^{{(3)}}_{6}, \\quad f^{{(3)}}_{8} : f^{{(3)}}_{5} + f^{{(3)}}_{6} + f^{{(3)}}_{7}, \\quad f^{{(3)}}_{9} : f^{{(3)}}_{6} + f^{{(3)}}_{7} + f^{{(3)}}_{8}, \\quad f^{{(3)}}_{10} : f^{{(3)}}_{7} + f^{{(3)}}_{8} + f^{{(3)}}_{9}, \\quad f^{{(3)}}_{11} : f^{{(3)}}_{8} + f^{{(3)}}_{9} + f^{{(3)}}_{10}, \\quad f^{{(3)}}_{12} : f^{{(3)}}_{9} + f^{{(3)}}_{10} + f^{{(3)}}_{11}, \\quad f^{{(3)}}_{13} : f^{{(3)}}_{10} + f^{{(3)}}_{11} + f^{{(3)}}_{12}, \\quad f^{{(3)}}_{14} : f^{{(3)}}_{11} + f^{{(3)}}_{12} + f^{{(3)}}_{13}, \\quad f^{{(3)}}_{15} : f^{{(3)}}_{12} + f^{{(3)}}_{13} + f^{{(3)}}_{14}, \\quad f^{{(3)}}_{16} : f^{{(3)}}_{13} + f^{{(3)}}_{14} + f^{{(3)}}_{15}, \\quad f^{{(3)}}_{17} : f^{{(3)}}_{14} + f^{{(3)}}_{15} + f^{{(3)}}_{16}\\right \\}, \\quad f^{{(3)}}_{18} = f^{{(3)}}_{0} + 6 f^{{(3)}}_{1} + 21 f^{{(3)}}_{2} + 50 f^{{(3)}}_{3} + 90 f^{{(3)}}_{4} + 126 f^{{(3)}}_{5} + 141 f^{{(3)}}_{6} + 126 f^{{(3)}}_{7} + 90 f^{{(3)}}_{8} + 50 f^{{(3)}}_{9} + 21 f^{{(3)}}_{10} + 6 f^{{(3)}}_{11} + f^{{(3)}}_{12}\\right )$$"
      ],
      "text/plain": [
       "({f^{(3)}[0]: 0, f^{(3)}[1]: 0, f^{(3)}[2]: 1, f^{(3)}[3]: f^{(3)}[0] + f^{(3)\n",
       "}[1] + f^{(3)}[2], f^{(3)}[4]: f^{(3)}[1] + f^{(3)}[2] + f^{(3)}[3], f^{(3)}[5\n",
       "]: f^{(3)}[2] + f^{(3)}[3] + f^{(3)}[4], f^{(3)}[6]: f^{(3)}[3] + f^{(3)}[4] +\n",
       " f^{(3)}[5], f^{(3)}[7]: f^{(3)}[4] + f^{(3)}[5] + f^{(3)}[6], f^{(3)}[8]: f^{\n",
       "(3)}[5] + f^{(3)}[6] + f^{(3)}[7], f^{(3)}[9]: f^{(3)}[6] + f^{(3)}[7] + f^{(3\n",
       ")}[8], f^{(3)}[10]: f^{(3)}[7] + f^{(3)}[8] + f^{(3)}[9], f^{(3)}[11]: f^{(3)}\n",
       "[8] + f^{(3)}[9] + f^{(3)}[10], f^{(3)}[12]: f^{(3)}[9] + f^{(3)}[10] + f^{(3)\n",
       "}[11], f^{(3)}[13]: f^{(3)}[10] + f^{(3)}[11] + f^{(3)}[12], f^{(3)}[14]: f^{(\n",
       "3)}[11] + f^{(3)}[12] + f^{(3)}[13], f^{(3)}[15]: f^{(3)}[12] + f^{(3)}[13] + \n",
       "f^{(3)}[14], f^{(3)}[16]: f^{(3)}[13] + f^{(3)}[14] + f^{(3)}[15], f^{(3)}[17]\n",
       ": f^{(3)}[14] + f^{(3)}[15] + f^{(3)}[16]}, f^{(3)}[18] = f^{(3)}[0] + 6⋅f^{(3\n",
       ")}[1] + 21⋅f^{(3)}[2] + 50⋅f^{(3)}[3] + 90⋅f^{(3)}[4] + 126⋅f^{(3)}[5] + 141⋅f\n",
       "^{(3)}[6] + 126⋅f^{(3)}[7] + 90⋅f^{(3)}[8] + 50⋅f^{(3)}[9] + 21⋅f^{(3)}[10] + \n",
       "6⋅f^{(3)}[11] + f^{(3)}[12])"
      ]
     },
     "execution_count": 37,
     "metadata": {},
     "output_type": "execute_result"
    }
   ],
   "source": [
    "project_recurrence_spec(instantiated_rec_spec, recurrence_eq=True, terms_cache=True)"
   ]
  },
  {
   "cell_type": "code",
   "execution_count": 38,
   "metadata": {
    "collapsed": false
   },
   "outputs": [
    {
     "data": {
      "image/png": "[encoded data removed]",
      "text/latex": [
       "$$\\left ( \\left \\{ f^{{(3)}}_{0} : 0, \\quad f^{{(3)}}_{1} : 0, \\quad f^{{(3)}}_{2} : 1, \\quad f^{{(3)}}_{3} : 1, \\quad f^{{(3)}}_{4} : 2, \\quad f^{{(3)}}_{5} : 4, \\quad f^{{(3)}}_{6} : 7, \\quad f^{{(3)}}_{7} : 13, \\quad f^{{(3)}}_{8} : 24, \\quad f^{{(3)}}_{9} : 44, \\quad f^{{(3)}}_{10} : 81, \\quad f^{{(3)}}_{11} : 149, \\quad f^{{(3)}}_{12} : 274, \\quad f^{{(3)}}_{13} : 504, \\quad f^{{(3)}}_{14} : 927, \\quad f^{{(3)}}_{15} : 1705, \\quad f^{{(3)}}_{16} : 3136, \\quad f^{{(3)}}_{17} : 5768\\right \\}, \\quad f^{{(3)}}_{18} = 10609\\right )$$"
      ],
      "text/plain": [
       "({f^{(3)}[0]: 0, f^{(3)}[1]: 0, f^{(3)}[2]: 1, f^{(3)}[3]: 1, f^{(3)}[4]: 2, f\n",
       "^{(3)}[5]: 4, f^{(3)}[6]: 7, f^{(3)}[7]: 13, f^{(3)}[8]: 24, f^{(3)}[9]: 44, f\n",
       "^{(3)}[10]: 81, f^{(3)}[11]: 149, f^{(3)}[12]: 274, f^{(3)}[13]: 504, f^{(3)}[\n",
       "14]: 927, f^{(3)}[15]: 1705, f^{(3)}[16]: 3136, f^{(3)}[17]: 5768}, f^{(3)}[18\n",
       "] = 10609)"
      ]
     },
     "execution_count": 38,
     "metadata": {},
     "output_type": "execute_result"
    }
   ],
   "source": [
    "fully_instantiated_spec = repeated_instantiating(instantiated_rec_spec)\n",
    "project_recurrence_spec(fully_instantiated_spec, recurrence_eq=True, terms_cache=True)"
   ]
  },
  {
   "cell_type": "code",
   "execution_count": 39,
   "metadata": {
    "collapsed": false
   },
   "outputs": [
    {
     "data": {
      "text/latex": [
       "\\begin{array}{c}f^{{(3)}}_{3} = f^{{(3)}}_{0} + f^{{(3)}}_{1} + f^{{(3)}}_{2}\\\\\n",
       "f^{{(3)}}_{6} = f^{{(3)}}_{0} + 2 f^{{(3)}}_{1} + 3 f^{{(3)}}_{2} + 2 f^{{(3)}}_{3} + f^{{(3)}}_{4}\\\\\n",
       "f^{{(3)}}_{9} = f^{{(3)}}_{0} + 3 f^{{(3)}}_{1} + 6 f^{{(3)}}_{2} + 7 f^{{(3)}}_{3} + 6 f^{{(3)}}_{4} + 3 f^{{(3)}}_{5} + f^{{(3)}}_{6}\\\\\n",
       "f^{{(3)}}_{12} = f^{{(3)}}_{0} + 4 f^{{(3)}}_{1} + 10 f^{{(3)}}_{2} + 16 f^{{(3)}}_{3} + 19 f^{{(3)}}_{4} + 16 f^{{(3)}}_{5} + 10 f^{{(3)}}_{6} + 4 f^{{(3)}}_{7} + f^{{(3)}}_{8}\\\\\n",
       "f^{{(3)}}_{15} = f^{{(3)}}_{0} + 5 f^{{(3)}}_{1} + 15 f^{{(3)}}_{2} + 30 f^{{(3)}}_{3} + 45 f^{{(3)}}_{4} + 51 f^{{(3)}}_{5} + 45 f^{{(3)}}_{6} + 30 f^{{(3)}}_{7} + 15 f^{{(3)}}_{8} + 5 f^{{(3)}}_{9} + f^{{(3)}}_{10}\\\\\n",
       "f^{{(3)}}_{18} = f^{{(3)}}_{0} + 6 f^{{(3)}}_{1} + 21 f^{{(3)}}_{2} + 50 f^{{(3)}}_{3} + 90 f^{{(3)}}_{4} + 126 f^{{(3)}}_{5} + 141 f^{{(3)}}_{6} + 126 f^{{(3)}}_{7} + 90 f^{{(3)}}_{8} + 50 f^{{(3)}}_{9} + 21 f^{{(3)}}_{10} + 6 f^{{(3)}}_{11} + f^{{(3)}}_{12}\\\\\n",
       "f^{{(3)}}_{21} = f^{{(3)}}_{0} + 7 f^{{(3)}}_{1} + 28 f^{{(3)}}_{2} + 77 f^{{(3)}}_{3} + 161 f^{{(3)}}_{4} + 266 f^{{(3)}}_{5} + 357 f^{{(3)}}_{6} + 393 f^{{(3)}}_{7} + 357 f^{{(3)}}_{8} + 266 f^{{(3)}}_{9} + 161 f^{{(3)}}_{10} + 77 f^{{(3)}}_{11} + 28 f^{{(3)}}_{12} + 7 f^{{(3)}}_{13} + f^{{(3)}}_{14}\\\\\\end{array}"
      ],
      "text/plain": [
       "<IPython.core.display.Latex object>"
      ]
     },
     "execution_count": 39,
     "metadata": {},
     "output_type": "execute_result"
    }
   ],
   "source": [
    "ipython_latex(tribonacci_recurrence_spec, times_range=range(7))"
   ]
  },
  {
   "cell_type": "markdown",
   "metadata": {},
   "source": [
    "the sequence lying on the middle in the above triangle is known as [A002426][oeis].\n",
    "\n",
    "[oeis]:http://oeis.org/A002426"
   ]
  },
  {
   "cell_type": "markdown",
   "metadata": {},
   "source": [
    "## Lucas numbers\n",
    "\n",
    "Know as [A000032][oeis].\n",
    "\n",
    "[oeis]:http://oeis.org/A000032"
   ]
  },
  {
   "cell_type": "code",
   "execution_count": 5,
   "metadata": {
    "collapsed": false
   },
   "outputs": [
    {
     "data": {
      "image/png": "[encoded data removed]",
      "text/latex": [
       "$$l_{n + 2} = l_{n} + l_{n + 1}$$"
      ],
      "text/plain": [
       "l[n + 2] = l[n] + l[n + 1]"
      ]
     },
     "execution_count": 5,
     "metadata": {},
     "output_type": "execute_result"
    }
   ],
   "source": [
    "l = IndexedBase('l')\n",
    "lucas_recurrence = Eq(l[n+2],l[n+1]+l[n])\n",
    "lucas_recurrence"
   ]
  },
  {
   "cell_type": "code",
   "execution_count": 6,
   "metadata": {
    "collapsed": true
   },
   "outputs": [],
   "source": [
    "boundary_conditions = {l[0]:Integer(2), l[1]:Integer(1)}\n",
    "lucas_recurrence_spec=dict(recurrence_eq=lucas_recurrence, indexed=l, \n",
    "                               index=n, terms_cache=boundary_conditions)"
   ]
  },
  {
   "cell_type": "code",
   "execution_count": 7,
   "metadata": {
    "collapsed": true
   },
   "outputs": [],
   "source": [
    "unfolded = do_unfolding_steps(lucas_recurrence_spec, 5)"
   ]
  },
  {
   "cell_type": "code",
   "execution_count": 8,
   "metadata": {
    "collapsed": false
   },
   "outputs": [
    {
     "data": {
      "image/png": "[encoded data removed]",
      "text/latex": [
       "$$l_{n + 2} = l_{n - 9} + l_{n - 8} + l_{n - 8} + l_{n - 7} + l_{n - 8} + l_{n - 7} + l_{n - 7} + l_{n - 6} + l_{n - 8} + l_{n - 7} + l_{n - 7} + l_{n - 6} + l_{n - 7} + l_{n - 6} + l_{n - 6} + l_{n - 5} + l_{n - 10} + l_{n - 9} + l_{n - 9} + l_{n - 8} + l_{n - 9} + l_{n - 8} + l_{n - 8} + l_{n - 7} + l_{n - 9} + l_{n - 8} + l_{n - 8} + l_{n - 7} + l_{n - 8} + l_{n - 7} + l_{n - 7} + l_{n - 6} + l_{n - 7} + l_{n - 6} + l_{n - 6} + l_{n - 5} + l_{n - 6} + l_{n - 5} + l_{n - 5} + l_{n - 4} + l_{n - 8} + l_{n - 7} + l_{n - 7} + l_{n - 6} + l_{n - 7} + l_{n - 6} + l_{n - 6} + l_{n - 5} + l_{n - 9} + l_{n - 8} + l_{n - 8} + l_{n - 7} + l_{n - 8} + l_{n - 7} + l_{n - 7} + l_{n - 6} + l_{n - 8} + l_{n - 7} + l_{n - 7} + l_{n - 6} + l_{n - 7} + l_{n - 6} + l_{n - 6} + l_{n - 5}$$"
      ],
      "text/plain": [
       "l[n + 2] = l[n - 9] + l[n - 8] + l[n - 8] + l[n - 7] + l[n - 8] + l[n - 7] + l\n",
       "[n - 7] + l[n - 6] + l[n - 8] + l[n - 7] + l[n - 7] + l[n - 6] + l[n - 7] + l[\n",
       "n - 6] + l[n - 6] + l[n - 5] + l[n - 10] + l[n - 9] + l[n - 9] + l[n - 8] + l[\n",
       "n - 9] + l[n - 8] + l[n - 8] + l[n - 7] + l[n - 9] + l[n - 8] + l[n - 8] + l[n\n",
       " - 7] + l[n - 8] + l[n - 7] + l[n - 7] + l[n - 6] + l[n - 7] + l[n - 6] + l[n \n",
       "- 6] + l[n - 5] + l[n - 6] + l[n - 5] + l[n - 5] + l[n - 4] + l[n - 8] + l[n -\n",
       " 7] + l[n - 7] + l[n - 6] + l[n - 7] + l[n - 6] + l[n - 6] + l[n - 5] + l[n - \n",
       "9] + l[n - 8] + l[n - 8] + l[n - 7] + l[n - 8] + l[n - 7] + l[n - 7] + l[n - 6\n",
       "] + l[n - 8] + l[n - 7] + l[n - 7] + l[n - 6] + l[n - 7] + l[n - 6] + l[n - 6]\n",
       " + l[n - 5]"
      ]
     },
     "execution_count": 8,
     "metadata": {},
     "output_type": "execute_result"
    }
   ],
   "source": [
    "recurrence_eq = project_recurrence_spec(unfolded, recurrence_eq=True)\n",
    "recurrence_eq"
   ]
  },
  {
   "cell_type": "code",
   "execution_count": 9,
   "metadata": {
    "collapsed": false
   },
   "outputs": [
    {
     "data": {
      "image/png": "[encoded data removed]",
      "text/latex": [
       "$$l_{n + 2} = l_{n - 10} + 6 l_{n - 9} + 15 l_{n - 8} + 20 l_{n - 7} + 15 l_{n - 6} + 6 l_{n - 5} + l_{n - 4}$$"
      ],
      "text/plain": [
       "l[n + 2] = l[n - 10] + 6⋅l[n - 9] + 15⋅l[n - 8] + 20⋅l[n - 7] + 15⋅l[n - 6] + \n",
       "6⋅l[n - 5] + l[n - 4]"
      ]
     },
     "execution_count": 9,
     "metadata": {},
     "output_type": "execute_result"
    }
   ],
   "source": [
    "factored_recurrence_eq = project_recurrence_spec(factor_rhs_unfolded_rec(unfolded), recurrence_eq=True)\n",
    "factored_recurrence_eq"
   ]
  },
  {
   "cell_type": "code",
   "execution_count": 10,
   "metadata": {
    "collapsed": false
   },
   "outputs": [
    {
     "data": {
      "image/png": "[encoded data removed]",
      "text/latex": [
       "$$l_{12} = l_{0} + 6 l_{1} + 15 l_{2} + 20 l_{3} + 15 l_{4} + 6 l_{5} + l_{6}$$"
      ],
      "text/plain": [
       "l[12] = l[0] + 6⋅l[1] + 15⋅l[2] + 20⋅l[3] + 15⋅l[4] + 6⋅l[5] + l[6]"
      ]
     },
     "execution_count": 10,
     "metadata": {},
     "output_type": "execute_result"
    }
   ],
   "source": [
    "factored_recurrence_eq.subs(n,10)"
   ]
  },
  {
   "cell_type": "code",
   "execution_count": 11,
   "metadata": {
    "collapsed": true
   },
   "outputs": [],
   "source": [
    "instantiated_rec_spec = base_instantiation(unfolded)"
   ]
  },
  {
   "cell_type": "code",
   "execution_count": 12,
   "metadata": {
    "collapsed": false
   },
   "outputs": [
    {
     "data": {
      "image/png": "[encoded data removed]",
      "text/latex": [
       "$$\\left ( l_{12} = l_{0} + 6 l_{1} + 15 l_{2} + 20 l_{3} + 15 l_{4} + 6 l_{5} + l_{6}, \\quad \\left \\{ l_{0} : 2, \\quad l_{1} : 1, \\quad l_{2} : l_{0} + l_{1}, \\quad l_{3} : l_{1} + l_{2}, \\quad l_{4} : l_{2} + l_{3}, \\quad l_{5} : l_{3} + l_{4}, \\quad l_{6} : l_{4} + l_{5}, \\quad l_{7} : l_{5} + l_{6}, \\quad l_{8} : l_{6} + l_{7}, \\quad l_{9} : l_{7} + l_{8}, \\quad l_{10} : l_{8} + l_{9}, \\quad l_{11} : l_{9} + l_{10}\\right \\}\\right )$$"
      ],
      "text/plain": [
       "(l[12] = l[0] + 6⋅l[1] + 15⋅l[2] + 20⋅l[3] + 15⋅l[4] + 6⋅l[5] + l[6], {l[0]: 2\n",
       ", l[1]: 1, l[2]: l[0] + l[1], l[3]: l[1] + l[2], l[4]: l[2] + l[3], l[5]: l[3]\n",
       " + l[4], l[6]: l[4] + l[5], l[7]: l[5] + l[6], l[8]: l[6] + l[7], l[9]: l[7] +\n",
       " l[8], l[10]: l[8] + l[9], l[11]: l[9] + l[10]})"
      ]
     },
     "execution_count": 12,
     "metadata": {},
     "output_type": "execute_result"
    }
   ],
   "source": [
    "project_recurrence_spec(instantiated_rec_spec, recurrence_eq=True, terms_cache=True)"
   ]
  },
  {
   "cell_type": "code",
   "execution_count": 13,
   "metadata": {
    "collapsed": false
   },
   "outputs": [
    {
     "data": {
      "image/png": "[encoded data removed]",
      "text/latex": [
       "$$\\left ( l_{12} = 322, \\quad \\left \\{ l_{0} : 2, \\quad l_{1} : 1, \\quad l_{2} : 3, \\quad l_{3} : 4, \\quad l_{4} : 7, \\quad l_{5} : 11, \\quad l_{6} : 18, \\quad l_{7} : 29, \\quad l_{8} : 47, \\quad l_{9} : 76, \\quad l_{10} : 123, \\quad l_{11} : 199\\right \\}\\right )$$"
      ],
      "text/plain": [
       "(l[12] = 322, {l[0]: 2, l[1]: 1, l[2]: 3, l[3]: 4, l[4]: 7, l[5]: 11, l[6]: 18\n",
       ", l[7]: 29, l[8]: 47, l[9]: 76, l[10]: 123, l[11]: 199})"
      ]
     },
     "execution_count": 13,
     "metadata": {},
     "output_type": "execute_result"
    }
   ],
   "source": [
    "fully_instantiated_spec = repeated_instantiating(instantiated_rec_spec)\n",
    "project_recurrence_spec(fully_instantiated_spec, recurrence_eq=True, terms_cache=True)"
   ]
  },
  {
   "cell_type": "code",
   "execution_count": 14,
   "metadata": {
    "collapsed": false
   },
   "outputs": [
    {
     "data": {
      "text/latex": [
       "\\begin{array}{c}l_{2} = l_{0} + l_{1}\\\\\n",
       "l_{4} = l_{0} + 2 l_{1} + l_{2}\\\\\n",
       "l_{6} = l_{0} + 3 l_{1} + 3 l_{2} + l_{3}\\\\\n",
       "l_{8} = l_{0} + 4 l_{1} + 6 l_{2} + 4 l_{3} + l_{4}\\\\\n",
       "l_{10} = l_{0} + 5 l_{1} + 10 l_{2} + 10 l_{3} + 5 l_{4} + l_{5}\\\\\n",
       "l_{12} = l_{0} + 6 l_{1} + 15 l_{2} + 20 l_{3} + 15 l_{4} + 6 l_{5} + l_{6}\\\\\n",
       "l_{14} = l_{0} + 7 l_{1} + 21 l_{2} + 35 l_{3} + 35 l_{4} + 21 l_{5} + 7 l_{6} + l_{7}\\\\\n",
       "l_{16} = l_{0} + 8 l_{1} + 28 l_{2} + 56 l_{3} + 70 l_{4} + 56 l_{5} + 28 l_{6} + 8 l_{7} + l_{8}\\\\\n",
       "l_{18} = l_{0} + 9 l_{1} + 36 l_{2} + 84 l_{3} + 126 l_{4} + 126 l_{5} + 84 l_{6} + 36 l_{7} + 9 l_{8} + l_{9}\\\\\n",
       "l_{20} = l_{0} + 10 l_{1} + 45 l_{2} + 120 l_{3} + 210 l_{4} + 252 l_{5} + 210 l_{6} + 120 l_{7} + 45 l_{8} + 10 l_{9} + l_{10}\\\\\\end{array}"
      ],
      "text/plain": [
       "<IPython.core.display.Latex object>"
      ]
     },
     "execution_count": 14,
     "metadata": {},
     "output_type": "execute_result"
    }
   ],
   "source": [
    "ipython_latex(lucas_recurrence_spec, times_range=range(10))"
   ]
  },
  {
   "cell_type": "markdown",
   "metadata": {},
   "source": [
    "## Another recurrence relation on Fibonacci numbers"
   ]
  },
  {
   "cell_type": "code",
   "execution_count": 21,
   "metadata": {
    "collapsed": false
   },
   "outputs": [
    {
     "data": {
      "image/png": "[encoded data removed]",
      "text/latex": [
       "$$f_{2 n + 1} = \\left(f_{n}\\right)^{2} + \\left(f_{n + 1}\\right)^{2}$$"
      ],
      "text/plain": [
       "                 2           2\n",
       "f[2*n + 1] = f[n]  + f[n + 1] "
      ]
     },
     "execution_count": 21,
     "metadata": {},
     "output_type": "execute_result"
    }
   ],
   "source": [
    "f = IndexedBase('f')\n",
    "fibonacci_recurrence = Eq(f[2*n+1],f[n]**2+f[n+1]**2)\n",
    "fibonacci_recurrence"
   ]
  },
  {
   "cell_type": "code",
   "execution_count": 22,
   "metadata": {
    "collapsed": true
   },
   "outputs": [],
   "source": [
    "boundary_conditions = {f[0]:Integer(1), f[1]:Integer(1)}\n",
    "fibonacci_recurrence_spec=dict(recurrence_eq=fibonacci_recurrence, indexed=f, \n",
    "                               index=n, terms_cache=boundary_conditions)"
   ]
  },
  {
   "cell_type": "code",
   "execution_count": 23,
   "metadata": {
    "collapsed": false
   },
   "outputs": [],
   "source": [
    "unfolded = do_unfolding_steps(fibonacci_recurrence_spec, 2)"
   ]
  },
  {
   "cell_type": "code",
   "execution_count": 24,
   "metadata": {
    "collapsed": false
   },
   "outputs": [
    {
     "data": {
      "image/png": "[encoded data removed]",
      "text/latex": [
       "$$f_{2 n + 1} = \\left(\\left(\\left(f_{\\frac{n}{4}}\\right)^{2} + \\left(f_{\\frac{n}{4} + 1}\\right)^{2}\\right)^{2} + \\left(\\left(f_{\\frac{n}{4} - \\frac{1}{2}}\\right)^{2} + \\left(f_{\\frac{n}{4} + \\frac{1}{2}}\\right)^{2}\\right)^{2}\\right)^{2} + \\left(\\left(\\left(f_{\\frac{n}{4} - \\frac{3}{4}}\\right)^{2} + \\left(f_{\\frac{n}{4} + \\frac{1}{4}}\\right)^{2}\\right)^{2} + \\left(\\left(f_{\\frac{n}{4} - \\frac{1}{4}}\\right)^{2} + \\left(f_{\\frac{n}{4} + \\frac{3}{4}}\\right)^{2}\\right)^{2}\\right)^{2}$$"
      ],
      "text/plain": [
       "                                                                          2   \n",
       "             ⎛                       2                                  2⎞    \n",
       "             ⎜⎛      2             2⎞    ⎛            2               2⎞ ⎟    \n",
       "f[2*n + 1] = ⎝⎝f[n/4]  + f[n/4 + 1] ⎠  + ⎝f[n/4 - 1/2]  + f[n/4 + 1/2] ⎠ ⎠  + \n",
       "\n",
       "                                                                     2\n",
       "⎛                               2                                  2⎞ \n",
       "⎜⎛            2               2⎞    ⎛            2               2⎞ ⎟ \n",
       "⎝⎝f[n/4 - 3/4]  + f[n/4 + 1/4] ⎠  + ⎝f[n/4 - 1/4]  + f[n/4 + 3/4] ⎠ ⎠ "
      ]
     },
     "execution_count": 24,
     "metadata": {},
     "output_type": "execute_result"
    }
   ],
   "source": [
    "recurrence_eq = project_recurrence_spec(unfolded, recurrence_eq=True)\n",
    "recurrence_eq"
   ]
  },
  {
   "cell_type": "code",
   "execution_count": 92,
   "metadata": {
    "collapsed": false
   },
   "outputs": [
    {
     "data": {
      "image/png": "[encoded data removed]",
      "text/latex": [
       "$$f_{2 n + 1} = \\left(f_{\\frac{n}{4}}\\right)^{8} + 4 \\left(f_{\\frac{n}{4}}\\right)^{6} \\left(f_{\\frac{n}{4} + 1}\\right)^{2} + 2 \\left(f_{\\frac{n}{4}}\\right)^{4} \\left(f_{\\frac{n}{4} - \\frac{1}{2}}\\right)^{4} + 4 \\left(f_{\\frac{n}{4}}\\right)^{4} \\left(f_{\\frac{n}{4} - \\frac{1}{2}}\\right)^{2} \\left(f_{\\frac{n}{4} + \\frac{1}{2}}\\right)^{2} + 2 \\left(f_{\\frac{n}{4}}\\right)^{4} \\left(f_{\\frac{n}{4} + \\frac{1}{2}}\\right)^{4} + 6 \\left(f_{\\frac{n}{4}}\\right)^{4} \\left(f_{\\frac{n}{4} + 1}\\right)^{4} + 4 \\left(f_{\\frac{n}{4}}\\right)^{2} \\left(f_{\\frac{n}{4} - \\frac{1}{2}}\\right)^{4} \\left(f_{\\frac{n}{4} + 1}\\right)^{2} + 8 \\left(f_{\\frac{n}{4}}\\right)^{2} \\left(f_{\\frac{n}{4} - \\frac{1}{2}}\\right)^{2} \\left(f_{\\frac{n}{4} + \\frac{1}{2}}\\right)^{2} \\left(f_{\\frac{n}{4} + 1}\\right)^{2} + 4 \\left(f_{\\frac{n}{4}}\\right)^{2} \\left(f_{\\frac{n}{4} + \\frac{1}{2}}\\right)^{4} \\left(f_{\\frac{n}{4} + 1}\\right)^{2} + 4 \\left(f_{\\frac{n}{4}}\\right)^{2} \\left(f_{\\frac{n}{4} + 1}\\right)^{6} + \\left(f_{\\frac{n}{4} - \\frac{3}{4}}\\right)^{8} + 4 \\left(f_{\\frac{n}{4} - \\frac{3}{4}}\\right)^{6} \\left(f_{\\frac{n}{4} + \\frac{1}{4}}\\right)^{2} + 2 \\left(f_{\\frac{n}{4} - \\frac{3}{4}}\\right)^{4} \\left(f_{\\frac{n}{4} - \\frac{1}{4}}\\right)^{4} + 4 \\left(f_{\\frac{n}{4} - \\frac{3}{4}}\\right)^{4} \\left(f_{\\frac{n}{4} - \\frac{1}{4}}\\right)^{2} \\left(f_{\\frac{n}{4} + \\frac{3}{4}}\\right)^{2} + 6 \\left(f_{\\frac{n}{4} - \\frac{3}{4}}\\right)^{4} \\left(f_{\\frac{n}{4} + \\frac{1}{4}}\\right)^{4} + 2 \\left(f_{\\frac{n}{4} - \\frac{3}{4}}\\right)^{4} \\left(f_{\\frac{n}{4} + \\frac{3}{4}}\\right)^{4} + 4 \\left(f_{\\frac{n}{4} - \\frac{3}{4}}\\right)^{2} \\left(f_{\\frac{n}{4} - \\frac{1}{4}}\\right)^{4} \\left(f_{\\frac{n}{4} + \\frac{1}{4}}\\right)^{2} + 8 \\left(f_{\\frac{n}{4} - \\frac{3}{4}}\\right)^{2} \\left(f_{\\frac{n}{4} - \\frac{1}{4}}\\right)^{2} \\left(f_{\\frac{n}{4} + \\frac{1}{4}}\\right)^{2} \\left(f_{\\frac{n}{4} + \\frac{3}{4}}\\right)^{2} + 4 \\left(f_{\\frac{n}{4} - \\frac{3}{4}}\\right)^{2} \\left(f_{\\frac{n}{4} + \\frac{1}{4}}\\right)^{6} + 4 \\left(f_{\\frac{n}{4} - \\frac{3}{4}}\\right)^{2} \\left(f_{\\frac{n}{4} + \\frac{1}{4}}\\right)^{2} \\left(f_{\\frac{n}{4} + \\frac{3}{4}}\\right)^{4} + \\left(f_{\\frac{n}{4} - \\frac{1}{2}}\\right)^{8} + 4 \\left(f_{\\frac{n}{4} - \\frac{1}{2}}\\right)^{6} \\left(f_{\\frac{n}{4} + \\frac{1}{2}}\\right)^{2} + 6 \\left(f_{\\frac{n}{4} - \\frac{1}{2}}\\right)^{4} \\left(f_{\\frac{n}{4} + \\frac{1}{2}}\\right)^{4} + 2 \\left(f_{\\frac{n}{4} - \\frac{1}{2}}\\right)^{4} \\left(f_{\\frac{n}{4} + 1}\\right)^{4} + 4 \\left(f_{\\frac{n}{4} - \\frac{1}{2}}\\right)^{2} \\left(f_{\\frac{n}{4} + \\frac{1}{2}}\\right)^{6} + 4 \\left(f_{\\frac{n}{4} - \\frac{1}{2}}\\right)^{2} \\left(f_{\\frac{n}{4} + \\frac{1}{2}}\\right)^{2} \\left(f_{\\frac{n}{4} + 1}\\right)^{4} + \\left(f_{\\frac{n}{4} - \\frac{1}{4}}\\right)^{8} + 4 \\left(f_{\\frac{n}{4} - \\frac{1}{4}}\\right)^{6} \\left(f_{\\frac{n}{4} + \\frac{3}{4}}\\right)^{2} + 2 \\left(f_{\\frac{n}{4} - \\frac{1}{4}}\\right)^{4} \\left(f_{\\frac{n}{4} + \\frac{1}{4}}\\right)^{4} + 6 \\left(f_{\\frac{n}{4} - \\frac{1}{4}}\\right)^{4} \\left(f_{\\frac{n}{4} + \\frac{3}{4}}\\right)^{4} + 4 \\left(f_{\\frac{n}{4} - \\frac{1}{4}}\\right)^{2} \\left(f_{\\frac{n}{4} + \\frac{1}{4}}\\right)^{4} \\left(f_{\\frac{n}{4} + \\frac{3}{4}}\\right)^{2} + 4 \\left(f_{\\frac{n}{4} - \\frac{1}{4}}\\right)^{2} \\left(f_{\\frac{n}{4} + \\frac{3}{4}}\\right)^{6} + \\left(f_{\\frac{n}{4} + \\frac{1}{4}}\\right)^{8} + 2 \\left(f_{\\frac{n}{4} + \\frac{1}{4}}\\right)^{4} \\left(f_{\\frac{n}{4} + \\frac{3}{4}}\\right)^{4} + \\left(f_{\\frac{n}{4} + \\frac{1}{2}}\\right)^{8} + 2 \\left(f_{\\frac{n}{4} + \\frac{1}{2}}\\right)^{4} \\left(f_{\\frac{n}{4} + 1}\\right)^{4} + \\left(f_{\\frac{n}{4} + \\frac{3}{4}}\\right)^{8} + \\left(f_{\\frac{n}{4} + 1}\\right)^{8}$$"
      ],
      "text/plain": [
       "                   8           6           2           4             4        \n",
       "f[2*n + 1] = f[n/4]  + 4⋅f[n/4] ⋅f[n/4 + 1]  + 2⋅f[n/4] ⋅f[n/4 - 1/2]  + 4⋅f[n\n",
       "\n",
       "   4             2             2           4             4           4        \n",
       "/4] ⋅f[n/4 - 1/2] ⋅f[n/4 + 1/2]  + 2⋅f[n/4] ⋅f[n/4 + 1/2]  + 6⋅f[n/4] ⋅f[n/4 +\n",
       "\n",
       "   4           2             4           2           2             2          \n",
       " 1]  + 4⋅f[n/4] ⋅f[n/4 - 1/2] ⋅f[n/4 + 1]  + 8⋅f[n/4] ⋅f[n/4 - 1/2] ⋅f[n/4 + 1\n",
       "\n",
       "   2           2           2             4           2           2           6\n",
       "/2] ⋅f[n/4 + 1]  + 4⋅f[n/4] ⋅f[n/4 + 1/2] ⋅f[n/4 + 1]  + 4⋅f[n/4] ⋅f[n/4 + 1] \n",
       "\n",
       "               8                 6             2                 4            \n",
       " + f[n/4 - 3/4]  + 4⋅f[n/4 - 3/4] ⋅f[n/4 + 1/4]  + 2⋅f[n/4 - 3/4] ⋅f[n/4 - 1/4\n",
       "\n",
       " 4                 4             2             2                 4            \n",
       "]  + 4⋅f[n/4 - 3/4] ⋅f[n/4 - 1/4] ⋅f[n/4 + 3/4]  + 6⋅f[n/4 - 3/4] ⋅f[n/4 + 1/4\n",
       "\n",
       " 4                 4             4                 2             4            \n",
       "]  + 2⋅f[n/4 - 3/4] ⋅f[n/4 + 3/4]  + 4⋅f[n/4 - 3/4] ⋅f[n/4 - 1/4] ⋅f[n/4 + 1/4\n",
       "\n",
       " 2                 2             2             2             2                \n",
       "]  + 8⋅f[n/4 - 3/4] ⋅f[n/4 - 1/4] ⋅f[n/4 + 1/4] ⋅f[n/4 + 3/4]  + 4⋅f[n/4 - 3/4\n",
       "\n",
       " 2             6                 2             2             4               8\n",
       "] ⋅f[n/4 + 1/4]  + 4⋅f[n/4 - 3/4] ⋅f[n/4 + 1/4] ⋅f[n/4 + 3/4]  + f[n/4 - 1/2] \n",
       "\n",
       "                 6             2                 4             4              \n",
       " + 4⋅f[n/4 - 1/2] ⋅f[n/4 + 1/2]  + 6⋅f[n/4 - 1/2] ⋅f[n/4 + 1/2]  + 2⋅f[n/4 - 1\n",
       "\n",
       "   4           4                 2             6                 2            \n",
       "/2] ⋅f[n/4 + 1]  + 4⋅f[n/4 - 1/2] ⋅f[n/4 + 1/2]  + 4⋅f[n/4 - 1/2] ⋅f[n/4 + 1/2\n",
       "\n",
       " 2           4               8                 6             2                \n",
       "] ⋅f[n/4 + 1]  + f[n/4 - 1/4]  + 4⋅f[n/4 - 1/4] ⋅f[n/4 + 3/4]  + 2⋅f[n/4 - 1/4\n",
       "\n",
       " 4             4                 4             4                 2            \n",
       "] ⋅f[n/4 + 1/4]  + 6⋅f[n/4 - 1/4] ⋅f[n/4 + 3/4]  + 4⋅f[n/4 - 1/4] ⋅f[n/4 + 1/4\n",
       "\n",
       " 4             2                 2             6               8              \n",
       "] ⋅f[n/4 + 3/4]  + 4⋅f[n/4 - 1/4] ⋅f[n/4 + 3/4]  + f[n/4 + 1/4]  + 2⋅f[n/4 + 1\n",
       "\n",
       "   4             4               8                 4           4              \n",
       "/4] ⋅f[n/4 + 3/4]  + f[n/4 + 1/2]  + 2⋅f[n/4 + 1/2] ⋅f[n/4 + 1]  + f[n/4 + 3/4\n",
       "\n",
       " 8             8\n",
       "]  + f[n/4 + 1] "
      ]
     },
     "execution_count": 92,
     "metadata": {},
     "output_type": "execute_result"
    }
   ],
   "source": [
    "factored_recurrence_eq = project_recurrence_spec(factor_rhs_unfolded_rec(unfolded), recurrence_eq=True)\n",
    "factored_recurrence_eq"
   ]
  },
  {
   "cell_type": "code",
   "execution_count": 95,
   "metadata": {
    "collapsed": false
   },
   "outputs": [
    {
     "data": {
      "image/png": "[encoded data removed]",
      "text/latex": [
       "$$f_{7} = \\left(f_{0}\\right)^{8} + 4 \\left(f_{0}\\right)^{6} \\left(f_{1}\\right)^{2} + 2 \\left(f_{0}\\right)^{4} \\left(f_{\\frac{1}{2}}\\right)^{4} + 4 \\left(f_{0}\\right)^{4} \\left(f_{\\frac{1}{2}}\\right)^{2} \\left(f_{\\frac{3}{2}}\\right)^{2} + 6 \\left(f_{0}\\right)^{4} \\left(f_{1}\\right)^{4} + 2 \\left(f_{0}\\right)^{4} \\left(f_{\\frac{3}{2}}\\right)^{4} + 4 \\left(f_{0}\\right)^{2} \\left(f_{\\frac{1}{2}}\\right)^{4} \\left(f_{1}\\right)^{2} + 8 \\left(f_{0}\\right)^{2} \\left(f_{\\frac{1}{2}}\\right)^{2} \\left(f_{1}\\right)^{2} \\left(f_{\\frac{3}{2}}\\right)^{2} + 4 \\left(f_{0}\\right)^{2} \\left(f_{1}\\right)^{6} + 4 \\left(f_{0}\\right)^{2} \\left(f_{1}\\right)^{2} \\left(f_{\\frac{3}{2}}\\right)^{4} + \\left(f_{\\frac{1}{4}}\\right)^{8} + 4 \\left(f_{\\frac{1}{4}}\\right)^{6} \\left(f_{\\frac{5}{4}}\\right)^{2} + 2 \\left(f_{\\frac{1}{4}}\\right)^{4} \\left(f_{\\frac{3}{4}}\\right)^{4} + 4 \\left(f_{\\frac{1}{4}}\\right)^{4} \\left(f_{\\frac{3}{4}}\\right)^{2} \\left(f_{\\frac{7}{4}}\\right)^{2} + 6 \\left(f_{\\frac{1}{4}}\\right)^{4} \\left(f_{\\frac{5}{4}}\\right)^{4} + 2 \\left(f_{\\frac{1}{4}}\\right)^{4} \\left(f_{\\frac{7}{4}}\\right)^{4} + 4 \\left(f_{\\frac{1}{4}}\\right)^{2} \\left(f_{\\frac{3}{4}}\\right)^{4} \\left(f_{\\frac{5}{4}}\\right)^{2} + 8 \\left(f_{\\frac{1}{4}}\\right)^{2} \\left(f_{\\frac{3}{4}}\\right)^{2} \\left(f_{\\frac{5}{4}}\\right)^{2} \\left(f_{\\frac{7}{4}}\\right)^{2} + 4 \\left(f_{\\frac{1}{4}}\\right)^{2} \\left(f_{\\frac{5}{4}}\\right)^{6} + 4 \\left(f_{\\frac{1}{4}}\\right)^{2} \\left(f_{\\frac{5}{4}}\\right)^{2} \\left(f_{\\frac{7}{4}}\\right)^{4} + \\left(f_{\\frac{1}{2}}\\right)^{8} + 4 \\left(f_{\\frac{1}{2}}\\right)^{6} \\left(f_{\\frac{3}{2}}\\right)^{2} + 2 \\left(f_{\\frac{1}{2}}\\right)^{4} \\left(f_{1}\\right)^{4} + 6 \\left(f_{\\frac{1}{2}}\\right)^{4} \\left(f_{\\frac{3}{2}}\\right)^{4} + 4 \\left(f_{\\frac{1}{2}}\\right)^{2} \\left(f_{1}\\right)^{4} \\left(f_{\\frac{3}{2}}\\right)^{2} + 4 \\left(f_{\\frac{1}{2}}\\right)^{2} \\left(f_{\\frac{3}{2}}\\right)^{6} + \\left(f_{\\frac{3}{4}}\\right)^{8} + 4 \\left(f_{\\frac{3}{4}}\\right)^{6} \\left(f_{\\frac{7}{4}}\\right)^{2} + 2 \\left(f_{\\frac{3}{4}}\\right)^{4} \\left(f_{\\frac{5}{4}}\\right)^{4} + 6 \\left(f_{\\frac{3}{4}}\\right)^{4} \\left(f_{\\frac{7}{4}}\\right)^{4} + 4 \\left(f_{\\frac{3}{4}}\\right)^{2} \\left(f_{\\frac{5}{4}}\\right)^{4} \\left(f_{\\frac{7}{4}}\\right)^{2} + 4 \\left(f_{\\frac{3}{4}}\\right)^{2} \\left(f_{\\frac{7}{4}}\\right)^{6} + \\left(f_{1}\\right)^{8} + 2 \\left(f_{1}\\right)^{4} \\left(f_{\\frac{3}{2}}\\right)^{4} + \\left(f_{\\frac{5}{4}}\\right)^{8} + 2 \\left(f_{\\frac{5}{4}}\\right)^{4} \\left(f_{\\frac{7}{4}}\\right)^{4} + \\left(f_{\\frac{3}{2}}\\right)^{8} + \\left(f_{\\frac{7}{4}}\\right)^{8}$$"
      ],
      "text/plain": [
       "           8         6     2         4       4         4       2       2      \n",
       "f[7] = f[0]  + 4⋅f[0] ⋅f[1]  + 2⋅f[0] ⋅f[1/2]  + 4⋅f[0] ⋅f[1/2] ⋅f[3/2]  + 6⋅f\n",
       "\n",
       "   4     4         4       4         2       4     2         2       2     2  \n",
       "[0] ⋅f[1]  + 2⋅f[0] ⋅f[3/2]  + 4⋅f[0] ⋅f[1/2] ⋅f[1]  + 8⋅f[0] ⋅f[1/2] ⋅f[1] ⋅f\n",
       "\n",
       "     2         2     6         2     2       4         8           6       2  \n",
       "[3/2]  + 4⋅f[0] ⋅f[1]  + 4⋅f[0] ⋅f[1] ⋅f[3/2]  + f[1/4]  + 4⋅f[1/4] ⋅f[5/4]  +\n",
       "\n",
       "         4       4           4       2       2           4       4           4\n",
       " 2⋅f[1/4] ⋅f[3/4]  + 4⋅f[1/4] ⋅f[3/4] ⋅f[7/4]  + 6⋅f[1/4] ⋅f[5/4]  + 2⋅f[1/4] \n",
       "\n",
       "       4           2       4       2           2       2       2       2      \n",
       "⋅f[7/4]  + 4⋅f[1/4] ⋅f[3/4] ⋅f[5/4]  + 8⋅f[1/4] ⋅f[3/4] ⋅f[5/4] ⋅f[7/4]  + 4⋅f\n",
       "\n",
       "     2       6           2       2       4         8           6       2      \n",
       "[1/4] ⋅f[5/4]  + 4⋅f[1/4] ⋅f[5/4] ⋅f[7/4]  + f[1/2]  + 4⋅f[1/2] ⋅f[3/2]  + 2⋅f\n",
       "\n",
       "     4     4           4       4           2     4       2           2       6\n",
       "[1/2] ⋅f[1]  + 6⋅f[1/2] ⋅f[3/2]  + 4⋅f[1/2] ⋅f[1] ⋅f[3/2]  + 4⋅f[1/2] ⋅f[3/2] \n",
       "\n",
       "         8           6       2           4       4           4       4        \n",
       " + f[3/4]  + 4⋅f[3/4] ⋅f[7/4]  + 2⋅f[3/4] ⋅f[5/4]  + 6⋅f[3/4] ⋅f[7/4]  + 4⋅f[3\n",
       "\n",
       "   2       4       2           2       6       8         4       4         8  \n",
       "/4] ⋅f[5/4] ⋅f[7/4]  + 4⋅f[3/4] ⋅f[7/4]  + f[1]  + 2⋅f[1] ⋅f[3/2]  + f[5/4]  +\n",
       "\n",
       "         4       4         8         8\n",
       " 2⋅f[5/4] ⋅f[7/4]  + f[3/2]  + f[7/4] "
      ]
     },
     "execution_count": 95,
     "metadata": {},
     "output_type": "execute_result"
    }
   ],
   "source": [
    "factored_recurrence_eq.subs(n,3)"
   ]
  },
  {
   "cell_type": "markdown",
   "metadata": {},
   "source": [
    "## Unfolding a recurrence with generic coefficients"
   ]
  },
  {
   "cell_type": "code",
   "execution_count": 4,
   "metadata": {
    "collapsed": false
   },
   "outputs": [
    {
     "data": {
      "image/png": "[encoded data removed]",
      "text/latex": [
       "$$n s_{n} = \\left(n + 1\\right) s_{n - 1} + a_{n}$$"
      ],
      "text/plain": [
       "n⋅s[n] = (n + 1)⋅s[n - 1] + a[n]"
      ]
     },
     "execution_count": 4,
     "metadata": {},
     "output_type": "execute_result"
    }
   ],
   "source": [
    "s = IndexedBase('s')\n",
    "a = IndexedBase('a')\n",
    "swaps_recurrence = Eq(n*s[n],(n+1)*s[n-1]+a[n])\n",
    "swaps_recurrence"
   ]
  },
  {
   "cell_type": "code",
   "execution_count": 5,
   "metadata": {
    "collapsed": true
   },
   "outputs": [],
   "source": [
    "boundary_conditions = {s[0]:Integer(0)}\n",
    "swaps_recurrence_spec=dict(recurrence_eq=swaps_recurrence, indexed=s, \n",
    "                               index=n, terms_cache=boundary_conditions)"
   ]
  },
  {
   "cell_type": "code",
   "execution_count": 6,
   "metadata": {
    "collapsed": true
   },
   "outputs": [],
   "source": [
    "unfolded = do_unfolding_steps(swaps_recurrence_spec, 4)"
   ]
  },
  {
   "cell_type": "code",
   "execution_count": 7,
   "metadata": {
    "collapsed": false
   },
   "outputs": [
    {
     "data": {
      "image/png": "[encoded data removed]",
      "text/latex": [
       "$$n s_{n} = a_{n} + \\frac{1}{n - 1} \\left(n + 1\\right) \\left(\\frac{n}{n - 2} \\left(a_{n - 2} + \\frac{1}{n - 3} \\left(n - 1\\right) \\left(a_{n - 3} + \\frac{1}{n - 4} \\left(n - 2\\right) \\left(\\left(n - 3\\right) s_{n - 5} + a_{n - 4}\\right)\\right)\\right) + a_{n - 1}\\right)$$"
      ],
      "text/plain": [
       "                        ⎛  ⎛                   ⎛           (n - 2)⋅((n - 3)⋅s[\n",
       "                        ⎜  ⎜           (n - 1)⋅⎜a[n - 3] + ───────────────────\n",
       "                        ⎜  ⎜                   ⎝                           n -\n",
       "                        ⎜n⋅⎜a[n - 2] + ───────────────────────────────────────\n",
       "                        ⎜  ⎝                                     n - 3        \n",
       "                (n + 1)⋅⎜─────────────────────────────────────────────────────\n",
       "                        ⎝                                  n - 2              \n",
       "n⋅s[n] = a[n] + ──────────────────────────────────────────────────────────────\n",
       "                                                            n - 1             \n",
       "\n",
       "n - 5] + a[n - 4])⎞⎞           ⎞\n",
       "──────────────────⎟⎟           ⎟\n",
       " 4                ⎠⎟           ⎟\n",
       "───────────────────⎟           ⎟\n",
       "                   ⎠           ⎟\n",
       "──────────────────── + a[n - 1]⎟\n",
       "                               ⎠\n",
       "────────────────────────────────\n",
       "                                "
      ]
     },
     "execution_count": 7,
     "metadata": {},
     "output_type": "execute_result"
    }
   ],
   "source": [
    "recurrence_eq = project_recurrence_spec(unfolded, recurrence_eq=True)\n",
    "recurrence_eq"
   ]
  },
  {
   "cell_type": "code",
   "execution_count": 8,
   "metadata": {
    "collapsed": false
   },
   "outputs": [
    {
     "data": {
      "image/png": "[encoded data removed]",
      "text/latex": [
       "$$n s_{n} = \\frac{n^{5} s_{n - 5}}{n^{4} - 10 n^{3} + 35 n^{2} - 50 n + 24} + \\frac{n^{4} a_{n - 4}}{n^{4} - 10 n^{3} + 35 n^{2} - 50 n + 24} - \\frac{5 n^{4} s_{n - 5}}{n^{4} - 10 n^{3} + 35 n^{2} - 50 n + 24} - \\frac{2 n^{3} a_{n - 4}}{n^{4} - 10 n^{3} + 35 n^{2} - 50 n + 24} + \\frac{5 n^{3} s_{n - 5}}{n^{4} - 10 n^{3} + 35 n^{2} - 50 n + 24} + \\frac{n^{3} a_{n - 3}}{n^{3} - 6 n^{2} + 11 n - 6} - \\frac{n^{2} a_{n - 4}}{n^{4} - 10 n^{3} + 35 n^{2} - 50 n + 24} + \\frac{5 n^{2} s_{n - 5}}{n^{4} - 10 n^{3} + 35 n^{2} - 50 n + 24} + \\frac{n^{2} a_{n - 2}}{n^{2} - 3 n + 2} + \\frac{2 n a_{n - 4}}{n^{4} - 10 n^{3} + 35 n^{2} - 50 n + 24} - \\frac{6 n s_{n - 5}}{n^{4} - 10 n^{3} + 35 n^{2} - 50 n + 24} - \\frac{n a_{n - 3}}{n^{3} - 6 n^{2} + 11 n - 6} + \\frac{n a_{n - 2}}{n^{2} - 3 n + 2} + \\frac{n a_{n - 1}}{n - 1} + a_{n} + \\frac{a_{n - 1}}{n - 1}$$"
      ],
      "text/plain": [
       "                   5                                4                         \n",
       "                  n ⋅s[n - 5]                      n ⋅a[n - 4]                \n",
       "n⋅s[n] = ────────────────────────────── + ────────────────────────────── - ───\n",
       "          4       3       2                4       3       2                4 \n",
       "         n  - 10⋅n  + 35⋅n  - 50⋅n + 24   n  - 10⋅n  + 35⋅n  - 50⋅n + 24   n  \n",
       "\n",
       "        4                                3                                3   \n",
       "     5⋅n ⋅s[n - 5]                    2⋅n ⋅a[n - 4]                    5⋅n ⋅s[\n",
       "─────────────────────────── - ────────────────────────────── + ───────────────\n",
       "      3       2                4       3       2                4       3     \n",
       "- 10⋅n  + 35⋅n  - 50⋅n + 24   n  - 10⋅n  + 35⋅n  - 50⋅n + 24   n  - 10⋅n  + 35\n",
       "\n",
       "                       3                           2                          \n",
       "n - 5]                n ⋅a[n - 3]                 n ⋅a[n - 4]                 \n",
       "─────────────── + ──────────────────── - ────────────────────────────── + ────\n",
       "  2                3      2               4       3       2                4  \n",
       "⋅n  - 50⋅n + 24   n  - 6⋅n  + 11⋅n - 6   n  - 10⋅n  + 35⋅n  - 50⋅n + 24   n  -\n",
       "\n",
       "       2                      2                                               \n",
       "    5⋅n ⋅s[n - 5]            n ⋅a[n - 2]             2⋅n⋅a[n - 4]             \n",
       "────────────────────────── + ──────────── + ────────────────────────────── - ─\n",
       "     3       2                2              4       3       2                \n",
       " 10⋅n  + 35⋅n  - 50⋅n + 24   n  - 3⋅n + 2   n  - 10⋅n  + 35⋅n  - 50⋅n + 24   n\n",
       "\n",
       "                                                                              \n",
       "        6⋅n⋅s[n - 5]                 n⋅a[n - 3]         n⋅a[n - 2]    n⋅a[n - \n",
       "───────────────────────────── - ──────────────────── + ──────────── + ────────\n",
       "4       3       2                3      2               2               n - 1 \n",
       "  - 10⋅n  + 35⋅n  - 50⋅n + 24   n  - 6⋅n  + 11⋅n - 6   n  - 3⋅n + 2           \n",
       "\n",
       "                    \n",
       "1]          a[n - 1]\n",
       "── + a[n] + ────────\n",
       "             n - 1  \n",
       "                    "
      ]
     },
     "execution_count": 8,
     "metadata": {},
     "output_type": "execute_result"
    }
   ],
   "source": [
    "factored_recurrence_eq = project_recurrence_spec(factor_rhs_unfolded_rec(unfolded), recurrence_eq=True)\n",
    "factored_recurrence_eq"
   ]
  },
  {
   "cell_type": "code",
   "execution_count": 9,
   "metadata": {
    "collapsed": false
   },
   "outputs": [
    {
     "data": {
      "image/png": "[encoded data removed]",
      "text/latex": [
       "$$\\frac{n^{3} a_{n - 3}}{n^{3} - 6 n^{2} + 11 n - 6} + \\frac{n^{2} a_{n - 2}}{n^{2} - 3 n + 2} - \\frac{n a_{n - 3}}{n^{3} - 6 n^{2} + 11 n - 6} + \\frac{n a_{n - 2}}{n^{2} - 3 n + 2} + \\frac{n a_{n - 1}}{n - 1} + \\left(\\frac{n^{4}}{n^{4} - 10 n^{3} + 35 n^{2} - 50 n + 24} - \\frac{2 n^{3}}{n^{4} - 10 n^{3} + 35 n^{2} - 50 n + 24} - \\frac{n^{2}}{n^{4} - 10 n^{3} + 35 n^{2} - 50 n + 24} + \\frac{2 n}{n^{4} - 10 n^{3} + 35 n^{2} - 50 n + 24}\\right) a_{n - 4} + \\left(\\frac{n^{5}}{n^{4} - 10 n^{3} + 35 n^{2} - 50 n + 24} - \\frac{5 n^{4}}{n^{4} - 10 n^{3} + 35 n^{2} - 50 n + 24} + \\frac{5 n^{3}}{n^{4} - 10 n^{3} + 35 n^{2} - 50 n + 24} + \\frac{5 n^{2}}{n^{4} - 10 n^{3} + 35 n^{2} - 50 n + 24} - \\frac{6 n}{n^{4} - 10 n^{3} + 35 n^{2} - 50 n + 24}\\right) s_{n - 5} + a_{n} + \\frac{a_{n - 1}}{n - 1}$$"
      ],
      "text/plain": [
       "     3                  2                                                     \n",
       "    n ⋅a[n - 3]        n ⋅a[n - 2]         n⋅a[n - 3]         n⋅a[n - 2]    n⋅\n",
       "──────────────────── + ──────────── - ──────────────────── + ──────────── + ──\n",
       " 3      2               2              3      2               2               \n",
       "n  - 6⋅n  + 11⋅n - 6   n  - 3⋅n + 2   n  - 6⋅n  + 11⋅n - 6   n  - 3⋅n + 2     \n",
       "\n",
       "           ⎛               4                                 3                \n",
       "a[n - 1]   ⎜              n                               2⋅n                 \n",
       "──────── + ⎜────────────────────────────── - ────────────────────────────── - \n",
       "n - 1      ⎜ 4       3       2                4       3       2               \n",
       "           ⎝n  - 10⋅n  + 35⋅n  - 50⋅n + 24   n  - 10⋅n  + 35⋅n  - 50⋅n + 24   \n",
       "\n",
       "               2                                               ⎞            ⎛ \n",
       "              n                               2⋅n              ⎟            ⎜ \n",
       "────────────────────────────── + ──────────────────────────────⎟⋅a[n - 4] + ⎜─\n",
       " 4       3       2                4       3       2            ⎟            ⎜ \n",
       "n  - 10⋅n  + 35⋅n  - 50⋅n + 24   n  - 10⋅n  + 35⋅n  - 50⋅n + 24⎠            ⎝n\n",
       "\n",
       "              5                                 4                             \n",
       "             n                               5⋅n                              \n",
       "───────────────────────────── - ────────────────────────────── + ─────────────\n",
       "4       3       2                4       3       2                4       3   \n",
       "  - 10⋅n  + 35⋅n  - 50⋅n + 24   n  - 10⋅n  + 35⋅n  - 50⋅n + 24   n  - 10⋅n  + \n",
       "\n",
       "   3                                2                                         \n",
       "5⋅n                              5⋅n                              6⋅n         \n",
       "───────────────── + ────────────────────────────── - ─────────────────────────\n",
       "    2                4       3       2                4       3       2       \n",
       "35⋅n  - 50⋅n + 24   n  - 10⋅n  + 35⋅n  - 50⋅n + 24   n  - 10⋅n  + 35⋅n  - 50⋅n\n",
       "\n",
       "     ⎞                           \n",
       "     ⎟                   a[n - 1]\n",
       "─────⎟⋅s[n - 5] + a[n] + ────────\n",
       "     ⎟                    n - 1  \n",
       " + 24⎠                           "
      ]
     },
     "execution_count": 9,
     "metadata": {},
     "output_type": "execute_result"
    }
   ],
   "source": [
    "factored_recurrence_eq.rhs.collect(s[n-5]).collect(a[n-4])"
   ]
  },
  {
   "cell_type": "code",
   "execution_count": 10,
   "metadata": {
    "collapsed": false
   },
   "outputs": [
    {
     "data": {
      "image/png": "[encoded data removed]",
      "text/latex": [
       "$$5 s_{5} = 15 a_{1} + 5 a_{2} + \\frac{5 a_{3}}{2} + \\frac{3 a_{4}}{2} + a_{5} + 30 s_{0}$$"
      ],
      "text/plain": [
       "                            5⋅a[3]   3⋅a[4]                 \n",
       "5⋅s[5] = 15⋅a[1] + 5⋅a[2] + ────── + ────── + a[5] + 30⋅s[0]\n",
       "                              2        2                    "
      ]
     },
     "execution_count": 10,
     "metadata": {},
     "output_type": "execute_result"
    }
   ],
   "source": [
    "factored_recurrence_eq.subs(n,5)"
   ]
  },
  {
   "cell_type": "code",
   "execution_count": 11,
   "metadata": {
    "collapsed": false
   },
   "outputs": [
    {
     "data": {
      "image/png": "[encoded data removed]",
      "text/latex": [
       "$$5 s_{5} = 15 a_{1} + 5 a_{2} + \\frac{5 a_{3}}{2} + \\frac{3 a_{4}}{2} + a_{5} + 30 s_{0}$$"
      ],
      "text/plain": [
       "                            5⋅a[3]   3⋅a[4]                 \n",
       "5⋅s[5] = 15⋅a[1] + 5⋅a[2] + ────── + ────── + a[5] + 30⋅s[0]\n",
       "                              2        2                    "
      ]
     },
     "execution_count": 11,
     "metadata": {},
     "output_type": "execute_result"
    }
   ],
   "source": [
    "recurrence_eq.subs(n, 5)"
   ]
  },
  {
   "cell_type": "code",
   "execution_count": 12,
   "metadata": {
    "collapsed": false
   },
   "outputs": [
    {
     "data": {
      "image/png": "[encoded data removed]",
      "text/latex": [
       "$$5 s_{5} = 30 s_{0} + 2$$"
      ],
      "text/plain": [
       "5⋅s[5] = 30⋅s[0] + 2"
      ]
     },
     "execution_count": 12,
     "metadata": {},
     "output_type": "execute_result"
    }
   ],
   "source": [
    "def additional_term(n): return (2*Integer(n)-3)/6\n",
    "\n",
    "as_dict = {a[n]:additional_term(n) for n in range(1,6)}\n",
    "\n",
    "recurrence_eq.subs(n, 5).subs(as_dict)"
   ]
  },
  {
   "cell_type": "markdown",
   "metadata": {},
   "source": [
    "---\n",
    "## some attempts on using unevaluated `Subs` objects"
   ]
  },
  {
   "cell_type": "code",
   "execution_count": 42,
   "metadata": {
    "collapsed": false
   },
   "outputs": [
    {
     "data": {
      "image/png": "[encoded data removed]",
      "text/latex": [
       "$$\\left. f_{n} = f_{n - 2} + f_{n - 1} \\right|_{\\substack{ f_{n - 1}=f_{n - 3} + f_{n - 2} }}$$"
      ],
      "text/plain": [
       "(f[n] = f[n - 2] + f[n - 1])│                            \n",
       "                            │f[n - 1]=f[n - 3] + f[n - 2]"
      ]
     },
     "execution_count": 42,
     "metadata": {},
     "output_type": "execute_result"
    }
   ],
   "source": [
    "n2_subs = Subs(fibonacci_recurrence, f[n-1], f[n-3]+f[n-2])\n",
    "n2_subs"
   ]
  },
  {
   "cell_type": "code",
   "execution_count": 43,
   "metadata": {
    "collapsed": false
   },
   "outputs": [
    {
     "data": {
      "image/png": "[encoded data removed]",
      "text/latex": [
       "$$\\left. \\left. f_{n} = f_{n - 2} + f_{n - 1} \\right|_{\\substack{ f_{n - 1}=f_{n - 3} + f_{n - 2} }} \\right|_{\\substack{ f_{n - 2}=f_{n - 4} + f_{n - 3} }}$$"
      ],
      "text/plain": [
       "⎛(f[n] = f[n - 2] + f[n - 1])│                            ⎞│                  \n",
       "⎝                            │f[n - 1]=f[n - 3] + f[n - 2]⎠│f[n - 2]=f[n - 4] \n",
       "\n",
       "          \n",
       "+ f[n - 3]"
      ]
     },
     "execution_count": 43,
     "metadata": {},
     "output_type": "execute_result"
    }
   ],
   "source": [
    "n1_subs = Subs(n2_subs, f[n-2], f[n-4]+f[n-3])\n",
    "n1_subs"
   ]
  },
  {
   "cell_type": "code",
   "execution_count": 44,
   "metadata": {
    "collapsed": false
   },
   "outputs": [
    {
     "data": {
      "image/png": "[encoded data removed]",
      "text/latex": [
       "$$f_{n} = 2 f_{n - 4} + 3 f_{n - 3}$$"
      ],
      "text/plain": [
       "f[n] = 2⋅f[n - 4] + 3⋅f[n - 3]"
      ]
     },
     "execution_count": 44,
     "metadata": {},
     "output_type": "execute_result"
    }
   ],
   "source": [
    "n1_subs.doit()"
   ]
  },
  {
   "cell_type": "code",
   "execution_count": 35,
   "metadata": {
    "collapsed": false
   },
   "outputs": [
    {
     "data": {
      "image/png": "[encoded data removed]",
      "text/latex": [
       "$$\\left ( \\left. f_{n} = f_{n - 2} + f_{n - 1} \\right|_{\\substack{ f_{n - 1}=f_{n - 3} + f_{n - 2}\\\\ f_{n - 2}=f_{n - 4} + f_{n - 3} }}, \\quad f_{n} = 2 f_{n - 4} + 3 f_{n - 3}\\right )$$"
      ],
      "text/plain": [
       "⎛(f[n] = f[n - 2] + f[n - 1])│                                                \n",
       "⎝                            │f[n - 1]=f[n - 3] + f[n - 2], f[n - 2]=f[n - 4] \n",
       "\n",
       "          , f[n] = 2⋅f[n - 4] + 3⋅f[n - 3]⎞\n",
       "+ f[n - 3]                                ⎠"
      ]
     },
     "execution_count": 35,
     "metadata": {},
     "output_type": "execute_result"
    }
   ],
   "source": [
    "n_subs = Subs(fibonacci_recurrence, [f[n-1],f[n-2]], [f[n-3]+f[n-2], f[n-4]+f[n-3]], simultaneous=True)\n",
    "n_subs, n_subs.doit()"
   ]
  },
  {
   "cell_type": "code",
   "execution_count": 36,
   "metadata": {
    "collapsed": false
   },
   "outputs": [
    {
     "data": {
      "image/png": "[encoded data removed]",
      "text/latex": [
       "$$\\left ( f_{n} = f_{n - 2} + f_{n - 1}, \\quad \\left ( f_{n - 1}, \\quad f_{n - 2}\\right ), \\quad \\left ( f_{n - 3} + f_{n - 2}, \\quad f_{n - 4} + f_{n - 3}\\right )\\right )$$"
      ],
      "text/plain": [
       "(f[n] = f[n - 2] + f[n - 1], (f[n - 1], f[n - 2]), (f[n - 3] + f[n - 2], f[n -\n",
       " 4] + f[n - 3]))"
      ]
     },
     "execution_count": 36,
     "metadata": {},
     "output_type": "execute_result"
    }
   ],
   "source": [
    "n_subs.expr, n_subs.variables, n_subs.point"
   ]
  },
  {
   "cell_type": "code",
   "execution_count": 37,
   "metadata": {
    "collapsed": false
   },
   "outputs": [
    {
     "data": {
      "image/png": "[encoded data removed]",
      "text/latex": [
       "$$\\left ( f_{n} = f_{n - 2} + f_{n - 1}, \\quad \\left ( f_{n - 1}, \\quad f_{n - 2}\\right ), \\quad \\left ( f_{n - 3} + f_{n - 2}, \\quad f_{n - 4} + f_{n - 3}\\right )\\right )$$"
      ],
      "text/plain": [
       "(f[n] = f[n - 2] + f[n - 1], (f[n - 1], f[n - 2]), (f[n - 3] + f[n - 2], f[n -\n",
       " 4] + f[n - 3]))"
      ]
     },
     "execution_count": 37,
     "metadata": {},
     "output_type": "execute_result"
    }
   ],
   "source": [
    "n_subs.args"
   ]
  },
  {
   "cell_type": "code",
   "execution_count": 38,
   "metadata": {
    "collapsed": true
   },
   "outputs": [],
   "source": [
    "def do_simultaneous_subs(subs_term):\n",
    "    expr_term, variables, points, *_ = subs_term.args\n",
    "    substitutions = {k:v for k,v in zip(variables, points)}\n",
    "    return expr_term.subs(substitutions, simultaneous=True)"
   ]
  },
  {
   "cell_type": "code",
   "execution_count": 39,
   "metadata": {
    "collapsed": false
   },
   "outputs": [
    {
     "data": {
      "image/png": "[encoded data removed]",
      "text/latex": [
       "$$f_{n} = f_{n - 4} + 2 f_{n - 3} + f_{n - 2}$$"
      ],
      "text/plain": [
       "f[n] = f[n - 4] + 2⋅f[n - 3] + f[n - 2]"
      ]
     },
     "execution_count": 39,
     "metadata": {},
     "output_type": "execute_result"
    }
   ],
   "source": [
    "do_simultaneous_subs(n_subs)"
   ]
  },
  {
   "cell_type": "code",
   "execution_count": 40,
   "metadata": {
    "collapsed": false
   },
   "outputs": [
    {
     "data": {
      "image/png": "[encoded data removed]",
      "text/latex": [
       "$$\\left. f_{n} = f_{n - 2} + f_{n - 1} \\right|_{\\substack{ f_{n - 1}=f_{n - 3} + f_{n - 2} }}$$"
      ],
      "text/plain": [
       "(f[n] = f[n - 2] + f[n - 1])│                            \n",
       "                            │f[n - 1]=f[n - 3] + f[n - 2]"
      ]
     },
     "execution_count": 40,
     "metadata": {},
     "output_type": "execute_result"
    }
   ],
   "source": [
    "n1_subs.expr"
   ]
  },
  {
   "cell_type": "code",
   "execution_count": 41,
   "metadata": {
    "collapsed": false
   },
   "outputs": [
    {
     "data": {
      "image/png": "[encoded data removed]",
      "text/latex": [
       "$$\\left ( \\left. \\left. f_{n} = f_{n - 2} + f_{n - 1} \\right|_{\\substack{ f_{n - 1}=f_{n - 3} + f_{n - 2} }} \\right|_{\\substack{ f_{n - 2}=f_{n - 4} + f_{n - 3} }}, \\quad \\left. f_{n} = f_{n - 4} + f_{n - 3} + f_{n - 1} \\right|_{\\substack{ f_{n - 1}=f_{n - 4} + 2 f_{n - 3} }}, \\quad \\left [ f_{n} = f_{n - 2} + f_{n - 1}, \\quad \\left ( f_{n - 1}\\right ), \\quad \\left ( f_{n - 3} + f_{n - 2}\\right ), \\quad \\left ( f_{n - 2}\\right ), \\quad \\left ( f_{n - 4} + f_{n - 3}\\right )\\right ]\\right )$$"
      ],
      "text/plain": [
       "⎛⎛(f[n] = f[n - 2] + f[n - 1])│                            ⎞│                 \n",
       "⎝⎝                            │f[n - 1]=f[n - 3] + f[n - 2]⎠│f[n - 2]=f[n - 4]\n",
       "\n",
       "           , (f[n] = f[n - 4] + f[n - 3] + f[n - 1])│                         \n",
       " + f[n - 3]                                         │f[n - 1]=f[n - 4] + 2⋅f[n\n",
       "\n",
       "     , [f[n] = f[n - 2] + f[n - 1], (f[n - 1],), (f[n - 3] + f[n - 2],), (f[n \n",
       " - 3]                                                                         \n",
       "\n",
       "- 2],), (f[n - 4] + f[n - 3],)]⎞\n",
       "                               ⎠"
      ]
     },
     "execution_count": 41,
     "metadata": {},
     "output_type": "execute_result"
    }
   ],
   "source": [
    "n1_subs, do_simultaneous_subs(n1_subs), flatten(n1_subs.args, cls=Subs)"
   ]
  },
  {
   "cell_type": "code",
   "execution_count": 42,
   "metadata": {
    "collapsed": false
   },
   "outputs": [
    {
     "data": {
      "image/png": "[encoded data removed]",
      "text/latex": [
       "$$\\left ( ITE(Mod(n, 2) == 1, n + 1, n), \\quad 4, \\quad 4\\right )$$"
      ],
      "text/plain": [
       "(ITE(Mod(n, 2) == 1, n + 1, n), 4, 4)"
      ]
     },
     "execution_count": 42,
     "metadata": {},
     "output_type": "execute_result"
    }
   ],
   "source": [
    "ite_term = ITE(Eq(Mod(n,2),1), n+1, n)\n",
    "my_lambda_subs = Lambda(n, ite_term)\n",
    "ite_term,ite_term.subs(n,3),my_lambda_subs(3)"
   ]
  },
  {
   "cell_type": "code",
   "execution_count": 43,
   "metadata": {
    "collapsed": false
   },
   "outputs": [
    {
     "data": {
      "image/png": "[encoded data removed]",
      "text/latex": [
       "$$f_{2 n + 1} = ITE(Mod(n, 2) == 1, Subs(f[n]**2 + f[n + 1]**2, (f[n],), (2,)), Subs(f[n]**2 + f[n + 1]**2, (f[n + 1],), (3,)))$$"
      ],
      "text/plain": [
       "f[2*n + 1] = ITE(Mod(n, 2) == 1, Subs(f[n]**2 + f[n + 1]**2, (f[n],), (2,)), S\n",
       "ubs(f[n]**2 + f[n + 1]**2, (f[n + 1],), (3,)))"
      ]
     },
     "execution_count": 43,
     "metadata": {},
     "output_type": "execute_result"
    }
   ],
   "source": [
    "power_fib = Eq(f[2*n+1],ITE(Eq(Mod(n,2),1), Subs(f[n]**2+f[n+1]**2, f[n], 2), Subs(f[n]**2+f[n+1]**2, f[n+1], 3)))\n",
    "power_fib"
   ]
  },
  {
   "cell_type": "code",
   "execution_count": 44,
   "metadata": {
    "collapsed": false
   },
   "outputs": [
    {
     "data": {
      "image/png": "[encoded data removed]",
      "text/latex": [
       "$$\\left ( f_{15} = \\left. \\left(f_{7}\\right)^{2} + \\left(f_{8}\\right)^{2} \\right|_{\\substack{ f_{7}=2 }}, \\quad \\left. \\left(f_{1}\\right)^{2} + \\left(f_{2}\\right)^{2} \\right|_{\\substack{ f_{1}=2 }}\\right )$$"
      ],
      "text/plain": [
       "⎛        ⎛    2       2⎞│        ⎛    2       2⎞│      ⎞\n",
       "⎝f[15] = ⎝f[7]  + f[8] ⎠│f[7]=2, ⎝f[1]  + f[2] ⎠│f[1]=2⎠"
      ]
     },
     "execution_count": 44,
     "metadata": {},
     "output_type": "execute_result"
    }
   ],
   "source": [
    "power_fib.subs({n:7}), power_fib.subs({n:(n-1)/2}).rhs.subs({n:3})"
   ]
  },
  {
   "cell_type": "code",
   "execution_count": 45,
   "metadata": {
    "collapsed": false
   },
   "outputs": [
    {
     "data": {
      "image/png": "[encoded data removed]",
      "text/latex": [
       "$$\\left ( \\frac{Dummy_{273}}{2} - \\frac{1}{2}, \\quad \\frac{n}{2} - \\frac{1}{2}\\right )$$"
      ],
      "text/plain": [
       "⎛Dummy₂₇₃   1  n   1⎞\n",
       "⎜──────── - ─, ─ - ─⎟\n",
       "⎝   2       2  2   2⎠"
      ]
     },
     "execution_count": 45,
     "metadata": {},
     "output_type": "execute_result"
    }
   ],
   "source": [
    "d = Dummy()\n",
    "sol = solve(Eq(2*n+1,d),n)[0]\n",
    "sol, sol.subs(d,n)\n"
   ]
  },
  {
   "cell_type": "code",
   "execution_count": 46,
   "metadata": {
    "collapsed": false
   },
   "outputs": [
    {
     "data": {
      "image/png": "[encoded data removed]",
      "text/latex": [
       "$$f_{n} = 2 f_{n - 4} + 3 f_{n - 3}$$"
      ],
      "text/plain": [
       "f[n] = 2⋅f[n - 4] + 3⋅f[n - 3]"
      ]
     },
     "execution_count": 46,
     "metadata": {},
     "output_type": "execute_result"
    }
   ],
   "source": [
    "n_subs.doit()"
   ]
  },
  {
   "cell_type": "code",
   "execution_count": 47,
   "metadata": {
    "collapsed": false
   },
   "outputs": [
    {
     "data": {
      "image/png": "[encoded data removed]",
      "text/latex": [
       "$$\\left ( f_{n} = f_{n - 2} + f_{n - 1}, \\quad \\left ( f_{n - 1}, \\quad f_{n - 2}\\right ), \\quad \\left ( f_{n - 3} + f_{n - 2}, \\quad f_{n - 4} + f_{n - 3}\\right )\\right )$$"
      ],
      "text/plain": [
       "(f[n] = f[n - 2] + f[n - 1], (f[n - 1], f[n - 2]), (f[n - 3] + f[n - 2], f[n -\n",
       " 4] + f[n - 3]))"
      ]
     },
     "execution_count": 47,
     "metadata": {},
     "output_type": "execute_result"
    }
   ],
   "source": [
    "n_subs.args"
   ]
  }
 ],
 "metadata": {
  "kernelspec": {
   "display_name": "Python 3",
   "language": "python",
   "name": "python3"
  },
  "language_info": {
   "codemirror_mode": {
    "name": "ipython",
    "version": 3
   },
   "file_extension": ".py",
   "mimetype": "text/x-python",
   "name": "python",
   "nbconvert_exporter": "python",
   "pygments_lexer": "ipython3",
   "version": "3.5.1"
  }
 },
 "nbformat": 4,
 "nbformat_minor": 0
}
