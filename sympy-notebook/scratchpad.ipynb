{
 "cells": [
  {
   "cell_type": "code",
   "execution_count": 1,
   "metadata": {
    "collapsed": true
   },
   "outputs": [],
   "source": [
    "import matplotlib.pyplot as plt\n",
    "import matplotlib.patches as patches\n",
    "\n",
    "import sys\n",
    "import sympy\n",
    "import math\n",
    "from sympy import *\n",
    "from sympy.abc import x, n, z, t, k\n",
    "from sympy.core.cache import *\n",
    "    \n",
    "init_printing(use_latex='mathjax') # for nice printing, a-la' TeX\n",
    "\n",
    "sys.setrecursionlimit(100000)\n",
    "\n",
    "plt.rcParams['figure.figsize'] = (10.0, 10.0)"
   ]
  },
  {
   "cell_type": "code",
   "execution_count": 2,
   "metadata": {
    "collapsed": true
   },
   "outputs": [],
   "source": [
    "c = IndexedBase('c')"
   ]
  },
  {
   "cell_type": "code",
   "execution_count": 9,
   "metadata": {
    "collapsed": false
   },
   "outputs": [
    {
     "data": {
      "text/latex": [
       "$$\\left ( c, \\quad n, \\quad 4\\right )$$"
      ],
      "text/plain": [
       "(c, n, 4)"
      ]
     },
     "execution_count": 9,
     "metadata": {},
     "output_type": "execute_result"
    }
   ],
   "source": [
    "(1*c[n,4]).args"
   ]
  },
  {
   "cell_type": "code",
   "execution_count": 3,
   "metadata": {
    "collapsed": false
   },
   "outputs": [
    {
     "data": {
      "text/latex": [
       "$$\\left \\{ c_{0,0} : c_{3,3}, \\quad c_{1,0} : c_{3,3}, \\quad c_{1,1} : c_{3,3}, \\quad c_{2,0} : 2 c_{3,3}, \\quad c_{2,1} : 2 c_{3,3}, \\quad c_{2,2} : c_{3,3}, \\quad c_{3,0} : 5 c_{3,3}, \\quad c_{3,1} : 5 c_{3,3}, \\quad c_{3,2} : 3 c_{3,3}\\right \\}$$"
      ],
      "text/plain": [
       "{c[0, 0]: c[3, 3], c[1, 0]: c[3, 3], c[1, 1]: c[3, 3], c[2, 0]: 2⋅c[3, 3], c[2\n",
       ", 1]: 2⋅c[3, 3], c[2, 2]: c[3, 3], c[3, 0]: 5⋅c[3, 3], c[3, 1]: 5⋅c[3, 3], c[3\n",
       ", 2]: 3⋅c[3, 3]}"
      ]
     },
     "execution_count": 3,
     "metadata": {},
     "output_type": "execute_result"
    }
   ],
   "source": [
    "eqs=Tuple(#Eq(c[0,0],c[3,3]),\n",
    "      Eq(c[1,0],c[0,0]),\n",
    "      Eq(c[1,1],c[0,0]),\n",
    "      Eq(c[2,0],c[1,0]+c[1,1]),\n",
    "      Eq(c[2,1],c[1,0]+c[1,1]),\n",
    "      Eq(c[2,2],c[1,1]),\n",
    "        Eq(c[3,0],c[2,0]+c[2,1]+c[2,2]),\n",
    "        Eq(c[3,1],c[2,0]+c[2,1]+c[2,2]),\n",
    "        Eq(c[3,2],c[2,1]+c[2,2]),\n",
    "        Eq(c[3,3],c[0,0]),\n",
    "    )\n",
    "solve(eqs, eqs.atoms(Indexed) )\n",
    "      #[c[0,0],c[1,0],c[2,0],c[3,0]], check=True)\n",
    "      #exclude=[c[3,0],c[3,1],c[3,2],c[3,3]], check=True)\n",
    "      #[c[0,0],c[1,1],c[2,2],c[3,3]])\n",
    "      #check=True, implicit=True)"
   ]
  },
  {
   "cell_type": "code",
   "execution_count": 4,
   "metadata": {
    "collapsed": false
   },
   "outputs": [
    {
     "data": {
      "text/latex": [
       "$$\\left [ \\left \\{ c_{3,0} : c_{4,1} - c_{4,2}, \\quad c_{3,1} : c_{4,2} - c_{4,3}, \\quad c_{3,2} : c_{4,3} - c_{4,4}, \\quad c_{3,3} : c_{4,4}, \\quad c_{4,0} : c_{4,1}\\right \\}\\right ]$$"
      ],
      "text/plain": [
       "[{c[3, 0]: c[4, 1] - c[4, 2], c[3, 1]: c[4, 2] - c[4, 3], c[3, 2]: c[4, 3] - c\n",
       "[4, 4], c[3, 3]: c[4, 4], c[4, 0]: c[4, 1]}]"
      ]
     },
     "execution_count": 4,
     "metadata": {},
     "output_type": "execute_result"
    }
   ],
   "source": [
    "solve([#Eq(c[0,0],c[3,3]),\n",
    "      Eq(c[4,0],c[3,0]+c[3,1]+c[3,2]+c[3,3]),\n",
    "      Eq(c[4,1],c[3,0]+c[3,1]+c[3,2]+c[3,3]),\n",
    "      Eq(c[4,2],c[3,1]+c[3,2]+c[3,3]),\n",
    "      Eq(c[4,3],c[3,2]+c[3,3]),\n",
    "      Eq(c[4,4],c[3,3]),  \n",
    "    ], check=True\n",
    "      #[c[0,0],c[1,0],c[2,0],c[3,0]], check=True)\n",
    "      #exclude=[c[3,0],c[3,1],c[3,2],c[3,3]], check=True)\n",
    "      #[c[3,0],c[3,1],c[3,2],c[3,3]])\n",
    "      #check=True, implicit=True)\n",
    "      )"
   ]
  },
  {
   "cell_type": "code",
   "execution_count": 7,
   "metadata": {
    "collapsed": false
   },
   "outputs": [
    {
     "data": {
      "text/latex": [
       "$$\\left [ \\left \\{ c_{0,0} : c_{1,1}, \\quad c_{1,0} : c_{1,1}\\right \\}\\right ]$$"
      ],
      "text/plain": [
       "[{c[0, 0]: c[1, 1], c[1, 0]: c[1, 1]}]"
      ]
     },
     "execution_count": 7,
     "metadata": {},
     "output_type": "execute_result"
    }
   ],
   "source": [
    "solve([#Eq(c[0,0],c[3,3]),\n",
    "      Eq(c[1,0],c[0,0]),\n",
    "      Eq(c[1,1],c[0,0])\n",
    "    ], check=True\n",
    "      #[c[0,0],c[1,0],c[2,0],c[3,0]], check=True)\n",
    "      #exclude=[c[3,0],c[3,1],c[3,2],c[3,3]], check=True)\n",
    "      #[c[3,0],c[3,1],c[3,2],c[3,3]])\n",
    "      #check=True, implicit=True)\n",
    "      )"
   ]
  },
  {
   "cell_type": "code",
   "execution_count": 3,
   "metadata": {
    "collapsed": true
   },
   "outputs": [],
   "source": [
    "def catalan_gf(t): return (1-sqrt(1-4*t))/(2*t)"
   ]
  },
  {
   "cell_type": "code",
   "execution_count": 5,
   "metadata": {
    "collapsed": false
   },
   "outputs": [],
   "source": [
    "catalan_series = catalan_gf(t).series(t, n=15)"
   ]
  },
  {
   "cell_type": "code",
   "execution_count": 6,
   "metadata": {
    "collapsed": false
   },
   "outputs": [
    {
     "data": {
      "text/latex": [
       "$$\\left [ 1, \\quad 1, \\quad 2, \\quad 5, \\quad 14, \\quad 42, \\quad 132, \\quad 429, \\quad 1430, \\quad 4862, \\quad 16796, \\quad 58786, \\quad 208012, \\quad 742900, \\quad 2674440\\right ]$$"
      ],
      "text/plain": [
       "[1, 1, 2, 5, 14, 42, 132, 429, 1430, 4862, 16796, 58786, 208012, 742900, 26744\n",
       "40]"
      ]
     },
     "execution_count": 6,
     "metadata": {},
     "output_type": "execute_result"
    }
   ],
   "source": [
    "[catalan_series.coeff(t,n=i) for i in range(15)]"
   ]
  },
  {
   "cell_type": "markdown",
   "metadata": {
    "collapsed": true
   },
   "source": [
    "---"
   ]
  },
  {
   "cell_type": "code",
   "execution_count": 2,
   "metadata": {
    "collapsed": false
   },
   "outputs": [
    {
     "name": "stdout",
     "output_type": "stream",
     "text": [
      "3 * [n, k]\n"
     ]
    },
    {
     "data": {
      "text/latex": [
       "$$3 f_{n,k}$$"
      ],
      "text/plain": [
       "3⋅f[n, k]"
      ]
     },
     "execution_count": 2,
     "metadata": {},
     "output_type": "execute_result"
    }
   ],
   "source": [
    "from contextlib import contextmanager\n",
    "\n",
    "@contextmanager\n",
    "def bind_Mul_indexed(term, indexed, forbidden_terms=[]):\n",
    "    coeff_w, ind_w = Wild('coeff', exclude=[indexed] + forbidden_terms), Wild('ind')\n",
    "    matched = term.match(coeff_w * ind_w)\n",
    "    # if no indexing happen then isinstance(matched[ind_w], IndexedBase) holds\n",
    "    if matched and ind_w in matched and isinstance(matched[ind_w], Indexed):\n",
    "        _, *subscripts = matched[ind_w].args\n",
    "        yield matched[coeff_w], subscripts\n",
    "    else:\n",
    "        raise Exception()\n",
    "        \n",
    "\n",
    "f, n, k = IndexedBase('f'), *symbols('n k')\n",
    "term = 3 * f[n,k]\n",
    "try:\n",
    "    with bind_Mul_indexed(term, f) as (coeff, subscripts):\n",
    "        print('{} * {}'.format(coeff, subscripts))\n",
    "except Exception:\n",
    "    print('something else')\n",
    "    \n",
    "term"
   ]
  },
  {
   "cell_type": "code",
   "execution_count": null,
   "metadata": {
    "collapsed": true
   },
   "outputs": [],
   "source": []
  },
  {
   "cell_type": "code",
   "execution_count": 8,
   "metadata": {
    "collapsed": true
   },
   "outputs": [],
   "source": [
    "n, k = symbols('n k')\n",
    "i = IndexedBase('i')"
   ]
  },
  {
   "cell_type": "code",
   "execution_count": 40,
   "metadata": {
    "collapsed": false
   },
   "outputs": [
    {
     "data": {
      "text/latex": [
       "$$\\left ( i, \\quad \\left [ \\right ]\\right )$$"
      ],
      "text/plain": [
       "(i, [])"
      ]
     },
     "execution_count": 40,
     "metadata": {},
     "output_type": "execute_result"
    }
   ],
   "source": [
    "a, *b = i.args\n",
    "a,b"
   ]
  },
  {
   "cell_type": "code",
   "execution_count": 16,
   "metadata": {
    "collapsed": false
   },
   "outputs": [
    {
     "data": {
      "text/latex": [
       "$$i_{n,k}$$"
      ],
      "text/plain": [
       "i[n, k]"
      ]
     },
     "execution_count": 16,
     "metadata": {},
     "output_type": "execute_result"
    }
   ],
   "source": [
    "i_w = Wild('i_w')\n",
    "m = i[n,k].match(i_w)\n",
    "m[i_w]"
   ]
  },
  {
   "cell_type": "code",
   "execution_count": 27,
   "metadata": {
    "collapsed": false
   },
   "outputs": [
    {
     "data": {
      "text/plain": [
       "sympy.tensor.indexed.IndexedBase"
      ]
     },
     "execution_count": 27,
     "metadata": {},
     "output_type": "execute_result"
    }
   ],
   "source": [
    "type(i)"
   ]
  },
  {
   "cell_type": "code",
   "execution_count": 22,
   "metadata": {
    "collapsed": false
   },
   "outputs": [
    {
     "data": {
      "text/latex": [
       "$$\\left ( 2^{n} k = 111, \\quad k = 2 t + 1\\right )$$"
      ],
      "text/plain": [
       "⎛ n                     ⎞\n",
       "⎝2 ⋅k = 111, k = 2⋅t + 1⎠"
      ]
     },
     "execution_count": 22,
     "metadata": {},
     "output_type": "execute_result"
    }
   ],
   "source": [
    "eq = Eq(2**n * k, 111)\n",
    "k_constraint = Eq(k, 2*t+1)\n",
    "eq, k_constraint"
   ]
  },
  {
   "cell_type": "code",
   "execution_count": 23,
   "metadata": {
    "collapsed": false
   },
   "outputs": [
    {
     "data": {
      "text/latex": [
       "$$\\left [ \\left \\{ k : 2 t + 1, \\quad n : \\frac{\\log{\\left (\\frac{111}{2 t + 1} \\right )}}{\\log{\\left (2 \\right )}}\\right \\}\\right ]$$"
      ],
      "text/plain": [
       "⎡⎧                  ⎛  111  ⎞⎫⎤\n",
       "⎢⎪               log⎜───────⎟⎪⎥\n",
       "⎢⎨                  ⎝2⋅t + 1⎠⎬⎥\n",
       "⎢⎪k: 2⋅t + 1, n: ────────────⎪⎥\n",
       "⎣⎩                  log(2)   ⎭⎦"
      ]
     },
     "execution_count": 23,
     "metadata": {},
     "output_type": "execute_result"
    }
   ],
   "source": [
    "solve([eq, k_constraint], [n,k,t])"
   ]
  },
  {
   "cell_type": "code",
   "execution_count": 24,
   "metadata": {
    "collapsed": false
   },
   "outputs": [
    {
     "data": {
      "text/latex": [
       "$$6$$"
      ],
      "text/plain": [
       "6"
      ]
     },
     "execution_count": 24,
     "metadata": {},
     "output_type": "execute_result"
    }
   ],
   "source": [
    "n_sol = floor(solve(Eq(2**n, 111), n).pop())\n",
    "n_sol"
   ]
  },
  {
   "cell_type": "code",
   "execution_count": 29,
   "metadata": {
    "collapsed": false
   },
   "outputs": [
    {
     "data": {
      "text/latex": [
       "$$\\frac{111}{64}$$"
      ],
      "text/plain": [
       "111\n",
       "───\n",
       " 64"
      ]
     },
     "execution_count": 29,
     "metadata": {},
     "output_type": "execute_result"
    }
   ],
   "source": [
    "m=(solve(eq.subs(n, n_sol), k).pop())\n",
    "m"
   ]
  },
  {
   "cell_type": "code",
   "execution_count": 30,
   "metadata": {
    "collapsed": false
   },
   "outputs": [
    {
     "data": {
      "text/latex": [
       "$$\\left ( 111, \\quad 64\\right )$$"
      ],
      "text/plain": [
       "(111, 64)"
      ]
     },
     "execution_count": 30,
     "metadata": {},
     "output_type": "execute_result"
    }
   ],
   "source": [
    "m.p, m.q"
   ]
  },
  {
   "cell_type": "code",
   "execution_count": 31,
   "metadata": {
    "collapsed": false
   },
   "outputs": [
    {
     "data": {
      "text/latex": [
       "$$111 \\cdot 4096$$"
      ],
      "text/plain": [
       "111⋅4096"
      ]
     },
     "execution_count": 31,
     "metadata": {},
     "output_type": "execute_result"
    }
   ],
   "source": [
    "Mul(2**n_sol*m.q, m.p, evaluate=False)"
   ]
  },
  {
   "cell_type": "code",
   "execution_count": 3,
   "metadata": {
    "collapsed": false
   },
   "outputs": [
    {
     "data": {
      "text/latex": [
       "$$\\left ( 9, \\quad 7451\\right )$$"
      ],
      "text/plain": [
       "(9, 7451)"
      ]
     },
     "execution_count": 3,
     "metadata": {},
     "output_type": "execute_result"
    }
   ],
   "source": [
    "divmod(Integer(83726), 8475)"
   ]
  },
  {
   "cell_type": "code",
   "execution_count": 41,
   "metadata": {
    "collapsed": false
   },
   "outputs": [
    {
     "data": {
      "text/latex": [
       "$$a_{0} + \\frac{1}{a_{1} + \\frac{1}{a_{2} + \\frac{1}{a_{3}}}}$$"
      ],
      "text/plain": [
       "          1      \n",
       "a₀ + ────────────\n",
       "             1   \n",
       "     a₁ + ───────\n",
       "               1 \n",
       "          a₂ + ──\n",
       "               a₃"
      ]
     },
     "execution_count": 41,
     "metadata": {},
     "output_type": "execute_result"
    }
   ],
   "source": [
    "def list_to_frac(count, symbol_chr='a', start_index=0):\n",
    "    l = symbols('{}{}:{}'.format(symbol_chr, start_index, count+start_index))\n",
    "    expr = Integer(0)\n",
    "    for i in reversed(l[1:]):\n",
    "        expr += i\n",
    "        expr = 1/expr\n",
    "    return l[0] + expr, l\n",
    "four_convergent, syms = list_to_frac(4)\n",
    "four_convergent"
   ]
  },
  {
   "cell_type": "code",
   "execution_count": 45,
   "metadata": {
    "collapsed": false
   },
   "outputs": [
    {
     "data": {
      "text/latex": [
       "$$a_{0} + \\frac{1}{1 + \\frac{1}{a_{2} + \\frac{1}{a_{3}}}}$$"
      ],
      "text/plain": [
       "          1     \n",
       "a₀ + ───────────\n",
       "            1   \n",
       "     1 + ───────\n",
       "              1 \n",
       "         a₂ + ──\n",
       "              a₃"
      ]
     },
     "execution_count": 45,
     "metadata": {},
     "output_type": "execute_result"
    }
   ],
   "source": [
    "four_convergent.subs(syms[1], 1)"
   ]
  },
  {
   "cell_type": "code",
   "execution_count": 43,
   "metadata": {
    "collapsed": false
   },
   "outputs": [
    {
     "data": {
      "text/latex": [
       "$$a_{n+1}$$"
      ],
      "text/plain": [
       "a_{n+1}"
      ]
     },
     "execution_count": 43,
     "metadata": {},
     "output_type": "execute_result"
    }
   ],
   "source": [
    "symbols('a_{n+1}')"
   ]
  },
  {
   "cell_type": "code",
   "execution_count": 33,
   "metadata": {
    "collapsed": false
   },
   "outputs": [],
   "source": [
    "@contextmanager\n",
    "def split_dict(symbols, subs):\n",
    "    yield (subs[s] for s in symbols)"
   ]
  },
  {
   "cell_type": "code",
   "execution_count": 34,
   "metadata": {
    "collapsed": false
   },
   "outputs": [
    {
     "data": {
      "text/latex": [
       "$$39$$"
      ],
      "text/plain": [
       "39"
      ]
     },
     "execution_count": 34,
     "metadata": {},
     "output_type": "execute_result"
    }
   ],
   "source": [
    "with split_dict([n,k,t], {k:40, n:39, t:3}) as (x_v, *rest): pass\n",
    "x_v"
   ]
  },
  {
   "cell_type": "code",
   "execution_count": 57,
   "metadata": {
    "collapsed": false
   },
   "outputs": [
    {
     "data": {
      "text/latex": [
       "$$T_{n} + 1 = 2 \\left(T_{n - 1} + 1\\right)$$"
      ],
      "text/plain": [
       "T[n] + 1 = 2⋅(T[n - 1] + 1)"
      ]
     },
     "execution_count": 57,
     "metadata": {},
     "output_type": "execute_result"
    }
   ],
   "source": [
    "T = IndexedBase('T')\n",
    "hanoi_eq = Eq(T[n]+1, 2*T[n-1]+2).factor()\n",
    "hanoi_eq"
   ]
  },
  {
   "cell_type": "markdown",
   "metadata": {},
   "source": [
    "the following shows that `subs` doesn't perform *true* pattern matching; on the other hand, `replace` does it since it is possible to use `Wild` object too."
   ]
  },
  {
   "cell_type": "code",
   "execution_count": 60,
   "metadata": {
    "collapsed": false
   },
   "outputs": [
    {
     "data": {
      "text/latex": [
       "$$\\left ( U_{n} = 2 \\left(T_{n - 1} + 1\\right), \\quad U_{n} = 2 U_{n - 1}\\right )$$"
      ],
      "text/plain": [
       "(U[n] = 2⋅(T[n - 1] + 1), U[n] = 2⋅U[n - 1])"
      ]
     },
     "execution_count": 60,
     "metadata": {},
     "output_type": "execute_result"
    }
   ],
   "source": [
    "U = IndexedBase('U')\n",
    "a = Wild('a')\n",
    "hanoi_eq.subs(T[n]+1, U[n]), hanoi_eq.replace(T[a]+1, U[a])"
   ]
  },
  {
   "cell_type": "code",
   "execution_count": null,
   "metadata": {
    "collapsed": true
   },
   "outputs": [],
   "source": []
  }
 ],
 "metadata": {
  "kernelspec": {
   "display_name": "Python 3",
   "language": "python",
   "name": "python3"
  },
  "language_info": {
   "codemirror_mode": {
    "name": "ipython",
    "version": 3
   },
   "file_extension": ".py",
   "mimetype": "text/x-python",
   "name": "python",
   "nbconvert_exporter": "python",
   "pygments_lexer": "ipython3",
   "version": "3.5.1"
  }
 },
 "nbformat": 4,
 "nbformat_minor": 0
}
