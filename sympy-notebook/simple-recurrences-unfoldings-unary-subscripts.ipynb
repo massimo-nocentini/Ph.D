{
 "cells": [
  {
   "cell_type": "markdown",
   "metadata": {},
   "source": [
    "<div align=\"right\"> Massimo Nocentini,<br>Florence 2016</div>\n",
    "<br>\n",
    "<div align=\"center\">\n",
    "<b>abstract</b><br>\n",
    "In this notebook we study some recurrence relations, where subscripts dependends on *one* dimension.\n",
    "</div>"
   ]
  },
  {
   "cell_type": "code",
   "execution_count": 20,
   "metadata": {
    "collapsed": false
   },
   "outputs": [],
   "source": [
    "%run \"recurrences.py\"\n",
    "%run \"start_session.py\""
   ]
  },
  {
   "cell_type": "markdown",
   "metadata": {},
   "source": [
    "# Quicksort number of checks $c_{n}$, the average case"
   ]
  },
  {
   "cell_type": "code",
   "execution_count": 2,
   "metadata": {
    "collapsed": false
   },
   "outputs": [
    {
     "data": {
      "text/latex": [
       "$$\\frac{c_{n}}{n + 1} = \\frac{2}{n + 1} + \\frac{1}{n} c_{n - 1}$$"
      ],
      "text/plain": [
       " c[n]     2     c[n - 1]\n",
       "───── = ───── + ────────\n",
       "n + 1   n + 1      n    "
      ]
     },
     "execution_count": 2,
     "metadata": {},
     "output_type": "execute_result"
    }
   ],
   "source": [
    "c = IndexedBase('c')\n",
    "checks_recurrence = Eq(c[n]/(n+1), 2/(n+1) + c[n-1]/n)\n",
    "checks_recurrence"
   ]
  },
  {
   "cell_type": "code",
   "execution_count": 3,
   "metadata": {
    "collapsed": true
   },
   "outputs": [],
   "source": [
    "checks_recurrence_spec=make_recurrence_spec(recurrence_eq=checks_recurrence, indexed=c, index=make_index(n))"
   ]
  },
  {
   "cell_type": "code",
   "execution_count": 21,
   "metadata": {
    "collapsed": false
   },
   "outputs": [],
   "source": [
    "unfolded = do_unfolding_steps(checks_recurrence_spec, steps=4)"
   ]
  },
  {
   "cell_type": "code",
   "execution_count": 22,
   "metadata": {
    "collapsed": false
   },
   "outputs": [
    {
     "data": {
      "text/latex": [
       "$$\\frac{c_{n}}{n + 1} = \\frac{2}{n - 3} + \\frac{c_{n - 5}}{n - 4} + \\frac{2}{n + 1} + \\frac{2}{n} + \\frac{2}{n - 1} + \\frac{2}{n - 2}$$"
      ],
      "text/plain": [
       " c[n]     2     c[n - 5]     2     2     2       2  \n",
       "───── = ───── + ──────── + ───── + ─ + ───── + ─────\n",
       "n + 1   n - 3    n - 4     n + 1   n   n - 1   n - 2"
      ]
     },
     "execution_count": 22,
     "metadata": {},
     "output_type": "execute_result"
    }
   ],
   "source": [
    "unfolded.recurrence_eq"
   ]
  },
  {
   "cell_type": "code",
   "execution_count": 23,
   "metadata": {
    "collapsed": false
   },
   "outputs": [
    {
     "data": {
      "text/latex": [
       "$$\\frac{c_{5}}{6} = c_{0} + \\frac{29}{10}$$"
      ],
      "text/plain": [
       "c[5]          29\n",
       "──── = c[0] + ──\n",
       " 6            10"
      ]
     },
     "execution_count": 23,
     "metadata": {},
     "output_type": "execute_result"
    }
   ],
   "source": [
    "with instantiate_eq(unfolded.recurrence_eq, {n:5}) as instantiated_eq: pass\n",
    "instantiated_eq"
   ]
  },
  {
   "cell_type": "code",
   "execution_count": 24,
   "metadata": {
    "collapsed": false
   },
   "outputs": [
    {
     "data": {
      "text/latex": [
       "$$\\left \\{ \\frac{1}{n} c_{n - 1} : \\frac{c_{n - 2}}{n - 1} + \\frac{2}{n}, \\quad \\frac{c_{n - 4}}{n - 3} : \\frac{2}{n - 3} + \\frac{c_{n - 5}}{n - 4}, \\quad \\frac{c_{n - 3}}{n - 2} : \\frac{2}{n - 2} + \\frac{c_{n - 4}}{n - 3}, \\quad \\frac{c_{n - 2}}{n - 1} : \\frac{2}{n - 1} + \\frac{c_{n - 3}}{n - 2}\\right \\}$$"
      ],
      "text/plain": [
       "⎧c[n - 1]  c[n - 2]   2  c[n - 4]    2     c[n - 5]  c[n - 3]    2     c[n - 4\n",
       "⎨────────: ──────── + ─, ────────: ───── + ────────, ────────: ───── + ───────\n",
       "⎩   n       n - 1     n   n - 3    n - 3    n - 4     n - 2    n - 2    n - 3 \n",
       "\n",
       "]  c[n - 2]    2     c[n - 3]⎫\n",
       "─, ────────: ───── + ────────⎬\n",
       "    n - 1    n - 1    n - 2  ⎭"
      ]
     },
     "execution_count": 24,
     "metadata": {},
     "output_type": "execute_result"
    }
   ],
   "source": [
    "unfolded.terms_cache"
   ]
  },
  {
   "cell_type": "code",
   "execution_count": 26,
   "metadata": {
    "collapsed": false
   },
   "outputs": [
    {
     "data": {
      "text/latex": [
       "$$\\left ( \\frac{c_{5}}{6} = c_{0} + \\frac{29}{10}, \\quad \\left \\{ n : 5\\right \\}, \\quad c, \\quad \\left \\{ \\frac{c_{1}}{2} : c_{0} + 1, \\quad \\frac{c_{2}}{3} : \\frac{c_{1}}{2} + \\frac{2}{3}, \\quad \\frac{c_{3}}{4} : \\frac{c_{2}}{3} + \\frac{1}{2}, \\quad \\frac{c_{4}}{5} : \\frac{c_{3}}{4} + \\frac{2}{5}\\right \\}\\right )$$"
      ],
      "text/plain": [
       "⎛c[5]          29             ⎧c[1]            c[2]  c[1]   2  c[3]  c[2]   1 \n",
       "⎜──── = c[0] + ──, {n: 5}, c, ⎨────: c[0] + 1, ────: ──── + ─, ────: ──── + ─,\n",
       "⎝ 6            10             ⎩ 2               3     2     3   4     3     2 \n",
       "\n",
       " c[4]  c[3]   2⎫⎞\n",
       " ────: ──── + ─⎬⎟\n",
       "  5     4     5⎭⎠"
      ]
     },
     "execution_count": 26,
     "metadata": {},
     "output_type": "execute_result"
    }
   ],
   "source": [
    "based_recurrence_spec = base_instantiation(unfolded, make_index(0), unary_subscripts_subsume_sols)\n",
    "based_recurrence_spec"
   ]
  },
  {
   "cell_type": "code",
   "execution_count": null,
   "metadata": {
    "collapsed": true
   },
   "outputs": [],
   "source": []
  }
 ],
 "metadata": {
  "kernelspec": {
   "display_name": "Python 3",
   "language": "python",
   "name": "python3"
  },
  "language_info": {
   "codemirror_mode": {
    "name": "ipython",
    "version": 3
   },
   "file_extension": ".py",
   "mimetype": "text/x-python",
   "name": "python",
   "nbconvert_exporter": "python",
   "pygments_lexer": "ipython3",
   "version": "3.5.1"
  }
 },
 "nbformat": 4,
 "nbformat_minor": 0
}
