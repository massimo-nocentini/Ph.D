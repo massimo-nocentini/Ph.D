{
 "cells": [
  {
   "cell_type": "code",
   "execution_count": 1,
   "metadata": {
    "collapsed": true
   },
   "outputs": [],
   "source": [
    "%run \"recurrences.py\""
   ]
  },
  {
   "cell_type": "code",
   "execution_count": 2,
   "metadata": {
    "collapsed": true
   },
   "outputs": [],
   "source": [
    "import sys\n",
    "import sympy\n",
    "from sympy import *\n",
    "from sympy.abc import x, n, z, t, k\n",
    "from sympy.core.cache import *\n",
    "    \n",
    "clear_cache()    \n",
    "    \n",
    "init_printing(use_latex='mathjax') # for nice printing, a-la' TeX\n",
    "\n",
    "sys.setrecursionlimit(100000)"
   ]
  },
  {
   "cell_type": "code",
   "execution_count": 3,
   "metadata": {
    "collapsed": false
   },
   "outputs": [
    {
     "data": {
      "text/latex": [
       "$$\\frac{c_{n}}{n + 1} = \\frac{2}{n + 1} + \\frac{1}{n} c_{n - 1}$$"
      ],
      "text/plain": [
       " c[n]     2     c[n - 1]\n",
       "───── = ───── + ────────\n",
       "n + 1   n + 1      n    "
      ]
     },
     "execution_count": 3,
     "metadata": {},
     "output_type": "execute_result"
    }
   ],
   "source": [
    "c = IndexedBase('c')\n",
    "checks_recurrence = Eq(c[n]/(n+1), 2/(n+1) + c[n-1]/n)\n",
    "checks_recurrence"
   ]
  },
  {
   "cell_type": "code",
   "execution_count": 4,
   "metadata": {
    "collapsed": true
   },
   "outputs": [],
   "source": [
    "checks_recurrence_spec=make_recurrence_spec(recurrence_eq=checks_recurrence, indexed=c, index=make_index(n))"
   ]
  },
  {
   "cell_type": "code",
   "execution_count": 5,
   "metadata": {
    "collapsed": false
   },
   "outputs": [
    {
     "name": "stdout",
     "output_type": "stream",
     "text": [
      "normalized Eq(c[n]/(n + 1), 2/(n + 1) + c[n - 1]/n)\n",
      "instantiated Eq(c[n - 1]/n, c[n - 2]/(n - 1) + 2/n)\n",
      "1/n vs 1/n\n",
      "normalized Eq(c[n]/(n + 1), 2/(n + 1) + c[n - 1]/n)\n",
      "instantiated Eq(c[n - 2]/(n - 1), 2/(n - 1) + c[n - 3]/(n - 2))\n",
      "1/(n - 1) vs 1/(n - 1)\n",
      "normalized Eq(c[n]/(n + 1), 2/(n + 1) + c[n - 1]/n)\n",
      "instantiated Eq(c[n - 3]/(n - 2), 2/(n - 2) + c[n - 4]/(n - 3))\n",
      "1/(n - 2) vs 1/(n - 2)\n",
      "normalized Eq(c[n]/(n + 1), 2/(n + 1) + c[n - 1]/n)\n",
      "instantiated Eq(c[n - 4]/(n - 3), 2/(n - 3) + c[n - 5]/(n - 4))\n",
      "1/(n - 3) vs 1/(n - 3)\n"
     ]
    }
   ],
   "source": [
    "clear_cache()\n",
    "unfolded = do_unfolding_steps(checks_recurrence_spec, steps=4)"
   ]
  },
  {
   "cell_type": "code",
   "execution_count": 6,
   "metadata": {
    "collapsed": false
   },
   "outputs": [
    {
     "data": {
      "text/latex": [
       "$$\\frac{c_{n}}{n + 1} = \\frac{2}{n - 3} + \\frac{c_{n - 5}}{n - 4} + \\frac{2}{n + 1} + \\frac{2}{n} + \\frac{2}{n - 1} + \\frac{2}{n - 2}$$"
      ],
      "text/plain": [
       " c[n]     2     c[n - 5]     2     2     2       2  \n",
       "───── = ───── + ──────── + ───── + ─ + ───── + ─────\n",
       "n + 1   n - 3    n - 4     n + 1   n   n - 1   n - 2"
      ]
     },
     "execution_count": 6,
     "metadata": {},
     "output_type": "execute_result"
    }
   ],
   "source": [
    "unfolded.recurrence_eq"
   ]
  },
  {
   "cell_type": "code",
   "execution_count": 7,
   "metadata": {
    "collapsed": false
   },
   "outputs": [
    {
     "data": {
      "text/latex": [
       "$$d_{n + 1,k + 1} = d_{n,k} + d_{n,k + 1}$$"
      ],
      "text/plain": [
       "d[n + 1, k + 1] = d[n, k] + d[n, k + 1]"
      ]
     },
     "execution_count": 7,
     "metadata": {},
     "output_type": "execute_result"
    }
   ],
   "source": [
    "d = IndexedBase('d')\n",
    "n, k = symbols('n k')\n",
    "\n",
    "pascal_recurrence = Eq(d[n+1, k+1], d[n, k] + d[n, k+1])\n",
    "pascal_recurrence"
   ]
  },
  {
   "cell_type": "code",
   "execution_count": 8,
   "metadata": {
    "collapsed": true
   },
   "outputs": [],
   "source": [
    "pascal_recurrence_spec=make_recurrence_spec(recurrence_eq=pascal_recurrence, indexed=d, index=make_index(n,k))"
   ]
  },
  {
   "cell_type": "code",
   "execution_count": 9,
   "metadata": {
    "collapsed": false
   },
   "outputs": [
    {
     "name": "stdout",
     "output_type": "stream",
     "text": [
      "normalized Eq(d[n, k], d[n - 1, k] + d[n - 1, k - 1])\n",
      "instantiated Eq(d[n, k], d[n - 1, k] + d[n - 1, k - 1])\n",
      "1 vs 1\n",
      "normalized Eq(d[n, k], d[n - 1, k] + d[n - 1, k - 1])\n",
      "instantiated Eq(d[n, k + 1], d[n - 1, k] + d[n - 1, k + 1])\n",
      "1 vs 1\n",
      "normalized Eq(d[n, k], d[n - 1, k] + d[n - 1, k - 1])\n",
      "instantiated Eq(d[n - 1, k], d[n - 2, k] + d[n - 2, k - 1])\n",
      "1 vs 1\n",
      "normalized Eq(d[n, k], d[n - 1, k] + d[n - 1, k - 1])\n",
      "instantiated Eq(d[n - 1, k - 1], d[n - 2, k - 2] + d[n - 2, k - 1])\n",
      "1 vs 1\n",
      "normalized Eq(d[n, k], d[n - 1, k] + d[n - 1, k - 1])\n",
      "instantiated Eq(d[n - 1, k + 1], d[n - 2, k] + d[n - 2, k + 1])\n",
      "1 vs 1\n",
      "normalized Eq(d[n, k], d[n - 1, k] + d[n - 1, k - 1])\n",
      "instantiated Eq(d[n - 2, k], d[n - 3, k] + d[n - 3, k - 1])\n",
      "1 vs 1\n",
      "normalized Eq(d[n, k], d[n - 1, k] + d[n - 1, k - 1])\n",
      "instantiated Eq(d[n - 2, k - 1], d[n - 3, k - 2] + d[n - 3, k - 1])\n",
      "1 vs 1\n",
      "normalized Eq(d[n, k], d[n - 1, k] + d[n - 1, k - 1])\n",
      "instantiated Eq(d[n - 2, k - 2], d[n - 3, k - 3] + d[n - 3, k - 2])\n",
      "1 vs 1\n",
      "normalized Eq(d[n, k], d[n - 1, k] + d[n - 1, k - 1])\n",
      "instantiated Eq(d[n - 2, k + 1], d[n - 3, k] + d[n - 3, k + 1])\n",
      "1 vs 1\n",
      "normalized Eq(d[n, k], d[n - 1, k] + d[n - 1, k - 1])\n",
      "instantiated Eq(d[n - 3, k], d[n - 4, k] + d[n - 4, k - 1])\n",
      "1 vs 1\n",
      "normalized Eq(d[n, k], d[n - 1, k] + d[n - 1, k - 1])\n",
      "instantiated Eq(d[n - 3, k - 1], d[n - 4, k - 2] + d[n - 4, k - 1])\n",
      "1 vs 1\n",
      "normalized Eq(d[n, k], d[n - 1, k] + d[n - 1, k - 1])\n",
      "instantiated Eq(d[n - 3, k - 2], d[n - 4, k - 3] + d[n - 4, k - 2])\n",
      "1 vs 1\n",
      "normalized Eq(d[n, k], d[n - 1, k] + d[n - 1, k - 1])\n",
      "instantiated Eq(d[n - 3, k - 3], d[n - 4, k - 4] + d[n - 4, k - 3])\n",
      "1 vs 1\n",
      "normalized Eq(d[n, k], d[n - 1, k] + d[n - 1, k - 1])\n",
      "instantiated Eq(d[n - 3, k + 1], d[n - 4, k] + d[n - 4, k + 1])\n",
      "1 vs 1\n"
     ]
    }
   ],
   "source": [
    "clear_cache()\n",
    "unfolded = do_unfolding_steps(pascal_recurrence_spec, steps=4)"
   ]
  },
  {
   "cell_type": "code",
   "execution_count": 12,
   "metadata": {
    "collapsed": false
   },
   "outputs": [
    {
     "data": {
      "text/latex": [
       "$$d_{n + 1,k + 1} = 5 d_{n - 4,k} + d_{n - 4,k - 4} + 5 d_{n - 4,k - 3} + 10 d_{n - 4,k - 2} + 10 d_{n - 4,k - 1} + d_{n - 4,k + 1}$$"
      ],
      "text/plain": [
       "d[n + 1, k + 1] = 5⋅d[n - 4, k] + d[n - 4, k - 4] + 5⋅d[n - 4, k - 3] + 10⋅d[n\n",
       " - 4, k - 2] + 10⋅d[n - 4, k - 1] + d[n - 4, k + 1]"
      ]
     },
     "execution_count": 12,
     "metadata": {},
     "output_type": "execute_result"
    }
   ],
   "source": [
    "u = unfolded.recurrence_eq.doit()\n",
    "u"
   ]
  },
  {
   "cell_type": "code",
   "execution_count": 11,
   "metadata": {
    "collapsed": false
   },
   "outputs": [
    {
     "data": {
      "text/latex": [
       "$$\\left \\{ d_{n,k} : d_{n - 1,k} + d_{n - 1,k - 1}, \\quad d_{n,k + 1} : d_{n - 1,k} + d_{n - 1,k + 1}, \\quad d_{n - 3,k} : d_{n - 4,k} + d_{n - 4,k - 1}, \\quad d_{n - 3,k - 3} : d_{n - 4,k - 4} + d_{n - 4,k - 3}, \\quad d_{n - 3,k - 2} : d_{n - 4,k - 3} + d_{n - 4,k - 2}, \\quad d_{n - 3,k - 1} : d_{n - 4,k - 2} + d_{n - 4,k - 1}, \\quad d_{n - 3,k + 1} : d_{n - 4,k} + d_{n - 4,k + 1}, \\quad d_{n - 2,k} : d_{n - 3,k} + d_{n - 3,k - 1}, \\quad d_{n - 2,k - 2} : d_{n - 3,k - 3} + d_{n - 3,k - 2}, \\quad d_{n - 2,k - 1} : d_{n - 3,k - 2} + d_{n - 3,k - 1}, \\quad d_{n - 2,k + 1} : d_{n - 3,k} + d_{n - 3,k + 1}, \\quad d_{n - 1,k} : d_{n - 2,k} + d_{n - 2,k - 1}, \\quad d_{n - 1,k - 1} : d_{n - 2,k - 2} + d_{n - 2,k - 1}, \\quad d_{n - 1,k + 1} : d_{n - 2,k} + d_{n - 2,k + 1}\\right \\}$$"
      ],
      "text/plain": [
       "{d[n, k]: d[n - 1, k] + d[n - 1, k - 1], d[n, k + 1]: d[n - 1, k] + d[n - 1, k\n",
       " + 1], d[n - 3, k]: d[n - 4, k] + d[n - 4, k - 1], d[n - 3, k - 3]: d[n - 4, k\n",
       " - 4] + d[n - 4, k - 3], d[n - 3, k - 2]: d[n - 4, k - 3] + d[n - 4, k - 2], d\n",
       "[n - 3, k - 1]: d[n - 4, k - 2] + d[n - 4, k - 1], d[n - 3, k + 1]: d[n - 4, k\n",
       "] + d[n - 4, k + 1], d[n - 2, k]: d[n - 3, k] + d[n - 3, k - 1], d[n - 2, k - \n",
       "2]: d[n - 3, k - 3] + d[n - 3, k - 2], d[n - 2, k - 1]: d[n - 3, k - 2] + d[n \n",
       "- 3, k - 1], d[n - 2, k + 1]: d[n - 3, k] + d[n - 3, k + 1], d[n - 1, k]: d[n \n",
       "- 2, k] + d[n - 2, k - 1], d[n - 1, k - 1]: d[n - 2, k - 2] + d[n - 2, k - 1],\n",
       " d[n - 1, k + 1]: d[n - 2, k] + d[n - 2, k + 1]}"
      ]
     },
     "execution_count": 11,
     "metadata": {},
     "output_type": "execute_result"
    }
   ],
   "source": [
    "unfolded.terms_cache"
   ]
  },
  {
   "cell_type": "code",
   "execution_count": 30,
   "metadata": {
    "collapsed": false
   },
   "outputs": [
    {
     "data": {
      "text/latex": [
       "$$d_{11,6} = d_{6,1} + 5 d_{6,2} + 10 d_{6,3} + 10 d_{6,4} + 5 d_{6,5} + d_{6,6}$$"
      ],
      "text/plain": [
       "d[11, 6] = d[6, 1] + 5⋅d[6, 2] + 10⋅d[6, 3] + 10⋅d[6, 4] + 5⋅d[6, 5] + d[6, 6]"
      ]
     },
     "execution_count": 30,
     "metadata": {},
     "output_type": "execute_result"
    }
   ],
   "source": [
    "with instantiate_eq(u, [(n,10), (k,5)]) as instantiated: pass\n",
    "    \n",
    "instantiated"
   ]
  },
  {
   "cell_type": "code",
   "execution_count": 32,
   "metadata": {
    "collapsed": false
   },
   "outputs": [
    {
     "data": {
      "text/latex": [
       "$$\\mathrm{True}$$"
      ],
      "text/plain": [
       "True"
      ]
     },
     "execution_count": 32,
     "metadata": {},
     "output_type": "execute_result"
    }
   ],
   "source": [
    "bs = {d[n,k]:binomial(n,k) for n in [6, 11] for k in range(7)}\n",
    "instantiated.subs(bs, simultaneous=True)"
   ]
  }
 ],
 "metadata": {
  "kernelspec": {
   "display_name": "Python 3",
   "language": "python",
   "name": "python3"
  },
  "language_info": {
   "codemirror_mode": {
    "name": "ipython",
    "version": 3
   },
   "file_extension": ".py",
   "mimetype": "text/x-python",
   "name": "python",
   "nbconvert_exporter": "python",
   "pygments_lexer": "ipython3",
   "version": "3.5.1"
  }
 },
 "nbformat": 4,
 "nbformat_minor": 0
}
