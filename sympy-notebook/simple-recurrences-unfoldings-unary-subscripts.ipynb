{
 "cells": [
  {
   "cell_type": "markdown",
   "metadata": {},
   "source": [
    "<div align=\"right\"> Massimo Nocentini,<br>Florence 2016</div>\n",
    "<br>\n",
    "<div align=\"center\">\n",
    "<b>abstract</b><br>\n",
    "In this notebook we study two recurrence relations arising from the analysis of the `Quicksort` algorithm: numbers of checks and swaps are taken into account, in the average case. Such relations involve subterms where subscripts dependends on *one* dimension. They are a simple, but interesting, starting point to approach the general method of <b>unfolding</b>, an algorithmic/symbolical idea stretched further in other notebooks.\n",
    "</div>\n",
    "<br>\n",
    "<div align=\"right\">\n",
    "    <img src=\"http://www.cerm.unifi.it/chianti/images/logo%20unifi_positivo.jpg\" \n",
    "        alt=\"UniFI logo\" style=\"width:20%;height:20%;\">\n",
    "</div>"
   ]
  },
  {
   "cell_type": "code",
   "execution_count": 2,
   "metadata": {
    "collapsed": false
   },
   "outputs": [],
   "source": [
    "%run \"recurrences.py\"\n",
    "%run \"start_session.py\""
   ]
  },
  {
   "cell_type": "markdown",
   "metadata": {},
   "source": [
    "# Quicksort number of checks $c_{n}$, the average case"
   ]
  },
  {
   "cell_type": "markdown",
   "metadata": {},
   "source": [
    "Define the recurrence relation as we did on paper, namely as an equation coupling an *indexable* symbol on both sides."
   ]
  },
  {
   "cell_type": "code",
   "execution_count": 3,
   "metadata": {
    "collapsed": false
   },
   "outputs": [
    {
     "data": {
      "text/latex": [
       "$$\\frac{c_{n}}{n + 1} = \\frac{2}{n + 1} + \\frac{1}{n} c_{n - 1}$$"
      ],
      "text/plain": [
       " c[n]     2     c[n - 1]\n",
       "───── = ───── + ────────\n",
       "n + 1   n + 1      n    "
      ]
     },
     "execution_count": 3,
     "metadata": {},
     "output_type": "execute_result"
    }
   ],
   "source": [
    "c = IndexedBase('c')\n",
    "checks_recurrence = Eq(c[n]/(n+1), 2/(n+1) + c[n-1]/n)\n",
    "checks_recurrence"
   ]
  },
  {
   "cell_type": "markdown",
   "metadata": {},
   "source": [
    "Function `make_recurrence_spec` builds an object that denote the recurrence, formally and programmatically."
   ]
  },
  {
   "cell_type": "code",
   "execution_count": 4,
   "metadata": {
    "collapsed": true
   },
   "outputs": [],
   "source": [
    "checks_recurrence_spec=make_recurrence_spec(recurrence_eq=checks_recurrence, indexed=c, index=make_index(n))"
   ]
  },
  {
   "cell_type": "markdown",
   "metadata": {},
   "source": [
    "Function `do_unfolding_steps` allow us to perform *unfolding* or *unrolling* on occurrences of the inductively defined symbol. Doing $n$ steps of unfolding is the same to say to use the main recurrence defined above as a rewriting rule for occurrences, on the rhs, that pattern match with the one on the lhs. "
   ]
  },
  {
   "cell_type": "code",
   "execution_count": 5,
   "metadata": {
    "collapsed": false
   },
   "outputs": [],
   "source": [
    "unfolded = do_unfolding_steps(checks_recurrence_spec, steps=4)"
   ]
  },
  {
   "cell_type": "markdown",
   "metadata": {},
   "source": [
    "The following is the equation produced after 4 steps."
   ]
  },
  {
   "cell_type": "code",
   "execution_count": 6,
   "metadata": {
    "collapsed": false
   },
   "outputs": [
    {
     "data": {
      "text/latex": [
       "$$\\frac{c_{n}}{n + 1} = \\frac{2}{n - 3} + \\frac{c_{n - 5}}{n - 4} + \\frac{2}{n + 1} + \\frac{2}{n} + \\frac{2}{n - 1} + \\frac{2}{n - 2}$$"
      ],
      "text/plain": [
       " c[n]     2     c[n - 5]     2     2     2       2  \n",
       "───── = ───── + ──────── + ───── + ─ + ───── + ─────\n",
       "n + 1   n - 3    n - 4     n + 1   n   n - 1   n - 2"
      ]
     },
     "execution_count": 6,
     "metadata": {},
     "output_type": "execute_result"
    }
   ],
   "source": [
    "unfolded.recurrence_eq"
   ]
  },
  {
   "cell_type": "markdown",
   "metadata": {},
   "source": [
    "However, it is interesting to lock at the *history* of discovered terms in order to yield the previous result."
   ]
  },
  {
   "cell_type": "code",
   "execution_count": 16,
   "metadata": {
    "collapsed": false
   },
   "outputs": [
    {
     "data": {
      "text/latex": [
       "$$\\left \\{ \\frac{1}{n} c_{n - 1} : \\frac{c_{n - 2}}{n - 1} + \\frac{2}{n}, \\quad \\frac{c_{n - 4}}{n - 3} : \\frac{2}{n - 3} + \\frac{c_{n - 5}}{n - 4}, \\quad \\frac{c_{n - 3}}{n - 2} : \\frac{2}{n - 2} + \\frac{c_{n - 4}}{n - 3}, \\quad \\frac{c_{n - 2}}{n - 1} : \\frac{2}{n - 1} + \\frac{c_{n - 3}}{n - 2}\\right \\}$$"
      ],
      "text/plain": [
       "⎧c[n - 1]  c[n - 2]   2  c[n - 4]    2     c[n - 5]  c[n - 3]    2     c[n - 4\n",
       "⎨────────: ──────── + ─, ────────: ───── + ────────, ────────: ───── + ───────\n",
       "⎩   n       n - 1     n   n - 3    n - 3    n - 4     n - 2    n - 2    n - 3 \n",
       "\n",
       "]  c[n - 2]    2     c[n - 3]⎫\n",
       "─, ────────: ───── + ────────⎬\n",
       "    n - 1    n - 1    n - 2  ⎭"
      ]
     },
     "execution_count": 16,
     "metadata": {},
     "output_type": "execute_result"
    }
   ],
   "source": [
    "unfolded.terms_cache"
   ]
  },
  {
   "cell_type": "markdown",
   "metadata": {},
   "source": [
    "If desired, we can *base* the previous equation such that a new equation is produced containing the very first term of the sequence, in our case $c_{0}$."
   ]
  },
  {
   "cell_type": "code",
   "execution_count": 7,
   "metadata": {
    "collapsed": false
   },
   "outputs": [
    {
     "data": {
      "text/latex": [
       "$$\\frac{c_{5}}{6} = c_{0} + \\frac{29}{10}$$"
      ],
      "text/plain": [
       "c[5]          29\n",
       "──── = c[0] + ──\n",
       " 6            10"
      ]
     },
     "execution_count": 7,
     "metadata": {},
     "output_type": "execute_result"
    }
   ],
   "source": [
    "with instantiate_eq(unfolded.recurrence_eq, {n:5}) as instantiated_eq: pass\n",
    "instantiated_eq"
   ]
  },
  {
   "cell_type": "markdown",
   "metadata": {},
   "source": [
    "Using the previous idea, finding a value for $n$ that causes the very first item to appear, then we can substitute in the entire specification."
   ]
  },
  {
   "cell_type": "code",
   "execution_count": 17,
   "metadata": {
    "collapsed": false
   },
   "outputs": [
    {
     "data": {
      "text/latex": [
       "$$\\left ( \\frac{c_{5}}{6} = c_{0} + \\frac{29}{10}, \\quad \\left \\{ n : 5\\right \\}, \\quad c, \\quad \\left \\{ \\frac{c_{1}}{2} : c_{0} + 1, \\quad \\frac{c_{2}}{3} : \\frac{c_{1}}{2} + \\frac{2}{3}, \\quad \\frac{c_{3}}{4} : \\frac{c_{2}}{3} + \\frac{1}{2}, \\quad \\frac{c_{4}}{5} : \\frac{c_{3}}{4} + \\frac{2}{5}\\right \\}\\right )$$"
      ],
      "text/plain": [
       "⎛c[5]          29             ⎧c[1]            c[2]  c[1]   2  c[3]  c[2]   1 \n",
       "⎜──── = c[0] + ──, {n: 5}, c, ⎨────: c[0] + 1, ────: ──── + ─, ────: ──── + ─,\n",
       "⎝ 6            10             ⎩ 2               3     2     3   4     3     2 \n",
       "\n",
       " c[4]  c[3]   2⎫⎞\n",
       " ────: ──── + ─⎬⎟\n",
       "  5     4     5⎭⎠"
      ]
     },
     "execution_count": 17,
     "metadata": {},
     "output_type": "execute_result"
    }
   ],
   "source": [
    "based_recurrence_spec = base_instantiation(unfolded, make_index(0), unary_subscripts_subsume_sols)\n",
    "based_recurrence_spec"
   ]
  },
  {
   "cell_type": "markdown",
   "metadata": {},
   "source": [
    "If we attach a value to $c_{0}$ and we put it in the term cache, then it is possible to *fully* instantiate the spec."
   ]
  },
  {
   "cell_type": "code",
   "execution_count": 18,
   "metadata": {
    "collapsed": false
   },
   "outputs": [
    {
     "data": {
      "text/latex": [
       "$$\\left ( \\frac{c_{5}}{6} = \\frac{29}{10}, \\quad \\left \\{ n : 5\\right \\}, \\quad c, \\quad \\left \\{ c_{0} : 0, \\quad \\frac{c_{1}}{2} : 1, \\quad \\frac{c_{2}}{3} : \\frac{5}{3}, \\quad \\frac{c_{3}}{4} : \\frac{13}{6}, \\quad \\frac{c_{4}}{5} : \\frac{77}{30}\\right \\}\\right )$$"
      ],
      "text/plain": [
       "⎛c[5]   29             ⎧         c[1]     c[2]       c[3]        c[4]  77⎫⎞\n",
       "⎜──── = ──, {n: 5}, c, ⎨c[0]: 0, ────: 1, ────: 5/3, ────: 13/6, ────: ──⎬⎟\n",
       "⎝ 6     10             ⎩          2        3          4           5    30⎭⎠"
      ]
     },
     "execution_count": 18,
     "metadata": {},
     "output_type": "execute_result"
    }
   ],
   "source": [
    "boundary_conditions = {c[0]:Integer(0)} # `Integer` object is mandatory, not a vanilla `int`\n",
    "with copy_recurrence_spec(based_recurrence_spec) as rec_spec_for_full_instantiation:\n",
    "    rec_spec_for_full_instantiation.terms_cache.update(boundary_conditions)\n",
    "    fully_instantiated_spec = repeated_instantiating(rec_spec_for_full_instantiation)\n",
    "fully_instantiated_spec"
   ]
  },
  {
   "cell_type": "markdown",
   "metadata": {},
   "source": [
    "Moreover, if we want to skip all little steps and perform a *batch* study for a variable number of steps, then we provide an *higher-order* operator `ipython_latex`, which produces a nice representation for a set of unfoldings"
   ]
  },
  {
   "cell_type": "code",
   "execution_count": 34,
   "metadata": {
    "collapsed": false
   },
   "outputs": [
    {
     "data": {
      "text/latex": [
       "\\begin{array}{c}\\frac{c_{1}}{2} = c_{0} + 1\\\\\n",
       "\\frac{c_{2}}{3} = c_{0} + \\frac{5}{3}\\\\\n",
       "\\frac{c_{3}}{4} = c_{0} + \\frac{13}{6}\\\\\n",
       "\\frac{c_{4}}{5} = c_{0} + \\frac{77}{30}\\\\\n",
       "\\frac{c_{5}}{6} = c_{0} + \\frac{29}{10}\\\\\n",
       "\\frac{c_{6}}{7} = c_{0} + \\frac{223}{70}\\\\\n",
       "\\frac{c_{7}}{8} = c_{0} + \\frac{481}{140}\\\\\n",
       "\\frac{c_{8}}{9} = c_{0} + \\frac{4609}{1260}\\\\\n",
       "\\frac{c_{9}}{10} = c_{0} + \\frac{4861}{1260}\\\\\n",
       "\\frac{c_{10}}{11} = c_{0} + \\frac{55991}{13860}\\\\\\end{array}"
      ],
      "text/plain": [
       "<IPython.core.display.Latex object>"
      ]
     },
     "execution_count": 34,
     "metadata": {},
     "output_type": "execute_result"
    }
   ],
   "source": [
    "ipython_latex(checks_recurrence_spec, times_range=range(10), \n",
    "              base_index=make_index(0), subsume_sols=unary_subscripts_subsume_sols)"
   ]
  },
  {
   "cell_type": "markdown",
   "metadata": {},
   "source": [
    "# Quicksort number of swaps $s_{n}$, the average case"
   ]
  },
  {
   "cell_type": "code",
   "execution_count": 20,
   "metadata": {
    "collapsed": false
   },
   "outputs": [
    {
     "data": {
      "text/latex": [
       "$$\\frac{s_{n}}{n + 1} = \\frac{1}{n} s_{n - 1} + \\frac{2 n - 3}{6 n \\left(n + 1\\right)}$$"
      ],
      "text/plain": [
       " s[n]   s[n - 1]     2⋅n - 3  \n",
       "───── = ──────── + ───────────\n",
       "n + 1      n       6⋅n⋅(n + 1)"
      ]
     },
     "execution_count": 20,
     "metadata": {},
     "output_type": "execute_result"
    }
   ],
   "source": [
    "s = IndexedBase('s')\n",
    "swaps_recurrence = Eq(s[n]/(n+1),s[n-1]/n + (2*n-3)/(6*n*(n+1)))\n",
    "swaps_recurrence"
   ]
  },
  {
   "cell_type": "code",
   "execution_count": 24,
   "metadata": {
    "collapsed": true
   },
   "outputs": [],
   "source": [
    "swaps_recurrence_spec=make_recurrence_spec(recurrence_eq=swaps_recurrence, indexed=s, index=make_index(n))"
   ]
  },
  {
   "cell_type": "code",
   "execution_count": 25,
   "metadata": {
    "collapsed": false
   },
   "outputs": [],
   "source": [
    "unfolded = do_unfolding_steps(swaps_recurrence_spec, steps=4)"
   ]
  },
  {
   "cell_type": "code",
   "execution_count": 26,
   "metadata": {
    "collapsed": false
   },
   "outputs": [
    {
     "data": {
      "text/latex": [
       "$$\\frac{s_{n}}{n + 1} = \\frac{2 n}{6 n^{2} - 30 n + 36} + \\frac{2 n}{6 n^{2} - 18 n + 12} + \\frac{2 n}{6 n^{2} + 6 n} + \\frac{2 n}{6 n^{2} - 6 n} + \\frac{s_{n - 5}}{n - 4} + \\frac{2 n - 11}{6 \\left(n - 4\\right) \\left(n - 3\\right)} + - \\frac{7}{6 n^{2} - 18 n + 12} - \\frac{9}{6 n^{2} - 30 n + 36} - \\frac{5}{6 n^{2} - 6 n} - \\frac{3}{6 n^{2} + 6 n}$$"
      ],
      "text/plain": [
       " s[n]         2⋅n                2⋅n             2⋅n          2⋅n       s[n - \n",
       "───── = ──────────────── + ──────────────── + ────────── + ────────── + ──────\n",
       "n + 1      2                  2                  2            2          n - 4\n",
       "        6⋅n  - 30⋅n + 36   6⋅n  - 18⋅n + 12   6⋅n  + 6⋅n   6⋅n  - 6⋅n         \n",
       "\n",
       "5]        2⋅n - 11                7                  9               5        \n",
       "── + ───────────────── + - ──────────────── - ──────────────── - ────────── - \n",
       "     6⋅(n - 4)⋅(n - 3)        2                  2                  2         \n",
       "                           6⋅n  - 18⋅n + 12   6⋅n  - 30⋅n + 36   6⋅n  - 6⋅n   \n",
       "\n",
       "    3     \n",
       "──────────\n",
       "   2      \n",
       "6⋅n  + 6⋅n"
      ]
     },
     "execution_count": 26,
     "metadata": {},
     "output_type": "execute_result"
    }
   ],
   "source": [
    "unfolded.recurrence_eq"
   ]
  },
  {
   "cell_type": "code",
   "execution_count": 27,
   "metadata": {
    "collapsed": false
   },
   "outputs": [
    {
     "data": {
      "text/latex": [
       "$$\\frac{s_{5}}{6} = s_{0} + \\frac{1}{15}$$"
      ],
      "text/plain": [
       "s[5]              \n",
       "──── = s[0] + 1/15\n",
       " 6                "
      ]
     },
     "execution_count": 27,
     "metadata": {},
     "output_type": "execute_result"
    }
   ],
   "source": [
    "with instantiate_eq(unfolded.recurrence_eq, {n:5}) as instantiated_eq: pass\n",
    "instantiated_eq"
   ]
  },
  {
   "cell_type": "code",
   "execution_count": 28,
   "metadata": {
    "collapsed": false
   },
   "outputs": [
    {
     "data": {
      "text/latex": [
       "$$\\left \\{ \\frac{1}{n} s_{n - 1} : \\frac{s_{n - 2}}{n - 1} + \\frac{2 n - 5}{6 n \\left(n - 1\\right)}, \\quad \\frac{s_{n - 4}}{n - 3} : \\frac{s_{n - 5}}{n - 4} + \\frac{2 n - 11}{6 \\left(n - 4\\right) \\left(n - 3\\right)}, \\quad \\frac{s_{n - 3}}{n - 2} : \\frac{s_{n - 4}}{n - 3} + \\frac{2 n - 9}{6 \\left(n - 3\\right) \\left(n - 2\\right)}, \\quad \\frac{s_{n - 2}}{n - 1} : \\frac{s_{n - 3}}{n - 2} + \\frac{2 n - 7}{6 \\left(n - 2\\right) \\left(n - 1\\right)}\\right \\}$$"
      ],
      "text/plain": [
       "⎧s[n - 1]  s[n - 2]     2⋅n - 5    s[n - 4]  s[n - 5]        2⋅n - 11      s[n\n",
       "⎨────────: ──────── + ───────────, ────────: ──────── + ─────────────────, ───\n",
       "⎩   n       n - 1     6⋅n⋅(n - 1)   n - 3     n - 4     6⋅(n - 4)⋅(n - 3)   n \n",
       "\n",
       " - 3]  s[n - 4]        2⋅n - 9       s[n - 2]  s[n - 3]        2⋅n - 7     ⎫\n",
       "─────: ──────── + ─────────────────, ────────: ──────── + ─────────────────⎬\n",
       "- 2     n - 3     6⋅(n - 3)⋅(n - 2)   n - 1     n - 2     6⋅(n - 2)⋅(n - 1)⎭"
      ]
     },
     "execution_count": 28,
     "metadata": {},
     "output_type": "execute_result"
    }
   ],
   "source": [
    "unfolded.terms_cache"
   ]
  },
  {
   "cell_type": "code",
   "execution_count": 29,
   "metadata": {
    "collapsed": false
   },
   "outputs": [
    {
     "data": {
      "text/latex": [
       "$$\\left ( \\frac{s_{5}}{6} = s_{0} + \\frac{1}{15}, \\quad \\left \\{ n : 5\\right \\}, \\quad s, \\quad \\left \\{ \\frac{s_{1}}{2} : s_{0} - \\frac{1}{12}, \\quad \\frac{s_{2}}{3} : \\frac{s_{1}}{2} + \\frac{1}{36}, \\quad \\frac{s_{3}}{4} : \\frac{s_{2}}{3} + \\frac{1}{24}, \\quad \\frac{s_{4}}{5} : \\frac{s_{3}}{4} + \\frac{1}{24}\\right \\}\\right )$$"
      ],
      "text/plain": [
       "⎛s[5]                           ⎧s[1]               s[2]  s[1]   1   s[3]  s[2\n",
       "⎜──── = s[0] + 1/15, {n: 5}, s, ⎨────: s[0] - 1/12, ────: ──── + ──, ────: ───\n",
       "⎝ 6                             ⎩ 2                  3     2     36   4     3 \n",
       "\n",
       "]   1   s[4]  s[3]   1 ⎫⎞\n",
       "─ + ──, ────: ──── + ──⎬⎟\n",
       "    24   5     4     24⎭⎠"
      ]
     },
     "execution_count": 29,
     "metadata": {},
     "output_type": "execute_result"
    }
   ],
   "source": [
    "based_recurrence_spec = base_instantiation(unfolded, make_index(0), unary_subscripts_subsume_sols)\n",
    "based_recurrence_spec"
   ]
  },
  {
   "cell_type": "code",
   "execution_count": 31,
   "metadata": {
    "collapsed": false
   },
   "outputs": [
    {
     "data": {
      "text/latex": [
       "$$\\left ( \\frac{s_{5}}{6} = \\frac{1}{15}, \\quad \\left \\{ n : 5\\right \\}, \\quad s, \\quad \\left \\{ s_{0} : 0, \\quad \\frac{s_{1}}{2} : - \\frac{1}{12}, \\quad \\frac{s_{2}}{3} : - \\frac{1}{18}, \\quad \\frac{s_{3}}{4} : - \\frac{1}{72}, \\quad \\frac{s_{4}}{5} : \\frac{1}{36}\\right \\}\\right )$$"
      ],
      "text/plain": [
       "⎛s[5]                    ⎧         s[1]         s[2]         s[3]         s[4]\n",
       "⎜──── = 1/15, {n: 5}, s, ⎨s[0]: 0, ────: -1/12, ────: -1/18, ────: -1/72, ────\n",
       "⎝ 6                      ⎩          2            3            4            5  \n",
       "\n",
       "      ⎫⎞\n",
       ": 1/36⎬⎟\n",
       "      ⎭⎠"
      ]
     },
     "execution_count": 31,
     "metadata": {},
     "output_type": "execute_result"
    }
   ],
   "source": [
    "boundary_conditions = {s[0]:Integer(0)} # `Integer` object is mandatory, not a vanilla `int`\n",
    "with copy_recurrence_spec(based_recurrence_spec) as rec_spec_for_full_instantiation:\n",
    "    rec_spec_for_full_instantiation.terms_cache.update(boundary_conditions)\n",
    "    fully_instantiated_spec = repeated_instantiating(rec_spec_for_full_instantiation)\n",
    "fully_instantiated_spec"
   ]
  },
  {
   "cell_type": "code",
   "execution_count": 33,
   "metadata": {
    "collapsed": false
   },
   "outputs": [
    {
     "data": {
      "text/latex": [
       "\\begin{array}{c}\\frac{s_{1}}{2} = s_{0} - \\frac{1}{12}\\\\\n",
       "\\frac{s_{2}}{3} = s_{0} - \\frac{1}{18}\\\\\n",
       "\\frac{s_{3}}{4} = s_{0} - \\frac{1}{72}\\\\\n",
       "\\frac{s_{4}}{5} = s_{0} + \\frac{1}{36}\\\\\n",
       "\\frac{s_{5}}{6} = s_{0} + \\frac{1}{15}\\\\\n",
       "\\frac{s_{6}}{7} = s_{0} + \\frac{43}{420}\\\\\n",
       "\\frac{s_{7}}{8} = s_{0} + \\frac{227}{1680}\\\\\n",
       "\\frac{s_{8}}{9} = s_{0} + \\frac{1249}{7560}\\\\\n",
       "\\frac{s_{9}}{10} = s_{0} + \\frac{1459}{7560}\\\\\n",
       "\\frac{s_{10}}{11} = s_{0} + \\frac{18191}{83160}\\\\\\end{array}"
      ],
      "text/plain": [
       "<IPython.core.display.Latex object>"
      ]
     },
     "execution_count": 33,
     "metadata": {},
     "output_type": "execute_result"
    }
   ],
   "source": [
    "ipython_latex(swaps_recurrence_spec, times_range=range(10), \n",
    "              base_index=make_index(0), subsume_sols=unary_subscripts_subsume_sols)"
   ]
  },
  {
   "cell_type": "markdown",
   "metadata": {},
   "source": [
    "---\n",
    "\n",
    "<a rel=\"license\" href=\"http://creativecommons.org/licenses/by-nc-sa/4.0/\"><img alt=\"Creative Commons License\" style=\"border-width:0\" src=\"https://i.creativecommons.org/l/by-nc-sa/4.0/88x31.png\" /></a><br />This work by <a xmlns:cc=\"http://creativecommons.org/ns#\" href=\"https://github.com/massimo-nocentini/\" property=\"cc:attributionName\" rel=\"cc:attributionURL\">Massimo Nocentini</a> is licensed under a <a rel=\"license\" href=\"http://creativecommons.org/licenses/by-nc-sa/4.0/\">Creative Commons Attribution-NonCommercial-ShareAlike 4.0 International License</a>.<br />Based on a work at <a xmlns:dct=\"http://purl.org/dc/terms/\" href=\"https://github.com/massimo-nocentini/recurrences-unfolding\" rel=\"dct:source\">https://github.com/massimo-nocentini/recurrences-unfolding</a>."
   ]
  }
 ],
 "metadata": {
  "kernelspec": {
   "display_name": "Python 3",
   "language": "python",
   "name": "python3"
  },
  "language_info": {
   "codemirror_mode": {
    "name": "ipython",
    "version": 3
   },
   "file_extension": ".py",
   "mimetype": "text/x-python",
   "name": "python",
   "nbconvert_exporter": "python",
   "pygments_lexer": "ipython3",
   "version": "3.5.1"
  }
 },
 "nbformat": 4,
 "nbformat_minor": 0
}
