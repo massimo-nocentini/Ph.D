{
 "cells": [
  {
   "cell_type": "markdown",
   "metadata": {},
   "source": [
    "<div align=\"right\"> Massimo Nocentini,<br>Florence 2016</div>\n",
    "<br>\n",
    "<div align=\"center\">\n",
    "<b>abstract</b><br>\n",
    "In this notebook we study some recurrence relations, where subscripts dependends on *one* dimension.\n",
    "</div>"
   ]
  },
  {
   "cell_type": "code",
   "execution_count": 2,
   "metadata": {
    "collapsed": false
   },
   "outputs": [],
   "source": [
    "%run \"recurrences.py\"\n",
    "%run \"start_session.py\""
   ]
  },
  {
   "cell_type": "markdown",
   "metadata": {},
   "source": [
    "# Quicksort number of checks $c_{n}$, the average case"
   ]
  },
  {
   "cell_type": "code",
   "execution_count": 3,
   "metadata": {
    "collapsed": false
   },
   "outputs": [
    {
     "data": {
      "text/latex": [
       "$$\\frac{c_{n}}{n + 1} = \\frac{2}{n + 1} + \\frac{1}{n} c_{n - 1}$$"
      ],
      "text/plain": [
       " c[n]     2     c[n - 1]\n",
       "───── = ───── + ────────\n",
       "n + 1   n + 1      n    "
      ]
     },
     "execution_count": 3,
     "metadata": {},
     "output_type": "execute_result"
    }
   ],
   "source": [
    "c = IndexedBase('c')\n",
    "checks_recurrence = Eq(c[n]/(n+1), 2/(n+1) + c[n-1]/n)\n",
    "checks_recurrence"
   ]
  },
  {
   "cell_type": "code",
   "execution_count": 4,
   "metadata": {
    "collapsed": true
   },
   "outputs": [],
   "source": [
    "checks_recurrence_spec=make_recurrence_spec(recurrence_eq=checks_recurrence, indexed=c, index=make_index(n))"
   ]
  },
  {
   "cell_type": "code",
   "execution_count": 5,
   "metadata": {
    "collapsed": false
   },
   "outputs": [],
   "source": [
    "unfolded = do_unfolding_steps(checks_recurrence_spec, steps=4)"
   ]
  },
  {
   "cell_type": "code",
   "execution_count": 6,
   "metadata": {
    "collapsed": false
   },
   "outputs": [
    {
     "data": {
      "text/latex": [
       "$$\\frac{c_{n}}{n + 1} = \\frac{2}{n - 3} + \\frac{c_{n - 5}}{n - 4} + \\frac{2}{n + 1} + \\frac{2}{n} + \\frac{2}{n - 1} + \\frac{2}{n - 2}$$"
      ],
      "text/plain": [
       " c[n]     2     c[n - 5]     2     2     2       2  \n",
       "───── = ───── + ──────── + ───── + ─ + ───── + ─────\n",
       "n + 1   n - 3    n - 4     n + 1   n   n - 1   n - 2"
      ]
     },
     "execution_count": 6,
     "metadata": {},
     "output_type": "execute_result"
    }
   ],
   "source": [
    "unfolded.recurrence_eq"
   ]
  },
  {
   "cell_type": "code",
   "execution_count": 7,
   "metadata": {
    "collapsed": false
   },
   "outputs": [
    {
     "data": {
      "text/latex": [
       "$$\\frac{c_{5}}{6} = c_{0} + \\frac{29}{10}$$"
      ],
      "text/plain": [
       "c[5]          29\n",
       "──── = c[0] + ──\n",
       " 6            10"
      ]
     },
     "execution_count": 7,
     "metadata": {},
     "output_type": "execute_result"
    }
   ],
   "source": [
    "with instantiate_eq(unfolded.recurrence_eq, {n:5}) as instantiated_eq: pass\n",
    "instantiated_eq"
   ]
  },
  {
   "cell_type": "code",
   "execution_count": 16,
   "metadata": {
    "collapsed": false
   },
   "outputs": [
    {
     "data": {
      "text/latex": [
       "$$\\left \\{ \\frac{1}{n} c_{n - 1} : \\frac{c_{n - 2}}{n - 1} + \\frac{2}{n}, \\quad \\frac{c_{n - 4}}{n - 3} : \\frac{2}{n - 3} + \\frac{c_{n - 5}}{n - 4}, \\quad \\frac{c_{n - 3}}{n - 2} : \\frac{2}{n - 2} + \\frac{c_{n - 4}}{n - 3}, \\quad \\frac{c_{n - 2}}{n - 1} : \\frac{2}{n - 1} + \\frac{c_{n - 3}}{n - 2}\\right \\}$$"
      ],
      "text/plain": [
       "⎧c[n - 1]  c[n - 2]   2  c[n - 4]    2     c[n - 5]  c[n - 3]    2     c[n - 4\n",
       "⎨────────: ──────── + ─, ────────: ───── + ────────, ────────: ───── + ───────\n",
       "⎩   n       n - 1     n   n - 3    n - 3    n - 4     n - 2    n - 2    n - 3 \n",
       "\n",
       "]  c[n - 2]    2     c[n - 3]⎫\n",
       "─, ────────: ───── + ────────⎬\n",
       "    n - 1    n - 1    n - 2  ⎭"
      ]
     },
     "execution_count": 16,
     "metadata": {},
     "output_type": "execute_result"
    }
   ],
   "source": [
    "unfolded.terms_cache"
   ]
  },
  {
   "cell_type": "code",
   "execution_count": 17,
   "metadata": {
    "collapsed": false
   },
   "outputs": [
    {
     "data": {
      "text/latex": [
       "$$\\left ( \\frac{c_{5}}{6} = c_{0} + \\frac{29}{10}, \\quad \\left \\{ n : 5\\right \\}, \\quad c, \\quad \\left \\{ \\frac{c_{1}}{2} : c_{0} + 1, \\quad \\frac{c_{2}}{3} : \\frac{c_{1}}{2} + \\frac{2}{3}, \\quad \\frac{c_{3}}{4} : \\frac{c_{2}}{3} + \\frac{1}{2}, \\quad \\frac{c_{4}}{5} : \\frac{c_{3}}{4} + \\frac{2}{5}\\right \\}\\right )$$"
      ],
      "text/plain": [
       "⎛c[5]          29             ⎧c[1]            c[2]  c[1]   2  c[3]  c[2]   1 \n",
       "⎜──── = c[0] + ──, {n: 5}, c, ⎨────: c[0] + 1, ────: ──── + ─, ────: ──── + ─,\n",
       "⎝ 6            10             ⎩ 2               3     2     3   4     3     2 \n",
       "\n",
       " c[4]  c[3]   2⎫⎞\n",
       " ────: ──── + ─⎬⎟\n",
       "  5     4     5⎭⎠"
      ]
     },
     "execution_count": 17,
     "metadata": {},
     "output_type": "execute_result"
    }
   ],
   "source": [
    "based_recurrence_spec = base_instantiation(unfolded, make_index(0), unary_subscripts_subsume_sols)\n",
    "based_recurrence_spec"
   ]
  },
  {
   "cell_type": "code",
   "execution_count": 18,
   "metadata": {
    "collapsed": false
   },
   "outputs": [
    {
     "data": {
      "text/latex": [
       "$$\\left ( \\frac{c_{5}}{6} = \\frac{29}{10}, \\quad \\left \\{ n : 5\\right \\}, \\quad c, \\quad \\left \\{ c_{0} : 0, \\quad \\frac{c_{1}}{2} : 1, \\quad \\frac{c_{2}}{3} : \\frac{5}{3}, \\quad \\frac{c_{3}}{4} : \\frac{13}{6}, \\quad \\frac{c_{4}}{5} : \\frac{77}{30}\\right \\}\\right )$$"
      ],
      "text/plain": [
       "⎛c[5]   29             ⎧         c[1]     c[2]       c[3]        c[4]  77⎫⎞\n",
       "⎜──── = ──, {n: 5}, c, ⎨c[0]: 0, ────: 1, ────: 5/3, ────: 13/6, ────: ──⎬⎟\n",
       "⎝ 6     10             ⎩          2        3          4           5    30⎭⎠"
      ]
     },
     "execution_count": 18,
     "metadata": {},
     "output_type": "execute_result"
    }
   ],
   "source": [
    "boundary_conditions = {c[0]:Integer(0)} # `Integer` object is mandatory, not a vanilla `int`\n",
    "with copy_recurrence_spec(based_recurrence_spec) as rec_spec_for_full_instantiation:\n",
    "    rec_spec_for_full_instantiation.terms_cache.update(boundary_conditions)\n",
    "    fully_instantiated_spec = repeated_instantiating(rec_spec_for_full_instantiation)\n",
    "fully_instantiated_spec"
   ]
  },
  {
   "cell_type": "code",
   "execution_count": 19,
   "metadata": {
    "collapsed": false
   },
   "outputs": [
    {
     "data": {
      "text/latex": [
       "\\begin{array}{c}\\frac{c_{1}}{2} = c_{0} + 1\\\\\n",
       "\\frac{c_{2}}{3} = c_{0} + \\frac{5}{3}\\\\\n",
       "\\frac{c_{3}}{4} = c_{0} + \\frac{13}{6}\\\\\n",
       "\\frac{c_{4}}{5} = c_{0} + \\frac{77}{30}\\\\\n",
       "\\frac{c_{5}}{6} = c_{0} + \\frac{29}{10}\\\\\n",
       "\\frac{c_{6}}{7} = c_{0} + \\frac{223}{70}\\\\\n",
       "\\frac{c_{7}}{8} = c_{0} + \\frac{481}{140}\\\\\n",
       "\\frac{c_{8}}{9} = c_{0} + \\frac{4609}{1260}\\\\\n",
       "\\frac{c_{9}}{10} = c_{0} + \\frac{4861}{1260}\\\\\n",
       "\\frac{c_{10}}{11} = c_{0} + \\frac{55991}{13860}\\\\\\end{array}"
      ],
      "text/plain": [
       "<IPython.core.display.Latex object>"
      ]
     },
     "execution_count": 19,
     "metadata": {},
     "output_type": "execute_result"
    }
   ],
   "source": [
    "ipython_latex(checks_recurrence_spec, times_range=range(10), \n",
    "              base_index=make_index(0), subsume_sols=unary_subscripts_subsume_sols)"
   ]
  },
  {
   "cell_type": "code",
   "execution_count": null,
   "metadata": {
    "collapsed": true
   },
   "outputs": [],
   "source": []
  }
 ],
 "metadata": {
  "kernelspec": {
   "display_name": "Python 3",
   "language": "python",
   "name": "python3"
  },
  "language_info": {
   "codemirror_mode": {
    "name": "ipython",
    "version": 3
   },
   "file_extension": ".py",
   "mimetype": "text/x-python",
   "name": "python",
   "nbconvert_exporter": "python",
   "pygments_lexer": "ipython3",
   "version": "3.5.1"
  }
 },
 "nbformat": 4,
 "nbformat_minor": 0
}
