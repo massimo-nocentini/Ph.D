{
 "cells": [
  {
   "cell_type": "code",
   "execution_count": 1,
   "metadata": {
    "collapsed": true
   },
   "outputs": [],
   "source": [
    "import matplotlib.pyplot as plt\n",
    "import matplotlib.patches as patches\n",
    "\n",
    "import sys\n",
    "import sympy\n",
    "import math\n",
    "from sympy import *\n",
    "from sympy.abc import x, n, z, t, k\n",
    "from sympy.core.cache import *\n",
    "    \n",
    "init_printing(use_latex='mathjax') # for nice printing, a-la' TeX\n",
    "\n",
    "sys.setrecursionlimit(100000)\n",
    "\n",
    "plt.rcParams['figure.figsize'] = (10.0, 10.0)"
   ]
  },
  {
   "cell_type": "code",
   "execution_count": 2,
   "metadata": {
    "collapsed": true
   },
   "outputs": [],
   "source": [
    "c = IndexedBase('c')"
   ]
  },
  {
   "cell_type": "code",
   "execution_count": 9,
   "metadata": {
    "collapsed": false
   },
   "outputs": [
    {
     "data": {
      "text/latex": [
       "$$\\left ( c, \\quad n, \\quad 4\\right )$$"
      ],
      "text/plain": [
       "(c, n, 4)"
      ]
     },
     "execution_count": 9,
     "metadata": {},
     "output_type": "execute_result"
    }
   ],
   "source": [
    "(1*c[n,4]).args"
   ]
  },
  {
   "cell_type": "code",
   "execution_count": 3,
   "metadata": {
    "collapsed": false
   },
   "outputs": [
    {
     "data": {
      "text/latex": [
       "$$\\left \\{ c_{0,0} : c_{3,3}, \\quad c_{1,0} : c_{3,3}, \\quad c_{1,1} : c_{3,3}, \\quad c_{2,0} : 2 c_{3,3}, \\quad c_{2,1} : 2 c_{3,3}, \\quad c_{2,2} : c_{3,3}, \\quad c_{3,0} : 5 c_{3,3}, \\quad c_{3,1} : 5 c_{3,3}, \\quad c_{3,2} : 3 c_{3,3}\\right \\}$$"
      ],
      "text/plain": [
       "{c[0, 0]: c[3, 3], c[1, 0]: c[3, 3], c[1, 1]: c[3, 3], c[2, 0]: 2⋅c[3, 3], c[2\n",
       ", 1]: 2⋅c[3, 3], c[2, 2]: c[3, 3], c[3, 0]: 5⋅c[3, 3], c[3, 1]: 5⋅c[3, 3], c[3\n",
       ", 2]: 3⋅c[3, 3]}"
      ]
     },
     "execution_count": 3,
     "metadata": {},
     "output_type": "execute_result"
    }
   ],
   "source": [
    "eqs=Tuple(#Eq(c[0,0],c[3,3]),\n",
    "      Eq(c[1,0],c[0,0]),\n",
    "      Eq(c[1,1],c[0,0]),\n",
    "      Eq(c[2,0],c[1,0]+c[1,1]),\n",
    "      Eq(c[2,1],c[1,0]+c[1,1]),\n",
    "      Eq(c[2,2],c[1,1]),\n",
    "        Eq(c[3,0],c[2,0]+c[2,1]+c[2,2]),\n",
    "        Eq(c[3,1],c[2,0]+c[2,1]+c[2,2]),\n",
    "        Eq(c[3,2],c[2,1]+c[2,2]),\n",
    "        Eq(c[3,3],c[0,0]),\n",
    "    )\n",
    "solve(eqs, eqs.atoms(Indexed) )\n",
    "      #[c[0,0],c[1,0],c[2,0],c[3,0]], check=True)\n",
    "      #exclude=[c[3,0],c[3,1],c[3,2],c[3,3]], check=True)\n",
    "      #[c[0,0],c[1,1],c[2,2],c[3,3]])\n",
    "      #check=True, implicit=True)"
   ]
  },
  {
   "cell_type": "code",
   "execution_count": 4,
   "metadata": {
    "collapsed": false
   },
   "outputs": [
    {
     "data": {
      "text/latex": [
       "$$\\left [ \\left \\{ c_{3,0} : c_{4,1} - c_{4,2}, \\quad c_{3,1} : c_{4,2} - c_{4,3}, \\quad c_{3,2} : c_{4,3} - c_{4,4}, \\quad c_{3,3} : c_{4,4}, \\quad c_{4,0} : c_{4,1}\\right \\}\\right ]$$"
      ],
      "text/plain": [
       "[{c[3, 0]: c[4, 1] - c[4, 2], c[3, 1]: c[4, 2] - c[4, 3], c[3, 2]: c[4, 3] - c\n",
       "[4, 4], c[3, 3]: c[4, 4], c[4, 0]: c[4, 1]}]"
      ]
     },
     "execution_count": 4,
     "metadata": {},
     "output_type": "execute_result"
    }
   ],
   "source": [
    "solve([#Eq(c[0,0],c[3,3]),\n",
    "      Eq(c[4,0],c[3,0]+c[3,1]+c[3,2]+c[3,3]),\n",
    "      Eq(c[4,1],c[3,0]+c[3,1]+c[3,2]+c[3,3]),\n",
    "      Eq(c[4,2],c[3,1]+c[3,2]+c[3,3]),\n",
    "      Eq(c[4,3],c[3,2]+c[3,3]),\n",
    "      Eq(c[4,4],c[3,3]),  \n",
    "    ], check=True\n",
    "      #[c[0,0],c[1,0],c[2,0],c[3,0]], check=True)\n",
    "      #exclude=[c[3,0],c[3,1],c[3,2],c[3,3]], check=True)\n",
    "      #[c[3,0],c[3,1],c[3,2],c[3,3]])\n",
    "      #check=True, implicit=True)\n",
    "      )"
   ]
  },
  {
   "cell_type": "code",
   "execution_count": 7,
   "metadata": {
    "collapsed": false
   },
   "outputs": [
    {
     "data": {
      "text/latex": [
       "$$\\left [ \\left \\{ c_{0,0} : c_{1,1}, \\quad c_{1,0} : c_{1,1}\\right \\}\\right ]$$"
      ],
      "text/plain": [
       "[{c[0, 0]: c[1, 1], c[1, 0]: c[1, 1]}]"
      ]
     },
     "execution_count": 7,
     "metadata": {},
     "output_type": "execute_result"
    }
   ],
   "source": [
    "solve([#Eq(c[0,0],c[3,3]),\n",
    "      Eq(c[1,0],c[0,0]),\n",
    "      Eq(c[1,1],c[0,0])\n",
    "    ], check=True\n",
    "      #[c[0,0],c[1,0],c[2,0],c[3,0]], check=True)\n",
    "      #exclude=[c[3,0],c[3,1],c[3,2],c[3,3]], check=True)\n",
    "      #[c[3,0],c[3,1],c[3,2],c[3,3]])\n",
    "      #check=True, implicit=True)\n",
    "      )"
   ]
  },
  {
   "cell_type": "code",
   "execution_count": 3,
   "metadata": {
    "collapsed": true
   },
   "outputs": [],
   "source": [
    "def catalan_gf(t): return (1-sqrt(1-4*t))/(2*t)"
   ]
  },
  {
   "cell_type": "code",
   "execution_count": 5,
   "metadata": {
    "collapsed": false
   },
   "outputs": [],
   "source": [
    "catalan_series = catalan_gf(t).series(t, n=15)"
   ]
  },
  {
   "cell_type": "code",
   "execution_count": 6,
   "metadata": {
    "collapsed": false
   },
   "outputs": [
    {
     "data": {
      "text/latex": [
       "$$\\left [ 1, \\quad 1, \\quad 2, \\quad 5, \\quad 14, \\quad 42, \\quad 132, \\quad 429, \\quad 1430, \\quad 4862, \\quad 16796, \\quad 58786, \\quad 208012, \\quad 742900, \\quad 2674440\\right ]$$"
      ],
      "text/plain": [
       "[1, 1, 2, 5, 14, 42, 132, 429, 1430, 4862, 16796, 58786, 208012, 742900, 26744\n",
       "40]"
      ]
     },
     "execution_count": 6,
     "metadata": {},
     "output_type": "execute_result"
    }
   ],
   "source": [
    "[catalan_series.coeff(t,n=i) for i in range(15)]"
   ]
  },
  {
   "cell_type": "code",
   "execution_count": null,
   "metadata": {
    "collapsed": true
   },
   "outputs": [],
   "source": []
  }
 ],
 "metadata": {
  "kernelspec": {
   "display_name": "Python 3",
   "language": "python",
   "name": "python3"
  },
  "language_info": {
   "codemirror_mode": {
    "name": "ipython",
    "version": 3
   },
   "file_extension": ".py",
   "mimetype": "text/x-python",
   "name": "python",
   "nbconvert_exporter": "python",
   "pygments_lexer": "ipython3",
   "version": "3.5.1"
  }
 },
 "nbformat": 4,
 "nbformat_minor": 0
}
